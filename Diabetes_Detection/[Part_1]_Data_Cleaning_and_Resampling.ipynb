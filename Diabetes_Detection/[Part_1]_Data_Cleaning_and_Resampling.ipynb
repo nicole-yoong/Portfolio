{
  "cells": [
    {
      "cell_type": "markdown",
      "metadata": {
        "id": "view-in-github",
        "colab_type": "text"
      },
      "source": [
        "<a href=\"https://colab.research.google.com/github/nicole-yoong/Portfolio/blob/main/Diabetes_Detection/%5BPart_1%5D_Data_Cleaning_and_Resampling.ipynb\" target=\"_parent\"><img src=\"https://colab.research.google.com/assets/colab-badge.svg\" alt=\"Open In Colab\"/></a>"
      ]
    },
    {
      "cell_type": "code",
      "execution_count": null,
      "metadata": {
        "colab": {
          "base_uri": "https://localhost:8080/"
        },
        "id": "mgNOWcoZIVYP",
        "outputId": "45b7337c-bc80-4f88-9cfd-6691203a63f3"
      },
      "outputs": [
        {
          "output_type": "stream",
          "name": "stdout",
          "text": [
            "Setup complete.\n"
          ]
        }
      ],
      "source": [
        "import pandas as pd\n",
        "import numpy as np\n",
        "pd.plotting.register_matplotlib_converters()\n",
        "import matplotlib.pyplot as plt\n",
        "%matplotlib inline\n",
        "import seaborn as sns\n",
        "pd.set_option('display.max_rows', None)\n",
        "\n",
        "from sklearn.preprocessing import StandardScaler, MinMaxScaler\n",
        "from sklearn.decomposition import PCA\n",
        "from sklearn.pipeline import Pipeline\n",
        "\n",
        "from sklearn.linear_model import LogisticRegression\n",
        "from sklearn.linear_model import PassiveAggressiveClassifier\n",
        "from sklearn.linear_model import RidgeClassifierCV\n",
        "from sklearn.linear_model import SGDClassifier\n",
        "from sklearn.linear_model import Perceptron\n",
        "\n",
        "from sklearn.tree import DecisionTreeClassifier\n",
        "from sklearn.tree import ExtraTreeClassifier\n",
        "\n",
        "from sklearn.ensemble import RandomForestClassifier\n",
        "from sklearn.ensemble import ExtraTreesClassifier\n",
        "from sklearn.ensemble import BaggingClassifier\n",
        "\n",
        "from sklearn.model_selection import train_test_split\n",
        "from sklearn.model_selection import GridSearchCV\n",
        "from sklearn.model_selection import RandomizedSearchCV\n",
        "from sklearn.metrics import classification_report, confusion_matrix\n",
        "from sklearn.model_selection import cross_validate\n",
        "from sklearn.model_selection import cross_val_score\n",
        "from sklearn.model_selection import ShuffleSplit\n",
        "from sklearn.model_selection import KFold\n",
        "from sklearn.model_selection import RepeatedStratifiedKFold\n",
        "\n",
        "from sklearn.naive_bayes import GaussianNB\n",
        "\n",
        "from sklearn.ensemble import BaggingClassifier\n",
        "from sklearn.neighbors import KNeighborsClassifier\n",
        "from numpy import mean\n",
        "from numpy import std\n",
        "\n",
        "import time\n",
        "print(\"Setup complete.\")"
      ]
    },
    {
      "cell_type": "markdown",
      "metadata": {
        "id": "8R91LH4NIeqm"
      },
      "source": [
        "# Loading data"
      ]
    },
    {
      "cell_type": "code",
      "execution_count": null,
      "metadata": {
        "colab": {
          "base_uri": "https://localhost:8080/",
          "height": 300
        },
        "id": "EWU58-riHuY4",
        "outputId": "c6570b67-75b3-494a-b421-25dcf2237f0b"
      },
      "outputs": [
        {
          "output_type": "execute_result",
          "data": {
            "text/plain": [
              "   encounter_id  hospital_id gender  ethnicity   age  elective_surgery  \\\n",
              "0        214826          118      M  Caucasian  68.0                 0   \n",
              "1        276985          118      F  Caucasian  25.0                 0   \n",
              "2        262220          118      F  Caucasian  81.0                 1   \n",
              "3        201746           33      M  Caucasian  19.0                 0   \n",
              "4        246060           81      F  Caucasian  77.0                 0   \n",
              "\n",
              "   height  weight        bmi  readmission_status  ... map_apache  aids  \\\n",
              "0   180.3    73.9  22.732803                   0  ...       40.0     0   \n",
              "1   172.7    95.3  31.952749                   0  ...       68.0     0   \n",
              "2   165.1    61.7  22.635548                   0  ...       60.0     0   \n",
              "3   188.0     NaN        NaN                   0  ...      103.0     0   \n",
              "4   160.0    70.2  27.421875                   0  ...       46.0     0   \n",
              "\n",
              "   cirrhosis  hepatic_failure  immunosuppression  leukemia  lymphoma  \\\n",
              "0          0                0                  0         0         0   \n",
              "1          0                0                  0         0         0   \n",
              "2          0                0                  0         0         0   \n",
              "3          0                0                  0         0         0   \n",
              "4          0                0                  0         0         0   \n",
              "\n",
              "   solid_tumor_with_metastasis  ventilated_apache  diabetes_mellitus  \n",
              "0                            0                  0                  1  \n",
              "1                            0                  0                  0  \n",
              "2                            0                  1                  0  \n",
              "3                            0                  0                  0  \n",
              "4                            0                  1                  1  \n",
              "\n",
              "[5 rows x 88 columns]"
            ],
            "text/html": [
              "\n",
              "  <div id=\"df-205b5e0f-2803-4638-a9c0-be6c42c9a04a\">\n",
              "    <div class=\"colab-df-container\">\n",
              "      <div>\n",
              "<style scoped>\n",
              "    .dataframe tbody tr th:only-of-type {\n",
              "        vertical-align: middle;\n",
              "    }\n",
              "\n",
              "    .dataframe tbody tr th {\n",
              "        vertical-align: top;\n",
              "    }\n",
              "\n",
              "    .dataframe thead th {\n",
              "        text-align: right;\n",
              "    }\n",
              "</style>\n",
              "<table border=\"1\" class=\"dataframe\">\n",
              "  <thead>\n",
              "    <tr style=\"text-align: right;\">\n",
              "      <th></th>\n",
              "      <th>encounter_id</th>\n",
              "      <th>hospital_id</th>\n",
              "      <th>gender</th>\n",
              "      <th>ethnicity</th>\n",
              "      <th>age</th>\n",
              "      <th>elective_surgery</th>\n",
              "      <th>height</th>\n",
              "      <th>weight</th>\n",
              "      <th>bmi</th>\n",
              "      <th>readmission_status</th>\n",
              "      <th>...</th>\n",
              "      <th>map_apache</th>\n",
              "      <th>aids</th>\n",
              "      <th>cirrhosis</th>\n",
              "      <th>hepatic_failure</th>\n",
              "      <th>immunosuppression</th>\n",
              "      <th>leukemia</th>\n",
              "      <th>lymphoma</th>\n",
              "      <th>solid_tumor_with_metastasis</th>\n",
              "      <th>ventilated_apache</th>\n",
              "      <th>diabetes_mellitus</th>\n",
              "    </tr>\n",
              "  </thead>\n",
              "  <tbody>\n",
              "    <tr>\n",
              "      <th>0</th>\n",
              "      <td>214826</td>\n",
              "      <td>118</td>\n",
              "      <td>M</td>\n",
              "      <td>Caucasian</td>\n",
              "      <td>68.0</td>\n",
              "      <td>0</td>\n",
              "      <td>180.3</td>\n",
              "      <td>73.9</td>\n",
              "      <td>22.732803</td>\n",
              "      <td>0</td>\n",
              "      <td>...</td>\n",
              "      <td>40.0</td>\n",
              "      <td>0</td>\n",
              "      <td>0</td>\n",
              "      <td>0</td>\n",
              "      <td>0</td>\n",
              "      <td>0</td>\n",
              "      <td>0</td>\n",
              "      <td>0</td>\n",
              "      <td>0</td>\n",
              "      <td>1</td>\n",
              "    </tr>\n",
              "    <tr>\n",
              "      <th>1</th>\n",
              "      <td>276985</td>\n",
              "      <td>118</td>\n",
              "      <td>F</td>\n",
              "      <td>Caucasian</td>\n",
              "      <td>25.0</td>\n",
              "      <td>0</td>\n",
              "      <td>172.7</td>\n",
              "      <td>95.3</td>\n",
              "      <td>31.952749</td>\n",
              "      <td>0</td>\n",
              "      <td>...</td>\n",
              "      <td>68.0</td>\n",
              "      <td>0</td>\n",
              "      <td>0</td>\n",
              "      <td>0</td>\n",
              "      <td>0</td>\n",
              "      <td>0</td>\n",
              "      <td>0</td>\n",
              "      <td>0</td>\n",
              "      <td>0</td>\n",
              "      <td>0</td>\n",
              "    </tr>\n",
              "    <tr>\n",
              "      <th>2</th>\n",
              "      <td>262220</td>\n",
              "      <td>118</td>\n",
              "      <td>F</td>\n",
              "      <td>Caucasian</td>\n",
              "      <td>81.0</td>\n",
              "      <td>1</td>\n",
              "      <td>165.1</td>\n",
              "      <td>61.7</td>\n",
              "      <td>22.635548</td>\n",
              "      <td>0</td>\n",
              "      <td>...</td>\n",
              "      <td>60.0</td>\n",
              "      <td>0</td>\n",
              "      <td>0</td>\n",
              "      <td>0</td>\n",
              "      <td>0</td>\n",
              "      <td>0</td>\n",
              "      <td>0</td>\n",
              "      <td>0</td>\n",
              "      <td>1</td>\n",
              "      <td>0</td>\n",
              "    </tr>\n",
              "    <tr>\n",
              "      <th>3</th>\n",
              "      <td>201746</td>\n",
              "      <td>33</td>\n",
              "      <td>M</td>\n",
              "      <td>Caucasian</td>\n",
              "      <td>19.0</td>\n",
              "      <td>0</td>\n",
              "      <td>188.0</td>\n",
              "      <td>NaN</td>\n",
              "      <td>NaN</td>\n",
              "      <td>0</td>\n",
              "      <td>...</td>\n",
              "      <td>103.0</td>\n",
              "      <td>0</td>\n",
              "      <td>0</td>\n",
              "      <td>0</td>\n",
              "      <td>0</td>\n",
              "      <td>0</td>\n",
              "      <td>0</td>\n",
              "      <td>0</td>\n",
              "      <td>0</td>\n",
              "      <td>0</td>\n",
              "    </tr>\n",
              "    <tr>\n",
              "      <th>4</th>\n",
              "      <td>246060</td>\n",
              "      <td>81</td>\n",
              "      <td>F</td>\n",
              "      <td>Caucasian</td>\n",
              "      <td>77.0</td>\n",
              "      <td>0</td>\n",
              "      <td>160.0</td>\n",
              "      <td>70.2</td>\n",
              "      <td>27.421875</td>\n",
              "      <td>0</td>\n",
              "      <td>...</td>\n",
              "      <td>46.0</td>\n",
              "      <td>0</td>\n",
              "      <td>0</td>\n",
              "      <td>0</td>\n",
              "      <td>0</td>\n",
              "      <td>0</td>\n",
              "      <td>0</td>\n",
              "      <td>0</td>\n",
              "      <td>1</td>\n",
              "      <td>1</td>\n",
              "    </tr>\n",
              "  </tbody>\n",
              "</table>\n",
              "<p>5 rows × 88 columns</p>\n",
              "</div>\n",
              "      <button class=\"colab-df-convert\" onclick=\"convertToInteractive('df-205b5e0f-2803-4638-a9c0-be6c42c9a04a')\"\n",
              "              title=\"Convert this dataframe to an interactive table.\"\n",
              "              style=\"display:none;\">\n",
              "        \n",
              "  <svg xmlns=\"http://www.w3.org/2000/svg\" height=\"24px\"viewBox=\"0 0 24 24\"\n",
              "       width=\"24px\">\n",
              "    <path d=\"M0 0h24v24H0V0z\" fill=\"none\"/>\n",
              "    <path d=\"M18.56 5.44l.94 2.06.94-2.06 2.06-.94-2.06-.94-.94-2.06-.94 2.06-2.06.94zm-11 1L8.5 8.5l.94-2.06 2.06-.94-2.06-.94L8.5 2.5l-.94 2.06-2.06.94zm10 10l.94 2.06.94-2.06 2.06-.94-2.06-.94-.94-2.06-.94 2.06-2.06.94z\"/><path d=\"M17.41 7.96l-1.37-1.37c-.4-.4-.92-.59-1.43-.59-.52 0-1.04.2-1.43.59L10.3 9.45l-7.72 7.72c-.78.78-.78 2.05 0 2.83L4 21.41c.39.39.9.59 1.41.59.51 0 1.02-.2 1.41-.59l7.78-7.78 2.81-2.81c.8-.78.8-2.07 0-2.86zM5.41 20L4 18.59l7.72-7.72 1.47 1.35L5.41 20z\"/>\n",
              "  </svg>\n",
              "      </button>\n",
              "      \n",
              "  <style>\n",
              "    .colab-df-container {\n",
              "      display:flex;\n",
              "      flex-wrap:wrap;\n",
              "      gap: 12px;\n",
              "    }\n",
              "\n",
              "    .colab-df-convert {\n",
              "      background-color: #E8F0FE;\n",
              "      border: none;\n",
              "      border-radius: 50%;\n",
              "      cursor: pointer;\n",
              "      display: none;\n",
              "      fill: #1967D2;\n",
              "      height: 32px;\n",
              "      padding: 0 0 0 0;\n",
              "      width: 32px;\n",
              "    }\n",
              "\n",
              "    .colab-df-convert:hover {\n",
              "      background-color: #E2EBFA;\n",
              "      box-shadow: 0px 1px 2px rgba(60, 64, 67, 0.3), 0px 1px 3px 1px rgba(60, 64, 67, 0.15);\n",
              "      fill: #174EA6;\n",
              "    }\n",
              "\n",
              "    [theme=dark] .colab-df-convert {\n",
              "      background-color: #3B4455;\n",
              "      fill: #D2E3FC;\n",
              "    }\n",
              "\n",
              "    [theme=dark] .colab-df-convert:hover {\n",
              "      background-color: #434B5C;\n",
              "      box-shadow: 0px 1px 3px 1px rgba(0, 0, 0, 0.15);\n",
              "      filter: drop-shadow(0px 1px 2px rgba(0, 0, 0, 0.3));\n",
              "      fill: #FFFFFF;\n",
              "    }\n",
              "  </style>\n",
              "\n",
              "      <script>\n",
              "        const buttonEl =\n",
              "          document.querySelector('#df-205b5e0f-2803-4638-a9c0-be6c42c9a04a button.colab-df-convert');\n",
              "        buttonEl.style.display =\n",
              "          google.colab.kernel.accessAllowed ? 'block' : 'none';\n",
              "\n",
              "        async function convertToInteractive(key) {\n",
              "          const element = document.querySelector('#df-205b5e0f-2803-4638-a9c0-be6c42c9a04a');\n",
              "          const dataTable =\n",
              "            await google.colab.kernel.invokeFunction('convertToInteractive',\n",
              "                                                     [key], {});\n",
              "          if (!dataTable) return;\n",
              "\n",
              "          const docLinkHtml = 'Like what you see? Visit the ' +\n",
              "            '<a target=\"_blank\" href=https://colab.research.google.com/notebooks/data_table.ipynb>data table notebook</a>'\n",
              "            + ' to learn more about interactive tables.';\n",
              "          element.innerHTML = '';\n",
              "          dataTable['output_type'] = 'display_data';\n",
              "          await google.colab.output.renderOutput(dataTable, element);\n",
              "          const docLink = document.createElement('div');\n",
              "          docLink.innerHTML = docLinkHtml;\n",
              "          element.appendChild(docLink);\n",
              "        }\n",
              "      </script>\n",
              "    </div>\n",
              "  </div>\n",
              "  "
            ]
          },
          "metadata": {},
          "execution_count": 2
        }
      ],
      "source": [
        "df = pd.read_csv('/content/DiabetesClassificationDataset2022.csv')\n",
        "df.head(5)"
      ]
    },
    {
      "cell_type": "markdown",
      "metadata": {
        "id": "TVXAX_ZNIgt1"
      },
      "source": [
        "# Data exploration\n",
        "\n",
        "Download the dataset and prepare a summary of the features available on the \n",
        "dataset including data type (numerical/ categorical), amount of missing data in \n",
        "individual fields. This can be included as an appendix.\n"
      ]
    },
    {
      "cell_type": "code",
      "execution_count": null,
      "metadata": {
        "colab": {
          "base_uri": "https://localhost:8080/"
        },
        "id": "do6tpEJZIiRr",
        "outputId": "5435fa8b-5643-472e-828b-6b34d9a58f5d"
      },
      "outputs": [
        {
          "output_type": "stream",
          "name": "stdout",
          "text": [
            "<class 'pandas.core.frame.DataFrame'>\n",
            "RangeIndex: 79159 entries, 0 to 79158\n",
            "Data columns (total 88 columns):\n",
            " #   Column                       Non-Null Count  Dtype  \n",
            "---  ------                       --------------  -----  \n",
            " 0   encounter_id                 79159 non-null  int64  \n",
            " 1   hospital_id                  79159 non-null  int64  \n",
            " 2   gender                       79129 non-null  object \n",
            " 3   ethnicity                    78198 non-null  object \n",
            " 4   age                          76317 non-null  float64\n",
            " 5   elective_surgery             79159 non-null  int64  \n",
            " 6   height                       77978 non-null  float64\n",
            " 7   weight                       77086 non-null  float64\n",
            " 8   bmi                          76468 non-null  float64\n",
            " 9   readmission_status           79159 non-null  int64  \n",
            " 10  icu_type                     79159 non-null  object \n",
            " 11  h1_temp_max                  61223 non-null  float64\n",
            " 12  h1_temp_min                  61223 non-null  float64\n",
            " 13  d1_albumin_max               36066 non-null  float64\n",
            " 14  d1_albumin_min               36066 non-null  float64\n",
            " 15  d1_bilirubin_max             32682 non-null  float64\n",
            " 16  d1_bilirubin_min             32682 non-null  float64\n",
            " 17  d1_bun_max                   71249 non-null  float64\n",
            " 18  d1_bun_min                   71249 non-null  float64\n",
            " 19  d1_glucose_min               74800 non-null  float64\n",
            " 20  d1_hco3_max                  67258 non-null  float64\n",
            " 21  d1_hco3_min                  67258 non-null  float64\n",
            " 22  d1_inr_max                   29693 non-null  float64\n",
            " 23  d1_inr_min                   29693 non-null  float64\n",
            " 24  d1_lactate_max               21350 non-null  float64\n",
            " 25  d1_lactate_min               21350 non-null  float64\n",
            " 26  d1_platelets_max             67993 non-null  float64\n",
            " 27  d1_platelets_min             67993 non-null  float64\n",
            " 28  d1_potassium_max             71972 non-null  float64\n",
            " 29  d1_potassium_min             71972 non-null  float64\n",
            " 30  d1_sodium_max                71544 non-null  float64\n",
            " 31  d1_sodium_min                71544 non-null  float64\n",
            " 32  d1_wbc_max                   68680 non-null  float64\n",
            " 33  d1_wbc_min                   68680 non-null  float64\n",
            " 34  h1_albumin_max               6888 non-null   float64\n",
            " 35  h1_albumin_min               6888 non-null   float64\n",
            " 36  h1_bilirubin_max             6310 non-null   float64\n",
            " 37  h1_bilirubin_min             6310 non-null   float64\n",
            " 38  h1_bun_max                   15753 non-null  float64\n",
            " 39  h1_bun_min                   15753 non-null  float64\n",
            " 40  h1_calcium_max               15196 non-null  float64\n",
            " 41  h1_calcium_min               15196 non-null  float64\n",
            " 42  h1_creatinine_max            15884 non-null  float64\n",
            " 43  h1_creatinine_min            15884 non-null  float64\n",
            " 44  h1_glucose_max               35387 non-null  float64\n",
            " 45  h1_glucose_min               35387 non-null  float64\n",
            " 46  h1_hco3_max                  14808 non-null  float64\n",
            " 47  h1_hco3_min                  14808 non-null  float64\n",
            " 48  h1_hematocrit_max            16616 non-null  float64\n",
            " 49  h1_hematocrit_min            16616 non-null  float64\n",
            " 50  h1_inr_max                   29693 non-null  float64\n",
            " 51  h1_inr_min                   29693 non-null  float64\n",
            " 52  h1_lactate_max               7174 non-null   float64\n",
            " 53  h1_lactate_min               7174 non-null   float64\n",
            " 54  h1_sodium_max                17763 non-null  float64\n",
            " 55  h1_sodium_min                17763 non-null  float64\n",
            " 56  d1_arterial_po2_max          28333 non-null  float64\n",
            " 57  d1_arterial_po2_min          28333 non-null  float64\n",
            " 58  d1_pao2fio2ratio_max         22583 non-null  float64\n",
            " 59  d1_pao2fio2ratio_min         22583 non-null  float64\n",
            " 60  h1_arterial_pco2_max         13872 non-null  float64\n",
            " 61  h1_arterial_pco2_min         13872 non-null  float64\n",
            " 62  h1_arterial_ph_max           13770 non-null  float64\n",
            " 63  h1_arterial_ph_min           13770 non-null  float64\n",
            " 64  h1_arterial_po2_max          14017 non-null  float64\n",
            " 65  h1_arterial_po2_min          14017 non-null  float64\n",
            " 66  h1_pao2fio2ratio_max         10343 non-null  float64\n",
            " 67  h1_pao2fio2ratio_min         10343 non-null  float64\n",
            " 68  wbc_apache                   61408 non-null  float64\n",
            " 69  intubated_apache             79159 non-null  int64  \n",
            " 70  d1_heartrate_max             79014 non-null  float64\n",
            " 71  heart_rate_apache            79003 non-null  float64\n",
            " 72  gcs_motor_apache             77935 non-null  float64\n",
            " 73  gcs_eyes_apache              77935 non-null  float64\n",
            " 74  creatinine_apache            64575 non-null  float64\n",
            " 75  bilirubin_apache             29109 non-null  float64\n",
            " 76  h1_spo2_max                  75355 non-null  float64\n",
            " 77  paco2_apache                 18540 non-null  float64\n",
            " 78  map_apache                   78931 non-null  float64\n",
            " 79  aids                         79159 non-null  int64  \n",
            " 80  cirrhosis                    79159 non-null  int64  \n",
            " 81  hepatic_failure              79159 non-null  int64  \n",
            " 82  immunosuppression            79159 non-null  int64  \n",
            " 83  leukemia                     79159 non-null  int64  \n",
            " 84  lymphoma                     79159 non-null  int64  \n",
            " 85  solid_tumor_with_metastasis  79159 non-null  int64  \n",
            " 86  ventilated_apache            79159 non-null  int64  \n",
            " 87  diabetes_mellitus            79159 non-null  int64  \n",
            "dtypes: float64(71), int64(14), object(3)\n",
            "memory usage: 53.1+ MB\n"
          ]
        },
        {
          "output_type": "execute_result",
          "data": {
            "text/plain": [
              "(79159, 88)"
            ]
          },
          "metadata": {},
          "execution_count": 3
        }
      ],
      "source": [
        "df.info()\n",
        "df.shape"
      ]
    },
    {
      "cell_type": "code",
      "execution_count": null,
      "metadata": {
        "colab": {
          "base_uri": "https://localhost:8080/",
          "height": 394
        },
        "id": "BIN-MXH57FJy",
        "outputId": "196b170c-a3e2-4b30-ac4d-cb5849778815"
      },
      "outputs": [
        {
          "output_type": "execute_result",
          "data": {
            "text/plain": [
              "        encounter_id   hospital_id           age  elective_surgery  \\\n",
              "count   79159.000000  79159.000000  76317.000000      79159.000000   \n",
              "mean   212863.726740    106.188620     62.452389          0.189404   \n",
              "std     38113.816591     63.776527     16.446715          0.391831   \n",
              "min    147001.000000      1.000000      0.000000          0.000000   \n",
              "25%    179772.000000     49.000000     53.000000          0.000000   \n",
              "50%    212864.000000    112.000000     65.000000          0.000000   \n",
              "75%    245812.000000    165.000000     75.000000          0.000000   \n",
              "max    278997.000000    204.000000     89.000000          1.000000   \n",
              "\n",
              "             height        weight           bmi  readmission_status  \\\n",
              "count  77978.000000  77086.000000  76468.000000             79159.0   \n",
              "mean     169.565316     85.114552     29.600786                 0.0   \n",
              "std       10.835017     25.465505      8.487987                 0.0   \n",
              "min      137.200000     38.600000     14.844926                 0.0   \n",
              "25%      162.500000     67.700000     23.875433                 0.0   \n",
              "50%      170.000000     81.600000     28.029903                 0.0   \n",
              "75%      177.800000     98.400000     33.420162                 0.0   \n",
              "max      195.590000    186.000000     67.814990                 0.0   \n",
              "\n",
              "        h1_temp_max   h1_temp_min  ...    map_apache          aids  \\\n",
              "count  61223.000000  61223.000000  ...  78931.000000  79159.000000   \n",
              "mean      36.721315     36.612966  ...     87.278128      0.000834   \n",
              "std        0.771686      0.795767  ...     42.058748      0.028863   \n",
              "min       33.400000     32.900000  ...     40.000000      0.000000   \n",
              "25%       36.400000     36.300000  ...     53.000000      0.000000   \n",
              "50%       36.700000     36.700000  ...     66.000000      0.000000   \n",
              "75%       37.100000     37.000000  ...    124.000000      0.000000   \n",
              "max       39.500000     39.300000  ...    200.000000      1.000000   \n",
              "\n",
              "          cirrhosis  hepatic_failure  immunosuppression      leukemia  \\\n",
              "count  79159.000000     79159.000000       79159.000000  79159.000000   \n",
              "mean       0.016713         0.013744           0.025379      0.007327   \n",
              "std        0.128195         0.116429           0.157275      0.085284   \n",
              "min        0.000000         0.000000           0.000000      0.000000   \n",
              "25%        0.000000         0.000000           0.000000      0.000000   \n",
              "50%        0.000000         0.000000           0.000000      0.000000   \n",
              "75%        0.000000         0.000000           0.000000      0.000000   \n",
              "max        1.000000         1.000000           1.000000      1.000000   \n",
              "\n",
              "           lymphoma  solid_tumor_with_metastasis  ventilated_apache  \\\n",
              "count  79159.000000                 79159.000000       79159.000000   \n",
              "mean       0.004080                     0.020781           0.332243   \n",
              "std        0.063748                     0.142651           0.471020   \n",
              "min        0.000000                     0.000000           0.000000   \n",
              "25%        0.000000                     0.000000           0.000000   \n",
              "50%        0.000000                     0.000000           0.000000   \n",
              "75%        0.000000                     0.000000           1.000000   \n",
              "max        1.000000                     1.000000           1.000000   \n",
              "\n",
              "       diabetes_mellitus  \n",
              "count       79159.000000  \n",
              "mean            0.355639  \n",
              "std             0.478709  \n",
              "min             0.000000  \n",
              "25%             0.000000  \n",
              "50%             0.000000  \n",
              "75%             1.000000  \n",
              "max             1.000000  \n",
              "\n",
              "[8 rows x 85 columns]"
            ],
            "text/html": [
              "\n",
              "  <div id=\"df-387c1eff-aca9-451b-9a10-effec0843e33\">\n",
              "    <div class=\"colab-df-container\">\n",
              "      <div>\n",
              "<style scoped>\n",
              "    .dataframe tbody tr th:only-of-type {\n",
              "        vertical-align: middle;\n",
              "    }\n",
              "\n",
              "    .dataframe tbody tr th {\n",
              "        vertical-align: top;\n",
              "    }\n",
              "\n",
              "    .dataframe thead th {\n",
              "        text-align: right;\n",
              "    }\n",
              "</style>\n",
              "<table border=\"1\" class=\"dataframe\">\n",
              "  <thead>\n",
              "    <tr style=\"text-align: right;\">\n",
              "      <th></th>\n",
              "      <th>encounter_id</th>\n",
              "      <th>hospital_id</th>\n",
              "      <th>age</th>\n",
              "      <th>elective_surgery</th>\n",
              "      <th>height</th>\n",
              "      <th>weight</th>\n",
              "      <th>bmi</th>\n",
              "      <th>readmission_status</th>\n",
              "      <th>h1_temp_max</th>\n",
              "      <th>h1_temp_min</th>\n",
              "      <th>...</th>\n",
              "      <th>map_apache</th>\n",
              "      <th>aids</th>\n",
              "      <th>cirrhosis</th>\n",
              "      <th>hepatic_failure</th>\n",
              "      <th>immunosuppression</th>\n",
              "      <th>leukemia</th>\n",
              "      <th>lymphoma</th>\n",
              "      <th>solid_tumor_with_metastasis</th>\n",
              "      <th>ventilated_apache</th>\n",
              "      <th>diabetes_mellitus</th>\n",
              "    </tr>\n",
              "  </thead>\n",
              "  <tbody>\n",
              "    <tr>\n",
              "      <th>count</th>\n",
              "      <td>79159.000000</td>\n",
              "      <td>79159.000000</td>\n",
              "      <td>76317.000000</td>\n",
              "      <td>79159.000000</td>\n",
              "      <td>77978.000000</td>\n",
              "      <td>77086.000000</td>\n",
              "      <td>76468.000000</td>\n",
              "      <td>79159.0</td>\n",
              "      <td>61223.000000</td>\n",
              "      <td>61223.000000</td>\n",
              "      <td>...</td>\n",
              "      <td>78931.000000</td>\n",
              "      <td>79159.000000</td>\n",
              "      <td>79159.000000</td>\n",
              "      <td>79159.000000</td>\n",
              "      <td>79159.000000</td>\n",
              "      <td>79159.000000</td>\n",
              "      <td>79159.000000</td>\n",
              "      <td>79159.000000</td>\n",
              "      <td>79159.000000</td>\n",
              "      <td>79159.000000</td>\n",
              "    </tr>\n",
              "    <tr>\n",
              "      <th>mean</th>\n",
              "      <td>212863.726740</td>\n",
              "      <td>106.188620</td>\n",
              "      <td>62.452389</td>\n",
              "      <td>0.189404</td>\n",
              "      <td>169.565316</td>\n",
              "      <td>85.114552</td>\n",
              "      <td>29.600786</td>\n",
              "      <td>0.0</td>\n",
              "      <td>36.721315</td>\n",
              "      <td>36.612966</td>\n",
              "      <td>...</td>\n",
              "      <td>87.278128</td>\n",
              "      <td>0.000834</td>\n",
              "      <td>0.016713</td>\n",
              "      <td>0.013744</td>\n",
              "      <td>0.025379</td>\n",
              "      <td>0.007327</td>\n",
              "      <td>0.004080</td>\n",
              "      <td>0.020781</td>\n",
              "      <td>0.332243</td>\n",
              "      <td>0.355639</td>\n",
              "    </tr>\n",
              "    <tr>\n",
              "      <th>std</th>\n",
              "      <td>38113.816591</td>\n",
              "      <td>63.776527</td>\n",
              "      <td>16.446715</td>\n",
              "      <td>0.391831</td>\n",
              "      <td>10.835017</td>\n",
              "      <td>25.465505</td>\n",
              "      <td>8.487987</td>\n",
              "      <td>0.0</td>\n",
              "      <td>0.771686</td>\n",
              "      <td>0.795767</td>\n",
              "      <td>...</td>\n",
              "      <td>42.058748</td>\n",
              "      <td>0.028863</td>\n",
              "      <td>0.128195</td>\n",
              "      <td>0.116429</td>\n",
              "      <td>0.157275</td>\n",
              "      <td>0.085284</td>\n",
              "      <td>0.063748</td>\n",
              "      <td>0.142651</td>\n",
              "      <td>0.471020</td>\n",
              "      <td>0.478709</td>\n",
              "    </tr>\n",
              "    <tr>\n",
              "      <th>min</th>\n",
              "      <td>147001.000000</td>\n",
              "      <td>1.000000</td>\n",
              "      <td>0.000000</td>\n",
              "      <td>0.000000</td>\n",
              "      <td>137.200000</td>\n",
              "      <td>38.600000</td>\n",
              "      <td>14.844926</td>\n",
              "      <td>0.0</td>\n",
              "      <td>33.400000</td>\n",
              "      <td>32.900000</td>\n",
              "      <td>...</td>\n",
              "      <td>40.000000</td>\n",
              "      <td>0.000000</td>\n",
              "      <td>0.000000</td>\n",
              "      <td>0.000000</td>\n",
              "      <td>0.000000</td>\n",
              "      <td>0.000000</td>\n",
              "      <td>0.000000</td>\n",
              "      <td>0.000000</td>\n",
              "      <td>0.000000</td>\n",
              "      <td>0.000000</td>\n",
              "    </tr>\n",
              "    <tr>\n",
              "      <th>25%</th>\n",
              "      <td>179772.000000</td>\n",
              "      <td>49.000000</td>\n",
              "      <td>53.000000</td>\n",
              "      <td>0.000000</td>\n",
              "      <td>162.500000</td>\n",
              "      <td>67.700000</td>\n",
              "      <td>23.875433</td>\n",
              "      <td>0.0</td>\n",
              "      <td>36.400000</td>\n",
              "      <td>36.300000</td>\n",
              "      <td>...</td>\n",
              "      <td>53.000000</td>\n",
              "      <td>0.000000</td>\n",
              "      <td>0.000000</td>\n",
              "      <td>0.000000</td>\n",
              "      <td>0.000000</td>\n",
              "      <td>0.000000</td>\n",
              "      <td>0.000000</td>\n",
              "      <td>0.000000</td>\n",
              "      <td>0.000000</td>\n",
              "      <td>0.000000</td>\n",
              "    </tr>\n",
              "    <tr>\n",
              "      <th>50%</th>\n",
              "      <td>212864.000000</td>\n",
              "      <td>112.000000</td>\n",
              "      <td>65.000000</td>\n",
              "      <td>0.000000</td>\n",
              "      <td>170.000000</td>\n",
              "      <td>81.600000</td>\n",
              "      <td>28.029903</td>\n",
              "      <td>0.0</td>\n",
              "      <td>36.700000</td>\n",
              "      <td>36.700000</td>\n",
              "      <td>...</td>\n",
              "      <td>66.000000</td>\n",
              "      <td>0.000000</td>\n",
              "      <td>0.000000</td>\n",
              "      <td>0.000000</td>\n",
              "      <td>0.000000</td>\n",
              "      <td>0.000000</td>\n",
              "      <td>0.000000</td>\n",
              "      <td>0.000000</td>\n",
              "      <td>0.000000</td>\n",
              "      <td>0.000000</td>\n",
              "    </tr>\n",
              "    <tr>\n",
              "      <th>75%</th>\n",
              "      <td>245812.000000</td>\n",
              "      <td>165.000000</td>\n",
              "      <td>75.000000</td>\n",
              "      <td>0.000000</td>\n",
              "      <td>177.800000</td>\n",
              "      <td>98.400000</td>\n",
              "      <td>33.420162</td>\n",
              "      <td>0.0</td>\n",
              "      <td>37.100000</td>\n",
              "      <td>37.000000</td>\n",
              "      <td>...</td>\n",
              "      <td>124.000000</td>\n",
              "      <td>0.000000</td>\n",
              "      <td>0.000000</td>\n",
              "      <td>0.000000</td>\n",
              "      <td>0.000000</td>\n",
              "      <td>0.000000</td>\n",
              "      <td>0.000000</td>\n",
              "      <td>0.000000</td>\n",
              "      <td>1.000000</td>\n",
              "      <td>1.000000</td>\n",
              "    </tr>\n",
              "    <tr>\n",
              "      <th>max</th>\n",
              "      <td>278997.000000</td>\n",
              "      <td>204.000000</td>\n",
              "      <td>89.000000</td>\n",
              "      <td>1.000000</td>\n",
              "      <td>195.590000</td>\n",
              "      <td>186.000000</td>\n",
              "      <td>67.814990</td>\n",
              "      <td>0.0</td>\n",
              "      <td>39.500000</td>\n",
              "      <td>39.300000</td>\n",
              "      <td>...</td>\n",
              "      <td>200.000000</td>\n",
              "      <td>1.000000</td>\n",
              "      <td>1.000000</td>\n",
              "      <td>1.000000</td>\n",
              "      <td>1.000000</td>\n",
              "      <td>1.000000</td>\n",
              "      <td>1.000000</td>\n",
              "      <td>1.000000</td>\n",
              "      <td>1.000000</td>\n",
              "      <td>1.000000</td>\n",
              "    </tr>\n",
              "  </tbody>\n",
              "</table>\n",
              "<p>8 rows × 85 columns</p>\n",
              "</div>\n",
              "      <button class=\"colab-df-convert\" onclick=\"convertToInteractive('df-387c1eff-aca9-451b-9a10-effec0843e33')\"\n",
              "              title=\"Convert this dataframe to an interactive table.\"\n",
              "              style=\"display:none;\">\n",
              "        \n",
              "  <svg xmlns=\"http://www.w3.org/2000/svg\" height=\"24px\"viewBox=\"0 0 24 24\"\n",
              "       width=\"24px\">\n",
              "    <path d=\"M0 0h24v24H0V0z\" fill=\"none\"/>\n",
              "    <path d=\"M18.56 5.44l.94 2.06.94-2.06 2.06-.94-2.06-.94-.94-2.06-.94 2.06-2.06.94zm-11 1L8.5 8.5l.94-2.06 2.06-.94-2.06-.94L8.5 2.5l-.94 2.06-2.06.94zm10 10l.94 2.06.94-2.06 2.06-.94-2.06-.94-.94-2.06-.94 2.06-2.06.94z\"/><path d=\"M17.41 7.96l-1.37-1.37c-.4-.4-.92-.59-1.43-.59-.52 0-1.04.2-1.43.59L10.3 9.45l-7.72 7.72c-.78.78-.78 2.05 0 2.83L4 21.41c.39.39.9.59 1.41.59.51 0 1.02-.2 1.41-.59l7.78-7.78 2.81-2.81c.8-.78.8-2.07 0-2.86zM5.41 20L4 18.59l7.72-7.72 1.47 1.35L5.41 20z\"/>\n",
              "  </svg>\n",
              "      </button>\n",
              "      \n",
              "  <style>\n",
              "    .colab-df-container {\n",
              "      display:flex;\n",
              "      flex-wrap:wrap;\n",
              "      gap: 12px;\n",
              "    }\n",
              "\n",
              "    .colab-df-convert {\n",
              "      background-color: #E8F0FE;\n",
              "      border: none;\n",
              "      border-radius: 50%;\n",
              "      cursor: pointer;\n",
              "      display: none;\n",
              "      fill: #1967D2;\n",
              "      height: 32px;\n",
              "      padding: 0 0 0 0;\n",
              "      width: 32px;\n",
              "    }\n",
              "\n",
              "    .colab-df-convert:hover {\n",
              "      background-color: #E2EBFA;\n",
              "      box-shadow: 0px 1px 2px rgba(60, 64, 67, 0.3), 0px 1px 3px 1px rgba(60, 64, 67, 0.15);\n",
              "      fill: #174EA6;\n",
              "    }\n",
              "\n",
              "    [theme=dark] .colab-df-convert {\n",
              "      background-color: #3B4455;\n",
              "      fill: #D2E3FC;\n",
              "    }\n",
              "\n",
              "    [theme=dark] .colab-df-convert:hover {\n",
              "      background-color: #434B5C;\n",
              "      box-shadow: 0px 1px 3px 1px rgba(0, 0, 0, 0.15);\n",
              "      filter: drop-shadow(0px 1px 2px rgba(0, 0, 0, 0.3));\n",
              "      fill: #FFFFFF;\n",
              "    }\n",
              "  </style>\n",
              "\n",
              "      <script>\n",
              "        const buttonEl =\n",
              "          document.querySelector('#df-387c1eff-aca9-451b-9a10-effec0843e33 button.colab-df-convert');\n",
              "        buttonEl.style.display =\n",
              "          google.colab.kernel.accessAllowed ? 'block' : 'none';\n",
              "\n",
              "        async function convertToInteractive(key) {\n",
              "          const element = document.querySelector('#df-387c1eff-aca9-451b-9a10-effec0843e33');\n",
              "          const dataTable =\n",
              "            await google.colab.kernel.invokeFunction('convertToInteractive',\n",
              "                                                     [key], {});\n",
              "          if (!dataTable) return;\n",
              "\n",
              "          const docLinkHtml = 'Like what you see? Visit the ' +\n",
              "            '<a target=\"_blank\" href=https://colab.research.google.com/notebooks/data_table.ipynb>data table notebook</a>'\n",
              "            + ' to learn more about interactive tables.';\n",
              "          element.innerHTML = '';\n",
              "          dataTable['output_type'] = 'display_data';\n",
              "          await google.colab.output.renderOutput(dataTable, element);\n",
              "          const docLink = document.createElement('div');\n",
              "          docLink.innerHTML = docLinkHtml;\n",
              "          element.appendChild(docLink);\n",
              "        }\n",
              "      </script>\n",
              "    </div>\n",
              "  </div>\n",
              "  "
            ]
          },
          "metadata": {},
          "execution_count": 4
        }
      ],
      "source": [
        "df.describe()"
      ]
    },
    {
      "cell_type": "code",
      "execution_count": null,
      "metadata": {
        "colab": {
          "base_uri": "https://localhost:8080/"
        },
        "id": "PkRnx1Le8lq5",
        "outputId": "8303bdb7-7f13-450b-f0f9-c6a53a9509f6"
      },
      "outputs": [
        {
          "output_type": "execute_result",
          "data": {
            "text/plain": [
              "encounter_id                       0\n",
              "hospital_id                        0\n",
              "gender                            30\n",
              "ethnicity                        961\n",
              "age                             2842\n",
              "elective_surgery                   0\n",
              "height                          1181\n",
              "weight                          2073\n",
              "bmi                             2691\n",
              "readmission_status                 0\n",
              "icu_type                           0\n",
              "h1_temp_max                    17936\n",
              "h1_temp_min                    17936\n",
              "d1_albumin_max                 43093\n",
              "d1_albumin_min                 43093\n",
              "d1_bilirubin_max               46477\n",
              "d1_bilirubin_min               46477\n",
              "d1_bun_max                      7910\n",
              "d1_bun_min                      7910\n",
              "d1_glucose_min                  4359\n",
              "d1_hco3_max                    11901\n",
              "d1_hco3_min                    11901\n",
              "d1_inr_max                     49466\n",
              "d1_inr_min                     49466\n",
              "d1_lactate_max                 57809\n",
              "d1_lactate_min                 57809\n",
              "d1_platelets_max               11166\n",
              "d1_platelets_min               11166\n",
              "d1_potassium_max                7187\n",
              "d1_potassium_min                7187\n",
              "d1_sodium_max                   7615\n",
              "d1_sodium_min                   7615\n",
              "d1_wbc_max                     10479\n",
              "d1_wbc_min                     10479\n",
              "h1_albumin_max                 72271\n",
              "h1_albumin_min                 72271\n",
              "h1_bilirubin_max               72849\n",
              "h1_bilirubin_min               72849\n",
              "h1_bun_max                     63406\n",
              "h1_bun_min                     63406\n",
              "h1_calcium_max                 63963\n",
              "h1_calcium_min                 63963\n",
              "h1_creatinine_max              63275\n",
              "h1_creatinine_min              63275\n",
              "h1_glucose_max                 43772\n",
              "h1_glucose_min                 43772\n",
              "h1_hco3_max                    64351\n",
              "h1_hco3_min                    64351\n",
              "h1_hematocrit_max              62543\n",
              "h1_hematocrit_min              62543\n",
              "h1_inr_max                     49466\n",
              "h1_inr_min                     49466\n",
              "h1_lactate_max                 71985\n",
              "h1_lactate_min                 71985\n",
              "h1_sodium_max                  61396\n",
              "h1_sodium_min                  61396\n",
              "d1_arterial_po2_max            50826\n",
              "d1_arterial_po2_min            50826\n",
              "d1_pao2fio2ratio_max           56576\n",
              "d1_pao2fio2ratio_min           56576\n",
              "h1_arterial_pco2_max           65287\n",
              "h1_arterial_pco2_min           65287\n",
              "h1_arterial_ph_max             65389\n",
              "h1_arterial_ph_min             65389\n",
              "h1_arterial_po2_max            65142\n",
              "h1_arterial_po2_min            65142\n",
              "h1_pao2fio2ratio_max           68816\n",
              "h1_pao2fio2ratio_min           68816\n",
              "wbc_apache                     17751\n",
              "intubated_apache                   0\n",
              "d1_heartrate_max                 145\n",
              "heart_rate_apache                156\n",
              "gcs_motor_apache                1224\n",
              "gcs_eyes_apache                 1224\n",
              "creatinine_apache              14584\n",
              "bilirubin_apache               50050\n",
              "h1_spo2_max                     3804\n",
              "paco2_apache                   60619\n",
              "map_apache                       228\n",
              "aids                               0\n",
              "cirrhosis                          0\n",
              "hepatic_failure                    0\n",
              "immunosuppression                  0\n",
              "leukemia                           0\n",
              "lymphoma                           0\n",
              "solid_tumor_with_metastasis        0\n",
              "ventilated_apache                  0\n",
              "diabetes_mellitus                  0\n",
              "dtype: int64"
            ]
          },
          "metadata": {},
          "execution_count": 5
        }
      ],
      "source": [
        "df.isnull().sum()"
      ]
    },
    {
      "cell_type": "markdown",
      "source": [
        "# Visualization"
      ],
      "metadata": {
        "id": "bFTun972nBsm"
      }
    },
    {
      "cell_type": "code",
      "source": [
        "X = df['diabetes_mellitus'].value_counts()\n",
        "labels = ['0', '1']\n",
        "plt.get_cmap('hsv')\n",
        "plt.figure(figsize = (14,7))\n",
        "plt.title('Distribution of Diabetes', fontsize = 17)\n",
        "plt.pie(X, labels = labels, autopct='%.0f%%', explode=[0,.3])\n",
        "plt.legend()\n",
        "plt.show()"
      ],
      "metadata": {
        "colab": {
          "base_uri": "https://localhost:8080/",
          "height": 438
        },
        "id": "GAI-BJUfnCgI",
        "outputId": "26066a98-2d77-4619-806e-05a8a06bf172"
      },
      "execution_count": null,
      "outputs": [
        {
          "output_type": "display_data",
          "data": {
            "text/plain": [
              "<Figure size 1008x504 with 1 Axes>"
            ],
            "image/png": "[encoded data removed]"
          },
          "metadata": {}
        }
      ]
    },
    {
      "cell_type": "markdown",
      "metadata": {
        "id": "nMYVguIGGDWl"
      },
      "source": [
        "# Data cleaning"
      ]
    },
    {
      "cell_type": "markdown",
      "metadata": {
        "id": "3dSNGhgprNL1"
      },
      "source": [
        "## Missing values"
      ]
    },
    {
      "cell_type": "code",
      "execution_count": null,
      "metadata": {
        "colab": {
          "base_uri": "https://localhost:8080/",
          "height": 2809
        },
        "id": "ukr8PqQGKlU7",
        "outputId": "8236fc10-3058-4bbb-86b1-5eaef3004d97"
      },
      "outputs": [
        {
          "output_type": "execute_result",
          "data": {
            "text/plain": [
              "                             Total  Missing %\n",
              "h1_bilirubin_min             72849   0.920287\n",
              "h1_bilirubin_max             72849   0.920287\n",
              "h1_albumin_min               72271   0.912985\n",
              "h1_albumin_max               72271   0.912985\n",
              "h1_lactate_min               71985   0.909372\n",
              "h1_lactate_max               71985   0.909372\n",
              "h1_pao2fio2ratio_max         68816   0.869339\n",
              "h1_pao2fio2ratio_min         68816   0.869339\n",
              "h1_arterial_ph_max           65389   0.826046\n",
              "h1_arterial_ph_min           65389   0.826046\n",
              "h1_arterial_pco2_min         65287   0.824758\n",
              "h1_arterial_pco2_max         65287   0.824758\n",
              "h1_arterial_po2_min          65142   0.822926\n",
              "h1_arterial_po2_max          65142   0.822926\n",
              "h1_hco3_max                  64351   0.812933\n",
              "h1_hco3_min                  64351   0.812933\n",
              "h1_calcium_min               63963   0.808032\n",
              "h1_calcium_max               63963   0.808032\n",
              "h1_bun_min                   63406   0.800995\n",
              "h1_bun_max                   63406   0.800995\n",
              "h1_creatinine_max            63275   0.799341\n",
              "h1_creatinine_min            63275   0.799341\n",
              "h1_hematocrit_min            62543   0.790093\n",
              "h1_hematocrit_max            62543   0.790093\n",
              "h1_sodium_min                61396   0.775604\n",
              "h1_sodium_max                61396   0.775604\n",
              "paco2_apache                 60619   0.765788\n",
              "d1_lactate_min               57809   0.730290\n",
              "d1_lactate_max               57809   0.730290\n",
              "d1_pao2fio2ratio_max         56576   0.714713\n",
              "d1_pao2fio2ratio_min         56576   0.714713\n",
              "d1_arterial_po2_min          50826   0.642075\n",
              "d1_arterial_po2_max          50826   0.642075\n",
              "bilirubin_apache             50050   0.632272\n",
              "d1_inr_min                   49466   0.624894\n",
              "h1_inr_max                   49466   0.624894\n",
              "d1_inr_max                   49466   0.624894\n",
              "h1_inr_min                   49466   0.624894\n",
              "d1_bilirubin_max             46477   0.587135\n",
              "d1_bilirubin_min             46477   0.587135\n",
              "h1_glucose_min               43772   0.552963\n",
              "h1_glucose_max               43772   0.552963\n",
              "d1_albumin_max               43093   0.544385\n",
              "d1_albumin_min               43093   0.544385\n",
              "h1_temp_max                  17936   0.226582\n",
              "h1_temp_min                  17936   0.226582\n",
              "wbc_apache                   17751   0.224245\n",
              "creatinine_apache            14584   0.184237\n",
              "d1_hco3_min                  11901   0.150343\n",
              "d1_hco3_max                  11901   0.150343\n",
              "d1_platelets_min             11166   0.141058\n",
              "d1_platelets_max             11166   0.141058\n",
              "d1_wbc_max                   10479   0.132379\n",
              "d1_wbc_min                   10479   0.132379\n",
              "d1_bun_min                    7910   0.099925\n",
              "d1_bun_max                    7910   0.099925\n",
              "d1_sodium_min                 7615   0.096199\n",
              "d1_sodium_max                 7615   0.096199\n",
              "d1_potassium_min              7187   0.090792\n",
              "d1_potassium_max              7187   0.090792\n",
              "d1_glucose_min                4359   0.055066\n",
              "h1_spo2_max                   3804   0.048055\n",
              "age                           2842   0.035902\n",
              "bmi                           2691   0.033995\n",
              "weight                        2073   0.026188\n",
              "gcs_motor_apache              1224   0.015463\n",
              "gcs_eyes_apache               1224   0.015463\n",
              "height                        1181   0.014919\n",
              "ethnicity                      961   0.012140\n",
              "map_apache                     228   0.002880\n",
              "heart_rate_apache              156   0.001971\n",
              "d1_heartrate_max               145   0.001832\n",
              "gender                          30   0.000379\n",
              "cirrhosis                        0   0.000000\n",
              "lymphoma                         0   0.000000\n",
              "immunosuppression                0   0.000000\n",
              "ventilated_apache                0   0.000000\n",
              "solid_tumor_with_metastasis      0   0.000000\n",
              "leukemia                         0   0.000000\n",
              "hepatic_failure                  0   0.000000\n",
              "encounter_id                     0   0.000000\n",
              "aids                             0   0.000000\n",
              "intubated_apache                 0   0.000000\n",
              "hospital_id                      0   0.000000\n",
              "icu_type                         0   0.000000\n",
              "readmission_status               0   0.000000\n",
              "elective_surgery                 0   0.000000\n",
              "diabetes_mellitus                0   0.000000"
            ],
            "text/html": [
              "\n",
              "  <div id=\"df-f5104b7f-3302-4aa5-8f76-7e6b67b31fb0\">\n",
              "    <div class=\"colab-df-container\">\n",
              "      <div>\n",
              "<style scoped>\n",
              "    .dataframe tbody tr th:only-of-type {\n",
              "        vertical-align: middle;\n",
              "    }\n",
              "\n",
              "    .dataframe tbody tr th {\n",
              "        vertical-align: top;\n",
              "    }\n",
              "\n",
              "    .dataframe thead th {\n",
              "        text-align: right;\n",
              "    }\n",
              "</style>\n",
              "<table border=\"1\" class=\"dataframe\">\n",
              "  <thead>\n",
              "    <tr style=\"text-align: right;\">\n",
              "      <th></th>\n",
              "      <th>Total</th>\n",
              "      <th>Missing %</th>\n",
              "    </tr>\n",
              "  </thead>\n",
              "  <tbody>\n",
              "    <tr>\n",
              "      <th>h1_bilirubin_min</th>\n",
              "      <td>72849</td>\n",
              "      <td>0.920287</td>\n",
              "    </tr>\n",
              "    <tr>\n",
              "      <th>h1_bilirubin_max</th>\n",
              "      <td>72849</td>\n",
              "      <td>0.920287</td>\n",
              "    </tr>\n",
              "    <tr>\n",
              "      <th>h1_albumin_min</th>\n",
              "      <td>72271</td>\n",
              "      <td>0.912985</td>\n",
              "    </tr>\n",
              "    <tr>\n",
              "      <th>h1_albumin_max</th>\n",
              "      <td>72271</td>\n",
              "      <td>0.912985</td>\n",
              "    </tr>\n",
              "    <tr>\n",
              "      <th>h1_lactate_min</th>\n",
              "      <td>71985</td>\n",
              "      <td>0.909372</td>\n",
              "    </tr>\n",
              "    <tr>\n",
              "      <th>h1_lactate_max</th>\n",
              "      <td>71985</td>\n",
              "      <td>0.909372</td>\n",
              "    </tr>\n",
              "    <tr>\n",
              "      <th>h1_pao2fio2ratio_max</th>\n",
              "      <td>68816</td>\n",
              "      <td>0.869339</td>\n",
              "    </tr>\n",
              "    <tr>\n",
              "      <th>h1_pao2fio2ratio_min</th>\n",
              "      <td>68816</td>\n",
              "      <td>0.869339</td>\n",
              "    </tr>\n",
              "    <tr>\n",
              "      <th>h1_arterial_ph_max</th>\n",
              "      <td>65389</td>\n",
              "      <td>0.826046</td>\n",
              "    </tr>\n",
              "    <tr>\n",
              "      <th>h1_arterial_ph_min</th>\n",
              "      <td>65389</td>\n",
              "      <td>0.826046</td>\n",
              "    </tr>\n",
              "    <tr>\n",
              "      <th>h1_arterial_pco2_min</th>\n",
              "      <td>65287</td>\n",
              "      <td>0.824758</td>\n",
              "    </tr>\n",
              "    <tr>\n",
              "      <th>h1_arterial_pco2_max</th>\n",
              "      <td>65287</td>\n",
              "      <td>0.824758</td>\n",
              "    </tr>\n",
              "    <tr>\n",
              "      <th>h1_arterial_po2_min</th>\n",
              "      <td>65142</td>\n",
              "      <td>0.822926</td>\n",
              "    </tr>\n",
              "    <tr>\n",
              "      <th>h1_arterial_po2_max</th>\n",
              "      <td>65142</td>\n",
              "      <td>0.822926</td>\n",
              "    </tr>\n",
              "    <tr>\n",
              "      <th>h1_hco3_max</th>\n",
              "      <td>64351</td>\n",
              "      <td>0.812933</td>\n",
              "    </tr>\n",
              "    <tr>\n",
              "      <th>h1_hco3_min</th>\n",
              "      <td>64351</td>\n",
              "      <td>0.812933</td>\n",
              "    </tr>\n",
              "    <tr>\n",
              "      <th>h1_calcium_min</th>\n",
              "      <td>63963</td>\n",
              "      <td>0.808032</td>\n",
              "    </tr>\n",
              "    <tr>\n",
              "      <th>h1_calcium_max</th>\n",
              "      <td>63963</td>\n",
              "      <td>0.808032</td>\n",
              "    </tr>\n",
              "    <tr>\n",
              "      <th>h1_bun_min</th>\n",
              "      <td>63406</td>\n",
              "      <td>0.800995</td>\n",
              "    </tr>\n",
              "    <tr>\n",
              "      <th>h1_bun_max</th>\n",
              "      <td>63406</td>\n",
              "      <td>0.800995</td>\n",
              "    </tr>\n",
              "    <tr>\n",
              "      <th>h1_creatinine_max</th>\n",
              "      <td>63275</td>\n",
              "      <td>0.799341</td>\n",
              "    </tr>\n",
              "    <tr>\n",
              "      <th>h1_creatinine_min</th>\n",
              "      <td>63275</td>\n",
              "      <td>0.799341</td>\n",
              "    </tr>\n",
              "    <tr>\n",
              "      <th>h1_hematocrit_min</th>\n",
              "      <td>62543</td>\n",
              "      <td>0.790093</td>\n",
              "    </tr>\n",
              "    <tr>\n",
              "      <th>h1_hematocrit_max</th>\n",
              "      <td>62543</td>\n",
              "      <td>0.790093</td>\n",
              "    </tr>\n",
              "    <tr>\n",
              "      <th>h1_sodium_min</th>\n",
              "      <td>61396</td>\n",
              "      <td>0.775604</td>\n",
              "    </tr>\n",
              "    <tr>\n",
              "      <th>h1_sodium_max</th>\n",
              "      <td>61396</td>\n",
              "      <td>0.775604</td>\n",
              "    </tr>\n",
              "    <tr>\n",
              "      <th>paco2_apache</th>\n",
              "      <td>60619</td>\n",
              "      <td>0.765788</td>\n",
              "    </tr>\n",
              "    <tr>\n",
              "      <th>d1_lactate_min</th>\n",
              "      <td>57809</td>\n",
              "      <td>0.730290</td>\n",
              "    </tr>\n",
              "    <tr>\n",
              "      <th>d1_lactate_max</th>\n",
              "      <td>57809</td>\n",
              "      <td>0.730290</td>\n",
              "    </tr>\n",
              "    <tr>\n",
              "      <th>d1_pao2fio2ratio_max</th>\n",
              "      <td>56576</td>\n",
              "      <td>0.714713</td>\n",
              "    </tr>\n",
              "    <tr>\n",
              "      <th>d1_pao2fio2ratio_min</th>\n",
              "      <td>56576</td>\n",
              "      <td>0.714713</td>\n",
              "    </tr>\n",
              "    <tr>\n",
              "      <th>d1_arterial_po2_min</th>\n",
              "      <td>50826</td>\n",
              "      <td>0.642075</td>\n",
              "    </tr>\n",
              "    <tr>\n",
              "      <th>d1_arterial_po2_max</th>\n",
              "      <td>50826</td>\n",
              "      <td>0.642075</td>\n",
              "    </tr>\n",
              "    <tr>\n",
              "      <th>bilirubin_apache</th>\n",
              "      <td>50050</td>\n",
              "      <td>0.632272</td>\n",
              "    </tr>\n",
              "    <tr>\n",
              "      <th>d1_inr_min</th>\n",
              "      <td>49466</td>\n",
              "      <td>0.624894</td>\n",
              "    </tr>\n",
              "    <tr>\n",
              "      <th>h1_inr_max</th>\n",
              "      <td>49466</td>\n",
              "      <td>0.624894</td>\n",
              "    </tr>\n",
              "    <tr>\n",
              "      <th>d1_inr_max</th>\n",
              "      <td>49466</td>\n",
              "      <td>0.624894</td>\n",
              "    </tr>\n",
              "    <tr>\n",
              "      <th>h1_inr_min</th>\n",
              "      <td>49466</td>\n",
              "      <td>0.624894</td>\n",
              "    </tr>\n",
              "    <tr>\n",
              "      <th>d1_bilirubin_max</th>\n",
              "      <td>46477</td>\n",
              "      <td>0.587135</td>\n",
              "    </tr>\n",
              "    <tr>\n",
              "      <th>d1_bilirubin_min</th>\n",
              "      <td>46477</td>\n",
              "      <td>0.587135</td>\n",
              "    </tr>\n",
              "    <tr>\n",
              "      <th>h1_glucose_min</th>\n",
              "      <td>43772</td>\n",
              "      <td>0.552963</td>\n",
              "    </tr>\n",
              "    <tr>\n",
              "      <th>h1_glucose_max</th>\n",
              "      <td>43772</td>\n",
              "      <td>0.552963</td>\n",
              "    </tr>\n",
              "    <tr>\n",
              "      <th>d1_albumin_max</th>\n",
              "      <td>43093</td>\n",
              "      <td>0.544385</td>\n",
              "    </tr>\n",
              "    <tr>\n",
              "      <th>d1_albumin_min</th>\n",
              "      <td>43093</td>\n",
              "      <td>0.544385</td>\n",
              "    </tr>\n",
              "    <tr>\n",
              "      <th>h1_temp_max</th>\n",
              "      <td>17936</td>\n",
              "      <td>0.226582</td>\n",
              "    </tr>\n",
              "    <tr>\n",
              "      <th>h1_temp_min</th>\n",
              "      <td>17936</td>\n",
              "      <td>0.226582</td>\n",
              "    </tr>\n",
              "    <tr>\n",
              "      <th>wbc_apache</th>\n",
              "      <td>17751</td>\n",
              "      <td>0.224245</td>\n",
              "    </tr>\n",
              "    <tr>\n",
              "      <th>creatinine_apache</th>\n",
              "      <td>14584</td>\n",
              "      <td>0.184237</td>\n",
              "    </tr>\n",
              "    <tr>\n",
              "      <th>d1_hco3_min</th>\n",
              "      <td>11901</td>\n",
              "      <td>0.150343</td>\n",
              "    </tr>\n",
              "    <tr>\n",
              "      <th>d1_hco3_max</th>\n",
              "      <td>11901</td>\n",
              "      <td>0.150343</td>\n",
              "    </tr>\n",
              "    <tr>\n",
              "      <th>d1_platelets_min</th>\n",
              "      <td>11166</td>\n",
              "      <td>0.141058</td>\n",
              "    </tr>\n",
              "    <tr>\n",
              "      <th>d1_platelets_max</th>\n",
              "      <td>11166</td>\n",
              "      <td>0.141058</td>\n",
              "    </tr>\n",
              "    <tr>\n",
              "      <th>d1_wbc_max</th>\n",
              "      <td>10479</td>\n",
              "      <td>0.132379</td>\n",
              "    </tr>\n",
              "    <tr>\n",
              "      <th>d1_wbc_min</th>\n",
              "      <td>10479</td>\n",
              "      <td>0.132379</td>\n",
              "    </tr>\n",
              "    <tr>\n",
              "      <th>d1_bun_min</th>\n",
              "      <td>7910</td>\n",
              "      <td>0.099925</td>\n",
              "    </tr>\n",
              "    <tr>\n",
              "      <th>d1_bun_max</th>\n",
              "      <td>7910</td>\n",
              "      <td>0.099925</td>\n",
              "    </tr>\n",
              "    <tr>\n",
              "      <th>d1_sodium_min</th>\n",
              "      <td>7615</td>\n",
              "      <td>0.096199</td>\n",
              "    </tr>\n",
              "    <tr>\n",
              "      <th>d1_sodium_max</th>\n",
              "      <td>7615</td>\n",
              "      <td>0.096199</td>\n",
              "    </tr>\n",
              "    <tr>\n",
              "      <th>d1_potassium_min</th>\n",
              "      <td>7187</td>\n",
              "      <td>0.090792</td>\n",
              "    </tr>\n",
              "    <tr>\n",
              "      <th>d1_potassium_max</th>\n",
              "      <td>7187</td>\n",
              "      <td>0.090792</td>\n",
              "    </tr>\n",
              "    <tr>\n",
              "      <th>d1_glucose_min</th>\n",
              "      <td>4359</td>\n",
              "      <td>0.055066</td>\n",
              "    </tr>\n",
              "    <tr>\n",
              "      <th>h1_spo2_max</th>\n",
              "      <td>3804</td>\n",
              "      <td>0.048055</td>\n",
              "    </tr>\n",
              "    <tr>\n",
              "      <th>age</th>\n",
              "      <td>2842</td>\n",
              "      <td>0.035902</td>\n",
              "    </tr>\n",
              "    <tr>\n",
              "      <th>bmi</th>\n",
              "      <td>2691</td>\n",
              "      <td>0.033995</td>\n",
              "    </tr>\n",
              "    <tr>\n",
              "      <th>weight</th>\n",
              "      <td>2073</td>\n",
              "      <td>0.026188</td>\n",
              "    </tr>\n",
              "    <tr>\n",
              "      <th>gcs_motor_apache</th>\n",
              "      <td>1224</td>\n",
              "      <td>0.015463</td>\n",
              "    </tr>\n",
              "    <tr>\n",
              "      <th>gcs_eyes_apache</th>\n",
              "      <td>1224</td>\n",
              "      <td>0.015463</td>\n",
              "    </tr>\n",
              "    <tr>\n",
              "      <th>height</th>\n",
              "      <td>1181</td>\n",
              "      <td>0.014919</td>\n",
              "    </tr>\n",
              "    <tr>\n",
              "      <th>ethnicity</th>\n",
              "      <td>961</td>\n",
              "      <td>0.012140</td>\n",
              "    </tr>\n",
              "    <tr>\n",
              "      <th>map_apache</th>\n",
              "      <td>228</td>\n",
              "      <td>0.002880</td>\n",
              "    </tr>\n",
              "    <tr>\n",
              "      <th>heart_rate_apache</th>\n",
              "      <td>156</td>\n",
              "      <td>0.001971</td>\n",
              "    </tr>\n",
              "    <tr>\n",
              "      <th>d1_heartrate_max</th>\n",
              "      <td>145</td>\n",
              "      <td>0.001832</td>\n",
              "    </tr>\n",
              "    <tr>\n",
              "      <th>gender</th>\n",
              "      <td>30</td>\n",
              "      <td>0.000379</td>\n",
              "    </tr>\n",
              "    <tr>\n",
              "      <th>cirrhosis</th>\n",
              "      <td>0</td>\n",
              "      <td>0.000000</td>\n",
              "    </tr>\n",
              "    <tr>\n",
              "      <th>lymphoma</th>\n",
              "      <td>0</td>\n",
              "      <td>0.000000</td>\n",
              "    </tr>\n",
              "    <tr>\n",
              "      <th>immunosuppression</th>\n",
              "      <td>0</td>\n",
              "      <td>0.000000</td>\n",
              "    </tr>\n",
              "    <tr>\n",
              "      <th>ventilated_apache</th>\n",
              "      <td>0</td>\n",
              "      <td>0.000000</td>\n",
              "    </tr>\n",
              "    <tr>\n",
              "      <th>solid_tumor_with_metastasis</th>\n",
              "      <td>0</td>\n",
              "      <td>0.000000</td>\n",
              "    </tr>\n",
              "    <tr>\n",
              "      <th>leukemia</th>\n",
              "      <td>0</td>\n",
              "      <td>0.000000</td>\n",
              "    </tr>\n",
              "    <tr>\n",
              "      <th>hepatic_failure</th>\n",
              "      <td>0</td>\n",
              "      <td>0.000000</td>\n",
              "    </tr>\n",
              "    <tr>\n",
              "      <th>encounter_id</th>\n",
              "      <td>0</td>\n",
              "      <td>0.000000</td>\n",
              "    </tr>\n",
              "    <tr>\n",
              "      <th>aids</th>\n",
              "      <td>0</td>\n",
              "      <td>0.000000</td>\n",
              "    </tr>\n",
              "    <tr>\n",
              "      <th>intubated_apache</th>\n",
              "      <td>0</td>\n",
              "      <td>0.000000</td>\n",
              "    </tr>\n",
              "    <tr>\n",
              "      <th>hospital_id</th>\n",
              "      <td>0</td>\n",
              "      <td>0.000000</td>\n",
              "    </tr>\n",
              "    <tr>\n",
              "      <th>icu_type</th>\n",
              "      <td>0</td>\n",
              "      <td>0.000000</td>\n",
              "    </tr>\n",
              "    <tr>\n",
              "      <th>readmission_status</th>\n",
              "      <td>0</td>\n",
              "      <td>0.000000</td>\n",
              "    </tr>\n",
              "    <tr>\n",
              "      <th>elective_surgery</th>\n",
              "      <td>0</td>\n",
              "      <td>0.000000</td>\n",
              "    </tr>\n",
              "    <tr>\n",
              "      <th>diabetes_mellitus</th>\n",
              "      <td>0</td>\n",
              "      <td>0.000000</td>\n",
              "    </tr>\n",
              "  </tbody>\n",
              "</table>\n",
              "</div>\n",
              "      <button class=\"colab-df-convert\" onclick=\"convertToInteractive('df-f5104b7f-3302-4aa5-8f76-7e6b67b31fb0')\"\n",
              "              title=\"Convert this dataframe to an interactive table.\"\n",
              "              style=\"display:none;\">\n",
              "        \n",
              "  <svg xmlns=\"http://www.w3.org/2000/svg\" height=\"24px\"viewBox=\"0 0 24 24\"\n",
              "       width=\"24px\">\n",
              "    <path d=\"M0 0h24v24H0V0z\" fill=\"none\"/>\n",
              "    <path d=\"M18.56 5.44l.94 2.06.94-2.06 2.06-.94-2.06-.94-.94-2.06-.94 2.06-2.06.94zm-11 1L8.5 8.5l.94-2.06 2.06-.94-2.06-.94L8.5 2.5l-.94 2.06-2.06.94zm10 10l.94 2.06.94-2.06 2.06-.94-2.06-.94-.94-2.06-.94 2.06-2.06.94z\"/><path d=\"M17.41 7.96l-1.37-1.37c-.4-.4-.92-.59-1.43-.59-.52 0-1.04.2-1.43.59L10.3 9.45l-7.72 7.72c-.78.78-.78 2.05 0 2.83L4 21.41c.39.39.9.59 1.41.59.51 0 1.02-.2 1.41-.59l7.78-7.78 2.81-2.81c.8-.78.8-2.07 0-2.86zM5.41 20L4 18.59l7.72-7.72 1.47 1.35L5.41 20z\"/>\n",
              "  </svg>\n",
              "      </button>\n",
              "      \n",
              "  <style>\n",
              "    .colab-df-container {\n",
              "      display:flex;\n",
              "      flex-wrap:wrap;\n",
              "      gap: 12px;\n",
              "    }\n",
              "\n",
              "    .colab-df-convert {\n",
              "      background-color: #E8F0FE;\n",
              "      border: none;\n",
              "      border-radius: 50%;\n",
              "      cursor: pointer;\n",
              "      display: none;\n",
              "      fill: #1967D2;\n",
              "      height: 32px;\n",
              "      padding: 0 0 0 0;\n",
              "      width: 32px;\n",
              "    }\n",
              "\n",
              "    .colab-df-convert:hover {\n",
              "      background-color: #E2EBFA;\n",
              "      box-shadow: 0px 1px 2px rgba(60, 64, 67, 0.3), 0px 1px 3px 1px rgba(60, 64, 67, 0.15);\n",
              "      fill: #174EA6;\n",
              "    }\n",
              "\n",
              "    [theme=dark] .colab-df-convert {\n",
              "      background-color: #3B4455;\n",
              "      fill: #D2E3FC;\n",
              "    }\n",
              "\n",
              "    [theme=dark] .colab-df-convert:hover {\n",
              "      background-color: #434B5C;\n",
              "      box-shadow: 0px 1px 3px 1px rgba(0, 0, 0, 0.15);\n",
              "      filter: drop-shadow(0px 1px 2px rgba(0, 0, 0, 0.3));\n",
              "      fill: #FFFFFF;\n",
              "    }\n",
              "  </style>\n",
              "\n",
              "      <script>\n",
              "        const buttonEl =\n",
              "          document.querySelector('#df-f5104b7f-3302-4aa5-8f76-7e6b67b31fb0 button.colab-df-convert');\n",
              "        buttonEl.style.display =\n",
              "          google.colab.kernel.accessAllowed ? 'block' : 'none';\n",
              "\n",
              "        async function convertToInteractive(key) {\n",
              "          const element = document.querySelector('#df-f5104b7f-3302-4aa5-8f76-7e6b67b31fb0');\n",
              "          const dataTable =\n",
              "            await google.colab.kernel.invokeFunction('convertToInteractive',\n",
              "                                                     [key], {});\n",
              "          if (!dataTable) return;\n",
              "\n",
              "          const docLinkHtml = 'Like what you see? Visit the ' +\n",
              "            '<a target=\"_blank\" href=https://colab.research.google.com/notebooks/data_table.ipynb>data table notebook</a>'\n",
              "            + ' to learn more about interactive tables.';\n",
              "          element.innerHTML = '';\n",
              "          dataTable['output_type'] = 'display_data';\n",
              "          await google.colab.output.renderOutput(dataTable, element);\n",
              "          const docLink = document.createElement('div');\n",
              "          docLink.innerHTML = docLinkHtml;\n",
              "          element.appendChild(docLink);\n",
              "        }\n",
              "      </script>\n",
              "    </div>\n",
              "  </div>\n",
              "  "
            ]
          },
          "metadata": {},
          "execution_count": 7
        }
      ],
      "source": [
        "#check how many missing values in each column\n",
        "\n",
        "total = df.isnull().sum().sort_values(ascending=False)\n",
        "percent = (df.isnull().sum()/df.isnull().count()).sort_values(ascending=False)\n",
        "missing_data = pd.concat([total, percent], axis=1, keys=['Total', 'Missing %'])\n",
        "missing_data.head(88)\n"
      ]
    },
    {
      "cell_type": "code",
      "execution_count": null,
      "metadata": {
        "colab": {
          "base_uri": "https://localhost:8080/"
        },
        "id": "spu5HdCNwsDA",
        "outputId": "1d9a6bc7-b733-48a9-871f-17caaf45452d"
      },
      "outputs": [
        {
          "output_type": "stream",
          "name": "stderr",
          "text": [
            "/usr/local/lib/python3.7/dist-packages/ipykernel_launcher.py:2: FutureWarning: In a future version of pandas all arguments of DataFrame.drop except for the argument 'labels' will be keyword-only\n",
            "  \n"
          ]
        },
        {
          "output_type": "execute_result",
          "data": {
            "text/plain": [
              "46477"
            ]
          },
          "metadata": {},
          "execution_count": 8
        }
      ],
      "source": [
        "#dealing with missing data\n",
        "df = df.drop((missing_data[missing_data['Missing %'] > 0.6]).index,1)\n",
        "df.isnull().sum().max() #just checking that there's no missing data missing..."
      ]
    },
    {
      "cell_type": "code",
      "source": [
        "df.shape"
      ],
      "metadata": {
        "colab": {
          "base_uri": "https://localhost:8080/"
        },
        "id": "mPsrNkN8Tjc9",
        "outputId": "25f60440-2cf5-47c5-cea2-3051eface66f"
      },
      "execution_count": null,
      "outputs": [
        {
          "output_type": "execute_result",
          "data": {
            "text/plain": [
              "(79159, 50)"
            ]
          },
          "metadata": {},
          "execution_count": 9
        }
      ]
    },
    {
      "cell_type": "markdown",
      "metadata": {
        "id": "Cvpgai-kzgJJ"
      },
      "source": [
        "### Random fill-in"
      ]
    },
    {
      "cell_type": "code",
      "execution_count": null,
      "metadata": {
        "id": "ZYcSSWtJ1pKL"
      },
      "outputs": [],
      "source": [
        "from random import choice\n",
        "\n",
        "mask = df[\"gender\"].isna()\n",
        "df.loc[mask,[\"gender\"]] = df.loc[mask,[\"gender\"]].applymap(lambda _: choice([\"M\",\"F\"]))"
      ]
    },
    {
      "cell_type": "code",
      "execution_count": null,
      "metadata": {
        "id": "2d3gyvcyzVJX"
      },
      "outputs": [],
      "source": [
        "mask = df[\"ethnicity\"].isna()\n",
        "df.loc[mask,[\"ethnicity\"]] = df.loc[mask,[\"ethnicity\"]].applymap(lambda _: choice([\"Caucasian\",\"African American\",\n",
        "                                                                             'Other/Unknown', 'Hispanic', 'Asian', 'Native American']))"
      ]
    },
    {
      "cell_type": "markdown",
      "metadata": {
        "id": "dZDh4DNz0Nse"
      },
      "source": [
        "### Imputation "
      ]
    },
    {
      "cell_type": "code",
      "execution_count": null,
      "metadata": {
        "colab": {
          "base_uri": "https://localhost:8080/",
          "height": 394
        },
        "id": "KnDB0L1lz9KJ",
        "outputId": "69f8c771-31ec-468d-93e9-2adb10e50f70"
      },
      "outputs": [
        {
          "output_type": "execute_result",
          "data": {
            "text/plain": [
              "        encounter_id   hospital_id           age  elective_surgery  \\\n",
              "count   79159.000000  79159.000000  79159.000000      79159.000000   \n",
              "mean   212863.726740    106.188620     62.454036          0.189404   \n",
              "std     38113.816591     63.776527     16.451232          0.391831   \n",
              "min    147001.000000      1.000000      0.000000          0.000000   \n",
              "25%    179772.000000     49.000000     53.000000          0.000000   \n",
              "50%    212864.000000    112.000000     65.000000          0.000000   \n",
              "75%    245812.000000    165.000000     75.000000          0.000000   \n",
              "max    278997.000000    204.000000     89.000000          1.000000   \n",
              "\n",
              "             height        weight           bmi  readmission_status  \\\n",
              "count  79159.000000  79159.000000  79159.000000             79159.0   \n",
              "mean     169.565825     85.141136     29.602947                 0.0   \n",
              "std       10.831737     25.462159      8.485454                 0.0   \n",
              "min      137.200000     38.600000     14.844926                 0.0   \n",
              "25%      162.500000     67.800000     23.876404                 0.0   \n",
              "50%      170.000000     81.600000     28.039729                 0.0   \n",
              "75%      177.800000     98.430000     33.421693                 0.0   \n",
              "max      195.590000    186.000000     67.814990                 0.0   \n",
              "\n",
              "        h1_temp_max   h1_temp_min  ...    map_apache          aids  \\\n",
              "count  79159.000000  79159.000000  ...  79159.000000  79159.000000   \n",
              "mean      36.721336     36.612534  ...     87.269899      0.000834   \n",
              "std        0.769038      0.793106  ...     42.058765      0.028863   \n",
              "min       33.400000     32.900000  ...     40.000000      0.000000   \n",
              "25%       36.400000     36.300000  ...     53.000000      0.000000   \n",
              "50%       36.700000     36.700000  ...     66.000000      0.000000   \n",
              "75%       37.100000     37.000000  ...    124.000000      0.000000   \n",
              "max       39.500000     39.300000  ...    200.000000      1.000000   \n",
              "\n",
              "          cirrhosis  hepatic_failure  immunosuppression      leukemia  \\\n",
              "count  79159.000000     79159.000000       79159.000000  79159.000000   \n",
              "mean       0.016713         0.013744           0.025379      0.007327   \n",
              "std        0.128195         0.116429           0.157275      0.085284   \n",
              "min        0.000000         0.000000           0.000000      0.000000   \n",
              "25%        0.000000         0.000000           0.000000      0.000000   \n",
              "50%        0.000000         0.000000           0.000000      0.000000   \n",
              "75%        0.000000         0.000000           0.000000      0.000000   \n",
              "max        1.000000         1.000000           1.000000      1.000000   \n",
              "\n",
              "           lymphoma  solid_tumor_with_metastasis  ventilated_apache  \\\n",
              "count  79159.000000                 79159.000000       79159.000000   \n",
              "mean       0.004080                     0.020781           0.332243   \n",
              "std        0.063748                     0.142651           0.471020   \n",
              "min        0.000000                     0.000000           0.000000   \n",
              "25%        0.000000                     0.000000           0.000000   \n",
              "50%        0.000000                     0.000000           0.000000   \n",
              "75%        0.000000                     0.000000           1.000000   \n",
              "max        1.000000                     1.000000           1.000000   \n",
              "\n",
              "       diabetes_mellitus  \n",
              "count       79159.000000  \n",
              "mean            0.355639  \n",
              "std             0.478709  \n",
              "min             0.000000  \n",
              "25%             0.000000  \n",
              "50%             0.000000  \n",
              "75%             1.000000  \n",
              "max             1.000000  \n",
              "\n",
              "[8 rows x 47 columns]"
            ],
            "text/html": [
              "\n",
              "  <div id=\"df-8b9bff2c-1b41-4ea3-8e27-e90e3b1034bb\">\n",
              "    <div class=\"colab-df-container\">\n",
              "      <div>\n",
              "<style scoped>\n",
              "    .dataframe tbody tr th:only-of-type {\n",
              "        vertical-align: middle;\n",
              "    }\n",
              "\n",
              "    .dataframe tbody tr th {\n",
              "        vertical-align: top;\n",
              "    }\n",
              "\n",
              "    .dataframe thead th {\n",
              "        text-align: right;\n",
              "    }\n",
              "</style>\n",
              "<table border=\"1\" class=\"dataframe\">\n",
              "  <thead>\n",
              "    <tr style=\"text-align: right;\">\n",
              "      <th></th>\n",
              "      <th>encounter_id</th>\n",
              "      <th>hospital_id</th>\n",
              "      <th>age</th>\n",
              "      <th>elective_surgery</th>\n",
              "      <th>height</th>\n",
              "      <th>weight</th>\n",
              "      <th>bmi</th>\n",
              "      <th>readmission_status</th>\n",
              "      <th>h1_temp_max</th>\n",
              "      <th>h1_temp_min</th>\n",
              "      <th>...</th>\n",
              "      <th>map_apache</th>\n",
              "      <th>aids</th>\n",
              "      <th>cirrhosis</th>\n",
              "      <th>hepatic_failure</th>\n",
              "      <th>immunosuppression</th>\n",
              "      <th>leukemia</th>\n",
              "      <th>lymphoma</th>\n",
              "      <th>solid_tumor_with_metastasis</th>\n",
              "      <th>ventilated_apache</th>\n",
              "      <th>diabetes_mellitus</th>\n",
              "    </tr>\n",
              "  </thead>\n",
              "  <tbody>\n",
              "    <tr>\n",
              "      <th>count</th>\n",
              "      <td>79159.000000</td>\n",
              "      <td>79159.000000</td>\n",
              "      <td>79159.000000</td>\n",
              "      <td>79159.000000</td>\n",
              "      <td>79159.000000</td>\n",
              "      <td>79159.000000</td>\n",
              "      <td>79159.000000</td>\n",
              "      <td>79159.0</td>\n",
              "      <td>79159.000000</td>\n",
              "      <td>79159.000000</td>\n",
              "      <td>...</td>\n",
              "      <td>79159.000000</td>\n",
              "      <td>79159.000000</td>\n",
              "      <td>79159.000000</td>\n",
              "      <td>79159.000000</td>\n",
              "      <td>79159.000000</td>\n",
              "      <td>79159.000000</td>\n",
              "      <td>79159.000000</td>\n",
              "      <td>79159.000000</td>\n",
              "      <td>79159.000000</td>\n",
              "      <td>79159.000000</td>\n",
              "    </tr>\n",
              "    <tr>\n",
              "      <th>mean</th>\n",
              "      <td>212863.726740</td>\n",
              "      <td>106.188620</td>\n",
              "      <td>62.454036</td>\n",
              "      <td>0.189404</td>\n",
              "      <td>169.565825</td>\n",
              "      <td>85.141136</td>\n",
              "      <td>29.602947</td>\n",
              "      <td>0.0</td>\n",
              "      <td>36.721336</td>\n",
              "      <td>36.612534</td>\n",
              "      <td>...</td>\n",
              "      <td>87.269899</td>\n",
              "      <td>0.000834</td>\n",
              "      <td>0.016713</td>\n",
              "      <td>0.013744</td>\n",
              "      <td>0.025379</td>\n",
              "      <td>0.007327</td>\n",
              "      <td>0.004080</td>\n",
              "      <td>0.020781</td>\n",
              "      <td>0.332243</td>\n",
              "      <td>0.355639</td>\n",
              "    </tr>\n",
              "    <tr>\n",
              "      <th>std</th>\n",
              "      <td>38113.816591</td>\n",
              "      <td>63.776527</td>\n",
              "      <td>16.451232</td>\n",
              "      <td>0.391831</td>\n",
              "      <td>10.831737</td>\n",
              "      <td>25.462159</td>\n",
              "      <td>8.485454</td>\n",
              "      <td>0.0</td>\n",
              "      <td>0.769038</td>\n",
              "      <td>0.793106</td>\n",
              "      <td>...</td>\n",
              "      <td>42.058765</td>\n",
              "      <td>0.028863</td>\n",
              "      <td>0.128195</td>\n",
              "      <td>0.116429</td>\n",
              "      <td>0.157275</td>\n",
              "      <td>0.085284</td>\n",
              "      <td>0.063748</td>\n",
              "      <td>0.142651</td>\n",
              "      <td>0.471020</td>\n",
              "      <td>0.478709</td>\n",
              "    </tr>\n",
              "    <tr>\n",
              "      <th>min</th>\n",
              "      <td>147001.000000</td>\n",
              "      <td>1.000000</td>\n",
              "      <td>0.000000</td>\n",
              "      <td>0.000000</td>\n",
              "      <td>137.200000</td>\n",
              "      <td>38.600000</td>\n",
              "      <td>14.844926</td>\n",
              "      <td>0.0</td>\n",
              "      <td>33.400000</td>\n",
              "      <td>32.900000</td>\n",
              "      <td>...</td>\n",
              "      <td>40.000000</td>\n",
              "      <td>0.000000</td>\n",
              "      <td>0.000000</td>\n",
              "      <td>0.000000</td>\n",
              "      <td>0.000000</td>\n",
              "      <td>0.000000</td>\n",
              "      <td>0.000000</td>\n",
              "      <td>0.000000</td>\n",
              "      <td>0.000000</td>\n",
              "      <td>0.000000</td>\n",
              "    </tr>\n",
              "    <tr>\n",
              "      <th>25%</th>\n",
              "      <td>179772.000000</td>\n",
              "      <td>49.000000</td>\n",
              "      <td>53.000000</td>\n",
              "      <td>0.000000</td>\n",
              "      <td>162.500000</td>\n",
              "      <td>67.800000</td>\n",
              "      <td>23.876404</td>\n",
              "      <td>0.0</td>\n",
              "      <td>36.400000</td>\n",
              "      <td>36.300000</td>\n",
              "      <td>...</td>\n",
              "      <td>53.000000</td>\n",
              "      <td>0.000000</td>\n",
              "      <td>0.000000</td>\n",
              "      <td>0.000000</td>\n",
              "      <td>0.000000</td>\n",
              "      <td>0.000000</td>\n",
              "      <td>0.000000</td>\n",
              "      <td>0.000000</td>\n",
              "      <td>0.000000</td>\n",
              "      <td>0.000000</td>\n",
              "    </tr>\n",
              "    <tr>\n",
              "      <th>50%</th>\n",
              "      <td>212864.000000</td>\n",
              "      <td>112.000000</td>\n",
              "      <td>65.000000</td>\n",
              "      <td>0.000000</td>\n",
              "      <td>170.000000</td>\n",
              "      <td>81.600000</td>\n",
              "      <td>28.039729</td>\n",
              "      <td>0.0</td>\n",
              "      <td>36.700000</td>\n",
              "      <td>36.700000</td>\n",
              "      <td>...</td>\n",
              "      <td>66.000000</td>\n",
              "      <td>0.000000</td>\n",
              "      <td>0.000000</td>\n",
              "      <td>0.000000</td>\n",
              "      <td>0.000000</td>\n",
              "      <td>0.000000</td>\n",
              "      <td>0.000000</td>\n",
              "      <td>0.000000</td>\n",
              "      <td>0.000000</td>\n",
              "      <td>0.000000</td>\n",
              "    </tr>\n",
              "    <tr>\n",
              "      <th>75%</th>\n",
              "      <td>245812.000000</td>\n",
              "      <td>165.000000</td>\n",
              "      <td>75.000000</td>\n",
              "      <td>0.000000</td>\n",
              "      <td>177.800000</td>\n",
              "      <td>98.430000</td>\n",
              "      <td>33.421693</td>\n",
              "      <td>0.0</td>\n",
              "      <td>37.100000</td>\n",
              "      <td>37.000000</td>\n",
              "      <td>...</td>\n",
              "      <td>124.000000</td>\n",
              "      <td>0.000000</td>\n",
              "      <td>0.000000</td>\n",
              "      <td>0.000000</td>\n",
              "      <td>0.000000</td>\n",
              "      <td>0.000000</td>\n",
              "      <td>0.000000</td>\n",
              "      <td>0.000000</td>\n",
              "      <td>1.000000</td>\n",
              "      <td>1.000000</td>\n",
              "    </tr>\n",
              "    <tr>\n",
              "      <th>max</th>\n",
              "      <td>278997.000000</td>\n",
              "      <td>204.000000</td>\n",
              "      <td>89.000000</td>\n",
              "      <td>1.000000</td>\n",
              "      <td>195.590000</td>\n",
              "      <td>186.000000</td>\n",
              "      <td>67.814990</td>\n",
              "      <td>0.0</td>\n",
              "      <td>39.500000</td>\n",
              "      <td>39.300000</td>\n",
              "      <td>...</td>\n",
              "      <td>200.000000</td>\n",
              "      <td>1.000000</td>\n",
              "      <td>1.000000</td>\n",
              "      <td>1.000000</td>\n",
              "      <td>1.000000</td>\n",
              "      <td>1.000000</td>\n",
              "      <td>1.000000</td>\n",
              "      <td>1.000000</td>\n",
              "      <td>1.000000</td>\n",
              "      <td>1.000000</td>\n",
              "    </tr>\n",
              "  </tbody>\n",
              "</table>\n",
              "<p>8 rows × 47 columns</p>\n",
              "</div>\n",
              "      <button class=\"colab-df-convert\" onclick=\"convertToInteractive('df-8b9bff2c-1b41-4ea3-8e27-e90e3b1034bb')\"\n",
              "              title=\"Convert this dataframe to an interactive table.\"\n",
              "              style=\"display:none;\">\n",
              "        \n",
              "  <svg xmlns=\"http://www.w3.org/2000/svg\" height=\"24px\"viewBox=\"0 0 24 24\"\n",
              "       width=\"24px\">\n",
              "    <path d=\"M0 0h24v24H0V0z\" fill=\"none\"/>\n",
              "    <path d=\"M18.56 5.44l.94 2.06.94-2.06 2.06-.94-2.06-.94-.94-2.06-.94 2.06-2.06.94zm-11 1L8.5 8.5l.94-2.06 2.06-.94-2.06-.94L8.5 2.5l-.94 2.06-2.06.94zm10 10l.94 2.06.94-2.06 2.06-.94-2.06-.94-.94-2.06-.94 2.06-2.06.94z\"/><path d=\"M17.41 7.96l-1.37-1.37c-.4-.4-.92-.59-1.43-.59-.52 0-1.04.2-1.43.59L10.3 9.45l-7.72 7.72c-.78.78-.78 2.05 0 2.83L4 21.41c.39.39.9.59 1.41.59.51 0 1.02-.2 1.41-.59l7.78-7.78 2.81-2.81c.8-.78.8-2.07 0-2.86zM5.41 20L4 18.59l7.72-7.72 1.47 1.35L5.41 20z\"/>\n",
              "  </svg>\n",
              "      </button>\n",
              "      \n",
              "  <style>\n",
              "    .colab-df-container {\n",
              "      display:flex;\n",
              "      flex-wrap:wrap;\n",
              "      gap: 12px;\n",
              "    }\n",
              "\n",
              "    .colab-df-convert {\n",
              "      background-color: #E8F0FE;\n",
              "      border: none;\n",
              "      border-radius: 50%;\n",
              "      cursor: pointer;\n",
              "      display: none;\n",
              "      fill: #1967D2;\n",
              "      height: 32px;\n",
              "      padding: 0 0 0 0;\n",
              "      width: 32px;\n",
              "    }\n",
              "\n",
              "    .colab-df-convert:hover {\n",
              "      background-color: #E2EBFA;\n",
              "      box-shadow: 0px 1px 2px rgba(60, 64, 67, 0.3), 0px 1px 3px 1px rgba(60, 64, 67, 0.15);\n",
              "      fill: #174EA6;\n",
              "    }\n",
              "\n",
              "    [theme=dark] .colab-df-convert {\n",
              "      background-color: #3B4455;\n",
              "      fill: #D2E3FC;\n",
              "    }\n",
              "\n",
              "    [theme=dark] .colab-df-convert:hover {\n",
              "      background-color: #434B5C;\n",
              "      box-shadow: 0px 1px 3px 1px rgba(0, 0, 0, 0.15);\n",
              "      filter: drop-shadow(0px 1px 2px rgba(0, 0, 0, 0.3));\n",
              "      fill: #FFFFFF;\n",
              "    }\n",
              "  </style>\n",
              "\n",
              "      <script>\n",
              "        const buttonEl =\n",
              "          document.querySelector('#df-8b9bff2c-1b41-4ea3-8e27-e90e3b1034bb button.colab-df-convert');\n",
              "        buttonEl.style.display =\n",
              "          google.colab.kernel.accessAllowed ? 'block' : 'none';\n",
              "\n",
              "        async function convertToInteractive(key) {\n",
              "          const element = document.querySelector('#df-8b9bff2c-1b41-4ea3-8e27-e90e3b1034bb');\n",
              "          const dataTable =\n",
              "            await google.colab.kernel.invokeFunction('convertToInteractive',\n",
              "                                                     [key], {});\n",
              "          if (!dataTable) return;\n",
              "\n",
              "          const docLinkHtml = 'Like what you see? Visit the ' +\n",
              "            '<a target=\"_blank\" href=https://colab.research.google.com/notebooks/data_table.ipynb>data table notebook</a>'\n",
              "            + ' to learn more about interactive tables.';\n",
              "          element.innerHTML = '';\n",
              "          dataTable['output_type'] = 'display_data';\n",
              "          await google.colab.output.renderOutput(dataTable, element);\n",
              "          const docLink = document.createElement('div');\n",
              "          docLink.innerHTML = docLinkHtml;\n",
              "          element.appendChild(docLink);\n",
              "        }\n",
              "      </script>\n",
              "    </div>\n",
              "  </div>\n",
              "  "
            ]
          },
          "metadata": {},
          "execution_count": 12
        }
      ],
      "source": [
        "imp_df= df.fillna(method='bfill', axis=0).fillna(0)\n",
        "imp_df.describe() "
      ]
    },
    {
      "cell_type": "code",
      "execution_count": null,
      "metadata": {
        "colab": {
          "base_uri": "https://localhost:8080/"
        },
        "id": "yBGMIY-PArTQ",
        "outputId": "30b5d349-1a75-47c2-cb10-1c5eb34b5b31"
      },
      "outputs": [
        {
          "output_type": "execute_result",
          "data": {
            "text/plain": [
              "0"
            ]
          },
          "metadata": {},
          "execution_count": 13
        }
      ],
      "source": [
        "#check missing values again\n",
        "imp_df.isnull().sum().max() "
      ]
    },
    {
      "cell_type": "code",
      "execution_count": null,
      "metadata": {
        "id": "VyseYp3z2TNH"
      },
      "outputs": [],
      "source": [
        "df = imp_df"
      ]
    },
    {
      "cell_type": "markdown",
      "metadata": {
        "id": "ZauF6h_zF4Lu"
      },
      "source": [
        "## Removing columns"
      ]
    },
    {
      "cell_type": "markdown",
      "metadata": {
        "id": "CESztU3NtY8p"
      },
      "source": [
        "### Removing not useful columns"
      ]
    },
    {
      "cell_type": "code",
      "execution_count": null,
      "metadata": {
        "id": "KFh_k5UWekci"
      },
      "outputs": [],
      "source": [
        "#drop the columns that are not useful\n",
        "df = df.loc[:, ~df.columns.isin([\"encounter_id\", \"hospital_id\", 'height', 'weight','readmission_status'])]"
      ]
    },
    {
      "cell_type": "markdown",
      "source": [
        "### Remove highly correlated columns"
      ],
      "metadata": {
        "id": "id63Igovh9yw"
      }
    },
    {
      "cell_type": "code",
      "source": [
        "X = df.loc[:, ~df.columns.isin(['diabetes_mellitus'])]\n",
        "\n",
        "#extract the target column\n",
        "y = df[\"diabetes_mellitus\"] "
      ],
      "metadata": {
        "id": "abSuSSqfh_3A"
      },
      "execution_count": null,
      "outputs": []
    },
    {
      "cell_type": "code",
      "source": [
        "cor_matrix = X.corr().abs()\n",
        "upper_tri = cor_matrix.where(np.triu(np.ones(cor_matrix.shape),k=1).astype(np.bool))\n",
        "to_drop = [column for column in upper_tri.columns if any(upper_tri[column] > 0.90)]\n",
        "print(); print(to_drop)"
      ],
      "metadata": {
        "colab": {
          "base_uri": "https://localhost:8080/"
        },
        "id": "dC_G2RTtiA2q",
        "outputId": "729248f8-f62d-442a-cfc6-d21bdf72c498"
      },
      "execution_count": null,
      "outputs": [
        {
          "output_type": "stream",
          "name": "stdout",
          "text": [
            "\n",
            "['d1_albumin_min', 'd1_bilirubin_min', 'd1_bun_min', 'd1_platelets_min', 'd1_wbc_min', 'h1_glucose_min']\n"
          ]
        },
        {
          "output_type": "stream",
          "name": "stderr",
          "text": [
            "/usr/local/lib/python3.7/dist-packages/ipykernel_launcher.py:2: DeprecationWarning: `np.bool` is a deprecated alias for the builtin `bool`. To silence this warning, use `bool` by itself. Doing this will not modify any behavior and is safe. If you specifically wanted the numpy scalar type, use `np.bool_` here.\n",
            "Deprecated in NumPy 1.20; for more details and guidance: https://numpy.org/devdocs/release/1.20.0-notes.html#deprecations\n",
            "  \n"
          ]
        }
      ]
    },
    {
      "cell_type": "code",
      "source": [
        "df = df.loc[:, ~df.columns.isin(['d1_albumin_min', 'd1_bilirubin_min', 'd1_bun_min', 'd1_platelets_min', 'd1_wbc_min', 'h1_glucose_min'])]"
      ],
      "metadata": {
        "id": "tbtSMgYJiBp_"
      },
      "execution_count": null,
      "outputs": []
    },
    {
      "cell_type": "markdown",
      "metadata": {
        "id": "aWtr7sYy0BJd"
      },
      "source": [
        "## Categorical and Numerical "
      ]
    },
    {
      "cell_type": "code",
      "execution_count": null,
      "metadata": {
        "id": "nPZzJoIcD4q1",
        "colab": {
          "base_uri": "https://localhost:8080/"
        },
        "outputId": "d84da5d8-c896-46df-d62b-cbd2c97d9c42"
      },
      "outputs": [
        {
          "output_type": "stream",
          "name": "stdout",
          "text": [
            "Collecting category_encoders\n",
            "  Downloading category_encoders-2.4.1-py2.py3-none-any.whl (80 kB)\n",
            "\u001b[?25l\r\u001b[K     |████                            | 10 kB 14.5 MB/s eta 0:00:01\r\u001b[K     |████████                        | 20 kB 17.2 MB/s eta 0:00:01\r\u001b[K     |████████████▏                   | 30 kB 20.7 MB/s eta 0:00:01\r\u001b[K     |████████████████▏               | 40 kB 13.0 MB/s eta 0:00:01\r\u001b[K     |████████████████████▎           | 51 kB 3.8 MB/s eta 0:00:01\r\u001b[K     |████████████████████████▎       | 61 kB 4.5 MB/s eta 0:00:01\r\u001b[K     |████████████████████████████▍   | 71 kB 4.3 MB/s eta 0:00:01\r\u001b[K     |████████████████████████████████| 80 kB 3.4 MB/s \n",
            "\u001b[?25hRequirement already satisfied: pandas>=0.21.1 in /usr/local/lib/python3.7/dist-packages (from category_encoders) (1.3.5)\n",
            "Requirement already satisfied: patsy>=0.5.1 in /usr/local/lib/python3.7/dist-packages (from category_encoders) (0.5.2)\n",
            "Requirement already satisfied: scikit-learn>=0.20.0 in /usr/local/lib/python3.7/dist-packages (from category_encoders) (1.0.2)\n",
            "Requirement already satisfied: statsmodels>=0.9.0 in /usr/local/lib/python3.7/dist-packages (from category_encoders) (0.10.2)\n",
            "Requirement already satisfied: numpy>=1.14.0 in /usr/local/lib/python3.7/dist-packages (from category_encoders) (1.21.6)\n",
            "Requirement already satisfied: scipy>=1.0.0 in /usr/local/lib/python3.7/dist-packages (from category_encoders) (1.4.1)\n",
            "Requirement already satisfied: python-dateutil>=2.7.3 in /usr/local/lib/python3.7/dist-packages (from pandas>=0.21.1->category_encoders) (2.8.2)\n",
            "Requirement already satisfied: pytz>=2017.3 in /usr/local/lib/python3.7/dist-packages (from pandas>=0.21.1->category_encoders) (2022.1)\n",
            "Requirement already satisfied: six in /usr/local/lib/python3.7/dist-packages (from patsy>=0.5.1->category_encoders) (1.15.0)\n",
            "Requirement already satisfied: joblib>=0.11 in /usr/local/lib/python3.7/dist-packages (from scikit-learn>=0.20.0->category_encoders) (1.1.0)\n",
            "Requirement already satisfied: threadpoolctl>=2.0.0 in /usr/local/lib/python3.7/dist-packages (from scikit-learn>=0.20.0->category_encoders) (3.1.0)\n",
            "Installing collected packages: category-encoders\n",
            "Successfully installed category-encoders-2.4.1\n"
          ]
        }
      ],
      "source": [
        "pip install --upgrade category_encoders"
      ]
    },
    {
      "cell_type": "code",
      "execution_count": null,
      "metadata": {
        "id": "uz4jb44GJaQ3"
      },
      "outputs": [],
      "source": [
        "#divide our columns in to the categorical and numerical columns for variables that are useful for prediction of diabetes\n",
        "\n",
        "cat_col = [\"gender\", \"ethnicity\", \"icu_type\"]\n",
        "num_col = df.loc[:, ~df.columns.isin([\"gender\", \"ethnicity\", \"icu_type\"])]"
      ]
    },
    {
      "cell_type": "code",
      "execution_count": null,
      "metadata": {
        "colab": {
          "base_uri": "https://localhost:8080/"
        },
        "id": "EV4r_ZeCPndy",
        "outputId": "d01b9fbb-9d96-45b5-c737-b0cb13282341"
      },
      "outputs": [
        {
          "output_type": "stream",
          "name": "stdout",
          "text": [
            "---- gender ---\n",
            "M    42927\n",
            "F    36232\n",
            "Name: gender, dtype: int64\n",
            "---- ethnicity ---\n",
            "Caucasian           60524\n",
            "African American     8989\n",
            "Other/Unknown        4065\n",
            "Hispanic             3298\n",
            "Asian                1516\n",
            "Native American       767\n",
            "Name: ethnicity, dtype: int64\n",
            "---- icu_type ---\n",
            "Med-Surg ICU    43608\n",
            "MICU             6816\n",
            "CCU-CTICU        6809\n",
            "Neuro ICU        6077\n",
            "Cardiac ICU      5069\n",
            "SICU             4902\n",
            "CSICU            3138\n",
            "CTICU            2740\n",
            "Name: icu_type, dtype: int64\n"
          ]
        }
      ],
      "source": [
        "#Let us run loop of value_counts of each column to find out unique values. \n",
        "for col in df[cat_col]:\n",
        "    print (\"---- %s ---\" % col)\n",
        "    print (df[col].value_counts())"
      ]
    },
    {
      "cell_type": "markdown",
      "metadata": {
        "id": "zSR-vmBMRgVP"
      },
      "source": [
        "### Label encoding"
      ]
    },
    {
      "cell_type": "code",
      "execution_count": null,
      "metadata": {
        "id": "dS6Nu62rQf_M"
      },
      "outputs": [],
      "source": [
        "from sklearn.preprocessing import LabelEncoder\n",
        "\n",
        "for col in [\"ethnicity\", \"icu_type\", 'gender']:\n",
        "    df[col] = LabelEncoder().fit_transform(df[col])"
      ]
    },
    {
      "cell_type": "code",
      "execution_count": null,
      "metadata": {
        "id": "nk5rLrv-nVO2",
        "colab": {
          "base_uri": "https://localhost:8080/"
        },
        "outputId": "1605a022-9a86-4f1c-90c6-951332861275"
      },
      "outputs": [
        {
          "output_type": "execute_result",
          "data": {
            "text/plain": [
              "   gender  ethnicity  icu_type\n",
              "0       1          2         2\n",
              "1       0          2         5\n",
              "2       0          2         2\n",
              "3       1          2         5\n",
              "4       0          2         5\n",
              "5       1          2         5\n",
              "6       0          2         5\n",
              "7       0          2         4\n",
              "8       1          2         4\n",
              "9       0          2         0"
            ],
            "text/html": [
              "\n",
              "  <div id=\"df-7eebc1a1-1642-47c9-8b47-a8ee15e00216\">\n",
              "    <div class=\"colab-df-container\">\n",
              "      <div>\n",
              "<style scoped>\n",
              "    .dataframe tbody tr th:only-of-type {\n",
              "        vertical-align: middle;\n",
              "    }\n",
              "\n",
              "    .dataframe tbody tr th {\n",
              "        vertical-align: top;\n",
              "    }\n",
              "\n",
              "    .dataframe thead th {\n",
              "        text-align: right;\n",
              "    }\n",
              "</style>\n",
              "<table border=\"1\" class=\"dataframe\">\n",
              "  <thead>\n",
              "    <tr style=\"text-align: right;\">\n",
              "      <th></th>\n",
              "      <th>gender</th>\n",
              "      <th>ethnicity</th>\n",
              "      <th>icu_type</th>\n",
              "    </tr>\n",
              "  </thead>\n",
              "  <tbody>\n",
              "    <tr>\n",
              "      <th>0</th>\n",
              "      <td>1</td>\n",
              "      <td>2</td>\n",
              "      <td>2</td>\n",
              "    </tr>\n",
              "    <tr>\n",
              "      <th>1</th>\n",
              "      <td>0</td>\n",
              "      <td>2</td>\n",
              "      <td>5</td>\n",
              "    </tr>\n",
              "    <tr>\n",
              "      <th>2</th>\n",
              "      <td>0</td>\n",
              "      <td>2</td>\n",
              "      <td>2</td>\n",
              "    </tr>\n",
              "    <tr>\n",
              "      <th>3</th>\n",
              "      <td>1</td>\n",
              "      <td>2</td>\n",
              "      <td>5</td>\n",
              "    </tr>\n",
              "    <tr>\n",
              "      <th>4</th>\n",
              "      <td>0</td>\n",
              "      <td>2</td>\n",
              "      <td>5</td>\n",
              "    </tr>\n",
              "    <tr>\n",
              "      <th>5</th>\n",
              "      <td>1</td>\n",
              "      <td>2</td>\n",
              "      <td>5</td>\n",
              "    </tr>\n",
              "    <tr>\n",
              "      <th>6</th>\n",
              "      <td>0</td>\n",
              "      <td>2</td>\n",
              "      <td>5</td>\n",
              "    </tr>\n",
              "    <tr>\n",
              "      <th>7</th>\n",
              "      <td>0</td>\n",
              "      <td>2</td>\n",
              "      <td>4</td>\n",
              "    </tr>\n",
              "    <tr>\n",
              "      <th>8</th>\n",
              "      <td>1</td>\n",
              "      <td>2</td>\n",
              "      <td>4</td>\n",
              "    </tr>\n",
              "    <tr>\n",
              "      <th>9</th>\n",
              "      <td>0</td>\n",
              "      <td>2</td>\n",
              "      <td>0</td>\n",
              "    </tr>\n",
              "  </tbody>\n",
              "</table>\n",
              "</div>\n",
              "      <button class=\"colab-df-convert\" onclick=\"convertToInteractive('df-7eebc1a1-1642-47c9-8b47-a8ee15e00216')\"\n",
              "              title=\"Convert this dataframe to an interactive table.\"\n",
              "              style=\"display:none;\">\n",
              "        \n",
              "  <svg xmlns=\"http://www.w3.org/2000/svg\" height=\"24px\"viewBox=\"0 0 24 24\"\n",
              "       width=\"24px\">\n",
              "    <path d=\"M0 0h24v24H0V0z\" fill=\"none\"/>\n",
              "    <path d=\"M18.56 5.44l.94 2.06.94-2.06 2.06-.94-2.06-.94-.94-2.06-.94 2.06-2.06.94zm-11 1L8.5 8.5l.94-2.06 2.06-.94-2.06-.94L8.5 2.5l-.94 2.06-2.06.94zm10 10l.94 2.06.94-2.06 2.06-.94-2.06-.94-.94-2.06-.94 2.06-2.06.94z\"/><path d=\"M17.41 7.96l-1.37-1.37c-.4-.4-.92-.59-1.43-.59-.52 0-1.04.2-1.43.59L10.3 9.45l-7.72 7.72c-.78.78-.78 2.05 0 2.83L4 21.41c.39.39.9.59 1.41.59.51 0 1.02-.2 1.41-.59l7.78-7.78 2.81-2.81c.8-.78.8-2.07 0-2.86zM5.41 20L4 18.59l7.72-7.72 1.47 1.35L5.41 20z\"/>\n",
              "  </svg>\n",
              "      </button>\n",
              "      \n",
              "  <style>\n",
              "    .colab-df-container {\n",
              "      display:flex;\n",
              "      flex-wrap:wrap;\n",
              "      gap: 12px;\n",
              "    }\n",
              "\n",
              "    .colab-df-convert {\n",
              "      background-color: #E8F0FE;\n",
              "      border: none;\n",
              "      border-radius: 50%;\n",
              "      cursor: pointer;\n",
              "      display: none;\n",
              "      fill: #1967D2;\n",
              "      height: 32px;\n",
              "      padding: 0 0 0 0;\n",
              "      width: 32px;\n",
              "    }\n",
              "\n",
              "    .colab-df-convert:hover {\n",
              "      background-color: #E2EBFA;\n",
              "      box-shadow: 0px 1px 2px rgba(60, 64, 67, 0.3), 0px 1px 3px 1px rgba(60, 64, 67, 0.15);\n",
              "      fill: #174EA6;\n",
              "    }\n",
              "\n",
              "    [theme=dark] .colab-df-convert {\n",
              "      background-color: #3B4455;\n",
              "      fill: #D2E3FC;\n",
              "    }\n",
              "\n",
              "    [theme=dark] .colab-df-convert:hover {\n",
              "      background-color: #434B5C;\n",
              "      box-shadow: 0px 1px 3px 1px rgba(0, 0, 0, 0.15);\n",
              "      filter: drop-shadow(0px 1px 2px rgba(0, 0, 0, 0.3));\n",
              "      fill: #FFFFFF;\n",
              "    }\n",
              "  </style>\n",
              "\n",
              "      <script>\n",
              "        const buttonEl =\n",
              "          document.querySelector('#df-7eebc1a1-1642-47c9-8b47-a8ee15e00216 button.colab-df-convert');\n",
              "        buttonEl.style.display =\n",
              "          google.colab.kernel.accessAllowed ? 'block' : 'none';\n",
              "\n",
              "        async function convertToInteractive(key) {\n",
              "          const element = document.querySelector('#df-7eebc1a1-1642-47c9-8b47-a8ee15e00216');\n",
              "          const dataTable =\n",
              "            await google.colab.kernel.invokeFunction('convertToInteractive',\n",
              "                                                     [key], {});\n",
              "          if (!dataTable) return;\n",
              "\n",
              "          const docLinkHtml = 'Like what you see? Visit the ' +\n",
              "            '<a target=\"_blank\" href=https://colab.research.google.com/notebooks/data_table.ipynb>data table notebook</a>'\n",
              "            + ' to learn more about interactive tables.';\n",
              "          element.innerHTML = '';\n",
              "          dataTable['output_type'] = 'display_data';\n",
              "          await google.colab.output.renderOutput(dataTable, element);\n",
              "          const docLink = document.createElement('div');\n",
              "          docLink.innerHTML = docLinkHtml;\n",
              "          element.appendChild(docLink);\n",
              "        }\n",
              "      </script>\n",
              "    </div>\n",
              "  </div>\n",
              "  "
            ]
          },
          "metadata": {},
          "execution_count": 23
        }
      ],
      "source": [
        "df.loc[:, df.columns.isin([\"gender\", \"ethnicity\", \"icu_type\"])].head(10)"
      ]
    },
    {
      "cell_type": "markdown",
      "metadata": {
        "id": "eKjhVkTviR95"
      },
      "source": [
        "## Outliers"
      ]
    },
    {
      "cell_type": "code",
      "execution_count": null,
      "metadata": {
        "id": "rrnjZphuiRlq",
        "colab": {
          "base_uri": "https://localhost:8080/",
          "height": 402
        },
        "outputId": "50a85b2c-f6d2-4c20-c267-07636259aeb1"
      },
      "outputs": [
        {
          "output_type": "display_data",
          "data": {
            "text/plain": [
              "<Figure size 1440x720 with 1 Axes>"
            ],
            "image/png": "[encoded data removed]"
          },
          "metadata": {
            "needs_background": "light"
          }
        }
      ],
      "source": [
        "plt.figure(figsize=(20,10))\n",
        "plt.xticks(rotation = 90)\n",
        "sns.boxplot(data=df)\n",
        "plt.show()"
      ]
    },
    {
      "cell_type": "markdown",
      "source": [
        "# Feature selection"
      ],
      "metadata": {
        "id": "tYQGNdqj7II8"
      }
    },
    {
      "cell_type": "code",
      "source": [
        "X = df.loc[:, ~df.columns.isin([\"diabetes_mellitus\"])]\n",
        "y = df[\"diabetes_mellitus\"] "
      ],
      "metadata": {
        "id": "zZ-phW9E7E8t"
      },
      "execution_count": null,
      "outputs": []
    },
    {
      "cell_type": "code",
      "source": [
        "from sklearn.feature_selection import SelectKBest, mutual_info_classif\n",
        "from sklearn.feature_selection import chi2\n",
        "\n",
        "selector = SelectKBest(score_func=mutual_info_classif, k='all')\n",
        "\n",
        "# transform train input data\n",
        "Xfs = selector.fit_transform(X,y)"
      ],
      "metadata": {
        "id": "VXoRWI9Z7LcV"
      },
      "execution_count": null,
      "outputs": []
    },
    {
      "cell_type": "code",
      "source": [
        "names = X.columns.values[selector.get_support()]\n",
        "scores = selector.scores_[selector.get_support()]\n",
        "names_scores = list(zip(names, scores))\n",
        "ns_df = pd.DataFrame(data = names_scores, columns=['Feat_names', 'Mutual_info'])\n",
        "ns_df_sorted = ns_df.sort_values(['Mutual_info', 'Feat_names'], ascending = [False, True])\n",
        "print(ns_df_sorted)"
      ],
      "metadata": {
        "id": "99LpEYLH7M0U",
        "colab": {
          "base_uri": "https://localhost:8080/"
        },
        "outputId": "755a64f7-d8be-4a47-afe0-3332bd803fa4"
      },
      "execution_count": null,
      "outputs": [
        {
          "output_type": "stream",
          "name": "stdout",
          "text": [
            "                     Feat_names  Mutual_info\n",
            "20               h1_glucose_max     0.076527\n",
            "11               d1_glucose_min     0.028224\n",
            "4                           bmi     0.027652\n",
            "10                   d1_bun_max     0.022696\n",
            "27            creatinine_apache     0.021462\n",
            "9              d1_bilirubin_max     0.014232\n",
            "21                   wbc_apache     0.009128\n",
            "1                     ethnicity     0.008735\n",
            "15             d1_potassium_max     0.008729\n",
            "2                           age     0.008709\n",
            "26              gcs_eyes_apache     0.005253\n",
            "25             gcs_motor_apache     0.005231\n",
            "0                        gender     0.004706\n",
            "5                      icu_type     0.004575\n",
            "13                  d1_hco3_min     0.004260\n",
            "28                  h1_spo2_max     0.004206\n",
            "6                   h1_temp_max     0.003802\n",
            "36  solid_tumor_with_metastasis     0.003406\n",
            "12                  d1_hco3_max     0.003325\n",
            "18                d1_sodium_min     0.003134\n",
            "16             d1_potassium_min     0.003058\n",
            "8                d1_albumin_max     0.002956\n",
            "19                   d1_wbc_max     0.002948\n",
            "14             d1_platelets_max     0.002607\n",
            "34                     leukemia     0.002496\n",
            "23             d1_heartrate_max     0.002436\n",
            "33            immunosuppression     0.001604\n",
            "17                d1_sodium_max     0.001383\n",
            "7                   h1_temp_min     0.001217\n",
            "24            heart_rate_apache     0.001083\n",
            "30                         aids     0.000724\n",
            "31                    cirrhosis     0.000000\n",
            "3              elective_surgery     0.000000\n",
            "32              hepatic_failure     0.000000\n",
            "22             intubated_apache     0.000000\n",
            "35                     lymphoma     0.000000\n",
            "29                   map_apache     0.000000\n",
            "37            ventilated_apache     0.000000\n"
          ]
        }
      ]
    },
    {
      "cell_type": "markdown",
      "metadata": {
        "id": "uh55fujrGNWl"
      },
      "source": [
        "# Resampling Comparison"
      ]
    },
    {
      "cell_type": "markdown",
      "metadata": {
        "id": "IS3zxgEhAr9x"
      },
      "source": [
        "## DTC without Upsampling"
      ]
    },
    {
      "cell_type": "markdown",
      "metadata": {
        "id": "kv_10pi8vUeG"
      },
      "source": [
        "### Define X and Y"
      ]
    },
    {
      "cell_type": "code",
      "execution_count": null,
      "metadata": {
        "id": "e5Zyq029vZam"
      },
      "outputs": [],
      "source": [
        "X = df.loc[:, df.columns.isin(['h1_glucose_max', 'd1_glucose_min', 'bmi', 'd1_bun_max', 'creatinine_apache', \n",
        "                               'd1_bilirubin_max', 'ethnicity', 'd1_potassium_max', 'gender', 'age'])]\n",
        "y = df[\"diabetes_mellitus\"] \n"
      ]
    },
    {
      "cell_type": "code",
      "execution_count": null,
      "metadata": {
        "id": "6UdOHnoTAw9I"
      },
      "outputs": [],
      "source": [
        "from sklearn.model_selection import train_test_split\n",
        "\n",
        "X_train, X_test, y_train, y_test = train_test_split(X, y, test_size=0.3,random_state=1024, stratify=y, shuffle=True)"
      ]
    },
    {
      "cell_type": "markdown",
      "metadata": {
        "id": "1UTbVeeAP9cq"
      },
      "source": [
        "### No tuned "
      ]
    },
    {
      "cell_type": "code",
      "execution_count": null,
      "metadata": {
        "id": "Bx4fljGeA4Sh",
        "colab": {
          "base_uri": "https://localhost:8080/"
        },
        "outputId": "9483f03c-1ed5-48d9-f020-ee1104248ba0"
      },
      "outputs": [
        {
          "output_type": "stream",
          "name": "stdout",
          "text": [
            "(55411, 10) (55411,) (23748, 10)\n"
          ]
        }
      ],
      "source": [
        "pipe_dt=Pipeline([('scl',StandardScaler()),\n",
        "                 ('pca',PCA(n_components=2))\n",
        "                 ])\n",
        "\n",
        "x_train = pipe_dt.fit_transform(X_train)\n",
        "x_test = pipe_dt.fit_transform(X_test)\n",
        "print(X_train.shape, y_train.shape, X_test.shape)"
      ]
    },
    {
      "cell_type": "code",
      "execution_count": null,
      "metadata": {
        "id": "ZEmdDHH9XYGD",
        "colab": {
          "base_uri": "https://localhost:8080/"
        },
        "outputId": "1b76b68a-1ff9-48d2-a881-66df47968b30"
      },
      "outputs": [
        {
          "output_type": "stream",
          "name": "stdout",
          "text": [
            "0.47328560599999747\n",
            "1.0\n",
            "              precision    recall  f1-score   support\n",
            "\n",
            "           0       0.70      0.69      0.70     15302\n",
            "           1       0.45      0.46      0.45      8446\n",
            "\n",
            "    accuracy                           0.61     23748\n",
            "   macro avg       0.57      0.57      0.57     23748\n",
            "weighted avg       0.61      0.61      0.61     23748\n",
            "\n"
          ]
        }
      ],
      "source": [
        "# compute training time\n",
        "t_start = time.process_time()\n",
        "dtc = DecisionTreeClassifier(random_state=1024)\n",
        "dtc.fit(x_train, y_train)\n",
        "t_end = time.process_time()\n",
        "t_diff = t_end - t_start\n",
        "train_score = dtc.score(x_train, y_train)\n",
        "\n",
        "y_pred = dtc.predict(x_test)\n",
        "\n",
        "print(t_diff)\n",
        "print(train_score)\n",
        "print(classification_report(y_test, y_pred))"
      ]
    },
    {
      "cell_type": "code",
      "source": [
        "display = pd.DataFrame({'Actual value': y_test, 'Predicted value':y_pred})\n",
        "display.head(10)"
      ],
      "metadata": {
        "id": "WtzI-L4Llwdw",
        "colab": {
          "base_uri": "https://localhost:8080/",
          "height": 363
        },
        "outputId": "b3ddeb37-e3d0-4129-ae49-5e759d9de96b"
      },
      "execution_count": null,
      "outputs": [
        {
          "output_type": "execute_result",
          "data": {
            "text/plain": [
              "       Actual value  Predicted value\n",
              "60909             0                1\n",
              "58270             0                1\n",
              "45224             0                0\n",
              "58477             0                1\n",
              "37339             0                0\n",
              "14078             1                1\n",
              "47269             0                0\n",
              "3737              1                0\n",
              "42096             0                1\n",
              "27031             1                0"
            ],
            "text/html": [
              "\n",
              "  <div id=\"df-5b26a799-5d70-4e62-a315-b01b801c4950\">\n",
              "    <div class=\"colab-df-container\">\n",
              "      <div>\n",
              "<style scoped>\n",
              "    .dataframe tbody tr th:only-of-type {\n",
              "        vertical-align: middle;\n",
              "    }\n",
              "\n",
              "    .dataframe tbody tr th {\n",
              "        vertical-align: top;\n",
              "    }\n",
              "\n",
              "    .dataframe thead th {\n",
              "        text-align: right;\n",
              "    }\n",
              "</style>\n",
              "<table border=\"1\" class=\"dataframe\">\n",
              "  <thead>\n",
              "    <tr style=\"text-align: right;\">\n",
              "      <th></th>\n",
              "      <th>Actual value</th>\n",
              "      <th>Predicted value</th>\n",
              "    </tr>\n",
              "  </thead>\n",
              "  <tbody>\n",
              "    <tr>\n",
              "      <th>60909</th>\n",
              "      <td>0</td>\n",
              "      <td>1</td>\n",
              "    </tr>\n",
              "    <tr>\n",
              "      <th>58270</th>\n",
              "      <td>0</td>\n",
              "      <td>1</td>\n",
              "    </tr>\n",
              "    <tr>\n",
              "      <th>45224</th>\n",
              "      <td>0</td>\n",
              "      <td>0</td>\n",
              "    </tr>\n",
              "    <tr>\n",
              "      <th>58477</th>\n",
              "      <td>0</td>\n",
              "      <td>1</td>\n",
              "    </tr>\n",
              "    <tr>\n",
              "      <th>37339</th>\n",
              "      <td>0</td>\n",
              "      <td>0</td>\n",
              "    </tr>\n",
              "    <tr>\n",
              "      <th>14078</th>\n",
              "      <td>1</td>\n",
              "      <td>1</td>\n",
              "    </tr>\n",
              "    <tr>\n",
              "      <th>47269</th>\n",
              "      <td>0</td>\n",
              "      <td>0</td>\n",
              "    </tr>\n",
              "    <tr>\n",
              "      <th>3737</th>\n",
              "      <td>1</td>\n",
              "      <td>0</td>\n",
              "    </tr>\n",
              "    <tr>\n",
              "      <th>42096</th>\n",
              "      <td>0</td>\n",
              "      <td>1</td>\n",
              "    </tr>\n",
              "    <tr>\n",
              "      <th>27031</th>\n",
              "      <td>1</td>\n",
              "      <td>0</td>\n",
              "    </tr>\n",
              "  </tbody>\n",
              "</table>\n",
              "</div>\n",
              "      <button class=\"colab-df-convert\" onclick=\"convertToInteractive('df-5b26a799-5d70-4e62-a315-b01b801c4950')\"\n",
              "              title=\"Convert this dataframe to an interactive table.\"\n",
              "              style=\"display:none;\">\n",
              "        \n",
              "  <svg xmlns=\"http://www.w3.org/2000/svg\" height=\"24px\"viewBox=\"0 0 24 24\"\n",
              "       width=\"24px\">\n",
              "    <path d=\"M0 0h24v24H0V0z\" fill=\"none\"/>\n",
              "    <path d=\"M18.56 5.44l.94 2.06.94-2.06 2.06-.94-2.06-.94-.94-2.06-.94 2.06-2.06.94zm-11 1L8.5 8.5l.94-2.06 2.06-.94-2.06-.94L8.5 2.5l-.94 2.06-2.06.94zm10 10l.94 2.06.94-2.06 2.06-.94-2.06-.94-.94-2.06-.94 2.06-2.06.94z\"/><path d=\"M17.41 7.96l-1.37-1.37c-.4-.4-.92-.59-1.43-.59-.52 0-1.04.2-1.43.59L10.3 9.45l-7.72 7.72c-.78.78-.78 2.05 0 2.83L4 21.41c.39.39.9.59 1.41.59.51 0 1.02-.2 1.41-.59l7.78-7.78 2.81-2.81c.8-.78.8-2.07 0-2.86zM5.41 20L4 18.59l7.72-7.72 1.47 1.35L5.41 20z\"/>\n",
              "  </svg>\n",
              "      </button>\n",
              "      \n",
              "  <style>\n",
              "    .colab-df-container {\n",
              "      display:flex;\n",
              "      flex-wrap:wrap;\n",
              "      gap: 12px;\n",
              "    }\n",
              "\n",
              "    .colab-df-convert {\n",
              "      background-color: #E8F0FE;\n",
              "      border: none;\n",
              "      border-radius: 50%;\n",
              "      cursor: pointer;\n",
              "      display: none;\n",
              "      fill: #1967D2;\n",
              "      height: 32px;\n",
              "      padding: 0 0 0 0;\n",
              "      width: 32px;\n",
              "    }\n",
              "\n",
              "    .colab-df-convert:hover {\n",
              "      background-color: #E2EBFA;\n",
              "      box-shadow: 0px 1px 2px rgba(60, 64, 67, 0.3), 0px 1px 3px 1px rgba(60, 64, 67, 0.15);\n",
              "      fill: #174EA6;\n",
              "    }\n",
              "\n",
              "    [theme=dark] .colab-df-convert {\n",
              "      background-color: #3B4455;\n",
              "      fill: #D2E3FC;\n",
              "    }\n",
              "\n",
              "    [theme=dark] .colab-df-convert:hover {\n",
              "      background-color: #434B5C;\n",
              "      box-shadow: 0px 1px 3px 1px rgba(0, 0, 0, 0.15);\n",
              "      filter: drop-shadow(0px 1px 2px rgba(0, 0, 0, 0.3));\n",
              "      fill: #FFFFFF;\n",
              "    }\n",
              "  </style>\n",
              "\n",
              "      <script>\n",
              "        const buttonEl =\n",
              "          document.querySelector('#df-5b26a799-5d70-4e62-a315-b01b801c4950 button.colab-df-convert');\n",
              "        buttonEl.style.display =\n",
              "          google.colab.kernel.accessAllowed ? 'block' : 'none';\n",
              "\n",
              "        async function convertToInteractive(key) {\n",
              "          const element = document.querySelector('#df-5b26a799-5d70-4e62-a315-b01b801c4950');\n",
              "          const dataTable =\n",
              "            await google.colab.kernel.invokeFunction('convertToInteractive',\n",
              "                                                     [key], {});\n",
              "          if (!dataTable) return;\n",
              "\n",
              "          const docLinkHtml = 'Like what you see? Visit the ' +\n",
              "            '<a target=\"_blank\" href=https://colab.research.google.com/notebooks/data_table.ipynb>data table notebook</a>'\n",
              "            + ' to learn more about interactive tables.';\n",
              "          element.innerHTML = '';\n",
              "          dataTable['output_type'] = 'display_data';\n",
              "          await google.colab.output.renderOutput(dataTable, element);\n",
              "          const docLink = document.createElement('div');\n",
              "          docLink.innerHTML = docLinkHtml;\n",
              "          element.appendChild(docLink);\n",
              "        }\n",
              "      </script>\n",
              "    </div>\n",
              "  </div>\n",
              "  "
            ]
          },
          "metadata": {},
          "execution_count": 32
        }
      ]
    },
    {
      "cell_type": "code",
      "source": [
        "cnf_matrix = confusion_matrix(y_test, y_pred)\n",
        "\n",
        "%matplotlib inline\n",
        "class_names=[False, True] # name  of classes\n",
        "fig, ax = plt.subplots(figsize=(7, 6))\n",
        "sns.heatmap(pd.DataFrame(cnf_matrix), annot=True, cmap=\"YlGnBu\", fmt='g')\n",
        "ax.xaxis.set_label_position(\"top\")\n",
        "plt.tight_layout()\n",
        "plt.title('Confusion matrix')\n",
        "plt.ylabel('Actual label')\n",
        "plt.xlabel('Predicted label')\n",
        "tick_marks = [0.5, 1.5]\n",
        "plt.xticks(tick_marks, class_names)\n",
        "plt.yticks(tick_marks, class_names)"
      ],
      "metadata": {
        "id": "9EfNL_erlyeO",
        "colab": {
          "base_uri": "https://localhost:8080/",
          "height": 521
        },
        "outputId": "dd6c5a4a-3b29-4da9-8b26-5693bbda3378"
      },
      "execution_count": null,
      "outputs": [
        {
          "output_type": "execute_result",
          "data": {
            "text/plain": [
              "([<matplotlib.axis.YTick at 0x7f68e637f250>,\n",
              "  <matplotlib.axis.YTick at 0x7f68e637d9d0>],\n",
              " [Text(0, 0.5, 'False'), Text(0, 1.5, 'True')])"
            ]
          },
          "metadata": {},
          "execution_count": 33
        },
        {
          "output_type": "display_data",
          "data": {
            "text/plain": [
              "<Figure size 504x432 with 2 Axes>"
            ],
            "image/png": "[encoded data removed]"
          },
          "metadata": {
            "needs_background": "light"
          }
        }
      ]
    },
    {
      "cell_type": "markdown",
      "metadata": {
        "id": "so0WGMvBP3qT"
      },
      "source": [
        "### Tuned"
      ]
    },
    {
      "cell_type": "code",
      "execution_count": null,
      "metadata": {
        "id": "_bFJOHJhA6Jq",
        "colab": {
          "base_uri": "https://localhost:8080/"
        },
        "outputId": "1bc32e86-8761-4035-af43-013cfdd6fc86"
      },
      "outputs": [
        {
          "output_type": "stream",
          "name": "stdout",
          "text": [
            "8.665841272999998\n",
            "0.7113389038277599\n",
            "              precision    recall  f1-score   support\n",
            "\n",
            "           0       0.73      0.87      0.79     15302\n",
            "           1       0.63      0.42      0.50      8446\n",
            "\n",
            "    accuracy                           0.71     23748\n",
            "   macro avg       0.68      0.64      0.65     23748\n",
            "weighted avg       0.70      0.71      0.69     23748\n",
            "\n"
          ]
        }
      ],
      "source": [
        "t_start = time.process_time()\n",
        "param_grid = {'max_depth': [2, 4, 6, 8, 10], \n",
        "              'min_samples_leaf': [5, 10, 20, 50, 100],\n",
        "              'criterion' :['gini', 'entropy']\n",
        "             }\n",
        "dtc = DecisionTreeClassifier(random_state=1024)\n",
        "tuned_dtc = RandomizedSearchCV(estimator = dtc, param_distributions = param_grid, cv = 5, return_train_score = True)\n",
        "tuned_dtc.fit(x_train, y_train)\n",
        "t_end = time.process_time()\n",
        "t_diff = t_end - t_start\n",
        "train_score = tuned_dtc.score(x_train, y_train)\n",
        "\n",
        "best_estimator = tuned_dtc.best_estimator_\n",
        "y_pred = best_estimator.predict(x_test)\n",
        "\n",
        "print(t_diff)\n",
        "print(train_score)\n",
        "print(classification_report(y_test, y_pred))"
      ]
    },
    {
      "cell_type": "code",
      "execution_count": null,
      "metadata": {
        "id": "2JJ3BjePzAbT",
        "colab": {
          "base_uri": "https://localhost:8080/",
          "height": 521
        },
        "outputId": "3fa8492c-c21b-4f7e-e2b4-5c97079d9c0e"
      },
      "outputs": [
        {
          "output_type": "execute_result",
          "data": {
            "text/plain": [
              "([<matplotlib.axis.YTick at 0x7f68e65585d0>,\n",
              "  <matplotlib.axis.YTick at 0x7f68e653d750>],\n",
              " [Text(0, 0.5, 'False'), Text(0, 1.5, 'True')])"
            ]
          },
          "metadata": {},
          "execution_count": 35
        },
        {
          "output_type": "display_data",
          "data": {
            "text/plain": [
              "<Figure size 504x432 with 2 Axes>"
            ],
            "image/png": "[encoded data removed]"
          },
          "metadata": {
            "needs_background": "light"
          }
        }
      ],
      "source": [
        "cnf_matrix = confusion_matrix(y_test, y_pred)\n",
        "\n",
        "%matplotlib inline\n",
        "class_names=[False, True] # name  of classes\n",
        "fig, ax = plt.subplots(figsize=(7, 6))\n",
        "sns.heatmap(pd.DataFrame(cnf_matrix), annot=True, cmap=\"YlGnBu\", fmt='g')\n",
        "ax.xaxis.set_label_position(\"top\")\n",
        "plt.tight_layout()\n",
        "plt.title('Confusion matrix')\n",
        "plt.ylabel('Actual label')\n",
        "plt.xlabel('Predicted label')\n",
        "tick_marks = [0.5, 1.5]\n",
        "plt.xticks(tick_marks, class_names)\n",
        "plt.yticks(tick_marks, class_names)"
      ]
    },
    {
      "cell_type": "markdown",
      "metadata": {
        "id": "FDugW2LcV6xx"
      },
      "source": [
        "# PLAIN UPSAMPLING"
      ]
    },
    {
      "cell_type": "code",
      "execution_count": null,
      "metadata": {
        "id": "UFnnWyn4hzHx",
        "colab": {
          "base_uri": "https://localhost:8080/",
          "height": 280
        },
        "outputId": "92942399-4e5a-4b46-c286-f0c721a6ca48"
      },
      "outputs": [
        {
          "output_type": "display_data",
          "data": {
            "text/plain": [
              "<Figure size 432x288 with 1 Axes>"
            ],
            "image/png": "[encoded data removed]"
          },
          "metadata": {
            "needs_background": "light"
          }
        }
      ],
      "source": [
        "ax = sns.countplot(x= 'diabetes_mellitus', data=df)\n",
        "\n",
        "for p in ax.patches:\n",
        "   ax.annotate('{:.1f}'.format(p.get_height()), (p.get_x()+0.25, p.get_height()+0.01))\n",
        "\n",
        "plt.show()"
      ]
    },
    {
      "cell_type": "code",
      "execution_count": null,
      "metadata": {
        "id": "demVuIm79Xac",
        "colab": {
          "base_uri": "https://localhost:8080/"
        },
        "outputId": "2059a149-e77b-473f-b7f6-2b9aa039538a"
      },
      "outputs": [
        {
          "output_type": "execute_result",
          "data": {
            "text/plain": [
              "0    51007\n",
              "1    51007\n",
              "Name: diabetes_mellitus, dtype: int64"
            ]
          },
          "metadata": {},
          "execution_count": 37
        }
      ],
      "source": [
        "from sklearn.utils import resample\n",
        "\n",
        "df_majority = df[df.diabetes_mellitus==0]\n",
        "df_minority = df[df.diabetes_mellitus==1]\n",
        "\n",
        "# Upsample minority class\n",
        "df_minority_upsampled = resample(df_minority, \n",
        "                                 replace=True,     # sample with replacement\n",
        "                                 n_samples=51007,     # to match majority class\n",
        "                                 random_state=123) # reproducible results\n",
        " \n",
        "# Combine majority class with upsampled minority class\n",
        "df1 = pd.concat([df_majority, df_minority_upsampled])\n",
        "\n",
        "# Display new class counts\n",
        "df1.diabetes_mellitus.value_counts()"
      ]
    },
    {
      "cell_type": "code",
      "execution_count": null,
      "metadata": {
        "id": "P6N1nDf-nEEW",
        "colab": {
          "base_uri": "https://localhost:8080/",
          "height": 280
        },
        "outputId": "24e78255-4e3c-42a3-9d33-ff288e06dbcd"
      },
      "outputs": [
        {
          "output_type": "display_data",
          "data": {
            "text/plain": [
              "<Figure size 432x288 with 1 Axes>"
            ],
            "image/png": "[encoded data removed]"
          },
          "metadata": {
            "needs_background": "light"
          }
        }
      ],
      "source": [
        "ax = sns.countplot(x= 'diabetes_mellitus', data=df1)\n",
        "\n",
        "for p in ax.patches:\n",
        "   ax.annotate('{:.1f}'.format(p.get_height()), (p.get_x()+0.25, p.get_height()+0.01))\n",
        "\n",
        "plt.show()"
      ]
    },
    {
      "cell_type": "markdown",
      "source": [
        "### Define X and Y"
      ],
      "metadata": {
        "id": "9sKpccTluMF8"
      }
    },
    {
      "cell_type": "code",
      "source": [
        "X = df1.loc[:, df1.columns.isin(['h1_glucose_max', 'd1_glucose_min', 'bmi', 'd1_bun_max', 'creatinine_apache', \n",
        "                               'd1_bilirubin_max', 'ethnicity', 'd1_potassium_max', 'gender', 'age'])]\n",
        "                               \n",
        "y = df1[\"diabetes_mellitus\"] \n",
        "\n",
        "X_train, X_test, y_train, y_test = train_test_split(X, y, test_size=0.3,random_state=1024)"
      ],
      "metadata": {
        "id": "UXiU0Sr0tqB0"
      },
      "execution_count": null,
      "outputs": []
    },
    {
      "cell_type": "code",
      "source": [
        "pipe_dt=Pipeline([('scl',StandardScaler()),\n",
        "                 ('pca',PCA(n_components=2))\n",
        "                 ])\n",
        "\n",
        "x_train = pipe_dt.fit_transform(X_train)\n",
        "x_test = pipe_dt.fit_transform(X_test)\n",
        "print(X_train.shape, y_train.shape, X_test.shape)"
      ],
      "metadata": {
        "id": "-USOHysZtvGE",
        "colab": {
          "base_uri": "https://localhost:8080/"
        },
        "outputId": "1b51d8e0-5278-4959-d0a0-d7aac8888c65"
      },
      "execution_count": null,
      "outputs": [
        {
          "output_type": "stream",
          "name": "stdout",
          "text": [
            "(71409, 10) (71409,) (30605, 10)\n"
          ]
        }
      ]
    },
    {
      "cell_type": "markdown",
      "metadata": {
        "id": "idhUsGvdtjGe"
      },
      "source": [
        "## DTC"
      ]
    },
    {
      "cell_type": "markdown",
      "metadata": {
        "id": "xJF5BgrDtjGe"
      },
      "source": [
        "### No tuned"
      ]
    },
    {
      "cell_type": "code",
      "execution_count": null,
      "metadata": {
        "id": "L7sZZssYtjGe",
        "colab": {
          "base_uri": "https://localhost:8080/"
        },
        "outputId": "0da3590f-a1a8-467c-8d47-aef46770a96d"
      },
      "outputs": [
        {
          "output_type": "stream",
          "name": "stdout",
          "text": [
            "0.6552746289999973\n",
            "1.0\n",
            "              precision    recall  f1-score   support\n",
            "\n",
            "           0       0.56      0.69      0.62     15330\n",
            "           1       0.60      0.47      0.52     15275\n",
            "\n",
            "    accuracy                           0.58     30605\n",
            "   macro avg       0.58      0.58      0.57     30605\n",
            "weighted avg       0.58      0.58      0.57     30605\n",
            "\n"
          ]
        }
      ],
      "source": [
        "# compute training time\n",
        "t_start = time.process_time()\n",
        "dtc = DecisionTreeClassifier(random_state=1024)\n",
        "dtc.fit(x_train, y_train)\n",
        "t_end = time.process_time()\n",
        "t_diff = t_end - t_start\n",
        "train_score = dtc.score(x_train, y_train)\n",
        "\n",
        "y_pred = dtc.predict(x_test)\n",
        "\n",
        "print(t_diff)\n",
        "print(train_score)\n",
        "print(classification_report(y_test, y_pred))"
      ]
    },
    {
      "cell_type": "code",
      "execution_count": null,
      "metadata": {
        "id": "f2fZZuketjGe",
        "colab": {
          "base_uri": "https://localhost:8080/",
          "height": 521
        },
        "outputId": "db14f15b-b27e-48e3-b238-af8fbffc4cb2"
      },
      "outputs": [
        {
          "output_type": "execute_result",
          "data": {
            "text/plain": [
              "([<matplotlib.axis.YTick at 0x7f68e7632fd0>,\n",
              "  <matplotlib.axis.YTick at 0x7f68e76382d0>],\n",
              " [Text(0, 0.5, 'False'), Text(0, 1.5, 'True')])"
            ]
          },
          "metadata": {},
          "execution_count": 42
        },
        {
          "output_type": "display_data",
          "data": {
            "text/plain": [
              "<Figure size 504x432 with 2 Axes>"
            ],
            "image/png": "[encoded data removed]"
          },
          "metadata": {
            "needs_background": "light"
          }
        }
      ],
      "source": [
        "cnf_matrix = confusion_matrix(y_test, y_pred)\n",
        "\n",
        "%matplotlib inline\n",
        "class_names=[False, True] # name  of classes\n",
        "fig, ax = plt.subplots(figsize=(7, 6))\n",
        "sns.heatmap(pd.DataFrame(cnf_matrix), annot=True, cmap=\"YlGnBu\", fmt='g')\n",
        "ax.xaxis.set_label_position(\"top\")\n",
        "plt.tight_layout()\n",
        "plt.title('Confusion matrix')\n",
        "plt.ylabel('Actual label')\n",
        "plt.xlabel('Predicted label')\n",
        "tick_marks = [0.5, 1.5]\n",
        "plt.xticks(tick_marks, class_names)\n",
        "plt.yticks(tick_marks, class_names)"
      ]
    },
    {
      "cell_type": "markdown",
      "metadata": {
        "id": "YQizsExFtjGf"
      },
      "source": [
        "### Tuned"
      ]
    },
    {
      "cell_type": "code",
      "execution_count": null,
      "metadata": {
        "id": "Ye4T2VQWtjGf",
        "colab": {
          "base_uri": "https://localhost:8080/"
        },
        "outputId": "1e741b25-bb1e-4fe8-dd82-da8a75b20843"
      },
      "outputs": [
        {
          "output_type": "stream",
          "name": "stdout",
          "text": [
            "13.599658175999998\n",
            "0.6793821507092943\n",
            "              precision    recall  f1-score   support\n",
            "\n",
            "           0       0.66      0.69      0.67     15330\n",
            "           1       0.67      0.64      0.65     15275\n",
            "\n",
            "    accuracy                           0.66     30605\n",
            "   macro avg       0.66      0.66      0.66     30605\n",
            "weighted avg       0.66      0.66      0.66     30605\n",
            "\n"
          ]
        }
      ],
      "source": [
        "t_start = time.process_time()\n",
        "param_grid = {'max_depth': [2, 4, 6, 8, 10], \n",
        "              'min_samples_leaf': [5, 10, 20, 50, 100],\n",
        "              'criterion' :['gini', 'entropy']\n",
        "             }\n",
        "dtc = DecisionTreeClassifier(random_state=1024)\n",
        "tuned_dtc = RandomizedSearchCV(estimator = dtc, param_distributions = param_grid, cv = 5, return_train_score = True)\n",
        "tuned_dtc.fit(x_train, y_train)\n",
        "t_end = time.process_time()\n",
        "t_diff = t_end - t_start\n",
        "train_score = tuned_dtc.score(x_train, y_train)\n",
        "\n",
        "best_estimator = tuned_dtc.best_estimator_\n",
        "y_pred = best_estimator.predict(x_test)\n",
        "\n",
        "print(t_diff)\n",
        "print(train_score)\n",
        "print(classification_report(y_test, y_pred))"
      ]
    },
    {
      "cell_type": "code",
      "execution_count": null,
      "metadata": {
        "id": "9nsqSIB7tjGf",
        "colab": {
          "base_uri": "https://localhost:8080/",
          "height": 521
        },
        "outputId": "03eac7a0-9206-496a-ee43-430a461bcde9"
      },
      "outputs": [
        {
          "output_type": "execute_result",
          "data": {
            "text/plain": [
              "([<matplotlib.axis.YTick at 0x7f68e67ab810>,\n",
              "  <matplotlib.axis.YTick at 0x7f68e67ab7d0>],\n",
              " [Text(0, 0.5, 'False'), Text(0, 1.5, 'True')])"
            ]
          },
          "metadata": {},
          "execution_count": 44
        },
        {
          "output_type": "display_data",
          "data": {
            "text/plain": [
              "<Figure size 504x432 with 2 Axes>"
            ],
            "image/png": "[encoded data removed]"
          },
          "metadata": {
            "needs_background": "light"
          }
        }
      ],
      "source": [
        "cnf_matrix = confusion_matrix(y_test, y_pred)\n",
        "\n",
        "%matplotlib inline\n",
        "class_names=[False, True] # name  of classes\n",
        "fig, ax = plt.subplots(figsize=(7, 6))\n",
        "sns.heatmap(pd.DataFrame(cnf_matrix), annot=True, cmap=\"YlGnBu\", fmt='g')\n",
        "ax.xaxis.set_label_position(\"top\")\n",
        "plt.tight_layout()\n",
        "plt.title('Confusion matrix')\n",
        "plt.ylabel('Actual label')\n",
        "plt.xlabel('Predicted label')\n",
        "tick_marks = [0.5, 1.5]\n",
        "plt.xticks(tick_marks, class_names)\n",
        "plt.yticks(tick_marks, class_names)"
      ]
    },
    {
      "cell_type": "markdown",
      "source": [
        "# PLAIN DOWNSAMPLING"
      ],
      "metadata": {
        "id": "TpS27Ux_tRdm"
      }
    },
    {
      "cell_type": "code",
      "source": [
        "ax = sns.countplot(x= 'diabetes_mellitus', data=df)\n",
        "\n",
        "for p in ax.patches:\n",
        "   ax.annotate('{:.1f}'.format(p.get_height()), (p.get_x()+0.25, p.get_height()+0.01))\n",
        "\n",
        "plt.show()"
      ],
      "metadata": {
        "id": "UnR4So1okGKQ",
        "colab": {
          "base_uri": "https://localhost:8080/",
          "height": 280
        },
        "outputId": "7e5dc4e6-1e06-46ca-bb66-2d78d0d8ab6a"
      },
      "execution_count": null,
      "outputs": [
        {
          "output_type": "display_data",
          "data": {
            "text/plain": [
              "<Figure size 432x288 with 1 Axes>"
            ],
            "image/png": "[encoded data removed]"
          },
          "metadata": {
            "needs_background": "light"
          }
        }
      ]
    },
    {
      "cell_type": "code",
      "source": [
        "from sklearn.utils import resample\n",
        "\n",
        "df_majority = df[df.diabetes_mellitus==0]\n",
        "df_minority = df[df.diabetes_mellitus==1]\n",
        "\n",
        "# Upsample minority class\n",
        "df_majority_downsampled = resample(df_majority, \n",
        "                                 replace=False,    \n",
        "                                 n_samples=28152,     \n",
        "                                 random_state=123) \n",
        " \n",
        "# Combine majority class with upsampled minority class\n",
        "df1 = pd.concat([df_minority, df_majority_downsampled])\n",
        "\n",
        "# Display new class counts\n",
        "df1.diabetes_mellitus.value_counts()"
      ],
      "metadata": {
        "id": "MiAQqQNQs2zV",
        "colab": {
          "base_uri": "https://localhost:8080/"
        },
        "outputId": "52c974b5-a69d-4c35-c7ff-75f204e4b6bc"
      },
      "execution_count": null,
      "outputs": [
        {
          "output_type": "execute_result",
          "data": {
            "text/plain": [
              "1    28152\n",
              "0    28152\n",
              "Name: diabetes_mellitus, dtype: int64"
            ]
          },
          "metadata": {},
          "execution_count": 46
        }
      ]
    },
    {
      "cell_type": "code",
      "source": [
        "ax = sns.countplot(x= 'diabetes_mellitus', data=df1)\n",
        "\n",
        "for p in ax.patches:\n",
        "   ax.annotate('{:.1f}'.format(p.get_height()), (p.get_x()+0.25, p.get_height()+0.01))\n",
        "\n",
        "plt.show()"
      ],
      "metadata": {
        "id": "rVJrrAsAtOPn",
        "colab": {
          "base_uri": "https://localhost:8080/",
          "height": 280
        },
        "outputId": "ae6087c1-d898-431e-c14f-b9b40ce87c63"
      },
      "execution_count": null,
      "outputs": [
        {
          "output_type": "display_data",
          "data": {
            "text/plain": [
              "<Figure size 432x288 with 1 Axes>"
            ],
            "image/png": "[encoded data removed]"
          },
          "metadata": {
            "needs_background": "light"
          }
        }
      ]
    },
    {
      "cell_type": "markdown",
      "metadata": {
        "id": "HBsLfdFcxgzI"
      },
      "source": [
        "## Define X and Y"
      ]
    },
    {
      "cell_type": "code",
      "execution_count": null,
      "metadata": {
        "id": "qjXw9gdqxdla"
      },
      "outputs": [],
      "source": [
        "X = df1.loc[:, df1.columns.isin(['h1_glucose_max', 'd1_glucose_min', 'bmi', 'd1_bun_max', 'creatinine_apache', \n",
        "                               'd1_bilirubin_max', 'ethnicity', 'd1_potassium_max', 'gender', 'age'])]\n",
        "                               \n",
        "y = df1[\"diabetes_mellitus\"] \n",
        "\n",
        "X_train, X_test, y_train, y_test = train_test_split(X, y, test_size=0.3,random_state=1024)"
      ]
    },
    {
      "cell_type": "code",
      "execution_count": null,
      "metadata": {
        "id": "QdkzKwkVcYYO",
        "colab": {
          "base_uri": "https://localhost:8080/"
        },
        "outputId": "05a39e21-eba1-4c36-d5f9-f648ec432030"
      },
      "outputs": [
        {
          "output_type": "stream",
          "name": "stdout",
          "text": [
            "(39412, 10) (39412,) (16892, 10)\n"
          ]
        }
      ],
      "source": [
        "pipe_dt=Pipeline([('scl',StandardScaler()),\n",
        "                 ('pca',PCA(n_components=2))\n",
        "                 ])\n",
        "\n",
        "x_train = pipe_dt.fit_transform(X_train)\n",
        "x_test = pipe_dt.fit_transform(X_test)\n",
        "print(X_train.shape, y_train.shape, X_test.shape)"
      ]
    },
    {
      "cell_type": "markdown",
      "metadata": {
        "id": "8YOgH7Ug82XU"
      },
      "source": [
        "## DTC"
      ]
    },
    {
      "cell_type": "markdown",
      "metadata": {
        "id": "PdITDK7n4-yr"
      },
      "source": [
        "### No tuned"
      ]
    },
    {
      "cell_type": "code",
      "execution_count": null,
      "metadata": {
        "id": "e8ZZ-bEiXnvu",
        "colab": {
          "base_uri": "https://localhost:8080/"
        },
        "outputId": "7f0105a6-e24f-4ef8-ad3e-bfd718951fba"
      },
      "outputs": [
        {
          "output_type": "stream",
          "name": "stdout",
          "text": [
            "0.4245094970000025\n",
            "1.0\n",
            "              precision    recall  f1-score   support\n",
            "\n",
            "           0       0.48      0.48      0.48      8318\n",
            "           1       0.50      0.50      0.50      8574\n",
            "\n",
            "    accuracy                           0.49     16892\n",
            "   macro avg       0.49      0.49      0.49     16892\n",
            "weighted avg       0.49      0.49      0.49     16892\n",
            "\n"
          ]
        }
      ],
      "source": [
        "# compute training time\n",
        "t_start = time.process_time()\n",
        "dtc = DecisionTreeClassifier(random_state=1024)\n",
        "dtc.fit(x_train, y_train)\n",
        "t_end = time.process_time()\n",
        "t_diff = t_end - t_start\n",
        "train_score = dtc.score(x_train, y_train)\n",
        "\n",
        "y_pred = dtc.predict(x_test)\n",
        "\n",
        "print(t_diff)\n",
        "print(train_score)\n",
        "print(classification_report(y_test, y_pred))"
      ]
    },
    {
      "cell_type": "code",
      "execution_count": null,
      "metadata": {
        "id": "HedqIAZR5BUi",
        "colab": {
          "base_uri": "https://localhost:8080/"
        },
        "outputId": "df07d34e-db7b-4981-8276-1ccfcc8888c6"
      },
      "outputs": [
        {
          "output_type": "execute_result",
          "data": {
            "text/plain": [
              "([<matplotlib.axis.YTick at 0x7f68e691b250>,\n",
              "  <matplotlib.axis.YTick at 0x7f68e68f19d0>],\n",
              " [Text(0, 0.5, 'False'), Text(0, 1.5, 'True')])"
            ]
          },
          "metadata": {},
          "execution_count": 51
        },
        {
          "output_type": "display_data",
          "data": {
            "text/plain": [
              "<Figure size 504x432 with 2 Axes>"
            ],
            "image/png": "[encoded data removed]"
          },
          "metadata": {
            "needs_background": "light"
          }
        }
      ],
      "source": [
        "cnf_matrix = confusion_matrix(y_test, y_pred)\n",
        "\n",
        "%matplotlib inline\n",
        "class_names=[False, True] # name  of classes\n",
        "fig, ax = plt.subplots(figsize=(7, 6))\n",
        "sns.heatmap(pd.DataFrame(cnf_matrix), annot=True, cmap=\"YlGnBu\", fmt='g')\n",
        "ax.xaxis.set_label_position(\"top\")\n",
        "plt.tight_layout()\n",
        "plt.title('Confusion matrix')\n",
        "plt.ylabel('Actual label')\n",
        "plt.xlabel('Predicted label')\n",
        "tick_marks = [0.5, 1.5]\n",
        "plt.xticks(tick_marks, class_names)\n",
        "plt.yticks(tick_marks, class_names)"
      ]
    },
    {
      "cell_type": "markdown",
      "metadata": {
        "id": "LErkexMP0P0u"
      },
      "source": [
        "### Tuned"
      ]
    },
    {
      "cell_type": "code",
      "execution_count": null,
      "metadata": {
        "id": "8DQxhp5590GA",
        "colab": {
          "base_uri": "https://localhost:8080/"
        },
        "outputId": "3fc2b7f4-b261-4ce8-cdef-a3b7e8838e19"
      },
      "outputs": [
        {
          "output_type": "stream",
          "name": "stdout",
          "text": [
            "5.696350163000005\n",
            "0.6743377651476707\n",
            "              precision    recall  f1-score   support\n",
            "\n",
            "           0       0.47      0.48      0.48      8318\n",
            "           1       0.49      0.48      0.48      8574\n",
            "\n",
            "    accuracy                           0.48     16892\n",
            "   macro avg       0.48      0.48      0.48     16892\n",
            "weighted avg       0.48      0.48      0.48     16892\n",
            "\n"
          ]
        }
      ],
      "source": [
        "t_start = time.process_time()\n",
        "param_grid = {'max_depth': [2, 4, 6, 8, 10], \n",
        "              'min_samples_leaf': [5, 10, 20, 50, 100],\n",
        "              'criterion' :['gini', 'entropy']\n",
        "             }\n",
        "dtc = DecisionTreeClassifier(random_state=1024)\n",
        "tuned_dtc = RandomizedSearchCV(estimator = dtc, param_distributions = param_grid, cv = 5, return_train_score = True)\n",
        "tuned_dtc.fit(x_train, y_train)\n",
        "t_end = time.process_time()\n",
        "t_diff = t_end - t_start\n",
        "train_score = tuned_dtc.score(x_train, y_train)\n",
        "\n",
        "best_estimator = tuned_dtc.best_estimator_\n",
        "y_pred = best_estimator.predict(x_test)\n",
        "\n",
        "print(t_diff)\n",
        "print(train_score)\n",
        "print(classification_report(y_test, y_pred))"
      ]
    },
    {
      "cell_type": "code",
      "execution_count": null,
      "metadata": {
        "id": "ISmvnlzGyD-O",
        "colab": {
          "base_uri": "https://localhost:8080/"
        },
        "outputId": "9f16ce10-42c2-4cf0-afe7-c9914c9e6bb2"
      },
      "outputs": [
        {
          "output_type": "execute_result",
          "data": {
            "text/plain": [
              "([<matplotlib.axis.YTick at 0x7f68e680bcd0>,\n",
              "  <matplotlib.axis.YTick at 0x7f68e680b490>],\n",
              " [Text(0, 0.5, 'False'), Text(0, 1.5, 'True')])"
            ]
          },
          "metadata": {},
          "execution_count": 53
        },
        {
          "output_type": "display_data",
          "data": {
            "text/plain": [
              "<Figure size 504x432 with 2 Axes>"
            ],
            "image/png": "[encoded data removed]"
          },
          "metadata": {
            "needs_background": "light"
          }
        }
      ],
      "source": [
        "cnf_matrix = confusion_matrix(y_test, y_pred)\n",
        "\n",
        "%matplotlib inline\n",
        "class_names=[False, True] # name  of classes\n",
        "fig, ax = plt.subplots(figsize=(7, 6))\n",
        "sns.heatmap(pd.DataFrame(cnf_matrix), annot=True, cmap=\"YlGnBu\", fmt='g')\n",
        "ax.xaxis.set_label_position(\"top\")\n",
        "plt.tight_layout()\n",
        "plt.title('Confusion matrix')\n",
        "plt.ylabel('Actual label')\n",
        "plt.xlabel('Predicted label')\n",
        "tick_marks = [0.5, 1.5]\n",
        "plt.xticks(tick_marks, class_names)\n",
        "plt.yticks(tick_marks, class_names)"
      ]
    },
    {
      "cell_type": "markdown",
      "source": [
        "# SMOTE "
      ],
      "metadata": {
        "id": "y-uOwR1B4ecb"
      }
    },
    {
      "cell_type": "markdown",
      "source": [
        "### Define X and Y"
      ],
      "metadata": {
        "id": "Asw3bLwM5lng"
      }
    },
    {
      "cell_type": "code",
      "source": [
        "X = df.loc[:, df.columns.isin(['h1_glucose_max', 'd1_glucose_min', 'bmi', 'd1_bun_max', 'creatinine_apache', \n",
        "                               'd1_bilirubin_max', 'ethnicity', 'd1_potassium_max', 'gender', 'age'])]\n",
        "y = df[\"diabetes_mellitus\"] \n",
        "\n",
        "X_train, X_test, y_train, y_test = train_test_split(X, y, test_size=0.3,random_state=1024)"
      ],
      "metadata": {
        "id": "xV7qye2tD3rL"
      },
      "execution_count": null,
      "outputs": []
    },
    {
      "cell_type": "code",
      "source": [
        "from imblearn.over_sampling import SMOTE\n",
        "\n",
        "sm = SMOTE(random_state=1024)\n",
        "X_train, y_train = sm.fit_resample(X_train, y_train)\n",
        "\n",
        "print('After OverSampling, the shape of X_train: {}'.format(X_train.shape))\n",
        "print('After OverSampling, the shape of y_train: {} \\n'.format(y_train.shape))\n",
        "  \n",
        "print(\"After OverSampling, counts of label '1': {}\".format(sum(y_train == 1)))\n",
        "print(\"After OverSampling, counts of label '0': {}\".format(sum(y_train == 0)))"
      ],
      "metadata": {
        "id": "eHhHFM3K4kXK",
        "colab": {
          "base_uri": "https://localhost:8080/"
        },
        "outputId": "283c2c45-b592-4c08-f908-6ad53f8b7d22"
      },
      "execution_count": null,
      "outputs": [
        {
          "output_type": "stream",
          "name": "stdout",
          "text": [
            "After OverSampling, the shape of X_train: (71436, 10)\n",
            "After OverSampling, the shape of y_train: (71436,) \n",
            "\n",
            "After OverSampling, counts of label '1': 35718\n",
            "After OverSampling, counts of label '0': 35718\n"
          ]
        }
      ]
    },
    {
      "cell_type": "code",
      "source": [
        "pipe_dt=Pipeline([('scl',StandardScaler()),\n",
        "                 ('pca',PCA(n_components=2))\n",
        "                 ])\n",
        "\n",
        "x_train = pipe_dt.fit_transform(X_train)\n",
        "x_test = pipe_dt.fit_transform(X_test)\n",
        "print(X_train.shape, y_train.shape, X_test.shape)"
      ],
      "metadata": {
        "id": "b3LUfIed4g5a",
        "colab": {
          "base_uri": "https://localhost:8080/"
        },
        "outputId": "d67cb726-e214-46ec-b060-1fab3706bb12"
      },
      "execution_count": null,
      "outputs": [
        {
          "output_type": "stream",
          "name": "stdout",
          "text": [
            "(71436, 10) (71436,) (23748, 10)\n"
          ]
        }
      ]
    },
    {
      "cell_type": "markdown",
      "source": [
        "### No tune"
      ],
      "metadata": {
        "id": "NMnaw7sH5stv"
      }
    },
    {
      "cell_type": "code",
      "source": [
        "# compute training time\n",
        "t_start = time.process_time()\n",
        "dtc = DecisionTreeClassifier(random_state=1024)\n",
        "dtc.fit(x_train, y_train)\n",
        "t_end = time.process_time()\n",
        "t_diff = t_end - t_start\n",
        "train_score = dtc.score(x_train, y_train)\n",
        "\n",
        "y_pred = dtc.predict(x_test)\n",
        "\n",
        "print(t_diff)\n",
        "print(train_score)\n",
        "print(classification_report(y_test, y_pred))"
      ],
      "metadata": {
        "id": "lgDYTBrD5iXh",
        "colab": {
          "base_uri": "https://localhost:8080/"
        },
        "outputId": "3444097b-4b1f-4ae1-9822-7f696f562e5a"
      },
      "execution_count": null,
      "outputs": [
        {
          "output_type": "stream",
          "name": "stdout",
          "text": [
            "0.6016683799999925\n",
            "1.0\n",
            "              precision    recall  f1-score   support\n",
            "\n",
            "           0       0.63      0.47      0.54     15289\n",
            "           1       0.34      0.50      0.40      8459\n",
            "\n",
            "    accuracy                           0.48     23748\n",
            "   macro avg       0.48      0.48      0.47     23748\n",
            "weighted avg       0.52      0.48      0.49     23748\n",
            "\n"
          ]
        }
      ]
    },
    {
      "cell_type": "markdown",
      "source": [
        "### Tuned"
      ],
      "metadata": {
        "id": "ufGkuu7B5ueX"
      }
    },
    {
      "cell_type": "code",
      "source": [
        "t_start = time.process_time()\n",
        "param_grid = {'max_depth': [2, 4, 6, 8, 10], \n",
        "              'min_samples_leaf': [5, 10, 20, 50, 100],\n",
        "              'criterion' :['gini', 'entropy']\n",
        "             }\n",
        "dtc = DecisionTreeClassifier(random_state=1024)\n",
        "tuned_dtc = RandomizedSearchCV(estimator = dtc, param_distributions = param_grid, cv = 5, return_train_score = True)\n",
        "tuned_dtc.fit(x_train, y_train)\n",
        "t_end = time.process_time()\n",
        "t_diff = t_end - t_start\n",
        "train_score = tuned_dtc.score(x_train, y_train)\n",
        "\n",
        "best_estimator = tuned_dtc.best_estimator_\n",
        "y_pred = best_estimator.predict(x_test)\n",
        "\n",
        "print(t_diff)\n",
        "print(train_score)\n",
        "print(classification_report(y_test, y_pred))"
      ],
      "metadata": {
        "id": "hP8p-YKa5r7f",
        "colab": {
          "base_uri": "https://localhost:8080/"
        },
        "outputId": "89f6b38c-78e7-4580-fc91-b97e7b6c4e35"
      },
      "execution_count": null,
      "outputs": [
        {
          "output_type": "stream",
          "name": "stdout",
          "text": [
            "9.456309022\n",
            "0.6783274539447898\n",
            "              precision    recall  f1-score   support\n",
            "\n",
            "           0       0.60      0.46      0.52     15289\n",
            "           1       0.32      0.45      0.37      8459\n",
            "\n",
            "    accuracy                           0.46     23748\n",
            "   macro avg       0.46      0.46      0.45     23748\n",
            "weighted avg       0.50      0.46      0.47     23748\n",
            "\n"
          ]
        }
      ]
    },
    {
      "cell_type": "markdown",
      "source": [
        "# Random Under Sampler"
      ],
      "metadata": {
        "id": "d_063I9a8sSV"
      }
    },
    {
      "cell_type": "code",
      "source": [
        "X = df.loc[:, df.columns.isin(['h1_glucose_max', 'd1_glucose_min', 'bmi', 'd1_bun_max', 'creatinine_apache', \n",
        "                               'd1_bilirubin_max', 'ethnicity', 'd1_potassium_max', 'gender', 'age'])]\n",
        "y = df[\"diabetes_mellitus\"] \n",
        "\n",
        "X_train, X_test, y_train, y_test = train_test_split(X, y, test_size=0.3,random_state=1, stratify=y)"
      ],
      "metadata": {
        "id": "pOxXd6FS8xr0"
      },
      "execution_count": null,
      "outputs": []
    },
    {
      "cell_type": "code",
      "source": [
        "from imblearn.under_sampling import NearMiss\n",
        "nr = NearMiss()\n",
        "X_train, y_train = nr.fit_resample(X_train, y_train.ravel())\n",
        "\n",
        "print('After UnderSampling, the shape of X_train: {}'.format(X_train.shape))\n",
        "print('After UnderSampling, the shape of y_train: {} \\n'.format(y_train.shape))\n",
        "  \n",
        "print(\"After UnderSampling, counts of label '1': {}\".format(sum(y_train == 1)))\n",
        "print(\"After UnderSampling, counts of label '0': {}\".format(sum(y_train == 0)))"
      ],
      "metadata": {
        "id": "JBIvwUy389ET",
        "colab": {
          "base_uri": "https://localhost:8080/"
        },
        "outputId": "178863d4-36a0-4395-8fc3-1021805eaeb4"
      },
      "execution_count": null,
      "outputs": [
        {
          "output_type": "stream",
          "name": "stdout",
          "text": [
            "After UnderSampling, the shape of X_train: (39412, 10)\n",
            "After UnderSampling, the shape of y_train: (39412,) \n",
            "\n",
            "After UnderSampling, counts of label '1': 19706\n",
            "After UnderSampling, counts of label '0': 19706\n"
          ]
        }
      ]
    },
    {
      "cell_type": "code",
      "source": [
        "pipe_dt=Pipeline([('scl',StandardScaler()),\n",
        "                 ('pca',PCA(n_components=2))\n",
        "                 ])\n",
        "\n",
        "x_train = pipe_dt.fit_transform(X_train)\n",
        "x_test = pipe_dt.fit_transform(X_test)\n",
        "print(X_train.shape, y_train.shape, X_test.shape)"
      ],
      "metadata": {
        "id": "IJYVw7159X1E",
        "colab": {
          "base_uri": "https://localhost:8080/"
        },
        "outputId": "18a8091c-6f52-4cbd-d97b-457e87dd389c"
      },
      "execution_count": null,
      "outputs": [
        {
          "output_type": "stream",
          "name": "stdout",
          "text": [
            "(39412, 10) (39412,) (23748, 10)\n"
          ]
        }
      ]
    },
    {
      "cell_type": "markdown",
      "source": [
        "### No tune"
      ],
      "metadata": {
        "id": "YM6ozSab9SyD"
      }
    },
    {
      "cell_type": "code",
      "source": [
        "# compute training time\n",
        "t_start = time.process_time()\n",
        "dtc = DecisionTreeClassifier(random_state=1024)\n",
        "dtc.fit(x_train, y_train)\n",
        "t_end = time.process_time()\n",
        "t_diff = t_end - t_start\n",
        "train_score = dtc.score(x_train, y_train)\n",
        "\n",
        "y_pred = dtc.predict(x_test)\n",
        "\n",
        "print(t_diff)\n",
        "print(train_score)\n",
        "print(classification_report(y_test, y_pred))"
      ],
      "metadata": {
        "id": "RufkTKOf9TnE",
        "colab": {
          "base_uri": "https://localhost:8080/"
        },
        "outputId": "a9cc89a4-0d8c-4a68-d384-f5e6084d57d9"
      },
      "execution_count": null,
      "outputs": [
        {
          "output_type": "stream",
          "name": "stdout",
          "text": [
            "0.34150823100000594\n",
            "1.0\n",
            "              precision    recall  f1-score   support\n",
            "\n",
            "           0       0.74      0.57      0.65     15302\n",
            "           1       0.45      0.63      0.53      8446\n",
            "\n",
            "    accuracy                           0.59     23748\n",
            "   macro avg       0.59      0.60      0.59     23748\n",
            "weighted avg       0.64      0.59      0.60     23748\n",
            "\n"
          ]
        }
      ]
    },
    {
      "cell_type": "markdown",
      "source": [
        "## Tuned"
      ],
      "metadata": {
        "id": "KgOC0EZ29dJr"
      }
    },
    {
      "cell_type": "code",
      "source": [
        "t_start = time.process_time()\n",
        "param_grid = {'max_depth': [2, 4, 6, 8, 10], \n",
        "              'min_samples_leaf': [5, 10, 20, 50, 100],\n",
        "              'criterion' :['gini', 'entropy']\n",
        "             }\n",
        "dtc = DecisionTreeClassifier(random_state=1024)\n",
        "tuned_dtc = RandomizedSearchCV(estimator = dtc, param_distributions = param_grid, cv = 5, return_train_score = True)\n",
        "tuned_dtc.fit(x_train, y_train)\n",
        "t_end = time.process_time()\n",
        "t_diff = t_end - t_start\n",
        "train_score = tuned_dtc.score(x_train, y_train)\n",
        "\n",
        "best_estimator = tuned_dtc.best_estimator_\n",
        "y_pred = best_estimator.predict(x_test)\n",
        "\n",
        "print(t_diff)\n",
        "print(train_score)\n",
        "print(classification_report(y_test, y_pred))"
      ],
      "metadata": {
        "id": "n1c7fwfq9e0z",
        "colab": {
          "base_uri": "https://localhost:8080/"
        },
        "outputId": "1f4b68b2-9282-4a65-c08f-1f830d8791c6"
      },
      "execution_count": null,
      "outputs": [
        {
          "output_type": "stream",
          "name": "stdout",
          "text": [
            "5.396250234999997\n",
            "0.7371358976961332\n",
            "              precision    recall  f1-score   support\n",
            "\n",
            "           0       0.76      0.69      0.73     15302\n",
            "           1       0.52      0.61      0.57      8446\n",
            "\n",
            "    accuracy                           0.66     23748\n",
            "   macro avg       0.64      0.65      0.65     23748\n",
            "weighted avg       0.68      0.66      0.67     23748\n",
            "\n"
          ]
        }
      ]
    }
  ],
  "metadata": {
    "colab": {
      "provenance": [],
      "toc_visible": true,
      "include_colab_link": true
    },
    "kernelspec": {
      "display_name": "Python 3",
      "name": "python3"
    },
    "language_info": {
      "name": "python"
    }
  },
  "nbformat": 4,
  "nbformat_minor": 0
}