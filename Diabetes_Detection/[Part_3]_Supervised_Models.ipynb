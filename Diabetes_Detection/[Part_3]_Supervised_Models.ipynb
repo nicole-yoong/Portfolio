{
  "cells": [
    {
      "cell_type": "markdown",
      "metadata": {
        "id": "view-in-github",
        "colab_type": "text"
      },
      "source": [
        "<a href=\"https://colab.research.google.com/github/nicole-yoong/Portfolio/blob/main/Diabetes_Detection/%5BPart_3%5D_Supervised_Models.ipynb\" target=\"_parent\"><img src=\"https://colab.research.google.com/assets/colab-badge.svg\" alt=\"Open In Colab\"/></a>"
      ]
    },
    {
      "cell_type": "markdown",
      "metadata": {
        "id": "9S3kDo6tqqrk"
      },
      "source": [
        "# Import modules"
      ]
    },
    {
      "cell_type": "code",
      "execution_count": null,
      "metadata": {
        "colab": {
          "base_uri": "https://localhost:8080/"
        },
        "id": "mgNOWcoZIVYP",
        "outputId": "85be6082-c356-41de-8f3e-64c57e326a21"
      },
      "outputs": [
        {
          "output_type": "stream",
          "name": "stdout",
          "text": [
            "Setup complete.\n"
          ]
        }
      ],
      "source": [
        "import pandas as pd\n",
        "import numpy as np\n",
        "pd.plotting.register_matplotlib_converters()\n",
        "import matplotlib.pyplot as plt\n",
        "%matplotlib inline\n",
        "import seaborn as sns\n",
        "pd.set_option('display.max_rows', None)\n",
        "\n",
        "from sklearn.preprocessing import StandardScaler, MinMaxScaler\n",
        "from sklearn.decomposition import PCA\n",
        "from sklearn.pipeline import Pipeline\n",
        "\n",
        "from sklearn.linear_model import LogisticRegression\n",
        "from sklearn.linear_model import PassiveAggressiveClassifier\n",
        "from sklearn.linear_model import RidgeClassifierCV\n",
        "from sklearn.linear_model import SGDClassifier\n",
        "from sklearn.linear_model import Perceptron\n",
        "\n",
        "from sklearn.tree import DecisionTreeClassifier\n",
        "from sklearn.tree import ExtraTreeClassifier\n",
        "\n",
        "from sklearn.ensemble import RandomForestClassifier\n",
        "from sklearn.ensemble import ExtraTreesClassifier\n",
        "from sklearn.ensemble import BaggingClassifier\n",
        "from sklearn.ensemble import GradientBoostingClassifier\n",
        "\n",
        "from sklearn.model_selection import train_test_split\n",
        "from sklearn.model_selection import GridSearchCV\n",
        "from sklearn.model_selection import RandomizedSearchCV\n",
        "from sklearn.metrics import classification_report, confusion_matrix\n",
        "from sklearn.model_selection import cross_validate\n",
        "from sklearn.model_selection import cross_val_score\n",
        "from sklearn.model_selection import ShuffleSplit\n",
        "from sklearn.model_selection import KFold\n",
        "from sklearn.model_selection import RepeatedStratifiedKFold\n",
        "from sklearn.naive_bayes import GaussianNB\n",
        "\n",
        "from sklearn.ensemble import BaggingClassifier\n",
        "from sklearn.neighbors import KNeighborsClassifier\n",
        "from numpy import mean\n",
        "from numpy import std\n",
        "from imblearn.under_sampling import NearMiss\n",
        "\n",
        "\n",
        "import time\n",
        "print(\"Setup complete.\")"
      ]
    },
    {
      "cell_type": "markdown",
      "metadata": {
        "id": "8R91LH4NIeqm"
      },
      "source": [
        "# Loading data"
      ]
    },
    {
      "cell_type": "code",
      "execution_count": null,
      "metadata": {
        "colab": {
          "base_uri": "https://localhost:8080/",
          "height": 300
        },
        "id": "EWU58-riHuY4",
        "outputId": "bfc7e486-f570-426a-c0ac-f25799a603ba"
      },
      "outputs": [
        {
          "output_type": "execute_result",
          "data": {
            "text/plain": [
              "   encounter_id  hospital_id gender  ethnicity   age  elective_surgery  \\\n",
              "0        214826          118      M  Caucasian  68.0                 0   \n",
              "1        276985          118      F  Caucasian  25.0                 0   \n",
              "2        262220          118      F  Caucasian  81.0                 1   \n",
              "3        201746           33      M  Caucasian  19.0                 0   \n",
              "4        246060           81      F  Caucasian  77.0                 0   \n",
              "\n",
              "   height  weight        bmi  readmission_status  ... map_apache  aids  \\\n",
              "0   180.3    73.9  22.732803                   0  ...       40.0     0   \n",
              "1   172.7    95.3  31.952749                   0  ...       68.0     0   \n",
              "2   165.1    61.7  22.635548                   0  ...       60.0     0   \n",
              "3   188.0     NaN        NaN                   0  ...      103.0     0   \n",
              "4   160.0    70.2  27.421875                   0  ...       46.0     0   \n",
              "\n",
              "   cirrhosis  hepatic_failure  immunosuppression  leukemia  lymphoma  \\\n",
              "0          0                0                  0         0         0   \n",
              "1          0                0                  0         0         0   \n",
              "2          0                0                  0         0         0   \n",
              "3          0                0                  0         0         0   \n",
              "4          0                0                  0         0         0   \n",
              "\n",
              "   solid_tumor_with_metastasis  ventilated_apache  diabetes_mellitus  \n",
              "0                            0                  0                  1  \n",
              "1                            0                  0                  0  \n",
              "2                            0                  1                  0  \n",
              "3                            0                  0                  0  \n",
              "4                            0                  1                  1  \n",
              "\n",
              "[5 rows x 88 columns]"
            ],
            "text/html": [
              "\n",
              "  <div id=\"df-0572d375-407c-48f0-aa7f-a23fe8797cc8\">\n",
              "    <div class=\"colab-df-container\">\n",
              "      <div>\n",
              "<style scoped>\n",
              "    .dataframe tbody tr th:only-of-type {\n",
              "        vertical-align: middle;\n",
              "    }\n",
              "\n",
              "    .dataframe tbody tr th {\n",
              "        vertical-align: top;\n",
              "    }\n",
              "\n",
              "    .dataframe thead th {\n",
              "        text-align: right;\n",
              "    }\n",
              "</style>\n",
              "<table border=\"1\" class=\"dataframe\">\n",
              "  <thead>\n",
              "    <tr style=\"text-align: right;\">\n",
              "      <th></th>\n",
              "      <th>encounter_id</th>\n",
              "      <th>hospital_id</th>\n",
              "      <th>gender</th>\n",
              "      <th>ethnicity</th>\n",
              "      <th>age</th>\n",
              "      <th>elective_surgery</th>\n",
              "      <th>height</th>\n",
              "      <th>weight</th>\n",
              "      <th>bmi</th>\n",
              "      <th>readmission_status</th>\n",
              "      <th>...</th>\n",
              "      <th>map_apache</th>\n",
              "      <th>aids</th>\n",
              "      <th>cirrhosis</th>\n",
              "      <th>hepatic_failure</th>\n",
              "      <th>immunosuppression</th>\n",
              "      <th>leukemia</th>\n",
              "      <th>lymphoma</th>\n",
              "      <th>solid_tumor_with_metastasis</th>\n",
              "      <th>ventilated_apache</th>\n",
              "      <th>diabetes_mellitus</th>\n",
              "    </tr>\n",
              "  </thead>\n",
              "  <tbody>\n",
              "    <tr>\n",
              "      <th>0</th>\n",
              "      <td>214826</td>\n",
              "      <td>118</td>\n",
              "      <td>M</td>\n",
              "      <td>Caucasian</td>\n",
              "      <td>68.0</td>\n",
              "      <td>0</td>\n",
              "      <td>180.3</td>\n",
              "      <td>73.9</td>\n",
              "      <td>22.732803</td>\n",
              "      <td>0</td>\n",
              "      <td>...</td>\n",
              "      <td>40.0</td>\n",
              "      <td>0</td>\n",
              "      <td>0</td>\n",
              "      <td>0</td>\n",
              "      <td>0</td>\n",
              "      <td>0</td>\n",
              "      <td>0</td>\n",
              "      <td>0</td>\n",
              "      <td>0</td>\n",
              "      <td>1</td>\n",
              "    </tr>\n",
              "    <tr>\n",
              "      <th>1</th>\n",
              "      <td>276985</td>\n",
              "      <td>118</td>\n",
              "      <td>F</td>\n",
              "      <td>Caucasian</td>\n",
              "      <td>25.0</td>\n",
              "      <td>0</td>\n",
              "      <td>172.7</td>\n",
              "      <td>95.3</td>\n",
              "      <td>31.952749</td>\n",
              "      <td>0</td>\n",
              "      <td>...</td>\n",
              "      <td>68.0</td>\n",
              "      <td>0</td>\n",
              "      <td>0</td>\n",
              "      <td>0</td>\n",
              "      <td>0</td>\n",
              "      <td>0</td>\n",
              "      <td>0</td>\n",
              "      <td>0</td>\n",
              "      <td>0</td>\n",
              "      <td>0</td>\n",
              "    </tr>\n",
              "    <tr>\n",
              "      <th>2</th>\n",
              "      <td>262220</td>\n",
              "      <td>118</td>\n",
              "      <td>F</td>\n",
              "      <td>Caucasian</td>\n",
              "      <td>81.0</td>\n",
              "      <td>1</td>\n",
              "      <td>165.1</td>\n",
              "      <td>61.7</td>\n",
              "      <td>22.635548</td>\n",
              "      <td>0</td>\n",
              "      <td>...</td>\n",
              "      <td>60.0</td>\n",
              "      <td>0</td>\n",
              "      <td>0</td>\n",
              "      <td>0</td>\n",
              "      <td>0</td>\n",
              "      <td>0</td>\n",
              "      <td>0</td>\n",
              "      <td>0</td>\n",
              "      <td>1</td>\n",
              "      <td>0</td>\n",
              "    </tr>\n",
              "    <tr>\n",
              "      <th>3</th>\n",
              "      <td>201746</td>\n",
              "      <td>33</td>\n",
              "      <td>M</td>\n",
              "      <td>Caucasian</td>\n",
              "      <td>19.0</td>\n",
              "      <td>0</td>\n",
              "      <td>188.0</td>\n",
              "      <td>NaN</td>\n",
              "      <td>NaN</td>\n",
              "      <td>0</td>\n",
              "      <td>...</td>\n",
              "      <td>103.0</td>\n",
              "      <td>0</td>\n",
              "      <td>0</td>\n",
              "      <td>0</td>\n",
              "      <td>0</td>\n",
              "      <td>0</td>\n",
              "      <td>0</td>\n",
              "      <td>0</td>\n",
              "      <td>0</td>\n",
              "      <td>0</td>\n",
              "    </tr>\n",
              "    <tr>\n",
              "      <th>4</th>\n",
              "      <td>246060</td>\n",
              "      <td>81</td>\n",
              "      <td>F</td>\n",
              "      <td>Caucasian</td>\n",
              "      <td>77.0</td>\n",
              "      <td>0</td>\n",
              "      <td>160.0</td>\n",
              "      <td>70.2</td>\n",
              "      <td>27.421875</td>\n",
              "      <td>0</td>\n",
              "      <td>...</td>\n",
              "      <td>46.0</td>\n",
              "      <td>0</td>\n",
              "      <td>0</td>\n",
              "      <td>0</td>\n",
              "      <td>0</td>\n",
              "      <td>0</td>\n",
              "      <td>0</td>\n",
              "      <td>0</td>\n",
              "      <td>1</td>\n",
              "      <td>1</td>\n",
              "    </tr>\n",
              "  </tbody>\n",
              "</table>\n",
              "<p>5 rows × 88 columns</p>\n",
              "</div>\n",
              "      <button class=\"colab-df-convert\" onclick=\"convertToInteractive('df-0572d375-407c-48f0-aa7f-a23fe8797cc8')\"\n",
              "              title=\"Convert this dataframe to an interactive table.\"\n",
              "              style=\"display:none;\">\n",
              "        \n",
              "  <svg xmlns=\"http://www.w3.org/2000/svg\" height=\"24px\"viewBox=\"0 0 24 24\"\n",
              "       width=\"24px\">\n",
              "    <path d=\"M0 0h24v24H0V0z\" fill=\"none\"/>\n",
              "    <path d=\"M18.56 5.44l.94 2.06.94-2.06 2.06-.94-2.06-.94-.94-2.06-.94 2.06-2.06.94zm-11 1L8.5 8.5l.94-2.06 2.06-.94-2.06-.94L8.5 2.5l-.94 2.06-2.06.94zm10 10l.94 2.06.94-2.06 2.06-.94-2.06-.94-.94-2.06-.94 2.06-2.06.94z\"/><path d=\"M17.41 7.96l-1.37-1.37c-.4-.4-.92-.59-1.43-.59-.52 0-1.04.2-1.43.59L10.3 9.45l-7.72 7.72c-.78.78-.78 2.05 0 2.83L4 21.41c.39.39.9.59 1.41.59.51 0 1.02-.2 1.41-.59l7.78-7.78 2.81-2.81c.8-.78.8-2.07 0-2.86zM5.41 20L4 18.59l7.72-7.72 1.47 1.35L5.41 20z\"/>\n",
              "  </svg>\n",
              "      </button>\n",
              "      \n",
              "  <style>\n",
              "    .colab-df-container {\n",
              "      display:flex;\n",
              "      flex-wrap:wrap;\n",
              "      gap: 12px;\n",
              "    }\n",
              "\n",
              "    .colab-df-convert {\n",
              "      background-color: #E8F0FE;\n",
              "      border: none;\n",
              "      border-radius: 50%;\n",
              "      cursor: pointer;\n",
              "      display: none;\n",
              "      fill: #1967D2;\n",
              "      height: 32px;\n",
              "      padding: 0 0 0 0;\n",
              "      width: 32px;\n",
              "    }\n",
              "\n",
              "    .colab-df-convert:hover {\n",
              "      background-color: #E2EBFA;\n",
              "      box-shadow: 0px 1px 2px rgba(60, 64, 67, 0.3), 0px 1px 3px 1px rgba(60, 64, 67, 0.15);\n",
              "      fill: #174EA6;\n",
              "    }\n",
              "\n",
              "    [theme=dark] .colab-df-convert {\n",
              "      background-color: #3B4455;\n",
              "      fill: #D2E3FC;\n",
              "    }\n",
              "\n",
              "    [theme=dark] .colab-df-convert:hover {\n",
              "      background-color: #434B5C;\n",
              "      box-shadow: 0px 1px 3px 1px rgba(0, 0, 0, 0.15);\n",
              "      filter: drop-shadow(0px 1px 2px rgba(0, 0, 0, 0.3));\n",
              "      fill: #FFFFFF;\n",
              "    }\n",
              "  </style>\n",
              "\n",
              "      <script>\n",
              "        const buttonEl =\n",
              "          document.querySelector('#df-0572d375-407c-48f0-aa7f-a23fe8797cc8 button.colab-df-convert');\n",
              "        buttonEl.style.display =\n",
              "          google.colab.kernel.accessAllowed ? 'block' : 'none';\n",
              "\n",
              "        async function convertToInteractive(key) {\n",
              "          const element = document.querySelector('#df-0572d375-407c-48f0-aa7f-a23fe8797cc8');\n",
              "          const dataTable =\n",
              "            await google.colab.kernel.invokeFunction('convertToInteractive',\n",
              "                                                     [key], {});\n",
              "          if (!dataTable) return;\n",
              "\n",
              "          const docLinkHtml = 'Like what you see? Visit the ' +\n",
              "            '<a target=\"_blank\" href=https://colab.research.google.com/notebooks/data_table.ipynb>data table notebook</a>'\n",
              "            + ' to learn more about interactive tables.';\n",
              "          element.innerHTML = '';\n",
              "          dataTable['output_type'] = 'display_data';\n",
              "          await google.colab.output.renderOutput(dataTable, element);\n",
              "          const docLink = document.createElement('div');\n",
              "          docLink.innerHTML = docLinkHtml;\n",
              "          element.appendChild(docLink);\n",
              "        }\n",
              "      </script>\n",
              "    </div>\n",
              "  </div>\n",
              "  "
            ]
          },
          "metadata": {},
          "execution_count": 2
        }
      ],
      "source": [
        "df = pd.read_csv('/content/DiabetesClassificationDataset2022.csv')\n",
        "df.head(5)"
      ]
    },
    {
      "cell_type": "markdown",
      "metadata": {
        "id": "nMYVguIGGDWl"
      },
      "source": [
        "# Data cleaning"
      ]
    },
    {
      "cell_type": "markdown",
      "metadata": {
        "id": "3dSNGhgprNL1"
      },
      "source": [
        "## Missing values"
      ]
    },
    {
      "cell_type": "code",
      "execution_count": null,
      "metadata": {
        "colab": {
          "base_uri": "https://localhost:8080/",
          "height": 1000
        },
        "id": "ukr8PqQGKlU7",
        "outputId": "9c92f08d-500f-43c9-c40e-b45ae5b872c9"
      },
      "outputs": [
        {
          "output_type": "execute_result",
          "data": {
            "text/plain": [
              "                             Total  Missing %\n",
              "h1_bilirubin_min             72849   0.920287\n",
              "h1_bilirubin_max             72849   0.920287\n",
              "h1_albumin_min               72271   0.912985\n",
              "h1_albumin_max               72271   0.912985\n",
              "h1_lactate_min               71985   0.909372\n",
              "h1_lactate_max               71985   0.909372\n",
              "h1_pao2fio2ratio_max         68816   0.869339\n",
              "h1_pao2fio2ratio_min         68816   0.869339\n",
              "h1_arterial_ph_max           65389   0.826046\n",
              "h1_arterial_ph_min           65389   0.826046\n",
              "h1_arterial_pco2_min         65287   0.824758\n",
              "h1_arterial_pco2_max         65287   0.824758\n",
              "h1_arterial_po2_min          65142   0.822926\n",
              "h1_arterial_po2_max          65142   0.822926\n",
              "h1_hco3_max                  64351   0.812933\n",
              "h1_hco3_min                  64351   0.812933\n",
              "h1_calcium_min               63963   0.808032\n",
              "h1_calcium_max               63963   0.808032\n",
              "h1_bun_min                   63406   0.800995\n",
              "h1_bun_max                   63406   0.800995\n",
              "h1_creatinine_max            63275   0.799341\n",
              "h1_creatinine_min            63275   0.799341\n",
              "h1_hematocrit_min            62543   0.790093\n",
              "h1_hematocrit_max            62543   0.790093\n",
              "h1_sodium_min                61396   0.775604\n",
              "h1_sodium_max                61396   0.775604\n",
              "paco2_apache                 60619   0.765788\n",
              "d1_lactate_min               57809   0.730290\n",
              "d1_lactate_max               57809   0.730290\n",
              "d1_pao2fio2ratio_max         56576   0.714713\n",
              "d1_pao2fio2ratio_min         56576   0.714713\n",
              "d1_arterial_po2_min          50826   0.642075\n",
              "d1_arterial_po2_max          50826   0.642075\n",
              "bilirubin_apache             50050   0.632272\n",
              "d1_inr_min                   49466   0.624894\n",
              "h1_inr_max                   49466   0.624894\n",
              "d1_inr_max                   49466   0.624894\n",
              "h1_inr_min                   49466   0.624894\n",
              "d1_bilirubin_max             46477   0.587135\n",
              "d1_bilirubin_min             46477   0.587135\n",
              "h1_glucose_min               43772   0.552963\n",
              "h1_glucose_max               43772   0.552963\n",
              "d1_albumin_max               43093   0.544385\n",
              "d1_albumin_min               43093   0.544385\n",
              "h1_temp_max                  17936   0.226582\n",
              "h1_temp_min                  17936   0.226582\n",
              "wbc_apache                   17751   0.224245\n",
              "creatinine_apache            14584   0.184237\n",
              "d1_hco3_min                  11901   0.150343\n",
              "d1_hco3_max                  11901   0.150343\n",
              "d1_platelets_min             11166   0.141058\n",
              "d1_platelets_max             11166   0.141058\n",
              "d1_wbc_max                   10479   0.132379\n",
              "d1_wbc_min                   10479   0.132379\n",
              "d1_bun_min                    7910   0.099925\n",
              "d1_bun_max                    7910   0.099925\n",
              "d1_sodium_min                 7615   0.096199\n",
              "d1_sodium_max                 7615   0.096199\n",
              "d1_potassium_min              7187   0.090792\n",
              "d1_potassium_max              7187   0.090792\n",
              "d1_glucose_min                4359   0.055066\n",
              "h1_spo2_max                   3804   0.048055\n",
              "age                           2842   0.035902\n",
              "bmi                           2691   0.033995\n",
              "weight                        2073   0.026188\n",
              "gcs_motor_apache              1224   0.015463\n",
              "gcs_eyes_apache               1224   0.015463\n",
              "height                        1181   0.014919\n",
              "ethnicity                      961   0.012140\n",
              "map_apache                     228   0.002880\n",
              "heart_rate_apache              156   0.001971\n",
              "d1_heartrate_max               145   0.001832\n",
              "gender                          30   0.000379\n",
              "cirrhosis                        0   0.000000\n",
              "lymphoma                         0   0.000000\n",
              "immunosuppression                0   0.000000\n",
              "ventilated_apache                0   0.000000\n",
              "solid_tumor_with_metastasis      0   0.000000\n",
              "leukemia                         0   0.000000\n",
              "hepatic_failure                  0   0.000000\n",
              "encounter_id                     0   0.000000\n",
              "aids                             0   0.000000\n",
              "intubated_apache                 0   0.000000\n",
              "hospital_id                      0   0.000000\n",
              "icu_type                         0   0.000000\n",
              "readmission_status               0   0.000000\n",
              "elective_surgery                 0   0.000000\n",
              "diabetes_mellitus                0   0.000000"
            ],
            "text/html": [
              "\n",
              "  <div id=\"df-e4e4edde-54e7-43e0-abe7-30e97f898a32\">\n",
              "    <div class=\"colab-df-container\">\n",
              "      <div>\n",
              "<style scoped>\n",
              "    .dataframe tbody tr th:only-of-type {\n",
              "        vertical-align: middle;\n",
              "    }\n",
              "\n",
              "    .dataframe tbody tr th {\n",
              "        vertical-align: top;\n",
              "    }\n",
              "\n",
              "    .dataframe thead th {\n",
              "        text-align: right;\n",
              "    }\n",
              "</style>\n",
              "<table border=\"1\" class=\"dataframe\">\n",
              "  <thead>\n",
              "    <tr style=\"text-align: right;\">\n",
              "      <th></th>\n",
              "      <th>Total</th>\n",
              "      <th>Missing %</th>\n",
              "    </tr>\n",
              "  </thead>\n",
              "  <tbody>\n",
              "    <tr>\n",
              "      <th>h1_bilirubin_min</th>\n",
              "      <td>72849</td>\n",
              "      <td>0.920287</td>\n",
              "    </tr>\n",
              "    <tr>\n",
              "      <th>h1_bilirubin_max</th>\n",
              "      <td>72849</td>\n",
              "      <td>0.920287</td>\n",
              "    </tr>\n",
              "    <tr>\n",
              "      <th>h1_albumin_min</th>\n",
              "      <td>72271</td>\n",
              "      <td>0.912985</td>\n",
              "    </tr>\n",
              "    <tr>\n",
              "      <th>h1_albumin_max</th>\n",
              "      <td>72271</td>\n",
              "      <td>0.912985</td>\n",
              "    </tr>\n",
              "    <tr>\n",
              "      <th>h1_lactate_min</th>\n",
              "      <td>71985</td>\n",
              "      <td>0.909372</td>\n",
              "    </tr>\n",
              "    <tr>\n",
              "      <th>h1_lactate_max</th>\n",
              "      <td>71985</td>\n",
              "      <td>0.909372</td>\n",
              "    </tr>\n",
              "    <tr>\n",
              "      <th>h1_pao2fio2ratio_max</th>\n",
              "      <td>68816</td>\n",
              "      <td>0.869339</td>\n",
              "    </tr>\n",
              "    <tr>\n",
              "      <th>h1_pao2fio2ratio_min</th>\n",
              "      <td>68816</td>\n",
              "      <td>0.869339</td>\n",
              "    </tr>\n",
              "    <tr>\n",
              "      <th>h1_arterial_ph_max</th>\n",
              "      <td>65389</td>\n",
              "      <td>0.826046</td>\n",
              "    </tr>\n",
              "    <tr>\n",
              "      <th>h1_arterial_ph_min</th>\n",
              "      <td>65389</td>\n",
              "      <td>0.826046</td>\n",
              "    </tr>\n",
              "    <tr>\n",
              "      <th>h1_arterial_pco2_min</th>\n",
              "      <td>65287</td>\n",
              "      <td>0.824758</td>\n",
              "    </tr>\n",
              "    <tr>\n",
              "      <th>h1_arterial_pco2_max</th>\n",
              "      <td>65287</td>\n",
              "      <td>0.824758</td>\n",
              "    </tr>\n",
              "    <tr>\n",
              "      <th>h1_arterial_po2_min</th>\n",
              "      <td>65142</td>\n",
              "      <td>0.822926</td>\n",
              "    </tr>\n",
              "    <tr>\n",
              "      <th>h1_arterial_po2_max</th>\n",
              "      <td>65142</td>\n",
              "      <td>0.822926</td>\n",
              "    </tr>\n",
              "    <tr>\n",
              "      <th>h1_hco3_max</th>\n",
              "      <td>64351</td>\n",
              "      <td>0.812933</td>\n",
              "    </tr>\n",
              "    <tr>\n",
              "      <th>h1_hco3_min</th>\n",
              "      <td>64351</td>\n",
              "      <td>0.812933</td>\n",
              "    </tr>\n",
              "    <tr>\n",
              "      <th>h1_calcium_min</th>\n",
              "      <td>63963</td>\n",
              "      <td>0.808032</td>\n",
              "    </tr>\n",
              "    <tr>\n",
              "      <th>h1_calcium_max</th>\n",
              "      <td>63963</td>\n",
              "      <td>0.808032</td>\n",
              "    </tr>\n",
              "    <tr>\n",
              "      <th>h1_bun_min</th>\n",
              "      <td>63406</td>\n",
              "      <td>0.800995</td>\n",
              "    </tr>\n",
              "    <tr>\n",
              "      <th>h1_bun_max</th>\n",
              "      <td>63406</td>\n",
              "      <td>0.800995</td>\n",
              "    </tr>\n",
              "    <tr>\n",
              "      <th>h1_creatinine_max</th>\n",
              "      <td>63275</td>\n",
              "      <td>0.799341</td>\n",
              "    </tr>\n",
              "    <tr>\n",
              "      <th>h1_creatinine_min</th>\n",
              "      <td>63275</td>\n",
              "      <td>0.799341</td>\n",
              "    </tr>\n",
              "    <tr>\n",
              "      <th>h1_hematocrit_min</th>\n",
              "      <td>62543</td>\n",
              "      <td>0.790093</td>\n",
              "    </tr>\n",
              "    <tr>\n",
              "      <th>h1_hematocrit_max</th>\n",
              "      <td>62543</td>\n",
              "      <td>0.790093</td>\n",
              "    </tr>\n",
              "    <tr>\n",
              "      <th>h1_sodium_min</th>\n",
              "      <td>61396</td>\n",
              "      <td>0.775604</td>\n",
              "    </tr>\n",
              "    <tr>\n",
              "      <th>h1_sodium_max</th>\n",
              "      <td>61396</td>\n",
              "      <td>0.775604</td>\n",
              "    </tr>\n",
              "    <tr>\n",
              "      <th>paco2_apache</th>\n",
              "      <td>60619</td>\n",
              "      <td>0.765788</td>\n",
              "    </tr>\n",
              "    <tr>\n",
              "      <th>d1_lactate_min</th>\n",
              "      <td>57809</td>\n",
              "      <td>0.730290</td>\n",
              "    </tr>\n",
              "    <tr>\n",
              "      <th>d1_lactate_max</th>\n",
              "      <td>57809</td>\n",
              "      <td>0.730290</td>\n",
              "    </tr>\n",
              "    <tr>\n",
              "      <th>d1_pao2fio2ratio_max</th>\n",
              "      <td>56576</td>\n",
              "      <td>0.714713</td>\n",
              "    </tr>\n",
              "    <tr>\n",
              "      <th>d1_pao2fio2ratio_min</th>\n",
              "      <td>56576</td>\n",
              "      <td>0.714713</td>\n",
              "    </tr>\n",
              "    <tr>\n",
              "      <th>d1_arterial_po2_min</th>\n",
              "      <td>50826</td>\n",
              "      <td>0.642075</td>\n",
              "    </tr>\n",
              "    <tr>\n",
              "      <th>d1_arterial_po2_max</th>\n",
              "      <td>50826</td>\n",
              "      <td>0.642075</td>\n",
              "    </tr>\n",
              "    <tr>\n",
              "      <th>bilirubin_apache</th>\n",
              "      <td>50050</td>\n",
              "      <td>0.632272</td>\n",
              "    </tr>\n",
              "    <tr>\n",
              "      <th>d1_inr_min</th>\n",
              "      <td>49466</td>\n",
              "      <td>0.624894</td>\n",
              "    </tr>\n",
              "    <tr>\n",
              "      <th>h1_inr_max</th>\n",
              "      <td>49466</td>\n",
              "      <td>0.624894</td>\n",
              "    </tr>\n",
              "    <tr>\n",
              "      <th>d1_inr_max</th>\n",
              "      <td>49466</td>\n",
              "      <td>0.624894</td>\n",
              "    </tr>\n",
              "    <tr>\n",
              "      <th>h1_inr_min</th>\n",
              "      <td>49466</td>\n",
              "      <td>0.624894</td>\n",
              "    </tr>\n",
              "    <tr>\n",
              "      <th>d1_bilirubin_max</th>\n",
              "      <td>46477</td>\n",
              "      <td>0.587135</td>\n",
              "    </tr>\n",
              "    <tr>\n",
              "      <th>d1_bilirubin_min</th>\n",
              "      <td>46477</td>\n",
              "      <td>0.587135</td>\n",
              "    </tr>\n",
              "    <tr>\n",
              "      <th>h1_glucose_min</th>\n",
              "      <td>43772</td>\n",
              "      <td>0.552963</td>\n",
              "    </tr>\n",
              "    <tr>\n",
              "      <th>h1_glucose_max</th>\n",
              "      <td>43772</td>\n",
              "      <td>0.552963</td>\n",
              "    </tr>\n",
              "    <tr>\n",
              "      <th>d1_albumin_max</th>\n",
              "      <td>43093</td>\n",
              "      <td>0.544385</td>\n",
              "    </tr>\n",
              "    <tr>\n",
              "      <th>d1_albumin_min</th>\n",
              "      <td>43093</td>\n",
              "      <td>0.544385</td>\n",
              "    </tr>\n",
              "    <tr>\n",
              "      <th>h1_temp_max</th>\n",
              "      <td>17936</td>\n",
              "      <td>0.226582</td>\n",
              "    </tr>\n",
              "    <tr>\n",
              "      <th>h1_temp_min</th>\n",
              "      <td>17936</td>\n",
              "      <td>0.226582</td>\n",
              "    </tr>\n",
              "    <tr>\n",
              "      <th>wbc_apache</th>\n",
              "      <td>17751</td>\n",
              "      <td>0.224245</td>\n",
              "    </tr>\n",
              "    <tr>\n",
              "      <th>creatinine_apache</th>\n",
              "      <td>14584</td>\n",
              "      <td>0.184237</td>\n",
              "    </tr>\n",
              "    <tr>\n",
              "      <th>d1_hco3_min</th>\n",
              "      <td>11901</td>\n",
              "      <td>0.150343</td>\n",
              "    </tr>\n",
              "    <tr>\n",
              "      <th>d1_hco3_max</th>\n",
              "      <td>11901</td>\n",
              "      <td>0.150343</td>\n",
              "    </tr>\n",
              "    <tr>\n",
              "      <th>d1_platelets_min</th>\n",
              "      <td>11166</td>\n",
              "      <td>0.141058</td>\n",
              "    </tr>\n",
              "    <tr>\n",
              "      <th>d1_platelets_max</th>\n",
              "      <td>11166</td>\n",
              "      <td>0.141058</td>\n",
              "    </tr>\n",
              "    <tr>\n",
              "      <th>d1_wbc_max</th>\n",
              "      <td>10479</td>\n",
              "      <td>0.132379</td>\n",
              "    </tr>\n",
              "    <tr>\n",
              "      <th>d1_wbc_min</th>\n",
              "      <td>10479</td>\n",
              "      <td>0.132379</td>\n",
              "    </tr>\n",
              "    <tr>\n",
              "      <th>d1_bun_min</th>\n",
              "      <td>7910</td>\n",
              "      <td>0.099925</td>\n",
              "    </tr>\n",
              "    <tr>\n",
              "      <th>d1_bun_max</th>\n",
              "      <td>7910</td>\n",
              "      <td>0.099925</td>\n",
              "    </tr>\n",
              "    <tr>\n",
              "      <th>d1_sodium_min</th>\n",
              "      <td>7615</td>\n",
              "      <td>0.096199</td>\n",
              "    </tr>\n",
              "    <tr>\n",
              "      <th>d1_sodium_max</th>\n",
              "      <td>7615</td>\n",
              "      <td>0.096199</td>\n",
              "    </tr>\n",
              "    <tr>\n",
              "      <th>d1_potassium_min</th>\n",
              "      <td>7187</td>\n",
              "      <td>0.090792</td>\n",
              "    </tr>\n",
              "    <tr>\n",
              "      <th>d1_potassium_max</th>\n",
              "      <td>7187</td>\n",
              "      <td>0.090792</td>\n",
              "    </tr>\n",
              "    <tr>\n",
              "      <th>d1_glucose_min</th>\n",
              "      <td>4359</td>\n",
              "      <td>0.055066</td>\n",
              "    </tr>\n",
              "    <tr>\n",
              "      <th>h1_spo2_max</th>\n",
              "      <td>3804</td>\n",
              "      <td>0.048055</td>\n",
              "    </tr>\n",
              "    <tr>\n",
              "      <th>age</th>\n",
              "      <td>2842</td>\n",
              "      <td>0.035902</td>\n",
              "    </tr>\n",
              "    <tr>\n",
              "      <th>bmi</th>\n",
              "      <td>2691</td>\n",
              "      <td>0.033995</td>\n",
              "    </tr>\n",
              "    <tr>\n",
              "      <th>weight</th>\n",
              "      <td>2073</td>\n",
              "      <td>0.026188</td>\n",
              "    </tr>\n",
              "    <tr>\n",
              "      <th>gcs_motor_apache</th>\n",
              "      <td>1224</td>\n",
              "      <td>0.015463</td>\n",
              "    </tr>\n",
              "    <tr>\n",
              "      <th>gcs_eyes_apache</th>\n",
              "      <td>1224</td>\n",
              "      <td>0.015463</td>\n",
              "    </tr>\n",
              "    <tr>\n",
              "      <th>height</th>\n",
              "      <td>1181</td>\n",
              "      <td>0.014919</td>\n",
              "    </tr>\n",
              "    <tr>\n",
              "      <th>ethnicity</th>\n",
              "      <td>961</td>\n",
              "      <td>0.012140</td>\n",
              "    </tr>\n",
              "    <tr>\n",
              "      <th>map_apache</th>\n",
              "      <td>228</td>\n",
              "      <td>0.002880</td>\n",
              "    </tr>\n",
              "    <tr>\n",
              "      <th>heart_rate_apache</th>\n",
              "      <td>156</td>\n",
              "      <td>0.001971</td>\n",
              "    </tr>\n",
              "    <tr>\n",
              "      <th>d1_heartrate_max</th>\n",
              "      <td>145</td>\n",
              "      <td>0.001832</td>\n",
              "    </tr>\n",
              "    <tr>\n",
              "      <th>gender</th>\n",
              "      <td>30</td>\n",
              "      <td>0.000379</td>\n",
              "    </tr>\n",
              "    <tr>\n",
              "      <th>cirrhosis</th>\n",
              "      <td>0</td>\n",
              "      <td>0.000000</td>\n",
              "    </tr>\n",
              "    <tr>\n",
              "      <th>lymphoma</th>\n",
              "      <td>0</td>\n",
              "      <td>0.000000</td>\n",
              "    </tr>\n",
              "    <tr>\n",
              "      <th>immunosuppression</th>\n",
              "      <td>0</td>\n",
              "      <td>0.000000</td>\n",
              "    </tr>\n",
              "    <tr>\n",
              "      <th>ventilated_apache</th>\n",
              "      <td>0</td>\n",
              "      <td>0.000000</td>\n",
              "    </tr>\n",
              "    <tr>\n",
              "      <th>solid_tumor_with_metastasis</th>\n",
              "      <td>0</td>\n",
              "      <td>0.000000</td>\n",
              "    </tr>\n",
              "    <tr>\n",
              "      <th>leukemia</th>\n",
              "      <td>0</td>\n",
              "      <td>0.000000</td>\n",
              "    </tr>\n",
              "    <tr>\n",
              "      <th>hepatic_failure</th>\n",
              "      <td>0</td>\n",
              "      <td>0.000000</td>\n",
              "    </tr>\n",
              "    <tr>\n",
              "      <th>encounter_id</th>\n",
              "      <td>0</td>\n",
              "      <td>0.000000</td>\n",
              "    </tr>\n",
              "    <tr>\n",
              "      <th>aids</th>\n",
              "      <td>0</td>\n",
              "      <td>0.000000</td>\n",
              "    </tr>\n",
              "    <tr>\n",
              "      <th>intubated_apache</th>\n",
              "      <td>0</td>\n",
              "      <td>0.000000</td>\n",
              "    </tr>\n",
              "    <tr>\n",
              "      <th>hospital_id</th>\n",
              "      <td>0</td>\n",
              "      <td>0.000000</td>\n",
              "    </tr>\n",
              "    <tr>\n",
              "      <th>icu_type</th>\n",
              "      <td>0</td>\n",
              "      <td>0.000000</td>\n",
              "    </tr>\n",
              "    <tr>\n",
              "      <th>readmission_status</th>\n",
              "      <td>0</td>\n",
              "      <td>0.000000</td>\n",
              "    </tr>\n",
              "    <tr>\n",
              "      <th>elective_surgery</th>\n",
              "      <td>0</td>\n",
              "      <td>0.000000</td>\n",
              "    </tr>\n",
              "    <tr>\n",
              "      <th>diabetes_mellitus</th>\n",
              "      <td>0</td>\n",
              "      <td>0.000000</td>\n",
              "    </tr>\n",
              "  </tbody>\n",
              "</table>\n",
              "</div>\n",
              "      <button class=\"colab-df-convert\" onclick=\"convertToInteractive('df-e4e4edde-54e7-43e0-abe7-30e97f898a32')\"\n",
              "              title=\"Convert this dataframe to an interactive table.\"\n",
              "              style=\"display:none;\">\n",
              "        \n",
              "  <svg xmlns=\"http://www.w3.org/2000/svg\" height=\"24px\"viewBox=\"0 0 24 24\"\n",
              "       width=\"24px\">\n",
              "    <path d=\"M0 0h24v24H0V0z\" fill=\"none\"/>\n",
              "    <path d=\"M18.56 5.44l.94 2.06.94-2.06 2.06-.94-2.06-.94-.94-2.06-.94 2.06-2.06.94zm-11 1L8.5 8.5l.94-2.06 2.06-.94-2.06-.94L8.5 2.5l-.94 2.06-2.06.94zm10 10l.94 2.06.94-2.06 2.06-.94-2.06-.94-.94-2.06-.94 2.06-2.06.94z\"/><path d=\"M17.41 7.96l-1.37-1.37c-.4-.4-.92-.59-1.43-.59-.52 0-1.04.2-1.43.59L10.3 9.45l-7.72 7.72c-.78.78-.78 2.05 0 2.83L4 21.41c.39.39.9.59 1.41.59.51 0 1.02-.2 1.41-.59l7.78-7.78 2.81-2.81c.8-.78.8-2.07 0-2.86zM5.41 20L4 18.59l7.72-7.72 1.47 1.35L5.41 20z\"/>\n",
              "  </svg>\n",
              "      </button>\n",
              "      \n",
              "  <style>\n",
              "    .colab-df-container {\n",
              "      display:flex;\n",
              "      flex-wrap:wrap;\n",
              "      gap: 12px;\n",
              "    }\n",
              "\n",
              "    .colab-df-convert {\n",
              "      background-color: #E8F0FE;\n",
              "      border: none;\n",
              "      border-radius: 50%;\n",
              "      cursor: pointer;\n",
              "      display: none;\n",
              "      fill: #1967D2;\n",
              "      height: 32px;\n",
              "      padding: 0 0 0 0;\n",
              "      width: 32px;\n",
              "    }\n",
              "\n",
              "    .colab-df-convert:hover {\n",
              "      background-color: #E2EBFA;\n",
              "      box-shadow: 0px 1px 2px rgba(60, 64, 67, 0.3), 0px 1px 3px 1px rgba(60, 64, 67, 0.15);\n",
              "      fill: #174EA6;\n",
              "    }\n",
              "\n",
              "    [theme=dark] .colab-df-convert {\n",
              "      background-color: #3B4455;\n",
              "      fill: #D2E3FC;\n",
              "    }\n",
              "\n",
              "    [theme=dark] .colab-df-convert:hover {\n",
              "      background-color: #434B5C;\n",
              "      box-shadow: 0px 1px 3px 1px rgba(0, 0, 0, 0.15);\n",
              "      filter: drop-shadow(0px 1px 2px rgba(0, 0, 0, 0.3));\n",
              "      fill: #FFFFFF;\n",
              "    }\n",
              "  </style>\n",
              "\n",
              "      <script>\n",
              "        const buttonEl =\n",
              "          document.querySelector('#df-e4e4edde-54e7-43e0-abe7-30e97f898a32 button.colab-df-convert');\n",
              "        buttonEl.style.display =\n",
              "          google.colab.kernel.accessAllowed ? 'block' : 'none';\n",
              "\n",
              "        async function convertToInteractive(key) {\n",
              "          const element = document.querySelector('#df-e4e4edde-54e7-43e0-abe7-30e97f898a32');\n",
              "          const dataTable =\n",
              "            await google.colab.kernel.invokeFunction('convertToInteractive',\n",
              "                                                     [key], {});\n",
              "          if (!dataTable) return;\n",
              "\n",
              "          const docLinkHtml = 'Like what you see? Visit the ' +\n",
              "            '<a target=\"_blank\" href=https://colab.research.google.com/notebooks/data_table.ipynb>data table notebook</a>'\n",
              "            + ' to learn more about interactive tables.';\n",
              "          element.innerHTML = '';\n",
              "          dataTable['output_type'] = 'display_data';\n",
              "          await google.colab.output.renderOutput(dataTable, element);\n",
              "          const docLink = document.createElement('div');\n",
              "          docLink.innerHTML = docLinkHtml;\n",
              "          element.appendChild(docLink);\n",
              "        }\n",
              "      </script>\n",
              "    </div>\n",
              "  </div>\n",
              "  "
            ]
          },
          "metadata": {},
          "execution_count": 3
        }
      ],
      "source": [
        "#check how many missing values in each column\n",
        "\n",
        "total = df.isnull().sum().sort_values(ascending=False)\n",
        "percent = (df.isnull().sum()/df.isnull().count()).sort_values(ascending=False)\n",
        "missing_data = pd.concat([total, percent], axis=1, keys=['Total', 'Missing %'])\n",
        "missing_data.head(88)\n"
      ]
    },
    {
      "cell_type": "code",
      "execution_count": null,
      "metadata": {
        "colab": {
          "base_uri": "https://localhost:8080/"
        },
        "id": "spu5HdCNwsDA",
        "outputId": "d3449251-6d27-425c-bd64-72c4e038b493"
      },
      "outputs": [
        {
          "output_type": "stream",
          "name": "stderr",
          "text": [
            "/usr/local/lib/python3.7/dist-packages/ipykernel_launcher.py:2: FutureWarning: In a future version of pandas all arguments of DataFrame.drop except for the argument 'labels' will be keyword-only\n",
            "  \n"
          ]
        }
      ],
      "source": [
        "#dealing with missing data\n",
        "df = df.drop((missing_data[missing_data['Missing %'] > 0.6]).index,1)\n"
      ]
    },
    {
      "cell_type": "code",
      "execution_count": null,
      "metadata": {
        "colab": {
          "base_uri": "https://localhost:8080/"
        },
        "id": "MK-Tlq6-SZl2",
        "outputId": "a1a17f89-3e7b-4c91-e934-1cecf44065f9"
      },
      "outputs": [
        {
          "output_type": "execute_result",
          "data": {
            "text/plain": [
              "(79159, 50)"
            ]
          },
          "metadata": {},
          "execution_count": 5
        }
      ],
      "source": [
        "df.shape"
      ]
    },
    {
      "cell_type": "markdown",
      "metadata": {
        "id": "Cvpgai-kzgJJ"
      },
      "source": [
        "### Random fill-in"
      ]
    },
    {
      "cell_type": "code",
      "execution_count": null,
      "metadata": {
        "id": "ZYcSSWtJ1pKL"
      },
      "outputs": [],
      "source": [
        "from random import choice\n",
        "\n",
        "mask = df[\"gender\"].isna()\n",
        "df.loc[mask,[\"gender\"]] = df.loc[mask,[\"gender\"]].applymap(lambda _: choice([\"M\",\"F\"]))"
      ]
    },
    {
      "cell_type": "code",
      "execution_count": null,
      "metadata": {
        "id": "2d3gyvcyzVJX"
      },
      "outputs": [],
      "source": [
        "mask = df[\"ethnicity\"].isna()\n",
        "df.loc[mask,[\"ethnicity\"]] = df.loc[mask,[\"ethnicity\"]].applymap(lambda _: choice([\"Caucasian\",\"African American\",\n",
        "                                                                             'Other/Unknown', 'Hispanic', 'Asian', 'Native American']))"
      ]
    },
    {
      "cell_type": "markdown",
      "metadata": {
        "id": "dZDh4DNz0Nse"
      },
      "source": [
        "### Imputation "
      ]
    },
    {
      "cell_type": "code",
      "execution_count": null,
      "metadata": {
        "colab": {
          "base_uri": "https://localhost:8080/",
          "height": 394
        },
        "id": "KnDB0L1lz9KJ",
        "outputId": "011dbbc4-aa8f-4ad0-ee55-ac79e96dc83b"
      },
      "outputs": [
        {
          "output_type": "execute_result",
          "data": {
            "text/plain": [
              "        encounter_id   hospital_id           age  elective_surgery  \\\n",
              "count   79159.000000  79159.000000  79159.000000      79159.000000   \n",
              "mean   212863.726740    106.188620     62.454036          0.189404   \n",
              "std     38113.816591     63.776527     16.451232          0.391831   \n",
              "min    147001.000000      1.000000      0.000000          0.000000   \n",
              "25%    179772.000000     49.000000     53.000000          0.000000   \n",
              "50%    212864.000000    112.000000     65.000000          0.000000   \n",
              "75%    245812.000000    165.000000     75.000000          0.000000   \n",
              "max    278997.000000    204.000000     89.000000          1.000000   \n",
              "\n",
              "             height        weight           bmi  readmission_status  \\\n",
              "count  79159.000000  79159.000000  79159.000000             79159.0   \n",
              "mean     169.565825     85.141136     29.602947                 0.0   \n",
              "std       10.831737     25.462159      8.485454                 0.0   \n",
              "min      137.200000     38.600000     14.844926                 0.0   \n",
              "25%      162.500000     67.800000     23.876404                 0.0   \n",
              "50%      170.000000     81.600000     28.039729                 0.0   \n",
              "75%      177.800000     98.430000     33.421693                 0.0   \n",
              "max      195.590000    186.000000     67.814990                 0.0   \n",
              "\n",
              "        h1_temp_max   h1_temp_min  ...    map_apache          aids  \\\n",
              "count  79159.000000  79159.000000  ...  79159.000000  79159.000000   \n",
              "mean      36.721336     36.612534  ...     87.269899      0.000834   \n",
              "std        0.769038      0.793106  ...     42.058765      0.028863   \n",
              "min       33.400000     32.900000  ...     40.000000      0.000000   \n",
              "25%       36.400000     36.300000  ...     53.000000      0.000000   \n",
              "50%       36.700000     36.700000  ...     66.000000      0.000000   \n",
              "75%       37.100000     37.000000  ...    124.000000      0.000000   \n",
              "max       39.500000     39.300000  ...    200.000000      1.000000   \n",
              "\n",
              "          cirrhosis  hepatic_failure  immunosuppression      leukemia  \\\n",
              "count  79159.000000     79159.000000       79159.000000  79159.000000   \n",
              "mean       0.016713         0.013744           0.025379      0.007327   \n",
              "std        0.128195         0.116429           0.157275      0.085284   \n",
              "min        0.000000         0.000000           0.000000      0.000000   \n",
              "25%        0.000000         0.000000           0.000000      0.000000   \n",
              "50%        0.000000         0.000000           0.000000      0.000000   \n",
              "75%        0.000000         0.000000           0.000000      0.000000   \n",
              "max        1.000000         1.000000           1.000000      1.000000   \n",
              "\n",
              "           lymphoma  solid_tumor_with_metastasis  ventilated_apache  \\\n",
              "count  79159.000000                 79159.000000       79159.000000   \n",
              "mean       0.004080                     0.020781           0.332243   \n",
              "std        0.063748                     0.142651           0.471020   \n",
              "min        0.000000                     0.000000           0.000000   \n",
              "25%        0.000000                     0.000000           0.000000   \n",
              "50%        0.000000                     0.000000           0.000000   \n",
              "75%        0.000000                     0.000000           1.000000   \n",
              "max        1.000000                     1.000000           1.000000   \n",
              "\n",
              "       diabetes_mellitus  \n",
              "count       79159.000000  \n",
              "mean            0.355639  \n",
              "std             0.478709  \n",
              "min             0.000000  \n",
              "25%             0.000000  \n",
              "50%             0.000000  \n",
              "75%             1.000000  \n",
              "max             1.000000  \n",
              "\n",
              "[8 rows x 47 columns]"
            ],
            "text/html": [
              "\n",
              "  <div id=\"df-a0e1e30c-db2e-4b4e-a579-0a0ee7f83e08\">\n",
              "    <div class=\"colab-df-container\">\n",
              "      <div>\n",
              "<style scoped>\n",
              "    .dataframe tbody tr th:only-of-type {\n",
              "        vertical-align: middle;\n",
              "    }\n",
              "\n",
              "    .dataframe tbody tr th {\n",
              "        vertical-align: top;\n",
              "    }\n",
              "\n",
              "    .dataframe thead th {\n",
              "        text-align: right;\n",
              "    }\n",
              "</style>\n",
              "<table border=\"1\" class=\"dataframe\">\n",
              "  <thead>\n",
              "    <tr style=\"text-align: right;\">\n",
              "      <th></th>\n",
              "      <th>encounter_id</th>\n",
              "      <th>hospital_id</th>\n",
              "      <th>age</th>\n",
              "      <th>elective_surgery</th>\n",
              "      <th>height</th>\n",
              "      <th>weight</th>\n",
              "      <th>bmi</th>\n",
              "      <th>readmission_status</th>\n",
              "      <th>h1_temp_max</th>\n",
              "      <th>h1_temp_min</th>\n",
              "      <th>...</th>\n",
              "      <th>map_apache</th>\n",
              "      <th>aids</th>\n",
              "      <th>cirrhosis</th>\n",
              "      <th>hepatic_failure</th>\n",
              "      <th>immunosuppression</th>\n",
              "      <th>leukemia</th>\n",
              "      <th>lymphoma</th>\n",
              "      <th>solid_tumor_with_metastasis</th>\n",
              "      <th>ventilated_apache</th>\n",
              "      <th>diabetes_mellitus</th>\n",
              "    </tr>\n",
              "  </thead>\n",
              "  <tbody>\n",
              "    <tr>\n",
              "      <th>count</th>\n",
              "      <td>79159.000000</td>\n",
              "      <td>79159.000000</td>\n",
              "      <td>79159.000000</td>\n",
              "      <td>79159.000000</td>\n",
              "      <td>79159.000000</td>\n",
              "      <td>79159.000000</td>\n",
              "      <td>79159.000000</td>\n",
              "      <td>79159.0</td>\n",
              "      <td>79159.000000</td>\n",
              "      <td>79159.000000</td>\n",
              "      <td>...</td>\n",
              "      <td>79159.000000</td>\n",
              "      <td>79159.000000</td>\n",
              "      <td>79159.000000</td>\n",
              "      <td>79159.000000</td>\n",
              "      <td>79159.000000</td>\n",
              "      <td>79159.000000</td>\n",
              "      <td>79159.000000</td>\n",
              "      <td>79159.000000</td>\n",
              "      <td>79159.000000</td>\n",
              "      <td>79159.000000</td>\n",
              "    </tr>\n",
              "    <tr>\n",
              "      <th>mean</th>\n",
              "      <td>212863.726740</td>\n",
              "      <td>106.188620</td>\n",
              "      <td>62.454036</td>\n",
              "      <td>0.189404</td>\n",
              "      <td>169.565825</td>\n",
              "      <td>85.141136</td>\n",
              "      <td>29.602947</td>\n",
              "      <td>0.0</td>\n",
              "      <td>36.721336</td>\n",
              "      <td>36.612534</td>\n",
              "      <td>...</td>\n",
              "      <td>87.269899</td>\n",
              "      <td>0.000834</td>\n",
              "      <td>0.016713</td>\n",
              "      <td>0.013744</td>\n",
              "      <td>0.025379</td>\n",
              "      <td>0.007327</td>\n",
              "      <td>0.004080</td>\n",
              "      <td>0.020781</td>\n",
              "      <td>0.332243</td>\n",
              "      <td>0.355639</td>\n",
              "    </tr>\n",
              "    <tr>\n",
              "      <th>std</th>\n",
              "      <td>38113.816591</td>\n",
              "      <td>63.776527</td>\n",
              "      <td>16.451232</td>\n",
              "      <td>0.391831</td>\n",
              "      <td>10.831737</td>\n",
              "      <td>25.462159</td>\n",
              "      <td>8.485454</td>\n",
              "      <td>0.0</td>\n",
              "      <td>0.769038</td>\n",
              "      <td>0.793106</td>\n",
              "      <td>...</td>\n",
              "      <td>42.058765</td>\n",
              "      <td>0.028863</td>\n",
              "      <td>0.128195</td>\n",
              "      <td>0.116429</td>\n",
              "      <td>0.157275</td>\n",
              "      <td>0.085284</td>\n",
              "      <td>0.063748</td>\n",
              "      <td>0.142651</td>\n",
              "      <td>0.471020</td>\n",
              "      <td>0.478709</td>\n",
              "    </tr>\n",
              "    <tr>\n",
              "      <th>min</th>\n",
              "      <td>147001.000000</td>\n",
              "      <td>1.000000</td>\n",
              "      <td>0.000000</td>\n",
              "      <td>0.000000</td>\n",
              "      <td>137.200000</td>\n",
              "      <td>38.600000</td>\n",
              "      <td>14.844926</td>\n",
              "      <td>0.0</td>\n",
              "      <td>33.400000</td>\n",
              "      <td>32.900000</td>\n",
              "      <td>...</td>\n",
              "      <td>40.000000</td>\n",
              "      <td>0.000000</td>\n",
              "      <td>0.000000</td>\n",
              "      <td>0.000000</td>\n",
              "      <td>0.000000</td>\n",
              "      <td>0.000000</td>\n",
              "      <td>0.000000</td>\n",
              "      <td>0.000000</td>\n",
              "      <td>0.000000</td>\n",
              "      <td>0.000000</td>\n",
              "    </tr>\n",
              "    <tr>\n",
              "      <th>25%</th>\n",
              "      <td>179772.000000</td>\n",
              "      <td>49.000000</td>\n",
              "      <td>53.000000</td>\n",
              "      <td>0.000000</td>\n",
              "      <td>162.500000</td>\n",
              "      <td>67.800000</td>\n",
              "      <td>23.876404</td>\n",
              "      <td>0.0</td>\n",
              "      <td>36.400000</td>\n",
              "      <td>36.300000</td>\n",
              "      <td>...</td>\n",
              "      <td>53.000000</td>\n",
              "      <td>0.000000</td>\n",
              "      <td>0.000000</td>\n",
              "      <td>0.000000</td>\n",
              "      <td>0.000000</td>\n",
              "      <td>0.000000</td>\n",
              "      <td>0.000000</td>\n",
              "      <td>0.000000</td>\n",
              "      <td>0.000000</td>\n",
              "      <td>0.000000</td>\n",
              "    </tr>\n",
              "    <tr>\n",
              "      <th>50%</th>\n",
              "      <td>212864.000000</td>\n",
              "      <td>112.000000</td>\n",
              "      <td>65.000000</td>\n",
              "      <td>0.000000</td>\n",
              "      <td>170.000000</td>\n",
              "      <td>81.600000</td>\n",
              "      <td>28.039729</td>\n",
              "      <td>0.0</td>\n",
              "      <td>36.700000</td>\n",
              "      <td>36.700000</td>\n",
              "      <td>...</td>\n",
              "      <td>66.000000</td>\n",
              "      <td>0.000000</td>\n",
              "      <td>0.000000</td>\n",
              "      <td>0.000000</td>\n",
              "      <td>0.000000</td>\n",
              "      <td>0.000000</td>\n",
              "      <td>0.000000</td>\n",
              "      <td>0.000000</td>\n",
              "      <td>0.000000</td>\n",
              "      <td>0.000000</td>\n",
              "    </tr>\n",
              "    <tr>\n",
              "      <th>75%</th>\n",
              "      <td>245812.000000</td>\n",
              "      <td>165.000000</td>\n",
              "      <td>75.000000</td>\n",
              "      <td>0.000000</td>\n",
              "      <td>177.800000</td>\n",
              "      <td>98.430000</td>\n",
              "      <td>33.421693</td>\n",
              "      <td>0.0</td>\n",
              "      <td>37.100000</td>\n",
              "      <td>37.000000</td>\n",
              "      <td>...</td>\n",
              "      <td>124.000000</td>\n",
              "      <td>0.000000</td>\n",
              "      <td>0.000000</td>\n",
              "      <td>0.000000</td>\n",
              "      <td>0.000000</td>\n",
              "      <td>0.000000</td>\n",
              "      <td>0.000000</td>\n",
              "      <td>0.000000</td>\n",
              "      <td>1.000000</td>\n",
              "      <td>1.000000</td>\n",
              "    </tr>\n",
              "    <tr>\n",
              "      <th>max</th>\n",
              "      <td>278997.000000</td>\n",
              "      <td>204.000000</td>\n",
              "      <td>89.000000</td>\n",
              "      <td>1.000000</td>\n",
              "      <td>195.590000</td>\n",
              "      <td>186.000000</td>\n",
              "      <td>67.814990</td>\n",
              "      <td>0.0</td>\n",
              "      <td>39.500000</td>\n",
              "      <td>39.300000</td>\n",
              "      <td>...</td>\n",
              "      <td>200.000000</td>\n",
              "      <td>1.000000</td>\n",
              "      <td>1.000000</td>\n",
              "      <td>1.000000</td>\n",
              "      <td>1.000000</td>\n",
              "      <td>1.000000</td>\n",
              "      <td>1.000000</td>\n",
              "      <td>1.000000</td>\n",
              "      <td>1.000000</td>\n",
              "      <td>1.000000</td>\n",
              "    </tr>\n",
              "  </tbody>\n",
              "</table>\n",
              "<p>8 rows × 47 columns</p>\n",
              "</div>\n",
              "      <button class=\"colab-df-convert\" onclick=\"convertToInteractive('df-a0e1e30c-db2e-4b4e-a579-0a0ee7f83e08')\"\n",
              "              title=\"Convert this dataframe to an interactive table.\"\n",
              "              style=\"display:none;\">\n",
              "        \n",
              "  <svg xmlns=\"http://www.w3.org/2000/svg\" height=\"24px\"viewBox=\"0 0 24 24\"\n",
              "       width=\"24px\">\n",
              "    <path d=\"M0 0h24v24H0V0z\" fill=\"none\"/>\n",
              "    <path d=\"M18.56 5.44l.94 2.06.94-2.06 2.06-.94-2.06-.94-.94-2.06-.94 2.06-2.06.94zm-11 1L8.5 8.5l.94-2.06 2.06-.94-2.06-.94L8.5 2.5l-.94 2.06-2.06.94zm10 10l.94 2.06.94-2.06 2.06-.94-2.06-.94-.94-2.06-.94 2.06-2.06.94z\"/><path d=\"M17.41 7.96l-1.37-1.37c-.4-.4-.92-.59-1.43-.59-.52 0-1.04.2-1.43.59L10.3 9.45l-7.72 7.72c-.78.78-.78 2.05 0 2.83L4 21.41c.39.39.9.59 1.41.59.51 0 1.02-.2 1.41-.59l7.78-7.78 2.81-2.81c.8-.78.8-2.07 0-2.86zM5.41 20L4 18.59l7.72-7.72 1.47 1.35L5.41 20z\"/>\n",
              "  </svg>\n",
              "      </button>\n",
              "      \n",
              "  <style>\n",
              "    .colab-df-container {\n",
              "      display:flex;\n",
              "      flex-wrap:wrap;\n",
              "      gap: 12px;\n",
              "    }\n",
              "\n",
              "    .colab-df-convert {\n",
              "      background-color: #E8F0FE;\n",
              "      border: none;\n",
              "      border-radius: 50%;\n",
              "      cursor: pointer;\n",
              "      display: none;\n",
              "      fill: #1967D2;\n",
              "      height: 32px;\n",
              "      padding: 0 0 0 0;\n",
              "      width: 32px;\n",
              "    }\n",
              "\n",
              "    .colab-df-convert:hover {\n",
              "      background-color: #E2EBFA;\n",
              "      box-shadow: 0px 1px 2px rgba(60, 64, 67, 0.3), 0px 1px 3px 1px rgba(60, 64, 67, 0.15);\n",
              "      fill: #174EA6;\n",
              "    }\n",
              "\n",
              "    [theme=dark] .colab-df-convert {\n",
              "      background-color: #3B4455;\n",
              "      fill: #D2E3FC;\n",
              "    }\n",
              "\n",
              "    [theme=dark] .colab-df-convert:hover {\n",
              "      background-color: #434B5C;\n",
              "      box-shadow: 0px 1px 3px 1px rgba(0, 0, 0, 0.15);\n",
              "      filter: drop-shadow(0px 1px 2px rgba(0, 0, 0, 0.3));\n",
              "      fill: #FFFFFF;\n",
              "    }\n",
              "  </style>\n",
              "\n",
              "      <script>\n",
              "        const buttonEl =\n",
              "          document.querySelector('#df-a0e1e30c-db2e-4b4e-a579-0a0ee7f83e08 button.colab-df-convert');\n",
              "        buttonEl.style.display =\n",
              "          google.colab.kernel.accessAllowed ? 'block' : 'none';\n",
              "\n",
              "        async function convertToInteractive(key) {\n",
              "          const element = document.querySelector('#df-a0e1e30c-db2e-4b4e-a579-0a0ee7f83e08');\n",
              "          const dataTable =\n",
              "            await google.colab.kernel.invokeFunction('convertToInteractive',\n",
              "                                                     [key], {});\n",
              "          if (!dataTable) return;\n",
              "\n",
              "          const docLinkHtml = 'Like what you see? Visit the ' +\n",
              "            '<a target=\"_blank\" href=https://colab.research.google.com/notebooks/data_table.ipynb>data table notebook</a>'\n",
              "            + ' to learn more about interactive tables.';\n",
              "          element.innerHTML = '';\n",
              "          dataTable['output_type'] = 'display_data';\n",
              "          await google.colab.output.renderOutput(dataTable, element);\n",
              "          const docLink = document.createElement('div');\n",
              "          docLink.innerHTML = docLinkHtml;\n",
              "          element.appendChild(docLink);\n",
              "        }\n",
              "      </script>\n",
              "    </div>\n",
              "  </div>\n",
              "  "
            ]
          },
          "metadata": {},
          "execution_count": 8
        }
      ],
      "source": [
        "imp_df= df.fillna(method='bfill', axis=0).fillna(0)\n",
        "imp_df.describe() "
      ]
    },
    {
      "cell_type": "code",
      "execution_count": null,
      "metadata": {
        "colab": {
          "base_uri": "https://localhost:8080/"
        },
        "id": "yBGMIY-PArTQ",
        "outputId": "92397ac7-458c-4801-fa50-995ff0b2971f"
      },
      "outputs": [
        {
          "output_type": "execute_result",
          "data": {
            "text/plain": [
              "46477"
            ]
          },
          "metadata": {},
          "execution_count": 9
        }
      ],
      "source": [
        "#check missing values again\n",
        "df.isnull().sum().max() "
      ]
    },
    {
      "cell_type": "code",
      "execution_count": null,
      "metadata": {
        "id": "VyseYp3z2TNH"
      },
      "outputs": [],
      "source": [
        "df = imp_df"
      ]
    },
    {
      "cell_type": "markdown",
      "metadata": {
        "id": "ZauF6h_zF4Lu"
      },
      "source": [
        "## Removing columns"
      ]
    },
    {
      "cell_type": "markdown",
      "metadata": {
        "id": "CESztU3NtY8p"
      },
      "source": [
        "### Removing not useful columns"
      ]
    },
    {
      "cell_type": "code",
      "execution_count": null,
      "metadata": {
        "id": "KFh_k5UWekci"
      },
      "outputs": [],
      "source": [
        "#drop the columns that are not useful\n",
        "df = df.loc[:, ~df.columns.isin([\"encounter_id\", \"hospital_id\", 'height', 'weight','readmission_status'])]"
      ]
    },
    {
      "cell_type": "markdown",
      "metadata": {
        "id": "SCZyxqyYlems"
      },
      "source": [
        "### Removing highly correlated columns"
      ]
    },
    {
      "cell_type": "code",
      "execution_count": null,
      "metadata": {
        "id": "rXeiFcShlPsE"
      },
      "outputs": [],
      "source": [
        "X = df.loc[:, ~df.columns.isin(['diabetes_mellitus'])]\n",
        "\n",
        "#extract the target column\n",
        "y = df[\"diabetes_mellitus\"] "
      ]
    },
    {
      "cell_type": "code",
      "execution_count": null,
      "metadata": {
        "colab": {
          "base_uri": "https://localhost:8080/"
        },
        "id": "U4d6APcMlD5c",
        "outputId": "9ebb6ed5-5683-4871-8414-5bb21b71f2ba"
      },
      "outputs": [
        {
          "output_type": "stream",
          "name": "stdout",
          "text": [
            "\n",
            "['d1_albumin_min', 'd1_bilirubin_min', 'd1_bun_min', 'd1_platelets_min', 'd1_wbc_min', 'h1_glucose_min']\n"
          ]
        },
        {
          "output_type": "stream",
          "name": "stderr",
          "text": [
            "/usr/local/lib/python3.7/dist-packages/ipykernel_launcher.py:2: DeprecationWarning: `np.bool` is a deprecated alias for the builtin `bool`. To silence this warning, use `bool` by itself. Doing this will not modify any behavior and is safe. If you specifically wanted the numpy scalar type, use `np.bool_` here.\n",
            "Deprecated in NumPy 1.20; for more details and guidance: https://numpy.org/devdocs/release/1.20.0-notes.html#deprecations\n",
            "  \n"
          ]
        }
      ],
      "source": [
        "cor_matrix = X.corr().abs()\n",
        "upper_tri = cor_matrix.where(np.triu(np.ones(cor_matrix.shape),k=1).astype(np.bool))\n",
        "to_drop = [column for column in upper_tri.columns if any(upper_tri[column] > 0.90)]\n",
        "print(); print(to_drop)"
      ]
    },
    {
      "cell_type": "code",
      "execution_count": null,
      "metadata": {
        "id": "yevci1rBlpPE"
      },
      "outputs": [],
      "source": [
        "df = df.loc[:, ~df.columns.isin(['d1_albumin_min', 'd1_bilirubin_min', 'd1_bun_min', 'd1_platelets_min', 'd1_wbc_min', 'h1_glucose_min'])]"
      ]
    },
    {
      "cell_type": "markdown",
      "metadata": {
        "id": "aWtr7sYy0BJd"
      },
      "source": [
        "## Categorical and Numerical "
      ]
    },
    {
      "cell_type": "code",
      "execution_count": null,
      "metadata": {
        "colab": {
          "base_uri": "https://localhost:8080/"
        },
        "id": "nPZzJoIcD4q1",
        "outputId": "75ed199a-1f8e-46fa-836a-09a0a041ce29"
      },
      "outputs": [
        {
          "output_type": "stream",
          "name": "stdout",
          "text": [
            "Collecting category_encoders\n",
            "  Downloading category_encoders-2.4.1-py2.py3-none-any.whl (80 kB)\n",
            "\u001b[?25l\r\u001b[K     |████                            | 10 kB 18.9 MB/s eta 0:00:01\r\u001b[K     |████████                        | 20 kB 9.3 MB/s eta 0:00:01\r\u001b[K     |████████████▏                   | 30 kB 5.5 MB/s eta 0:00:01\r\u001b[K     |████████████████▏               | 40 kB 5.0 MB/s eta 0:00:01\r\u001b[K     |████████████████████▎           | 51 kB 3.8 MB/s eta 0:00:01\r\u001b[K     |████████████████████████▎       | 61 kB 4.5 MB/s eta 0:00:01\r\u001b[K     |████████████████████████████▍   | 71 kB 4.6 MB/s eta 0:00:01\r\u001b[K     |████████████████████████████████| 80 kB 3.4 MB/s \n",
            "\u001b[?25hRequirement already satisfied: scikit-learn>=0.20.0 in /usr/local/lib/python3.7/dist-packages (from category_encoders) (1.0.2)\n",
            "Requirement already satisfied: pandas>=0.21.1 in /usr/local/lib/python3.7/dist-packages (from category_encoders) (1.3.5)\n",
            "Requirement already satisfied: statsmodels>=0.9.0 in /usr/local/lib/python3.7/dist-packages (from category_encoders) (0.10.2)\n",
            "Requirement already satisfied: patsy>=0.5.1 in /usr/local/lib/python3.7/dist-packages (from category_encoders) (0.5.2)\n",
            "Requirement already satisfied: numpy>=1.14.0 in /usr/local/lib/python3.7/dist-packages (from category_encoders) (1.21.6)\n",
            "Requirement already satisfied: scipy>=1.0.0 in /usr/local/lib/python3.7/dist-packages (from category_encoders) (1.4.1)\n",
            "Requirement already satisfied: python-dateutil>=2.7.3 in /usr/local/lib/python3.7/dist-packages (from pandas>=0.21.1->category_encoders) (2.8.2)\n",
            "Requirement already satisfied: pytz>=2017.3 in /usr/local/lib/python3.7/dist-packages (from pandas>=0.21.1->category_encoders) (2022.1)\n",
            "Requirement already satisfied: six in /usr/local/lib/python3.7/dist-packages (from patsy>=0.5.1->category_encoders) (1.15.0)\n",
            "Requirement already satisfied: threadpoolctl>=2.0.0 in /usr/local/lib/python3.7/dist-packages (from scikit-learn>=0.20.0->category_encoders) (3.1.0)\n",
            "Requirement already satisfied: joblib>=0.11 in /usr/local/lib/python3.7/dist-packages (from scikit-learn>=0.20.0->category_encoders) (1.1.0)\n",
            "Installing collected packages: category-encoders\n",
            "Successfully installed category-encoders-2.4.1\n"
          ]
        }
      ],
      "source": [
        "pip install --upgrade category_encoders"
      ]
    },
    {
      "cell_type": "code",
      "execution_count": null,
      "metadata": {
        "id": "uz4jb44GJaQ3"
      },
      "outputs": [],
      "source": [
        "#divide our columns in to the categorical and numerical columns for variables that are useful for prediction of diabetes\n",
        "\n",
        "cat_col = [\"gender\", \"ethnicity\", \"icu_type\"]\n",
        "num_col = df.loc[:, ~df.columns.isin([\"gender\", \"ethnicity\", \"icu_type\"])]"
      ]
    },
    {
      "cell_type": "code",
      "execution_count": null,
      "metadata": {
        "colab": {
          "base_uri": "https://localhost:8080/"
        },
        "id": "EV4r_ZeCPndy",
        "outputId": "e9714aad-9dbe-412f-9e9b-05ff9f28442e"
      },
      "outputs": [
        {
          "output_type": "stream",
          "name": "stdout",
          "text": [
            "---- gender ---\n",
            "M    42925\n",
            "F    36234\n",
            "Name: gender, dtype: int64\n",
            "---- ethnicity ---\n",
            "Caucasian           60520\n",
            "African American     8957\n",
            "Other/Unknown        4076\n",
            "Hispanic             3307\n",
            "Asian                1536\n",
            "Native American       763\n",
            "Name: ethnicity, dtype: int64\n",
            "---- icu_type ---\n",
            "Med-Surg ICU    43608\n",
            "MICU             6816\n",
            "CCU-CTICU        6809\n",
            "Neuro ICU        6077\n",
            "Cardiac ICU      5069\n",
            "SICU             4902\n",
            "CSICU            3138\n",
            "CTICU            2740\n",
            "Name: icu_type, dtype: int64\n"
          ]
        }
      ],
      "source": [
        "#Let us run loop of value_counts of each column to find out unique values. \n",
        "for col in df[cat_col]:\n",
        "    print (\"---- %s ---\" % col)\n",
        "    print (df[col].value_counts())"
      ]
    },
    {
      "cell_type": "markdown",
      "metadata": {
        "id": "zSR-vmBMRgVP"
      },
      "source": [
        "### Label encoding"
      ]
    },
    {
      "cell_type": "code",
      "execution_count": null,
      "metadata": {
        "id": "dS6Nu62rQf_M"
      },
      "outputs": [],
      "source": [
        "from sklearn.preprocessing import LabelEncoder\n",
        "\n",
        "for col in [\"ethnicity\", \"icu_type\", 'gender']:\n",
        "    df[col] = LabelEncoder().fit_transform(df[col])"
      ]
    },
    {
      "cell_type": "code",
      "execution_count": null,
      "metadata": {
        "colab": {
          "base_uri": "https://localhost:8080/"
        },
        "id": "nk5rLrv-nVO2",
        "outputId": "a62a5efb-1f2d-4367-d487-ee626a5eb20f"
      },
      "outputs": [
        {
          "output_type": "execute_result",
          "data": {
            "text/plain": [
              "   gender  ethnicity  icu_type\n",
              "0       1          2         2\n",
              "1       0          2         5\n",
              "2       0          2         2\n",
              "3       1          2         5\n",
              "4       0          2         5\n",
              "5       1          2         5\n",
              "6       0          2         5\n",
              "7       0          2         4\n",
              "8       1          2         4\n",
              "9       0          2         0"
            ],
            "text/html": [
              "\n",
              "  <div id=\"df-bd0796b7-dcbb-4848-be13-4022e2437e0c\">\n",
              "    <div class=\"colab-df-container\">\n",
              "      <div>\n",
              "<style scoped>\n",
              "    .dataframe tbody tr th:only-of-type {\n",
              "        vertical-align: middle;\n",
              "    }\n",
              "\n",
              "    .dataframe tbody tr th {\n",
              "        vertical-align: top;\n",
              "    }\n",
              "\n",
              "    .dataframe thead th {\n",
              "        text-align: right;\n",
              "    }\n",
              "</style>\n",
              "<table border=\"1\" class=\"dataframe\">\n",
              "  <thead>\n",
              "    <tr style=\"text-align: right;\">\n",
              "      <th></th>\n",
              "      <th>gender</th>\n",
              "      <th>ethnicity</th>\n",
              "      <th>icu_type</th>\n",
              "    </tr>\n",
              "  </thead>\n",
              "  <tbody>\n",
              "    <tr>\n",
              "      <th>0</th>\n",
              "      <td>1</td>\n",
              "      <td>2</td>\n",
              "      <td>2</td>\n",
              "    </tr>\n",
              "    <tr>\n",
              "      <th>1</th>\n",
              "      <td>0</td>\n",
              "      <td>2</td>\n",
              "      <td>5</td>\n",
              "    </tr>\n",
              "    <tr>\n",
              "      <th>2</th>\n",
              "      <td>0</td>\n",
              "      <td>2</td>\n",
              "      <td>2</td>\n",
              "    </tr>\n",
              "    <tr>\n",
              "      <th>3</th>\n",
              "      <td>1</td>\n",
              "      <td>2</td>\n",
              "      <td>5</td>\n",
              "    </tr>\n",
              "    <tr>\n",
              "      <th>4</th>\n",
              "      <td>0</td>\n",
              "      <td>2</td>\n",
              "      <td>5</td>\n",
              "    </tr>\n",
              "    <tr>\n",
              "      <th>5</th>\n",
              "      <td>1</td>\n",
              "      <td>2</td>\n",
              "      <td>5</td>\n",
              "    </tr>\n",
              "    <tr>\n",
              "      <th>6</th>\n",
              "      <td>0</td>\n",
              "      <td>2</td>\n",
              "      <td>5</td>\n",
              "    </tr>\n",
              "    <tr>\n",
              "      <th>7</th>\n",
              "      <td>0</td>\n",
              "      <td>2</td>\n",
              "      <td>4</td>\n",
              "    </tr>\n",
              "    <tr>\n",
              "      <th>8</th>\n",
              "      <td>1</td>\n",
              "      <td>2</td>\n",
              "      <td>4</td>\n",
              "    </tr>\n",
              "    <tr>\n",
              "      <th>9</th>\n",
              "      <td>0</td>\n",
              "      <td>2</td>\n",
              "      <td>0</td>\n",
              "    </tr>\n",
              "  </tbody>\n",
              "</table>\n",
              "</div>\n",
              "      <button class=\"colab-df-convert\" onclick=\"convertToInteractive('df-bd0796b7-dcbb-4848-be13-4022e2437e0c')\"\n",
              "              title=\"Convert this dataframe to an interactive table.\"\n",
              "              style=\"display:none;\">\n",
              "        \n",
              "  <svg xmlns=\"http://www.w3.org/2000/svg\" height=\"24px\"viewBox=\"0 0 24 24\"\n",
              "       width=\"24px\">\n",
              "    <path d=\"M0 0h24v24H0V0z\" fill=\"none\"/>\n",
              "    <path d=\"M18.56 5.44l.94 2.06.94-2.06 2.06-.94-2.06-.94-.94-2.06-.94 2.06-2.06.94zm-11 1L8.5 8.5l.94-2.06 2.06-.94-2.06-.94L8.5 2.5l-.94 2.06-2.06.94zm10 10l.94 2.06.94-2.06 2.06-.94-2.06-.94-.94-2.06-.94 2.06-2.06.94z\"/><path d=\"M17.41 7.96l-1.37-1.37c-.4-.4-.92-.59-1.43-.59-.52 0-1.04.2-1.43.59L10.3 9.45l-7.72 7.72c-.78.78-.78 2.05 0 2.83L4 21.41c.39.39.9.59 1.41.59.51 0 1.02-.2 1.41-.59l7.78-7.78 2.81-2.81c.8-.78.8-2.07 0-2.86zM5.41 20L4 18.59l7.72-7.72 1.47 1.35L5.41 20z\"/>\n",
              "  </svg>\n",
              "      </button>\n",
              "      \n",
              "  <style>\n",
              "    .colab-df-container {\n",
              "      display:flex;\n",
              "      flex-wrap:wrap;\n",
              "      gap: 12px;\n",
              "    }\n",
              "\n",
              "    .colab-df-convert {\n",
              "      background-color: #E8F0FE;\n",
              "      border: none;\n",
              "      border-radius: 50%;\n",
              "      cursor: pointer;\n",
              "      display: none;\n",
              "      fill: #1967D2;\n",
              "      height: 32px;\n",
              "      padding: 0 0 0 0;\n",
              "      width: 32px;\n",
              "    }\n",
              "\n",
              "    .colab-df-convert:hover {\n",
              "      background-color: #E2EBFA;\n",
              "      box-shadow: 0px 1px 2px rgba(60, 64, 67, 0.3), 0px 1px 3px 1px rgba(60, 64, 67, 0.15);\n",
              "      fill: #174EA6;\n",
              "    }\n",
              "\n",
              "    [theme=dark] .colab-df-convert {\n",
              "      background-color: #3B4455;\n",
              "      fill: #D2E3FC;\n",
              "    }\n",
              "\n",
              "    [theme=dark] .colab-df-convert:hover {\n",
              "      background-color: #434B5C;\n",
              "      box-shadow: 0px 1px 3px 1px rgba(0, 0, 0, 0.15);\n",
              "      filter: drop-shadow(0px 1px 2px rgba(0, 0, 0, 0.3));\n",
              "      fill: #FFFFFF;\n",
              "    }\n",
              "  </style>\n",
              "\n",
              "      <script>\n",
              "        const buttonEl =\n",
              "          document.querySelector('#df-bd0796b7-dcbb-4848-be13-4022e2437e0c button.colab-df-convert');\n",
              "        buttonEl.style.display =\n",
              "          google.colab.kernel.accessAllowed ? 'block' : 'none';\n",
              "\n",
              "        async function convertToInteractive(key) {\n",
              "          const element = document.querySelector('#df-bd0796b7-dcbb-4848-be13-4022e2437e0c');\n",
              "          const dataTable =\n",
              "            await google.colab.kernel.invokeFunction('convertToInteractive',\n",
              "                                                     [key], {});\n",
              "          if (!dataTable) return;\n",
              "\n",
              "          const docLinkHtml = 'Like what you see? Visit the ' +\n",
              "            '<a target=\"_blank\" href=https://colab.research.google.com/notebooks/data_table.ipynb>data table notebook</a>'\n",
              "            + ' to learn more about interactive tables.';\n",
              "          element.innerHTML = '';\n",
              "          dataTable['output_type'] = 'display_data';\n",
              "          await google.colab.output.renderOutput(dataTable, element);\n",
              "          const docLink = document.createElement('div');\n",
              "          docLink.innerHTML = docLinkHtml;\n",
              "          element.appendChild(docLink);\n",
              "        }\n",
              "      </script>\n",
              "    </div>\n",
              "  </div>\n",
              "  "
            ]
          },
          "metadata": {},
          "execution_count": 19
        }
      ],
      "source": [
        "df.loc[:, df.columns.isin([\"gender\", \"ethnicity\", \"icu_type\"])].head(10)"
      ]
    },
    {
      "cell_type": "markdown",
      "source": [
        "# Feature Selection"
      ],
      "metadata": {
        "id": "KcLfC1NN7uGK"
      }
    },
    {
      "cell_type": "code",
      "source": [
        "X = df.loc[:, ~df.columns.isin([\"diabetes_mellitus\"])]\n",
        "y = df[\"diabetes_mellitus\"] "
      ],
      "metadata": {
        "id": "D7FqEZUi70AX"
      },
      "execution_count": null,
      "outputs": []
    },
    {
      "cell_type": "code",
      "source": [
        "from sklearn.feature_selection import SelectKBest, mutual_info_classif\n",
        "from sklearn.feature_selection import chi2\n",
        "\n",
        "selector = SelectKBest(score_func=mutual_info_classif, k='all')\n",
        "\n",
        "# transform train input data\n",
        "Xfs = selector.fit_transform(X,y)"
      ],
      "metadata": {
        "id": "pXskHDbC71M_"
      },
      "execution_count": null,
      "outputs": []
    },
    {
      "cell_type": "code",
      "source": [
        "names = X.columns.values[selector.get_support()]\n",
        "scores = selector.scores_[selector.get_support()]\n",
        "names_scores = list(zip(names, scores))\n",
        "ns_df = pd.DataFrame(data = names_scores, columns=['Feat_names', 'Mutual_info'])\n",
        "ns_df_sorted = ns_df.sort_values(['Mutual_info', 'Feat_names'], ascending = [False, True])\n",
        "print(ns_df_sorted)"
      ],
      "metadata": {
        "colab": {
          "base_uri": "https://localhost:8080/"
        },
        "id": "IVV5Mncx72B2",
        "outputId": "57ffd4d3-027d-415f-9f2e-c28215785457"
      },
      "execution_count": null,
      "outputs": [
        {
          "output_type": "stream",
          "name": "stdout",
          "text": [
            "                     Feat_names  Mutual_info\n",
            "20               h1_glucose_max     0.080338\n",
            "4                           bmi     0.029338\n",
            "11               d1_glucose_min     0.027658\n",
            "27            creatinine_apache     0.022266\n",
            "10                   d1_bun_max     0.020001\n",
            "9              d1_bilirubin_max     0.013994\n",
            "21                   wbc_apache     0.012273\n",
            "2                           age     0.010475\n",
            "25             gcs_motor_apache     0.009621\n",
            "15             d1_potassium_max     0.009008\n",
            "5                      icu_type     0.008554\n",
            "13                  d1_hco3_min     0.008053\n",
            "26              gcs_eyes_apache     0.007729\n",
            "19                   d1_wbc_max     0.006314\n",
            "1                     ethnicity     0.006211\n",
            "24            heart_rate_apache     0.005727\n",
            "28                  h1_spo2_max     0.004374\n",
            "12                  d1_hco3_max     0.004367\n",
            "0                        gender     0.004121\n",
            "6                   h1_temp_max     0.003923\n",
            "8                d1_albumin_max     0.003167\n",
            "17                d1_sodium_max     0.002917\n",
            "30                         aids     0.002256\n",
            "7                   h1_temp_min     0.001814\n",
            "36  solid_tumor_with_metastasis     0.001714\n",
            "18                d1_sodium_min     0.001351\n",
            "14             d1_platelets_max     0.000847\n",
            "33            immunosuppression     0.000782\n",
            "16             d1_potassium_min     0.000418\n",
            "31                    cirrhosis     0.000302\n",
            "37            ventilated_apache     0.000158\n",
            "23             d1_heartrate_max     0.000000\n",
            "3              elective_surgery     0.000000\n",
            "32              hepatic_failure     0.000000\n",
            "22             intubated_apache     0.000000\n",
            "34                     leukemia     0.000000\n",
            "35                     lymphoma     0.000000\n",
            "29                   map_apache     0.000000\n"
          ]
        }
      ]
    },
    {
      "cell_type": "markdown",
      "metadata": {
        "id": "uh55fujrGNWl"
      },
      "source": [
        "# Model building"
      ]
    },
    {
      "cell_type": "markdown",
      "metadata": {
        "id": "HBsLfdFcxgzI"
      },
      "source": [
        "## Define X and Y"
      ]
    },
    {
      "cell_type": "code",
      "execution_count": null,
      "metadata": {
        "id": "qjXw9gdqxdla"
      },
      "outputs": [],
      "source": [
        "X = df.loc[:, df.columns.isin(['h1_glucose_max', 'd1_glucose_min', 'bmi', 'd1_bun_max', 'creatinine_apache', \n",
        "                               'd1_bilirubin_max'])]\n",
        "y = df[\"diabetes_mellitus\"] \n",
        "\n",
        "X_train, X_test, y_train, y_test = train_test_split(X, y, test_size=0.3,random_state=1024, stratify=y, shuffle=True)\n",
        "nr = NearMiss()\n",
        "X_train, y_train = nr.fit_resample(X_train, y_train.ravel())\n"
      ]
    },
    {
      "cell_type": "code",
      "execution_count": null,
      "metadata": {
        "colab": {
          "base_uri": "https://localhost:8080/"
        },
        "id": "QdkzKwkVcYYO",
        "outputId": "9819659f-e7ff-4c5d-ea26-8e693f3f08df"
      },
      "outputs": [
        {
          "output_type": "stream",
          "name": "stdout",
          "text": [
            "(39412, 6) (39412,) (23748, 6)\n"
          ]
        }
      ],
      "source": [
        "pipe_dt=Pipeline([('scl',StandardScaler()),\n",
        "                 ('pca',PCA(n_components=2))\n",
        "                 ])\n",
        "\n",
        "x_train = pipe_dt.fit_transform(X_train)\n",
        "x_test = pipe_dt.fit_transform(X_test)\n",
        "print(X_train.shape, y_train.shape, X_test.shape)"
      ]
    },
    {
      "cell_type": "code",
      "execution_count": null,
      "metadata": {
        "id": "Yeiq8m3ZpIZH"
      },
      "outputs": [],
      "source": [
        "from sklearn.model_selection import RepeatedStratifiedKFold\n",
        "\n",
        "cv_method = RepeatedStratifiedKFold(n_splits=5, \n",
        "                                    n_repeats=3, \n",
        "                                    random_state=1024)"
      ]
    },
    {
      "cell_type": "markdown",
      "metadata": {
        "id": "dwYAmib2kdKf"
      },
      "source": [
        "## LR"
      ]
    },
    {
      "cell_type": "markdown",
      "metadata": {
        "id": "KBOrmpiGkq9e"
      },
      "source": [
        "### No tuned"
      ]
    },
    {
      "cell_type": "code",
      "execution_count": null,
      "metadata": {
        "colab": {
          "base_uri": "https://localhost:8080/"
        },
        "id": "HoIz78aQkeLl",
        "outputId": "79cf26a3-688c-4665-a809-64f28169904f"
      },
      "outputs": [
        {
          "output_type": "stream",
          "name": "stdout",
          "text": [
            "0.13391291800000005\n",
            "0.7569521973003146\n",
            "              precision    recall  f1-score   support\n",
            "\n",
            "           0       0.70      0.67      0.69     15302\n",
            "           1       0.45      0.48      0.47      8446\n",
            "\n",
            "    accuracy                           0.61     23748\n",
            "   macro avg       0.58      0.58      0.58     23748\n",
            "weighted avg       0.61      0.61      0.61     23748\n",
            "\n"
          ]
        }
      ],
      "source": [
        "# compute training time\n",
        "t_start = time.process_time()\n",
        "lr = LogisticRegression(random_state=1024)\n",
        "lr.fit(x_train, y_train)\n",
        "t_end = time.process_time()\n",
        "t_diff = t_end - t_start\n",
        "train_score = lr.score(x_train, y_train)\n",
        "\n",
        "y_pred = lr.predict(x_test)\n",
        "\n",
        "print(t_diff)\n",
        "print(train_score)\n",
        "print(classification_report(y_test, y_pred))"
      ]
    },
    {
      "cell_type": "markdown",
      "metadata": {
        "id": "bPrSH4JAksKV"
      },
      "source": [
        "### Tuned"
      ]
    },
    {
      "cell_type": "code",
      "execution_count": null,
      "metadata": {
        "colab": {
          "base_uri": "https://localhost:8080/"
        },
        "id": "8gGAeE7olspF",
        "outputId": "e8481b37-e3f7-4f00-c16d-4c9227a307da"
      },
      "outputs": [
        {
          "output_type": "stream",
          "name": "stderr",
          "text": [
            "/usr/local/lib/python3.7/dist-packages/sklearn/model_selection/_validation.py:372: FitFailedWarning: \n",
            "15 fits failed out of a total of 150.\n",
            "The score on these train-test partitions for these parameters will be set to nan.\n",
            "If these failures are not expected, you can try to debug them by setting error_score='raise'.\n",
            "\n",
            "Below are more details about the failures:\n",
            "--------------------------------------------------------------------------------\n",
            "15 fits failed with the following error:\n",
            "Traceback (most recent call last):\n",
            "  File \"/usr/local/lib/python3.7/dist-packages/sklearn/model_selection/_validation.py\", line 680, in _fit_and_score\n",
            "    estimator.fit(X_train, y_train, **fit_params)\n",
            "  File \"/usr/local/lib/python3.7/dist-packages/sklearn/linear_model/_logistic.py\", line 1461, in fit\n",
            "    solver = _check_solver(self.solver, self.penalty, self.dual)\n",
            "  File \"/usr/local/lib/python3.7/dist-packages/sklearn/linear_model/_logistic.py\", line 449, in _check_solver\n",
            "    % (solver, penalty)\n",
            "ValueError: Solver lbfgs supports only 'l2' or 'none' penalties, got l1 penalty.\n",
            "\n",
            "  warnings.warn(some_fits_failed_message, FitFailedWarning)\n",
            "/usr/local/lib/python3.7/dist-packages/sklearn/model_selection/_search.py:972: UserWarning: One or more of the test scores are non-finite: [0.75704533 0.75704533 0.75704533 0.75704533 0.75704533 0.75704533\n",
            " 0.75704533 0.75704533 0.75704533        nan]\n",
            "  category=UserWarning,\n"
          ]
        },
        {
          "output_type": "stream",
          "name": "stdout",
          "text": [
            "18.374216382\n",
            "0.7569521973003146\n",
            "              precision    recall  f1-score   support\n",
            "\n",
            "           0       0.70      0.67      0.69     15302\n",
            "           1       0.45      0.48      0.47      8446\n",
            "\n",
            "    accuracy                           0.61     23748\n",
            "   macro avg       0.58      0.58      0.58     23748\n",
            "weighted avg       0.61      0.61      0.61     23748\n",
            "\n"
          ]
        }
      ],
      "source": [
        "t_start = time.process_time()\n",
        "param_grid = {'penalty': ['l1', 'l2'], \n",
        "              'solver' :['lbfgs','newton-cg','liblinear','sag','saga'],\n",
        "              'max_iter': [100, 500, 1000, 1500, 2500]\n",
        "             }\n",
        "lr = LogisticRegression(random_state=1024)\n",
        "tuned_lr = RandomizedSearchCV(estimator = lr, param_distributions = param_grid, cv = cv_method)\n",
        "tuned_lr.fit(x_train, y_train)\n",
        "t_end = time.process_time()\n",
        "t_diff = t_end - t_start\n",
        "train_score = tuned_lr.score(x_train, y_train)\n",
        "\n",
        "best_estimator = tuned_lr.best_estimator_\n",
        "y_pred = best_estimator.predict(x_test)\n",
        "\n",
        "print(t_diff)\n",
        "print(train_score)\n",
        "print(classification_report(y_test, y_pred))"
      ]
    },
    {
      "cell_type": "markdown",
      "metadata": {
        "id": "8YOgH7Ug82XU"
      },
      "source": [
        "## DTC"
      ]
    },
    {
      "cell_type": "markdown",
      "metadata": {
        "id": "PdITDK7n4-yr"
      },
      "source": [
        "### No tuned"
      ]
    },
    {
      "cell_type": "code",
      "execution_count": null,
      "metadata": {
        "colab": {
          "base_uri": "https://localhost:8080/"
        },
        "id": "e8ZZ-bEiXnvu",
        "outputId": "761d3ce4-1f48-4641-af3a-e132e0840565"
      },
      "outputs": [
        {
          "output_type": "stream",
          "name": "stdout",
          "text": [
            "0.316813904\n",
            "1.0\n",
            "              precision    recall  f1-score   support\n",
            "\n",
            "           0       0.71      0.49      0.58     15302\n",
            "           1       0.41      0.63      0.50      8446\n",
            "\n",
            "    accuracy                           0.54     23748\n",
            "   macro avg       0.56      0.56      0.54     23748\n",
            "weighted avg       0.60      0.54      0.55     23748\n",
            "\n"
          ]
        }
      ],
      "source": [
        "# compute training time\n",
        "t_start = time.process_time()\n",
        "dtc = DecisionTreeClassifier(random_state=1024)\n",
        "dtc.fit(x_train, y_train)\n",
        "t_end = time.process_time()\n",
        "t_diff = t_end - t_start\n",
        "train_score = dtc.score(x_train, y_train)\n",
        "\n",
        "y_pred = dtc.predict(x_test)\n",
        "\n",
        "print(t_diff)\n",
        "print(train_score)\n",
        "print(classification_report(y_test, y_pred))"
      ]
    },
    {
      "cell_type": "code",
      "execution_count": null,
      "metadata": {
        "colab": {
          "base_uri": "https://localhost:8080/"
        },
        "id": "HedqIAZR5BUi",
        "outputId": "ff0ee476-279b-47d0-b224-7931d60e41b1"
      },
      "outputs": [
        {
          "output_type": "execute_result",
          "data": {
            "text/plain": [
              "([<matplotlib.axis.YTick at 0x7fe431f423d0>,\n",
              "  <matplotlib.axis.YTick at 0x7fe431f2ebd0>],\n",
              " [Text(0, 0.5, 'False'), Text(0, 1.5, 'True')])"
            ]
          },
          "metadata": {},
          "execution_count": 29
        },
        {
          "output_type": "display_data",
          "data": {
            "text/plain": [
              "<Figure size 504x432 with 2 Axes>"
            ],
            "image/png": "[encoded data removed]"
          },
          "metadata": {
            "needs_background": "light"
          }
        }
      ],
      "source": [
        "cnf_matrix = confusion_matrix(y_test, y_pred)\n",
        "\n",
        "%matplotlib inline\n",
        "class_names=[False, True] # name  of classes\n",
        "fig, ax = plt.subplots(figsize=(7, 6))\n",
        "sns.heatmap(pd.DataFrame(cnf_matrix), annot=True, cmap=\"YlGnBu\", fmt='g')\n",
        "ax.xaxis.set_label_position(\"top\")\n",
        "plt.tight_layout()\n",
        "plt.title('Confusion matrix')\n",
        "plt.ylabel('Actual label')\n",
        "plt.xlabel('Predicted label')\n",
        "tick_marks = [0.5, 1.5]\n",
        "plt.xticks(tick_marks, class_names)\n",
        "plt.yticks(tick_marks, class_names)"
      ]
    },
    {
      "cell_type": "markdown",
      "metadata": {
        "id": "LErkexMP0P0u"
      },
      "source": [
        "### Tuned"
      ]
    },
    {
      "cell_type": "code",
      "execution_count": null,
      "metadata": {
        "colab": {
          "base_uri": "https://localhost:8080/"
        },
        "id": "8DQxhp5590GA",
        "outputId": "5fa77f7e-43a7-469f-ebc1-0fd6fbfac8f2"
      },
      "outputs": [
        {
          "output_type": "stream",
          "name": "stdout",
          "text": [
            "16.38149617599999\n",
            "0.7684969044960925\n",
            "              precision    recall  f1-score   support\n",
            "\n",
            "           0       0.73      0.62      0.67     15302\n",
            "           1       0.46      0.58      0.51      8446\n",
            "\n",
            "    accuracy                           0.61     23748\n",
            "   macro avg       0.59      0.60      0.59     23748\n",
            "weighted avg       0.63      0.61      0.61     23748\n",
            "\n"
          ]
        }
      ],
      "source": [
        "t_start = time.process_time()\n",
        "param_grid = {'max_depth': [2, 4, 6, 8, 10], \n",
        "              'min_samples_leaf': [5, 10, 20, 50, 100],\n",
        "              'criterion' :['gini', 'entropy']\n",
        "             }\n",
        "dtc = DecisionTreeClassifier(random_state=1024)\n",
        "tuned_dtc = RandomizedSearchCV(estimator = dtc, param_distributions = param_grid, cv = cv_method)\n",
        "tuned_dtc.fit(x_train, y_train)\n",
        "t_end = time.process_time()\n",
        "t_diff = t_end - t_start\n",
        "train_score = tuned_dtc.score(x_train, y_train)\n",
        "\n",
        "best_estimator = tuned_dtc.best_estimator_\n",
        "y_pred = best_estimator.predict(x_test)\n",
        "\n",
        "print(t_diff)\n",
        "print(train_score)\n",
        "print(classification_report(y_test, y_pred))"
      ]
    },
    {
      "cell_type": "code",
      "execution_count": null,
      "metadata": {
        "colab": {
          "base_uri": "https://localhost:8080/"
        },
        "id": "ISmvnlzGyD-O",
        "outputId": "fd8d6a2d-7eee-46ed-fbc1-43b29716e8b6"
      },
      "outputs": [
        {
          "output_type": "execute_result",
          "data": {
            "text/plain": [
              "([<matplotlib.axis.YTick at 0x7fe431982110>,\n",
              "  <matplotlib.axis.YTick at 0x7fe43197f910>],\n",
              " [Text(0, 0.5, 'False'), Text(0, 1.5, 'True')])"
            ]
          },
          "metadata": {},
          "execution_count": 31
        },
        {
          "output_type": "display_data",
          "data": {
            "text/plain": [
              "<Figure size 504x432 with 2 Axes>"
            ],
            "image/png": "[encoded data removed]"
          },
          "metadata": {
            "needs_background": "light"
          }
        }
      ],
      "source": [
        "cnf_matrix = confusion_matrix(y_test, y_pred)\n",
        "\n",
        "%matplotlib inline\n",
        "class_names=[False, True] # name  of classes\n",
        "fig, ax = plt.subplots(figsize=(7, 6))\n",
        "sns.heatmap(pd.DataFrame(cnf_matrix), annot=True, cmap=\"YlGnBu\", fmt='g')\n",
        "ax.xaxis.set_label_position(\"top\")\n",
        "plt.tight_layout()\n",
        "plt.title('Confusion matrix')\n",
        "plt.ylabel('Actual label')\n",
        "plt.xlabel('Predicted label')\n",
        "tick_marks = [0.5, 1.5]\n",
        "plt.xticks(tick_marks, class_names)\n",
        "plt.yticks(tick_marks, class_names)"
      ]
    },
    {
      "cell_type": "markdown",
      "metadata": {
        "id": "hyqB4fp_kVg5"
      },
      "source": [
        "## EDTC"
      ]
    },
    {
      "cell_type": "markdown",
      "source": [
        "### No tuned"
      ],
      "metadata": {
        "id": "mQqK6LzC_QJC"
      }
    },
    {
      "cell_type": "code",
      "execution_count": null,
      "metadata": {
        "colab": {
          "base_uri": "https://localhost:8080/"
        },
        "id": "m0HM4KfNkW_X",
        "outputId": "dba0fb26-674e-457c-c7df-a1e29a6ca9b4"
      },
      "outputs": [
        {
          "output_type": "stream",
          "name": "stdout",
          "text": [
            "2.859896231999997\n",
            "1.0\n",
            "              precision    recall  f1-score   support\n",
            "\n",
            "           0       0.71      0.51      0.59     15302\n",
            "           1       0.41      0.63      0.50      8446\n",
            "\n",
            "    accuracy                           0.55     23748\n",
            "   macro avg       0.56      0.57      0.54     23748\n",
            "weighted avg       0.60      0.55      0.56     23748\n",
            "\n"
          ]
        }
      ],
      "source": [
        "# compute training time\n",
        "t_start = time.process_time()\n",
        "edtc = ExtraTreesClassifier(random_state=1024)\n",
        "edtc.fit(x_train, y_train)\n",
        "t_end = time.process_time()\n",
        "t_diff = t_end - t_start\n",
        "train_score = edtc.score(x_train, y_train)\n",
        "\n",
        "y_pred = edtc.predict(x_test)\n",
        "\n",
        "print(t_diff)\n",
        "print(train_score)\n",
        "print(classification_report(y_test, y_pred))"
      ]
    },
    {
      "cell_type": "markdown",
      "source": [
        "### Tuned"
      ],
      "metadata": {
        "id": "uDCjGAuc_TQd"
      }
    },
    {
      "cell_type": "code",
      "source": [
        "t_start = time.process_time()\n",
        "param_grid = {'max_depth': [2, 4, 6, 8, 10], \n",
        "              'min_samples_leaf': [5, 10, 20, 50, 100],\n",
        "              'criterion' :['gini', 'entropy']\n",
        "             }\n",
        "edtc = ExtraTreesClassifier(random_state=1024)\n",
        "tuned_edtc = RandomizedSearchCV(estimator = edtc, param_distributions = param_grid, cv = cv_method)\n",
        "tuned_edtc.fit(x_train, y_train)\n",
        "t_end = time.process_time()\n",
        "t_diff = t_end - t_start\n",
        "train_score = tuned_edtc.score(x_train, y_train)\n",
        "\n",
        "best_estimator = tuned_edtc.best_estimator_\n",
        "y_pred = best_estimator.predict(x_test)\n",
        "\n",
        "print(t_diff)\n",
        "print(train_score)\n",
        "print(classification_report(y_test, y_pred))"
      ],
      "metadata": {
        "colab": {
          "base_uri": "https://localhost:8080/"
        },
        "id": "NlmBXnS0_T9I",
        "outputId": "ac1ce38d-f52b-420e-ac4e-17be09eb5457"
      },
      "execution_count": null,
      "outputs": [
        {
          "output_type": "stream",
          "name": "stdout",
          "text": [
            "67.57983537\n",
            "0.7665939307825028\n",
            "              precision    recall  f1-score   support\n",
            "\n",
            "           0       0.73      0.66      0.69     15302\n",
            "           1       0.48      0.56      0.51      8446\n",
            "\n",
            "    accuracy                           0.62     23748\n",
            "   macro avg       0.60      0.61      0.60     23748\n",
            "weighted avg       0.64      0.62      0.63     23748\n",
            "\n"
          ]
        }
      ]
    },
    {
      "cell_type": "markdown",
      "metadata": {
        "id": "JWzh2xWfkmBw"
      },
      "source": [
        "## BDTC"
      ]
    },
    {
      "cell_type": "markdown",
      "source": [
        "### No tuned"
      ],
      "metadata": {
        "id": "DURnwtBR9pTs"
      }
    },
    {
      "cell_type": "code",
      "execution_count": null,
      "metadata": {
        "colab": {
          "base_uri": "https://localhost:8080/"
        },
        "id": "vhL9f5g6km23",
        "outputId": "6c273fab-9635-4e76-b454-91ef5ca52c67"
      },
      "outputs": [
        {
          "output_type": "stream",
          "name": "stdout",
          "text": [
            "69.74409546\n",
            "0.9768344666599006\n",
            "              precision    recall  f1-score   support\n",
            "\n",
            "           0       0.70      0.53      0.61     15302\n",
            "           1       0.41      0.59      0.49      8446\n",
            "\n",
            "    accuracy                           0.55     23748\n",
            "   macro avg       0.56      0.56      0.55     23748\n",
            "weighted avg       0.60      0.55      0.56     23748\n",
            "\n"
          ]
        }
      ],
      "source": [
        "bag = BaggingClassifier(base_estimator=DecisionTreeClassifier(), random_state = 1024)\n",
        "cv = RepeatedStratifiedKFold(n_splits=10, n_repeats=3, random_state=1)\n",
        "n_scores = cross_val_score(bag, x_train, y_train, scoring='accuracy', cv = cv_method, n_jobs=-1, error_score='raise')\n",
        "\n",
        "bag.fit(x_train, y_train)\n",
        "t_end = time.process_time()\n",
        "t_diff = t_end - t_start\n",
        "\n",
        "train_score = bag.score(x_train, y_train)\n",
        "\n",
        "y_pred = bag.predict(x_test)\n",
        "\n",
        "print(t_diff)\n",
        "print(train_score)\n",
        "print(classification_report(y_test, y_pred))"
      ]
    },
    {
      "cell_type": "markdown",
      "source": [
        "### Tuned"
      ],
      "metadata": {
        "id": "_CoGTNr99tkN"
      }
    },
    {
      "cell_type": "code",
      "source": [
        "t_start = time.process_time()\n",
        "\n",
        "for n in [50, 100, 150]:\n",
        "  bag = BaggingClassifier(base_estimator=DecisionTreeClassifier(), n_estimators = n, random_state = 1024)\n",
        "  cv = RepeatedStratifiedKFold(n_splits=10, n_repeats=3, random_state=1)\n",
        "  n_scores = cross_val_score(bag, x_train, y_train, scoring='accuracy', cv = cv_method, n_jobs=-1, error_score='raise')\n",
        "\n",
        "  bag.fit(x_train, y_train)\n",
        "  t_end = time.process_time()\n",
        "  t_diff = t_end - t_start\n",
        "\n",
        "  print(t_diff)\n",
        "  print(train_score)\n",
        "  print(classification_report(y_test, y_pred))"
      ],
      "metadata": {
        "colab": {
          "base_uri": "https://localhost:8080/"
        },
        "id": "TEgZHUSv8iRJ",
        "outputId": "7ff06c69-61a0-4c01-9678-d290d29b651e"
      },
      "execution_count": null,
      "outputs": [
        {
          "output_type": "stream",
          "name": "stdout",
          "text": [
            "6.802460029000002\n",
            "0.9768344666599006\n",
            "              precision    recall  f1-score   support\n",
            "\n",
            "           0       0.70      0.53      0.61     15302\n",
            "           1       0.41      0.59      0.49      8446\n",
            "\n",
            "    accuracy                           0.55     23748\n",
            "   macro avg       0.56      0.56      0.55     23748\n",
            "weighted avg       0.60      0.55      0.56     23748\n",
            "\n",
            "20.552833514000014\n",
            "0.9768344666599006\n",
            "              precision    recall  f1-score   support\n",
            "\n",
            "           0       0.70      0.53      0.61     15302\n",
            "           1       0.41      0.59      0.49      8446\n",
            "\n",
            "    accuracy                           0.55     23748\n",
            "   macro avg       0.56      0.56      0.55     23748\n",
            "weighted avg       0.60      0.55      0.56     23748\n",
            "\n"
          ]
        }
      ]
    },
    {
      "cell_type": "markdown",
      "metadata": {
        "id": "89Ksd7NFWfc6"
      },
      "source": [
        "## KNN"
      ]
    },
    {
      "cell_type": "markdown",
      "metadata": {
        "id": "yEV_piEWmx2-"
      },
      "source": [
        "### No tuned"
      ]
    },
    {
      "cell_type": "code",
      "execution_count": null,
      "metadata": {
        "id": "aZgERUqHWhoB"
      },
      "outputs": [],
      "source": [
        "# compute training time\n",
        "t_start = time.process_time()\n",
        "knn = KNeighborsClassifier()\n",
        "knn.fit(x_train, y_train)\n",
        "t_end = time.process_time()\n",
        "t_diff = t_end - t_start\n",
        "train_score = knn.score(x_train, y_train)\n",
        "\n",
        "y_pred = knn.predict(x_test)\n",
        "\n",
        "print(t_diff)\n",
        "print(train_score)\n",
        "print(classification_report(y_test, y_pred))"
      ]
    },
    {
      "cell_type": "markdown",
      "metadata": {
        "id": "GkIB4tzdmzQF"
      },
      "source": [
        "### Tuned"
      ]
    },
    {
      "cell_type": "code",
      "execution_count": null,
      "metadata": {
        "id": "szeWzArZfs5d"
      },
      "outputs": [],
      "source": [
        "param_grid = {'n_neighbors' : [5,7,9,11,13,15],\n",
        "               'weights' : ['uniform','distance'],\n",
        "               'metric' : ['minkowski','euclidean','manhattan'], \n",
        "              'leaf_size': [20,40,1],\n",
        "                'p': [1,2]}\n",
        "              \n",
        "knn = KNeighborsClassifier()\n",
        "tuned_knn = RandomizedSearchCV(estimator = knn, param_distributions = param_grid, cv = cv_method)\n",
        "tuned_knn.fit(x_train, y_train)\n",
        "best_estimator = tuned_knn.best_estimator_\n",
        "print(best_estimator)\n",
        "y_pred = best_estimator.predict(x_test)\n",
        "\n",
        "print(t_diff)\n",
        "print(train_score)\n",
        "print(classification_report(y_test, y_pred))"
      ]
    },
    {
      "cell_type": "markdown",
      "metadata": {
        "id": "3wBLWKcLlRnF"
      },
      "source": [
        "## GNB"
      ]
    },
    {
      "cell_type": "markdown",
      "metadata": {
        "id": "d1gDMtTZlTzt"
      },
      "source": [
        "### No tuned"
      ]
    },
    {
      "cell_type": "code",
      "execution_count": null,
      "metadata": {
        "id": "Y4T18-lelREP"
      },
      "outputs": [],
      "source": [
        "# compute training time\n",
        "t_start = time.process_time()\n",
        "gnb = GaussianNB()\n",
        "gnb.fit(x_train, y_train)\n",
        "t_end = time.process_time()\n",
        "t_diff = t_end - t_start\n",
        "train_score = gnb.score(x_train, y_train)\n",
        "\n",
        "y_pred = gnb.predict(x_test)\n",
        "\n",
        "print(t_diff)\n",
        "print(train_score)\n",
        "print(classification_report(y_test, y_pred))"
      ]
    },
    {
      "cell_type": "markdown",
      "metadata": {
        "id": "0LylM5QxofpW"
      },
      "source": [
        "### Tuned"
      ]
    },
    {
      "cell_type": "code",
      "execution_count": null,
      "metadata": {
        "id": "d7InAu2logbG"
      },
      "outputs": [],
      "source": [
        "t_start = time.process_time()\n",
        "\n",
        "param_grid = {'var_smoothing': np.logspace(0,-9, num=100)\n",
        "             }\n",
        "gnb = GaussianNB()\n",
        "tuned_gnb = RandomizedSearchCV(estimator = gnb, param_distributions = param_grid, cv=cv_method)\n",
        "tuned_gnb.fit(x_train, y_train)\n",
        "best_estimator = tuned_gnb.best_estimator_\n",
        "print(best_estimator)\n",
        "y_pred = best_estimator.predict(x_test)\n",
        "\n",
        "print(t_diff)\n",
        "print(train_score)\n",
        "print(classification_report(y_test, y_pred))"
      ]
    },
    {
      "cell_type": "markdown",
      "metadata": {
        "id": "J60h9czg5r3x"
      },
      "source": [
        "## RFC"
      ]
    },
    {
      "cell_type": "markdown",
      "metadata": {
        "id": "_lhXA5Q16MFB"
      },
      "source": [
        "### No tuned"
      ]
    },
    {
      "cell_type": "code",
      "execution_count": null,
      "metadata": {
        "id": "iLNw8sC75t8v"
      },
      "outputs": [],
      "source": [
        "t_start = time.process_time()\n",
        "rfc = RandomForestClassifier(random_state=1024)\n",
        "rfc.fit(x_train, y_train)\n",
        "t_end = time.process_time()\n",
        "t_diff = t_end - t_start\n",
        "train_score = rfc.score(x_train, y_train)\n",
        "\n",
        "y_pred = rfc.predict(x_test)\n",
        "\n",
        "print(t_diff)\n",
        "print(train_score)\n",
        "print(classification_report(y_test, y_pred))"
      ]
    },
    {
      "cell_type": "code",
      "execution_count": null,
      "metadata": {
        "id": "5B_OZwus5x7H"
      },
      "outputs": [],
      "source": [
        "cnf_matrix = confusion_matrix(y_test, y_pred)\n",
        "\n",
        "%matplotlib inline\n",
        "class_names=[False, True] # name  of classes\n",
        "fig, ax = plt.subplots(figsize=(7, 6))\n",
        "sns.heatmap(pd.DataFrame(cnf_matrix), annot=True, cmap=\"YlGnBu\", fmt='g')\n",
        "ax.xaxis.set_label_position(\"top\")\n",
        "plt.tight_layout()\n",
        "plt.title('Confusion matrix')\n",
        "plt.ylabel('Actual label')\n",
        "plt.xlabel('Predicted label')\n",
        "tick_marks = [0.5, 1.5]\n",
        "plt.xticks(tick_marks, class_names)\n",
        "plt.yticks(tick_marks, class_names)"
      ]
    },
    {
      "cell_type": "markdown",
      "metadata": {
        "id": "drjLOZpS6OIp"
      },
      "source": [
        "### Tuned"
      ]
    },
    {
      "cell_type": "code",
      "execution_count": null,
      "metadata": {
        "id": "kY30mZiw55Kw"
      },
      "outputs": [],
      "source": [
        "param_grid = {'max_depth': [2, 4, 6, 8, 10, 15, 20], \n",
        "              'min_samples_leaf': [5, 10, 20, 50, 100],\n",
        "              'criterion' :['gini', 'entropy']\n",
        "             }\n",
        "rfc = RandomForestClassifier(random_state=1024)\n",
        "tuned_rfc = RandomizedSearchCV(estimator = rfc, param_distributions = param_grid, cv = cv_method)\n",
        "tuned_rfc.fit(x_train, y_train)\n",
        "best_estimator = tuned_rfc.best_estimator_\n",
        "print(best_estimator)\n",
        "y_pred = best_estimator.predict(x_test)\n",
        "\n",
        "print(t_diff)\n",
        "print(train_score)\n",
        "print(classification_report(y_test, y_pred))"
      ]
    },
    {
      "cell_type": "code",
      "execution_count": null,
      "metadata": {
        "id": "k3w8diBG6Kjq"
      },
      "outputs": [],
      "source": [
        "cnf_matrix = confusion_matrix(y_test, y_pred)\n",
        "\n",
        "%matplotlib inline\n",
        "class_names=[False, True] # name  of classes\n",
        "fig, ax = plt.subplots(figsize=(7, 6))\n",
        "sns.heatmap(pd.DataFrame(cnf_matrix), annot=True, cmap=\"YlGnBu\", fmt='g')\n",
        "ax.xaxis.set_label_position(\"top\")\n",
        "plt.tight_layout()\n",
        "plt.title('Confusion matrix')\n",
        "plt.ylabel('Actual label')\n",
        "plt.xlabel('Predicted label')\n",
        "tick_marks = [0.5, 1.5]\n",
        "plt.xticks(tick_marks, class_names)\n",
        "plt.yticks(tick_marks, class_names)"
      ]
    },
    {
      "cell_type": "markdown",
      "metadata": {
        "id": "u5EdWioKqLaV"
      },
      "source": [
        "## GBC"
      ]
    },
    {
      "cell_type": "markdown",
      "metadata": {
        "id": "IDfr2howqcON"
      },
      "source": [
        "### No tuned"
      ]
    },
    {
      "cell_type": "code",
      "execution_count": null,
      "metadata": {
        "id": "QbmLUO7gn48e"
      },
      "outputs": [],
      "source": [
        "t_start = time.process_time()\n",
        "gbc = GradientBoostingClassifier(random_state=1024)\n",
        "gbc.fit(x_train, y_train)\n",
        "t_end = time.process_time()\n",
        "t_diff = t_end - t_start\n",
        "train_score = gbc.score(x_train, y_train)\n",
        "\n",
        "y_pred = gbc.predict(x_test)\n",
        "\n",
        "print(t_diff)\n",
        "print(train_score)\n",
        "print(classification_report(y_test, y_pred))"
      ]
    },
    {
      "cell_type": "markdown",
      "source": [
        "### Tuned"
      ],
      "metadata": {
        "id": "bS4Fu5hkMBUo"
      }
    },
    {
      "cell_type": "code",
      "execution_count": null,
      "metadata": {
        "id": "cnwHQFTPqxb2"
      },
      "outputs": [],
      "source": [
        "t_start = time.process_time()\n",
        "param_grid = {'n_estimators':[5,50,250,500],\n",
        "              'max_depth':[1,3,5,7,9],\n",
        "              'learning_rate':[0.01,0.1,1,10,100]\n",
        "             }\n",
        "gbc = GradientBoostingClassifier(random_state=1024)\n",
        "tuned_gbc = RandomizedSearchCV(estimator = gbc, param_distributions = param_grid, cv = cv_method)\n",
        "tuned_gbc.fit(x_train, y_train)\n",
        "t_end = time.process_time()\n",
        "t_diff = t_end - t_start\n",
        "\n",
        "best_estimator = tuned_gbc.best_estimator_\n",
        "print(best_estimator)\n",
        "y_pred = best_estimator.predict(x_test)\n",
        "\n",
        "print(t_diff)\n",
        "print(train_score)\n",
        "print(classification_report(y_test, y_pred))"
      ]
    }
  ],
  "metadata": {
    "colab": {
      "provenance": [],
      "toc_visible": true,
      "include_colab_link": true
    },
    "kernelspec": {
      "display_name": "Python 3",
      "name": "python3"
    },
    "language_info": {
      "name": "python"
    }
  },
  "nbformat": 4,
  "nbformat_minor": 0
}