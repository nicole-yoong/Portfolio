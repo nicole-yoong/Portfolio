{
  "cells": [
    {
      "cell_type": "markdown",
      "metadata": {
        "id": "view-in-github",
        "colab_type": "text"
      },
      "source": [
        "<a href=\"https://colab.research.google.com/github/nicole-yoong/Portfolio/blob/main/Diabetes_Detection/%5BPart_4%5D_Unsupervised_Models.ipynb\" target=\"_parent\"><img src=\"https://colab.research.google.com/assets/colab-badge.svg\" alt=\"Open In Colab\"/></a>"
      ]
    },
    {
      "cell_type": "code",
      "execution_count": 1,
      "metadata": {
        "id": "mgNOWcoZIVYP",
        "colab": {
          "base_uri": "https://localhost:8080/"
        },
        "outputId": "58cab00c-c379-4fb4-ac29-625302350db3"
      },
      "outputs": [
        {
          "output_type": "stream",
          "name": "stdout",
          "text": [
            "Setup complete.\n"
          ]
        }
      ],
      "source": [
        "import pandas as pd\n",
        "import numpy as np\n",
        "pd.plotting.register_matplotlib_converters()\n",
        "import matplotlib.pyplot as plt\n",
        "%matplotlib inline\n",
        "import seaborn as sns\n",
        "\n",
        "from sklearn.cluster import KMeans\n",
        "from sklearn.preprocessing import StandardScaler\n",
        "from sklearn.manifold import TSNE\n",
        "from sklearn.metrics import confusion_matrix,classification_report\n",
        "from sklearn.metrics.cluster import adjusted_mutual_info_score\n",
        "from sklearn.metrics.cluster import adjusted_rand_score\n",
        "from sklearn.preprocessing import StandardScaler\n",
        "from sklearn.decomposition import PCA\n",
        "from sklearn.pipeline import Pipeline\n",
        "\n",
        "print(\"Setup complete.\")"
      ]
    },
    {
      "cell_type": "markdown",
      "metadata": {
        "id": "8R91LH4NIeqm"
      },
      "source": [
        "# Loading data"
      ]
    },
    {
      "cell_type": "code",
      "execution_count": 4,
      "metadata": {
        "id": "EWU58-riHuY4",
        "colab": {
          "base_uri": "https://localhost:8080/",
          "height": 300
        },
        "outputId": "76b5daec-5f63-4a41-9eae-4143a888af91"
      },
      "outputs": [
        {
          "output_type": "execute_result",
          "data": {
            "text/plain": [
              "   encounter_id  hospital_id gender  ethnicity   age  elective_surgery  \\\n",
              "0        214826          118      M  Caucasian  68.0                 0   \n",
              "1        276985          118      F  Caucasian  25.0                 0   \n",
              "2        262220          118      F  Caucasian  81.0                 1   \n",
              "3        201746           33      M  Caucasian  19.0                 0   \n",
              "4        246060           81      F  Caucasian  77.0                 0   \n",
              "\n",
              "   height  weight        bmi  readmission_status  ... map_apache  aids  \\\n",
              "0   180.3    73.9  22.732803                   0  ...       40.0     0   \n",
              "1   172.7    95.3  31.952749                   0  ...       68.0     0   \n",
              "2   165.1    61.7  22.635548                   0  ...       60.0     0   \n",
              "3   188.0     NaN        NaN                   0  ...      103.0     0   \n",
              "4   160.0    70.2  27.421875                   0  ...       46.0     0   \n",
              "\n",
              "   cirrhosis  hepatic_failure  immunosuppression  leukemia  lymphoma  \\\n",
              "0          0                0                  0         0         0   \n",
              "1          0                0                  0         0         0   \n",
              "2          0                0                  0         0         0   \n",
              "3          0                0                  0         0         0   \n",
              "4          0                0                  0         0         0   \n",
              "\n",
              "   solid_tumor_with_metastasis  ventilated_apache  diabetes_mellitus  \n",
              "0                            0                  0                  1  \n",
              "1                            0                  0                  0  \n",
              "2                            0                  1                  0  \n",
              "3                            0                  0                  0  \n",
              "4                            0                  1                  1  \n",
              "\n",
              "[5 rows x 88 columns]"
            ],
            "text/html": [
              "\n",
              "  <div id=\"df-2aee2f8e-b28e-498d-9689-6d6a96e702af\">\n",
              "    <div class=\"colab-df-container\">\n",
              "      <div>\n",
              "<style scoped>\n",
              "    .dataframe tbody tr th:only-of-type {\n",
              "        vertical-align: middle;\n",
              "    }\n",
              "\n",
              "    .dataframe tbody tr th {\n",
              "        vertical-align: top;\n",
              "    }\n",
              "\n",
              "    .dataframe thead th {\n",
              "        text-align: right;\n",
              "    }\n",
              "</style>\n",
              "<table border=\"1\" class=\"dataframe\">\n",
              "  <thead>\n",
              "    <tr style=\"text-align: right;\">\n",
              "      <th></th>\n",
              "      <th>encounter_id</th>\n",
              "      <th>hospital_id</th>\n",
              "      <th>gender</th>\n",
              "      <th>ethnicity</th>\n",
              "      <th>age</th>\n",
              "      <th>elective_surgery</th>\n",
              "      <th>height</th>\n",
              "      <th>weight</th>\n",
              "      <th>bmi</th>\n",
              "      <th>readmission_status</th>\n",
              "      <th>...</th>\n",
              "      <th>map_apache</th>\n",
              "      <th>aids</th>\n",
              "      <th>cirrhosis</th>\n",
              "      <th>hepatic_failure</th>\n",
              "      <th>immunosuppression</th>\n",
              "      <th>leukemia</th>\n",
              "      <th>lymphoma</th>\n",
              "      <th>solid_tumor_with_metastasis</th>\n",
              "      <th>ventilated_apache</th>\n",
              "      <th>diabetes_mellitus</th>\n",
              "    </tr>\n",
              "  </thead>\n",
              "  <tbody>\n",
              "    <tr>\n",
              "      <th>0</th>\n",
              "      <td>214826</td>\n",
              "      <td>118</td>\n",
              "      <td>M</td>\n",
              "      <td>Caucasian</td>\n",
              "      <td>68.0</td>\n",
              "      <td>0</td>\n",
              "      <td>180.3</td>\n",
              "      <td>73.9</td>\n",
              "      <td>22.732803</td>\n",
              "      <td>0</td>\n",
              "      <td>...</td>\n",
              "      <td>40.0</td>\n",
              "      <td>0</td>\n",
              "      <td>0</td>\n",
              "      <td>0</td>\n",
              "      <td>0</td>\n",
              "      <td>0</td>\n",
              "      <td>0</td>\n",
              "      <td>0</td>\n",
              "      <td>0</td>\n",
              "      <td>1</td>\n",
              "    </tr>\n",
              "    <tr>\n",
              "      <th>1</th>\n",
              "      <td>276985</td>\n",
              "      <td>118</td>\n",
              "      <td>F</td>\n",
              "      <td>Caucasian</td>\n",
              "      <td>25.0</td>\n",
              "      <td>0</td>\n",
              "      <td>172.7</td>\n",
              "      <td>95.3</td>\n",
              "      <td>31.952749</td>\n",
              "      <td>0</td>\n",
              "      <td>...</td>\n",
              "      <td>68.0</td>\n",
              "      <td>0</td>\n",
              "      <td>0</td>\n",
              "      <td>0</td>\n",
              "      <td>0</td>\n",
              "      <td>0</td>\n",
              "      <td>0</td>\n",
              "      <td>0</td>\n",
              "      <td>0</td>\n",
              "      <td>0</td>\n",
              "    </tr>\n",
              "    <tr>\n",
              "      <th>2</th>\n",
              "      <td>262220</td>\n",
              "      <td>118</td>\n",
              "      <td>F</td>\n",
              "      <td>Caucasian</td>\n",
              "      <td>81.0</td>\n",
              "      <td>1</td>\n",
              "      <td>165.1</td>\n",
              "      <td>61.7</td>\n",
              "      <td>22.635548</td>\n",
              "      <td>0</td>\n",
              "      <td>...</td>\n",
              "      <td>60.0</td>\n",
              "      <td>0</td>\n",
              "      <td>0</td>\n",
              "      <td>0</td>\n",
              "      <td>0</td>\n",
              "      <td>0</td>\n",
              "      <td>0</td>\n",
              "      <td>0</td>\n",
              "      <td>1</td>\n",
              "      <td>0</td>\n",
              "    </tr>\n",
              "    <tr>\n",
              "      <th>3</th>\n",
              "      <td>201746</td>\n",
              "      <td>33</td>\n",
              "      <td>M</td>\n",
              "      <td>Caucasian</td>\n",
              "      <td>19.0</td>\n",
              "      <td>0</td>\n",
              "      <td>188.0</td>\n",
              "      <td>NaN</td>\n",
              "      <td>NaN</td>\n",
              "      <td>0</td>\n",
              "      <td>...</td>\n",
              "      <td>103.0</td>\n",
              "      <td>0</td>\n",
              "      <td>0</td>\n",
              "      <td>0</td>\n",
              "      <td>0</td>\n",
              "      <td>0</td>\n",
              "      <td>0</td>\n",
              "      <td>0</td>\n",
              "      <td>0</td>\n",
              "      <td>0</td>\n",
              "    </tr>\n",
              "    <tr>\n",
              "      <th>4</th>\n",
              "      <td>246060</td>\n",
              "      <td>81</td>\n",
              "      <td>F</td>\n",
              "      <td>Caucasian</td>\n",
              "      <td>77.0</td>\n",
              "      <td>0</td>\n",
              "      <td>160.0</td>\n",
              "      <td>70.2</td>\n",
              "      <td>27.421875</td>\n",
              "      <td>0</td>\n",
              "      <td>...</td>\n",
              "      <td>46.0</td>\n",
              "      <td>0</td>\n",
              "      <td>0</td>\n",
              "      <td>0</td>\n",
              "      <td>0</td>\n",
              "      <td>0</td>\n",
              "      <td>0</td>\n",
              "      <td>0</td>\n",
              "      <td>1</td>\n",
              "      <td>1</td>\n",
              "    </tr>\n",
              "  </tbody>\n",
              "</table>\n",
              "<p>5 rows × 88 columns</p>\n",
              "</div>\n",
              "      <button class=\"colab-df-convert\" onclick=\"convertToInteractive('df-2aee2f8e-b28e-498d-9689-6d6a96e702af')\"\n",
              "              title=\"Convert this dataframe to an interactive table.\"\n",
              "              style=\"display:none;\">\n",
              "        \n",
              "  <svg xmlns=\"http://www.w3.org/2000/svg\" height=\"24px\"viewBox=\"0 0 24 24\"\n",
              "       width=\"24px\">\n",
              "    <path d=\"M0 0h24v24H0V0z\" fill=\"none\"/>\n",
              "    <path d=\"M18.56 5.44l.94 2.06.94-2.06 2.06-.94-2.06-.94-.94-2.06-.94 2.06-2.06.94zm-11 1L8.5 8.5l.94-2.06 2.06-.94-2.06-.94L8.5 2.5l-.94 2.06-2.06.94zm10 10l.94 2.06.94-2.06 2.06-.94-2.06-.94-.94-2.06-.94 2.06-2.06.94z\"/><path d=\"M17.41 7.96l-1.37-1.37c-.4-.4-.92-.59-1.43-.59-.52 0-1.04.2-1.43.59L10.3 9.45l-7.72 7.72c-.78.78-.78 2.05 0 2.83L4 21.41c.39.39.9.59 1.41.59.51 0 1.02-.2 1.41-.59l7.78-7.78 2.81-2.81c.8-.78.8-2.07 0-2.86zM5.41 20L4 18.59l7.72-7.72 1.47 1.35L5.41 20z\"/>\n",
              "  </svg>\n",
              "      </button>\n",
              "      \n",
              "  <style>\n",
              "    .colab-df-container {\n",
              "      display:flex;\n",
              "      flex-wrap:wrap;\n",
              "      gap: 12px;\n",
              "    }\n",
              "\n",
              "    .colab-df-convert {\n",
              "      background-color: #E8F0FE;\n",
              "      border: none;\n",
              "      border-radius: 50%;\n",
              "      cursor: pointer;\n",
              "      display: none;\n",
              "      fill: #1967D2;\n",
              "      height: 32px;\n",
              "      padding: 0 0 0 0;\n",
              "      width: 32px;\n",
              "    }\n",
              "\n",
              "    .colab-df-convert:hover {\n",
              "      background-color: #E2EBFA;\n",
              "      box-shadow: 0px 1px 2px rgba(60, 64, 67, 0.3), 0px 1px 3px 1px rgba(60, 64, 67, 0.15);\n",
              "      fill: #174EA6;\n",
              "    }\n",
              "\n",
              "    [theme=dark] .colab-df-convert {\n",
              "      background-color: #3B4455;\n",
              "      fill: #D2E3FC;\n",
              "    }\n",
              "\n",
              "    [theme=dark] .colab-df-convert:hover {\n",
              "      background-color: #434B5C;\n",
              "      box-shadow: 0px 1px 3px 1px rgba(0, 0, 0, 0.15);\n",
              "      filter: drop-shadow(0px 1px 2px rgba(0, 0, 0, 0.3));\n",
              "      fill: #FFFFFF;\n",
              "    }\n",
              "  </style>\n",
              "\n",
              "      <script>\n",
              "        const buttonEl =\n",
              "          document.querySelector('#df-2aee2f8e-b28e-498d-9689-6d6a96e702af button.colab-df-convert');\n",
              "        buttonEl.style.display =\n",
              "          google.colab.kernel.accessAllowed ? 'block' : 'none';\n",
              "\n",
              "        async function convertToInteractive(key) {\n",
              "          const element = document.querySelector('#df-2aee2f8e-b28e-498d-9689-6d6a96e702af');\n",
              "          const dataTable =\n",
              "            await google.colab.kernel.invokeFunction('convertToInteractive',\n",
              "                                                     [key], {});\n",
              "          if (!dataTable) return;\n",
              "\n",
              "          const docLinkHtml = 'Like what you see? Visit the ' +\n",
              "            '<a target=\"_blank\" href=https://colab.research.google.com/notebooks/data_table.ipynb>data table notebook</a>'\n",
              "            + ' to learn more about interactive tables.';\n",
              "          element.innerHTML = '';\n",
              "          dataTable['output_type'] = 'display_data';\n",
              "          await google.colab.output.renderOutput(dataTable, element);\n",
              "          const docLink = document.createElement('div');\n",
              "          docLink.innerHTML = docLinkHtml;\n",
              "          element.appendChild(docLink);\n",
              "        }\n",
              "      </script>\n",
              "    </div>\n",
              "  </div>\n",
              "  "
            ]
          },
          "metadata": {},
          "execution_count": 4
        }
      ],
      "source": [
        "df = pd.read_csv('/content/drive/MyDrive/Python/Case Studies/DM Coursework 2/DiabetesClassificationDataset2022.csv')\n",
        "df.head(5)"
      ]
    },
    {
      "cell_type": "markdown",
      "metadata": {
        "id": "TVXAX_ZNIgt1"
      },
      "source": [
        "# Data exploration\n",
        "\n",
        "Download the dataset and prepare a summary of the features available on the \n",
        "dataset including data type (numerical/ categorical), amount of missing data in \n",
        "individual fields. This can be included as an appendix.\n"
      ]
    },
    {
      "cell_type": "code",
      "execution_count": 5,
      "metadata": {
        "id": "do6tpEJZIiRr",
        "colab": {
          "base_uri": "https://localhost:8080/"
        },
        "outputId": "81dc037f-b84b-4286-c32c-84c1c4ab88d2"
      },
      "outputs": [
        {
          "output_type": "stream",
          "name": "stdout",
          "text": [
            "<class 'pandas.core.frame.DataFrame'>\n",
            "RangeIndex: 79159 entries, 0 to 79158\n",
            "Data columns (total 88 columns):\n",
            " #   Column                       Non-Null Count  Dtype  \n",
            "---  ------                       --------------  -----  \n",
            " 0   encounter_id                 79159 non-null  int64  \n",
            " 1   hospital_id                  79159 non-null  int64  \n",
            " 2   gender                       79129 non-null  object \n",
            " 3   ethnicity                    78198 non-null  object \n",
            " 4   age                          76317 non-null  float64\n",
            " 5   elective_surgery             79159 non-null  int64  \n",
            " 6   height                       77978 non-null  float64\n",
            " 7   weight                       77086 non-null  float64\n",
            " 8   bmi                          76468 non-null  float64\n",
            " 9   readmission_status           79159 non-null  int64  \n",
            " 10  icu_type                     79159 non-null  object \n",
            " 11  h1_temp_max                  61223 non-null  float64\n",
            " 12  h1_temp_min                  61223 non-null  float64\n",
            " 13  d1_albumin_max               36066 non-null  float64\n",
            " 14  d1_albumin_min               36066 non-null  float64\n",
            " 15  d1_bilirubin_max             32682 non-null  float64\n",
            " 16  d1_bilirubin_min             32682 non-null  float64\n",
            " 17  d1_bun_max                   71249 non-null  float64\n",
            " 18  d1_bun_min                   71249 non-null  float64\n",
            " 19  d1_glucose_min               74800 non-null  float64\n",
            " 20  d1_hco3_max                  67258 non-null  float64\n",
            " 21  d1_hco3_min                  67258 non-null  float64\n",
            " 22  d1_inr_max                   29693 non-null  float64\n",
            " 23  d1_inr_min                   29693 non-null  float64\n",
            " 24  d1_lactate_max               21350 non-null  float64\n",
            " 25  d1_lactate_min               21350 non-null  float64\n",
            " 26  d1_platelets_max             67993 non-null  float64\n",
            " 27  d1_platelets_min             67993 non-null  float64\n",
            " 28  d1_potassium_max             71972 non-null  float64\n",
            " 29  d1_potassium_min             71972 non-null  float64\n",
            " 30  d1_sodium_max                71544 non-null  float64\n",
            " 31  d1_sodium_min                71544 non-null  float64\n",
            " 32  d1_wbc_max                   68680 non-null  float64\n",
            " 33  d1_wbc_min                   68680 non-null  float64\n",
            " 34  h1_albumin_max               6888 non-null   float64\n",
            " 35  h1_albumin_min               6888 non-null   float64\n",
            " 36  h1_bilirubin_max             6310 non-null   float64\n",
            " 37  h1_bilirubin_min             6310 non-null   float64\n",
            " 38  h1_bun_max                   15753 non-null  float64\n",
            " 39  h1_bun_min                   15753 non-null  float64\n",
            " 40  h1_calcium_max               15196 non-null  float64\n",
            " 41  h1_calcium_min               15196 non-null  float64\n",
            " 42  h1_creatinine_max            15884 non-null  float64\n",
            " 43  h1_creatinine_min            15884 non-null  float64\n",
            " 44  h1_glucose_max               35387 non-null  float64\n",
            " 45  h1_glucose_min               35387 non-null  float64\n",
            " 46  h1_hco3_max                  14808 non-null  float64\n",
            " 47  h1_hco3_min                  14808 non-null  float64\n",
            " 48  h1_hematocrit_max            16616 non-null  float64\n",
            " 49  h1_hematocrit_min            16616 non-null  float64\n",
            " 50  h1_inr_max                   29693 non-null  float64\n",
            " 51  h1_inr_min                   29693 non-null  float64\n",
            " 52  h1_lactate_max               7174 non-null   float64\n",
            " 53  h1_lactate_min               7174 non-null   float64\n",
            " 54  h1_sodium_max                17763 non-null  float64\n",
            " 55  h1_sodium_min                17763 non-null  float64\n",
            " 56  d1_arterial_po2_max          28333 non-null  float64\n",
            " 57  d1_arterial_po2_min          28333 non-null  float64\n",
            " 58  d1_pao2fio2ratio_max         22583 non-null  float64\n",
            " 59  d1_pao2fio2ratio_min         22583 non-null  float64\n",
            " 60  h1_arterial_pco2_max         13872 non-null  float64\n",
            " 61  h1_arterial_pco2_min         13872 non-null  float64\n",
            " 62  h1_arterial_ph_max           13770 non-null  float64\n",
            " 63  h1_arterial_ph_min           13770 non-null  float64\n",
            " 64  h1_arterial_po2_max          14017 non-null  float64\n",
            " 65  h1_arterial_po2_min          14017 non-null  float64\n",
            " 66  h1_pao2fio2ratio_max         10343 non-null  float64\n",
            " 67  h1_pao2fio2ratio_min         10343 non-null  float64\n",
            " 68  wbc_apache                   61408 non-null  float64\n",
            " 69  intubated_apache             79159 non-null  int64  \n",
            " 70  d1_heartrate_max             79014 non-null  float64\n",
            " 71  heart_rate_apache            79003 non-null  float64\n",
            " 72  gcs_motor_apache             77935 non-null  float64\n",
            " 73  gcs_eyes_apache              77935 non-null  float64\n",
            " 74  creatinine_apache            64575 non-null  float64\n",
            " 75  bilirubin_apache             29109 non-null  float64\n",
            " 76  h1_spo2_max                  75355 non-null  float64\n",
            " 77  paco2_apache                 18540 non-null  float64\n",
            " 78  map_apache                   78931 non-null  float64\n",
            " 79  aids                         79159 non-null  int64  \n",
            " 80  cirrhosis                    79159 non-null  int64  \n",
            " 81  hepatic_failure              79159 non-null  int64  \n",
            " 82  immunosuppression            79159 non-null  int64  \n",
            " 83  leukemia                     79159 non-null  int64  \n",
            " 84  lymphoma                     79159 non-null  int64  \n",
            " 85  solid_tumor_with_metastasis  79159 non-null  int64  \n",
            " 86  ventilated_apache            79159 non-null  int64  \n",
            " 87  diabetes_mellitus            79159 non-null  int64  \n",
            "dtypes: float64(71), int64(14), object(3)\n",
            "memory usage: 53.1+ MB\n"
          ]
        },
        {
          "output_type": "execute_result",
          "data": {
            "text/plain": [
              "(79159, 88)"
            ]
          },
          "metadata": {},
          "execution_count": 5
        }
      ],
      "source": [
        "df.info()\n",
        "df.shape"
      ]
    },
    {
      "cell_type": "markdown",
      "metadata": {
        "id": "3dSNGhgprNL1"
      },
      "source": [
        "# Missing values"
      ]
    },
    {
      "cell_type": "code",
      "execution_count": 6,
      "metadata": {
        "id": "ukr8PqQGKlU7",
        "colab": {
          "base_uri": "https://localhost:8080/",
          "height": 1000
        },
        "outputId": "cf5c1a4a-b9b5-4c36-bfea-ded8de21f41e"
      },
      "outputs": [
        {
          "output_type": "execute_result",
          "data": {
            "text/plain": [
              "                      Total  Missing %\n",
              "h1_bilirubin_min      72849   0.920287\n",
              "h1_bilirubin_max      72849   0.920287\n",
              "h1_albumin_min        72271   0.912985\n",
              "h1_albumin_max        72271   0.912985\n",
              "h1_lactate_min        71985   0.909372\n",
              "h1_lactate_max        71985   0.909372\n",
              "h1_pao2fio2ratio_max  68816   0.869339\n",
              "h1_pao2fio2ratio_min  68816   0.869339\n",
              "h1_arterial_ph_max    65389   0.826046\n",
              "h1_arterial_ph_min    65389   0.826046\n",
              "h1_arterial_pco2_min  65287   0.824758\n",
              "h1_arterial_pco2_max  65287   0.824758\n",
              "h1_arterial_po2_min   65142   0.822926\n",
              "h1_arterial_po2_max   65142   0.822926\n",
              "h1_hco3_max           64351   0.812933\n",
              "h1_hco3_min           64351   0.812933\n",
              "h1_calcium_min        63963   0.808032\n",
              "h1_calcium_max        63963   0.808032\n",
              "h1_bun_min            63406   0.800995\n",
              "h1_bun_max            63406   0.800995\n",
              "h1_creatinine_max     63275   0.799341\n",
              "h1_creatinine_min     63275   0.799341\n",
              "h1_hematocrit_min     62543   0.790093\n",
              "h1_hematocrit_max     62543   0.790093\n",
              "h1_sodium_min         61396   0.775604\n",
              "h1_sodium_max         61396   0.775604\n",
              "paco2_apache          60619   0.765788\n",
              "d1_lactate_min        57809   0.730290\n",
              "d1_lactate_max        57809   0.730290\n",
              "d1_pao2fio2ratio_max  56576   0.714713\n",
              "d1_pao2fio2ratio_min  56576   0.714713\n",
              "d1_arterial_po2_min   50826   0.642075\n",
              "d1_arterial_po2_max   50826   0.642075\n",
              "bilirubin_apache      50050   0.632272\n",
              "d1_inr_min            49466   0.624894"
            ],
            "text/html": [
              "\n",
              "  <div id=\"df-b394f6cc-a83d-473a-beb6-e6064e129726\">\n",
              "    <div class=\"colab-df-container\">\n",
              "      <div>\n",
              "<style scoped>\n",
              "    .dataframe tbody tr th:only-of-type {\n",
              "        vertical-align: middle;\n",
              "    }\n",
              "\n",
              "    .dataframe tbody tr th {\n",
              "        vertical-align: top;\n",
              "    }\n",
              "\n",
              "    .dataframe thead th {\n",
              "        text-align: right;\n",
              "    }\n",
              "</style>\n",
              "<table border=\"1\" class=\"dataframe\">\n",
              "  <thead>\n",
              "    <tr style=\"text-align: right;\">\n",
              "      <th></th>\n",
              "      <th>Total</th>\n",
              "      <th>Missing %</th>\n",
              "    </tr>\n",
              "  </thead>\n",
              "  <tbody>\n",
              "    <tr>\n",
              "      <th>h1_bilirubin_min</th>\n",
              "      <td>72849</td>\n",
              "      <td>0.920287</td>\n",
              "    </tr>\n",
              "    <tr>\n",
              "      <th>h1_bilirubin_max</th>\n",
              "      <td>72849</td>\n",
              "      <td>0.920287</td>\n",
              "    </tr>\n",
              "    <tr>\n",
              "      <th>h1_albumin_min</th>\n",
              "      <td>72271</td>\n",
              "      <td>0.912985</td>\n",
              "    </tr>\n",
              "    <tr>\n",
              "      <th>h1_albumin_max</th>\n",
              "      <td>72271</td>\n",
              "      <td>0.912985</td>\n",
              "    </tr>\n",
              "    <tr>\n",
              "      <th>h1_lactate_min</th>\n",
              "      <td>71985</td>\n",
              "      <td>0.909372</td>\n",
              "    </tr>\n",
              "    <tr>\n",
              "      <th>h1_lactate_max</th>\n",
              "      <td>71985</td>\n",
              "      <td>0.909372</td>\n",
              "    </tr>\n",
              "    <tr>\n",
              "      <th>h1_pao2fio2ratio_max</th>\n",
              "      <td>68816</td>\n",
              "      <td>0.869339</td>\n",
              "    </tr>\n",
              "    <tr>\n",
              "      <th>h1_pao2fio2ratio_min</th>\n",
              "      <td>68816</td>\n",
              "      <td>0.869339</td>\n",
              "    </tr>\n",
              "    <tr>\n",
              "      <th>h1_arterial_ph_max</th>\n",
              "      <td>65389</td>\n",
              "      <td>0.826046</td>\n",
              "    </tr>\n",
              "    <tr>\n",
              "      <th>h1_arterial_ph_min</th>\n",
              "      <td>65389</td>\n",
              "      <td>0.826046</td>\n",
              "    </tr>\n",
              "    <tr>\n",
              "      <th>h1_arterial_pco2_min</th>\n",
              "      <td>65287</td>\n",
              "      <td>0.824758</td>\n",
              "    </tr>\n",
              "    <tr>\n",
              "      <th>h1_arterial_pco2_max</th>\n",
              "      <td>65287</td>\n",
              "      <td>0.824758</td>\n",
              "    </tr>\n",
              "    <tr>\n",
              "      <th>h1_arterial_po2_min</th>\n",
              "      <td>65142</td>\n",
              "      <td>0.822926</td>\n",
              "    </tr>\n",
              "    <tr>\n",
              "      <th>h1_arterial_po2_max</th>\n",
              "      <td>65142</td>\n",
              "      <td>0.822926</td>\n",
              "    </tr>\n",
              "    <tr>\n",
              "      <th>h1_hco3_max</th>\n",
              "      <td>64351</td>\n",
              "      <td>0.812933</td>\n",
              "    </tr>\n",
              "    <tr>\n",
              "      <th>h1_hco3_min</th>\n",
              "      <td>64351</td>\n",
              "      <td>0.812933</td>\n",
              "    </tr>\n",
              "    <tr>\n",
              "      <th>h1_calcium_min</th>\n",
              "      <td>63963</td>\n",
              "      <td>0.808032</td>\n",
              "    </tr>\n",
              "    <tr>\n",
              "      <th>h1_calcium_max</th>\n",
              "      <td>63963</td>\n",
              "      <td>0.808032</td>\n",
              "    </tr>\n",
              "    <tr>\n",
              "      <th>h1_bun_min</th>\n",
              "      <td>63406</td>\n",
              "      <td>0.800995</td>\n",
              "    </tr>\n",
              "    <tr>\n",
              "      <th>h1_bun_max</th>\n",
              "      <td>63406</td>\n",
              "      <td>0.800995</td>\n",
              "    </tr>\n",
              "    <tr>\n",
              "      <th>h1_creatinine_max</th>\n",
              "      <td>63275</td>\n",
              "      <td>0.799341</td>\n",
              "    </tr>\n",
              "    <tr>\n",
              "      <th>h1_creatinine_min</th>\n",
              "      <td>63275</td>\n",
              "      <td>0.799341</td>\n",
              "    </tr>\n",
              "    <tr>\n",
              "      <th>h1_hematocrit_min</th>\n",
              "      <td>62543</td>\n",
              "      <td>0.790093</td>\n",
              "    </tr>\n",
              "    <tr>\n",
              "      <th>h1_hematocrit_max</th>\n",
              "      <td>62543</td>\n",
              "      <td>0.790093</td>\n",
              "    </tr>\n",
              "    <tr>\n",
              "      <th>h1_sodium_min</th>\n",
              "      <td>61396</td>\n",
              "      <td>0.775604</td>\n",
              "    </tr>\n",
              "    <tr>\n",
              "      <th>h1_sodium_max</th>\n",
              "      <td>61396</td>\n",
              "      <td>0.775604</td>\n",
              "    </tr>\n",
              "    <tr>\n",
              "      <th>paco2_apache</th>\n",
              "      <td>60619</td>\n",
              "      <td>0.765788</td>\n",
              "    </tr>\n",
              "    <tr>\n",
              "      <th>d1_lactate_min</th>\n",
              "      <td>57809</td>\n",
              "      <td>0.730290</td>\n",
              "    </tr>\n",
              "    <tr>\n",
              "      <th>d1_lactate_max</th>\n",
              "      <td>57809</td>\n",
              "      <td>0.730290</td>\n",
              "    </tr>\n",
              "    <tr>\n",
              "      <th>d1_pao2fio2ratio_max</th>\n",
              "      <td>56576</td>\n",
              "      <td>0.714713</td>\n",
              "    </tr>\n",
              "    <tr>\n",
              "      <th>d1_pao2fio2ratio_min</th>\n",
              "      <td>56576</td>\n",
              "      <td>0.714713</td>\n",
              "    </tr>\n",
              "    <tr>\n",
              "      <th>d1_arterial_po2_min</th>\n",
              "      <td>50826</td>\n",
              "      <td>0.642075</td>\n",
              "    </tr>\n",
              "    <tr>\n",
              "      <th>d1_arterial_po2_max</th>\n",
              "      <td>50826</td>\n",
              "      <td>0.642075</td>\n",
              "    </tr>\n",
              "    <tr>\n",
              "      <th>bilirubin_apache</th>\n",
              "      <td>50050</td>\n",
              "      <td>0.632272</td>\n",
              "    </tr>\n",
              "    <tr>\n",
              "      <th>d1_inr_min</th>\n",
              "      <td>49466</td>\n",
              "      <td>0.624894</td>\n",
              "    </tr>\n",
              "  </tbody>\n",
              "</table>\n",
              "</div>\n",
              "      <button class=\"colab-df-convert\" onclick=\"convertToInteractive('df-b394f6cc-a83d-473a-beb6-e6064e129726')\"\n",
              "              title=\"Convert this dataframe to an interactive table.\"\n",
              "              style=\"display:none;\">\n",
              "        \n",
              "  <svg xmlns=\"http://www.w3.org/2000/svg\" height=\"24px\"viewBox=\"0 0 24 24\"\n",
              "       width=\"24px\">\n",
              "    <path d=\"M0 0h24v24H0V0z\" fill=\"none\"/>\n",
              "    <path d=\"M18.56 5.44l.94 2.06.94-2.06 2.06-.94-2.06-.94-.94-2.06-.94 2.06-2.06.94zm-11 1L8.5 8.5l.94-2.06 2.06-.94-2.06-.94L8.5 2.5l-.94 2.06-2.06.94zm10 10l.94 2.06.94-2.06 2.06-.94-2.06-.94-.94-2.06-.94 2.06-2.06.94z\"/><path d=\"M17.41 7.96l-1.37-1.37c-.4-.4-.92-.59-1.43-.59-.52 0-1.04.2-1.43.59L10.3 9.45l-7.72 7.72c-.78.78-.78 2.05 0 2.83L4 21.41c.39.39.9.59 1.41.59.51 0 1.02-.2 1.41-.59l7.78-7.78 2.81-2.81c.8-.78.8-2.07 0-2.86zM5.41 20L4 18.59l7.72-7.72 1.47 1.35L5.41 20z\"/>\n",
              "  </svg>\n",
              "      </button>\n",
              "      \n",
              "  <style>\n",
              "    .colab-df-container {\n",
              "      display:flex;\n",
              "      flex-wrap:wrap;\n",
              "      gap: 12px;\n",
              "    }\n",
              "\n",
              "    .colab-df-convert {\n",
              "      background-color: #E8F0FE;\n",
              "      border: none;\n",
              "      border-radius: 50%;\n",
              "      cursor: pointer;\n",
              "      display: none;\n",
              "      fill: #1967D2;\n",
              "      height: 32px;\n",
              "      padding: 0 0 0 0;\n",
              "      width: 32px;\n",
              "    }\n",
              "\n",
              "    .colab-df-convert:hover {\n",
              "      background-color: #E2EBFA;\n",
              "      box-shadow: 0px 1px 2px rgba(60, 64, 67, 0.3), 0px 1px 3px 1px rgba(60, 64, 67, 0.15);\n",
              "      fill: #174EA6;\n",
              "    }\n",
              "\n",
              "    [theme=dark] .colab-df-convert {\n",
              "      background-color: #3B4455;\n",
              "      fill: #D2E3FC;\n",
              "    }\n",
              "\n",
              "    [theme=dark] .colab-df-convert:hover {\n",
              "      background-color: #434B5C;\n",
              "      box-shadow: 0px 1px 3px 1px rgba(0, 0, 0, 0.15);\n",
              "      filter: drop-shadow(0px 1px 2px rgba(0, 0, 0, 0.3));\n",
              "      fill: #FFFFFF;\n",
              "    }\n",
              "  </style>\n",
              "\n",
              "      <script>\n",
              "        const buttonEl =\n",
              "          document.querySelector('#df-b394f6cc-a83d-473a-beb6-e6064e129726 button.colab-df-convert');\n",
              "        buttonEl.style.display =\n",
              "          google.colab.kernel.accessAllowed ? 'block' : 'none';\n",
              "\n",
              "        async function convertToInteractive(key) {\n",
              "          const element = document.querySelector('#df-b394f6cc-a83d-473a-beb6-e6064e129726');\n",
              "          const dataTable =\n",
              "            await google.colab.kernel.invokeFunction('convertToInteractive',\n",
              "                                                     [key], {});\n",
              "          if (!dataTable) return;\n",
              "\n",
              "          const docLinkHtml = 'Like what you see? Visit the ' +\n",
              "            '<a target=\"_blank\" href=https://colab.research.google.com/notebooks/data_table.ipynb>data table notebook</a>'\n",
              "            + ' to learn more about interactive tables.';\n",
              "          element.innerHTML = '';\n",
              "          dataTable['output_type'] = 'display_data';\n",
              "          await google.colab.output.renderOutput(dataTable, element);\n",
              "          const docLink = document.createElement('div');\n",
              "          docLink.innerHTML = docLinkHtml;\n",
              "          element.appendChild(docLink);\n",
              "        }\n",
              "      </script>\n",
              "    </div>\n",
              "  </div>\n",
              "  "
            ]
          },
          "metadata": {},
          "execution_count": 6
        }
      ],
      "source": [
        "#check how many missing values in each column\n",
        "\n",
        "total = df.isnull().sum().sort_values(ascending=False)\n",
        "percent = (df.isnull().sum()/df.isnull().count()).sort_values(ascending=False)\n",
        "missing_data = pd.concat([total, percent], axis=1, keys=['Total', 'Missing %'])\n",
        "missing_data.head(35)\n"
      ]
    },
    {
      "cell_type": "code",
      "execution_count": 7,
      "metadata": {
        "id": "spu5HdCNwsDA",
        "colab": {
          "base_uri": "https://localhost:8080/"
        },
        "outputId": "f6ab323a-e223-4242-dd7d-4c6938614a56"
      },
      "outputs": [
        {
          "output_type": "stream",
          "name": "stderr",
          "text": [
            "/usr/local/lib/python3.7/dist-packages/ipykernel_launcher.py:2: FutureWarning: In a future version of pandas all arguments of DataFrame.drop except for the argument 'labels' will be keyword-only\n",
            "  \n"
          ]
        },
        {
          "output_type": "execute_result",
          "data": {
            "text/plain": [
              "46477"
            ]
          },
          "metadata": {},
          "execution_count": 7
        }
      ],
      "source": [
        "#dealing with missing data\n",
        "df = df.drop((missing_data[missing_data['Missing %'] > 0.6]).index,1)\n",
        "df.isnull().sum().max() #just checking that there's no missing data missing..."
      ]
    },
    {
      "cell_type": "markdown",
      "metadata": {
        "id": "Cvpgai-kzgJJ"
      },
      "source": [
        "## Random fill-in"
      ]
    },
    {
      "cell_type": "code",
      "execution_count": 8,
      "metadata": {
        "id": "ZYcSSWtJ1pKL"
      },
      "outputs": [],
      "source": [
        "from random import choice\n",
        "\n",
        "mask = df[\"gender\"].isna()\n",
        "df.loc[mask,[\"gender\"]] = df.loc[mask,[\"gender\"]].applymap(lambda _: choice([\"M\",\"F\"]))"
      ]
    },
    {
      "cell_type": "code",
      "execution_count": 9,
      "metadata": {
        "id": "2d3gyvcyzVJX"
      },
      "outputs": [],
      "source": [
        "mask = df[\"ethnicity\"].isna()\n",
        "df.loc[mask,[\"ethnicity\"]] = df.loc[mask,[\"ethnicity\"]].applymap(lambda _: choice([\"Caucasian\",\"African American\",\n",
        "                                                                             'Other/Unknown', 'Hispanic', 'Asian', 'Native American']))"
      ]
    },
    {
      "cell_type": "markdown",
      "metadata": {
        "id": "dZDh4DNz0Nse"
      },
      "source": [
        "## Imputation "
      ]
    },
    {
      "cell_type": "code",
      "execution_count": 10,
      "metadata": {
        "id": "KnDB0L1lz9KJ",
        "colab": {
          "base_uri": "https://localhost:8080/",
          "height": 394
        },
        "outputId": "9a30ebe9-5bcd-4427-a362-8db81876f391"
      },
      "outputs": [
        {
          "output_type": "execute_result",
          "data": {
            "text/plain": [
              "        encounter_id   hospital_id           age  elective_surgery  \\\n",
              "count   79159.000000  79159.000000  79159.000000      79159.000000   \n",
              "mean   212863.726740    106.188620     62.454036          0.189404   \n",
              "std     38113.816591     63.776527     16.451232          0.391831   \n",
              "min    147001.000000      1.000000      0.000000          0.000000   \n",
              "25%    179772.000000     49.000000     53.000000          0.000000   \n",
              "50%    212864.000000    112.000000     65.000000          0.000000   \n",
              "75%    245812.000000    165.000000     75.000000          0.000000   \n",
              "max    278997.000000    204.000000     89.000000          1.000000   \n",
              "\n",
              "             height        weight           bmi  readmission_status  \\\n",
              "count  79159.000000  79159.000000  79159.000000             79159.0   \n",
              "mean     169.565825     85.141136     29.602947                 0.0   \n",
              "std       10.831737     25.462159      8.485454                 0.0   \n",
              "min      137.200000     38.600000     14.844926                 0.0   \n",
              "25%      162.500000     67.800000     23.876404                 0.0   \n",
              "50%      170.000000     81.600000     28.039729                 0.0   \n",
              "75%      177.800000     98.430000     33.421693                 0.0   \n",
              "max      195.590000    186.000000     67.814990                 0.0   \n",
              "\n",
              "        h1_temp_max   h1_temp_min  ...    map_apache          aids  \\\n",
              "count  79159.000000  79159.000000  ...  79159.000000  79159.000000   \n",
              "mean      36.721336     36.612534  ...     87.269899      0.000834   \n",
              "std        0.769038      0.793106  ...     42.058765      0.028863   \n",
              "min       33.400000     32.900000  ...     40.000000      0.000000   \n",
              "25%       36.400000     36.300000  ...     53.000000      0.000000   \n",
              "50%       36.700000     36.700000  ...     66.000000      0.000000   \n",
              "75%       37.100000     37.000000  ...    124.000000      0.000000   \n",
              "max       39.500000     39.300000  ...    200.000000      1.000000   \n",
              "\n",
              "          cirrhosis  hepatic_failure  immunosuppression      leukemia  \\\n",
              "count  79159.000000     79159.000000       79159.000000  79159.000000   \n",
              "mean       0.016713         0.013744           0.025379      0.007327   \n",
              "std        0.128195         0.116429           0.157275      0.085284   \n",
              "min        0.000000         0.000000           0.000000      0.000000   \n",
              "25%        0.000000         0.000000           0.000000      0.000000   \n",
              "50%        0.000000         0.000000           0.000000      0.000000   \n",
              "75%        0.000000         0.000000           0.000000      0.000000   \n",
              "max        1.000000         1.000000           1.000000      1.000000   \n",
              "\n",
              "           lymphoma  solid_tumor_with_metastasis  ventilated_apache  \\\n",
              "count  79159.000000                 79159.000000       79159.000000   \n",
              "mean       0.004080                     0.020781           0.332243   \n",
              "std        0.063748                     0.142651           0.471020   \n",
              "min        0.000000                     0.000000           0.000000   \n",
              "25%        0.000000                     0.000000           0.000000   \n",
              "50%        0.000000                     0.000000           0.000000   \n",
              "75%        0.000000                     0.000000           1.000000   \n",
              "max        1.000000                     1.000000           1.000000   \n",
              "\n",
              "       diabetes_mellitus  \n",
              "count       79159.000000  \n",
              "mean            0.355639  \n",
              "std             0.478709  \n",
              "min             0.000000  \n",
              "25%             0.000000  \n",
              "50%             0.000000  \n",
              "75%             1.000000  \n",
              "max             1.000000  \n",
              "\n",
              "[8 rows x 47 columns]"
            ],
            "text/html": [
              "\n",
              "  <div id=\"df-6989e78c-68f5-402d-8d12-c7dae3fbd057\">\n",
              "    <div class=\"colab-df-container\">\n",
              "      <div>\n",
              "<style scoped>\n",
              "    .dataframe tbody tr th:only-of-type {\n",
              "        vertical-align: middle;\n",
              "    }\n",
              "\n",
              "    .dataframe tbody tr th {\n",
              "        vertical-align: top;\n",
              "    }\n",
              "\n",
              "    .dataframe thead th {\n",
              "        text-align: right;\n",
              "    }\n",
              "</style>\n",
              "<table border=\"1\" class=\"dataframe\">\n",
              "  <thead>\n",
              "    <tr style=\"text-align: right;\">\n",
              "      <th></th>\n",
              "      <th>encounter_id</th>\n",
              "      <th>hospital_id</th>\n",
              "      <th>age</th>\n",
              "      <th>elective_surgery</th>\n",
              "      <th>height</th>\n",
              "      <th>weight</th>\n",
              "      <th>bmi</th>\n",
              "      <th>readmission_status</th>\n",
              "      <th>h1_temp_max</th>\n",
              "      <th>h1_temp_min</th>\n",
              "      <th>...</th>\n",
              "      <th>map_apache</th>\n",
              "      <th>aids</th>\n",
              "      <th>cirrhosis</th>\n",
              "      <th>hepatic_failure</th>\n",
              "      <th>immunosuppression</th>\n",
              "      <th>leukemia</th>\n",
              "      <th>lymphoma</th>\n",
              "      <th>solid_tumor_with_metastasis</th>\n",
              "      <th>ventilated_apache</th>\n",
              "      <th>diabetes_mellitus</th>\n",
              "    </tr>\n",
              "  </thead>\n",
              "  <tbody>\n",
              "    <tr>\n",
              "      <th>count</th>\n",
              "      <td>79159.000000</td>\n",
              "      <td>79159.000000</td>\n",
              "      <td>79159.000000</td>\n",
              "      <td>79159.000000</td>\n",
              "      <td>79159.000000</td>\n",
              "      <td>79159.000000</td>\n",
              "      <td>79159.000000</td>\n",
              "      <td>79159.0</td>\n",
              "      <td>79159.000000</td>\n",
              "      <td>79159.000000</td>\n",
              "      <td>...</td>\n",
              "      <td>79159.000000</td>\n",
              "      <td>79159.000000</td>\n",
              "      <td>79159.000000</td>\n",
              "      <td>79159.000000</td>\n",
              "      <td>79159.000000</td>\n",
              "      <td>79159.000000</td>\n",
              "      <td>79159.000000</td>\n",
              "      <td>79159.000000</td>\n",
              "      <td>79159.000000</td>\n",
              "      <td>79159.000000</td>\n",
              "    </tr>\n",
              "    <tr>\n",
              "      <th>mean</th>\n",
              "      <td>212863.726740</td>\n",
              "      <td>106.188620</td>\n",
              "      <td>62.454036</td>\n",
              "      <td>0.189404</td>\n",
              "      <td>169.565825</td>\n",
              "      <td>85.141136</td>\n",
              "      <td>29.602947</td>\n",
              "      <td>0.0</td>\n",
              "      <td>36.721336</td>\n",
              "      <td>36.612534</td>\n",
              "      <td>...</td>\n",
              "      <td>87.269899</td>\n",
              "      <td>0.000834</td>\n",
              "      <td>0.016713</td>\n",
              "      <td>0.013744</td>\n",
              "      <td>0.025379</td>\n",
              "      <td>0.007327</td>\n",
              "      <td>0.004080</td>\n",
              "      <td>0.020781</td>\n",
              "      <td>0.332243</td>\n",
              "      <td>0.355639</td>\n",
              "    </tr>\n",
              "    <tr>\n",
              "      <th>std</th>\n",
              "      <td>38113.816591</td>\n",
              "      <td>63.776527</td>\n",
              "      <td>16.451232</td>\n",
              "      <td>0.391831</td>\n",
              "      <td>10.831737</td>\n",
              "      <td>25.462159</td>\n",
              "      <td>8.485454</td>\n",
              "      <td>0.0</td>\n",
              "      <td>0.769038</td>\n",
              "      <td>0.793106</td>\n",
              "      <td>...</td>\n",
              "      <td>42.058765</td>\n",
              "      <td>0.028863</td>\n",
              "      <td>0.128195</td>\n",
              "      <td>0.116429</td>\n",
              "      <td>0.157275</td>\n",
              "      <td>0.085284</td>\n",
              "      <td>0.063748</td>\n",
              "      <td>0.142651</td>\n",
              "      <td>0.471020</td>\n",
              "      <td>0.478709</td>\n",
              "    </tr>\n",
              "    <tr>\n",
              "      <th>min</th>\n",
              "      <td>147001.000000</td>\n",
              "      <td>1.000000</td>\n",
              "      <td>0.000000</td>\n",
              "      <td>0.000000</td>\n",
              "      <td>137.200000</td>\n",
              "      <td>38.600000</td>\n",
              "      <td>14.844926</td>\n",
              "      <td>0.0</td>\n",
              "      <td>33.400000</td>\n",
              "      <td>32.900000</td>\n",
              "      <td>...</td>\n",
              "      <td>40.000000</td>\n",
              "      <td>0.000000</td>\n",
              "      <td>0.000000</td>\n",
              "      <td>0.000000</td>\n",
              "      <td>0.000000</td>\n",
              "      <td>0.000000</td>\n",
              "      <td>0.000000</td>\n",
              "      <td>0.000000</td>\n",
              "      <td>0.000000</td>\n",
              "      <td>0.000000</td>\n",
              "    </tr>\n",
              "    <tr>\n",
              "      <th>25%</th>\n",
              "      <td>179772.000000</td>\n",
              "      <td>49.000000</td>\n",
              "      <td>53.000000</td>\n",
              "      <td>0.000000</td>\n",
              "      <td>162.500000</td>\n",
              "      <td>67.800000</td>\n",
              "      <td>23.876404</td>\n",
              "      <td>0.0</td>\n",
              "      <td>36.400000</td>\n",
              "      <td>36.300000</td>\n",
              "      <td>...</td>\n",
              "      <td>53.000000</td>\n",
              "      <td>0.000000</td>\n",
              "      <td>0.000000</td>\n",
              "      <td>0.000000</td>\n",
              "      <td>0.000000</td>\n",
              "      <td>0.000000</td>\n",
              "      <td>0.000000</td>\n",
              "      <td>0.000000</td>\n",
              "      <td>0.000000</td>\n",
              "      <td>0.000000</td>\n",
              "    </tr>\n",
              "    <tr>\n",
              "      <th>50%</th>\n",
              "      <td>212864.000000</td>\n",
              "      <td>112.000000</td>\n",
              "      <td>65.000000</td>\n",
              "      <td>0.000000</td>\n",
              "      <td>170.000000</td>\n",
              "      <td>81.600000</td>\n",
              "      <td>28.039729</td>\n",
              "      <td>0.0</td>\n",
              "      <td>36.700000</td>\n",
              "      <td>36.700000</td>\n",
              "      <td>...</td>\n",
              "      <td>66.000000</td>\n",
              "      <td>0.000000</td>\n",
              "      <td>0.000000</td>\n",
              "      <td>0.000000</td>\n",
              "      <td>0.000000</td>\n",
              "      <td>0.000000</td>\n",
              "      <td>0.000000</td>\n",
              "      <td>0.000000</td>\n",
              "      <td>0.000000</td>\n",
              "      <td>0.000000</td>\n",
              "    </tr>\n",
              "    <tr>\n",
              "      <th>75%</th>\n",
              "      <td>245812.000000</td>\n",
              "      <td>165.000000</td>\n",
              "      <td>75.000000</td>\n",
              "      <td>0.000000</td>\n",
              "      <td>177.800000</td>\n",
              "      <td>98.430000</td>\n",
              "      <td>33.421693</td>\n",
              "      <td>0.0</td>\n",
              "      <td>37.100000</td>\n",
              "      <td>37.000000</td>\n",
              "      <td>...</td>\n",
              "      <td>124.000000</td>\n",
              "      <td>0.000000</td>\n",
              "      <td>0.000000</td>\n",
              "      <td>0.000000</td>\n",
              "      <td>0.000000</td>\n",
              "      <td>0.000000</td>\n",
              "      <td>0.000000</td>\n",
              "      <td>0.000000</td>\n",
              "      <td>1.000000</td>\n",
              "      <td>1.000000</td>\n",
              "    </tr>\n",
              "    <tr>\n",
              "      <th>max</th>\n",
              "      <td>278997.000000</td>\n",
              "      <td>204.000000</td>\n",
              "      <td>89.000000</td>\n",
              "      <td>1.000000</td>\n",
              "      <td>195.590000</td>\n",
              "      <td>186.000000</td>\n",
              "      <td>67.814990</td>\n",
              "      <td>0.0</td>\n",
              "      <td>39.500000</td>\n",
              "      <td>39.300000</td>\n",
              "      <td>...</td>\n",
              "      <td>200.000000</td>\n",
              "      <td>1.000000</td>\n",
              "      <td>1.000000</td>\n",
              "      <td>1.000000</td>\n",
              "      <td>1.000000</td>\n",
              "      <td>1.000000</td>\n",
              "      <td>1.000000</td>\n",
              "      <td>1.000000</td>\n",
              "      <td>1.000000</td>\n",
              "      <td>1.000000</td>\n",
              "    </tr>\n",
              "  </tbody>\n",
              "</table>\n",
              "<p>8 rows × 47 columns</p>\n",
              "</div>\n",
              "      <button class=\"colab-df-convert\" onclick=\"convertToInteractive('df-6989e78c-68f5-402d-8d12-c7dae3fbd057')\"\n",
              "              title=\"Convert this dataframe to an interactive table.\"\n",
              "              style=\"display:none;\">\n",
              "        \n",
              "  <svg xmlns=\"http://www.w3.org/2000/svg\" height=\"24px\"viewBox=\"0 0 24 24\"\n",
              "       width=\"24px\">\n",
              "    <path d=\"M0 0h24v24H0V0z\" fill=\"none\"/>\n",
              "    <path d=\"M18.56 5.44l.94 2.06.94-2.06 2.06-.94-2.06-.94-.94-2.06-.94 2.06-2.06.94zm-11 1L8.5 8.5l.94-2.06 2.06-.94-2.06-.94L8.5 2.5l-.94 2.06-2.06.94zm10 10l.94 2.06.94-2.06 2.06-.94-2.06-.94-.94-2.06-.94 2.06-2.06.94z\"/><path d=\"M17.41 7.96l-1.37-1.37c-.4-.4-.92-.59-1.43-.59-.52 0-1.04.2-1.43.59L10.3 9.45l-7.72 7.72c-.78.78-.78 2.05 0 2.83L4 21.41c.39.39.9.59 1.41.59.51 0 1.02-.2 1.41-.59l7.78-7.78 2.81-2.81c.8-.78.8-2.07 0-2.86zM5.41 20L4 18.59l7.72-7.72 1.47 1.35L5.41 20z\"/>\n",
              "  </svg>\n",
              "      </button>\n",
              "      \n",
              "  <style>\n",
              "    .colab-df-container {\n",
              "      display:flex;\n",
              "      flex-wrap:wrap;\n",
              "      gap: 12px;\n",
              "    }\n",
              "\n",
              "    .colab-df-convert {\n",
              "      background-color: #E8F0FE;\n",
              "      border: none;\n",
              "      border-radius: 50%;\n",
              "      cursor: pointer;\n",
              "      display: none;\n",
              "      fill: #1967D2;\n",
              "      height: 32px;\n",
              "      padding: 0 0 0 0;\n",
              "      width: 32px;\n",
              "    }\n",
              "\n",
              "    .colab-df-convert:hover {\n",
              "      background-color: #E2EBFA;\n",
              "      box-shadow: 0px 1px 2px rgba(60, 64, 67, 0.3), 0px 1px 3px 1px rgba(60, 64, 67, 0.15);\n",
              "      fill: #174EA6;\n",
              "    }\n",
              "\n",
              "    [theme=dark] .colab-df-convert {\n",
              "      background-color: #3B4455;\n",
              "      fill: #D2E3FC;\n",
              "    }\n",
              "\n",
              "    [theme=dark] .colab-df-convert:hover {\n",
              "      background-color: #434B5C;\n",
              "      box-shadow: 0px 1px 3px 1px rgba(0, 0, 0, 0.15);\n",
              "      filter: drop-shadow(0px 1px 2px rgba(0, 0, 0, 0.3));\n",
              "      fill: #FFFFFF;\n",
              "    }\n",
              "  </style>\n",
              "\n",
              "      <script>\n",
              "        const buttonEl =\n",
              "          document.querySelector('#df-6989e78c-68f5-402d-8d12-c7dae3fbd057 button.colab-df-convert');\n",
              "        buttonEl.style.display =\n",
              "          google.colab.kernel.accessAllowed ? 'block' : 'none';\n",
              "\n",
              "        async function convertToInteractive(key) {\n",
              "          const element = document.querySelector('#df-6989e78c-68f5-402d-8d12-c7dae3fbd057');\n",
              "          const dataTable =\n",
              "            await google.colab.kernel.invokeFunction('convertToInteractive',\n",
              "                                                     [key], {});\n",
              "          if (!dataTable) return;\n",
              "\n",
              "          const docLinkHtml = 'Like what you see? Visit the ' +\n",
              "            '<a target=\"_blank\" href=https://colab.research.google.com/notebooks/data_table.ipynb>data table notebook</a>'\n",
              "            + ' to learn more about interactive tables.';\n",
              "          element.innerHTML = '';\n",
              "          dataTable['output_type'] = 'display_data';\n",
              "          await google.colab.output.renderOutput(dataTable, element);\n",
              "          const docLink = document.createElement('div');\n",
              "          docLink.innerHTML = docLinkHtml;\n",
              "          element.appendChild(docLink);\n",
              "        }\n",
              "      </script>\n",
              "    </div>\n",
              "  </div>\n",
              "  "
            ]
          },
          "metadata": {},
          "execution_count": 10
        }
      ],
      "source": [
        "imp_df= df.fillna(method='bfill', axis=0).fillna(0)\n",
        "imp_df.describe() "
      ]
    },
    {
      "cell_type": "code",
      "execution_count": 11,
      "metadata": {
        "id": "VyseYp3z2TNH"
      },
      "outputs": [],
      "source": [
        "df = imp_df"
      ]
    },
    {
      "cell_type": "markdown",
      "metadata": {
        "id": "CESztU3NtY8p"
      },
      "source": [
        "# Dropping not useful columnns"
      ]
    },
    {
      "cell_type": "code",
      "execution_count": 12,
      "metadata": {
        "id": "KFh_k5UWekci"
      },
      "outputs": [],
      "source": [
        "#drop the columns that are not useful\n",
        "df = df.loc[:, ~df.columns.isin([\"encounter_id\", \"hospital_id\", 'height', 'weight','readmission_status'])]"
      ]
    },
    {
      "cell_type": "markdown",
      "metadata": {
        "id": "SCZyxqyYlems"
      },
      "source": [
        "# Dropping highly correlated columns"
      ]
    },
    {
      "cell_type": "code",
      "execution_count": 13,
      "metadata": {
        "id": "rXeiFcShlPsE"
      },
      "outputs": [],
      "source": [
        "X = df.loc[:, ~df.columns.isin(['diabetes_mellitus'])]\n",
        "\n",
        "#extract the target column\n",
        "y = df[\"diabetes_mellitus\"] "
      ]
    },
    {
      "cell_type": "code",
      "execution_count": 14,
      "metadata": {
        "id": "U4d6APcMlD5c",
        "colab": {
          "base_uri": "https://localhost:8080/"
        },
        "outputId": "f89f1695-d3ff-4859-8615-37e6376c1f41"
      },
      "outputs": [
        {
          "output_type": "stream",
          "name": "stdout",
          "text": [
            "\n",
            "['d1_albumin_min', 'd1_bilirubin_min', 'd1_bun_min', 'd1_platelets_min', 'd1_wbc_min', 'h1_glucose_min']\n"
          ]
        },
        {
          "output_type": "stream",
          "name": "stderr",
          "text": [
            "/usr/local/lib/python3.7/dist-packages/ipykernel_launcher.py:2: DeprecationWarning: `np.bool` is a deprecated alias for the builtin `bool`. To silence this warning, use `bool` by itself. Doing this will not modify any behavior and is safe. If you specifically wanted the numpy scalar type, use `np.bool_` here.\n",
            "Deprecated in NumPy 1.20; for more details and guidance: https://numpy.org/devdocs/release/1.20.0-notes.html#deprecations\n",
            "  \n"
          ]
        }
      ],
      "source": [
        "cor_matrix = X.corr().abs()\n",
        "upper_tri = cor_matrix.where(np.triu(np.ones(cor_matrix.shape),k=1).astype(np.bool))\n",
        "to_drop = [column for column in upper_tri.columns if any(upper_tri[column] > 0.90)]\n",
        "print(); print(to_drop)"
      ]
    },
    {
      "cell_type": "code",
      "execution_count": 15,
      "metadata": {
        "id": "yevci1rBlpPE"
      },
      "outputs": [],
      "source": [
        "df = df.loc[:, ~df.columns.isin(['d1_albumin_min', 'd1_bilirubin_min', 'd1_bun_min', 'd1_platelets_min', 'd1_wbc_min', 'h1_glucose_min'])]"
      ]
    },
    {
      "cell_type": "markdown",
      "metadata": {
        "id": "aWtr7sYy0BJd"
      },
      "source": [
        "# Categorical and Numerical "
      ]
    },
    {
      "cell_type": "code",
      "execution_count": 16,
      "metadata": {
        "colab": {
          "base_uri": "https://localhost:8080/"
        },
        "id": "nPZzJoIcD4q1",
        "outputId": "5d3fe97d-82d2-4ca8-bbbc-bdd42fb082c6"
      },
      "outputs": [
        {
          "output_type": "stream",
          "name": "stdout",
          "text": [
            "Looking in indexes: https://pypi.org/simple, https://us-python.pkg.dev/colab-wheels/public/simple/\n",
            "Collecting category_encoders\n",
            "  Downloading category_encoders-2.5.0-py2.py3-none-any.whl (69 kB)\n",
            "\u001b[K     |████████████████████████████████| 69 kB 8.0 MB/s \n",
            "\u001b[?25hRequirement already satisfied: scipy>=1.0.0 in /usr/local/lib/python3.7/dist-packages (from category_encoders) (1.7.3)\n",
            "Requirement already satisfied: numpy>=1.14.0 in /usr/local/lib/python3.7/dist-packages (from category_encoders) (1.21.6)\n",
            "Requirement already satisfied: patsy>=0.5.1 in /usr/local/lib/python3.7/dist-packages (from category_encoders) (0.5.2)\n",
            "Requirement already satisfied: scikit-learn>=0.20.0 in /usr/local/lib/python3.7/dist-packages (from category_encoders) (1.0.2)\n",
            "Requirement already satisfied: pandas>=1.0.5 in /usr/local/lib/python3.7/dist-packages (from category_encoders) (1.3.5)\n",
            "Requirement already satisfied: statsmodels>=0.9.0 in /usr/local/lib/python3.7/dist-packages (from category_encoders) (0.12.2)\n",
            "Requirement already satisfied: pytz>=2017.3 in /usr/local/lib/python3.7/dist-packages (from pandas>=1.0.5->category_encoders) (2022.2.1)\n",
            "Requirement already satisfied: python-dateutil>=2.7.3 in /usr/local/lib/python3.7/dist-packages (from pandas>=1.0.5->category_encoders) (2.8.2)\n",
            "Requirement already satisfied: six in /usr/local/lib/python3.7/dist-packages (from patsy>=0.5.1->category_encoders) (1.15.0)\n",
            "Requirement already satisfied: joblib>=0.11 in /usr/local/lib/python3.7/dist-packages (from scikit-learn>=0.20.0->category_encoders) (1.1.0)\n",
            "Requirement already satisfied: threadpoolctl>=2.0.0 in /usr/local/lib/python3.7/dist-packages (from scikit-learn>=0.20.0->category_encoders) (3.1.0)\n",
            "Installing collected packages: category-encoders\n",
            "Successfully installed category-encoders-2.5.0\n"
          ]
        }
      ],
      "source": [
        "pip install --upgrade category_encoders"
      ]
    },
    {
      "cell_type": "code",
      "execution_count": 17,
      "metadata": {
        "id": "uz4jb44GJaQ3"
      },
      "outputs": [],
      "source": [
        "#divide our columns in to the categorical and numerical columns for variables that are useful for prediction of diabetes\n",
        "\n",
        "cat_col = [\"gender\", \"ethnicity\", \"icu_type\"]\n",
        "num_col = df.loc[:, ~df.columns.isin([\"gender\", \"ethnicity\", \"icu_type\"])]"
      ]
    },
    {
      "cell_type": "code",
      "execution_count": 18,
      "metadata": {
        "colab": {
          "base_uri": "https://localhost:8080/"
        },
        "id": "EV4r_ZeCPndy",
        "outputId": "ad11bb80-e8e8-4f98-fb29-56c707f1515a"
      },
      "outputs": [
        {
          "output_type": "stream",
          "name": "stdout",
          "text": [
            "---- gender ---\n",
            "M    42925\n",
            "F    36234\n",
            "Name: gender, dtype: int64\n",
            "---- ethnicity ---\n",
            "Caucasian           60545\n",
            "African American     8965\n",
            "Other/Unknown        4049\n",
            "Hispanic             3312\n",
            "Asian                1507\n",
            "Native American       781\n",
            "Name: ethnicity, dtype: int64\n",
            "---- icu_type ---\n",
            "Med-Surg ICU    43608\n",
            "MICU             6816\n",
            "CCU-CTICU        6809\n",
            "Neuro ICU        6077\n",
            "Cardiac ICU      5069\n",
            "SICU             4902\n",
            "CSICU            3138\n",
            "CTICU            2740\n",
            "Name: icu_type, dtype: int64\n"
          ]
        }
      ],
      "source": [
        "#Let us run loop of value_counts of each column to find out unique values. \n",
        "for col in df[cat_col]:\n",
        "    print (\"---- %s ---\" % col)\n",
        "    print (df[col].value_counts())"
      ]
    },
    {
      "cell_type": "markdown",
      "metadata": {
        "id": "zSR-vmBMRgVP"
      },
      "source": [
        "## Label encoding"
      ]
    },
    {
      "cell_type": "code",
      "execution_count": 19,
      "metadata": {
        "id": "dS6Nu62rQf_M"
      },
      "outputs": [],
      "source": [
        "from sklearn.preprocessing import LabelEncoder\n",
        "\n",
        "for col in [\"ethnicity\", \"icu_type\", 'gender']:\n",
        "    df[col] = LabelEncoder().fit_transform(df[col])"
      ]
    },
    {
      "cell_type": "code",
      "execution_count": 20,
      "metadata": {
        "colab": {
          "base_uri": "https://localhost:8080/",
          "height": 0
        },
        "id": "nk5rLrv-nVO2",
        "outputId": "bffc9f02-dfc8-4191-cd25-c694b7b673bb"
      },
      "outputs": [
        {
          "output_type": "execute_result",
          "data": {
            "text/plain": [
              "       gender  ethnicity   age  elective_surgery        bmi  icu_type  \\\n",
              "0           1          2  68.0                 0  22.732803         2   \n",
              "1           0          2  25.0                 0  31.952749         5   \n",
              "2           0          2  81.0                 1  22.635548         2   \n",
              "3           1          2  19.0                 0  27.421875         5   \n",
              "4           0          2  77.0                 0  27.421875         5   \n",
              "...       ...        ...   ...               ...        ...       ...   \n",
              "79154       0          2  86.0                 0  30.687339         5   \n",
              "79155       0          2  55.0                 0  33.641487         4   \n",
              "79156       1          0  61.0                 0  29.436333         2   \n",
              "79157       1          2  80.0                 0  27.689796         0   \n",
              "79158       1          2  88.0                 0  31.416316         5   \n",
              "\n",
              "       h1_temp_max  h1_temp_min  d1_albumin_max  d1_bilirubin_max  ...  \\\n",
              "0             39.5         37.5             2.3               0.4  ...   \n",
              "1             36.7         36.7             1.6               0.5  ...   \n",
              "2             35.6         34.8             1.6               0.5  ...   \n",
              "3             36.3         36.3             1.6               0.5  ...   \n",
              "4             36.3         36.3             1.6               0.5  ...   \n",
              "...            ...          ...             ...               ...  ...   \n",
              "79154         36.7         36.7             2.6               0.4  ...   \n",
              "79155         36.6         36.6             2.6               0.4  ...   \n",
              "79156         36.8         36.8             2.6               0.4  ...   \n",
              "79157         36.9         35.7             2.0               0.2  ...   \n",
              "79158         36.9         35.7             3.0               0.7  ...   \n",
              "\n",
              "       map_apache  aids  cirrhosis  hepatic_failure  immunosuppression  \\\n",
              "0            40.0     0          0                0                  0   \n",
              "1            68.0     0          0                0                  0   \n",
              "2            60.0     0          0                0                  0   \n",
              "3           103.0     0          0                0                  0   \n",
              "4            46.0     0          0                0                  0   \n",
              "...           ...   ...        ...              ...                ...   \n",
              "79154       137.0     0          0                0                  0   \n",
              "79155        59.0     0          0                0                  1   \n",
              "79156       173.0     0          0                0                  0   \n",
              "79157        54.0     0          0                0                  1   \n",
              "79158        42.0     0          0                0                  0   \n",
              "\n",
              "       leukemia  lymphoma  solid_tumor_with_metastasis  ventilated_apache  \\\n",
              "0             0         0                            0                  0   \n",
              "1             0         0                            0                  0   \n",
              "2             0         0                            0                  1   \n",
              "3             0         0                            0                  0   \n",
              "4             0         0                            0                  1   \n",
              "...         ...       ...                          ...                ...   \n",
              "79154         0         0                            0                  0   \n",
              "79155         0         0                            1                  0   \n",
              "79156         0         0                            0                  0   \n",
              "79157         0         0                            0                  0   \n",
              "79158         0         0                            0                  1   \n",
              "\n",
              "       diabetes_mellitus  \n",
              "0                      1  \n",
              "1                      0  \n",
              "2                      0  \n",
              "3                      0  \n",
              "4                      1  \n",
              "...                  ...  \n",
              "79154                  0  \n",
              "79155                  0  \n",
              "79156                  0  \n",
              "79157                  0  \n",
              "79158                  0  \n",
              "\n",
              "[79159 rows x 39 columns]"
            ],
            "text/html": [
              "\n",
              "  <div id=\"df-f42b73b6-907a-4dfb-ade8-0e976d67c0cc\">\n",
              "    <div class=\"colab-df-container\">\n",
              "      <div>\n",
              "<style scoped>\n",
              "    .dataframe tbody tr th:only-of-type {\n",
              "        vertical-align: middle;\n",
              "    }\n",
              "\n",
              "    .dataframe tbody tr th {\n",
              "        vertical-align: top;\n",
              "    }\n",
              "\n",
              "    .dataframe thead th {\n",
              "        text-align: right;\n",
              "    }\n",
              "</style>\n",
              "<table border=\"1\" class=\"dataframe\">\n",
              "  <thead>\n",
              "    <tr style=\"text-align: right;\">\n",
              "      <th></th>\n",
              "      <th>gender</th>\n",
              "      <th>ethnicity</th>\n",
              "      <th>age</th>\n",
              "      <th>elective_surgery</th>\n",
              "      <th>bmi</th>\n",
              "      <th>icu_type</th>\n",
              "      <th>h1_temp_max</th>\n",
              "      <th>h1_temp_min</th>\n",
              "      <th>d1_albumin_max</th>\n",
              "      <th>d1_bilirubin_max</th>\n",
              "      <th>...</th>\n",
              "      <th>map_apache</th>\n",
              "      <th>aids</th>\n",
              "      <th>cirrhosis</th>\n",
              "      <th>hepatic_failure</th>\n",
              "      <th>immunosuppression</th>\n",
              "      <th>leukemia</th>\n",
              "      <th>lymphoma</th>\n",
              "      <th>solid_tumor_with_metastasis</th>\n",
              "      <th>ventilated_apache</th>\n",
              "      <th>diabetes_mellitus</th>\n",
              "    </tr>\n",
              "  </thead>\n",
              "  <tbody>\n",
              "    <tr>\n",
              "      <th>0</th>\n",
              "      <td>1</td>\n",
              "      <td>2</td>\n",
              "      <td>68.0</td>\n",
              "      <td>0</td>\n",
              "      <td>22.732803</td>\n",
              "      <td>2</td>\n",
              "      <td>39.5</td>\n",
              "      <td>37.5</td>\n",
              "      <td>2.3</td>\n",
              "      <td>0.4</td>\n",
              "      <td>...</td>\n",
              "      <td>40.0</td>\n",
              "      <td>0</td>\n",
              "      <td>0</td>\n",
              "      <td>0</td>\n",
              "      <td>0</td>\n",
              "      <td>0</td>\n",
              "      <td>0</td>\n",
              "      <td>0</td>\n",
              "      <td>0</td>\n",
              "      <td>1</td>\n",
              "    </tr>\n",
              "    <tr>\n",
              "      <th>1</th>\n",
              "      <td>0</td>\n",
              "      <td>2</td>\n",
              "      <td>25.0</td>\n",
              "      <td>0</td>\n",
              "      <td>31.952749</td>\n",
              "      <td>5</td>\n",
              "      <td>36.7</td>\n",
              "      <td>36.7</td>\n",
              "      <td>1.6</td>\n",
              "      <td>0.5</td>\n",
              "      <td>...</td>\n",
              "      <td>68.0</td>\n",
              "      <td>0</td>\n",
              "      <td>0</td>\n",
              "      <td>0</td>\n",
              "      <td>0</td>\n",
              "      <td>0</td>\n",
              "      <td>0</td>\n",
              "      <td>0</td>\n",
              "      <td>0</td>\n",
              "      <td>0</td>\n",
              "    </tr>\n",
              "    <tr>\n",
              "      <th>2</th>\n",
              "      <td>0</td>\n",
              "      <td>2</td>\n",
              "      <td>81.0</td>\n",
              "      <td>1</td>\n",
              "      <td>22.635548</td>\n",
              "      <td>2</td>\n",
              "      <td>35.6</td>\n",
              "      <td>34.8</td>\n",
              "      <td>1.6</td>\n",
              "      <td>0.5</td>\n",
              "      <td>...</td>\n",
              "      <td>60.0</td>\n",
              "      <td>0</td>\n",
              "      <td>0</td>\n",
              "      <td>0</td>\n",
              "      <td>0</td>\n",
              "      <td>0</td>\n",
              "      <td>0</td>\n",
              "      <td>0</td>\n",
              "      <td>1</td>\n",
              "      <td>0</td>\n",
              "    </tr>\n",
              "    <tr>\n",
              "      <th>3</th>\n",
              "      <td>1</td>\n",
              "      <td>2</td>\n",
              "      <td>19.0</td>\n",
              "      <td>0</td>\n",
              "      <td>27.421875</td>\n",
              "      <td>5</td>\n",
              "      <td>36.3</td>\n",
              "      <td>36.3</td>\n",
              "      <td>1.6</td>\n",
              "      <td>0.5</td>\n",
              "      <td>...</td>\n",
              "      <td>103.0</td>\n",
              "      <td>0</td>\n",
              "      <td>0</td>\n",
              "      <td>0</td>\n",
              "      <td>0</td>\n",
              "      <td>0</td>\n",
              "      <td>0</td>\n",
              "      <td>0</td>\n",
              "      <td>0</td>\n",
              "      <td>0</td>\n",
              "    </tr>\n",
              "    <tr>\n",
              "      <th>4</th>\n",
              "      <td>0</td>\n",
              "      <td>2</td>\n",
              "      <td>77.0</td>\n",
              "      <td>0</td>\n",
              "      <td>27.421875</td>\n",
              "      <td>5</td>\n",
              "      <td>36.3</td>\n",
              "      <td>36.3</td>\n",
              "      <td>1.6</td>\n",
              "      <td>0.5</td>\n",
              "      <td>...</td>\n",
              "      <td>46.0</td>\n",
              "      <td>0</td>\n",
              "      <td>0</td>\n",
              "      <td>0</td>\n",
              "      <td>0</td>\n",
              "      <td>0</td>\n",
              "      <td>0</td>\n",
              "      <td>0</td>\n",
              "      <td>1</td>\n",
              "      <td>1</td>\n",
              "    </tr>\n",
              "    <tr>\n",
              "      <th>...</th>\n",
              "      <td>...</td>\n",
              "      <td>...</td>\n",
              "      <td>...</td>\n",
              "      <td>...</td>\n",
              "      <td>...</td>\n",
              "      <td>...</td>\n",
              "      <td>...</td>\n",
              "      <td>...</td>\n",
              "      <td>...</td>\n",
              "      <td>...</td>\n",
              "      <td>...</td>\n",
              "      <td>...</td>\n",
              "      <td>...</td>\n",
              "      <td>...</td>\n",
              "      <td>...</td>\n",
              "      <td>...</td>\n",
              "      <td>...</td>\n",
              "      <td>...</td>\n",
              "      <td>...</td>\n",
              "      <td>...</td>\n",
              "      <td>...</td>\n",
              "    </tr>\n",
              "    <tr>\n",
              "      <th>79154</th>\n",
              "      <td>0</td>\n",
              "      <td>2</td>\n",
              "      <td>86.0</td>\n",
              "      <td>0</td>\n",
              "      <td>30.687339</td>\n",
              "      <td>5</td>\n",
              "      <td>36.7</td>\n",
              "      <td>36.7</td>\n",
              "      <td>2.6</td>\n",
              "      <td>0.4</td>\n",
              "      <td>...</td>\n",
              "      <td>137.0</td>\n",
              "      <td>0</td>\n",
              "      <td>0</td>\n",
              "      <td>0</td>\n",
              "      <td>0</td>\n",
              "      <td>0</td>\n",
              "      <td>0</td>\n",
              "      <td>0</td>\n",
              "      <td>0</td>\n",
              "      <td>0</td>\n",
              "    </tr>\n",
              "    <tr>\n",
              "      <th>79155</th>\n",
              "      <td>0</td>\n",
              "      <td>2</td>\n",
              "      <td>55.0</td>\n",
              "      <td>0</td>\n",
              "      <td>33.641487</td>\n",
              "      <td>4</td>\n",
              "      <td>36.6</td>\n",
              "      <td>36.6</td>\n",
              "      <td>2.6</td>\n",
              "      <td>0.4</td>\n",
              "      <td>...</td>\n",
              "      <td>59.0</td>\n",
              "      <td>0</td>\n",
              "      <td>0</td>\n",
              "      <td>0</td>\n",
              "      <td>1</td>\n",
              "      <td>0</td>\n",
              "      <td>0</td>\n",
              "      <td>1</td>\n",
              "      <td>0</td>\n",
              "      <td>0</td>\n",
              "    </tr>\n",
              "    <tr>\n",
              "      <th>79156</th>\n",
              "      <td>1</td>\n",
              "      <td>0</td>\n",
              "      <td>61.0</td>\n",
              "      <td>0</td>\n",
              "      <td>29.436333</td>\n",
              "      <td>2</td>\n",
              "      <td>36.8</td>\n",
              "      <td>36.8</td>\n",
              "      <td>2.6</td>\n",
              "      <td>0.4</td>\n",
              "      <td>...</td>\n",
              "      <td>173.0</td>\n",
              "      <td>0</td>\n",
              "      <td>0</td>\n",
              "      <td>0</td>\n",
              "      <td>0</td>\n",
              "      <td>0</td>\n",
              "      <td>0</td>\n",
              "      <td>0</td>\n",
              "      <td>0</td>\n",
              "      <td>0</td>\n",
              "    </tr>\n",
              "    <tr>\n",
              "      <th>79157</th>\n",
              "      <td>1</td>\n",
              "      <td>2</td>\n",
              "      <td>80.0</td>\n",
              "      <td>0</td>\n",
              "      <td>27.689796</td>\n",
              "      <td>0</td>\n",
              "      <td>36.9</td>\n",
              "      <td>35.7</td>\n",
              "      <td>2.0</td>\n",
              "      <td>0.2</td>\n",
              "      <td>...</td>\n",
              "      <td>54.0</td>\n",
              "      <td>0</td>\n",
              "      <td>0</td>\n",
              "      <td>0</td>\n",
              "      <td>1</td>\n",
              "      <td>0</td>\n",
              "      <td>0</td>\n",
              "      <td>0</td>\n",
              "      <td>0</td>\n",
              "      <td>0</td>\n",
              "    </tr>\n",
              "    <tr>\n",
              "      <th>79158</th>\n",
              "      <td>1</td>\n",
              "      <td>2</td>\n",
              "      <td>88.0</td>\n",
              "      <td>0</td>\n",
              "      <td>31.416316</td>\n",
              "      <td>5</td>\n",
              "      <td>36.9</td>\n",
              "      <td>35.7</td>\n",
              "      <td>3.0</td>\n",
              "      <td>0.7</td>\n",
              "      <td>...</td>\n",
              "      <td>42.0</td>\n",
              "      <td>0</td>\n",
              "      <td>0</td>\n",
              "      <td>0</td>\n",
              "      <td>0</td>\n",
              "      <td>0</td>\n",
              "      <td>0</td>\n",
              "      <td>0</td>\n",
              "      <td>1</td>\n",
              "      <td>0</td>\n",
              "    </tr>\n",
              "  </tbody>\n",
              "</table>\n",
              "<p>79159 rows × 39 columns</p>\n",
              "</div>\n",
              "      <button class=\"colab-df-convert\" onclick=\"convertToInteractive('df-f42b73b6-907a-4dfb-ade8-0e976d67c0cc')\"\n",
              "              title=\"Convert this dataframe to an interactive table.\"\n",
              "              style=\"display:none;\">\n",
              "        \n",
              "  <svg xmlns=\"http://www.w3.org/2000/svg\" height=\"24px\"viewBox=\"0 0 24 24\"\n",
              "       width=\"24px\">\n",
              "    <path d=\"M0 0h24v24H0V0z\" fill=\"none\"/>\n",
              "    <path d=\"M18.56 5.44l.94 2.06.94-2.06 2.06-.94-2.06-.94-.94-2.06-.94 2.06-2.06.94zm-11 1L8.5 8.5l.94-2.06 2.06-.94-2.06-.94L8.5 2.5l-.94 2.06-2.06.94zm10 10l.94 2.06.94-2.06 2.06-.94-2.06-.94-.94-2.06-.94 2.06-2.06.94z\"/><path d=\"M17.41 7.96l-1.37-1.37c-.4-.4-.92-.59-1.43-.59-.52 0-1.04.2-1.43.59L10.3 9.45l-7.72 7.72c-.78.78-.78 2.05 0 2.83L4 21.41c.39.39.9.59 1.41.59.51 0 1.02-.2 1.41-.59l7.78-7.78 2.81-2.81c.8-.78.8-2.07 0-2.86zM5.41 20L4 18.59l7.72-7.72 1.47 1.35L5.41 20z\"/>\n",
              "  </svg>\n",
              "      </button>\n",
              "      \n",
              "  <style>\n",
              "    .colab-df-container {\n",
              "      display:flex;\n",
              "      flex-wrap:wrap;\n",
              "      gap: 12px;\n",
              "    }\n",
              "\n",
              "    .colab-df-convert {\n",
              "      background-color: #E8F0FE;\n",
              "      border: none;\n",
              "      border-radius: 50%;\n",
              "      cursor: pointer;\n",
              "      display: none;\n",
              "      fill: #1967D2;\n",
              "      height: 32px;\n",
              "      padding: 0 0 0 0;\n",
              "      width: 32px;\n",
              "    }\n",
              "\n",
              "    .colab-df-convert:hover {\n",
              "      background-color: #E2EBFA;\n",
              "      box-shadow: 0px 1px 2px rgba(60, 64, 67, 0.3), 0px 1px 3px 1px rgba(60, 64, 67, 0.15);\n",
              "      fill: #174EA6;\n",
              "    }\n",
              "\n",
              "    [theme=dark] .colab-df-convert {\n",
              "      background-color: #3B4455;\n",
              "      fill: #D2E3FC;\n",
              "    }\n",
              "\n",
              "    [theme=dark] .colab-df-convert:hover {\n",
              "      background-color: #434B5C;\n",
              "      box-shadow: 0px 1px 3px 1px rgba(0, 0, 0, 0.15);\n",
              "      filter: drop-shadow(0px 1px 2px rgba(0, 0, 0, 0.3));\n",
              "      fill: #FFFFFF;\n",
              "    }\n",
              "  </style>\n",
              "\n",
              "      <script>\n",
              "        const buttonEl =\n",
              "          document.querySelector('#df-f42b73b6-907a-4dfb-ade8-0e976d67c0cc button.colab-df-convert');\n",
              "        buttonEl.style.display =\n",
              "          google.colab.kernel.accessAllowed ? 'block' : 'none';\n",
              "\n",
              "        async function convertToInteractive(key) {\n",
              "          const element = document.querySelector('#df-f42b73b6-907a-4dfb-ade8-0e976d67c0cc');\n",
              "          const dataTable =\n",
              "            await google.colab.kernel.invokeFunction('convertToInteractive',\n",
              "                                                     [key], {});\n",
              "          if (!dataTable) return;\n",
              "\n",
              "          const docLinkHtml = 'Like what you see? Visit the ' +\n",
              "            '<a target=\"_blank\" href=https://colab.research.google.com/notebooks/data_table.ipynb>data table notebook</a>'\n",
              "            + ' to learn more about interactive tables.';\n",
              "          element.innerHTML = '';\n",
              "          dataTable['output_type'] = 'display_data';\n",
              "          await google.colab.output.renderOutput(dataTable, element);\n",
              "          const docLink = document.createElement('div');\n",
              "          docLink.innerHTML = docLinkHtml;\n",
              "          element.appendChild(docLink);\n",
              "        }\n",
              "      </script>\n",
              "    </div>\n",
              "  </div>\n",
              "  "
            ]
          },
          "metadata": {},
          "execution_count": 20
        }
      ],
      "source": [
        "df"
      ]
    },
    {
      "cell_type": "markdown",
      "source": [
        "# Feature Selection"
      ],
      "metadata": {
        "id": "tKjhngdembgT"
      }
    },
    {
      "cell_type": "code",
      "source": [
        "X = df.loc[:, ~df.columns.isin([\"diabetes_mellitus\"])]\n",
        "y = df[\"diabetes_mellitus\"] "
      ],
      "metadata": {
        "id": "hgBmX4bPmcct"
      },
      "execution_count": 21,
      "outputs": []
    },
    {
      "cell_type": "code",
      "source": [
        "from sklearn.feature_selection import SelectKBest, mutual_info_classif\n",
        "from sklearn.feature_selection import chi2\n",
        "\n",
        "selector = SelectKBest(score_func=mutual_info_classif, k='all')\n",
        "\n",
        "# transform train input data\n",
        "Xfs = selector.fit_transform(X,y)"
      ],
      "metadata": {
        "id": "5W9CkkwhmdWD"
      },
      "execution_count": 22,
      "outputs": []
    },
    {
      "cell_type": "code",
      "source": [
        "names = X.columns.values[selector.get_support()]\n",
        "scores = selector.scores_[selector.get_support()]\n",
        "names_scores = list(zip(names, scores))\n",
        "ns_df = pd.DataFrame(data = names_scores, columns=['Feat_names', 'Mutual_info'])\n",
        "ns_df_sorted = ns_df.sort_values(['Mutual_info', 'Feat_names'], ascending = [False, True])\n",
        "print(ns_df_sorted)"
      ],
      "metadata": {
        "colab": {
          "base_uri": "https://localhost:8080/"
        },
        "id": "3XtACp4CmelT",
        "outputId": "26c1eadc-6437-47bb-8ae6-1fe01d318af5"
      },
      "execution_count": 23,
      "outputs": [
        {
          "output_type": "stream",
          "name": "stdout",
          "text": [
            "                     Feat_names  Mutual_info\n",
            "20               h1_glucose_max     0.078340\n",
            "4                           bmi     0.031273\n",
            "11               d1_glucose_min     0.026801\n",
            "10                   d1_bun_max     0.023971\n",
            "27            creatinine_apache     0.023683\n",
            "9              d1_bilirubin_max     0.013799\n",
            "2                           age     0.011151\n",
            "21                   wbc_apache     0.010231\n",
            "1                     ethnicity     0.009031\n",
            "26              gcs_eyes_apache     0.007251\n",
            "25             gcs_motor_apache     0.006298\n",
            "5                      icu_type     0.005775\n",
            "15             d1_potassium_max     0.005267\n",
            "19                   d1_wbc_max     0.004523\n",
            "18                d1_sodium_min     0.004087\n",
            "17                d1_sodium_max     0.004050\n",
            "7                   h1_temp_min     0.003686\n",
            "28                  h1_spo2_max     0.003249\n",
            "16             d1_potassium_min     0.002755\n",
            "37            ventilated_apache     0.002225\n",
            "8                d1_albumin_max     0.001672\n",
            "30                         aids     0.001669\n",
            "12                  d1_hco3_max     0.001508\n",
            "6                   h1_temp_max     0.001495\n",
            "22             intubated_apache     0.001271\n",
            "13                  d1_hco3_min     0.001174\n",
            "31                    cirrhosis     0.001033\n",
            "0                        gender     0.000983\n",
            "24            heart_rate_apache     0.000729\n",
            "23             d1_heartrate_max     0.000000\n",
            "14             d1_platelets_max     0.000000\n",
            "3              elective_surgery     0.000000\n",
            "32              hepatic_failure     0.000000\n",
            "33            immunosuppression     0.000000\n",
            "34                     leukemia     0.000000\n",
            "35                     lymphoma     0.000000\n",
            "29                   map_apache     0.000000\n",
            "36  solid_tumor_with_metastasis     0.000000\n"
          ]
        }
      ]
    },
    {
      "cell_type": "markdown",
      "source": [
        "# K-Means Clustering"
      ],
      "metadata": {
        "id": "lCPJbaaWnKdg"
      }
    },
    {
      "cell_type": "markdown",
      "source": [
        "## Without feature selection "
      ],
      "metadata": {
        "id": "KzcpehLXLN9n"
      }
    },
    {
      "cell_type": "code",
      "source": [
        "X = df.loc[:, ~df.columns.isin([\"diabetes_mellitus\"])]\n",
        "                               \n",
        "labels_true = df[\"diabetes_mellitus\"] \n",
        "\n",
        "pipe_dt=Pipeline([('scl',StandardScaler()),\n",
        "                 ('pca',PCA(n_components=2))\n",
        "                 ])\n",
        "\n",
        "X = pipe_dt.fit_transform(X)"
      ],
      "metadata": {
        "id": "cGVdvC9qrbd6"
      },
      "execution_count": 24,
      "outputs": []
    },
    {
      "cell_type": "code",
      "source": [
        "from sklearn import metrics\n",
        "from scipy.spatial.distance import cdist\n",
        "\n",
        "distortions = []\n",
        "K = range(1,12)\n",
        "for k in K:\n",
        "    kmeans = KMeans(n_clusters=k, random_state=1024).fit(X)\n",
        "    kmeans.fit(X)\n",
        "    distortions.append(sum(np.min(cdist(X, kmeans.cluster_centers_, 'euclidean'), axis=1)) / X.shape[0])"
      ],
      "metadata": {
        "id": "WTpwCvfYrjlC"
      },
      "execution_count": 25,
      "outputs": []
    },
    {
      "cell_type": "code",
      "source": [
        "X_line = [K[0], K[-1]]\n",
        "Y_line = [distortions[0], distortions[-1]]\n",
        "\n",
        "# Plot the elbow\n",
        "plt.plot(K, distortions, 'b-')\n",
        "plt.plot(X_line, Y_line, 'r')\n",
        "plt.xlabel('k')\n",
        "plt.ylabel('Distortion')\n",
        "plt.title('The Elbow Method showing the optimal k')\n",
        "plt.show()"
      ],
      "metadata": {
        "colab": {
          "base_uri": "https://localhost:8080/",
          "height": 295
        },
        "id": "vp-Tp19PrwFT",
        "outputId": "195cea9d-8fc1-4010-dc73-ce26ee16259f"
      },
      "execution_count": 26,
      "outputs": [
        {
          "output_type": "display_data",
          "data": {
            "text/plain": [
              "<Figure size 432x288 with 1 Axes>"
            ],
            "image/png": "[encoded data removed]"
          },
          "metadata": {
            "needs_background": "light"
          }
        }
      ]
    },
    {
      "cell_type": "code",
      "source": [
        "kmeans = KMeans(n_clusters=2, random_state=1024)\n",
        "y_pred = kmeans.fit_predict(X)\n",
        "labels_pred = y_pred\n",
        "labels_pred"
      ],
      "metadata": {
        "colab": {
          "base_uri": "https://localhost:8080/"
        },
        "id": "gRIiMstYsXyT",
        "outputId": "31278cb3-a177-46bd-9031-a0f522d2183a"
      },
      "execution_count": 27,
      "outputs": [
        {
          "output_type": "execute_result",
          "data": {
            "text/plain": [
              "array([0, 0, 1, ..., 0, 0, 1], dtype=int32)"
            ]
          },
          "metadata": {},
          "execution_count": 27
        }
      ]
    },
    {
      "cell_type": "markdown",
      "source": [
        "### Evaluation"
      ],
      "metadata": {
        "id": "Eyuyi_DFrsJ7"
      }
    },
    {
      "cell_type": "markdown",
      "source": [
        "#### Accuracy score "
      ],
      "metadata": {
        "id": "t48V4PyzsENr"
      }
    },
    {
      "cell_type": "code",
      "source": [
        "# check how many of the samples were correctly labeled\n",
        "correct_labels = sum(labels_true == labels_pred)\n",
        "\n",
        "print(\"Result: %d out of %d samples were correctly labeled.\" % (correct_labels, labels_true.size))"
      ],
      "metadata": {
        "colab": {
          "base_uri": "https://localhost:8080/"
        },
        "id": "DGu6RT4wrs4q",
        "outputId": "b53e629b-548b-4e19-e53a-98a98704b555"
      },
      "execution_count": 28,
      "outputs": [
        {
          "output_type": "stream",
          "name": "stdout",
          "text": [
            "Result: 45249 out of 79159 samples were correctly labeled.\n"
          ]
        }
      ]
    },
    {
      "cell_type": "code",
      "source": [
        "print('Accuracy score: {0:0.2f}'. format(correct_labels/float(labels_true.size)))"
      ],
      "metadata": {
        "colab": {
          "base_uri": "https://localhost:8080/"
        },
        "id": "5RSGP8cpu9zG",
        "outputId": "37c0048e-8d00-4357-b08f-f4b670f8abe6"
      },
      "execution_count": 29,
      "outputs": [
        {
          "output_type": "stream",
          "name": "stdout",
          "text": [
            "Accuracy score: 0.57\n"
          ]
        }
      ]
    },
    {
      "cell_type": "markdown",
      "source": [
        "#### Classification report "
      ],
      "metadata": {
        "id": "iQA0q5G7r7gF"
      }
    },
    {
      "cell_type": "code",
      "source": [
        "def converter(cluster):\n",
        "    if cluster==1:\n",
        "        return 1\n",
        "    else:\n",
        "        return 0"
      ],
      "metadata": {
        "id": "oEYVydhae81r"
      },
      "execution_count": 30,
      "outputs": []
    },
    {
      "cell_type": "code",
      "source": [
        "df['Cluster'] = df['diabetes_mellitus'].apply(converter)"
      ],
      "metadata": {
        "id": "ZGXpOoe1fBAT"
      },
      "execution_count": 31,
      "outputs": []
    },
    {
      "cell_type": "code",
      "source": [
        "print(classification_report(df['Cluster'],kmeans.labels_))"
      ],
      "metadata": {
        "id": "SMEdqTDwfJr0",
        "colab": {
          "base_uri": "https://localhost:8080/"
        },
        "outputId": "2cf1d737-4da1-4f30-9e28-ac8a795573e4"
      },
      "execution_count": 32,
      "outputs": [
        {
          "output_type": "stream",
          "name": "stdout",
          "text": [
            "              precision    recall  f1-score   support\n",
            "\n",
            "           0       0.65      0.74      0.69     51007\n",
            "           1       0.36      0.26      0.31     28152\n",
            "\n",
            "    accuracy                           0.57     79159\n",
            "   macro avg       0.50      0.50      0.50     79159\n",
            "weighted avg       0.54      0.57      0.55     79159\n",
            "\n"
          ]
        }
      ]
    },
    {
      "cell_type": "markdown",
      "source": [
        "#### Adjusted rand score"
      ],
      "metadata": {
        "id": "pRhtcR89uhH9"
      }
    },
    {
      "cell_type": "code",
      "source": [
        "score = adjusted_rand_score(labels_true, labels_pred)\n",
        "score"
      ],
      "metadata": {
        "colab": {
          "base_uri": "https://localhost:8080/"
        },
        "id": "A4SvvyqoufWe",
        "outputId": "b10cb34d-b5d0-46e7-e9b6-0e931e64fd7c"
      },
      "execution_count": 33,
      "outputs": [
        {
          "output_type": "execute_result",
          "data": {
            "text/plain": [
              "0.0014864144876934973"
            ]
          },
          "metadata": {},
          "execution_count": 33
        }
      ]
    },
    {
      "cell_type": "markdown",
      "source": [
        "#### Adjusted mutual info score"
      ],
      "metadata": {
        "id": "9aPzr0t9ujGH"
      }
    },
    {
      "cell_type": "code",
      "source": [
        "score = adjusted_mutual_info_score(labels_true, labels_pred)\n",
        "score"
      ],
      "metadata": {
        "colab": {
          "base_uri": "https://localhost:8080/"
        },
        "id": "j50zocnkuk3P",
        "outputId": "18e40907-9688-4c5b-e86e-0081c3dbf22b"
      },
      "execution_count": 34,
      "outputs": [
        {
          "output_type": "execute_result",
          "data": {
            "text/plain": [
              "2.1049729111586998e-05"
            ]
          },
          "metadata": {},
          "execution_count": 34
        }
      ]
    },
    {
      "cell_type": "markdown",
      "source": [
        "## With feature selection"
      ],
      "metadata": {
        "id": "iKreeFyerZUT"
      }
    },
    {
      "cell_type": "code",
      "source": [
        "X = df.loc[:, df.columns.isin(['h1_glucose_max', 'd1_glucose_min', 'bmi', 'd1_bun_max', 'creatinine_apache', \n",
        "                               'd1_bilirubin_max'])]\n",
        "                               \n",
        "labels_true = df[\"diabetes_mellitus\"] \n",
        "\n",
        "pipe_dt=Pipeline([('scl',StandardScaler()),\n",
        "                 ('pca',PCA(n_components=2))\n",
        "                 ])\n",
        "\n",
        "X = pipe_dt.fit_transform(X)"
      ],
      "metadata": {
        "id": "jY7y8cxbLNgv"
      },
      "execution_count": 35,
      "outputs": []
    },
    {
      "cell_type": "code",
      "source": [
        "from sklearn import metrics\n",
        "from scipy.spatial.distance import cdist\n",
        "\n",
        "distortions = []\n",
        "K = range(1,12)\n",
        "for k in K:\n",
        "    kmeans = KMeans(n_clusters=k, random_state=1024).fit(X)\n",
        "    kmeans.fit(X)\n",
        "    distortions.append(sum(np.min(cdist(X, kmeans.cluster_centers_, 'euclidean'), axis=1)) / X.shape[0])"
      ],
      "metadata": {
        "id": "6i19xB5cKomr"
      },
      "execution_count": 36,
      "outputs": []
    },
    {
      "cell_type": "code",
      "source": [
        "X_line = [K[0], K[-1]]\n",
        "Y_line = [distortions[0], distortions[-1]]\n",
        "\n",
        "# Plot the elbow\n",
        "plt.plot(K, distortions, 'b-')\n",
        "plt.plot(X_line, Y_line, 'r')\n",
        "plt.xlabel('k')\n",
        "plt.ylabel('Distortion')\n",
        "plt.title('The Elbow Method showing the optimal k')\n",
        "plt.show()"
      ],
      "metadata": {
        "colab": {
          "base_uri": "https://localhost:8080/",
          "height": 295
        },
        "id": "LZKUSesrKxNS",
        "outputId": "0822cd7f-e5e2-431d-cffb-00d35435ead4"
      },
      "execution_count": 37,
      "outputs": [
        {
          "output_type": "display_data",
          "data": {
            "text/plain": [
              "<Figure size 432x288 with 1 Axes>"
            ],
            "image/png": "[encoded data removed]"
          },
          "metadata": {
            "needs_background": "light"
          }
        }
      ]
    },
    {
      "cell_type": "code",
      "source": [
        "kmeans = KMeans(n_clusters=2, random_state=1024)\n",
        "y_pred = kmeans.fit_predict(X)\n",
        "labels_pred = y_pred\n",
        "labels_pred"
      ],
      "metadata": {
        "id": "gXsn6iKbK0JI",
        "colab": {
          "base_uri": "https://localhost:8080/"
        },
        "outputId": "852d4ec5-c7a4-4c54-d018-1a69f4c6e7ae"
      },
      "execution_count": 38,
      "outputs": [
        {
          "output_type": "execute_result",
          "data": {
            "text/plain": [
              "array([0, 0, 0, ..., 0, 0, 0], dtype=int32)"
            ]
          },
          "metadata": {},
          "execution_count": 38
        }
      ]
    },
    {
      "cell_type": "markdown",
      "source": [
        "### Evaluation"
      ],
      "metadata": {
        "id": "T3HTTLi4e7_L"
      }
    },
    {
      "cell_type": "markdown",
      "source": [
        "#### Accuracy score "
      ],
      "metadata": {
        "id": "KJdrOYFfr4qK"
      }
    },
    {
      "cell_type": "code",
      "source": [
        "# check how many of the samples were correctly labeled\n",
        "correct_labels = sum(labels_true == labels_pred)\n",
        "\n",
        "print(\"Result: %d out of %d samples were correctly labeled.\" % (correct_labels, labels_true.size))"
      ],
      "metadata": {
        "id": "dBp9g8C7d6Sg",
        "colab": {
          "base_uri": "https://localhost:8080/"
        },
        "outputId": "9d344b0b-172e-47eb-913a-f5c8db21f337"
      },
      "execution_count": 39,
      "outputs": [
        {
          "output_type": "stream",
          "name": "stdout",
          "text": [
            "Result: 51500 out of 79159 samples were correctly labeled.\n"
          ]
        }
      ]
    },
    {
      "cell_type": "code",
      "source": [
        "print('Accuracy score: {0:0.2f}'. format(correct_labels/float(labels_true.size)))"
      ],
      "metadata": {
        "id": "lBopOa30d-PP",
        "colab": {
          "base_uri": "https://localhost:8080/"
        },
        "outputId": "a6467acb-5a98-41a3-a82e-2515ab37b1f4"
      },
      "execution_count": 40,
      "outputs": [
        {
          "output_type": "stream",
          "name": "stdout",
          "text": [
            "Accuracy score: 0.65\n"
          ]
        }
      ]
    },
    {
      "cell_type": "markdown",
      "source": [
        "#### Classification report "
      ],
      "metadata": {
        "id": "HqyHYh5NsT7k"
      }
    },
    {
      "cell_type": "code",
      "source": [
        "print(classification_report(df['Cluster'],kmeans.labels_))"
      ],
      "metadata": {
        "colab": {
          "base_uri": "https://localhost:8080/"
        },
        "id": "Vf8eAl2esVay",
        "outputId": "88442b39-2df3-4e97-99ba-ea32b8c8d7ae"
      },
      "execution_count": 41,
      "outputs": [
        {
          "output_type": "stream",
          "name": "stdout",
          "text": [
            "              precision    recall  f1-score   support\n",
            "\n",
            "           0       0.67      0.89      0.77     51007\n",
            "           1       0.52      0.21      0.30     28152\n",
            "\n",
            "    accuracy                           0.65     79159\n",
            "   macro avg       0.60      0.55      0.53     79159\n",
            "weighted avg       0.62      0.65      0.60     79159\n",
            "\n"
          ]
        }
      ]
    },
    {
      "cell_type": "markdown",
      "source": [
        "#### Confusion matrix "
      ],
      "metadata": {
        "id": "Vaq7WN2Lr9m8"
      }
    },
    {
      "cell_type": "code",
      "source": [
        "cnf_matrix = confusion_matrix(df['Cluster'],kmeans.labels_)\n",
        "\n",
        "%matplotlib inline\n",
        "class_names=[False, True] # name  of classes\n",
        "fig, ax = plt.subplots(figsize=(7, 6))\n",
        "sns.heatmap(pd.DataFrame(cnf_matrix), annot=True, cmap=\"YlGnBu\", fmt='g')\n",
        "ax.xaxis.set_label_position(\"top\")\n",
        "plt.tight_layout()\n",
        "plt.title('Confusion matrix')\n",
        "plt.ylabel('Actual label')\n",
        "plt.xlabel('Predicted label')\n",
        "tick_marks = [0.5, 1.5]\n",
        "plt.xticks(tick_marks, class_names)\n",
        "plt.yticks(tick_marks, class_names)"
      ],
      "metadata": {
        "id": "aktLDfM_pAVT",
        "colab": {
          "base_uri": "https://localhost:8080/",
          "height": 0
        },
        "outputId": "63c3efa4-efc6-4c42-bd8f-72cf1671a809"
      },
      "execution_count": 42,
      "outputs": [
        {
          "output_type": "execute_result",
          "data": {
            "text/plain": [
              "([<matplotlib.axis.YTick at 0x7f790fda0150>,\n",
              "  <matplotlib.axis.YTick at 0x7f790fd5fa90>],\n",
              " [Text(0, 0.5, 'False'), Text(0, 1.5, 'True')])"
            ]
          },
          "metadata": {},
          "execution_count": 42
        },
        {
          "output_type": "display_data",
          "data": {
            "text/plain": [
              "<Figure size 504x432 with 2 Axes>"
            ],
            "image/png": "[encoded data removed]"
          },
          "metadata": {
            "needs_background": "light"
          }
        }
      ]
    },
    {
      "cell_type": "markdown",
      "source": [
        "#### Adjusted rand score"
      ],
      "metadata": {
        "id": "_iSdU1W9j57M"
      }
    },
    {
      "cell_type": "code",
      "source": [
        "score = adjusted_rand_score(labels_true, labels_pred)\n",
        "score"
      ],
      "metadata": {
        "id": "AcVtM-QyhKmA",
        "colab": {
          "base_uri": "https://localhost:8080/"
        },
        "outputId": "39e0f2de-3a84-4eac-cc39-ce20da3d2687"
      },
      "execution_count": 43,
      "outputs": [
        {
          "output_type": "execute_result",
          "data": {
            "text/plain": [
              "0.0503435265244196"
            ]
          },
          "metadata": {},
          "execution_count": 43
        }
      ]
    },
    {
      "cell_type": "markdown",
      "source": [
        "#### Adjusted mutual info score"
      ],
      "metadata": {
        "id": "V9M1riaHj8Q9"
      }
    },
    {
      "cell_type": "code",
      "source": [
        "score = adjusted_mutual_info_score(labels_true, labels_pred)\n",
        "score"
      ],
      "metadata": {
        "id": "srC1slB6hO3I",
        "colab": {
          "base_uri": "https://localhost:8080/"
        },
        "outputId": "7851e1dd-0ec3-468f-f79b-f743bb94fffd"
      },
      "execution_count": 44,
      "outputs": [
        {
          "output_type": "execute_result",
          "data": {
            "text/plain": [
              "0.01820162584823436"
            ]
          },
          "metadata": {},
          "execution_count": 44
        }
      ]
    },
    {
      "cell_type": "markdown",
      "source": [
        "# Visualization"
      ],
      "metadata": {
        "id": "pSKNAqEBqzzp"
      }
    },
    {
      "cell_type": "code",
      "source": [
        "tsne = TSNE(verbose = 1, perplexity = 50)\n",
        "Y = tsne.fit_transform(X)"
      ],
      "metadata": {
        "id": "Hq3X3xsgFoUd",
        "colab": {
          "base_uri": "https://localhost:8080/"
        },
        "outputId": "1c8997f1-6c54-4a88-a970-7907dc56a392"
      },
      "execution_count": 45,
      "outputs": [
        {
          "output_type": "stream",
          "name": "stderr",
          "text": [
            "/usr/local/lib/python3.7/dist-packages/sklearn/manifold/_t_sne.py:783: FutureWarning: The default initialization in TSNE will change from 'random' to 'pca' in 1.2.\n",
            "  FutureWarning,\n",
            "/usr/local/lib/python3.7/dist-packages/sklearn/manifold/_t_sne.py:793: FutureWarning: The default learning rate in TSNE will change from 200.0 to 'auto' in 1.2.\n",
            "  FutureWarning,\n"
          ]
        },
        {
          "output_type": "stream",
          "name": "stdout",
          "text": [
            "[t-SNE] Computing 151 nearest neighbors...\n",
            "[t-SNE] Indexed 79159 samples in 0.032s...\n",
            "[t-SNE] Computed neighbors for 79159 samples in 1.793s...\n",
            "[t-SNE] Computed conditional probabilities for sample 1000 / 79159\n",
            "[t-SNE] Computed conditional probabilities for sample 2000 / 79159\n",
            "[t-SNE] Computed conditional probabilities for sample 3000 / 79159\n",
            "[t-SNE] Computed conditional probabilities for sample 4000 / 79159\n",
            "[t-SNE] Computed conditional probabilities for sample 5000 / 79159\n",
            "[t-SNE] Computed conditional probabilities for sample 6000 / 79159\n",
            "[t-SNE] Computed conditional probabilities for sample 7000 / 79159\n",
            "[t-SNE] Computed conditional probabilities for sample 8000 / 79159\n",
            "[t-SNE] Computed conditional probabilities for sample 9000 / 79159\n",
            "[t-SNE] Computed conditional probabilities for sample 10000 / 79159\n",
            "[t-SNE] Computed conditional probabilities for sample 11000 / 79159\n",
            "[t-SNE] Computed conditional probabilities for sample 12000 / 79159\n",
            "[t-SNE] Computed conditional probabilities for sample 13000 / 79159\n",
            "[t-SNE] Computed conditional probabilities for sample 14000 / 79159\n",
            "[t-SNE] Computed conditional probabilities for sample 15000 / 79159\n",
            "[t-SNE] Computed conditional probabilities for sample 16000 / 79159\n",
            "[t-SNE] Computed conditional probabilities for sample 17000 / 79159\n",
            "[t-SNE] Computed conditional probabilities for sample 18000 / 79159\n",
            "[t-SNE] Computed conditional probabilities for sample 19000 / 79159\n",
            "[t-SNE] Computed conditional probabilities for sample 20000 / 79159\n",
            "[t-SNE] Computed conditional probabilities for sample 21000 / 79159\n",
            "[t-SNE] Computed conditional probabilities for sample 22000 / 79159\n",
            "[t-SNE] Computed conditional probabilities for sample 23000 / 79159\n",
            "[t-SNE] Computed conditional probabilities for sample 24000 / 79159\n",
            "[t-SNE] Computed conditional probabilities for sample 25000 / 79159\n",
            "[t-SNE] Computed conditional probabilities for sample 26000 / 79159\n",
            "[t-SNE] Computed conditional probabilities for sample 27000 / 79159\n",
            "[t-SNE] Computed conditional probabilities for sample 28000 / 79159\n",
            "[t-SNE] Computed conditional probabilities for sample 29000 / 79159\n",
            "[t-SNE] Computed conditional probabilities for sample 30000 / 79159\n",
            "[t-SNE] Computed conditional probabilities for sample 31000 / 79159\n",
            "[t-SNE] Computed conditional probabilities for sample 32000 / 79159\n",
            "[t-SNE] Computed conditional probabilities for sample 33000 / 79159\n",
            "[t-SNE] Computed conditional probabilities for sample 34000 / 79159\n",
            "[t-SNE] Computed conditional probabilities for sample 35000 / 79159\n",
            "[t-SNE] Computed conditional probabilities for sample 36000 / 79159\n",
            "[t-SNE] Computed conditional probabilities for sample 37000 / 79159\n",
            "[t-SNE] Computed conditional probabilities for sample 38000 / 79159\n",
            "[t-SNE] Computed conditional probabilities for sample 39000 / 79159\n",
            "[t-SNE] Computed conditional probabilities for sample 40000 / 79159\n",
            "[t-SNE] Computed conditional probabilities for sample 41000 / 79159\n",
            "[t-SNE] Computed conditional probabilities for sample 42000 / 79159\n",
            "[t-SNE] Computed conditional probabilities for sample 43000 / 79159\n",
            "[t-SNE] Computed conditional probabilities for sample 44000 / 79159\n",
            "[t-SNE] Computed conditional probabilities for sample 45000 / 79159\n",
            "[t-SNE] Computed conditional probabilities for sample 46000 / 79159\n",
            "[t-SNE] Computed conditional probabilities for sample 47000 / 79159\n",
            "[t-SNE] Computed conditional probabilities for sample 48000 / 79159\n",
            "[t-SNE] Computed conditional probabilities for sample 49000 / 79159\n",
            "[t-SNE] Computed conditional probabilities for sample 50000 / 79159\n",
            "[t-SNE] Computed conditional probabilities for sample 51000 / 79159\n",
            "[t-SNE] Computed conditional probabilities for sample 52000 / 79159\n",
            "[t-SNE] Computed conditional probabilities for sample 53000 / 79159\n",
            "[t-SNE] Computed conditional probabilities for sample 54000 / 79159\n",
            "[t-SNE] Computed conditional probabilities for sample 55000 / 79159\n",
            "[t-SNE] Computed conditional probabilities for sample 56000 / 79159\n",
            "[t-SNE] Computed conditional probabilities for sample 57000 / 79159\n",
            "[t-SNE] Computed conditional probabilities for sample 58000 / 79159\n",
            "[t-SNE] Computed conditional probabilities for sample 59000 / 79159\n",
            "[t-SNE] Computed conditional probabilities for sample 60000 / 79159\n",
            "[t-SNE] Computed conditional probabilities for sample 61000 / 79159\n",
            "[t-SNE] Computed conditional probabilities for sample 62000 / 79159\n",
            "[t-SNE] Computed conditional probabilities for sample 63000 / 79159\n",
            "[t-SNE] Computed conditional probabilities for sample 64000 / 79159\n",
            "[t-SNE] Computed conditional probabilities for sample 65000 / 79159\n",
            "[t-SNE] Computed conditional probabilities for sample 66000 / 79159\n",
            "[t-SNE] Computed conditional probabilities for sample 67000 / 79159\n",
            "[t-SNE] Computed conditional probabilities for sample 68000 / 79159\n",
            "[t-SNE] Computed conditional probabilities for sample 69000 / 79159\n",
            "[t-SNE] Computed conditional probabilities for sample 70000 / 79159\n",
            "[t-SNE] Computed conditional probabilities for sample 71000 / 79159\n",
            "[t-SNE] Computed conditional probabilities for sample 72000 / 79159\n",
            "[t-SNE] Computed conditional probabilities for sample 73000 / 79159\n",
            "[t-SNE] Computed conditional probabilities for sample 74000 / 79159\n",
            "[t-SNE] Computed conditional probabilities for sample 75000 / 79159\n",
            "[t-SNE] Computed conditional probabilities for sample 76000 / 79159\n",
            "[t-SNE] Computed conditional probabilities for sample 77000 / 79159\n",
            "[t-SNE] Computed conditional probabilities for sample 78000 / 79159\n",
            "[t-SNE] Computed conditional probabilities for sample 79000 / 79159\n",
            "[t-SNE] Computed conditional probabilities for sample 79159 / 79159\n",
            "[t-SNE] Mean sigma: 0.022327\n",
            "[t-SNE] KL divergence after 250 iterations with early exaggeration: 85.994812\n",
            "[t-SNE] KL divergence after 1000 iterations: 1.902552\n"
          ]
        }
      ]
    },
    {
      "cell_type": "code",
      "source": [
        "f, (ax1, ax2) = plt.subplots(1, 2, sharey=True)\n",
        "\n",
        "ax1.scatter(Y[:,0],Y[:,1],  c=labels_pred, edgecolor = \"None\")\n",
        "ax1.set_title('k-means clustering plot')\n",
        "\n",
        "ax2.scatter(Y[:,0],Y[:,1],  c = df[\"diabetes_mellitus\"], edgecolor = \"None\")\n",
        "ax2.set_title('Actual clusters')"
      ],
      "metadata": {
        "id": "5AXG1wogFnwE",
        "colab": {
          "base_uri": "https://localhost:8080/",
          "height": 298
        },
        "outputId": "6bceb002-cd85-4465-fd30-c3a5c1f06217"
      },
      "execution_count": 46,
      "outputs": [
        {
          "output_type": "execute_result",
          "data": {
            "text/plain": [
              "Text(0.5, 1.0, 'Actual clusters')"
            ]
          },
          "metadata": {},
          "execution_count": 46
        },
        {
          "output_type": "display_data",
          "data": {
            "text/plain": [
              "<Figure size 432x288 with 2 Axes>"
            ],
            "image/png": "[encoded data removed]"
          },
          "metadata": {
            "needs_background": "light"
          }
        }
      ]
    }
  ],
  "metadata": {
    "colab": {
      "provenance": [],
      "include_colab_link": true
    },
    "kernelspec": {
      "display_name": "Python 3",
      "name": "python3"
    },
    "language_info": {
      "name": "python"
    }
  },
  "nbformat": 4,
  "nbformat_minor": 0
}