{
  "nbformat": 4,
  "nbformat_minor": 0,
  "metadata": {
    "colab": {
      "provenance": [],
      "toc_visible": true,
      "mount_file_id": "1Hrx1A-3Jt7DJSbMSOPgaZNNOpanWlWp8",
      "authorship_tag": "ABX9TyOKhgspYPiVKwzZH8PVo9IS",
      "include_colab_link": true
    },
    "kernelspec": {
      "name": "python3",
      "display_name": "Python 3"
    },
    "language_info": {
      "name": "python"
    }
  },
  "cells": [
    {
      "cell_type": "markdown",
      "metadata": {
        "id": "view-in-github",
        "colab_type": "text"
      },
      "source": [
        "<a href=\"https://colab.research.google.com/github/nicole-yoong/Portfolio/blob/main/Hypothesis_Testing/Python.ipynb\" target=\"_parent\"><img src=\"https://colab.research.google.com/assets/colab-badge.svg\" alt=\"Open In Colab\"/></a>"
      ]
    },
    {
      "cell_type": "markdown",
      "source": [
        "# Hypothesis Testing"
      ],
      "metadata": {
        "id": "js0f8EmVu0YB"
      }
    },
    {
      "cell_type": "markdown",
      "source": [
        "Hypothesis testing is an essential procedure in statistics. A hypothesis test evaluates two mutually exclusive statements about a population to determine which statement is best supported by the sample data. \n",
        "\n",
        "**Null hypothesis (H0):** There is no relationship between two measured phenomena, or no association among groups\n",
        "\n",
        "**Alternative hypothesis (H1):** There is relationship between two measured phenomena, or no association among groups\n",
        "\n",
        "**Level of significance (alpha):** Refers to the degree of significance in which we accept or reject the null-hypothesis. 100% accuracy is not possible for accepting or rejecting a hypothesis, so we therefore select a level of significance that is usually 5%.\n",
        "\n",
        "**P-value:** P value, or calculated probability, is the probability of finding the observed, or more extreme, results when the null hypothesis (H 0) of a study question is true — the definition of ‘extreme’ depends on how the hypothesis is being tested."
      ],
      "metadata": {
        "id": "tI_U93eFtdsM"
      }
    },
    {
      "cell_type": "markdown",
      "source": [
        "1. Statistical Test between One Continuous and another Categorical variable: T-test & Anova\n",
        "\n",
        "2. Statistical test between two Continous Variables: Pearson Correlation & Spearman Rank Correlation\n",
        "\n",
        "3. Statistical Test between Two Categorical variables: Chi-squared Test"
      ],
      "metadata": {
        "id": "fTKYGm_fvLLI"
      }
    },
    {
      "cell_type": "markdown",
      "source": [
        "# Exploratory Data Analysis"
      ],
      "metadata": {
        "id": "J1PQ4-eTvO07"
      }
    },
    {
      "cell_type": "markdown",
      "source": [
        "## Import modules"
      ],
      "metadata": {
        "id": "L4YnNTelxwl7"
      }
    },
    {
      "cell_type": "code",
      "execution_count": 1,
      "metadata": {
        "id": "YBnp6FlvSwn2"
      },
      "outputs": [],
      "source": [
        "import numpy as np \n",
        "import pandas as pd \n",
        "pd.plotting.register_matplotlib_converters()\n",
        "import matplotlib.pyplot as plt\n",
        "%matplotlib inline\n",
        "import seaborn as sns\n"
      ]
    },
    {
      "cell_type": "markdown",
      "source": [
        "## Read dataset"
      ],
      "metadata": {
        "id": "YGx8FKcxxyIF"
      }
    },
    {
      "cell_type": "code",
      "source": [
        "# x: length mm, y: width mm, z: depth mm\n",
        "df = pd.read_csv('/content/drive/MyDrive/Python/Case Studies/Datasets/diamonds.csv')\n",
        "df.head(5)"
      ],
      "metadata": {
        "colab": {
          "base_uri": "https://localhost:8080/",
          "height": 206
        },
        "id": "Uu-kCo_1an3N",
        "outputId": "be23d5e1-ba89-4b88-c1a5-e4fceac82e07"
      },
      "execution_count": 2,
      "outputs": [
        {
          "output_type": "execute_result",
          "data": {
            "text/plain": [
              "   Unnamed: 0  carat      cut color clarity  depth  table  price     x     y  \\\n",
              "0           1   0.23    Ideal     E     SI2   61.5   55.0    326  3.95  3.98   \n",
              "1           2   0.21  Premium     E     SI1   59.8   61.0    326  3.89  3.84   \n",
              "2           3   0.23     Good     E     VS1   56.9   65.0    327  4.05  4.07   \n",
              "3           4   0.29  Premium     I     VS2   62.4   58.0    334  4.20  4.23   \n",
              "4           5   0.31     Good     J     SI2   63.3   58.0    335  4.34  4.35   \n",
              "\n",
              "      z  \n",
              "0  2.43  \n",
              "1  2.31  \n",
              "2  2.31  \n",
              "3  2.63  \n",
              "4  2.75  "
            ],
            "text/html": [
              "\n",
              "  <div id=\"df-74e5366c-6463-4be8-b1ce-38b237aacf84\">\n",
              "    <div class=\"colab-df-container\">\n",
              "      <div>\n",
              "<style scoped>\n",
              "    .dataframe tbody tr th:only-of-type {\n",
              "        vertical-align: middle;\n",
              "    }\n",
              "\n",
              "    .dataframe tbody tr th {\n",
              "        vertical-align: top;\n",
              "    }\n",
              "\n",
              "    .dataframe thead th {\n",
              "        text-align: right;\n",
              "    }\n",
              "</style>\n",
              "<table border=\"1\" class=\"dataframe\">\n",
              "  <thead>\n",
              "    <tr style=\"text-align: right;\">\n",
              "      <th></th>\n",
              "      <th>Unnamed: 0</th>\n",
              "      <th>carat</th>\n",
              "      <th>cut</th>\n",
              "      <th>color</th>\n",
              "      <th>clarity</th>\n",
              "      <th>depth</th>\n",
              "      <th>table</th>\n",
              "      <th>price</th>\n",
              "      <th>x</th>\n",
              "      <th>y</th>\n",
              "      <th>z</th>\n",
              "    </tr>\n",
              "  </thead>\n",
              "  <tbody>\n",
              "    <tr>\n",
              "      <th>0</th>\n",
              "      <td>1</td>\n",
              "      <td>0.23</td>\n",
              "      <td>Ideal</td>\n",
              "      <td>E</td>\n",
              "      <td>SI2</td>\n",
              "      <td>61.5</td>\n",
              "      <td>55.0</td>\n",
              "      <td>326</td>\n",
              "      <td>3.95</td>\n",
              "      <td>3.98</td>\n",
              "      <td>2.43</td>\n",
              "    </tr>\n",
              "    <tr>\n",
              "      <th>1</th>\n",
              "      <td>2</td>\n",
              "      <td>0.21</td>\n",
              "      <td>Premium</td>\n",
              "      <td>E</td>\n",
              "      <td>SI1</td>\n",
              "      <td>59.8</td>\n",
              "      <td>61.0</td>\n",
              "      <td>326</td>\n",
              "      <td>3.89</td>\n",
              "      <td>3.84</td>\n",
              "      <td>2.31</td>\n",
              "    </tr>\n",
              "    <tr>\n",
              "      <th>2</th>\n",
              "      <td>3</td>\n",
              "      <td>0.23</td>\n",
              "      <td>Good</td>\n",
              "      <td>E</td>\n",
              "      <td>VS1</td>\n",
              "      <td>56.9</td>\n",
              "      <td>65.0</td>\n",
              "      <td>327</td>\n",
              "      <td>4.05</td>\n",
              "      <td>4.07</td>\n",
              "      <td>2.31</td>\n",
              "    </tr>\n",
              "    <tr>\n",
              "      <th>3</th>\n",
              "      <td>4</td>\n",
              "      <td>0.29</td>\n",
              "      <td>Premium</td>\n",
              "      <td>I</td>\n",
              "      <td>VS2</td>\n",
              "      <td>62.4</td>\n",
              "      <td>58.0</td>\n",
              "      <td>334</td>\n",
              "      <td>4.20</td>\n",
              "      <td>4.23</td>\n",
              "      <td>2.63</td>\n",
              "    </tr>\n",
              "    <tr>\n",
              "      <th>4</th>\n",
              "      <td>5</td>\n",
              "      <td>0.31</td>\n",
              "      <td>Good</td>\n",
              "      <td>J</td>\n",
              "      <td>SI2</td>\n",
              "      <td>63.3</td>\n",
              "      <td>58.0</td>\n",
              "      <td>335</td>\n",
              "      <td>4.34</td>\n",
              "      <td>4.35</td>\n",
              "      <td>2.75</td>\n",
              "    </tr>\n",
              "  </tbody>\n",
              "</table>\n",
              "</div>\n",
              "      <button class=\"colab-df-convert\" onclick=\"convertToInteractive('df-74e5366c-6463-4be8-b1ce-38b237aacf84')\"\n",
              "              title=\"Convert this dataframe to an interactive table.\"\n",
              "              style=\"display:none;\">\n",
              "        \n",
              "  <svg xmlns=\"http://www.w3.org/2000/svg\" height=\"24px\"viewBox=\"0 0 24 24\"\n",
              "       width=\"24px\">\n",
              "    <path d=\"M0 0h24v24H0V0z\" fill=\"none\"/>\n",
              "    <path d=\"M18.56 5.44l.94 2.06.94-2.06 2.06-.94-2.06-.94-.94-2.06-.94 2.06-2.06.94zm-11 1L8.5 8.5l.94-2.06 2.06-.94-2.06-.94L8.5 2.5l-.94 2.06-2.06.94zm10 10l.94 2.06.94-2.06 2.06-.94-2.06-.94-.94-2.06-.94 2.06-2.06.94z\"/><path d=\"M17.41 7.96l-1.37-1.37c-.4-.4-.92-.59-1.43-.59-.52 0-1.04.2-1.43.59L10.3 9.45l-7.72 7.72c-.78.78-.78 2.05 0 2.83L4 21.41c.39.39.9.59 1.41.59.51 0 1.02-.2 1.41-.59l7.78-7.78 2.81-2.81c.8-.78.8-2.07 0-2.86zM5.41 20L4 18.59l7.72-7.72 1.47 1.35L5.41 20z\"/>\n",
              "  </svg>\n",
              "      </button>\n",
              "      \n",
              "  <style>\n",
              "    .colab-df-container {\n",
              "      display:flex;\n",
              "      flex-wrap:wrap;\n",
              "      gap: 12px;\n",
              "    }\n",
              "\n",
              "    .colab-df-convert {\n",
              "      background-color: #E8F0FE;\n",
              "      border: none;\n",
              "      border-radius: 50%;\n",
              "      cursor: pointer;\n",
              "      display: none;\n",
              "      fill: #1967D2;\n",
              "      height: 32px;\n",
              "      padding: 0 0 0 0;\n",
              "      width: 32px;\n",
              "    }\n",
              "\n",
              "    .colab-df-convert:hover {\n",
              "      background-color: #E2EBFA;\n",
              "      box-shadow: 0px 1px 2px rgba(60, 64, 67, 0.3), 0px 1px 3px 1px rgba(60, 64, 67, 0.15);\n",
              "      fill: #174EA6;\n",
              "    }\n",
              "\n",
              "    [theme=dark] .colab-df-convert {\n",
              "      background-color: #3B4455;\n",
              "      fill: #D2E3FC;\n",
              "    }\n",
              "\n",
              "    [theme=dark] .colab-df-convert:hover {\n",
              "      background-color: #434B5C;\n",
              "      box-shadow: 0px 1px 3px 1px rgba(0, 0, 0, 0.15);\n",
              "      filter: drop-shadow(0px 1px 2px rgba(0, 0, 0, 0.3));\n",
              "      fill: #FFFFFF;\n",
              "    }\n",
              "  </style>\n",
              "\n",
              "      <script>\n",
              "        const buttonEl =\n",
              "          document.querySelector('#df-74e5366c-6463-4be8-b1ce-38b237aacf84 button.colab-df-convert');\n",
              "        buttonEl.style.display =\n",
              "          google.colab.kernel.accessAllowed ? 'block' : 'none';\n",
              "\n",
              "        async function convertToInteractive(key) {\n",
              "          const element = document.querySelector('#df-74e5366c-6463-4be8-b1ce-38b237aacf84');\n",
              "          const dataTable =\n",
              "            await google.colab.kernel.invokeFunction('convertToInteractive',\n",
              "                                                     [key], {});\n",
              "          if (!dataTable) return;\n",
              "\n",
              "          const docLinkHtml = 'Like what you see? Visit the ' +\n",
              "            '<a target=\"_blank\" href=https://colab.research.google.com/notebooks/data_table.ipynb>data table notebook</a>'\n",
              "            + ' to learn more about interactive tables.';\n",
              "          element.innerHTML = '';\n",
              "          dataTable['output_type'] = 'display_data';\n",
              "          await google.colab.output.renderOutput(dataTable, element);\n",
              "          const docLink = document.createElement('div');\n",
              "          docLink.innerHTML = docLinkHtml;\n",
              "          element.appendChild(docLink);\n",
              "        }\n",
              "      </script>\n",
              "    </div>\n",
              "  </div>\n",
              "  "
            ]
          },
          "metadata": {},
          "execution_count": 2
        }
      ]
    },
    {
      "cell_type": "code",
      "source": [
        "df.info()"
      ],
      "metadata": {
        "colab": {
          "base_uri": "https://localhost:8080/"
        },
        "id": "gtfPCGTbate0",
        "outputId": "283a89d2-503f-46b8-ec01-2bb3156f1995"
      },
      "execution_count": 3,
      "outputs": [
        {
          "output_type": "stream",
          "name": "stdout",
          "text": [
            "<class 'pandas.core.frame.DataFrame'>\n",
            "RangeIndex: 53940 entries, 0 to 53939\n",
            "Data columns (total 11 columns):\n",
            " #   Column      Non-Null Count  Dtype  \n",
            "---  ------      --------------  -----  \n",
            " 0   Unnamed: 0  53940 non-null  int64  \n",
            " 1   carat       53940 non-null  float64\n",
            " 2   cut         53940 non-null  object \n",
            " 3   color       53940 non-null  object \n",
            " 4   clarity     53940 non-null  object \n",
            " 5   depth       53940 non-null  float64\n",
            " 6   table       53940 non-null  float64\n",
            " 7   price       53940 non-null  int64  \n",
            " 8   x           53940 non-null  float64\n",
            " 9   y           53940 non-null  float64\n",
            " 10  z           53940 non-null  float64\n",
            "dtypes: float64(6), int64(2), object(3)\n",
            "memory usage: 4.5+ MB\n"
          ]
        }
      ]
    },
    {
      "cell_type": "code",
      "source": [
        "df.drop('Unnamed: 0', axis=1, inplace=True)"
      ],
      "metadata": {
        "id": "c9DTzM76a1nL"
      },
      "execution_count": 4,
      "outputs": []
    },
    {
      "cell_type": "code",
      "source": [
        "df.describe()"
      ],
      "metadata": {
        "colab": {
          "base_uri": "https://localhost:8080/",
          "height": 300
        },
        "id": "4TmH4L9vcDMG",
        "outputId": "75a97a9c-a32f-4fa5-afdf-cc0c29c2ec36"
      },
      "execution_count": 5,
      "outputs": [
        {
          "output_type": "execute_result",
          "data": {
            "text/plain": [
              "              carat         depth         table         price             x  \\\n",
              "count  53940.000000  53940.000000  53940.000000  53940.000000  53940.000000   \n",
              "mean       0.797940     61.749405     57.457184   3932.799722      5.731157   \n",
              "std        0.474011      1.432621      2.234491   3989.439738      1.121761   \n",
              "min        0.200000     43.000000     43.000000    326.000000      0.000000   \n",
              "25%        0.400000     61.000000     56.000000    950.000000      4.710000   \n",
              "50%        0.700000     61.800000     57.000000   2401.000000      5.700000   \n",
              "75%        1.040000     62.500000     59.000000   5324.250000      6.540000   \n",
              "max        5.010000     79.000000     95.000000  18823.000000     10.740000   \n",
              "\n",
              "                  y             z  \n",
              "count  53940.000000  53940.000000  \n",
              "mean       5.734526      3.538734  \n",
              "std        1.142135      0.705699  \n",
              "min        0.000000      0.000000  \n",
              "25%        4.720000      2.910000  \n",
              "50%        5.710000      3.530000  \n",
              "75%        6.540000      4.040000  \n",
              "max       58.900000     31.800000  "
            ],
            "text/html": [
              "\n",
              "  <div id=\"df-f11ae3ef-6db4-44a0-8a70-0a68b1cde22a\">\n",
              "    <div class=\"colab-df-container\">\n",
              "      <div>\n",
              "<style scoped>\n",
              "    .dataframe tbody tr th:only-of-type {\n",
              "        vertical-align: middle;\n",
              "    }\n",
              "\n",
              "    .dataframe tbody tr th {\n",
              "        vertical-align: top;\n",
              "    }\n",
              "\n",
              "    .dataframe thead th {\n",
              "        text-align: right;\n",
              "    }\n",
              "</style>\n",
              "<table border=\"1\" class=\"dataframe\">\n",
              "  <thead>\n",
              "    <tr style=\"text-align: right;\">\n",
              "      <th></th>\n",
              "      <th>carat</th>\n",
              "      <th>depth</th>\n",
              "      <th>table</th>\n",
              "      <th>price</th>\n",
              "      <th>x</th>\n",
              "      <th>y</th>\n",
              "      <th>z</th>\n",
              "    </tr>\n",
              "  </thead>\n",
              "  <tbody>\n",
              "    <tr>\n",
              "      <th>count</th>\n",
              "      <td>53940.000000</td>\n",
              "      <td>53940.000000</td>\n",
              "      <td>53940.000000</td>\n",
              "      <td>53940.000000</td>\n",
              "      <td>53940.000000</td>\n",
              "      <td>53940.000000</td>\n",
              "      <td>53940.000000</td>\n",
              "    </tr>\n",
              "    <tr>\n",
              "      <th>mean</th>\n",
              "      <td>0.797940</td>\n",
              "      <td>61.749405</td>\n",
              "      <td>57.457184</td>\n",
              "      <td>3932.799722</td>\n",
              "      <td>5.731157</td>\n",
              "      <td>5.734526</td>\n",
              "      <td>3.538734</td>\n",
              "    </tr>\n",
              "    <tr>\n",
              "      <th>std</th>\n",
              "      <td>0.474011</td>\n",
              "      <td>1.432621</td>\n",
              "      <td>2.234491</td>\n",
              "      <td>3989.439738</td>\n",
              "      <td>1.121761</td>\n",
              "      <td>1.142135</td>\n",
              "      <td>0.705699</td>\n",
              "    </tr>\n",
              "    <tr>\n",
              "      <th>min</th>\n",
              "      <td>0.200000</td>\n",
              "      <td>43.000000</td>\n",
              "      <td>43.000000</td>\n",
              "      <td>326.000000</td>\n",
              "      <td>0.000000</td>\n",
              "      <td>0.000000</td>\n",
              "      <td>0.000000</td>\n",
              "    </tr>\n",
              "    <tr>\n",
              "      <th>25%</th>\n",
              "      <td>0.400000</td>\n",
              "      <td>61.000000</td>\n",
              "      <td>56.000000</td>\n",
              "      <td>950.000000</td>\n",
              "      <td>4.710000</td>\n",
              "      <td>4.720000</td>\n",
              "      <td>2.910000</td>\n",
              "    </tr>\n",
              "    <tr>\n",
              "      <th>50%</th>\n",
              "      <td>0.700000</td>\n",
              "      <td>61.800000</td>\n",
              "      <td>57.000000</td>\n",
              "      <td>2401.000000</td>\n",
              "      <td>5.700000</td>\n",
              "      <td>5.710000</td>\n",
              "      <td>3.530000</td>\n",
              "    </tr>\n",
              "    <tr>\n",
              "      <th>75%</th>\n",
              "      <td>1.040000</td>\n",
              "      <td>62.500000</td>\n",
              "      <td>59.000000</td>\n",
              "      <td>5324.250000</td>\n",
              "      <td>6.540000</td>\n",
              "      <td>6.540000</td>\n",
              "      <td>4.040000</td>\n",
              "    </tr>\n",
              "    <tr>\n",
              "      <th>max</th>\n",
              "      <td>5.010000</td>\n",
              "      <td>79.000000</td>\n",
              "      <td>95.000000</td>\n",
              "      <td>18823.000000</td>\n",
              "      <td>10.740000</td>\n",
              "      <td>58.900000</td>\n",
              "      <td>31.800000</td>\n",
              "    </tr>\n",
              "  </tbody>\n",
              "</table>\n",
              "</div>\n",
              "      <button class=\"colab-df-convert\" onclick=\"convertToInteractive('df-f11ae3ef-6db4-44a0-8a70-0a68b1cde22a')\"\n",
              "              title=\"Convert this dataframe to an interactive table.\"\n",
              "              style=\"display:none;\">\n",
              "        \n",
              "  <svg xmlns=\"http://www.w3.org/2000/svg\" height=\"24px\"viewBox=\"0 0 24 24\"\n",
              "       width=\"24px\">\n",
              "    <path d=\"M0 0h24v24H0V0z\" fill=\"none\"/>\n",
              "    <path d=\"M18.56 5.44l.94 2.06.94-2.06 2.06-.94-2.06-.94-.94-2.06-.94 2.06-2.06.94zm-11 1L8.5 8.5l.94-2.06 2.06-.94-2.06-.94L8.5 2.5l-.94 2.06-2.06.94zm10 10l.94 2.06.94-2.06 2.06-.94-2.06-.94-.94-2.06-.94 2.06-2.06.94z\"/><path d=\"M17.41 7.96l-1.37-1.37c-.4-.4-.92-.59-1.43-.59-.52 0-1.04.2-1.43.59L10.3 9.45l-7.72 7.72c-.78.78-.78 2.05 0 2.83L4 21.41c.39.39.9.59 1.41.59.51 0 1.02-.2 1.41-.59l7.78-7.78 2.81-2.81c.8-.78.8-2.07 0-2.86zM5.41 20L4 18.59l7.72-7.72 1.47 1.35L5.41 20z\"/>\n",
              "  </svg>\n",
              "      </button>\n",
              "      \n",
              "  <style>\n",
              "    .colab-df-container {\n",
              "      display:flex;\n",
              "      flex-wrap:wrap;\n",
              "      gap: 12px;\n",
              "    }\n",
              "\n",
              "    .colab-df-convert {\n",
              "      background-color: #E8F0FE;\n",
              "      border: none;\n",
              "      border-radius: 50%;\n",
              "      cursor: pointer;\n",
              "      display: none;\n",
              "      fill: #1967D2;\n",
              "      height: 32px;\n",
              "      padding: 0 0 0 0;\n",
              "      width: 32px;\n",
              "    }\n",
              "\n",
              "    .colab-df-convert:hover {\n",
              "      background-color: #E2EBFA;\n",
              "      box-shadow: 0px 1px 2px rgba(60, 64, 67, 0.3), 0px 1px 3px 1px rgba(60, 64, 67, 0.15);\n",
              "      fill: #174EA6;\n",
              "    }\n",
              "\n",
              "    [theme=dark] .colab-df-convert {\n",
              "      background-color: #3B4455;\n",
              "      fill: #D2E3FC;\n",
              "    }\n",
              "\n",
              "    [theme=dark] .colab-df-convert:hover {\n",
              "      background-color: #434B5C;\n",
              "      box-shadow: 0px 1px 3px 1px rgba(0, 0, 0, 0.15);\n",
              "      filter: drop-shadow(0px 1px 2px rgba(0, 0, 0, 0.3));\n",
              "      fill: #FFFFFF;\n",
              "    }\n",
              "  </style>\n",
              "\n",
              "      <script>\n",
              "        const buttonEl =\n",
              "          document.querySelector('#df-f11ae3ef-6db4-44a0-8a70-0a68b1cde22a button.colab-df-convert');\n",
              "        buttonEl.style.display =\n",
              "          google.colab.kernel.accessAllowed ? 'block' : 'none';\n",
              "\n",
              "        async function convertToInteractive(key) {\n",
              "          const element = document.querySelector('#df-f11ae3ef-6db4-44a0-8a70-0a68b1cde22a');\n",
              "          const dataTable =\n",
              "            await google.colab.kernel.invokeFunction('convertToInteractive',\n",
              "                                                     [key], {});\n",
              "          if (!dataTable) return;\n",
              "\n",
              "          const docLinkHtml = 'Like what you see? Visit the ' +\n",
              "            '<a target=\"_blank\" href=https://colab.research.google.com/notebooks/data_table.ipynb>data table notebook</a>'\n",
              "            + ' to learn more about interactive tables.';\n",
              "          element.innerHTML = '';\n",
              "          dataTable['output_type'] = 'display_data';\n",
              "          await google.colab.output.renderOutput(dataTable, element);\n",
              "          const docLink = document.createElement('div');\n",
              "          docLink.innerHTML = docLinkHtml;\n",
              "          element.appendChild(docLink);\n",
              "        }\n",
              "      </script>\n",
              "    </div>\n",
              "  </div>\n",
              "  "
            ]
          },
          "metadata": {},
          "execution_count": 5
        }
      ]
    },
    {
      "cell_type": "code",
      "source": [
        "df = df.drop(df[df[\"x\"]==0].index)\n",
        "df = df.drop(df[df[\"y\"]==0].index)\n",
        "df = df.drop(df[df[\"z\"]==0].index)\n",
        "df.shape"
      ],
      "metadata": {
        "colab": {
          "base_uri": "https://localhost:8080/"
        },
        "id": "XpqElL03dew-",
        "outputId": "251cc43a-172d-4662-ff4e-1790de3abf44"
      },
      "execution_count": 6,
      "outputs": [
        {
          "output_type": "execute_result",
          "data": {
            "text/plain": [
              "(53920, 10)"
            ]
          },
          "metadata": {},
          "execution_count": 6
        }
      ]
    },
    {
      "cell_type": "code",
      "source": [
        "df.describe()"
      ],
      "metadata": {
        "colab": {
          "base_uri": "https://localhost:8080/",
          "height": 300
        },
        "id": "YeQLgocFdtGJ",
        "outputId": "ba34f0f6-1382-4e00-c43e-0cd3de3a0b00"
      },
      "execution_count": 7,
      "outputs": [
        {
          "output_type": "execute_result",
          "data": {
            "text/plain": [
              "              carat         depth         table         price             x  \\\n",
              "count  53920.000000  53920.000000  53920.000000  53920.000000  53920.000000   \n",
              "mean       0.797698     61.749514     57.456834   3930.993231      5.731627   \n",
              "std        0.473795      1.432331      2.234064   3987.280446      1.119423   \n",
              "min        0.200000     43.000000     43.000000    326.000000      3.730000   \n",
              "25%        0.400000     61.000000     56.000000    949.000000      4.710000   \n",
              "50%        0.700000     61.800000     57.000000   2401.000000      5.700000   \n",
              "75%        1.040000     62.500000     59.000000   5323.250000      6.540000   \n",
              "max        5.010000     79.000000     95.000000  18823.000000     10.740000   \n",
              "\n",
              "                  y             z  \n",
              "count  53920.000000  53920.000000  \n",
              "mean       5.734887      3.540046  \n",
              "std        1.140126      0.702530  \n",
              "min        3.680000      1.070000  \n",
              "25%        4.720000      2.910000  \n",
              "50%        5.710000      3.530000  \n",
              "75%        6.540000      4.040000  \n",
              "max       58.900000     31.800000  "
            ],
            "text/html": [
              "\n",
              "  <div id=\"df-68046105-c848-4b46-a097-f5b5c88d8d32\">\n",
              "    <div class=\"colab-df-container\">\n",
              "      <div>\n",
              "<style scoped>\n",
              "    .dataframe tbody tr th:only-of-type {\n",
              "        vertical-align: middle;\n",
              "    }\n",
              "\n",
              "    .dataframe tbody tr th {\n",
              "        vertical-align: top;\n",
              "    }\n",
              "\n",
              "    .dataframe thead th {\n",
              "        text-align: right;\n",
              "    }\n",
              "</style>\n",
              "<table border=\"1\" class=\"dataframe\">\n",
              "  <thead>\n",
              "    <tr style=\"text-align: right;\">\n",
              "      <th></th>\n",
              "      <th>carat</th>\n",
              "      <th>depth</th>\n",
              "      <th>table</th>\n",
              "      <th>price</th>\n",
              "      <th>x</th>\n",
              "      <th>y</th>\n",
              "      <th>z</th>\n",
              "    </tr>\n",
              "  </thead>\n",
              "  <tbody>\n",
              "    <tr>\n",
              "      <th>count</th>\n",
              "      <td>53920.000000</td>\n",
              "      <td>53920.000000</td>\n",
              "      <td>53920.000000</td>\n",
              "      <td>53920.000000</td>\n",
              "      <td>53920.000000</td>\n",
              "      <td>53920.000000</td>\n",
              "      <td>53920.000000</td>\n",
              "    </tr>\n",
              "    <tr>\n",
              "      <th>mean</th>\n",
              "      <td>0.797698</td>\n",
              "      <td>61.749514</td>\n",
              "      <td>57.456834</td>\n",
              "      <td>3930.993231</td>\n",
              "      <td>5.731627</td>\n",
              "      <td>5.734887</td>\n",
              "      <td>3.540046</td>\n",
              "    </tr>\n",
              "    <tr>\n",
              "      <th>std</th>\n",
              "      <td>0.473795</td>\n",
              "      <td>1.432331</td>\n",
              "      <td>2.234064</td>\n",
              "      <td>3987.280446</td>\n",
              "      <td>1.119423</td>\n",
              "      <td>1.140126</td>\n",
              "      <td>0.702530</td>\n",
              "    </tr>\n",
              "    <tr>\n",
              "      <th>min</th>\n",
              "      <td>0.200000</td>\n",
              "      <td>43.000000</td>\n",
              "      <td>43.000000</td>\n",
              "      <td>326.000000</td>\n",
              "      <td>3.730000</td>\n",
              "      <td>3.680000</td>\n",
              "      <td>1.070000</td>\n",
              "    </tr>\n",
              "    <tr>\n",
              "      <th>25%</th>\n",
              "      <td>0.400000</td>\n",
              "      <td>61.000000</td>\n",
              "      <td>56.000000</td>\n",
              "      <td>949.000000</td>\n",
              "      <td>4.710000</td>\n",
              "      <td>4.720000</td>\n",
              "      <td>2.910000</td>\n",
              "    </tr>\n",
              "    <tr>\n",
              "      <th>50%</th>\n",
              "      <td>0.700000</td>\n",
              "      <td>61.800000</td>\n",
              "      <td>57.000000</td>\n",
              "      <td>2401.000000</td>\n",
              "      <td>5.700000</td>\n",
              "      <td>5.710000</td>\n",
              "      <td>3.530000</td>\n",
              "    </tr>\n",
              "    <tr>\n",
              "      <th>75%</th>\n",
              "      <td>1.040000</td>\n",
              "      <td>62.500000</td>\n",
              "      <td>59.000000</td>\n",
              "      <td>5323.250000</td>\n",
              "      <td>6.540000</td>\n",
              "      <td>6.540000</td>\n",
              "      <td>4.040000</td>\n",
              "    </tr>\n",
              "    <tr>\n",
              "      <th>max</th>\n",
              "      <td>5.010000</td>\n",
              "      <td>79.000000</td>\n",
              "      <td>95.000000</td>\n",
              "      <td>18823.000000</td>\n",
              "      <td>10.740000</td>\n",
              "      <td>58.900000</td>\n",
              "      <td>31.800000</td>\n",
              "    </tr>\n",
              "  </tbody>\n",
              "</table>\n",
              "</div>\n",
              "      <button class=\"colab-df-convert\" onclick=\"convertToInteractive('df-68046105-c848-4b46-a097-f5b5c88d8d32')\"\n",
              "              title=\"Convert this dataframe to an interactive table.\"\n",
              "              style=\"display:none;\">\n",
              "        \n",
              "  <svg xmlns=\"http://www.w3.org/2000/svg\" height=\"24px\"viewBox=\"0 0 24 24\"\n",
              "       width=\"24px\">\n",
              "    <path d=\"M0 0h24v24H0V0z\" fill=\"none\"/>\n",
              "    <path d=\"M18.56 5.44l.94 2.06.94-2.06 2.06-.94-2.06-.94-.94-2.06-.94 2.06-2.06.94zm-11 1L8.5 8.5l.94-2.06 2.06-.94-2.06-.94L8.5 2.5l-.94 2.06-2.06.94zm10 10l.94 2.06.94-2.06 2.06-.94-2.06-.94-.94-2.06-.94 2.06-2.06.94z\"/><path d=\"M17.41 7.96l-1.37-1.37c-.4-.4-.92-.59-1.43-.59-.52 0-1.04.2-1.43.59L10.3 9.45l-7.72 7.72c-.78.78-.78 2.05 0 2.83L4 21.41c.39.39.9.59 1.41.59.51 0 1.02-.2 1.41-.59l7.78-7.78 2.81-2.81c.8-.78.8-2.07 0-2.86zM5.41 20L4 18.59l7.72-7.72 1.47 1.35L5.41 20z\"/>\n",
              "  </svg>\n",
              "      </button>\n",
              "      \n",
              "  <style>\n",
              "    .colab-df-container {\n",
              "      display:flex;\n",
              "      flex-wrap:wrap;\n",
              "      gap: 12px;\n",
              "    }\n",
              "\n",
              "    .colab-df-convert {\n",
              "      background-color: #E8F0FE;\n",
              "      border: none;\n",
              "      border-radius: 50%;\n",
              "      cursor: pointer;\n",
              "      display: none;\n",
              "      fill: #1967D2;\n",
              "      height: 32px;\n",
              "      padding: 0 0 0 0;\n",
              "      width: 32px;\n",
              "    }\n",
              "\n",
              "    .colab-df-convert:hover {\n",
              "      background-color: #E2EBFA;\n",
              "      box-shadow: 0px 1px 2px rgba(60, 64, 67, 0.3), 0px 1px 3px 1px rgba(60, 64, 67, 0.15);\n",
              "      fill: #174EA6;\n",
              "    }\n",
              "\n",
              "    [theme=dark] .colab-df-convert {\n",
              "      background-color: #3B4455;\n",
              "      fill: #D2E3FC;\n",
              "    }\n",
              "\n",
              "    [theme=dark] .colab-df-convert:hover {\n",
              "      background-color: #434B5C;\n",
              "      box-shadow: 0px 1px 3px 1px rgba(0, 0, 0, 0.15);\n",
              "      filter: drop-shadow(0px 1px 2px rgba(0, 0, 0, 0.3));\n",
              "      fill: #FFFFFF;\n",
              "    }\n",
              "  </style>\n",
              "\n",
              "      <script>\n",
              "        const buttonEl =\n",
              "          document.querySelector('#df-68046105-c848-4b46-a097-f5b5c88d8d32 button.colab-df-convert');\n",
              "        buttonEl.style.display =\n",
              "          google.colab.kernel.accessAllowed ? 'block' : 'none';\n",
              "\n",
              "        async function convertToInteractive(key) {\n",
              "          const element = document.querySelector('#df-68046105-c848-4b46-a097-f5b5c88d8d32');\n",
              "          const dataTable =\n",
              "            await google.colab.kernel.invokeFunction('convertToInteractive',\n",
              "                                                     [key], {});\n",
              "          if (!dataTable) return;\n",
              "\n",
              "          const docLinkHtml = 'Like what you see? Visit the ' +\n",
              "            '<a target=\"_blank\" href=https://colab.research.google.com/notebooks/data_table.ipynb>data table notebook</a>'\n",
              "            + ' to learn more about interactive tables.';\n",
              "          element.innerHTML = '';\n",
              "          dataTable['output_type'] = 'display_data';\n",
              "          await google.colab.output.renderOutput(dataTable, element);\n",
              "          const docLink = document.createElement('div');\n",
              "          docLink.innerHTML = docLinkHtml;\n",
              "          element.appendChild(docLink);\n",
              "        }\n",
              "      </script>\n",
              "    </div>\n",
              "  </div>\n",
              "  "
            ]
          },
          "metadata": {},
          "execution_count": 7
        }
      ]
    },
    {
      "cell_type": "markdown",
      "source": [
        "Min value of “x”, “y”, “z” are zero this indicates that there are faulty values in data that represents dimensionless or 2-dimensional diamonds. So we need to filter out those as it clearly faulty data points"
      ],
      "metadata": {
        "id": "P6q3ce6BvhVD"
      }
    },
    {
      "cell_type": "markdown",
      "source": [
        "## Correlation"
      ],
      "metadata": {
        "id": "rBvew4HDccVM"
      }
    },
    {
      "cell_type": "code",
      "source": [
        "plt.figure(figsize=(25,10))\n",
        "sns.heatmap(df.corr(), annot=True, linewidths=.5, fmt= '.1f')"
      ],
      "metadata": {
        "colab": {
          "base_uri": "https://localhost:8080/",
          "height": 612
        },
        "id": "uC6L4mUJbBas",
        "outputId": "8cbf54f2-1e99-4460-da91-ba26db6da315"
      },
      "execution_count": 8,
      "outputs": [
        {
          "output_type": "execute_result",
          "data": {
            "text/plain": [
              "<matplotlib.axes._subplots.AxesSubplot at 0x7f3c9b447c10>"
            ]
          },
          "metadata": {},
          "execution_count": 8
        },
        {
          "output_type": "display_data",
          "data": {
            "text/plain": [
              "<Figure size 1800x720 with 2 Axes>"
            ],
            "image/png": "[encoded data removed]"
          },
          "metadata": {
            "needs_background": "light"
          }
        }
      ]
    },
    {
      "cell_type": "markdown",
      "source": [
        "## Regression Red plot"
      ],
      "metadata": {
        "id": "ZsAwR6GycfHL"
      }
    },
    {
      "cell_type": "code",
      "source": [
        "X = df.loc[:, ~df.columns.isin(['price'])].select_dtypes(exclude='object').columns.to_list()\n",
        "j = 0\n",
        "fig = plt.figure(figsize = (25,10))\n",
        "fig.tight_layout(h_pad = 2)\n",
        "\n",
        "plt.suptitle(\"Regression\", size = 20)\n",
        "plt.subplots_adjust(top = 1.5)\n",
        "\n",
        "for i in X:\n",
        "    ax=plt.subplot(331+j)\n",
        "    ax=sns.regplot(data = df, x = i, y='price', color = '#003f5c', line_kws={'color':'#d45087'})\n",
        "    ax.set_title(\"Price and {} comparision analysis\".format(i), size = 12)\n",
        "    for s in ['left','right','top','bottom']:\n",
        "        ax.spines[s].set_visible(False)\n",
        "    \n",
        "    j=j+1\n",
        "    print\n",
        "print\n",
        "\n"
      ],
      "metadata": {
        "colab": {
          "base_uri": "https://localhost:8080/",
          "height": 735
        },
        "id": "gMn7JN5abTAl",
        "outputId": "cf0776dd-f3df-45a2-ebf3-a24f0d460898"
      },
      "execution_count": 9,
      "outputs": [
        {
          "output_type": "execute_result",
          "data": {
            "text/plain": [
              "<function print>"
            ]
          },
          "metadata": {},
          "execution_count": 9
        },
        {
          "output_type": "display_data",
          "data": {
            "text/plain": [
              "<Figure size 1800x720 with 6 Axes>"
            ],
            "image/png": "[encoded data removed]"
          },
          "metadata": {
            "needs_background": "light"
          }
        }
      ]
    },
    {
      "cell_type": "markdown",
      "source": [
        "## Outliers - Distribution Box plot"
      ],
      "metadata": {
        "id": "iWic14hmeDuM"
      }
    },
    {
      "cell_type": "code",
      "source": [
        "X = df.loc[:, ~df.columns.isin(['price'])].select_dtypes(exclude='object').columns.to_list()\n",
        "j = 0\n",
        "fig = plt.figure(figsize = (25,10))\n",
        "fig.tight_layout(h_pad = 2)\n",
        "\n",
        "plt.suptitle('Boxplot', size = 20)\n",
        "plt.subplots_adjust(top = 1.5)\n",
        "\n",
        "for i in X:\n",
        "    ax=plt.subplot(331+j)\n",
        "    ax=sns.boxplot(data = df, x = i, color = '#003f5c')\n",
        "    ax.set_title(\"Price and {} comparision analysis\".format(i), size = 12)\n",
        "    for s in ['left','right','top','bottom']:\n",
        "        ax.spines[s].set_visible(False)\n",
        "    \n",
        "    j=j+1"
      ],
      "metadata": {
        "colab": {
          "base_uri": "https://localhost:8080/",
          "height": 718
        },
        "id": "8j2Sw-MGeFd0",
        "outputId": "c9f7a96e-c534-4465-ae6a-942ef9e7d6bc"
      },
      "execution_count": 10,
      "outputs": [
        {
          "output_type": "display_data",
          "data": {
            "text/plain": [
              "<Figure size 1800x720 with 6 Axes>"
            ],
            "image/png": "[encoded data removed]"
          },
          "metadata": {
            "needs_background": "light"
          }
        }
      ]
    },
    {
      "cell_type": "markdown",
      "source": [
        "We can observe that there are outliers in the data, we need to examine the outliers to verify if it is extreme value or data error by looking into how the price is distributed. "
      ],
      "metadata": {
        "id": "k0GPuF4MvrM4"
      }
    },
    {
      "cell_type": "markdown",
      "source": [
        "## Examining Outliers"
      ],
      "metadata": {
        "id": "yy4dOWJyvtTu"
      }
    },
    {
      "cell_type": "code",
      "source": [
        "fig = plt.figure(figsize = (25,10))\n",
        "plt.title('Boxplot', size = 20)\n",
        "sns.boxplot(data = df, x = 'price', color = '#003f5c')"
      ],
      "metadata": {
        "colab": {
          "base_uri": "https://localhost:8080/",
          "height": 644
        },
        "id": "E62q8PQzeAJp",
        "outputId": "09540b9f-8420-427e-a491-d7024a5fd7f3"
      },
      "execution_count": 11,
      "outputs": [
        {
          "output_type": "execute_result",
          "data": {
            "text/plain": [
              "<matplotlib.axes._subplots.AxesSubplot at 0x7f3c97aadc10>"
            ]
          },
          "metadata": {},
          "execution_count": 11
        },
        {
          "output_type": "display_data",
          "data": {
            "text/plain": [
              "<Figure size 1800x720 with 1 Axes>"
            ],
            "image/png": "[encoded data removed]"
          },
          "metadata": {
            "needs_background": "light"
          }
        }
      ]
    },
    {
      "cell_type": "code",
      "source": [
        "fig=plt.figure(figsize=(25,10))\n",
        "fig.tight_layout(h_pad = 2)\n",
        "\n",
        "sns.kdeplot(df['price'], fill = True, color = '#003f5c', alpha=0.8)"
      ],
      "metadata": {
        "colab": {
          "base_uri": "https://localhost:8080/",
          "height": 623
        },
        "id": "bzWBF6XsYv6V",
        "outputId": "d956bdd5-473d-4cc6-d1b6-84b7fae84482"
      },
      "execution_count": 12,
      "outputs": [
        {
          "output_type": "execute_result",
          "data": {
            "text/plain": [
              "<matplotlib.axes._subplots.AxesSubplot at 0x7f3c95fb2c50>"
            ]
          },
          "metadata": {},
          "execution_count": 12
        },
        {
          "output_type": "display_data",
          "data": {
            "text/plain": [
              "<Figure size 1800x720 with 1 Axes>"
            ],
            "image/png": "[encoded data removed]"
          },
          "metadata": {
            "needs_background": "light"
          }
        }
      ]
    },
    {
      "cell_type": "markdown",
      "source": [
        "## Categorical Features Distribution"
      ],
      "metadata": {
        "id": "z34SeTJNvxgz"
      }
    },
    {
      "cell_type": "code",
      "source": [
        "X=df.select_dtypes(include='object').columns.to_list()\n",
        "\n",
        "fig=plt.figure(figsize=(20,5))\n",
        "plt.suptitle(\"Distribution of Categorical variable\", size=20)\n",
        "ax1=plt.subplot(131)\n",
        "sns.countplot(data=df, x=X[0], ax=ax1, linewidth=2, color = '#003f5c')\n",
        "for s in ['left','right','top','bottom']:\n",
        "        ax1.spines[s].set_visible(False)\n",
        "ax2=plt.subplot(132, sharey=ax1)\n",
        "sns.countplot(data=df, x=X[1], ax=ax2,linewidth=2, color = '#003f5c')\n",
        "for s in ['left','right','top','bottom']:\n",
        "        ax2.spines[s].set_visible(False)\n",
        "ax3=plt.subplot(133, sharey=ax1)\n",
        "sns.countplot(data=df, x=X[2], ax=ax3,linewidth=2, color = '#003f5c')\n",
        "for s in ['left','right','top','bottom']:\n",
        "        ax3.spines[s].set_visible(False)"
      ],
      "metadata": {
        "colab": {
          "base_uri": "https://localhost:8080/",
          "height": 370
        },
        "id": "BgAE5FnhbTWf",
        "outputId": "9d1a1198-cdfb-45b9-83b9-f5c93b15bdde"
      },
      "execution_count": 13,
      "outputs": [
        {
          "output_type": "display_data",
          "data": {
            "text/plain": [
              "<Figure size 1440x360 with 3 Axes>"
            ],
            "image/png": "[encoded data removed]"
          },
          "metadata": {
            "needs_background": "light"
          }
        }
      ]
    },
    {
      "cell_type": "markdown",
      "source": [
        "# Statistical Analysis\n",
        "\n",
        "\n",
        "\n",
        "\n",
        "\n"
      ],
      "metadata": {
        "id": "WHAUF8Ytegnc"
      }
    },
    {
      "cell_type": "markdown",
      "source": [
        "## Statistical Test between One Continuous and another Categorical variable: T-test\n",
        "Assumption to fulfill:\n",
        "\n",
        "*   Normality – Each sample was drawn from a normally distributed population. (Use Mann-Whitney U Test if this assumption fails [explain below])\n",
        "*   Equal Variances (homogeneity assumption) – The variances of the populations that the samples come from are equal.\n",
        "*   Independence – The observations in each group are independent of each other and the observations within groups were obtained by a random sample.\n",
        "\n",
        "Compares the means of two independent groups in order to determine whether there is statistical evidence that the associated population means are significantly different. "
      ],
      "metadata": {
        "id": "f6KkGK80iF19"
      }
    },
    {
      "cell_type": "markdown",
      "source": [
        "Statistical Test between One Continuous and another Categorical variable: T-test\n",
        "Assumption to fulfill:\n",
        "\n",
        "*   Normality – Each sample was drawn from a normally distributed population. (Use Mann-Whitney U Test if this assumption fails [explain below])\n",
        "*   Equal Variances (homogeneity assumption) – The variances of the populations that the samples come from are equal.\n",
        "*   Independence – The observations in each group are independent of each other and the observations within groups were obtained by a random sample."
      ],
      "metadata": {
        "id": "knUxO_N40YZk"
      }
    },
    {
      "cell_type": "markdown",
      "source": [
        "## Import modules"
      ],
      "metadata": {
        "id": "rUfIfgA2XIz-"
      }
    },
    {
      "cell_type": "code",
      "source": [
        "import scipy.stats as stats\n",
        "import scipy.stats as probplot\n",
        "import scipy.stats as f_oneway\n",
        "from scipy.stats import shapiro\n",
        "from scipy.stats import normaltest\n",
        "from scipy.stats import chi2_contingency\n",
        "from scipy.stats import chi2\n",
        "from scipy.stats import kruskal\n",
        "from scipy.stats import pearsonr\n",
        "\n",
        "import math\n",
        "from numpy import median\n",
        "from numpy import std"
      ],
      "metadata": {
        "id": "o4bLluVVeiND"
      },
      "execution_count": 14,
      "outputs": []
    },
    {
      "cell_type": "markdown",
      "source": [
        "### Normality Assumption Check `(FAIL)`\n",
        "\n",
        "The samples are random and independent samples. "
      ],
      "metadata": {
        "id": "zriNdz9rLoNF"
      }
    },
    {
      "cell_type": "code",
      "source": [
        "unique_cut = df['cut'].unique()\n",
        "for x in unique_cut:\n",
        "    stats.probplot(df[df['cut'] == x]['price'], dist=\"norm\", plot=plt)\n",
        "    plt.title(\"Probability Plot - \" +  x)\n",
        "    plt.show()"
      ],
      "metadata": {
        "colab": {
          "base_uri": "https://localhost:8080/",
          "height": 1000
        },
        "id": "rXzkmTdjLpuM",
        "outputId": "5314c0bd-18d3-4cc0-b94e-62f605633c10"
      },
      "execution_count": 15,
      "outputs": [
        {
          "output_type": "display_data",
          "data": {
            "text/plain": [
              "<Figure size 432x288 with 1 Axes>"
            ],
            "image/png": "[encoded data removed]"
          },
          "metadata": {
            "needs_background": "light"
          }
        },
        {
          "output_type": "display_data",
          "data": {
            "text/plain": [
              "<Figure size 432x288 with 1 Axes>"
            ],
            "image/png": "[encoded data removed]"
          },
          "metadata": {
            "needs_background": "light"
          }
        },
        {
          "output_type": "display_data",
          "data": {
            "text/plain": [
              "<Figure size 432x288 with 1 Axes>"
            ],
            "image/png": "[encoded data removed]"
          },
          "metadata": {
            "needs_background": "light"
          }
        },
        {
          "output_type": "display_data",
          "data": {
            "text/plain": [
              "<Figure size 432x288 with 1 Axes>"
            ],
            "image/png": "[encoded data removed]"
          },
          "metadata": {
            "needs_background": "light"
          }
        },
        {
          "output_type": "display_data",
          "data": {
            "text/plain": [
              "<Figure size 432x288 with 1 Axes>"
            ],
            "image/png": "[encoded data removed]"
          },
          "metadata": {
            "needs_background": "light"
          }
        }
      ]
    },
    {
      "cell_type": "markdown",
      "source": [
        "The Q-Q plot shows a largely straight-line pattern if it is from a normal distribution. From the above figure, we cannot assume that the data for each group falls roughly on a straight line."
      ],
      "metadata": {
        "id": "AyrmgmCARL4a"
      }
    },
    {
      "cell_type": "markdown",
      "source": [
        "### Homogeneity of variance Assumption Check (FAIL)"
      ],
      "metadata": {
        "id": "M8Pmc9pwLwAL"
      }
    },
    {
      "cell_type": "code",
      "source": [
        "ratio = df.groupby('cut').std().max() / df.groupby('cut').std().min()\n",
        "ratio"
      ],
      "metadata": {
        "colab": {
          "base_uri": "https://localhost:8080/"
        },
        "id": "jtgR2D1RLwUj",
        "outputId": "77872494-fe9f-4fac-e4e6-6d8258db6f59"
      },
      "execution_count": 16,
      "outputs": [
        {
          "output_type": "execute_result",
          "data": {
            "text/plain": [
              "carat    1.193394\n",
              "depth    5.068237\n",
              "table    3.163017\n",
              "price    1.219809\n",
              "x        1.245642\n",
              "y        1.331889\n",
              "z        1.132430\n",
              "dtype: float64"
            ]
          },
          "metadata": {},
          "execution_count": 16
        }
      ]
    },
    {
      "cell_type": "markdown",
      "source": [
        "The ratio of the largest to the smallest sample standard deviation is 2.71. That is more than the threshold of 2. Thus, we conclude that the assumptions are not fulfilled."
      ],
      "metadata": {
        "id": "OCUemFwnRRWx"
      }
    },
    {
      "cell_type": "markdown",
      "source": [
        "### Homogeneity using Levene (FAIL)"
      ],
      "metadata": {
        "id": "jtJU-9keNenK"
      }
    },
    {
      "cell_type": "code",
      "source": [
        "from scipy.stats import levene\n",
        "\n",
        "# H0 (null hypothesis): The depth and table have equal variance.\n",
        "# H1 (null hypothesis): The depth and table do not have equal variance.\n",
        "\n",
        "\n",
        "stat, p = levene(df.depth, df.table)\n",
        "print('Statistics = %.3f, p = %.3f' % (stat, p))\n",
        "stat, p = stats.ttest_ind(df.depth, df.table)\n",
        "print('Statistics = %.3f, p = %.3f' % (stat, p))\n",
        "alpha = 0.05\n",
        "if p > alpha:\n",
        "  print('Accept Null Hypothesis')\n",
        "else:\n",
        "  print('Reject Null Hypothesis.')\n",
        "\n",
        "# The depth and table do not have equal variance."
      ],
      "metadata": {
        "colab": {
          "base_uri": "https://localhost:8080/"
        },
        "id": "yaUjvfLmSIgz",
        "outputId": "cdd3a18e-3c2b-437e-c695-8450fe411383"
      },
      "execution_count": 17,
      "outputs": [
        {
          "output_type": "stream",
          "name": "stdout",
          "text": [
            "Statistics = 8161.748, p = 0.000\n",
            "Statistics = 375.609, p = 0.000\n",
            "Reject Null Hypothesis.\n"
          ]
        }
      ]
    },
    {
      "cell_type": "markdown",
      "source": [
        "Three ways to perform T-test:\n",
        "\n",
        "*   Scipy library\n",
        "*   Pingouin\n",
        "*   Statsmodels"
      ],
      "metadata": {
        "id": "sng2YxnIwbAS"
      }
    },
    {
      "cell_type": "markdown",
      "source": [
        "[Hypothesis] Impact of depth and table on prices\n",
        "\n",
        "**H0 (null hypothesis):** The impact of depth and table on price are equal i.e., μ1 = μ2\n",
        "\n",
        "**H1 (null hypothesis):** The impact of depth and table on price is not equal i.e., μ1 ≠ μ2."
      ],
      "metadata": {
        "id": "nkEz3adJwzJw"
      }
    },
    {
      "cell_type": "markdown",
      "source": [
        "### Scipy"
      ],
      "metadata": {
        "id": "pZfEplL7L001"
      }
    },
    {
      "cell_type": "markdown",
      "source": [
        "#### [Hypothesis] Impact of depth and table on prices"
      ],
      "metadata": {
        "id": "4U-ccrC6xwfC"
      }
    },
    {
      "cell_type": "markdown",
      "source": [
        "**H0 (null hypothesis):** The impact of depth and table on price are equal i.e., μ1 = μ2\n",
        "\n",
        "**H1 (null hypothesis):** The impact of depth and table on price is not equal i.e., μ1 ≠ μ2."
      ],
      "metadata": {
        "id": "Ill8XmPBxm7a"
      }
    },
    {
      "cell_type": "code",
      "source": [
        "from scipy.stats import ttest_ind\n",
        "from statsmodels.stats.weightstats import ttest_ind # both scipy and statsmodels work the same \n",
        "\n",
        "# H0 (null hypothesis): The impact of depth and table on price are equal i.e., μ1 = μ2\n",
        "# H1 (null hypothesis): The impact of depth and table on price is not equal i.e., μ1 ≠ μ2.\n",
        "\n",
        "stat, p = stats.ttest_ind(df.depth, df.table)\n",
        "print('Statistics = %.3f, p = %.3f' % (stat, p))\n",
        "alpha = 0.05\n",
        "if p > alpha:\n",
        "  print('Accept Null Hypothesis')\n",
        "else:\n",
        "  print('Reject Null Hypothesis.')\n",
        "\n",
        "# The impact of depth and table on price is not equal i.e., μ1 ≠ μ2."
      ],
      "metadata": {
        "colab": {
          "base_uri": "https://localhost:8080/"
        },
        "id": "u68W3b6OiKuc",
        "outputId": "e3549a26-ef32-4b46-bc05-a5521c3e04eb"
      },
      "execution_count": 18,
      "outputs": [
        {
          "output_type": "stream",
          "name": "stdout",
          "text": [
            "Statistics = 375.609, p = 0.000\n",
            "Reject Null Hypothesis.\n"
          ]
        }
      ]
    },
    {
      "cell_type": "markdown",
      "source": [
        "The test yields a p-value of 0.0, which means there is a 0% chance we'd see sample data this far apart if the two groups tested are actually identical. If we were using a 95% confidence level we would fail to reject the null hypothesis, since the p-value is greater than the corresponding significance level of 5%."
      ],
      "metadata": {
        "id": "7KA8rLZKl21C"
      }
    },
    {
      "cell_type": "markdown",
      "source": [
        "#### [Hypothesis] Impact of x and y on prices"
      ],
      "metadata": {
        "id": "dHgHCh6fxy9f"
      }
    },
    {
      "cell_type": "markdown",
      "source": [
        "**H0 (null hypothesis):** The impact of x and y on price are equal i.e., μ1 = μ2\n",
        "\n",
        "**H1 (null hypothesis):** The impact of x and y on price is not equal i.e., μ1 ≠ μ2."
      ],
      "metadata": {
        "id": "SVsRH4Tuw1R6"
      }
    },
    {
      "cell_type": "code",
      "source": [
        "# H0 (null hypothesis): The impact of x and y on price are equal i.e., μ1 = μ2\n",
        "# H1 (null hypothesis): The impact of x and y on price is not equal i.e., μ1 ≠ μ2.\n",
        "\n",
        "stat, p = stats.ttest_ind(df.x, df.y)\n",
        "print('Statistics = %.3f, p = %.3f' % (stat, p))\n",
        "alpha = 0.05\n",
        "if p > alpha:\n",
        "  print('Accept Null Hypothesis')\n",
        "else:\n",
        "  print('Reject Null Hypothesis.')\n",
        "\n",
        "# The impact of x and y on price are equal i.e., μ1 = μ2"
      ],
      "metadata": {
        "colab": {
          "base_uri": "https://localhost:8080/"
        },
        "id": "jHvoz6ztQfGw",
        "outputId": "14be3574-0248-4777-bcf9-327d2a33209a"
      },
      "execution_count": 19,
      "outputs": [
        {
          "output_type": "stream",
          "name": "stdout",
          "text": [
            "Statistics = -0.474, p = 0.636\n",
            "Accept Null Hypothesis\n"
          ]
        }
      ]
    },
    {
      "cell_type": "markdown",
      "source": [
        "The null hypothesis is accepted when examining impact of x and y on price, indicating that the mean of length and width are the same and have the same impact on the price. \n",
        "\n",
        "Except from the t-test, we can also use **ANOVA** to perform the same experiments. "
      ],
      "metadata": {
        "id": "cPoLEwLZxGN5"
      }
    },
    {
      "cell_type": "markdown",
      "source": [
        "### When Assumptions Fail: Rank Significance Tests: Mann-Whitney U Test"
      ],
      "metadata": {
        "id": "cQYhfnPhx8z9"
      }
    },
    {
      "cell_type": "markdown",
      "source": [
        "A Mann-Whitney U test (sometimes called the Wilcoxon rank-sum test) is used to compare the differences between two independent samples when the sample distributions are not normally distributed and the sample sizes are small (n <30). \n",
        "\n",
        "We can use the Mann-Whitney's test to determine whether one group has higher or lower price than the other group. Mann-Whitney U test is a nonparametric statistical significance test for determining whether two independent samples were drawn from a population with the same distribution.\n",
        "\n",
        "Example: Find if the average income of PhD owners is statistically different from the average income of Master owners.\n",
        "\n",
        "It is considered to be the nonparametric equivalent to the two-sample independent t-test.\n",
        "\n",
        "Here are some examples of when you might use a Mann-Whitney U test:\n",
        "\n",
        "* You want to compare the salaries of five graduates from university A vs. the salaries of five graduates from university B. The salaries are not normally distributed.\n",
        "* You want to know if weight loss varies for two groups: 12 people using diet A and 10 people using diet B. The weight loss is not normally distributed. \n",
        "* You want to know if the scores of 8 students in class A differ from those of 7 students in class B. The scores are not normally distributed."
      ],
      "metadata": {
        "id": "XUvbJkiHx9ij"
      }
    },
    {
      "cell_type": "markdown",
      "source": [
        "We have already found out that the cut groups are not normally distributed, we can use Mann-Whitney U Test to compare the differences. \n",
        "\n",
        "**H0 (null hypothesis):** The mean ranks of the Premium and Fair cut are equal. \n",
        "\n",
        "**H1 (null hypothesis):** The mean ranks of the Premium and Fair cut are equal. "
      ],
      "metadata": {
        "id": "Ol4f0sy9yII8"
      }
    },
    {
      "cell_type": "markdown",
      "source": [
        "### Does color affect price?"
      ],
      "metadata": {
        "id": "7AIVfxYcrrTJ"
      }
    },
    {
      "cell_type": "code",
      "source": [
        "# Does color affect price?\n",
        "# df.color.unique() >>> array(['E', 'I', 'J', 'H', 'F', 'G', 'D'], dtype=object)\n",
        "# H0 : The mean ranks of the two groups are equal\n",
        "# H1 : The mean ranks of the two groups are not equal"
      ],
      "metadata": {
        "id": "7o3Uw06Xn6qj"
      },
      "execution_count": 20,
      "outputs": []
    },
    {
      "cell_type": "code",
      "source": [
        "data = df[['color','price']]\n",
        "\n",
        "E = data[data['color'] == 'E']\n",
        "I = data[data['color'] == 'I']\n",
        "J = data[data['color'] == 'J']\n",
        "H = data[data['color'] == 'H']\n",
        "F = data[data['color'] == 'F']\n",
        "G = data[data['color'] == 'G']\n",
        "D = data[data['color'] == 'D']"
      ],
      "metadata": {
        "id": "GTuHQpTCo1FZ"
      },
      "execution_count": 21,
      "outputs": []
    },
    {
      "cell_type": "code",
      "source": [
        "# Find if the average price of color E is statistically different from the average price of color I \n",
        "\n",
        "stat, p = shapiro(E.price)\n",
        "print('Statistics=%.3f, p=%.3f' % (stat, p))\n",
        "alpha = 0.05\n",
        "if p > alpha:\n",
        "  print('Accept Null Hypothesis')\n",
        "else:\n",
        "  print('Reject Null Hypothesis.')"
      ],
      "metadata": {
        "id": "5iTWLMqfpOoz",
        "colab": {
          "base_uri": "https://localhost:8080/"
        },
        "outputId": "15fdd4a8-b0e8-408d-8d76-3e112791770c"
      },
      "execution_count": 22,
      "outputs": [
        {
          "output_type": "stream",
          "name": "stdout",
          "text": [
            "Statistics=0.729, p=0.000\n",
            "Reject Null Hypothesis.\n"
          ]
        },
        {
          "output_type": "stream",
          "name": "stderr",
          "text": [
            "/usr/local/lib/python3.7/dist-packages/scipy/stats/morestats.py:1760: UserWarning: p-value may not be accurate for N > 5000.\n",
            "  warnings.warn(\"p-value may not be accurate for N > 5000.\")\n"
          ]
        }
      ]
    },
    {
      "cell_type": "code",
      "source": [
        "stat, p = shapiro(I.price)\n",
        "print('Statistics=%.3f, p=%.3f' % (stat, p))\n",
        "alpha = 0.05\n",
        "if p > alpha:\n",
        "  print('Accept Null Hypothesis')\n",
        "else:\n",
        "  print('Reject Null Hypothesis.')"
      ],
      "metadata": {
        "id": "aSEUJe2DqI7L",
        "colab": {
          "base_uri": "https://localhost:8080/"
        },
        "outputId": "83222cd5-0de3-435e-d6f5-a11690fcbe74"
      },
      "execution_count": 23,
      "outputs": [
        {
          "output_type": "stream",
          "name": "stdout",
          "text": [
            "Statistics=0.854, p=0.000\n",
            "Reject Null Hypothesis.\n"
          ]
        }
      ]
    },
    {
      "cell_type": "code",
      "source": [
        "# summarize\n",
        "print('E: median = %.0f stdv = %.1f' % (median(E.price), std(E.price)))\n",
        "print('I: median = %.0f stdv = %.1f' % (median(I.price), std(I.price)))\n",
        "\n",
        "print(stats.mannwhitneyu(E.price, I.price))\n",
        "\n",
        "alpha = 0.05\n",
        "if p > alpha:\n",
        "  print('Accept Null Hypothesis')\n",
        "else:\n",
        "  print('Reject Null Hypothesis.')"
      ],
      "metadata": {
        "id": "QD_MEkSUqd0b",
        "colab": {
          "base_uri": "https://localhost:8080/"
        },
        "outputId": "135728c0-45e1-4be7-fed6-9b9e11b697cc"
      },
      "execution_count": 24,
      "outputs": [
        {
          "output_type": "stream",
          "name": "stdout",
          "text": [
            "E: median = 1739 stdv = 3344.0\n",
            "I: median = 3730 stdv = 4720.3\n",
            "MannwhitneyuResult(statistic=20209224.0, pvalue=5.0218164536409356e-132)\n",
            "Reject Null Hypothesis.\n"
          ]
        }
      ]
    },
    {
      "cell_type": "markdown",
      "source": [
        "The p-value is inferior than the significance level of 5%, we can reject the null hypothesis.\n",
        "\n",
        "We can conclude that the average price of color E is different from the average income of color I at a 95% confidence level"
      ],
      "metadata": {
        "id": "PifbBmY-rlhq"
      }
    },
    {
      "cell_type": "markdown",
      "source": [
        "### Does cut affect price?"
      ],
      "metadata": {
        "id": "tXVbmZsZrtc6"
      }
    },
    {
      "cell_type": "code",
      "source": [
        "# df.cut.unique() >>> array(['Ideal', 'Premium', 'Good', 'Very Good', 'Fair'], dtype=object)\n",
        "\n",
        "data = df[['cut','price']]\n",
        "\n",
        "Premium = data[data['cut'] == 'Premium']\n",
        "Fair = data[data['cut'] == 'Fair']"
      ],
      "metadata": {
        "id": "XwnjQmFxr1p4"
      },
      "execution_count": 25,
      "outputs": []
    },
    {
      "cell_type": "code",
      "source": [
        "stat, p = shapiro(Premium.price)\n",
        "print('Statistics=%.3f, p=%.3f' % (stat, p))\n",
        "alpha = 0.05\n",
        "if p > alpha:\n",
        "  print('Accept Null Hypothesis')\n",
        "else:\n",
        "  print('Reject Null Hypothesis.')"
      ],
      "metadata": {
        "id": "mpS3hEoMsCEg",
        "colab": {
          "base_uri": "https://localhost:8080/"
        },
        "outputId": "138cc22a-373e-42eb-a475-911c9ad74e07"
      },
      "execution_count": 26,
      "outputs": [
        {
          "output_type": "stream",
          "name": "stdout",
          "text": [
            "Statistics=0.835, p=0.000\n",
            "Reject Null Hypothesis.\n"
          ]
        }
      ]
    },
    {
      "cell_type": "code",
      "source": [
        "stat, p = shapiro(Fair.price)\n",
        "print('Statistics=%.3f, p=%.3f' % (stat, p))\n",
        "alpha = 0.05\n",
        "if p > alpha:\n",
        "  print('Accept Null Hypothesis')\n",
        "else:\n",
        "  print('Reject Null Hypothesis.')"
      ],
      "metadata": {
        "id": "_gNys1BesEwQ",
        "colab": {
          "base_uri": "https://localhost:8080/"
        },
        "outputId": "3476dcbc-7f30-456b-eb48-0008b227d7d9"
      },
      "execution_count": 27,
      "outputs": [
        {
          "output_type": "stream",
          "name": "stdout",
          "text": [
            "Statistics=0.810, p=0.000\n",
            "Reject Null Hypothesis.\n"
          ]
        }
      ]
    },
    {
      "cell_type": "code",
      "source": [
        "# summarize\n",
        "print('Premium: median = %.0f stdv = %.1f' % (median(Premium.price), std(Premium.price)))\n",
        "print('Fair: median = %.0f stdv = %.1f' % (median(Fair.price), std(Fair.price)))\n",
        "\n",
        "print(stats.mannwhitneyu(Premium.price, Fair.price))\n",
        "\n",
        "alpha = 0.05\n",
        "if p > alpha:\n",
        "  print('Accept Null Hypothesis')\n",
        "else:\n",
        "  print('Reject Null Hypothesis.')"
      ],
      "metadata": {
        "id": "vWZ6lnGVsIIo",
        "colab": {
          "base_uri": "https://localhost:8080/"
        },
        "outputId": "476c6e4d-03e0-4625-a4aa-6d061c0158fc"
      },
      "execution_count": 28,
      "outputs": [
        {
          "output_type": "stream",
          "name": "stdout",
          "text": [
            "Premium: median = 3182 stdv = 4343.7\n",
            "Fair: median = 3282 stdv = 3560.0\n",
            "MannwhitneyuResult(statistic=10350341.0, pvalue=1.2849284036589476e-05)\n",
            "Reject Null Hypothesis.\n"
          ]
        }
      ]
    },
    {
      "cell_type": "markdown",
      "source": [
        "## Statistical Test between One Continuous and another Categorical variable: ANOVA Test"
      ],
      "metadata": {
        "id": "P-3vy7mSisfp"
      }
    },
    {
      "cell_type": "markdown",
      "source": [
        "Assumption to fulfill:\n",
        "\n",
        "* Normality – Each sample was drawn from a normally distributed population.\n",
        "* Equal Variances (homogeneity assumption) – The variances of the populations that the samples come from are equal.\n",
        "* Independence – The observations in each group are independent of each other and the observations within groups were obtained by a random sample.\n",
        " \n",
        "\n",
        "If these assumptions aren’t met, then the results of our one-way ANOVA could be unreliable.\n",
        "\n",
        "\n",
        "**What to do if this assumption is violated:**\n",
        "\n",
        " \n",
        "In general, a one-way ANOVA is considered to be fairly robust against violations of the normality assumption as long as the sample sizes are sufficiently large. \n",
        "\n",
        "Also, if you have extremely large sample sizes then statistical tests like the Shapiro-Wilk test will almost always tell you that your data is non-normal. For this reason, it’s often best to inspect your data visually using graphs like histograms and Q-Q plots. By simply looking at the graphs, you can get a pretty good idea of whether or not the data is normally distributed.\n",
        "\n",
        "In our case, the normality and equal variances check are both fail. However, we have a pretty large dataset df.shape >>> (53940, 10) and therefore we will proceed with the Anova Test. *"
      ],
      "metadata": {
        "id": "kvlVBeoE0jck"
      }
    },
    {
      "cell_type": "markdown",
      "source": [
        "A one-way ANOVA uses the following null and alternative hypotheses:\n",
        "\n",
        "**H0 (null hypothesis):** μ1 = μ2 = μ3 = … = μk (all the population means are equal)\n",
        "\n",
        "**H1 (null hypothesis):** at least one population mean is different from the rest"
      ],
      "metadata": {
        "id": "HbHIHpMo00J5"
      }
    },
    {
      "cell_type": "markdown",
      "source": [
        "### One Way Anova / F-test"
      ],
      "metadata": {
        "id": "9dpKe-qLyYCl"
      }
    },
    {
      "cell_type": "markdown",
      "source": [
        "#### [Hypothesis] Impact of depth and table on prices\n",
        "\n",
        "**H0 (null hypothesis):** The impact of depth and table on price are equal i.e., μ1 = μ2\n",
        "\n",
        "**H1 (null hypothesis):** The impact of depth and table on price is not equal i.e., μ1 ≠ μ2."
      ],
      "metadata": {
        "id": "x0G0WgCI1Bd6"
      }
    },
    {
      "cell_type": "code",
      "source": [
        "# H0 (null hypothesis): The impact of depth and table on price are equal i.e., μ1 = μ2\n",
        "# H1 (null hypothesis): The impact of depth and table on price is not equal i.e., μ1 ≠ μ2.\n",
        "\n",
        "stat, p = stats.f_oneway(df.depth, df.table)\n",
        "print('Statistics = %.3f, p = %.3f' % (stat, p))\n",
        "alpha = 0.05\n",
        "if p > alpha:\n",
        "  print('Accept Null Hypothesis')\n",
        "else:\n",
        "  print('Reject Null Hypothesis.')"
      ],
      "metadata": {
        "colab": {
          "base_uri": "https://localhost:8080/"
        },
        "id": "a_cXHHEvSn50",
        "outputId": "e8e0d596-1b60-4bf2-cb7f-9178af24d480"
      },
      "execution_count": 29,
      "outputs": [
        {
          "output_type": "stream",
          "name": "stdout",
          "text": [
            "Statistics = 141082.431, p = 0.000\n",
            "Reject Null Hypothesis.\n"
          ]
        }
      ]
    },
    {
      "cell_type": "markdown",
      "source": [
        "#### [Hypothesis] Impact of x and y on prices\n",
        "\n",
        "**H0 (null hypothesis):** The impact of x and y on price are equal i.e., μ1 = μ2\n",
        "\n",
        "**H1 (null hypothesis):** The impact of x and y on price is not equal i.e., μ1 ≠ μ2."
      ],
      "metadata": {
        "id": "xE215k7X1SL0"
      }
    },
    {
      "cell_type": "code",
      "source": [
        "# H0 (null hypothesis): The impact of x and y on price are equal i.e., μ1 = μ2\n",
        "# H1 (null hypothesis): The impact of x and y on price is not equal i.e., μ1 ≠ μ2.\n",
        "\n",
        "stat, p = stats.f_oneway(df.x, df.y)\n",
        "print('Statistics = %.3f, p = %.3f' % (stat, p))\n",
        "alpha = 0.05\n",
        "if p > alpha:\n",
        "  print('Accept Null Hypothesis')\n",
        "else:\n",
        "  print('Reject Null Hypothesis.')\n",
        "\n",
        "# The impact of x and y on price are equal i.e., μ1 = μ2"
      ],
      "metadata": {
        "colab": {
          "base_uri": "https://localhost:8080/"
        },
        "id": "8uvYJ2DHS9M8",
        "outputId": "43e60a59-3d32-48a1-f216-e4531d354527"
      },
      "execution_count": 30,
      "outputs": [
        {
          "output_type": "stream",
          "name": "stdout",
          "text": [
            "Statistics = 0.224, p = 0.636\n",
            "Accept Null Hypothesis\n"
          ]
        }
      ]
    },
    {
      "cell_type": "markdown",
      "source": [
        "#### [Hypothesis] Impact of different cut groups on prices\n",
        "\n",
        "**H0 (null hypothesis):** The impact of Premium cut and Fair cut on price are equal i.e., μ1 = μ2\n",
        "\n",
        "**H1 (null hypothesis):** The impact of Premium cut and Fair cut on price is not equal i.e., μ1 ≠ μ2\n",
        "\n",
        "**H0 (null hypothesis):** The impact of Premium cut, Good cut and Fair cut on price are equal i.e., μ1 = μ2\n",
        "\n",
        "**H1 (null hypothesis):** The impact of Premium cut, Good cut and Fair cut on price is not equal i.e., μ1 ≠ μ2."
      ],
      "metadata": {
        "id": "p4_dcazA1nDg"
      }
    },
    {
      "cell_type": "code",
      "source": [
        "# H0 (null hypothesis): The impact of Premium cut and Fair cut on price are equal i.e., μ1 = μ2\n",
        "# H1 (null hypothesis): The impact of Premium cut and Fair cut on price is not equal i.e., μ1 ≠ μ2.\n",
        "\n",
        "grps = pd.unique(df['cut'].values)\n",
        "grps"
      ],
      "metadata": {
        "colab": {
          "base_uri": "https://localhost:8080/"
        },
        "id": "nb6UNG1NzQJX",
        "outputId": "4ac42bf3-242c-4d0e-d3b3-a80183f15dc6"
      },
      "execution_count": 31,
      "outputs": [
        {
          "output_type": "execute_result",
          "data": {
            "text/plain": [
              "array(['Ideal', 'Premium', 'Good', 'Very Good', 'Fair'], dtype=object)"
            ]
          },
          "metadata": {},
          "execution_count": 31
        }
      ]
    },
    {
      "cell_type": "code",
      "source": [
        "d_data = {grp:df['price'][df['cut'] == grp] for grp in grps}\n",
        "\n",
        "stat, p = stats.f_oneway(d_data['Premium'], d_data['Fair'])\n",
        "print('Statistics = %.3f, p = %.3f' % (stat, p))\n",
        "\n",
        "alpha = 0.05\n",
        "if p > alpha:\n",
        "  print('Accept Null Hypothesis')\n",
        "else:\n",
        "  print('Reject Null Hypothesis.')\n",
        "\n",
        "# The impact of Premium cut and Fair cut on price is not equal i.e., μ1 ≠ μ2."
      ],
      "metadata": {
        "colab": {
          "base_uri": "https://localhost:8080/"
        },
        "id": "q_KLTBVfybNl",
        "outputId": "cc80c2e8-b38c-4ead-dadf-7ee5e7bdaebc"
      },
      "execution_count": 32,
      "outputs": [
        {
          "output_type": "stream",
          "name": "stdout",
          "text": [
            "Statistics = 3.903, p = 0.048\n",
            "Reject Null Hypothesis.\n"
          ]
        }
      ]
    },
    {
      "cell_type": "code",
      "source": [
        "stat, p = stats.f_oneway(d_data['Premium'], d_data['Good'], d_data['Fair'])\n",
        "print('Statistics = %.3f, p = %.3f' % (stat, p))\n",
        "\n",
        "alpha = 0.05\n",
        "if p > alpha:\n",
        "  print('Accept Null Hypothesis')\n",
        "else:\n",
        "  print('Reject Null Hypothesis.')"
      ],
      "metadata": {
        "colab": {
          "base_uri": "https://localhost:8080/"
        },
        "id": "bHfbSlwITtae",
        "outputId": "7fb6bb74-b690-4bf6-afe9-c09b001d36fc"
      },
      "execution_count": 33,
      "outputs": [
        {
          "output_type": "stream",
          "name": "stdout",
          "text": [
            "Statistics = 45.268, p = 0.000\n",
            "Reject Null Hypothesis.\n"
          ]
        }
      ]
    },
    {
      "cell_type": "markdown",
      "source": [
        "If the p-value from the ANOVA is less than the significance level, we can reject the null hypothesis and conclude that we have sufficient evidence to say that at least one of the means of the groups is different from the others.\n",
        "\n",
        "However, this doesn’t tell us which groups are different from each other. It simply tells us that not all of the group means are equal."
      ],
      "metadata": {
        "id": "QE07UWDRUFyc"
      }
    },
    {
      "cell_type": "markdown",
      "source": [
        "### Statsmodel"
      ],
      "metadata": {
        "id": "TezU2y07Ulp0"
      }
    },
    {
      "cell_type": "markdown",
      "source": [
        "#### [Hypothesis] Impact of different cut groups on prices (ols() and anova_lm())"
      ],
      "metadata": {
        "id": "1whtITxF2dJr"
      }
    },
    {
      "cell_type": "code",
      "source": [
        "import statsmodels.api as stats\n",
        "from statsmodels.stats.anova import anova_lm\n",
        "from statsmodels.formula.api import ols\n",
        "\n",
        "formula='price ~ C(cut)'\n",
        "model=ols(formula, df).fit()\n",
        "print(np.round(anova_lm(model, typ=2),3))\n",
        "\n",
        "if np.round(model.f_pvalue,2) < 0.05:\n",
        "    print(\"Reject Null Hypothesis\")\n",
        "else:\n",
        "    print(\"Accept Null Hypothesis\")"
      ],
      "metadata": {
        "colab": {
          "base_uri": "https://localhost:8080/"
        },
        "id": "O7uMkfpck1Ci",
        "outputId": "c32e2ee8-c2bc-4062-d4d9-318b3fa530de"
      },
      "execution_count": 34,
      "outputs": [
        {
          "output_type": "stream",
          "name": "stdout",
          "text": [
            "                sum_sq       df        F  PR(>F)\n",
            "C(cut)    1.096482e+10      4.0  174.641     0.0\n",
            "Residual  8.462613e+11  53915.0      NaN     NaN\n",
            "Reject Null Hypothesis\n"
          ]
        }
      ]
    },
    {
      "cell_type": "code",
      "source": [
        "formula='price ~ C(x)'\n",
        "model=ols(formula, df).fit()\n",
        "print(np.round(anova_lm(model, typ=2),3))\n",
        "\n",
        "if np.round(model.f_pvalue,2) < 0.05:\n",
        "    print(\"Reject Null Hypothesis\")\n",
        "else:\n",
        "    print(\"Accept Null Hypothesis\")"
      ],
      "metadata": {
        "colab": {
          "base_uri": "https://localhost:8080/"
        },
        "id": "V9ZNv6wY8kiO",
        "outputId": "6069bd61-49e4-49cf-d290-d4fb06f08a4f"
      },
      "execution_count": 35,
      "outputs": [
        {
          "output_type": "stream",
          "name": "stdout",
          "text": [
            "                sum_sq       df        F  PR(>F)\n",
            "C(x)      7.507320e+11    552.0  681.542     0.0\n",
            "Residual  1.064941e+11  53367.0      NaN     NaN\n",
            "Reject Null Hypothesis\n"
          ]
        }
      ]
    },
    {
      "cell_type": "code",
      "source": [
        "model.summary()"
      ],
      "metadata": {
        "colab": {
          "base_uri": "https://localhost:8080/",
          "height": 1000
        },
        "id": "yHA5Mbwe8saG",
        "outputId": "ba04b1bb-07bd-4d40-cdac-b5cf1a60a212"
      },
      "execution_count": 36,
      "outputs": [
        {
          "output_type": "execute_result",
          "data": {
            "text/plain": [
              "<class 'statsmodels.iolib.summary.Summary'>\n",
              "\"\"\"\n",
              "                            OLS Regression Results                            \n",
              "==============================================================================\n",
              "Dep. Variable:                  price   R-squared:                       0.876\n",
              "Model:                            OLS   Adj. R-squared:                  0.874\n",
              "Method:                 Least Squares   F-statistic:                     681.5\n",
              "Date:                Sat, 03 Sep 2022   Prob (F-statistic):               0.00\n",
              "Time:                        10:32:04   Log-Likelihood:            -4.6732e+05\n",
              "No. Observations:               53920   AIC:                         9.358e+05\n",
              "Df Residuals:                   53367   BIC:                         9.407e+05\n",
              "Df Model:                         552                                         \n",
              "Covariance Type:            nonrobust                                         \n",
              "=================================================================================\n",
              "                    coef    std err          t      P>|t|      [0.025      0.975]\n",
              "---------------------------------------------------------------------------------\n",
              "Intercept       367.0000    998.876      0.367      0.713   -1590.805    2324.805\n",
              "C(x)[T.3.74]  -3.789e-10   1730.104  -2.19e-13      1.000   -3391.018    3391.018\n",
              "C(x)[T.3.76]   -1.46e-09   1730.104  -8.44e-13      1.000   -3391.018    3391.018\n",
              "C(x)[T.3.77]   3.632e-10   1730.104    2.1e-13      1.000   -3391.018    3391.018\n",
              "C(x)[T.3.79]    -11.0000   1412.624     -0.008      0.994   -2779.754    2757.754\n",
              "C(x)[T.3.81]   5.865e-10   1289.543   4.55e-13      1.000   -2527.515    2527.515\n",
              "C(x)[T.3.82]     19.0000   1412.624      0.013      0.989   -2749.754    2787.754\n",
              "C(x)[T.3.83]     68.0000   1289.543      0.053      0.958   -2459.515    2595.515\n",
              "C(x)[T.3.84]     17.0000   1223.368      0.014      0.989   -2380.812    2414.812\n",
              "C(x)[T.3.85]     81.6667   1153.402      0.071      0.944   -2179.012    2342.345\n",
              "C(x)[T.3.86]     49.4000   1181.886      0.042      0.967   -2267.106    2365.906\n",
              "C(x)[T.3.87]     49.3333   1153.402      0.043      0.966   -2211.345    2310.012\n",
              "C(x)[T.3.88]     60.5455   1085.892      0.056      0.956   -2067.813    2188.904\n",
              "C(x)[T.3.89]     98.0000   1085.892      0.090      0.928   -2030.358    2226.358\n",
              "C(x)[T.3.9]     115.9524   1045.360      0.111      0.912   -1932.961    2164.866\n",
              "C(x)[T.3.91]     95.8095   1045.360      0.092      0.927   -1953.104    2144.723\n",
              "C(x)[T.3.92]    136.4444   1026.247      0.133      0.894   -1875.009    2147.898\n",
              "C(x)[T.3.93]    110.9524   1022.382      0.109      0.914   -1892.925    2114.830\n",
              "C(x)[T.3.94]    119.3556   1020.832      0.117      0.907   -1881.483    2120.194\n",
              "C(x)[T.3.95]    113.8864   1021.325      0.112      0.911   -1887.920    2115.692\n",
              "C(x)[T.3.96]    118.2917   1019.473      0.116      0.908   -1879.885    2116.468\n",
              "C(x)[T.3.97]    125.5122   1022.949      0.123      0.902   -1879.476    2130.500\n",
              "C(x)[T.3.98]    125.9714   1027.019      0.123      0.902   -1886.994    2138.937\n",
              "C(x)[T.3.99]    151.2500   1016.556      0.149      0.882   -1841.209    2143.709\n",
              "C(x)[T.4.0]     148.7317   1022.949      0.145      0.884   -1856.256    2153.719\n",
              "C(x)[T.4.01]    182.0263   1024.825      0.178      0.859   -1826.639    2190.692\n",
              "C(x)[T.4.02]    145.6000   1023.543      0.142      0.887   -1860.553    2151.753\n",
              "C(x)[T.4.03]    165.6341   1022.949      0.162      0.871   -1839.354    2170.622\n",
              "C(x)[T.4.04]    167.9388   1019.057      0.165      0.869   -1829.422    2165.299\n",
              "C(x)[T.4.05]    157.6389   1026.247      0.154      0.878   -1853.814    2169.092\n",
              "C(x)[T.4.06]    160.6316   1024.825      0.157      0.875   -1848.034    2169.297\n",
              "C(x)[T.4.07]    162.6250   1019.473      0.160      0.873   -1835.551    2160.801\n",
              "C(x)[T.4.08]    169.1800   1018.657      0.166      0.868   -1827.397    2165.757\n",
              "C(x)[T.4.09]    179.6098   1022.949      0.176      0.861   -1825.378    2184.598\n",
              "C(x)[T.4.1]     211.1800   1018.657      0.207      0.836   -1785.397    2207.757\n",
              "C(x)[T.4.11]    195.6111   1026.247      0.191      0.849   -1815.842    2207.064\n",
              "C(x)[T.4.12]    191.5111   1020.832      0.188      0.851   -1809.328    2192.350\n",
              "C(x)[T.4.13]    182.4889   1020.832      0.179      0.858   -1818.350    2183.328\n",
              "C(x)[T.4.14]    212.2093   1021.841      0.208      0.835   -1790.609    2215.027\n",
              "C(x)[T.4.15]    215.4898   1019.057      0.211      0.833   -1781.871    2212.850\n",
              "C(x)[T.4.16]    184.5532   1019.907      0.181      0.856   -1814.473    2183.580\n",
              "C(x)[T.4.17]    222.9211   1024.825      0.218      0.828   -1785.744    2231.587\n",
              "C(x)[T.4.18]    215.4118   1018.273      0.212      0.832   -1780.412    2211.236\n",
              "C(x)[T.4.19]    185.5500   1023.543      0.181      0.856   -1820.603    2191.703\n",
              "C(x)[T.4.2]     187.4200   1018.657      0.184      0.854   -1809.157    2183.997\n",
              "C(x)[T.4.21]    221.9474   1016.249      0.218      0.827   -1769.909    2213.804\n",
              "C(x)[T.4.22]    213.2949   1011.601      0.211      0.833   -1769.451    2196.041\n",
              "C(x)[T.4.23]    218.4800   1012.106      0.216      0.829   -1765.257    2202.217\n",
              "C(x)[T.4.24]    211.6667   1007.600      0.210      0.834   -1763.237    2186.571\n",
              "C(x)[T.4.25]    242.4533   1005.513      0.241      0.809   -1728.360    2213.267\n",
              "C(x)[T.4.26]    257.6345   1003.933      0.257      0.797   -1710.083    2225.352\n",
              "C(x)[T.4.27]    264.2481   1002.740      0.264      0.792   -1701.131    2229.627\n",
              "C(x)[T.4.28]    278.2804   1001.983      0.278      0.781   -1685.614    2242.175\n",
              "C(x)[T.4.29]    268.4330   1001.983      0.268      0.789   -1695.462    2232.328\n",
              "C(x)[T.4.3]     302.0748   1001.639      0.302      0.763   -1661.146    2265.296\n",
              "C(x)[T.4.31]    310.1370   1001.454      0.310      0.757   -1652.720    2272.994\n",
              "C(x)[T.4.32]    329.0118   1001.223      0.329      0.742   -1633.394    2291.418\n",
              "C(x)[T.4.33]    335.9277   1001.201      0.336      0.737   -1626.436    2298.291\n",
              "C(x)[T.4.34]    345.5057   1001.159      0.345      0.730   -1616.774    2307.786\n",
              "C(x)[T.4.35]    330.6265   1001.327      0.330      0.741   -1631.983    2293.236\n",
              "C(x)[T.4.36]    342.6477   1001.460      0.342      0.732   -1620.223    2305.518\n",
              "C(x)[T.4.37]    344.0714   1001.103      0.344      0.731   -1618.099    2306.242\n",
              "C(x)[T.4.38]    359.6285   1001.207      0.359      0.719   -1602.745    2322.002\n",
              "C(x)[T.4.39]    364.0309   1001.447      0.364      0.716   -1598.813    2326.875\n",
              "C(x)[T.4.4]     353.6676   1001.550      0.353      0.724   -1609.379    2316.714\n",
              "C(x)[T.4.41]    383.9777   1001.654      0.383      0.701   -1579.273    2347.229\n",
              "C(x)[T.4.42]    385.2652   1001.631      0.385      0.701   -1577.941    2348.471\n",
              "C(x)[T.4.43]    399.3737   1002.233      0.398      0.690   -1565.012    2363.760\n",
              "C(x)[T.4.44]    381.6920   1002.488      0.381      0.703   -1583.194    2346.578\n",
              "C(x)[T.4.45]    391.8791   1002.528      0.391      0.696   -1573.084    2356.842\n",
              "C(x)[T.4.46]    400.6835   1002.462      0.400      0.689   -1564.151    2365.518\n",
              "C(x)[T.4.47]    418.7298   1002.895      0.418      0.676   -1546.954    2384.413\n",
              "C(x)[T.4.48]    401.2568   1003.365      0.400      0.689   -1565.347    2367.861\n",
              "C(x)[T.4.49]    418.8000   1003.737      0.417      0.677   -1548.532    2386.132\n",
              "C(x)[T.4.5]     394.7717   1004.290      0.393      0.694   -1573.645    2363.188\n",
              "C(x)[T.4.51]    400.0000   1004.535      0.398      0.690   -1568.897    2368.897\n",
              "C(x)[T.4.52]    420.0955   1004.472      0.418      0.676   -1548.678    2388.869\n",
              "C(x)[T.4.53]    406.7879   1004.911      0.405      0.686   -1562.847    2376.423\n",
              "C(x)[T.4.54]    383.9767   1004.666      0.382      0.702   -1585.178    2353.131\n",
              "C(x)[T.4.55]    431.0671   1005.557      0.429      0.668   -1539.834    2401.968\n",
              "C(x)[T.4.56]    434.1419   1005.602      0.432      0.666   -1536.847    2405.131\n",
              "C(x)[T.4.57]    437.8852   1007.030      0.435      0.664   -1535.902    2411.673\n",
              "C(x)[T.4.58]    440.7692   1005.837      0.438      0.661   -1530.679    2412.218\n",
              "C(x)[T.4.59]    456.3813   1006.036      0.454      0.650   -1515.458    2428.221\n",
              "C(x)[T.4.6]     447.6866   1006.302      0.445      0.656   -1524.675    2420.048\n",
              "C(x)[T.4.61]    460.9664   1007.235      0.458      0.647   -1513.222    2435.155\n",
              "C(x)[T.4.62]    450.9219   1006.649      0.448      0.654   -1522.119    2423.963\n",
              "C(x)[T.4.63]    491.2188   1005.099      0.489      0.625   -1478.784    2461.222\n",
              "C(x)[T.4.64]    481.7152   1005.469      0.479      0.632   -1489.013    2452.443\n",
              "C(x)[T.4.65]    512.7867   1005.513      0.510      0.610   -1458.027    2483.600\n",
              "C(x)[T.4.66]    508.6223   1004.175      0.507      0.613   -1459.569    2476.814\n",
              "C(x)[T.4.67]    506.1590   1003.985      0.504      0.614   -1461.660    2473.978\n",
              "C(x)[T.4.68]    511.7129   1003.809      0.510      0.610   -1455.760    2479.186\n",
              "C(x)[T.4.69]    526.9325   1004.985      0.524      0.600   -1442.847    2496.712\n",
              "C(x)[T.4.7]     522.9486   1003.533      0.521      0.602   -1443.984    2489.881\n",
              "C(x)[T.4.71]    547.5952   1003.621      0.546      0.585   -1419.511    2514.701\n",
              "C(x)[T.4.72]    558.2080   1003.286      0.556      0.578   -1408.241    2524.657\n",
              "C(x)[T.4.73]    574.6638   1003.117      0.573      0.567   -1391.455    2540.782\n",
              "C(x)[T.4.74]    592.5547   1002.515      0.591      0.554   -1372.382    2557.492\n",
              "C(x)[T.4.75]    571.6766   1002.582      0.570      0.569   -1393.393    2536.746\n",
              "C(x)[T.4.76]    615.9799   1002.879      0.614      0.539   -1349.672    2581.632\n",
              "C(x)[T.4.77]    618.4946   1002.475      0.617      0.537   -1346.366    2583.355\n",
              "C(x)[T.4.78]    630.9066   1002.755      0.629      0.529   -1334.501    2596.315\n",
              "C(x)[T.4.79]    640.2587   1002.725      0.639      0.523   -1325.091    2605.608\n",
              "C(x)[T.4.8]     624.3241   1002.816      0.623      0.534   -1341.204    2589.852\n",
              "C(x)[T.4.81]    639.7250   1003.858      0.637      0.524   -1327.845    2607.295\n",
              "C(x)[T.4.82]    647.1222   1004.410      0.644      0.519   -1321.529    2615.774\n",
              "C(x)[T.4.83]    630.4709   1004.147      0.628      0.530   -1337.666    2598.607\n",
              "C(x)[T.4.84]    648.2930   1005.218      0.645      0.519   -1321.943    2618.529\n",
              "C(x)[T.4.85]    675.4968   1005.299      0.672      0.502   -1294.899    2645.892\n",
              "C(x)[T.4.86]    671.8614   1008.717      0.666      0.505   -1305.233    2648.956\n",
              "C(x)[T.4.87]    669.8791   1009.793      0.663      0.507   -1309.323    2649.081\n",
              "C(x)[T.4.88]    654.9063   1009.227      0.649      0.516   -1323.187    2633.000\n",
              "C(x)[T.4.89]    667.7414   1015.952      0.657      0.511   -1323.533    2659.016\n",
              "C(x)[T.4.9]     706.0921   1011.934      0.698      0.485   -1277.306    2689.490\n",
              "C(x)[T.4.91]    750.1569   1018.273      0.737      0.461   -1245.667    2745.981\n",
              "C(x)[T.4.92]    776.3934   1015.119      0.765      0.444   -1213.248    2766.035\n",
              "C(x)[T.4.93]    806.7143   1022.382      0.789      0.430   -1197.163    2810.592\n",
              "C(x)[T.4.94]    779.4667   1020.832      0.764      0.445   -1221.372    2780.305\n",
              "C(x)[T.4.95]    833.6842   1016.249      0.820      0.412   -1158.172    2825.540\n",
              "C(x)[T.4.96]    830.2041   1019.057      0.815      0.415   -1167.156    2827.565\n",
              "C(x)[T.4.97]    870.5581   1021.841      0.852      0.394   -1132.260    2873.376\n",
              "C(x)[T.4.98]    951.6296   1017.205      0.936      0.350   -1042.101    2945.361\n",
              "C(x)[T.4.99]    974.9672   1015.119      0.960      0.337   -1014.674    2964.608\n",
              "C(x)[T.5.0]    1082.0909   1028.700      1.052      0.293    -934.169    3098.351\n",
              "C(x)[T.5.01]    924.4340   1017.548      0.908      0.364   -1069.969    2918.837\n",
              "C(x)[T.5.02]    998.7031   1014.363      0.985      0.325    -989.457    2986.863\n",
              "C(x)[T.5.03]   1041.5814   1010.424      1.031      0.303    -938.858    3022.021\n",
              "C(x)[T.5.04]   1065.7126   1010.292      1.055      0.291    -914.468    3045.893\n",
              "C(x)[T.5.05]   1090.0420   1007.235      1.082      0.279    -884.147    3064.231\n",
              "C(x)[T.5.06]   1065.8058   1006.036      1.059      0.289    -906.034    3037.645\n",
              "C(x)[T.5.07]   1129.6711   1005.426      1.124      0.261    -840.972    3100.314\n",
              "C(x)[T.5.08]   1175.5368   1004.119      1.171      0.242    -792.545    3143.619\n",
              "C(x)[T.5.09]   1151.0363   1004.038      1.146      0.252    -816.887    3118.959\n",
              "C(x)[T.5.1]    1199.8788   1003.908      1.195      0.232    -767.789    3167.547\n",
              "C(x)[T.5.11]   1258.5572   1003.833      1.254      0.210    -708.964    3226.078\n",
              "C(x)[T.5.12]   1227.4426   1003.117      1.224      0.221    -738.676    3193.561\n",
              "C(x)[T.5.13]   1251.4065   1003.533      1.247      0.212    -715.526    3218.339\n",
              "C(x)[T.5.14]   1236.7560   1003.644      1.232      0.218    -730.394    3203.906\n",
              "C(x)[T.5.15]   1262.6262   1003.713      1.258      0.208    -704.660    3229.912\n",
              "C(x)[T.5.16]   1311.3160   1003.191      1.307      0.191    -654.946    3277.578\n",
              "C(x)[T.5.17]   1264.3013   1003.228      1.260      0.208    -702.034    3230.637\n",
              "C(x)[T.5.18]   1238.9361   1003.426      1.235      0.217    -727.788    3205.660\n",
              "C(x)[T.5.19]   1324.1197   1003.135      1.320      0.187    -642.034    3290.273\n",
              "C(x)[T.5.2]    1278.9842   1004.119      1.274      0.203    -689.098    3247.066\n",
              "C(x)[T.5.21]   1332.9279   1003.667      1.328      0.184    -634.267    3300.123\n",
              "C(x)[T.5.22]   1283.6900   1003.858      1.279      0.201    -683.880    3251.260\n",
              "C(x)[T.5.23]   1303.9412   1004.203      1.298      0.194    -664.305    3272.188\n",
              "C(x)[T.5.24]   1312.3698   1004.065      1.307      0.191    -655.606    3280.345\n",
              "C(x)[T.5.25]   1397.5698   1004.666      1.391      0.164    -571.585    3366.724\n",
              "C(x)[T.5.26]   1379.2396   1004.065      1.374      0.170    -588.736    3347.215\n",
              "C(x)[T.5.27]   1398.0882   1004.734      1.392      0.164    -571.200    3367.376\n",
              "C(x)[T.5.28]   1401.7474   1004.011      1.396      0.163    -566.123    3369.618\n",
              "C(x)[T.5.29]   1400.8333   1005.023      1.394      0.163    -569.020    3370.686\n",
              "C(x)[T.5.3]    1382.2372   1005.258      1.375      0.169    -588.078    3352.552\n",
              "C(x)[T.5.31]   1428.7020   1005.469      1.421      0.155    -542.026    3399.430\n",
              "C(x)[T.5.32]   1417.3357   1005.985      1.409      0.159    -554.404    3389.075\n",
              "C(x)[T.5.33]   1433.4733   1005.513      1.426      0.154    -537.340    3404.287\n",
              "C(x)[T.5.34]   1426.6977   1006.589      1.417      0.156    -546.226    3399.621\n",
              "C(x)[T.5.35]   1484.9531   1006.649      1.475      0.140    -488.088    3457.994\n",
              "C(x)[T.5.36]   1533.9248   1006.358      1.524      0.127    -438.546    3506.395\n",
              "C(x)[T.5.37]   1486.9048   1008.344      1.475      0.140    -489.458    3463.268\n",
              "C(x)[T.5.38]   1458.9798   1008.915      1.446      0.148    -518.502    3436.462\n",
              "C(x)[T.5.39]   1535.9278   1009.121      1.522      0.128    -441.958    3513.813\n",
              "C(x)[T.5.4]    1477.9897   1009.121      1.465      0.143    -499.896    3455.875\n",
              "C(x)[T.5.41]   1608.6941   1010.559      1.592      0.111    -372.010    3589.398\n",
              "C(x)[T.5.42]   1584.4557   1011.441      1.567      0.117    -397.977    3566.888\n",
              "C(x)[T.5.43]   1596.0341   1010.163      1.580      0.114    -383.894    3575.962\n",
              "C(x)[T.5.44]   1540.6232   1013.249      1.520      0.128    -445.353    3526.599\n",
              "C(x)[T.5.45]   1671.4706   1018.273      1.641      0.101    -324.354    3667.295\n",
              "C(x)[T.5.46]   1614.7568   1012.284      1.595      0.111    -369.329    3598.842\n",
              "C(x)[T.5.47]   1679.8182   1016.875      1.652      0.099    -313.265    3672.902\n",
              "C(x)[T.5.48]   1579.1852   1017.205      1.552      0.121    -414.546    3572.916\n",
              "C(x)[T.5.49]   1708.8750   1019.473      1.676      0.094    -289.301    3707.051\n",
              "C(x)[T.5.5]    1811.7000   1023.543      1.770      0.077    -194.453    3817.853\n",
              "C(x)[T.5.51]   1610.2340   1019.907      1.579      0.114    -388.792    3609.260\n",
              "C(x)[T.5.52]   1741.4800   1018.657      1.710      0.087    -255.097    3738.057\n",
              "C(x)[T.5.53]   1797.3333   1016.249      1.769      0.077    -194.523    3789.190\n",
              "C(x)[T.5.54]   1687.1556   1020.832      1.653      0.098    -313.683    3687.994\n",
              "C(x)[T.5.55]   1874.1800   1018.657      1.840      0.066    -122.397    3870.757\n",
              "C(x)[T.5.56]   1896.9388   1019.057      1.861      0.063    -100.422    3894.299\n",
              "C(x)[T.5.57]   1851.7273   1016.875      1.821      0.069    -141.356    3844.811\n",
              "C(x)[T.5.58]   1836.8382   1013.459      1.812      0.070    -149.549    3823.226\n",
              "C(x)[T.5.59]   1860.9767   1010.424      1.842      0.066    -119.463    3841.416\n",
              "C(x)[T.5.6]    1959.2340   1009.446      1.941      0.052     -19.289    3937.757\n",
              "C(x)[T.5.61]   2003.2143   1009.017      1.985      0.047      25.533    3980.896\n",
              "C(x)[T.5.62]   1974.5196   1008.621      1.958      0.050      -2.386    3951.426\n",
              "C(x)[T.5.63]   2079.6528   1005.788      2.068      0.039     108.299    4051.007\n",
              "C(x)[T.5.64]   2026.5000   1004.804      2.017      0.044      57.076    3995.924\n",
              "C(x)[T.5.65]   2115.2706   1004.734      2.105      0.035     145.983    4084.558\n",
              "C(x)[T.5.66]   2141.7990   1003.760      2.134      0.033     174.420    4109.178\n",
              "C(x)[T.5.67]   2172.8762   1003.621      2.165      0.030     205.770    4139.982\n",
              "C(x)[T.5.68]   2206.7797   1003.099      2.200      0.028     240.696    4172.863\n",
              "C(x)[T.5.69]   2300.8638   1003.117      2.294      0.022     334.745    4266.982\n",
              "C(x)[T.5.7]    2340.8449   1002.945      2.334      0.020     375.065    4306.625\n",
              "C(x)[T.5.71]   2319.1852   1002.978      2.312      0.021     353.340    4285.030\n",
              "C(x)[T.5.72]   2338.8253   1002.582      2.333      0.020     373.756    4303.895\n",
              "C(x)[T.5.73]   2346.3657   1002.596      2.340      0.019     381.269    4311.462\n",
              "C(x)[T.5.74]   2363.2222   1002.696      2.357      0.018     397.930    4328.514\n",
              "C(x)[T.5.75]   2350.1734   1002.895      2.343      0.019     384.490    4315.857\n",
              "C(x)[T.5.76]   2367.8636   1002.995      2.361      0.018     401.985    4333.742\n",
              "C(x)[T.5.77]   2315.2429   1003.621      2.307      0.021     348.137    4282.349\n",
              "C(x)[T.5.78]   2386.3939   1003.908      2.377      0.017     418.726    4354.062\n",
              "C(x)[T.5.79]   2410.5271   1003.784      2.401      0.016     443.101    4377.953\n",
              "C(x)[T.5.8]    2432.4032   1004.232      2.422      0.015     464.101    4400.706\n",
              "C(x)[T.5.81]   2404.0397   1005.469      2.391      0.017     433.312    4374.768\n",
              "C(x)[T.5.82]   2387.6972   1005.886      2.374      0.018     416.153    4359.241\n",
              "C(x)[T.5.83]   2471.7338   1005.341      2.459      0.014     501.257    4442.211\n",
              "C(x)[T.5.84]   2440.6165   1006.358      2.425      0.015     468.146    4413.087\n",
              "C(x)[T.5.85]   2482.6928   1005.383      2.469      0.014     512.133    4453.252\n",
              "C(x)[T.5.86]   2470.3981   1008.527      2.450      0.014     493.677    4447.119\n",
              "C(x)[T.5.87]   2448.7692   1007.377      2.431      0.015     474.302    4423.237\n",
              "C(x)[T.5.88]   2476.1667   1007.165      2.459      0.014     502.114    4450.219\n",
              "C(x)[T.5.89]   2476.7586   1007.450      2.458      0.014     502.148    4451.369\n",
              "C(x)[T.5.9]    2612.6186   1009.121      2.589      0.010     634.733    4590.504\n",
              "C(x)[T.5.91]   2525.0870   1007.524      2.506      0.012     550.331    4499.843\n",
              "C(x)[T.5.92]   2586.7810   1008.344      2.565      0.010     610.418    4563.144\n",
              "C(x)[T.5.93]   2625.9863   1012.467      2.594      0.009     641.543    4610.429\n",
              "C(x)[T.5.94]   2587.7660   1009.446      2.564      0.010     609.243    4566.289\n",
              "C(x)[T.5.95]   2730.7250   1011.285      2.700      0.007     748.599    4712.851\n",
              "C(x)[T.5.96]   2679.7342   1011.441      2.649      0.008     697.302    4662.167\n",
              "C(x)[T.5.97]   2793.9362   1009.446      2.768      0.006     815.413    4772.459\n",
              "C(x)[T.5.98]   2751.6988   1010.839      2.722      0.006     770.446    4732.951\n",
              "C(x)[T.5.99]   2833.1304   1013.249      2.796      0.005     847.154    4819.107\n",
              "C(x)[T.6.0]    2800.1236   1010.037      2.772      0.006     820.443    4779.804\n",
              "C(x)[T.6.01]   2807.0361   1010.839      2.777      0.005     825.784    4788.289\n",
              "C(x)[T.6.02]   3051.8701   1011.765      3.016      0.003    1068.802    5034.938\n",
              "C(x)[T.6.03]   2780.6615   1014.127      2.742      0.006     792.965    4768.358\n",
              "C(x)[T.6.04]   3064.8721   1010.424      3.033      0.002    1084.433    5045.311\n",
              "C(x)[T.6.05]   2968.5814   1010.424      2.938      0.003     988.142    4949.021\n",
              "C(x)[T.6.06]   3288.7317   1010.984      3.253      0.001    1307.195    5270.268\n",
              "C(x)[T.6.07]   3207.2929   1008.915      3.179      0.001    1229.811    5184.775\n",
              "C(x)[T.6.08]   3150.8496   1007.677      3.127      0.002    1175.795    5125.904\n",
              "C(x)[T.6.09]   3280.0367   1007.998      3.254      0.001    1304.352    5255.722\n",
              "C(x)[T.6.1]    3501.5593   1007.305      3.476      0.001    1527.233    5475.886\n",
              "C(x)[T.6.11]   3632.3413   1006.772      3.608      0.000    1659.059    5605.623\n",
              "C(x)[T.6.12]   3460.2683   1006.964      3.436      0.001    1486.610    5433.926\n",
              "C(x)[T.6.13]   3345.0126   1005.138      3.328      0.001    1374.933    5315.092\n",
              "C(x)[T.6.14]   3658.2568   1005.602      3.638      0.000    1687.268    5629.246\n",
              "C(x)[T.6.15]   3680.8347   1007.097      3.655      0.000    1706.916    5654.754\n",
              "C(x)[T.6.16]   3650.5714   1006.772      3.626      0.000    1677.290    5623.853\n",
              "C(x)[T.6.17]   3684.5714   1006.772      3.660      0.000    1711.290    5657.853\n",
              "C(x)[T.6.18]   3772.4891   1006.140      3.749      0.000    1800.445    5744.533\n",
              "C(x)[T.6.19]   3705.3121   1005.935      3.683      0.000    1733.671    5676.953\n",
              "C(x)[T.6.2]    3740.9316   1007.377      3.714      0.000    1766.464    5715.399\n",
              "C(x)[T.6.21]   3791.7295   1007.030      3.765      0.000    1817.942    5765.517\n",
              "C(x)[T.6.22]   3773.1920   1006.835      3.748      0.000    1799.787    5746.597\n",
              "C(x)[T.6.23]   3802.0400   1008.815      3.769      0.000    1824.754    5779.326\n",
              "C(x)[T.6.24]   3921.8049   1006.964      3.895      0.000    1948.147    5895.463\n",
              "C(x)[T.6.25]   4041.1504   1007.677      4.010      0.000    2066.096    6016.205\n",
              "C(x)[T.6.26]   3997.5631   1008.527      3.964      0.000    2020.842    5974.284\n",
              "C(x)[T.6.27]   4033.5075   1006.302      4.008      0.000    2061.146    6005.869\n",
              "C(x)[T.6.28]   4163.8214   1007.755      4.132      0.000    2188.613    6139.029\n",
              "C(x)[T.6.29]   4457.4306   1005.788      4.432      0.000    2486.077    6428.784\n",
              "C(x)[T.6.3]    4174.4228   1005.557      4.151      0.000    2203.522    6145.324\n",
              "C(x)[T.6.31]   4583.0455   1005.341      4.559      0.000    2612.568    6553.522\n",
              "C(x)[T.6.32]   4518.3815   1004.633      4.498      0.000    2549.292    6487.471\n",
              "C(x)[T.6.33]   4598.9630   1005.023      4.576      0.000    2629.110    6568.816\n",
              "C(x)[T.6.34]   4816.2368   1003.247      4.801      0.000    2849.864    6782.610\n",
              "C(x)[T.6.35]   4750.5900   1003.858      4.732      0.000    2783.020    6718.160\n",
              "C(x)[T.6.36]   5103.6089   1003.305      5.087      0.000    3137.122    7070.096\n",
              "C(x)[T.6.37]   4872.9231   1002.710      4.860      0.000    2907.603    6838.244\n",
              "C(x)[T.6.38]   5040.0320   1002.863      5.026      0.000    3074.411    7005.653\n",
              "C(x)[T.6.39]   5163.9375   1002.770      5.150      0.000    3198.500    7129.375\n",
              "C(x)[T.6.4]    5040.8043   1003.209      5.025      0.000    3074.506    7007.103\n",
              "C(x)[T.6.41]   5214.2205   1002.801      5.200      0.000    3248.723    7179.718\n",
              "C(x)[T.6.42]   5112.6234   1003.046      5.097      0.000    3146.644    7078.603\n",
              "C(x)[T.6.43]   5179.7341   1002.610      5.166      0.000    3214.610    7144.858\n",
              "C(x)[T.6.44]   5448.9740   1003.191      5.432      0.000    3482.712    7415.236\n",
              "C(x)[T.6.45]   5215.5197   1002.801      5.201      0.000    3250.022    7181.017\n",
              "C(x)[T.6.46]   5457.9587   1003.447      5.439      0.000    3491.194    7424.724\n",
              "C(x)[T.6.47]   5082.9457   1002.740      5.069      0.000    3117.567    7048.324\n",
              "C(x)[T.6.48]   5323.3598   1003.533      5.305      0.000    3356.428    7290.292\n",
              "C(x)[T.6.49]   5296.2267   1002.912      5.281      0.000    3330.511    7261.942\n",
              "C(x)[T.6.5]    5329.7559   1003.554      5.311      0.000    3362.781    7296.731\n",
              "C(x)[T.6.51]   5040.9686   1003.345      5.024      0.000    3074.404    7007.533\n",
              "C(x)[T.6.52]   5514.1355   1003.533      5.495      0.000    3547.203    7481.068\n",
              "C(x)[T.6.53]   5441.5219   1003.247      5.424      0.000    3475.149    7407.895\n",
              "C(x)[T.6.54]   5357.7005   1003.468      5.339      0.000    3390.894    7324.507\n",
              "C(x)[T.6.55]   5408.7804   1003.533      5.390      0.000    3441.848    7375.713\n",
              "C(x)[T.6.56]   5403.9659   1003.737      5.384      0.000    3436.634    7371.298\n",
              "C(x)[T.6.57]   5406.0870   1004.290      5.383      0.000    3437.671    7374.503\n",
              "C(x)[T.6.58]   5334.3110   1004.948      5.308      0.000    3364.604    7304.018\n",
              "C(x)[T.6.59]   5329.5135   1004.261      5.307      0.000    3361.154    7297.873\n",
              "C(x)[T.6.6]    5280.4329   1004.948      5.254      0.000    3310.726    7250.140\n",
              "C(x)[T.6.61]   5194.7765   1004.441      5.172      0.000    3226.065    7163.489\n",
              "C(x)[T.6.62]   5635.1709   1005.178      5.606      0.000    3665.014    7605.328\n",
              "C(x)[T.6.63]   5613.3165   1006.036      5.580      0.000    3641.477    7585.156\n",
              "C(x)[T.6.64]   5529.8366   1005.383      5.500      0.000    3559.277    7500.396\n",
              "C(x)[T.6.65]   5431.1078   1004.839      5.405      0.000    3461.614    7400.601\n",
              "C(x)[T.6.66]   5666.2185   1005.469      5.635      0.000    3695.491    7636.946\n",
              "C(x)[T.6.67]   5931.8741   1006.248      5.895      0.000    3959.620    7904.128\n",
              "C(x)[T.6.68]   5625.5376   1004.633      5.600      0.000    3656.448    7594.627\n",
              "C(x)[T.6.69]   5823.2880   1006.835      5.784      0.000    3849.883    7796.693\n",
              "C(x)[T.6.7]    5851.0690   1005.741      5.818      0.000    3879.808    7822.330\n",
              "C(x)[T.6.71]   5918.6522   1007.524      5.874      0.000    3943.896    7893.408\n",
              "C(x)[T.6.72]   5687.4538   1006.530      5.651      0.000    3714.646    7660.261\n",
              "C(x)[T.6.73]   5508.9792   1005.788      5.477      0.000    3537.625    7480.333\n",
              "C(x)[T.6.74]   5919.1049   1005.023      5.890      0.000    3949.252    7888.958\n",
              "C(x)[T.6.75]   6096.0236   1006.710      6.055      0.000    4122.863    8069.184\n",
              "C(x)[T.6.76]   6232.6757   1007.834      6.184      0.000    4257.312    8208.040\n",
              "C(x)[T.6.77]   6042.8356   1005.694      6.009      0.000    4071.667    8014.005\n",
              "C(x)[T.6.78]   6224.0141   1005.886      6.188      0.000    4252.470    8195.558\n",
              "C(x)[T.6.79]   6228.4701   1006.302      6.189      0.000    4256.109    8200.831\n",
              "C(x)[T.6.8]    6007.9023   1006.358      5.970      0.000    4035.432    7980.373\n",
              "C(x)[T.6.81]   6516.4355   1006.899      6.472      0.000    4542.905    8489.966\n",
              "C(x)[T.6.82]   6296.9044   1006.194      6.258      0.000    4324.756    8269.052\n",
              "C(x)[T.6.83]   6681.3636   1007.097      6.634      0.000    4707.445    8655.282\n",
              "C(x)[T.6.84]   6378.8919   1005.602      6.343      0.000    4407.903    8349.881\n",
              "C(x)[T.6.85]   6449.3448   1007.450      6.402      0.000    4474.734    8423.955\n",
              "C(x)[T.6.86]   6545.1040   1006.835      6.501      0.000    4571.699    8518.509\n",
              "C(x)[T.6.87]   6977.7241   1007.450      6.926      0.000    5003.114    8952.335\n",
              "C(x)[T.6.88]   6916.8264   1007.097      6.868      0.000    4942.908    8890.745\n",
              "C(x)[T.6.89]   6757.4407   1007.305      6.708      0.000    4783.114    8731.767\n",
              "C(x)[T.6.9]    6768.4286   1007.755      6.716      0.000    4793.221    8743.637\n",
              "C(x)[T.6.91]   6279.5702   1007.600      6.232      0.000    4304.666    8254.474\n",
              "C(x)[T.6.92]   6636.5596   1007.998      6.584      0.000    4660.875    8612.244\n",
              "C(x)[T.6.93]   6572.6633   1009.017      6.514      0.000    4594.982    8550.345\n",
              "C(x)[T.6.94]   7084.1087   1009.675      7.016      0.000    5105.138    9063.080\n",
              "C(x)[T.6.95]   7418.7813   1009.227      7.351      0.000    5440.688    9396.875\n",
              "C(x)[T.6.96]   7227.0000   1010.163      7.154      0.000    5247.072    9206.928\n",
              "C(x)[T.6.97]   7378.9556   1009.913      7.307      0.000    5399.517    9358.394\n",
              "C(x)[T.6.98]   6899.8144   1009.121      6.837      0.000    4921.929    8877.700\n",
              "C(x)[T.6.99]   7000.8533   1012.106      6.917      0.000    5017.116    8984.591\n",
              "C(x)[T.7.0]    6695.3385   1014.127      6.602      0.000    4707.642    8683.035\n",
              "C(x)[T.7.01]   7154.8630   1012.467      7.067      0.000    5170.420    9139.306\n",
              "C(x)[T.7.02]   7242.6026   1011.601      7.160      0.000    5259.856    9225.349\n",
              "C(x)[T.7.03]   7610.1571   1013.045      7.512      0.000    5624.581    9595.734\n",
              "C(x)[T.7.04]   7625.3273   1016.875      7.499      0.000    5632.244    9618.411\n",
              "C(x)[T.7.05]   7036.9265   1013.459      6.943      0.000    5050.539    9023.314\n",
              "C(x)[T.7.06]   7454.2766   1019.907      7.309      0.000    5455.250    9453.303\n",
              "C(x)[T.7.07]   6594.1200   1018.657      6.473      0.000    4597.543    8590.697\n",
              "C(x)[T.7.08]   7321.4167   1019.473      7.182      0.000    5323.240    9319.593\n",
              "C(x)[T.7.09]   7488.8043   1020.359      7.339      0.000    5488.891    9488.717\n",
              "C(x)[T.7.1]    7271.3659   1022.949      7.108      0.000    5266.378    9276.354\n",
              "C(x)[T.7.11]   7429.3939   1028.700      7.222      0.000    5413.134    9445.654\n",
              "C(x)[T.7.12]   8253.2143   1016.556      8.119      0.000    6260.755    1.02e+04\n",
              "C(x)[T.7.13]   7867.7209   1021.841      7.700      0.000    5864.903    9870.539\n",
              "C(x)[T.7.14]   8223.5484   1030.594      7.979      0.000    6203.575    1.02e+04\n",
              "C(x)[T.7.15]   8171.5000   1021.325      8.001      0.000    6169.694    1.02e+04\n",
              "C(x)[T.7.16]   7952.4912   1016.249      7.825      0.000    5960.635    9944.348\n",
              "C(x)[T.7.17]   8509.8704   1017.205      8.366      0.000    6516.139    1.05e+04\n",
              "C(x)[T.7.18]   8478.0588   1018.273      8.326      0.000    6482.235    1.05e+04\n",
              "C(x)[T.7.19]   7852.1250   1019.473      7.702      0.000    5853.949    9850.301\n",
              "C(x)[T.7.2]    9438.6667   1015.387      9.296      0.000    7448.499    1.14e+04\n",
              "C(x)[T.7.21]   9083.0847   1015.665      8.943      0.000    7092.373    1.11e+04\n",
              "C(x)[T.7.22]   8904.7143   1019.057      8.738      0.000    6907.354    1.09e+04\n",
              "C(x)[T.7.23]   9215.2941   1018.273      9.050      0.000    7219.470    1.12e+04\n",
              "C(x)[T.7.24]   8927.6377   1013.249      8.811      0.000    6941.661    1.09e+04\n",
              "C(x)[T.7.25]   9945.3976   1010.839      9.839      0.000    7964.145    1.19e+04\n",
              "C(x)[T.7.26]   9038.2667   1012.106      8.930      0.000    7054.529     1.1e+04\n",
              "C(x)[T.7.27]   9701.1546   1009.121      9.613      0.000    7723.269    1.17e+04\n",
              "C(x)[T.7.28]   9837.3056   1008.082      9.758      0.000    7861.456    1.18e+04\n",
              "C(x)[T.7.29]   9921.1818   1010.163      9.821      0.000    7941.254    1.19e+04\n",
              "C(x)[T.7.3]    1.043e+04   1009.559     10.331      0.000    8451.105    1.24e+04\n",
              "C(x)[T.7.31]   9947.0960   1006.835      9.880      0.000    7973.691    1.19e+04\n",
              "C(x)[T.7.32]   1.055e+04   1009.335     10.456      0.000    8574.947    1.25e+04\n",
              "C(x)[T.7.33]   1.063e+04   1009.121     10.537      0.000    8655.671    1.26e+04\n",
              "C(x)[T.7.34]   1.009e+04   1007.235     10.017      0.000    8115.719    1.21e+04\n",
              "C(x)[T.7.35]   1.014e+04   1008.255     10.058      0.000    8164.755    1.21e+04\n",
              "C(x)[T.7.36]    1.02e+04   1008.344     10.114      0.000    8221.904    1.22e+04\n",
              "C(x)[T.7.37]   1.053e+04   1009.121     10.434      0.000    8550.919    1.25e+04\n",
              "C(x)[T.7.38]   1.052e+04   1007.235     10.445      0.000    8546.341    1.25e+04\n",
              "C(x)[T.7.39]   1.035e+04   1007.524     10.276      0.000    8378.748    1.23e+04\n",
              "C(x)[T.7.4]    1.026e+04   1010.839     10.150      0.000    8278.964    1.22e+04\n",
              "C(x)[T.7.41]   1.047e+04   1009.446     10.376      0.000    8495.094    1.25e+04\n",
              "C(x)[T.7.42]   1.034e+04   1010.424     10.235      0.000    8361.479    1.23e+04\n",
              "C(x)[T.7.43]   1.021e+04   1010.163     10.112      0.000    8235.038    1.22e+04\n",
              "C(x)[T.7.44]   1.054e+04   1010.163     10.436      0.000    8561.697    1.25e+04\n",
              "C(x)[T.7.45]   1.027e+04   1009.559     10.176      0.000    8294.352    1.23e+04\n",
              "C(x)[T.7.46]   9926.5541   1012.284      9.806      0.000    7942.469    1.19e+04\n",
              "C(x)[T.7.47]   1.028e+04   1011.285     10.163      0.000    8295.624    1.23e+04\n",
              "C(x)[T.7.48]   1.098e+04   1010.292     10.872      0.000    9003.911     1.3e+04\n",
              "C(x)[T.7.49]   1.123e+04   1015.387     11.061      0.000    9240.749    1.32e+04\n",
              "C(x)[T.7.5]    1.037e+04   1015.387     10.212      0.000    8378.716    1.24e+04\n",
              "C(x)[T.7.51]   1.045e+04   1013.045     10.312      0.000    8460.866    1.24e+04\n",
              "C(x)[T.7.52]   1.062e+04   1014.859     10.464      0.000    8630.739    1.26e+04\n",
              "C(x)[T.7.53]   1.031e+04   1011.601     10.195      0.000    8330.228    1.23e+04\n",
              "C(x)[T.7.54]   1.077e+04   1013.897     10.625      0.000    8785.207    1.28e+04\n",
              "C(x)[T.7.55]   1.078e+04   1016.556     10.607      0.000    8789.880    1.28e+04\n",
              "C(x)[T.7.56]    1.03e+04   1018.657     10.110      0.000    8302.363    1.23e+04\n",
              "C(x)[T.7.57]   1.125e+04   1016.249     11.069      0.000    9257.056    1.32e+04\n",
              "C(x)[T.7.58]   1.133e+04   1019.907     11.110      0.000    9332.569    1.33e+04\n",
              "C(x)[T.7.59]   1.072e+04   1017.205     10.538      0.000    8725.325    1.27e+04\n",
              "C(x)[T.7.6]    1.084e+04   1018.657     10.641      0.000    8843.143    1.28e+04\n",
              "C(x)[T.7.61]   1.145e+04   1017.904     11.252      0.000    9458.227    1.34e+04\n",
              "C(x)[T.7.62]   1.125e+04   1021.325     11.018      0.000    9251.194    1.33e+04\n",
              "C(x)[T.7.63]   1.176e+04   1019.473     11.531      0.000    9757.615    1.38e+04\n",
              "C(x)[T.7.64]   1.135e+04   1024.825     11.072      0.000    9338.598    1.34e+04\n",
              "C(x)[T.7.65]   1.281e+04   1026.247     12.481      0.000    1.08e+04    1.48e+04\n",
              "C(x)[T.7.66]   1.082e+04   1036.582     10.440      0.000    8790.444    1.29e+04\n",
              "C(x)[T.7.67]   1.149e+04   1024.168     11.214      0.000    9477.725    1.35e+04\n",
              "C(x)[T.7.68]   1.144e+04   1026.247     11.149      0.000    9429.741    1.35e+04\n",
              "C(x)[T.7.69]   1.141e+04   1035.210     11.019      0.000    9377.646    1.34e+04\n",
              "C(x)[T.7.7]    1.187e+04   1036.582     11.451      0.000    9837.867    1.39e+04\n",
              "C(x)[T.7.71]   1.115e+04   1032.746     10.792      0.000    9121.638    1.32e+04\n",
              "C(x)[T.7.72]   1.264e+04   1026.247     12.316      0.000    1.06e+04    1.47e+04\n",
              "C(x)[T.7.73]   1.079e+04   1033.935     10.438      0.000    8765.372    1.28e+04\n",
              "C(x)[T.7.74]   1.231e+04   1030.594     11.945      0.000    1.03e+04    1.43e+04\n",
              "C(x)[T.7.75]   1.142e+04   1050.133     10.879      0.000    9365.783    1.35e+04\n",
              "C(x)[T.7.76]   1.192e+04   1030.594     11.567      0.000    9901.027    1.39e+04\n",
              "C(x)[T.7.77]   1.133e+04   1038.062     10.916      0.000    9296.869    1.34e+04\n",
              "C(x)[T.7.78]   1.161e+04   1036.582     11.201      0.000    9578.944    1.36e+04\n",
              "C(x)[T.7.79]   1.145e+04   1032.746     11.091      0.000    9429.913    1.35e+04\n",
              "C(x)[T.7.8]    1.167e+04   1052.908     11.082      0.000    9604.792    1.37e+04\n",
              "C(x)[T.7.81]   1.223e+04   1072.965     11.399      0.000    1.01e+04    1.43e+04\n",
              "C(x)[T.7.82]   1.205e+04   1047.630     11.505      0.000    9999.287    1.41e+04\n",
              "C(x)[T.7.83]    1.19e+04   1067.843     11.147      0.000    9810.733     1.4e+04\n",
              "C(x)[T.7.84]   1.148e+04   1050.133     10.929      0.000    9418.467    1.35e+04\n",
              "C(x)[T.7.85]   1.325e+04   1043.292     12.704      0.000    1.12e+04    1.53e+04\n",
              "C(x)[T.7.86]    1.33e+04   1047.630     12.692      0.000    1.12e+04    1.54e+04\n",
              "C(x)[T.7.87]   1.254e+04   1063.384     11.792      0.000    1.05e+04    1.46e+04\n",
              "C(x)[T.7.88]    1.17e+04   1041.400     11.230      0.000    9653.978    1.37e+04\n",
              "C(x)[T.7.89]   1.267e+04   1056.000     11.994      0.000    1.06e+04    1.47e+04\n",
              "C(x)[T.7.9]    1.364e+04   1036.582     13.157      0.000    1.16e+04    1.57e+04\n",
              "C(x)[T.7.91]   1.411e+04   1038.062     13.596      0.000    1.21e+04    1.61e+04\n",
              "C(x)[T.7.92]   1.407e+04   1067.843     13.181      0.000     1.2e+04    1.62e+04\n",
              "C(x)[T.7.93]   1.205e+04   1039.663     11.590      0.000       1e+04    1.41e+04\n",
              "C(x)[T.7.94]   1.435e+04   1043.292     13.754      0.000    1.23e+04    1.64e+04\n",
              "C(x)[T.7.95]   1.367e+04   1043.292     13.100      0.000    1.16e+04    1.57e+04\n",
              "C(x)[T.7.96]     1.4e+04   1045.360     13.393      0.000     1.2e+04     1.6e+04\n",
              "C(x)[T.7.97]   1.288e+04   1039.663     12.387      0.000    1.08e+04    1.49e+04\n",
              "C(x)[T.7.98]   1.461e+04   1033.935     14.127      0.000    1.26e+04    1.66e+04\n",
              "C(x)[T.7.99]    1.35e+04   1032.746     13.073      0.000    1.15e+04    1.55e+04\n",
              "C(x)[T.8.0]    1.517e+04   1043.292     14.537      0.000    1.31e+04    1.72e+04\n",
              "C(x)[T.8.01]   1.324e+04   1026.247     12.898      0.000    1.12e+04    1.52e+04\n",
              "C(x)[T.8.02]   1.408e+04   1030.594     13.660      0.000    1.21e+04    1.61e+04\n",
              "C(x)[T.8.03]   1.467e+04   1024.168     14.323      0.000    1.27e+04    1.67e+04\n",
              "C(x)[T.8.04]   1.402e+04   1019.473     13.752      0.000     1.2e+04     1.6e+04\n",
              "C(x)[T.8.05]   1.292e+04   1022.382     12.637      0.000    1.09e+04    1.49e+04\n",
              "C(x)[T.8.06]   1.427e+04   1018.657     14.010      0.000    1.23e+04    1.63e+04\n",
              "C(x)[T.8.07]   1.488e+04   1019.473     14.596      0.000    1.29e+04    1.69e+04\n",
              "C(x)[T.8.08]   1.471e+04   1020.359     14.418      0.000    1.27e+04    1.67e+04\n",
              "C(x)[T.8.09]   1.411e+04   1019.057     13.843      0.000    1.21e+04    1.61e+04\n",
              "C(x)[T.8.1]    1.415e+04   1019.057     13.890      0.000    1.22e+04    1.62e+04\n",
              "C(x)[T.8.11]   1.434e+04   1019.057     14.074      0.000    1.23e+04    1.63e+04\n",
              "C(x)[T.8.12]   1.454e+04   1019.473     14.262      0.000    1.25e+04    1.65e+04\n",
              "C(x)[T.8.13]   1.413e+04   1019.057     13.867      0.000    1.21e+04    1.61e+04\n",
              "C(x)[T.8.14]   1.478e+04   1018.657     14.505      0.000    1.28e+04    1.68e+04\n",
              "C(x)[T.8.15]   1.465e+04   1019.057     14.379      0.000    1.27e+04    1.67e+04\n",
              "C(x)[T.8.16]   1.506e+04   1022.949     14.723      0.000    1.31e+04    1.71e+04\n",
              "C(x)[T.8.17]   1.544e+04   1022.949     15.094      0.000    1.34e+04    1.74e+04\n",
              "C(x)[T.8.18]   1.456e+04   1026.247     14.188      0.000    1.25e+04    1.66e+04\n",
              "C(x)[T.8.19]   1.458e+04   1025.517     14.214      0.000    1.26e+04    1.66e+04\n",
              "C(x)[T.8.2]    1.506e+04   1022.382     14.733      0.000    1.31e+04    1.71e+04\n",
              "C(x)[T.8.21]    1.46e+04   1021.325     14.298      0.000    1.26e+04    1.66e+04\n",
              "C(x)[T.8.22]   1.502e+04   1028.700     14.601      0.000     1.3e+04     1.7e+04\n",
              "C(x)[T.8.23]   1.462e+04   1022.949     14.294      0.000    1.26e+04    1.66e+04\n",
              "C(x)[T.8.24]   1.516e+04   1024.825     14.797      0.000    1.32e+04    1.72e+04\n",
              "C(x)[T.8.25]   1.362e+04   1027.835     13.247      0.000    1.16e+04    1.56e+04\n",
              "C(x)[T.8.26]   1.374e+04   1031.634     13.317      0.000    1.17e+04    1.58e+04\n",
              "C(x)[T.8.27]   1.527e+04   1030.594     14.819      0.000    1.33e+04    1.73e+04\n",
              "C(x)[T.8.28]   1.501e+04   1023.543     14.662      0.000     1.3e+04     1.7e+04\n",
              "C(x)[T.8.29]     1.5e+04   1031.634     14.539      0.000     1.3e+04     1.7e+04\n",
              "C(x)[T.8.3]    1.388e+04   1036.582     13.393      0.000    1.19e+04    1.59e+04\n",
              "C(x)[T.8.31]   1.386e+04   1032.746     13.416      0.000    1.18e+04    1.59e+04\n",
              "C(x)[T.8.32]   1.478e+04   1043.292     14.164      0.000    1.27e+04    1.68e+04\n",
              "C(x)[T.8.33]   1.402e+04   1063.384     13.187      0.000    1.19e+04    1.61e+04\n",
              "C(x)[T.8.34]   1.492e+04   1043.292     14.305      0.000    1.29e+04     1.7e+04\n",
              "C(x)[T.8.35]     1.5e+04   1063.384     14.102      0.000    1.29e+04    1.71e+04\n",
              "C(x)[T.8.36]   1.547e+04   1038.062     14.908      0.000    1.34e+04    1.75e+04\n",
              "C(x)[T.8.37]    1.41e+04   1043.292     13.517      0.000    1.21e+04    1.61e+04\n",
              "C(x)[T.8.38]   1.576e+04   1047.630     15.046      0.000    1.37e+04    1.78e+04\n",
              "C(x)[T.8.39]    1.44e+04   1052.908     13.679      0.000    1.23e+04    1.65e+04\n",
              "C(x)[T.8.4]    1.382e+04   1043.292     13.250      0.000    1.18e+04    1.59e+04\n",
              "C(x)[T.8.41]    1.51e+04   1039.663     14.528      0.000    1.31e+04    1.71e+04\n",
              "C(x)[T.8.42]   1.459e+04   1056.000     13.819      0.000    1.25e+04    1.67e+04\n",
              "C(x)[T.8.43]   1.542e+04   1050.133     14.684      0.000    1.34e+04    1.75e+04\n",
              "C(x)[T.8.44]   1.492e+04   1072.965     13.904      0.000    1.28e+04     1.7e+04\n",
              "C(x)[T.8.45]   1.509e+04   1056.000     14.289      0.000     1.3e+04    1.72e+04\n",
              "C(x)[T.8.46]   1.387e+04   1067.843     12.993      0.000    1.18e+04     1.6e+04\n",
              "C(x)[T.8.47]   1.553e+04   1052.908     14.747      0.000    1.35e+04    1.76e+04\n",
              "C(x)[T.8.48]   1.424e+04   1094.214     13.014      0.000    1.21e+04    1.64e+04\n",
              "C(x)[T.8.49]   1.585e+04   1063.384     14.909      0.000    1.38e+04    1.79e+04\n",
              "C(x)[T.8.5]    1.614e+04   1153.402     13.996      0.000    1.39e+04    1.84e+04\n",
              "C(x)[T.8.51]   1.467e+04   1067.843     13.736      0.000    1.26e+04    1.68e+04\n",
              "C(x)[T.8.52]   1.396e+04   1078.909     12.942      0.000    1.18e+04    1.61e+04\n",
              "C(x)[T.8.53]   1.502e+04   1132.619     13.257      0.000    1.28e+04    1.72e+04\n",
              "C(x)[T.8.54]   1.503e+04   1085.892     13.841      0.000    1.29e+04    1.72e+04\n",
              "C(x)[T.8.55]    1.52e+04   1132.619     13.421      0.000     1.3e+04    1.74e+04\n",
              "C(x)[T.8.56]   1.584e+04   1132.619     13.982      0.000    1.36e+04    1.81e+04\n",
              "C(x)[T.8.57]   1.534e+04   1116.777     13.733      0.000    1.31e+04    1.75e+04\n",
              "C(x)[T.8.58]   1.598e+04   1078.909     14.816      0.000    1.39e+04    1.81e+04\n",
              "C(x)[T.8.59]   1.542e+04   1223.368     12.605      0.000     1.3e+04    1.78e+04\n",
              "C(x)[T.8.6]    1.502e+04   1078.909     13.920      0.000    1.29e+04    1.71e+04\n",
              "C(x)[T.8.61]   1.607e+04   1153.402     13.929      0.000    1.38e+04    1.83e+04\n",
              "C(x)[T.8.62]   1.653e+04   1181.886     13.982      0.000    1.42e+04    1.88e+04\n",
              "C(x)[T.8.63]   1.588e+04   1104.299     14.384      0.000    1.37e+04     1.8e+04\n",
              "C(x)[T.8.64]   1.416e+04   1153.402     12.276      0.000    1.19e+04    1.64e+04\n",
              "C(x)[T.8.65]   1.496e+04   1132.619     13.208      0.000    1.27e+04    1.72e+04\n",
              "C(x)[T.8.66]   1.392e+04   1153.402     12.068      0.000    1.17e+04    1.62e+04\n",
              "C(x)[T.8.67]   1.562e+04   1412.624     11.061      0.000    1.29e+04    1.84e+04\n",
              "C(x)[T.8.68]   1.488e+04   1132.619     13.141      0.000    1.27e+04    1.71e+04\n",
              "C(x)[T.8.69]   1.718e+04   1223.368     14.043      0.000    1.48e+04    1.96e+04\n",
              "C(x)[T.8.7]    1.488e+04   1116.777     13.328      0.000    1.27e+04    1.71e+04\n",
              "C(x)[T.8.71]   1.429e+04   1153.402     12.392      0.000     1.2e+04    1.66e+04\n",
              "C(x)[T.8.72]   1.661e+04   1223.368     13.580      0.000    1.42e+04     1.9e+04\n",
              "C(x)[T.8.73]   1.697e+04   1289.543     13.160      0.000    1.44e+04    1.95e+04\n",
              "C(x)[T.8.74]   1.266e+04   1730.104      7.317      0.000    9268.982    1.61e+04\n",
              "C(x)[T.8.75]   1.314e+04   1116.777     11.769      0.000     1.1e+04    1.53e+04\n",
              "C(x)[T.8.76]   1.516e+04   1132.619     13.385      0.000    1.29e+04    1.74e+04\n",
              "C(x)[T.8.77]   1.684e+04   1289.543     13.057      0.000    1.43e+04    1.94e+04\n",
              "C(x)[T.8.78]   1.672e+04   1412.624     11.835      0.000     1.4e+04    1.95e+04\n",
              "C(x)[T.8.79]   1.244e+04   1730.104      7.193      0.000    9052.982    1.58e+04\n",
              "C(x)[T.8.8]    1.511e+04   1181.886     12.781      0.000    1.28e+04    1.74e+04\n",
              "C(x)[T.8.81]    1.36e+04   1181.886     11.509      0.000    1.13e+04    1.59e+04\n",
              "C(x)[T.8.82]    1.44e+04   1223.368     11.767      0.000     1.2e+04    1.68e+04\n",
              "C(x)[T.8.83]   1.587e+04   1153.402     13.759      0.000    1.36e+04    1.81e+04\n",
              "C(x)[T.8.84]   1.553e+04   1412.624     10.993      0.000    1.28e+04    1.83e+04\n",
              "C(x)[T.8.85]   1.632e+04   1223.368     13.337      0.000    1.39e+04    1.87e+04\n",
              "C(x)[T.8.87]   1.669e+04   1153.402     14.470      0.000    1.44e+04     1.9e+04\n",
              "C(x)[T.8.88]   1.567e+04   1223.368     12.812      0.000    1.33e+04    1.81e+04\n",
              "C(x)[T.8.89]   1.806e+04   1730.104     10.440      0.000    1.47e+04    2.15e+04\n",
              "C(x)[T.8.9]    1.755e+04   1412.624     12.427      0.000    1.48e+04    2.03e+04\n",
              "C(x)[T.8.93]   1.145e+04   1289.543      8.876      0.000    8918.151     1.4e+04\n",
              "C(x)[T.8.97]   1.743e+04   1730.104     10.077      0.000     1.4e+04    2.08e+04\n",
              "C(x)[T.8.99]   1.691e+04   1181.886     14.304      0.000    1.46e+04    1.92e+04\n",
              "C(x)[T.9.03]   1.466e+04   1730.104      8.475      0.000    1.13e+04    1.81e+04\n",
              "C(x)[T.9.04]   1.279e+04   1730.104      7.392      0.000    9397.982    1.62e+04\n",
              "C(x)[T.9.05]   1.684e+04   1730.104      9.735      0.000    1.35e+04    2.02e+04\n",
              "C(x)[T.9.06]   1.788e+04   1412.624     12.654      0.000    1.51e+04    2.06e+04\n",
              "C(x)[T.9.08]   1.278e+04   1412.624      9.048      0.000       1e+04    1.56e+04\n",
              "C(x)[T.9.1]    7673.0000   1730.104      4.435      0.000    4281.982    1.11e+04\n",
              "C(x)[T.9.11]   9131.0000   1412.624      6.464      0.000    6362.246    1.19e+04\n",
              "C(x)[T.9.13]   1.678e+04   1730.104      9.698      0.000    1.34e+04    2.02e+04\n",
              "C(x)[T.9.14]   1.499e+04   1730.104      8.662      0.000    1.16e+04    1.84e+04\n",
              "C(x)[T.9.15]   9456.0000   1730.104      5.466      0.000    6064.982    1.28e+04\n",
              "C(x)[T.9.17]   1.123e+04   1730.104      6.489      0.000    7835.982    1.46e+04\n",
              "C(x)[T.9.23]   6145.0000   1730.104      3.552      0.000    2753.982    9536.018\n",
              "C(x)[T.9.24]   9558.0000   1730.104      5.525      0.000    6166.982    1.29e+04\n",
              "C(x)[T.9.25]   1.567e+04   1730.104      9.057      0.000    1.23e+04    1.91e+04\n",
              "C(x)[T.9.26]   1.009e+04   1730.104      5.830      0.000    6694.982    1.35e+04\n",
              "C(x)[T.9.3]     1.66e+04   1730.104      9.597      0.000    1.32e+04       2e+04\n",
              "C(x)[T.9.32]   1.455e+04   1730.104      8.410      0.000    1.12e+04    1.79e+04\n",
              "C(x)[T.9.35]   1.834e+04   1730.104     10.602      0.000     1.5e+04    2.17e+04\n",
              "C(x)[T.9.36]   1.788e+04   1730.104     10.332      0.000    1.45e+04    2.13e+04\n",
              "C(x)[T.9.38]    1.05e+04   1730.104      6.067      0.000    7104.982    1.39e+04\n",
              "C(x)[T.9.41]   1.834e+04   1730.104     10.602      0.000     1.5e+04    2.17e+04\n",
              "C(x)[T.9.42]   1.422e+04   1412.624     10.064      0.000    1.14e+04     1.7e+04\n",
              "C(x)[T.9.44]   1.467e+04   1289.543     11.377      0.000    1.21e+04    1.72e+04\n",
              "C(x)[T.9.49]   1.218e+04   1730.104      7.039      0.000    8786.982    1.56e+04\n",
              "C(x)[T.9.51]   1.819e+04   1730.104     10.515      0.000    1.48e+04    2.16e+04\n",
              "C(x)[T.9.53]    1.13e+04   1730.104      6.532      0.000    7909.982    1.47e+04\n",
              "C(x)[T.9.54]   1.039e+04   1730.104      6.008      0.000    7002.982    1.38e+04\n",
              "C(x)[T.9.65]   1.222e+04   1730.104      7.063      0.000    8828.982    1.56e+04\n",
              "C(x)[T.9.66]   1.833e+04   1730.104     10.597      0.000    1.49e+04    2.17e+04\n",
              "C(x)[T.9.86]   1.583e+04   1730.104      9.147      0.000    1.24e+04    1.92e+04\n",
              "C(x)[T.10.0]   1.696e+04   1730.104      9.804      0.000    1.36e+04    2.04e+04\n",
              "C(x)[T.10.01]  1.562e+04   1730.104      9.027      0.000    1.22e+04     1.9e+04\n",
              "C(x)[T.10.02]  1.486e+04   1730.104      8.587      0.000    1.15e+04    1.82e+04\n",
              "C(x)[T.10.14]  1.486e+04   1730.104      8.587      0.000    1.15e+04    1.82e+04\n",
              "C(x)[T.10.23]  1.816e+04   1730.104     10.499      0.000    1.48e+04    2.16e+04\n",
              "C(x)[T.10.74]  1.765e+04   1730.104     10.202      0.000    1.43e+04     2.1e+04\n",
              "==============================================================================\n",
              "Omnibus:                    15205.241   Durbin-Watson:                   1.339\n",
              "Prob(Omnibus):                  0.000   Jarque-Bera (JB):           164969.641\n",
              "Skew:                           1.045   Prob(JB):                         0.00\n",
              "Kurtosis:                      11.310   Cond. No.                     3.87e+03\n",
              "==============================================================================\n",
              "\n",
              "Notes:\n",
              "[1] Standard Errors assume that the covariance matrix of the errors is correctly specified.\n",
              "[2] The condition number is large, 3.87e+03. This might indicate that there are\n",
              "strong multicollinearity or other numerical problems.\n",
              "\"\"\""
            ],
            "text/html": [
              "<table class=\"simpletable\">\n",
              "<caption>OLS Regression Results</caption>\n",
              "<tr>\n",
              "  <th>Dep. Variable:</th>          <td>price</td>      <th>  R-squared:         </th>  <td>   0.876</td>  \n",
              "</tr>\n",
              "<tr>\n",
              "  <th>Model:</th>                   <td>OLS</td>       <th>  Adj. R-squared:    </th>  <td>   0.874</td>  \n",
              "</tr>\n",
              "<tr>\n",
              "  <th>Method:</th>             <td>Least Squares</td>  <th>  F-statistic:       </th>  <td>   681.5</td>  \n",
              "</tr>\n",
              "<tr>\n",
              "  <th>Date:</th>             <td>Sat, 03 Sep 2022</td> <th>  Prob (F-statistic):</th>   <td>  0.00</td>   \n",
              "</tr>\n",
              "<tr>\n",
              "  <th>Time:</th>                 <td>10:32:04</td>     <th>  Log-Likelihood:    </th> <td>-4.6732e+05</td>\n",
              "</tr>\n",
              "<tr>\n",
              "  <th>No. Observations:</th>      <td> 53920</td>      <th>  AIC:               </th>  <td>9.358e+05</td> \n",
              "</tr>\n",
              "<tr>\n",
              "  <th>Df Residuals:</th>          <td> 53367</td>      <th>  BIC:               </th>  <td>9.407e+05</td> \n",
              "</tr>\n",
              "<tr>\n",
              "  <th>Df Model:</th>              <td>   552</td>      <th>                     </th>      <td> </td>     \n",
              "</tr>\n",
              "<tr>\n",
              "  <th>Covariance Type:</th>      <td>nonrobust</td>    <th>                     </th>      <td> </td>     \n",
              "</tr>\n",
              "</table>\n",
              "<table class=\"simpletable\">\n",
              "<tr>\n",
              "        <td></td>           <th>coef</th>     <th>std err</th>      <th>t</th>      <th>P>|t|</th>  <th>[0.025</th>    <th>0.975]</th>  \n",
              "</tr>\n",
              "<tr>\n",
              "  <th>Intercept</th>     <td>  367.0000</td> <td>  998.876</td> <td>    0.367</td> <td> 0.713</td> <td>-1590.805</td> <td> 2324.805</td>\n",
              "</tr>\n",
              "<tr>\n",
              "  <th>C(x)[T.3.74]</th>  <td>-3.789e-10</td> <td> 1730.104</td> <td>-2.19e-13</td> <td> 1.000</td> <td>-3391.018</td> <td> 3391.018</td>\n",
              "</tr>\n",
              "<tr>\n",
              "  <th>C(x)[T.3.76]</th>  <td> -1.46e-09</td> <td> 1730.104</td> <td>-8.44e-13</td> <td> 1.000</td> <td>-3391.018</td> <td> 3391.018</td>\n",
              "</tr>\n",
              "<tr>\n",
              "  <th>C(x)[T.3.77]</th>  <td> 3.632e-10</td> <td> 1730.104</td> <td>  2.1e-13</td> <td> 1.000</td> <td>-3391.018</td> <td> 3391.018</td>\n",
              "</tr>\n",
              "<tr>\n",
              "  <th>C(x)[T.3.79]</th>  <td>  -11.0000</td> <td> 1412.624</td> <td>   -0.008</td> <td> 0.994</td> <td>-2779.754</td> <td> 2757.754</td>\n",
              "</tr>\n",
              "<tr>\n",
              "  <th>C(x)[T.3.81]</th>  <td> 5.865e-10</td> <td> 1289.543</td> <td> 4.55e-13</td> <td> 1.000</td> <td>-2527.515</td> <td> 2527.515</td>\n",
              "</tr>\n",
              "<tr>\n",
              "  <th>C(x)[T.3.82]</th>  <td>   19.0000</td> <td> 1412.624</td> <td>    0.013</td> <td> 0.989</td> <td>-2749.754</td> <td> 2787.754</td>\n",
              "</tr>\n",
              "<tr>\n",
              "  <th>C(x)[T.3.83]</th>  <td>   68.0000</td> <td> 1289.543</td> <td>    0.053</td> <td> 0.958</td> <td>-2459.515</td> <td> 2595.515</td>\n",
              "</tr>\n",
              "<tr>\n",
              "  <th>C(x)[T.3.84]</th>  <td>   17.0000</td> <td> 1223.368</td> <td>    0.014</td> <td> 0.989</td> <td>-2380.812</td> <td> 2414.812</td>\n",
              "</tr>\n",
              "<tr>\n",
              "  <th>C(x)[T.3.85]</th>  <td>   81.6667</td> <td> 1153.402</td> <td>    0.071</td> <td> 0.944</td> <td>-2179.012</td> <td> 2342.345</td>\n",
              "</tr>\n",
              "<tr>\n",
              "  <th>C(x)[T.3.86]</th>  <td>   49.4000</td> <td> 1181.886</td> <td>    0.042</td> <td> 0.967</td> <td>-2267.106</td> <td> 2365.906</td>\n",
              "</tr>\n",
              "<tr>\n",
              "  <th>C(x)[T.3.87]</th>  <td>   49.3333</td> <td> 1153.402</td> <td>    0.043</td> <td> 0.966</td> <td>-2211.345</td> <td> 2310.012</td>\n",
              "</tr>\n",
              "<tr>\n",
              "  <th>C(x)[T.3.88]</th>  <td>   60.5455</td> <td> 1085.892</td> <td>    0.056</td> <td> 0.956</td> <td>-2067.813</td> <td> 2188.904</td>\n",
              "</tr>\n",
              "<tr>\n",
              "  <th>C(x)[T.3.89]</th>  <td>   98.0000</td> <td> 1085.892</td> <td>    0.090</td> <td> 0.928</td> <td>-2030.358</td> <td> 2226.358</td>\n",
              "</tr>\n",
              "<tr>\n",
              "  <th>C(x)[T.3.9]</th>   <td>  115.9524</td> <td> 1045.360</td> <td>    0.111</td> <td> 0.912</td> <td>-1932.961</td> <td> 2164.866</td>\n",
              "</tr>\n",
              "<tr>\n",
              "  <th>C(x)[T.3.91]</th>  <td>   95.8095</td> <td> 1045.360</td> <td>    0.092</td> <td> 0.927</td> <td>-1953.104</td> <td> 2144.723</td>\n",
              "</tr>\n",
              "<tr>\n",
              "  <th>C(x)[T.3.92]</th>  <td>  136.4444</td> <td> 1026.247</td> <td>    0.133</td> <td> 0.894</td> <td>-1875.009</td> <td> 2147.898</td>\n",
              "</tr>\n",
              "<tr>\n",
              "  <th>C(x)[T.3.93]</th>  <td>  110.9524</td> <td> 1022.382</td> <td>    0.109</td> <td> 0.914</td> <td>-1892.925</td> <td> 2114.830</td>\n",
              "</tr>\n",
              "<tr>\n",
              "  <th>C(x)[T.3.94]</th>  <td>  119.3556</td> <td> 1020.832</td> <td>    0.117</td> <td> 0.907</td> <td>-1881.483</td> <td> 2120.194</td>\n",
              "</tr>\n",
              "<tr>\n",
              "  <th>C(x)[T.3.95]</th>  <td>  113.8864</td> <td> 1021.325</td> <td>    0.112</td> <td> 0.911</td> <td>-1887.920</td> <td> 2115.692</td>\n",
              "</tr>\n",
              "<tr>\n",
              "  <th>C(x)[T.3.96]</th>  <td>  118.2917</td> <td> 1019.473</td> <td>    0.116</td> <td> 0.908</td> <td>-1879.885</td> <td> 2116.468</td>\n",
              "</tr>\n",
              "<tr>\n",
              "  <th>C(x)[T.3.97]</th>  <td>  125.5122</td> <td> 1022.949</td> <td>    0.123</td> <td> 0.902</td> <td>-1879.476</td> <td> 2130.500</td>\n",
              "</tr>\n",
              "<tr>\n",
              "  <th>C(x)[T.3.98]</th>  <td>  125.9714</td> <td> 1027.019</td> <td>    0.123</td> <td> 0.902</td> <td>-1886.994</td> <td> 2138.937</td>\n",
              "</tr>\n",
              "<tr>\n",
              "  <th>C(x)[T.3.99]</th>  <td>  151.2500</td> <td> 1016.556</td> <td>    0.149</td> <td> 0.882</td> <td>-1841.209</td> <td> 2143.709</td>\n",
              "</tr>\n",
              "<tr>\n",
              "  <th>C(x)[T.4.0]</th>   <td>  148.7317</td> <td> 1022.949</td> <td>    0.145</td> <td> 0.884</td> <td>-1856.256</td> <td> 2153.719</td>\n",
              "</tr>\n",
              "<tr>\n",
              "  <th>C(x)[T.4.01]</th>  <td>  182.0263</td> <td> 1024.825</td> <td>    0.178</td> <td> 0.859</td> <td>-1826.639</td> <td> 2190.692</td>\n",
              "</tr>\n",
              "<tr>\n",
              "  <th>C(x)[T.4.02]</th>  <td>  145.6000</td> <td> 1023.543</td> <td>    0.142</td> <td> 0.887</td> <td>-1860.553</td> <td> 2151.753</td>\n",
              "</tr>\n",
              "<tr>\n",
              "  <th>C(x)[T.4.03]</th>  <td>  165.6341</td> <td> 1022.949</td> <td>    0.162</td> <td> 0.871</td> <td>-1839.354</td> <td> 2170.622</td>\n",
              "</tr>\n",
              "<tr>\n",
              "  <th>C(x)[T.4.04]</th>  <td>  167.9388</td> <td> 1019.057</td> <td>    0.165</td> <td> 0.869</td> <td>-1829.422</td> <td> 2165.299</td>\n",
              "</tr>\n",
              "<tr>\n",
              "  <th>C(x)[T.4.05]</th>  <td>  157.6389</td> <td> 1026.247</td> <td>    0.154</td> <td> 0.878</td> <td>-1853.814</td> <td> 2169.092</td>\n",
              "</tr>\n",
              "<tr>\n",
              "  <th>C(x)[T.4.06]</th>  <td>  160.6316</td> <td> 1024.825</td> <td>    0.157</td> <td> 0.875</td> <td>-1848.034</td> <td> 2169.297</td>\n",
              "</tr>\n",
              "<tr>\n",
              "  <th>C(x)[T.4.07]</th>  <td>  162.6250</td> <td> 1019.473</td> <td>    0.160</td> <td> 0.873</td> <td>-1835.551</td> <td> 2160.801</td>\n",
              "</tr>\n",
              "<tr>\n",
              "  <th>C(x)[T.4.08]</th>  <td>  169.1800</td> <td> 1018.657</td> <td>    0.166</td> <td> 0.868</td> <td>-1827.397</td> <td> 2165.757</td>\n",
              "</tr>\n",
              "<tr>\n",
              "  <th>C(x)[T.4.09]</th>  <td>  179.6098</td> <td> 1022.949</td> <td>    0.176</td> <td> 0.861</td> <td>-1825.378</td> <td> 2184.598</td>\n",
              "</tr>\n",
              "<tr>\n",
              "  <th>C(x)[T.4.1]</th>   <td>  211.1800</td> <td> 1018.657</td> <td>    0.207</td> <td> 0.836</td> <td>-1785.397</td> <td> 2207.757</td>\n",
              "</tr>\n",
              "<tr>\n",
              "  <th>C(x)[T.4.11]</th>  <td>  195.6111</td> <td> 1026.247</td> <td>    0.191</td> <td> 0.849</td> <td>-1815.842</td> <td> 2207.064</td>\n",
              "</tr>\n",
              "<tr>\n",
              "  <th>C(x)[T.4.12]</th>  <td>  191.5111</td> <td> 1020.832</td> <td>    0.188</td> <td> 0.851</td> <td>-1809.328</td> <td> 2192.350</td>\n",
              "</tr>\n",
              "<tr>\n",
              "  <th>C(x)[T.4.13]</th>  <td>  182.4889</td> <td> 1020.832</td> <td>    0.179</td> <td> 0.858</td> <td>-1818.350</td> <td> 2183.328</td>\n",
              "</tr>\n",
              "<tr>\n",
              "  <th>C(x)[T.4.14]</th>  <td>  212.2093</td> <td> 1021.841</td> <td>    0.208</td> <td> 0.835</td> <td>-1790.609</td> <td> 2215.027</td>\n",
              "</tr>\n",
              "<tr>\n",
              "  <th>C(x)[T.4.15]</th>  <td>  215.4898</td> <td> 1019.057</td> <td>    0.211</td> <td> 0.833</td> <td>-1781.871</td> <td> 2212.850</td>\n",
              "</tr>\n",
              "<tr>\n",
              "  <th>C(x)[T.4.16]</th>  <td>  184.5532</td> <td> 1019.907</td> <td>    0.181</td> <td> 0.856</td> <td>-1814.473</td> <td> 2183.580</td>\n",
              "</tr>\n",
              "<tr>\n",
              "  <th>C(x)[T.4.17]</th>  <td>  222.9211</td> <td> 1024.825</td> <td>    0.218</td> <td> 0.828</td> <td>-1785.744</td> <td> 2231.587</td>\n",
              "</tr>\n",
              "<tr>\n",
              "  <th>C(x)[T.4.18]</th>  <td>  215.4118</td> <td> 1018.273</td> <td>    0.212</td> <td> 0.832</td> <td>-1780.412</td> <td> 2211.236</td>\n",
              "</tr>\n",
              "<tr>\n",
              "  <th>C(x)[T.4.19]</th>  <td>  185.5500</td> <td> 1023.543</td> <td>    0.181</td> <td> 0.856</td> <td>-1820.603</td> <td> 2191.703</td>\n",
              "</tr>\n",
              "<tr>\n",
              "  <th>C(x)[T.4.2]</th>   <td>  187.4200</td> <td> 1018.657</td> <td>    0.184</td> <td> 0.854</td> <td>-1809.157</td> <td> 2183.997</td>\n",
              "</tr>\n",
              "<tr>\n",
              "  <th>C(x)[T.4.21]</th>  <td>  221.9474</td> <td> 1016.249</td> <td>    0.218</td> <td> 0.827</td> <td>-1769.909</td> <td> 2213.804</td>\n",
              "</tr>\n",
              "<tr>\n",
              "  <th>C(x)[T.4.22]</th>  <td>  213.2949</td> <td> 1011.601</td> <td>    0.211</td> <td> 0.833</td> <td>-1769.451</td> <td> 2196.041</td>\n",
              "</tr>\n",
              "<tr>\n",
              "  <th>C(x)[T.4.23]</th>  <td>  218.4800</td> <td> 1012.106</td> <td>    0.216</td> <td> 0.829</td> <td>-1765.257</td> <td> 2202.217</td>\n",
              "</tr>\n",
              "<tr>\n",
              "  <th>C(x)[T.4.24]</th>  <td>  211.6667</td> <td> 1007.600</td> <td>    0.210</td> <td> 0.834</td> <td>-1763.237</td> <td> 2186.571</td>\n",
              "</tr>\n",
              "<tr>\n",
              "  <th>C(x)[T.4.25]</th>  <td>  242.4533</td> <td> 1005.513</td> <td>    0.241</td> <td> 0.809</td> <td>-1728.360</td> <td> 2213.267</td>\n",
              "</tr>\n",
              "<tr>\n",
              "  <th>C(x)[T.4.26]</th>  <td>  257.6345</td> <td> 1003.933</td> <td>    0.257</td> <td> 0.797</td> <td>-1710.083</td> <td> 2225.352</td>\n",
              "</tr>\n",
              "<tr>\n",
              "  <th>C(x)[T.4.27]</th>  <td>  264.2481</td> <td> 1002.740</td> <td>    0.264</td> <td> 0.792</td> <td>-1701.131</td> <td> 2229.627</td>\n",
              "</tr>\n",
              "<tr>\n",
              "  <th>C(x)[T.4.28]</th>  <td>  278.2804</td> <td> 1001.983</td> <td>    0.278</td> <td> 0.781</td> <td>-1685.614</td> <td> 2242.175</td>\n",
              "</tr>\n",
              "<tr>\n",
              "  <th>C(x)[T.4.29]</th>  <td>  268.4330</td> <td> 1001.983</td> <td>    0.268</td> <td> 0.789</td> <td>-1695.462</td> <td> 2232.328</td>\n",
              "</tr>\n",
              "<tr>\n",
              "  <th>C(x)[T.4.3]</th>   <td>  302.0748</td> <td> 1001.639</td> <td>    0.302</td> <td> 0.763</td> <td>-1661.146</td> <td> 2265.296</td>\n",
              "</tr>\n",
              "<tr>\n",
              "  <th>C(x)[T.4.31]</th>  <td>  310.1370</td> <td> 1001.454</td> <td>    0.310</td> <td> 0.757</td> <td>-1652.720</td> <td> 2272.994</td>\n",
              "</tr>\n",
              "<tr>\n",
              "  <th>C(x)[T.4.32]</th>  <td>  329.0118</td> <td> 1001.223</td> <td>    0.329</td> <td> 0.742</td> <td>-1633.394</td> <td> 2291.418</td>\n",
              "</tr>\n",
              "<tr>\n",
              "  <th>C(x)[T.4.33]</th>  <td>  335.9277</td> <td> 1001.201</td> <td>    0.336</td> <td> 0.737</td> <td>-1626.436</td> <td> 2298.291</td>\n",
              "</tr>\n",
              "<tr>\n",
              "  <th>C(x)[T.4.34]</th>  <td>  345.5057</td> <td> 1001.159</td> <td>    0.345</td> <td> 0.730</td> <td>-1616.774</td> <td> 2307.786</td>\n",
              "</tr>\n",
              "<tr>\n",
              "  <th>C(x)[T.4.35]</th>  <td>  330.6265</td> <td> 1001.327</td> <td>    0.330</td> <td> 0.741</td> <td>-1631.983</td> <td> 2293.236</td>\n",
              "</tr>\n",
              "<tr>\n",
              "  <th>C(x)[T.4.36]</th>  <td>  342.6477</td> <td> 1001.460</td> <td>    0.342</td> <td> 0.732</td> <td>-1620.223</td> <td> 2305.518</td>\n",
              "</tr>\n",
              "<tr>\n",
              "  <th>C(x)[T.4.37]</th>  <td>  344.0714</td> <td> 1001.103</td> <td>    0.344</td> <td> 0.731</td> <td>-1618.099</td> <td> 2306.242</td>\n",
              "</tr>\n",
              "<tr>\n",
              "  <th>C(x)[T.4.38]</th>  <td>  359.6285</td> <td> 1001.207</td> <td>    0.359</td> <td> 0.719</td> <td>-1602.745</td> <td> 2322.002</td>\n",
              "</tr>\n",
              "<tr>\n",
              "  <th>C(x)[T.4.39]</th>  <td>  364.0309</td> <td> 1001.447</td> <td>    0.364</td> <td> 0.716</td> <td>-1598.813</td> <td> 2326.875</td>\n",
              "</tr>\n",
              "<tr>\n",
              "  <th>C(x)[T.4.4]</th>   <td>  353.6676</td> <td> 1001.550</td> <td>    0.353</td> <td> 0.724</td> <td>-1609.379</td> <td> 2316.714</td>\n",
              "</tr>\n",
              "<tr>\n",
              "  <th>C(x)[T.4.41]</th>  <td>  383.9777</td> <td> 1001.654</td> <td>    0.383</td> <td> 0.701</td> <td>-1579.273</td> <td> 2347.229</td>\n",
              "</tr>\n",
              "<tr>\n",
              "  <th>C(x)[T.4.42]</th>  <td>  385.2652</td> <td> 1001.631</td> <td>    0.385</td> <td> 0.701</td> <td>-1577.941</td> <td> 2348.471</td>\n",
              "</tr>\n",
              "<tr>\n",
              "  <th>C(x)[T.4.43]</th>  <td>  399.3737</td> <td> 1002.233</td> <td>    0.398</td> <td> 0.690</td> <td>-1565.012</td> <td> 2363.760</td>\n",
              "</tr>\n",
              "<tr>\n",
              "  <th>C(x)[T.4.44]</th>  <td>  381.6920</td> <td> 1002.488</td> <td>    0.381</td> <td> 0.703</td> <td>-1583.194</td> <td> 2346.578</td>\n",
              "</tr>\n",
              "<tr>\n",
              "  <th>C(x)[T.4.45]</th>  <td>  391.8791</td> <td> 1002.528</td> <td>    0.391</td> <td> 0.696</td> <td>-1573.084</td> <td> 2356.842</td>\n",
              "</tr>\n",
              "<tr>\n",
              "  <th>C(x)[T.4.46]</th>  <td>  400.6835</td> <td> 1002.462</td> <td>    0.400</td> <td> 0.689</td> <td>-1564.151</td> <td> 2365.518</td>\n",
              "</tr>\n",
              "<tr>\n",
              "  <th>C(x)[T.4.47]</th>  <td>  418.7298</td> <td> 1002.895</td> <td>    0.418</td> <td> 0.676</td> <td>-1546.954</td> <td> 2384.413</td>\n",
              "</tr>\n",
              "<tr>\n",
              "  <th>C(x)[T.4.48]</th>  <td>  401.2568</td> <td> 1003.365</td> <td>    0.400</td> <td> 0.689</td> <td>-1565.347</td> <td> 2367.861</td>\n",
              "</tr>\n",
              "<tr>\n",
              "  <th>C(x)[T.4.49]</th>  <td>  418.8000</td> <td> 1003.737</td> <td>    0.417</td> <td> 0.677</td> <td>-1548.532</td> <td> 2386.132</td>\n",
              "</tr>\n",
              "<tr>\n",
              "  <th>C(x)[T.4.5]</th>   <td>  394.7717</td> <td> 1004.290</td> <td>    0.393</td> <td> 0.694</td> <td>-1573.645</td> <td> 2363.188</td>\n",
              "</tr>\n",
              "<tr>\n",
              "  <th>C(x)[T.4.51]</th>  <td>  400.0000</td> <td> 1004.535</td> <td>    0.398</td> <td> 0.690</td> <td>-1568.897</td> <td> 2368.897</td>\n",
              "</tr>\n",
              "<tr>\n",
              "  <th>C(x)[T.4.52]</th>  <td>  420.0955</td> <td> 1004.472</td> <td>    0.418</td> <td> 0.676</td> <td>-1548.678</td> <td> 2388.869</td>\n",
              "</tr>\n",
              "<tr>\n",
              "  <th>C(x)[T.4.53]</th>  <td>  406.7879</td> <td> 1004.911</td> <td>    0.405</td> <td> 0.686</td> <td>-1562.847</td> <td> 2376.423</td>\n",
              "</tr>\n",
              "<tr>\n",
              "  <th>C(x)[T.4.54]</th>  <td>  383.9767</td> <td> 1004.666</td> <td>    0.382</td> <td> 0.702</td> <td>-1585.178</td> <td> 2353.131</td>\n",
              "</tr>\n",
              "<tr>\n",
              "  <th>C(x)[T.4.55]</th>  <td>  431.0671</td> <td> 1005.557</td> <td>    0.429</td> <td> 0.668</td> <td>-1539.834</td> <td> 2401.968</td>\n",
              "</tr>\n",
              "<tr>\n",
              "  <th>C(x)[T.4.56]</th>  <td>  434.1419</td> <td> 1005.602</td> <td>    0.432</td> <td> 0.666</td> <td>-1536.847</td> <td> 2405.131</td>\n",
              "</tr>\n",
              "<tr>\n",
              "  <th>C(x)[T.4.57]</th>  <td>  437.8852</td> <td> 1007.030</td> <td>    0.435</td> <td> 0.664</td> <td>-1535.902</td> <td> 2411.673</td>\n",
              "</tr>\n",
              "<tr>\n",
              "  <th>C(x)[T.4.58]</th>  <td>  440.7692</td> <td> 1005.837</td> <td>    0.438</td> <td> 0.661</td> <td>-1530.679</td> <td> 2412.218</td>\n",
              "</tr>\n",
              "<tr>\n",
              "  <th>C(x)[T.4.59]</th>  <td>  456.3813</td> <td> 1006.036</td> <td>    0.454</td> <td> 0.650</td> <td>-1515.458</td> <td> 2428.221</td>\n",
              "</tr>\n",
              "<tr>\n",
              "  <th>C(x)[T.4.6]</th>   <td>  447.6866</td> <td> 1006.302</td> <td>    0.445</td> <td> 0.656</td> <td>-1524.675</td> <td> 2420.048</td>\n",
              "</tr>\n",
              "<tr>\n",
              "  <th>C(x)[T.4.61]</th>  <td>  460.9664</td> <td> 1007.235</td> <td>    0.458</td> <td> 0.647</td> <td>-1513.222</td> <td> 2435.155</td>\n",
              "</tr>\n",
              "<tr>\n",
              "  <th>C(x)[T.4.62]</th>  <td>  450.9219</td> <td> 1006.649</td> <td>    0.448</td> <td> 0.654</td> <td>-1522.119</td> <td> 2423.963</td>\n",
              "</tr>\n",
              "<tr>\n",
              "  <th>C(x)[T.4.63]</th>  <td>  491.2188</td> <td> 1005.099</td> <td>    0.489</td> <td> 0.625</td> <td>-1478.784</td> <td> 2461.222</td>\n",
              "</tr>\n",
              "<tr>\n",
              "  <th>C(x)[T.4.64]</th>  <td>  481.7152</td> <td> 1005.469</td> <td>    0.479</td> <td> 0.632</td> <td>-1489.013</td> <td> 2452.443</td>\n",
              "</tr>\n",
              "<tr>\n",
              "  <th>C(x)[T.4.65]</th>  <td>  512.7867</td> <td> 1005.513</td> <td>    0.510</td> <td> 0.610</td> <td>-1458.027</td> <td> 2483.600</td>\n",
              "</tr>\n",
              "<tr>\n",
              "  <th>C(x)[T.4.66]</th>  <td>  508.6223</td> <td> 1004.175</td> <td>    0.507</td> <td> 0.613</td> <td>-1459.569</td> <td> 2476.814</td>\n",
              "</tr>\n",
              "<tr>\n",
              "  <th>C(x)[T.4.67]</th>  <td>  506.1590</td> <td> 1003.985</td> <td>    0.504</td> <td> 0.614</td> <td>-1461.660</td> <td> 2473.978</td>\n",
              "</tr>\n",
              "<tr>\n",
              "  <th>C(x)[T.4.68]</th>  <td>  511.7129</td> <td> 1003.809</td> <td>    0.510</td> <td> 0.610</td> <td>-1455.760</td> <td> 2479.186</td>\n",
              "</tr>\n",
              "<tr>\n",
              "  <th>C(x)[T.4.69]</th>  <td>  526.9325</td> <td> 1004.985</td> <td>    0.524</td> <td> 0.600</td> <td>-1442.847</td> <td> 2496.712</td>\n",
              "</tr>\n",
              "<tr>\n",
              "  <th>C(x)[T.4.7]</th>   <td>  522.9486</td> <td> 1003.533</td> <td>    0.521</td> <td> 0.602</td> <td>-1443.984</td> <td> 2489.881</td>\n",
              "</tr>\n",
              "<tr>\n",
              "  <th>C(x)[T.4.71]</th>  <td>  547.5952</td> <td> 1003.621</td> <td>    0.546</td> <td> 0.585</td> <td>-1419.511</td> <td> 2514.701</td>\n",
              "</tr>\n",
              "<tr>\n",
              "  <th>C(x)[T.4.72]</th>  <td>  558.2080</td> <td> 1003.286</td> <td>    0.556</td> <td> 0.578</td> <td>-1408.241</td> <td> 2524.657</td>\n",
              "</tr>\n",
              "<tr>\n",
              "  <th>C(x)[T.4.73]</th>  <td>  574.6638</td> <td> 1003.117</td> <td>    0.573</td> <td> 0.567</td> <td>-1391.455</td> <td> 2540.782</td>\n",
              "</tr>\n",
              "<tr>\n",
              "  <th>C(x)[T.4.74]</th>  <td>  592.5547</td> <td> 1002.515</td> <td>    0.591</td> <td> 0.554</td> <td>-1372.382</td> <td> 2557.492</td>\n",
              "</tr>\n",
              "<tr>\n",
              "  <th>C(x)[T.4.75]</th>  <td>  571.6766</td> <td> 1002.582</td> <td>    0.570</td> <td> 0.569</td> <td>-1393.393</td> <td> 2536.746</td>\n",
              "</tr>\n",
              "<tr>\n",
              "  <th>C(x)[T.4.76]</th>  <td>  615.9799</td> <td> 1002.879</td> <td>    0.614</td> <td> 0.539</td> <td>-1349.672</td> <td> 2581.632</td>\n",
              "</tr>\n",
              "<tr>\n",
              "  <th>C(x)[T.4.77]</th>  <td>  618.4946</td> <td> 1002.475</td> <td>    0.617</td> <td> 0.537</td> <td>-1346.366</td> <td> 2583.355</td>\n",
              "</tr>\n",
              "<tr>\n",
              "  <th>C(x)[T.4.78]</th>  <td>  630.9066</td> <td> 1002.755</td> <td>    0.629</td> <td> 0.529</td> <td>-1334.501</td> <td> 2596.315</td>\n",
              "</tr>\n",
              "<tr>\n",
              "  <th>C(x)[T.4.79]</th>  <td>  640.2587</td> <td> 1002.725</td> <td>    0.639</td> <td> 0.523</td> <td>-1325.091</td> <td> 2605.608</td>\n",
              "</tr>\n",
              "<tr>\n",
              "  <th>C(x)[T.4.8]</th>   <td>  624.3241</td> <td> 1002.816</td> <td>    0.623</td> <td> 0.534</td> <td>-1341.204</td> <td> 2589.852</td>\n",
              "</tr>\n",
              "<tr>\n",
              "  <th>C(x)[T.4.81]</th>  <td>  639.7250</td> <td> 1003.858</td> <td>    0.637</td> <td> 0.524</td> <td>-1327.845</td> <td> 2607.295</td>\n",
              "</tr>\n",
              "<tr>\n",
              "  <th>C(x)[T.4.82]</th>  <td>  647.1222</td> <td> 1004.410</td> <td>    0.644</td> <td> 0.519</td> <td>-1321.529</td> <td> 2615.774</td>\n",
              "</tr>\n",
              "<tr>\n",
              "  <th>C(x)[T.4.83]</th>  <td>  630.4709</td> <td> 1004.147</td> <td>    0.628</td> <td> 0.530</td> <td>-1337.666</td> <td> 2598.607</td>\n",
              "</tr>\n",
              "<tr>\n",
              "  <th>C(x)[T.4.84]</th>  <td>  648.2930</td> <td> 1005.218</td> <td>    0.645</td> <td> 0.519</td> <td>-1321.943</td> <td> 2618.529</td>\n",
              "</tr>\n",
              "<tr>\n",
              "  <th>C(x)[T.4.85]</th>  <td>  675.4968</td> <td> 1005.299</td> <td>    0.672</td> <td> 0.502</td> <td>-1294.899</td> <td> 2645.892</td>\n",
              "</tr>\n",
              "<tr>\n",
              "  <th>C(x)[T.4.86]</th>  <td>  671.8614</td> <td> 1008.717</td> <td>    0.666</td> <td> 0.505</td> <td>-1305.233</td> <td> 2648.956</td>\n",
              "</tr>\n",
              "<tr>\n",
              "  <th>C(x)[T.4.87]</th>  <td>  669.8791</td> <td> 1009.793</td> <td>    0.663</td> <td> 0.507</td> <td>-1309.323</td> <td> 2649.081</td>\n",
              "</tr>\n",
              "<tr>\n",
              "  <th>C(x)[T.4.88]</th>  <td>  654.9063</td> <td> 1009.227</td> <td>    0.649</td> <td> 0.516</td> <td>-1323.187</td> <td> 2633.000</td>\n",
              "</tr>\n",
              "<tr>\n",
              "  <th>C(x)[T.4.89]</th>  <td>  667.7414</td> <td> 1015.952</td> <td>    0.657</td> <td> 0.511</td> <td>-1323.533</td> <td> 2659.016</td>\n",
              "</tr>\n",
              "<tr>\n",
              "  <th>C(x)[T.4.9]</th>   <td>  706.0921</td> <td> 1011.934</td> <td>    0.698</td> <td> 0.485</td> <td>-1277.306</td> <td> 2689.490</td>\n",
              "</tr>\n",
              "<tr>\n",
              "  <th>C(x)[T.4.91]</th>  <td>  750.1569</td> <td> 1018.273</td> <td>    0.737</td> <td> 0.461</td> <td>-1245.667</td> <td> 2745.981</td>\n",
              "</tr>\n",
              "<tr>\n",
              "  <th>C(x)[T.4.92]</th>  <td>  776.3934</td> <td> 1015.119</td> <td>    0.765</td> <td> 0.444</td> <td>-1213.248</td> <td> 2766.035</td>\n",
              "</tr>\n",
              "<tr>\n",
              "  <th>C(x)[T.4.93]</th>  <td>  806.7143</td> <td> 1022.382</td> <td>    0.789</td> <td> 0.430</td> <td>-1197.163</td> <td> 2810.592</td>\n",
              "</tr>\n",
              "<tr>\n",
              "  <th>C(x)[T.4.94]</th>  <td>  779.4667</td> <td> 1020.832</td> <td>    0.764</td> <td> 0.445</td> <td>-1221.372</td> <td> 2780.305</td>\n",
              "</tr>\n",
              "<tr>\n",
              "  <th>C(x)[T.4.95]</th>  <td>  833.6842</td> <td> 1016.249</td> <td>    0.820</td> <td> 0.412</td> <td>-1158.172</td> <td> 2825.540</td>\n",
              "</tr>\n",
              "<tr>\n",
              "  <th>C(x)[T.4.96]</th>  <td>  830.2041</td> <td> 1019.057</td> <td>    0.815</td> <td> 0.415</td> <td>-1167.156</td> <td> 2827.565</td>\n",
              "</tr>\n",
              "<tr>\n",
              "  <th>C(x)[T.4.97]</th>  <td>  870.5581</td> <td> 1021.841</td> <td>    0.852</td> <td> 0.394</td> <td>-1132.260</td> <td> 2873.376</td>\n",
              "</tr>\n",
              "<tr>\n",
              "  <th>C(x)[T.4.98]</th>  <td>  951.6296</td> <td> 1017.205</td> <td>    0.936</td> <td> 0.350</td> <td>-1042.101</td> <td> 2945.361</td>\n",
              "</tr>\n",
              "<tr>\n",
              "  <th>C(x)[T.4.99]</th>  <td>  974.9672</td> <td> 1015.119</td> <td>    0.960</td> <td> 0.337</td> <td>-1014.674</td> <td> 2964.608</td>\n",
              "</tr>\n",
              "<tr>\n",
              "  <th>C(x)[T.5.0]</th>   <td> 1082.0909</td> <td> 1028.700</td> <td>    1.052</td> <td> 0.293</td> <td> -934.169</td> <td> 3098.351</td>\n",
              "</tr>\n",
              "<tr>\n",
              "  <th>C(x)[T.5.01]</th>  <td>  924.4340</td> <td> 1017.548</td> <td>    0.908</td> <td> 0.364</td> <td>-1069.969</td> <td> 2918.837</td>\n",
              "</tr>\n",
              "<tr>\n",
              "  <th>C(x)[T.5.02]</th>  <td>  998.7031</td> <td> 1014.363</td> <td>    0.985</td> <td> 0.325</td> <td> -989.457</td> <td> 2986.863</td>\n",
              "</tr>\n",
              "<tr>\n",
              "  <th>C(x)[T.5.03]</th>  <td> 1041.5814</td> <td> 1010.424</td> <td>    1.031</td> <td> 0.303</td> <td> -938.858</td> <td> 3022.021</td>\n",
              "</tr>\n",
              "<tr>\n",
              "  <th>C(x)[T.5.04]</th>  <td> 1065.7126</td> <td> 1010.292</td> <td>    1.055</td> <td> 0.291</td> <td> -914.468</td> <td> 3045.893</td>\n",
              "</tr>\n",
              "<tr>\n",
              "  <th>C(x)[T.5.05]</th>  <td> 1090.0420</td> <td> 1007.235</td> <td>    1.082</td> <td> 0.279</td> <td> -884.147</td> <td> 3064.231</td>\n",
              "</tr>\n",
              "<tr>\n",
              "  <th>C(x)[T.5.06]</th>  <td> 1065.8058</td> <td> 1006.036</td> <td>    1.059</td> <td> 0.289</td> <td> -906.034</td> <td> 3037.645</td>\n",
              "</tr>\n",
              "<tr>\n",
              "  <th>C(x)[T.5.07]</th>  <td> 1129.6711</td> <td> 1005.426</td> <td>    1.124</td> <td> 0.261</td> <td> -840.972</td> <td> 3100.314</td>\n",
              "</tr>\n",
              "<tr>\n",
              "  <th>C(x)[T.5.08]</th>  <td> 1175.5368</td> <td> 1004.119</td> <td>    1.171</td> <td> 0.242</td> <td> -792.545</td> <td> 3143.619</td>\n",
              "</tr>\n",
              "<tr>\n",
              "  <th>C(x)[T.5.09]</th>  <td> 1151.0363</td> <td> 1004.038</td> <td>    1.146</td> <td> 0.252</td> <td> -816.887</td> <td> 3118.959</td>\n",
              "</tr>\n",
              "<tr>\n",
              "  <th>C(x)[T.5.1]</th>   <td> 1199.8788</td> <td> 1003.908</td> <td>    1.195</td> <td> 0.232</td> <td> -767.789</td> <td> 3167.547</td>\n",
              "</tr>\n",
              "<tr>\n",
              "  <th>C(x)[T.5.11]</th>  <td> 1258.5572</td> <td> 1003.833</td> <td>    1.254</td> <td> 0.210</td> <td> -708.964</td> <td> 3226.078</td>\n",
              "</tr>\n",
              "<tr>\n",
              "  <th>C(x)[T.5.12]</th>  <td> 1227.4426</td> <td> 1003.117</td> <td>    1.224</td> <td> 0.221</td> <td> -738.676</td> <td> 3193.561</td>\n",
              "</tr>\n",
              "<tr>\n",
              "  <th>C(x)[T.5.13]</th>  <td> 1251.4065</td> <td> 1003.533</td> <td>    1.247</td> <td> 0.212</td> <td> -715.526</td> <td> 3218.339</td>\n",
              "</tr>\n",
              "<tr>\n",
              "  <th>C(x)[T.5.14]</th>  <td> 1236.7560</td> <td> 1003.644</td> <td>    1.232</td> <td> 0.218</td> <td> -730.394</td> <td> 3203.906</td>\n",
              "</tr>\n",
              "<tr>\n",
              "  <th>C(x)[T.5.15]</th>  <td> 1262.6262</td> <td> 1003.713</td> <td>    1.258</td> <td> 0.208</td> <td> -704.660</td> <td> 3229.912</td>\n",
              "</tr>\n",
              "<tr>\n",
              "  <th>C(x)[T.5.16]</th>  <td> 1311.3160</td> <td> 1003.191</td> <td>    1.307</td> <td> 0.191</td> <td> -654.946</td> <td> 3277.578</td>\n",
              "</tr>\n",
              "<tr>\n",
              "  <th>C(x)[T.5.17]</th>  <td> 1264.3013</td> <td> 1003.228</td> <td>    1.260</td> <td> 0.208</td> <td> -702.034</td> <td> 3230.637</td>\n",
              "</tr>\n",
              "<tr>\n",
              "  <th>C(x)[T.5.18]</th>  <td> 1238.9361</td> <td> 1003.426</td> <td>    1.235</td> <td> 0.217</td> <td> -727.788</td> <td> 3205.660</td>\n",
              "</tr>\n",
              "<tr>\n",
              "  <th>C(x)[T.5.19]</th>  <td> 1324.1197</td> <td> 1003.135</td> <td>    1.320</td> <td> 0.187</td> <td> -642.034</td> <td> 3290.273</td>\n",
              "</tr>\n",
              "<tr>\n",
              "  <th>C(x)[T.5.2]</th>   <td> 1278.9842</td> <td> 1004.119</td> <td>    1.274</td> <td> 0.203</td> <td> -689.098</td> <td> 3247.066</td>\n",
              "</tr>\n",
              "<tr>\n",
              "  <th>C(x)[T.5.21]</th>  <td> 1332.9279</td> <td> 1003.667</td> <td>    1.328</td> <td> 0.184</td> <td> -634.267</td> <td> 3300.123</td>\n",
              "</tr>\n",
              "<tr>\n",
              "  <th>C(x)[T.5.22]</th>  <td> 1283.6900</td> <td> 1003.858</td> <td>    1.279</td> <td> 0.201</td> <td> -683.880</td> <td> 3251.260</td>\n",
              "</tr>\n",
              "<tr>\n",
              "  <th>C(x)[T.5.23]</th>  <td> 1303.9412</td> <td> 1004.203</td> <td>    1.298</td> <td> 0.194</td> <td> -664.305</td> <td> 3272.188</td>\n",
              "</tr>\n",
              "<tr>\n",
              "  <th>C(x)[T.5.24]</th>  <td> 1312.3698</td> <td> 1004.065</td> <td>    1.307</td> <td> 0.191</td> <td> -655.606</td> <td> 3280.345</td>\n",
              "</tr>\n",
              "<tr>\n",
              "  <th>C(x)[T.5.25]</th>  <td> 1397.5698</td> <td> 1004.666</td> <td>    1.391</td> <td> 0.164</td> <td> -571.585</td> <td> 3366.724</td>\n",
              "</tr>\n",
              "<tr>\n",
              "  <th>C(x)[T.5.26]</th>  <td> 1379.2396</td> <td> 1004.065</td> <td>    1.374</td> <td> 0.170</td> <td> -588.736</td> <td> 3347.215</td>\n",
              "</tr>\n",
              "<tr>\n",
              "  <th>C(x)[T.5.27]</th>  <td> 1398.0882</td> <td> 1004.734</td> <td>    1.392</td> <td> 0.164</td> <td> -571.200</td> <td> 3367.376</td>\n",
              "</tr>\n",
              "<tr>\n",
              "  <th>C(x)[T.5.28]</th>  <td> 1401.7474</td> <td> 1004.011</td> <td>    1.396</td> <td> 0.163</td> <td> -566.123</td> <td> 3369.618</td>\n",
              "</tr>\n",
              "<tr>\n",
              "  <th>C(x)[T.5.29]</th>  <td> 1400.8333</td> <td> 1005.023</td> <td>    1.394</td> <td> 0.163</td> <td> -569.020</td> <td> 3370.686</td>\n",
              "</tr>\n",
              "<tr>\n",
              "  <th>C(x)[T.5.3]</th>   <td> 1382.2372</td> <td> 1005.258</td> <td>    1.375</td> <td> 0.169</td> <td> -588.078</td> <td> 3352.552</td>\n",
              "</tr>\n",
              "<tr>\n",
              "  <th>C(x)[T.5.31]</th>  <td> 1428.7020</td> <td> 1005.469</td> <td>    1.421</td> <td> 0.155</td> <td> -542.026</td> <td> 3399.430</td>\n",
              "</tr>\n",
              "<tr>\n",
              "  <th>C(x)[T.5.32]</th>  <td> 1417.3357</td> <td> 1005.985</td> <td>    1.409</td> <td> 0.159</td> <td> -554.404</td> <td> 3389.075</td>\n",
              "</tr>\n",
              "<tr>\n",
              "  <th>C(x)[T.5.33]</th>  <td> 1433.4733</td> <td> 1005.513</td> <td>    1.426</td> <td> 0.154</td> <td> -537.340</td> <td> 3404.287</td>\n",
              "</tr>\n",
              "<tr>\n",
              "  <th>C(x)[T.5.34]</th>  <td> 1426.6977</td> <td> 1006.589</td> <td>    1.417</td> <td> 0.156</td> <td> -546.226</td> <td> 3399.621</td>\n",
              "</tr>\n",
              "<tr>\n",
              "  <th>C(x)[T.5.35]</th>  <td> 1484.9531</td> <td> 1006.649</td> <td>    1.475</td> <td> 0.140</td> <td> -488.088</td> <td> 3457.994</td>\n",
              "</tr>\n",
              "<tr>\n",
              "  <th>C(x)[T.5.36]</th>  <td> 1533.9248</td> <td> 1006.358</td> <td>    1.524</td> <td> 0.127</td> <td> -438.546</td> <td> 3506.395</td>\n",
              "</tr>\n",
              "<tr>\n",
              "  <th>C(x)[T.5.37]</th>  <td> 1486.9048</td> <td> 1008.344</td> <td>    1.475</td> <td> 0.140</td> <td> -489.458</td> <td> 3463.268</td>\n",
              "</tr>\n",
              "<tr>\n",
              "  <th>C(x)[T.5.38]</th>  <td> 1458.9798</td> <td> 1008.915</td> <td>    1.446</td> <td> 0.148</td> <td> -518.502</td> <td> 3436.462</td>\n",
              "</tr>\n",
              "<tr>\n",
              "  <th>C(x)[T.5.39]</th>  <td> 1535.9278</td> <td> 1009.121</td> <td>    1.522</td> <td> 0.128</td> <td> -441.958</td> <td> 3513.813</td>\n",
              "</tr>\n",
              "<tr>\n",
              "  <th>C(x)[T.5.4]</th>   <td> 1477.9897</td> <td> 1009.121</td> <td>    1.465</td> <td> 0.143</td> <td> -499.896</td> <td> 3455.875</td>\n",
              "</tr>\n",
              "<tr>\n",
              "  <th>C(x)[T.5.41]</th>  <td> 1608.6941</td> <td> 1010.559</td> <td>    1.592</td> <td> 0.111</td> <td> -372.010</td> <td> 3589.398</td>\n",
              "</tr>\n",
              "<tr>\n",
              "  <th>C(x)[T.5.42]</th>  <td> 1584.4557</td> <td> 1011.441</td> <td>    1.567</td> <td> 0.117</td> <td> -397.977</td> <td> 3566.888</td>\n",
              "</tr>\n",
              "<tr>\n",
              "  <th>C(x)[T.5.43]</th>  <td> 1596.0341</td> <td> 1010.163</td> <td>    1.580</td> <td> 0.114</td> <td> -383.894</td> <td> 3575.962</td>\n",
              "</tr>\n",
              "<tr>\n",
              "  <th>C(x)[T.5.44]</th>  <td> 1540.6232</td> <td> 1013.249</td> <td>    1.520</td> <td> 0.128</td> <td> -445.353</td> <td> 3526.599</td>\n",
              "</tr>\n",
              "<tr>\n",
              "  <th>C(x)[T.5.45]</th>  <td> 1671.4706</td> <td> 1018.273</td> <td>    1.641</td> <td> 0.101</td> <td> -324.354</td> <td> 3667.295</td>\n",
              "</tr>\n",
              "<tr>\n",
              "  <th>C(x)[T.5.46]</th>  <td> 1614.7568</td> <td> 1012.284</td> <td>    1.595</td> <td> 0.111</td> <td> -369.329</td> <td> 3598.842</td>\n",
              "</tr>\n",
              "<tr>\n",
              "  <th>C(x)[T.5.47]</th>  <td> 1679.8182</td> <td> 1016.875</td> <td>    1.652</td> <td> 0.099</td> <td> -313.265</td> <td> 3672.902</td>\n",
              "</tr>\n",
              "<tr>\n",
              "  <th>C(x)[T.5.48]</th>  <td> 1579.1852</td> <td> 1017.205</td> <td>    1.552</td> <td> 0.121</td> <td> -414.546</td> <td> 3572.916</td>\n",
              "</tr>\n",
              "<tr>\n",
              "  <th>C(x)[T.5.49]</th>  <td> 1708.8750</td> <td> 1019.473</td> <td>    1.676</td> <td> 0.094</td> <td> -289.301</td> <td> 3707.051</td>\n",
              "</tr>\n",
              "<tr>\n",
              "  <th>C(x)[T.5.5]</th>   <td> 1811.7000</td> <td> 1023.543</td> <td>    1.770</td> <td> 0.077</td> <td> -194.453</td> <td> 3817.853</td>\n",
              "</tr>\n",
              "<tr>\n",
              "  <th>C(x)[T.5.51]</th>  <td> 1610.2340</td> <td> 1019.907</td> <td>    1.579</td> <td> 0.114</td> <td> -388.792</td> <td> 3609.260</td>\n",
              "</tr>\n",
              "<tr>\n",
              "  <th>C(x)[T.5.52]</th>  <td> 1741.4800</td> <td> 1018.657</td> <td>    1.710</td> <td> 0.087</td> <td> -255.097</td> <td> 3738.057</td>\n",
              "</tr>\n",
              "<tr>\n",
              "  <th>C(x)[T.5.53]</th>  <td> 1797.3333</td> <td> 1016.249</td> <td>    1.769</td> <td> 0.077</td> <td> -194.523</td> <td> 3789.190</td>\n",
              "</tr>\n",
              "<tr>\n",
              "  <th>C(x)[T.5.54]</th>  <td> 1687.1556</td> <td> 1020.832</td> <td>    1.653</td> <td> 0.098</td> <td> -313.683</td> <td> 3687.994</td>\n",
              "</tr>\n",
              "<tr>\n",
              "  <th>C(x)[T.5.55]</th>  <td> 1874.1800</td> <td> 1018.657</td> <td>    1.840</td> <td> 0.066</td> <td> -122.397</td> <td> 3870.757</td>\n",
              "</tr>\n",
              "<tr>\n",
              "  <th>C(x)[T.5.56]</th>  <td> 1896.9388</td> <td> 1019.057</td> <td>    1.861</td> <td> 0.063</td> <td> -100.422</td> <td> 3894.299</td>\n",
              "</tr>\n",
              "<tr>\n",
              "  <th>C(x)[T.5.57]</th>  <td> 1851.7273</td> <td> 1016.875</td> <td>    1.821</td> <td> 0.069</td> <td> -141.356</td> <td> 3844.811</td>\n",
              "</tr>\n",
              "<tr>\n",
              "  <th>C(x)[T.5.58]</th>  <td> 1836.8382</td> <td> 1013.459</td> <td>    1.812</td> <td> 0.070</td> <td> -149.549</td> <td> 3823.226</td>\n",
              "</tr>\n",
              "<tr>\n",
              "  <th>C(x)[T.5.59]</th>  <td> 1860.9767</td> <td> 1010.424</td> <td>    1.842</td> <td> 0.066</td> <td> -119.463</td> <td> 3841.416</td>\n",
              "</tr>\n",
              "<tr>\n",
              "  <th>C(x)[T.5.6]</th>   <td> 1959.2340</td> <td> 1009.446</td> <td>    1.941</td> <td> 0.052</td> <td>  -19.289</td> <td> 3937.757</td>\n",
              "</tr>\n",
              "<tr>\n",
              "  <th>C(x)[T.5.61]</th>  <td> 2003.2143</td> <td> 1009.017</td> <td>    1.985</td> <td> 0.047</td> <td>   25.533</td> <td> 3980.896</td>\n",
              "</tr>\n",
              "<tr>\n",
              "  <th>C(x)[T.5.62]</th>  <td> 1974.5196</td> <td> 1008.621</td> <td>    1.958</td> <td> 0.050</td> <td>   -2.386</td> <td> 3951.426</td>\n",
              "</tr>\n",
              "<tr>\n",
              "  <th>C(x)[T.5.63]</th>  <td> 2079.6528</td> <td> 1005.788</td> <td>    2.068</td> <td> 0.039</td> <td>  108.299</td> <td> 4051.007</td>\n",
              "</tr>\n",
              "<tr>\n",
              "  <th>C(x)[T.5.64]</th>  <td> 2026.5000</td> <td> 1004.804</td> <td>    2.017</td> <td> 0.044</td> <td>   57.076</td> <td> 3995.924</td>\n",
              "</tr>\n",
              "<tr>\n",
              "  <th>C(x)[T.5.65]</th>  <td> 2115.2706</td> <td> 1004.734</td> <td>    2.105</td> <td> 0.035</td> <td>  145.983</td> <td> 4084.558</td>\n",
              "</tr>\n",
              "<tr>\n",
              "  <th>C(x)[T.5.66]</th>  <td> 2141.7990</td> <td> 1003.760</td> <td>    2.134</td> <td> 0.033</td> <td>  174.420</td> <td> 4109.178</td>\n",
              "</tr>\n",
              "<tr>\n",
              "  <th>C(x)[T.5.67]</th>  <td> 2172.8762</td> <td> 1003.621</td> <td>    2.165</td> <td> 0.030</td> <td>  205.770</td> <td> 4139.982</td>\n",
              "</tr>\n",
              "<tr>\n",
              "  <th>C(x)[T.5.68]</th>  <td> 2206.7797</td> <td> 1003.099</td> <td>    2.200</td> <td> 0.028</td> <td>  240.696</td> <td> 4172.863</td>\n",
              "</tr>\n",
              "<tr>\n",
              "  <th>C(x)[T.5.69]</th>  <td> 2300.8638</td> <td> 1003.117</td> <td>    2.294</td> <td> 0.022</td> <td>  334.745</td> <td> 4266.982</td>\n",
              "</tr>\n",
              "<tr>\n",
              "  <th>C(x)[T.5.7]</th>   <td> 2340.8449</td> <td> 1002.945</td> <td>    2.334</td> <td> 0.020</td> <td>  375.065</td> <td> 4306.625</td>\n",
              "</tr>\n",
              "<tr>\n",
              "  <th>C(x)[T.5.71]</th>  <td> 2319.1852</td> <td> 1002.978</td> <td>    2.312</td> <td> 0.021</td> <td>  353.340</td> <td> 4285.030</td>\n",
              "</tr>\n",
              "<tr>\n",
              "  <th>C(x)[T.5.72]</th>  <td> 2338.8253</td> <td> 1002.582</td> <td>    2.333</td> <td> 0.020</td> <td>  373.756</td> <td> 4303.895</td>\n",
              "</tr>\n",
              "<tr>\n",
              "  <th>C(x)[T.5.73]</th>  <td> 2346.3657</td> <td> 1002.596</td> <td>    2.340</td> <td> 0.019</td> <td>  381.269</td> <td> 4311.462</td>\n",
              "</tr>\n",
              "<tr>\n",
              "  <th>C(x)[T.5.74]</th>  <td> 2363.2222</td> <td> 1002.696</td> <td>    2.357</td> <td> 0.018</td> <td>  397.930</td> <td> 4328.514</td>\n",
              "</tr>\n",
              "<tr>\n",
              "  <th>C(x)[T.5.75]</th>  <td> 2350.1734</td> <td> 1002.895</td> <td>    2.343</td> <td> 0.019</td> <td>  384.490</td> <td> 4315.857</td>\n",
              "</tr>\n",
              "<tr>\n",
              "  <th>C(x)[T.5.76]</th>  <td> 2367.8636</td> <td> 1002.995</td> <td>    2.361</td> <td> 0.018</td> <td>  401.985</td> <td> 4333.742</td>\n",
              "</tr>\n",
              "<tr>\n",
              "  <th>C(x)[T.5.77]</th>  <td> 2315.2429</td> <td> 1003.621</td> <td>    2.307</td> <td> 0.021</td> <td>  348.137</td> <td> 4282.349</td>\n",
              "</tr>\n",
              "<tr>\n",
              "  <th>C(x)[T.5.78]</th>  <td> 2386.3939</td> <td> 1003.908</td> <td>    2.377</td> <td> 0.017</td> <td>  418.726</td> <td> 4354.062</td>\n",
              "</tr>\n",
              "<tr>\n",
              "  <th>C(x)[T.5.79]</th>  <td> 2410.5271</td> <td> 1003.784</td> <td>    2.401</td> <td> 0.016</td> <td>  443.101</td> <td> 4377.953</td>\n",
              "</tr>\n",
              "<tr>\n",
              "  <th>C(x)[T.5.8]</th>   <td> 2432.4032</td> <td> 1004.232</td> <td>    2.422</td> <td> 0.015</td> <td>  464.101</td> <td> 4400.706</td>\n",
              "</tr>\n",
              "<tr>\n",
              "  <th>C(x)[T.5.81]</th>  <td> 2404.0397</td> <td> 1005.469</td> <td>    2.391</td> <td> 0.017</td> <td>  433.312</td> <td> 4374.768</td>\n",
              "</tr>\n",
              "<tr>\n",
              "  <th>C(x)[T.5.82]</th>  <td> 2387.6972</td> <td> 1005.886</td> <td>    2.374</td> <td> 0.018</td> <td>  416.153</td> <td> 4359.241</td>\n",
              "</tr>\n",
              "<tr>\n",
              "  <th>C(x)[T.5.83]</th>  <td> 2471.7338</td> <td> 1005.341</td> <td>    2.459</td> <td> 0.014</td> <td>  501.257</td> <td> 4442.211</td>\n",
              "</tr>\n",
              "<tr>\n",
              "  <th>C(x)[T.5.84]</th>  <td> 2440.6165</td> <td> 1006.358</td> <td>    2.425</td> <td> 0.015</td> <td>  468.146</td> <td> 4413.087</td>\n",
              "</tr>\n",
              "<tr>\n",
              "  <th>C(x)[T.5.85]</th>  <td> 2482.6928</td> <td> 1005.383</td> <td>    2.469</td> <td> 0.014</td> <td>  512.133</td> <td> 4453.252</td>\n",
              "</tr>\n",
              "<tr>\n",
              "  <th>C(x)[T.5.86]</th>  <td> 2470.3981</td> <td> 1008.527</td> <td>    2.450</td> <td> 0.014</td> <td>  493.677</td> <td> 4447.119</td>\n",
              "</tr>\n",
              "<tr>\n",
              "  <th>C(x)[T.5.87]</th>  <td> 2448.7692</td> <td> 1007.377</td> <td>    2.431</td> <td> 0.015</td> <td>  474.302</td> <td> 4423.237</td>\n",
              "</tr>\n",
              "<tr>\n",
              "  <th>C(x)[T.5.88]</th>  <td> 2476.1667</td> <td> 1007.165</td> <td>    2.459</td> <td> 0.014</td> <td>  502.114</td> <td> 4450.219</td>\n",
              "</tr>\n",
              "<tr>\n",
              "  <th>C(x)[T.5.89]</th>  <td> 2476.7586</td> <td> 1007.450</td> <td>    2.458</td> <td> 0.014</td> <td>  502.148</td> <td> 4451.369</td>\n",
              "</tr>\n",
              "<tr>\n",
              "  <th>C(x)[T.5.9]</th>   <td> 2612.6186</td> <td> 1009.121</td> <td>    2.589</td> <td> 0.010</td> <td>  634.733</td> <td> 4590.504</td>\n",
              "</tr>\n",
              "<tr>\n",
              "  <th>C(x)[T.5.91]</th>  <td> 2525.0870</td> <td> 1007.524</td> <td>    2.506</td> <td> 0.012</td> <td>  550.331</td> <td> 4499.843</td>\n",
              "</tr>\n",
              "<tr>\n",
              "  <th>C(x)[T.5.92]</th>  <td> 2586.7810</td> <td> 1008.344</td> <td>    2.565</td> <td> 0.010</td> <td>  610.418</td> <td> 4563.144</td>\n",
              "</tr>\n",
              "<tr>\n",
              "  <th>C(x)[T.5.93]</th>  <td> 2625.9863</td> <td> 1012.467</td> <td>    2.594</td> <td> 0.009</td> <td>  641.543</td> <td> 4610.429</td>\n",
              "</tr>\n",
              "<tr>\n",
              "  <th>C(x)[T.5.94]</th>  <td> 2587.7660</td> <td> 1009.446</td> <td>    2.564</td> <td> 0.010</td> <td>  609.243</td> <td> 4566.289</td>\n",
              "</tr>\n",
              "<tr>\n",
              "  <th>C(x)[T.5.95]</th>  <td> 2730.7250</td> <td> 1011.285</td> <td>    2.700</td> <td> 0.007</td> <td>  748.599</td> <td> 4712.851</td>\n",
              "</tr>\n",
              "<tr>\n",
              "  <th>C(x)[T.5.96]</th>  <td> 2679.7342</td> <td> 1011.441</td> <td>    2.649</td> <td> 0.008</td> <td>  697.302</td> <td> 4662.167</td>\n",
              "</tr>\n",
              "<tr>\n",
              "  <th>C(x)[T.5.97]</th>  <td> 2793.9362</td> <td> 1009.446</td> <td>    2.768</td> <td> 0.006</td> <td>  815.413</td> <td> 4772.459</td>\n",
              "</tr>\n",
              "<tr>\n",
              "  <th>C(x)[T.5.98]</th>  <td> 2751.6988</td> <td> 1010.839</td> <td>    2.722</td> <td> 0.006</td> <td>  770.446</td> <td> 4732.951</td>\n",
              "</tr>\n",
              "<tr>\n",
              "  <th>C(x)[T.5.99]</th>  <td> 2833.1304</td> <td> 1013.249</td> <td>    2.796</td> <td> 0.005</td> <td>  847.154</td> <td> 4819.107</td>\n",
              "</tr>\n",
              "<tr>\n",
              "  <th>C(x)[T.6.0]</th>   <td> 2800.1236</td> <td> 1010.037</td> <td>    2.772</td> <td> 0.006</td> <td>  820.443</td> <td> 4779.804</td>\n",
              "</tr>\n",
              "<tr>\n",
              "  <th>C(x)[T.6.01]</th>  <td> 2807.0361</td> <td> 1010.839</td> <td>    2.777</td> <td> 0.005</td> <td>  825.784</td> <td> 4788.289</td>\n",
              "</tr>\n",
              "<tr>\n",
              "  <th>C(x)[T.6.02]</th>  <td> 3051.8701</td> <td> 1011.765</td> <td>    3.016</td> <td> 0.003</td> <td> 1068.802</td> <td> 5034.938</td>\n",
              "</tr>\n",
              "<tr>\n",
              "  <th>C(x)[T.6.03]</th>  <td> 2780.6615</td> <td> 1014.127</td> <td>    2.742</td> <td> 0.006</td> <td>  792.965</td> <td> 4768.358</td>\n",
              "</tr>\n",
              "<tr>\n",
              "  <th>C(x)[T.6.04]</th>  <td> 3064.8721</td> <td> 1010.424</td> <td>    3.033</td> <td> 0.002</td> <td> 1084.433</td> <td> 5045.311</td>\n",
              "</tr>\n",
              "<tr>\n",
              "  <th>C(x)[T.6.05]</th>  <td> 2968.5814</td> <td> 1010.424</td> <td>    2.938</td> <td> 0.003</td> <td>  988.142</td> <td> 4949.021</td>\n",
              "</tr>\n",
              "<tr>\n",
              "  <th>C(x)[T.6.06]</th>  <td> 3288.7317</td> <td> 1010.984</td> <td>    3.253</td> <td> 0.001</td> <td> 1307.195</td> <td> 5270.268</td>\n",
              "</tr>\n",
              "<tr>\n",
              "  <th>C(x)[T.6.07]</th>  <td> 3207.2929</td> <td> 1008.915</td> <td>    3.179</td> <td> 0.001</td> <td> 1229.811</td> <td> 5184.775</td>\n",
              "</tr>\n",
              "<tr>\n",
              "  <th>C(x)[T.6.08]</th>  <td> 3150.8496</td> <td> 1007.677</td> <td>    3.127</td> <td> 0.002</td> <td> 1175.795</td> <td> 5125.904</td>\n",
              "</tr>\n",
              "<tr>\n",
              "  <th>C(x)[T.6.09]</th>  <td> 3280.0367</td> <td> 1007.998</td> <td>    3.254</td> <td> 0.001</td> <td> 1304.352</td> <td> 5255.722</td>\n",
              "</tr>\n",
              "<tr>\n",
              "  <th>C(x)[T.6.1]</th>   <td> 3501.5593</td> <td> 1007.305</td> <td>    3.476</td> <td> 0.001</td> <td> 1527.233</td> <td> 5475.886</td>\n",
              "</tr>\n",
              "<tr>\n",
              "  <th>C(x)[T.6.11]</th>  <td> 3632.3413</td> <td> 1006.772</td> <td>    3.608</td> <td> 0.000</td> <td> 1659.059</td> <td> 5605.623</td>\n",
              "</tr>\n",
              "<tr>\n",
              "  <th>C(x)[T.6.12]</th>  <td> 3460.2683</td> <td> 1006.964</td> <td>    3.436</td> <td> 0.001</td> <td> 1486.610</td> <td> 5433.926</td>\n",
              "</tr>\n",
              "<tr>\n",
              "  <th>C(x)[T.6.13]</th>  <td> 3345.0126</td> <td> 1005.138</td> <td>    3.328</td> <td> 0.001</td> <td> 1374.933</td> <td> 5315.092</td>\n",
              "</tr>\n",
              "<tr>\n",
              "  <th>C(x)[T.6.14]</th>  <td> 3658.2568</td> <td> 1005.602</td> <td>    3.638</td> <td> 0.000</td> <td> 1687.268</td> <td> 5629.246</td>\n",
              "</tr>\n",
              "<tr>\n",
              "  <th>C(x)[T.6.15]</th>  <td> 3680.8347</td> <td> 1007.097</td> <td>    3.655</td> <td> 0.000</td> <td> 1706.916</td> <td> 5654.754</td>\n",
              "</tr>\n",
              "<tr>\n",
              "  <th>C(x)[T.6.16]</th>  <td> 3650.5714</td> <td> 1006.772</td> <td>    3.626</td> <td> 0.000</td> <td> 1677.290</td> <td> 5623.853</td>\n",
              "</tr>\n",
              "<tr>\n",
              "  <th>C(x)[T.6.17]</th>  <td> 3684.5714</td> <td> 1006.772</td> <td>    3.660</td> <td> 0.000</td> <td> 1711.290</td> <td> 5657.853</td>\n",
              "</tr>\n",
              "<tr>\n",
              "  <th>C(x)[T.6.18]</th>  <td> 3772.4891</td> <td> 1006.140</td> <td>    3.749</td> <td> 0.000</td> <td> 1800.445</td> <td> 5744.533</td>\n",
              "</tr>\n",
              "<tr>\n",
              "  <th>C(x)[T.6.19]</th>  <td> 3705.3121</td> <td> 1005.935</td> <td>    3.683</td> <td> 0.000</td> <td> 1733.671</td> <td> 5676.953</td>\n",
              "</tr>\n",
              "<tr>\n",
              "  <th>C(x)[T.6.2]</th>   <td> 3740.9316</td> <td> 1007.377</td> <td>    3.714</td> <td> 0.000</td> <td> 1766.464</td> <td> 5715.399</td>\n",
              "</tr>\n",
              "<tr>\n",
              "  <th>C(x)[T.6.21]</th>  <td> 3791.7295</td> <td> 1007.030</td> <td>    3.765</td> <td> 0.000</td> <td> 1817.942</td> <td> 5765.517</td>\n",
              "</tr>\n",
              "<tr>\n",
              "  <th>C(x)[T.6.22]</th>  <td> 3773.1920</td> <td> 1006.835</td> <td>    3.748</td> <td> 0.000</td> <td> 1799.787</td> <td> 5746.597</td>\n",
              "</tr>\n",
              "<tr>\n",
              "  <th>C(x)[T.6.23]</th>  <td> 3802.0400</td> <td> 1008.815</td> <td>    3.769</td> <td> 0.000</td> <td> 1824.754</td> <td> 5779.326</td>\n",
              "</tr>\n",
              "<tr>\n",
              "  <th>C(x)[T.6.24]</th>  <td> 3921.8049</td> <td> 1006.964</td> <td>    3.895</td> <td> 0.000</td> <td> 1948.147</td> <td> 5895.463</td>\n",
              "</tr>\n",
              "<tr>\n",
              "  <th>C(x)[T.6.25]</th>  <td> 4041.1504</td> <td> 1007.677</td> <td>    4.010</td> <td> 0.000</td> <td> 2066.096</td> <td> 6016.205</td>\n",
              "</tr>\n",
              "<tr>\n",
              "  <th>C(x)[T.6.26]</th>  <td> 3997.5631</td> <td> 1008.527</td> <td>    3.964</td> <td> 0.000</td> <td> 2020.842</td> <td> 5974.284</td>\n",
              "</tr>\n",
              "<tr>\n",
              "  <th>C(x)[T.6.27]</th>  <td> 4033.5075</td> <td> 1006.302</td> <td>    4.008</td> <td> 0.000</td> <td> 2061.146</td> <td> 6005.869</td>\n",
              "</tr>\n",
              "<tr>\n",
              "  <th>C(x)[T.6.28]</th>  <td> 4163.8214</td> <td> 1007.755</td> <td>    4.132</td> <td> 0.000</td> <td> 2188.613</td> <td> 6139.029</td>\n",
              "</tr>\n",
              "<tr>\n",
              "  <th>C(x)[T.6.29]</th>  <td> 4457.4306</td> <td> 1005.788</td> <td>    4.432</td> <td> 0.000</td> <td> 2486.077</td> <td> 6428.784</td>\n",
              "</tr>\n",
              "<tr>\n",
              "  <th>C(x)[T.6.3]</th>   <td> 4174.4228</td> <td> 1005.557</td> <td>    4.151</td> <td> 0.000</td> <td> 2203.522</td> <td> 6145.324</td>\n",
              "</tr>\n",
              "<tr>\n",
              "  <th>C(x)[T.6.31]</th>  <td> 4583.0455</td> <td> 1005.341</td> <td>    4.559</td> <td> 0.000</td> <td> 2612.568</td> <td> 6553.522</td>\n",
              "</tr>\n",
              "<tr>\n",
              "  <th>C(x)[T.6.32]</th>  <td> 4518.3815</td> <td> 1004.633</td> <td>    4.498</td> <td> 0.000</td> <td> 2549.292</td> <td> 6487.471</td>\n",
              "</tr>\n",
              "<tr>\n",
              "  <th>C(x)[T.6.33]</th>  <td> 4598.9630</td> <td> 1005.023</td> <td>    4.576</td> <td> 0.000</td> <td> 2629.110</td> <td> 6568.816</td>\n",
              "</tr>\n",
              "<tr>\n",
              "  <th>C(x)[T.6.34]</th>  <td> 4816.2368</td> <td> 1003.247</td> <td>    4.801</td> <td> 0.000</td> <td> 2849.864</td> <td> 6782.610</td>\n",
              "</tr>\n",
              "<tr>\n",
              "  <th>C(x)[T.6.35]</th>  <td> 4750.5900</td> <td> 1003.858</td> <td>    4.732</td> <td> 0.000</td> <td> 2783.020</td> <td> 6718.160</td>\n",
              "</tr>\n",
              "<tr>\n",
              "  <th>C(x)[T.6.36]</th>  <td> 5103.6089</td> <td> 1003.305</td> <td>    5.087</td> <td> 0.000</td> <td> 3137.122</td> <td> 7070.096</td>\n",
              "</tr>\n",
              "<tr>\n",
              "  <th>C(x)[T.6.37]</th>  <td> 4872.9231</td> <td> 1002.710</td> <td>    4.860</td> <td> 0.000</td> <td> 2907.603</td> <td> 6838.244</td>\n",
              "</tr>\n",
              "<tr>\n",
              "  <th>C(x)[T.6.38]</th>  <td> 5040.0320</td> <td> 1002.863</td> <td>    5.026</td> <td> 0.000</td> <td> 3074.411</td> <td> 7005.653</td>\n",
              "</tr>\n",
              "<tr>\n",
              "  <th>C(x)[T.6.39]</th>  <td> 5163.9375</td> <td> 1002.770</td> <td>    5.150</td> <td> 0.000</td> <td> 3198.500</td> <td> 7129.375</td>\n",
              "</tr>\n",
              "<tr>\n",
              "  <th>C(x)[T.6.4]</th>   <td> 5040.8043</td> <td> 1003.209</td> <td>    5.025</td> <td> 0.000</td> <td> 3074.506</td> <td> 7007.103</td>\n",
              "</tr>\n",
              "<tr>\n",
              "  <th>C(x)[T.6.41]</th>  <td> 5214.2205</td> <td> 1002.801</td> <td>    5.200</td> <td> 0.000</td> <td> 3248.723</td> <td> 7179.718</td>\n",
              "</tr>\n",
              "<tr>\n",
              "  <th>C(x)[T.6.42]</th>  <td> 5112.6234</td> <td> 1003.046</td> <td>    5.097</td> <td> 0.000</td> <td> 3146.644</td> <td> 7078.603</td>\n",
              "</tr>\n",
              "<tr>\n",
              "  <th>C(x)[T.6.43]</th>  <td> 5179.7341</td> <td> 1002.610</td> <td>    5.166</td> <td> 0.000</td> <td> 3214.610</td> <td> 7144.858</td>\n",
              "</tr>\n",
              "<tr>\n",
              "  <th>C(x)[T.6.44]</th>  <td> 5448.9740</td> <td> 1003.191</td> <td>    5.432</td> <td> 0.000</td> <td> 3482.712</td> <td> 7415.236</td>\n",
              "</tr>\n",
              "<tr>\n",
              "  <th>C(x)[T.6.45]</th>  <td> 5215.5197</td> <td> 1002.801</td> <td>    5.201</td> <td> 0.000</td> <td> 3250.022</td> <td> 7181.017</td>\n",
              "</tr>\n",
              "<tr>\n",
              "  <th>C(x)[T.6.46]</th>  <td> 5457.9587</td> <td> 1003.447</td> <td>    5.439</td> <td> 0.000</td> <td> 3491.194</td> <td> 7424.724</td>\n",
              "</tr>\n",
              "<tr>\n",
              "  <th>C(x)[T.6.47]</th>  <td> 5082.9457</td> <td> 1002.740</td> <td>    5.069</td> <td> 0.000</td> <td> 3117.567</td> <td> 7048.324</td>\n",
              "</tr>\n",
              "<tr>\n",
              "  <th>C(x)[T.6.48]</th>  <td> 5323.3598</td> <td> 1003.533</td> <td>    5.305</td> <td> 0.000</td> <td> 3356.428</td> <td> 7290.292</td>\n",
              "</tr>\n",
              "<tr>\n",
              "  <th>C(x)[T.6.49]</th>  <td> 5296.2267</td> <td> 1002.912</td> <td>    5.281</td> <td> 0.000</td> <td> 3330.511</td> <td> 7261.942</td>\n",
              "</tr>\n",
              "<tr>\n",
              "  <th>C(x)[T.6.5]</th>   <td> 5329.7559</td> <td> 1003.554</td> <td>    5.311</td> <td> 0.000</td> <td> 3362.781</td> <td> 7296.731</td>\n",
              "</tr>\n",
              "<tr>\n",
              "  <th>C(x)[T.6.51]</th>  <td> 5040.9686</td> <td> 1003.345</td> <td>    5.024</td> <td> 0.000</td> <td> 3074.404</td> <td> 7007.533</td>\n",
              "</tr>\n",
              "<tr>\n",
              "  <th>C(x)[T.6.52]</th>  <td> 5514.1355</td> <td> 1003.533</td> <td>    5.495</td> <td> 0.000</td> <td> 3547.203</td> <td> 7481.068</td>\n",
              "</tr>\n",
              "<tr>\n",
              "  <th>C(x)[T.6.53]</th>  <td> 5441.5219</td> <td> 1003.247</td> <td>    5.424</td> <td> 0.000</td> <td> 3475.149</td> <td> 7407.895</td>\n",
              "</tr>\n",
              "<tr>\n",
              "  <th>C(x)[T.6.54]</th>  <td> 5357.7005</td> <td> 1003.468</td> <td>    5.339</td> <td> 0.000</td> <td> 3390.894</td> <td> 7324.507</td>\n",
              "</tr>\n",
              "<tr>\n",
              "  <th>C(x)[T.6.55]</th>  <td> 5408.7804</td> <td> 1003.533</td> <td>    5.390</td> <td> 0.000</td> <td> 3441.848</td> <td> 7375.713</td>\n",
              "</tr>\n",
              "<tr>\n",
              "  <th>C(x)[T.6.56]</th>  <td> 5403.9659</td> <td> 1003.737</td> <td>    5.384</td> <td> 0.000</td> <td> 3436.634</td> <td> 7371.298</td>\n",
              "</tr>\n",
              "<tr>\n",
              "  <th>C(x)[T.6.57]</th>  <td> 5406.0870</td> <td> 1004.290</td> <td>    5.383</td> <td> 0.000</td> <td> 3437.671</td> <td> 7374.503</td>\n",
              "</tr>\n",
              "<tr>\n",
              "  <th>C(x)[T.6.58]</th>  <td> 5334.3110</td> <td> 1004.948</td> <td>    5.308</td> <td> 0.000</td> <td> 3364.604</td> <td> 7304.018</td>\n",
              "</tr>\n",
              "<tr>\n",
              "  <th>C(x)[T.6.59]</th>  <td> 5329.5135</td> <td> 1004.261</td> <td>    5.307</td> <td> 0.000</td> <td> 3361.154</td> <td> 7297.873</td>\n",
              "</tr>\n",
              "<tr>\n",
              "  <th>C(x)[T.6.6]</th>   <td> 5280.4329</td> <td> 1004.948</td> <td>    5.254</td> <td> 0.000</td> <td> 3310.726</td> <td> 7250.140</td>\n",
              "</tr>\n",
              "<tr>\n",
              "  <th>C(x)[T.6.61]</th>  <td> 5194.7765</td> <td> 1004.441</td> <td>    5.172</td> <td> 0.000</td> <td> 3226.065</td> <td> 7163.489</td>\n",
              "</tr>\n",
              "<tr>\n",
              "  <th>C(x)[T.6.62]</th>  <td> 5635.1709</td> <td> 1005.178</td> <td>    5.606</td> <td> 0.000</td> <td> 3665.014</td> <td> 7605.328</td>\n",
              "</tr>\n",
              "<tr>\n",
              "  <th>C(x)[T.6.63]</th>  <td> 5613.3165</td> <td> 1006.036</td> <td>    5.580</td> <td> 0.000</td> <td> 3641.477</td> <td> 7585.156</td>\n",
              "</tr>\n",
              "<tr>\n",
              "  <th>C(x)[T.6.64]</th>  <td> 5529.8366</td> <td> 1005.383</td> <td>    5.500</td> <td> 0.000</td> <td> 3559.277</td> <td> 7500.396</td>\n",
              "</tr>\n",
              "<tr>\n",
              "  <th>C(x)[T.6.65]</th>  <td> 5431.1078</td> <td> 1004.839</td> <td>    5.405</td> <td> 0.000</td> <td> 3461.614</td> <td> 7400.601</td>\n",
              "</tr>\n",
              "<tr>\n",
              "  <th>C(x)[T.6.66]</th>  <td> 5666.2185</td> <td> 1005.469</td> <td>    5.635</td> <td> 0.000</td> <td> 3695.491</td> <td> 7636.946</td>\n",
              "</tr>\n",
              "<tr>\n",
              "  <th>C(x)[T.6.67]</th>  <td> 5931.8741</td> <td> 1006.248</td> <td>    5.895</td> <td> 0.000</td> <td> 3959.620</td> <td> 7904.128</td>\n",
              "</tr>\n",
              "<tr>\n",
              "  <th>C(x)[T.6.68]</th>  <td> 5625.5376</td> <td> 1004.633</td> <td>    5.600</td> <td> 0.000</td> <td> 3656.448</td> <td> 7594.627</td>\n",
              "</tr>\n",
              "<tr>\n",
              "  <th>C(x)[T.6.69]</th>  <td> 5823.2880</td> <td> 1006.835</td> <td>    5.784</td> <td> 0.000</td> <td> 3849.883</td> <td> 7796.693</td>\n",
              "</tr>\n",
              "<tr>\n",
              "  <th>C(x)[T.6.7]</th>   <td> 5851.0690</td> <td> 1005.741</td> <td>    5.818</td> <td> 0.000</td> <td> 3879.808</td> <td> 7822.330</td>\n",
              "</tr>\n",
              "<tr>\n",
              "  <th>C(x)[T.6.71]</th>  <td> 5918.6522</td> <td> 1007.524</td> <td>    5.874</td> <td> 0.000</td> <td> 3943.896</td> <td> 7893.408</td>\n",
              "</tr>\n",
              "<tr>\n",
              "  <th>C(x)[T.6.72]</th>  <td> 5687.4538</td> <td> 1006.530</td> <td>    5.651</td> <td> 0.000</td> <td> 3714.646</td> <td> 7660.261</td>\n",
              "</tr>\n",
              "<tr>\n",
              "  <th>C(x)[T.6.73]</th>  <td> 5508.9792</td> <td> 1005.788</td> <td>    5.477</td> <td> 0.000</td> <td> 3537.625</td> <td> 7480.333</td>\n",
              "</tr>\n",
              "<tr>\n",
              "  <th>C(x)[T.6.74]</th>  <td> 5919.1049</td> <td> 1005.023</td> <td>    5.890</td> <td> 0.000</td> <td> 3949.252</td> <td> 7888.958</td>\n",
              "</tr>\n",
              "<tr>\n",
              "  <th>C(x)[T.6.75]</th>  <td> 6096.0236</td> <td> 1006.710</td> <td>    6.055</td> <td> 0.000</td> <td> 4122.863</td> <td> 8069.184</td>\n",
              "</tr>\n",
              "<tr>\n",
              "  <th>C(x)[T.6.76]</th>  <td> 6232.6757</td> <td> 1007.834</td> <td>    6.184</td> <td> 0.000</td> <td> 4257.312</td> <td> 8208.040</td>\n",
              "</tr>\n",
              "<tr>\n",
              "  <th>C(x)[T.6.77]</th>  <td> 6042.8356</td> <td> 1005.694</td> <td>    6.009</td> <td> 0.000</td> <td> 4071.667</td> <td> 8014.005</td>\n",
              "</tr>\n",
              "<tr>\n",
              "  <th>C(x)[T.6.78]</th>  <td> 6224.0141</td> <td> 1005.886</td> <td>    6.188</td> <td> 0.000</td> <td> 4252.470</td> <td> 8195.558</td>\n",
              "</tr>\n",
              "<tr>\n",
              "  <th>C(x)[T.6.79]</th>  <td> 6228.4701</td> <td> 1006.302</td> <td>    6.189</td> <td> 0.000</td> <td> 4256.109</td> <td> 8200.831</td>\n",
              "</tr>\n",
              "<tr>\n",
              "  <th>C(x)[T.6.8]</th>   <td> 6007.9023</td> <td> 1006.358</td> <td>    5.970</td> <td> 0.000</td> <td> 4035.432</td> <td> 7980.373</td>\n",
              "</tr>\n",
              "<tr>\n",
              "  <th>C(x)[T.6.81]</th>  <td> 6516.4355</td> <td> 1006.899</td> <td>    6.472</td> <td> 0.000</td> <td> 4542.905</td> <td> 8489.966</td>\n",
              "</tr>\n",
              "<tr>\n",
              "  <th>C(x)[T.6.82]</th>  <td> 6296.9044</td> <td> 1006.194</td> <td>    6.258</td> <td> 0.000</td> <td> 4324.756</td> <td> 8269.052</td>\n",
              "</tr>\n",
              "<tr>\n",
              "  <th>C(x)[T.6.83]</th>  <td> 6681.3636</td> <td> 1007.097</td> <td>    6.634</td> <td> 0.000</td> <td> 4707.445</td> <td> 8655.282</td>\n",
              "</tr>\n",
              "<tr>\n",
              "  <th>C(x)[T.6.84]</th>  <td> 6378.8919</td> <td> 1005.602</td> <td>    6.343</td> <td> 0.000</td> <td> 4407.903</td> <td> 8349.881</td>\n",
              "</tr>\n",
              "<tr>\n",
              "  <th>C(x)[T.6.85]</th>  <td> 6449.3448</td> <td> 1007.450</td> <td>    6.402</td> <td> 0.000</td> <td> 4474.734</td> <td> 8423.955</td>\n",
              "</tr>\n",
              "<tr>\n",
              "  <th>C(x)[T.6.86]</th>  <td> 6545.1040</td> <td> 1006.835</td> <td>    6.501</td> <td> 0.000</td> <td> 4571.699</td> <td> 8518.509</td>\n",
              "</tr>\n",
              "<tr>\n",
              "  <th>C(x)[T.6.87]</th>  <td> 6977.7241</td> <td> 1007.450</td> <td>    6.926</td> <td> 0.000</td> <td> 5003.114</td> <td> 8952.335</td>\n",
              "</tr>\n",
              "<tr>\n",
              "  <th>C(x)[T.6.88]</th>  <td> 6916.8264</td> <td> 1007.097</td> <td>    6.868</td> <td> 0.000</td> <td> 4942.908</td> <td> 8890.745</td>\n",
              "</tr>\n",
              "<tr>\n",
              "  <th>C(x)[T.6.89]</th>  <td> 6757.4407</td> <td> 1007.305</td> <td>    6.708</td> <td> 0.000</td> <td> 4783.114</td> <td> 8731.767</td>\n",
              "</tr>\n",
              "<tr>\n",
              "  <th>C(x)[T.6.9]</th>   <td> 6768.4286</td> <td> 1007.755</td> <td>    6.716</td> <td> 0.000</td> <td> 4793.221</td> <td> 8743.637</td>\n",
              "</tr>\n",
              "<tr>\n",
              "  <th>C(x)[T.6.91]</th>  <td> 6279.5702</td> <td> 1007.600</td> <td>    6.232</td> <td> 0.000</td> <td> 4304.666</td> <td> 8254.474</td>\n",
              "</tr>\n",
              "<tr>\n",
              "  <th>C(x)[T.6.92]</th>  <td> 6636.5596</td> <td> 1007.998</td> <td>    6.584</td> <td> 0.000</td> <td> 4660.875</td> <td> 8612.244</td>\n",
              "</tr>\n",
              "<tr>\n",
              "  <th>C(x)[T.6.93]</th>  <td> 6572.6633</td> <td> 1009.017</td> <td>    6.514</td> <td> 0.000</td> <td> 4594.982</td> <td> 8550.345</td>\n",
              "</tr>\n",
              "<tr>\n",
              "  <th>C(x)[T.6.94]</th>  <td> 7084.1087</td> <td> 1009.675</td> <td>    7.016</td> <td> 0.000</td> <td> 5105.138</td> <td> 9063.080</td>\n",
              "</tr>\n",
              "<tr>\n",
              "  <th>C(x)[T.6.95]</th>  <td> 7418.7813</td> <td> 1009.227</td> <td>    7.351</td> <td> 0.000</td> <td> 5440.688</td> <td> 9396.875</td>\n",
              "</tr>\n",
              "<tr>\n",
              "  <th>C(x)[T.6.96]</th>  <td> 7227.0000</td> <td> 1010.163</td> <td>    7.154</td> <td> 0.000</td> <td> 5247.072</td> <td> 9206.928</td>\n",
              "</tr>\n",
              "<tr>\n",
              "  <th>C(x)[T.6.97]</th>  <td> 7378.9556</td> <td> 1009.913</td> <td>    7.307</td> <td> 0.000</td> <td> 5399.517</td> <td> 9358.394</td>\n",
              "</tr>\n",
              "<tr>\n",
              "  <th>C(x)[T.6.98]</th>  <td> 6899.8144</td> <td> 1009.121</td> <td>    6.837</td> <td> 0.000</td> <td> 4921.929</td> <td> 8877.700</td>\n",
              "</tr>\n",
              "<tr>\n",
              "  <th>C(x)[T.6.99]</th>  <td> 7000.8533</td> <td> 1012.106</td> <td>    6.917</td> <td> 0.000</td> <td> 5017.116</td> <td> 8984.591</td>\n",
              "</tr>\n",
              "<tr>\n",
              "  <th>C(x)[T.7.0]</th>   <td> 6695.3385</td> <td> 1014.127</td> <td>    6.602</td> <td> 0.000</td> <td> 4707.642</td> <td> 8683.035</td>\n",
              "</tr>\n",
              "<tr>\n",
              "  <th>C(x)[T.7.01]</th>  <td> 7154.8630</td> <td> 1012.467</td> <td>    7.067</td> <td> 0.000</td> <td> 5170.420</td> <td> 9139.306</td>\n",
              "</tr>\n",
              "<tr>\n",
              "  <th>C(x)[T.7.02]</th>  <td> 7242.6026</td> <td> 1011.601</td> <td>    7.160</td> <td> 0.000</td> <td> 5259.856</td> <td> 9225.349</td>\n",
              "</tr>\n",
              "<tr>\n",
              "  <th>C(x)[T.7.03]</th>  <td> 7610.1571</td> <td> 1013.045</td> <td>    7.512</td> <td> 0.000</td> <td> 5624.581</td> <td> 9595.734</td>\n",
              "</tr>\n",
              "<tr>\n",
              "  <th>C(x)[T.7.04]</th>  <td> 7625.3273</td> <td> 1016.875</td> <td>    7.499</td> <td> 0.000</td> <td> 5632.244</td> <td> 9618.411</td>\n",
              "</tr>\n",
              "<tr>\n",
              "  <th>C(x)[T.7.05]</th>  <td> 7036.9265</td> <td> 1013.459</td> <td>    6.943</td> <td> 0.000</td> <td> 5050.539</td> <td> 9023.314</td>\n",
              "</tr>\n",
              "<tr>\n",
              "  <th>C(x)[T.7.06]</th>  <td> 7454.2766</td> <td> 1019.907</td> <td>    7.309</td> <td> 0.000</td> <td> 5455.250</td> <td> 9453.303</td>\n",
              "</tr>\n",
              "<tr>\n",
              "  <th>C(x)[T.7.07]</th>  <td> 6594.1200</td> <td> 1018.657</td> <td>    6.473</td> <td> 0.000</td> <td> 4597.543</td> <td> 8590.697</td>\n",
              "</tr>\n",
              "<tr>\n",
              "  <th>C(x)[T.7.08]</th>  <td> 7321.4167</td> <td> 1019.473</td> <td>    7.182</td> <td> 0.000</td> <td> 5323.240</td> <td> 9319.593</td>\n",
              "</tr>\n",
              "<tr>\n",
              "  <th>C(x)[T.7.09]</th>  <td> 7488.8043</td> <td> 1020.359</td> <td>    7.339</td> <td> 0.000</td> <td> 5488.891</td> <td> 9488.717</td>\n",
              "</tr>\n",
              "<tr>\n",
              "  <th>C(x)[T.7.1]</th>   <td> 7271.3659</td> <td> 1022.949</td> <td>    7.108</td> <td> 0.000</td> <td> 5266.378</td> <td> 9276.354</td>\n",
              "</tr>\n",
              "<tr>\n",
              "  <th>C(x)[T.7.11]</th>  <td> 7429.3939</td> <td> 1028.700</td> <td>    7.222</td> <td> 0.000</td> <td> 5413.134</td> <td> 9445.654</td>\n",
              "</tr>\n",
              "<tr>\n",
              "  <th>C(x)[T.7.12]</th>  <td> 8253.2143</td> <td> 1016.556</td> <td>    8.119</td> <td> 0.000</td> <td> 6260.755</td> <td> 1.02e+04</td>\n",
              "</tr>\n",
              "<tr>\n",
              "  <th>C(x)[T.7.13]</th>  <td> 7867.7209</td> <td> 1021.841</td> <td>    7.700</td> <td> 0.000</td> <td> 5864.903</td> <td> 9870.539</td>\n",
              "</tr>\n",
              "<tr>\n",
              "  <th>C(x)[T.7.14]</th>  <td> 8223.5484</td> <td> 1030.594</td> <td>    7.979</td> <td> 0.000</td> <td> 6203.575</td> <td> 1.02e+04</td>\n",
              "</tr>\n",
              "<tr>\n",
              "  <th>C(x)[T.7.15]</th>  <td> 8171.5000</td> <td> 1021.325</td> <td>    8.001</td> <td> 0.000</td> <td> 6169.694</td> <td> 1.02e+04</td>\n",
              "</tr>\n",
              "<tr>\n",
              "  <th>C(x)[T.7.16]</th>  <td> 7952.4912</td> <td> 1016.249</td> <td>    7.825</td> <td> 0.000</td> <td> 5960.635</td> <td> 9944.348</td>\n",
              "</tr>\n",
              "<tr>\n",
              "  <th>C(x)[T.7.17]</th>  <td> 8509.8704</td> <td> 1017.205</td> <td>    8.366</td> <td> 0.000</td> <td> 6516.139</td> <td> 1.05e+04</td>\n",
              "</tr>\n",
              "<tr>\n",
              "  <th>C(x)[T.7.18]</th>  <td> 8478.0588</td> <td> 1018.273</td> <td>    8.326</td> <td> 0.000</td> <td> 6482.235</td> <td> 1.05e+04</td>\n",
              "</tr>\n",
              "<tr>\n",
              "  <th>C(x)[T.7.19]</th>  <td> 7852.1250</td> <td> 1019.473</td> <td>    7.702</td> <td> 0.000</td> <td> 5853.949</td> <td> 9850.301</td>\n",
              "</tr>\n",
              "<tr>\n",
              "  <th>C(x)[T.7.2]</th>   <td> 9438.6667</td> <td> 1015.387</td> <td>    9.296</td> <td> 0.000</td> <td> 7448.499</td> <td> 1.14e+04</td>\n",
              "</tr>\n",
              "<tr>\n",
              "  <th>C(x)[T.7.21]</th>  <td> 9083.0847</td> <td> 1015.665</td> <td>    8.943</td> <td> 0.000</td> <td> 7092.373</td> <td> 1.11e+04</td>\n",
              "</tr>\n",
              "<tr>\n",
              "  <th>C(x)[T.7.22]</th>  <td> 8904.7143</td> <td> 1019.057</td> <td>    8.738</td> <td> 0.000</td> <td> 6907.354</td> <td> 1.09e+04</td>\n",
              "</tr>\n",
              "<tr>\n",
              "  <th>C(x)[T.7.23]</th>  <td> 9215.2941</td> <td> 1018.273</td> <td>    9.050</td> <td> 0.000</td> <td> 7219.470</td> <td> 1.12e+04</td>\n",
              "</tr>\n",
              "<tr>\n",
              "  <th>C(x)[T.7.24]</th>  <td> 8927.6377</td> <td> 1013.249</td> <td>    8.811</td> <td> 0.000</td> <td> 6941.661</td> <td> 1.09e+04</td>\n",
              "</tr>\n",
              "<tr>\n",
              "  <th>C(x)[T.7.25]</th>  <td> 9945.3976</td> <td> 1010.839</td> <td>    9.839</td> <td> 0.000</td> <td> 7964.145</td> <td> 1.19e+04</td>\n",
              "</tr>\n",
              "<tr>\n",
              "  <th>C(x)[T.7.26]</th>  <td> 9038.2667</td> <td> 1012.106</td> <td>    8.930</td> <td> 0.000</td> <td> 7054.529</td> <td>  1.1e+04</td>\n",
              "</tr>\n",
              "<tr>\n",
              "  <th>C(x)[T.7.27]</th>  <td> 9701.1546</td> <td> 1009.121</td> <td>    9.613</td> <td> 0.000</td> <td> 7723.269</td> <td> 1.17e+04</td>\n",
              "</tr>\n",
              "<tr>\n",
              "  <th>C(x)[T.7.28]</th>  <td> 9837.3056</td> <td> 1008.082</td> <td>    9.758</td> <td> 0.000</td> <td> 7861.456</td> <td> 1.18e+04</td>\n",
              "</tr>\n",
              "<tr>\n",
              "  <th>C(x)[T.7.29]</th>  <td> 9921.1818</td> <td> 1010.163</td> <td>    9.821</td> <td> 0.000</td> <td> 7941.254</td> <td> 1.19e+04</td>\n",
              "</tr>\n",
              "<tr>\n",
              "  <th>C(x)[T.7.3]</th>   <td> 1.043e+04</td> <td> 1009.559</td> <td>   10.331</td> <td> 0.000</td> <td> 8451.105</td> <td> 1.24e+04</td>\n",
              "</tr>\n",
              "<tr>\n",
              "  <th>C(x)[T.7.31]</th>  <td> 9947.0960</td> <td> 1006.835</td> <td>    9.880</td> <td> 0.000</td> <td> 7973.691</td> <td> 1.19e+04</td>\n",
              "</tr>\n",
              "<tr>\n",
              "  <th>C(x)[T.7.32]</th>  <td> 1.055e+04</td> <td> 1009.335</td> <td>   10.456</td> <td> 0.000</td> <td> 8574.947</td> <td> 1.25e+04</td>\n",
              "</tr>\n",
              "<tr>\n",
              "  <th>C(x)[T.7.33]</th>  <td> 1.063e+04</td> <td> 1009.121</td> <td>   10.537</td> <td> 0.000</td> <td> 8655.671</td> <td> 1.26e+04</td>\n",
              "</tr>\n",
              "<tr>\n",
              "  <th>C(x)[T.7.34]</th>  <td> 1.009e+04</td> <td> 1007.235</td> <td>   10.017</td> <td> 0.000</td> <td> 8115.719</td> <td> 1.21e+04</td>\n",
              "</tr>\n",
              "<tr>\n",
              "  <th>C(x)[T.7.35]</th>  <td> 1.014e+04</td> <td> 1008.255</td> <td>   10.058</td> <td> 0.000</td> <td> 8164.755</td> <td> 1.21e+04</td>\n",
              "</tr>\n",
              "<tr>\n",
              "  <th>C(x)[T.7.36]</th>  <td>  1.02e+04</td> <td> 1008.344</td> <td>   10.114</td> <td> 0.000</td> <td> 8221.904</td> <td> 1.22e+04</td>\n",
              "</tr>\n",
              "<tr>\n",
              "  <th>C(x)[T.7.37]</th>  <td> 1.053e+04</td> <td> 1009.121</td> <td>   10.434</td> <td> 0.000</td> <td> 8550.919</td> <td> 1.25e+04</td>\n",
              "</tr>\n",
              "<tr>\n",
              "  <th>C(x)[T.7.38]</th>  <td> 1.052e+04</td> <td> 1007.235</td> <td>   10.445</td> <td> 0.000</td> <td> 8546.341</td> <td> 1.25e+04</td>\n",
              "</tr>\n",
              "<tr>\n",
              "  <th>C(x)[T.7.39]</th>  <td> 1.035e+04</td> <td> 1007.524</td> <td>   10.276</td> <td> 0.000</td> <td> 8378.748</td> <td> 1.23e+04</td>\n",
              "</tr>\n",
              "<tr>\n",
              "  <th>C(x)[T.7.4]</th>   <td> 1.026e+04</td> <td> 1010.839</td> <td>   10.150</td> <td> 0.000</td> <td> 8278.964</td> <td> 1.22e+04</td>\n",
              "</tr>\n",
              "<tr>\n",
              "  <th>C(x)[T.7.41]</th>  <td> 1.047e+04</td> <td> 1009.446</td> <td>   10.376</td> <td> 0.000</td> <td> 8495.094</td> <td> 1.25e+04</td>\n",
              "</tr>\n",
              "<tr>\n",
              "  <th>C(x)[T.7.42]</th>  <td> 1.034e+04</td> <td> 1010.424</td> <td>   10.235</td> <td> 0.000</td> <td> 8361.479</td> <td> 1.23e+04</td>\n",
              "</tr>\n",
              "<tr>\n",
              "  <th>C(x)[T.7.43]</th>  <td> 1.021e+04</td> <td> 1010.163</td> <td>   10.112</td> <td> 0.000</td> <td> 8235.038</td> <td> 1.22e+04</td>\n",
              "</tr>\n",
              "<tr>\n",
              "  <th>C(x)[T.7.44]</th>  <td> 1.054e+04</td> <td> 1010.163</td> <td>   10.436</td> <td> 0.000</td> <td> 8561.697</td> <td> 1.25e+04</td>\n",
              "</tr>\n",
              "<tr>\n",
              "  <th>C(x)[T.7.45]</th>  <td> 1.027e+04</td> <td> 1009.559</td> <td>   10.176</td> <td> 0.000</td> <td> 8294.352</td> <td> 1.23e+04</td>\n",
              "</tr>\n",
              "<tr>\n",
              "  <th>C(x)[T.7.46]</th>  <td> 9926.5541</td> <td> 1012.284</td> <td>    9.806</td> <td> 0.000</td> <td> 7942.469</td> <td> 1.19e+04</td>\n",
              "</tr>\n",
              "<tr>\n",
              "  <th>C(x)[T.7.47]</th>  <td> 1.028e+04</td> <td> 1011.285</td> <td>   10.163</td> <td> 0.000</td> <td> 8295.624</td> <td> 1.23e+04</td>\n",
              "</tr>\n",
              "<tr>\n",
              "  <th>C(x)[T.7.48]</th>  <td> 1.098e+04</td> <td> 1010.292</td> <td>   10.872</td> <td> 0.000</td> <td> 9003.911</td> <td>  1.3e+04</td>\n",
              "</tr>\n",
              "<tr>\n",
              "  <th>C(x)[T.7.49]</th>  <td> 1.123e+04</td> <td> 1015.387</td> <td>   11.061</td> <td> 0.000</td> <td> 9240.749</td> <td> 1.32e+04</td>\n",
              "</tr>\n",
              "<tr>\n",
              "  <th>C(x)[T.7.5]</th>   <td> 1.037e+04</td> <td> 1015.387</td> <td>   10.212</td> <td> 0.000</td> <td> 8378.716</td> <td> 1.24e+04</td>\n",
              "</tr>\n",
              "<tr>\n",
              "  <th>C(x)[T.7.51]</th>  <td> 1.045e+04</td> <td> 1013.045</td> <td>   10.312</td> <td> 0.000</td> <td> 8460.866</td> <td> 1.24e+04</td>\n",
              "</tr>\n",
              "<tr>\n",
              "  <th>C(x)[T.7.52]</th>  <td> 1.062e+04</td> <td> 1014.859</td> <td>   10.464</td> <td> 0.000</td> <td> 8630.739</td> <td> 1.26e+04</td>\n",
              "</tr>\n",
              "<tr>\n",
              "  <th>C(x)[T.7.53]</th>  <td> 1.031e+04</td> <td> 1011.601</td> <td>   10.195</td> <td> 0.000</td> <td> 8330.228</td> <td> 1.23e+04</td>\n",
              "</tr>\n",
              "<tr>\n",
              "  <th>C(x)[T.7.54]</th>  <td> 1.077e+04</td> <td> 1013.897</td> <td>   10.625</td> <td> 0.000</td> <td> 8785.207</td> <td> 1.28e+04</td>\n",
              "</tr>\n",
              "<tr>\n",
              "  <th>C(x)[T.7.55]</th>  <td> 1.078e+04</td> <td> 1016.556</td> <td>   10.607</td> <td> 0.000</td> <td> 8789.880</td> <td> 1.28e+04</td>\n",
              "</tr>\n",
              "<tr>\n",
              "  <th>C(x)[T.7.56]</th>  <td>  1.03e+04</td> <td> 1018.657</td> <td>   10.110</td> <td> 0.000</td> <td> 8302.363</td> <td> 1.23e+04</td>\n",
              "</tr>\n",
              "<tr>\n",
              "  <th>C(x)[T.7.57]</th>  <td> 1.125e+04</td> <td> 1016.249</td> <td>   11.069</td> <td> 0.000</td> <td> 9257.056</td> <td> 1.32e+04</td>\n",
              "</tr>\n",
              "<tr>\n",
              "  <th>C(x)[T.7.58]</th>  <td> 1.133e+04</td> <td> 1019.907</td> <td>   11.110</td> <td> 0.000</td> <td> 9332.569</td> <td> 1.33e+04</td>\n",
              "</tr>\n",
              "<tr>\n",
              "  <th>C(x)[T.7.59]</th>  <td> 1.072e+04</td> <td> 1017.205</td> <td>   10.538</td> <td> 0.000</td> <td> 8725.325</td> <td> 1.27e+04</td>\n",
              "</tr>\n",
              "<tr>\n",
              "  <th>C(x)[T.7.6]</th>   <td> 1.084e+04</td> <td> 1018.657</td> <td>   10.641</td> <td> 0.000</td> <td> 8843.143</td> <td> 1.28e+04</td>\n",
              "</tr>\n",
              "<tr>\n",
              "  <th>C(x)[T.7.61]</th>  <td> 1.145e+04</td> <td> 1017.904</td> <td>   11.252</td> <td> 0.000</td> <td> 9458.227</td> <td> 1.34e+04</td>\n",
              "</tr>\n",
              "<tr>\n",
              "  <th>C(x)[T.7.62]</th>  <td> 1.125e+04</td> <td> 1021.325</td> <td>   11.018</td> <td> 0.000</td> <td> 9251.194</td> <td> 1.33e+04</td>\n",
              "</tr>\n",
              "<tr>\n",
              "  <th>C(x)[T.7.63]</th>  <td> 1.176e+04</td> <td> 1019.473</td> <td>   11.531</td> <td> 0.000</td> <td> 9757.615</td> <td> 1.38e+04</td>\n",
              "</tr>\n",
              "<tr>\n",
              "  <th>C(x)[T.7.64]</th>  <td> 1.135e+04</td> <td> 1024.825</td> <td>   11.072</td> <td> 0.000</td> <td> 9338.598</td> <td> 1.34e+04</td>\n",
              "</tr>\n",
              "<tr>\n",
              "  <th>C(x)[T.7.65]</th>  <td> 1.281e+04</td> <td> 1026.247</td> <td>   12.481</td> <td> 0.000</td> <td> 1.08e+04</td> <td> 1.48e+04</td>\n",
              "</tr>\n",
              "<tr>\n",
              "  <th>C(x)[T.7.66]</th>  <td> 1.082e+04</td> <td> 1036.582</td> <td>   10.440</td> <td> 0.000</td> <td> 8790.444</td> <td> 1.29e+04</td>\n",
              "</tr>\n",
              "<tr>\n",
              "  <th>C(x)[T.7.67]</th>  <td> 1.149e+04</td> <td> 1024.168</td> <td>   11.214</td> <td> 0.000</td> <td> 9477.725</td> <td> 1.35e+04</td>\n",
              "</tr>\n",
              "<tr>\n",
              "  <th>C(x)[T.7.68]</th>  <td> 1.144e+04</td> <td> 1026.247</td> <td>   11.149</td> <td> 0.000</td> <td> 9429.741</td> <td> 1.35e+04</td>\n",
              "</tr>\n",
              "<tr>\n",
              "  <th>C(x)[T.7.69]</th>  <td> 1.141e+04</td> <td> 1035.210</td> <td>   11.019</td> <td> 0.000</td> <td> 9377.646</td> <td> 1.34e+04</td>\n",
              "</tr>\n",
              "<tr>\n",
              "  <th>C(x)[T.7.7]</th>   <td> 1.187e+04</td> <td> 1036.582</td> <td>   11.451</td> <td> 0.000</td> <td> 9837.867</td> <td> 1.39e+04</td>\n",
              "</tr>\n",
              "<tr>\n",
              "  <th>C(x)[T.7.71]</th>  <td> 1.115e+04</td> <td> 1032.746</td> <td>   10.792</td> <td> 0.000</td> <td> 9121.638</td> <td> 1.32e+04</td>\n",
              "</tr>\n",
              "<tr>\n",
              "  <th>C(x)[T.7.72]</th>  <td> 1.264e+04</td> <td> 1026.247</td> <td>   12.316</td> <td> 0.000</td> <td> 1.06e+04</td> <td> 1.47e+04</td>\n",
              "</tr>\n",
              "<tr>\n",
              "  <th>C(x)[T.7.73]</th>  <td> 1.079e+04</td> <td> 1033.935</td> <td>   10.438</td> <td> 0.000</td> <td> 8765.372</td> <td> 1.28e+04</td>\n",
              "</tr>\n",
              "<tr>\n",
              "  <th>C(x)[T.7.74]</th>  <td> 1.231e+04</td> <td> 1030.594</td> <td>   11.945</td> <td> 0.000</td> <td> 1.03e+04</td> <td> 1.43e+04</td>\n",
              "</tr>\n",
              "<tr>\n",
              "  <th>C(x)[T.7.75]</th>  <td> 1.142e+04</td> <td> 1050.133</td> <td>   10.879</td> <td> 0.000</td> <td> 9365.783</td> <td> 1.35e+04</td>\n",
              "</tr>\n",
              "<tr>\n",
              "  <th>C(x)[T.7.76]</th>  <td> 1.192e+04</td> <td> 1030.594</td> <td>   11.567</td> <td> 0.000</td> <td> 9901.027</td> <td> 1.39e+04</td>\n",
              "</tr>\n",
              "<tr>\n",
              "  <th>C(x)[T.7.77]</th>  <td> 1.133e+04</td> <td> 1038.062</td> <td>   10.916</td> <td> 0.000</td> <td> 9296.869</td> <td> 1.34e+04</td>\n",
              "</tr>\n",
              "<tr>\n",
              "  <th>C(x)[T.7.78]</th>  <td> 1.161e+04</td> <td> 1036.582</td> <td>   11.201</td> <td> 0.000</td> <td> 9578.944</td> <td> 1.36e+04</td>\n",
              "</tr>\n",
              "<tr>\n",
              "  <th>C(x)[T.7.79]</th>  <td> 1.145e+04</td> <td> 1032.746</td> <td>   11.091</td> <td> 0.000</td> <td> 9429.913</td> <td> 1.35e+04</td>\n",
              "</tr>\n",
              "<tr>\n",
              "  <th>C(x)[T.7.8]</th>   <td> 1.167e+04</td> <td> 1052.908</td> <td>   11.082</td> <td> 0.000</td> <td> 9604.792</td> <td> 1.37e+04</td>\n",
              "</tr>\n",
              "<tr>\n",
              "  <th>C(x)[T.7.81]</th>  <td> 1.223e+04</td> <td> 1072.965</td> <td>   11.399</td> <td> 0.000</td> <td> 1.01e+04</td> <td> 1.43e+04</td>\n",
              "</tr>\n",
              "<tr>\n",
              "  <th>C(x)[T.7.82]</th>  <td> 1.205e+04</td> <td> 1047.630</td> <td>   11.505</td> <td> 0.000</td> <td> 9999.287</td> <td> 1.41e+04</td>\n",
              "</tr>\n",
              "<tr>\n",
              "  <th>C(x)[T.7.83]</th>  <td>  1.19e+04</td> <td> 1067.843</td> <td>   11.147</td> <td> 0.000</td> <td> 9810.733</td> <td>  1.4e+04</td>\n",
              "</tr>\n",
              "<tr>\n",
              "  <th>C(x)[T.7.84]</th>  <td> 1.148e+04</td> <td> 1050.133</td> <td>   10.929</td> <td> 0.000</td> <td> 9418.467</td> <td> 1.35e+04</td>\n",
              "</tr>\n",
              "<tr>\n",
              "  <th>C(x)[T.7.85]</th>  <td> 1.325e+04</td> <td> 1043.292</td> <td>   12.704</td> <td> 0.000</td> <td> 1.12e+04</td> <td> 1.53e+04</td>\n",
              "</tr>\n",
              "<tr>\n",
              "  <th>C(x)[T.7.86]</th>  <td>  1.33e+04</td> <td> 1047.630</td> <td>   12.692</td> <td> 0.000</td> <td> 1.12e+04</td> <td> 1.54e+04</td>\n",
              "</tr>\n",
              "<tr>\n",
              "  <th>C(x)[T.7.87]</th>  <td> 1.254e+04</td> <td> 1063.384</td> <td>   11.792</td> <td> 0.000</td> <td> 1.05e+04</td> <td> 1.46e+04</td>\n",
              "</tr>\n",
              "<tr>\n",
              "  <th>C(x)[T.7.88]</th>  <td>  1.17e+04</td> <td> 1041.400</td> <td>   11.230</td> <td> 0.000</td> <td> 9653.978</td> <td> 1.37e+04</td>\n",
              "</tr>\n",
              "<tr>\n",
              "  <th>C(x)[T.7.89]</th>  <td> 1.267e+04</td> <td> 1056.000</td> <td>   11.994</td> <td> 0.000</td> <td> 1.06e+04</td> <td> 1.47e+04</td>\n",
              "</tr>\n",
              "<tr>\n",
              "  <th>C(x)[T.7.9]</th>   <td> 1.364e+04</td> <td> 1036.582</td> <td>   13.157</td> <td> 0.000</td> <td> 1.16e+04</td> <td> 1.57e+04</td>\n",
              "</tr>\n",
              "<tr>\n",
              "  <th>C(x)[T.7.91]</th>  <td> 1.411e+04</td> <td> 1038.062</td> <td>   13.596</td> <td> 0.000</td> <td> 1.21e+04</td> <td> 1.61e+04</td>\n",
              "</tr>\n",
              "<tr>\n",
              "  <th>C(x)[T.7.92]</th>  <td> 1.407e+04</td> <td> 1067.843</td> <td>   13.181</td> <td> 0.000</td> <td>  1.2e+04</td> <td> 1.62e+04</td>\n",
              "</tr>\n",
              "<tr>\n",
              "  <th>C(x)[T.7.93]</th>  <td> 1.205e+04</td> <td> 1039.663</td> <td>   11.590</td> <td> 0.000</td> <td>    1e+04</td> <td> 1.41e+04</td>\n",
              "</tr>\n",
              "<tr>\n",
              "  <th>C(x)[T.7.94]</th>  <td> 1.435e+04</td> <td> 1043.292</td> <td>   13.754</td> <td> 0.000</td> <td> 1.23e+04</td> <td> 1.64e+04</td>\n",
              "</tr>\n",
              "<tr>\n",
              "  <th>C(x)[T.7.95]</th>  <td> 1.367e+04</td> <td> 1043.292</td> <td>   13.100</td> <td> 0.000</td> <td> 1.16e+04</td> <td> 1.57e+04</td>\n",
              "</tr>\n",
              "<tr>\n",
              "  <th>C(x)[T.7.96]</th>  <td>   1.4e+04</td> <td> 1045.360</td> <td>   13.393</td> <td> 0.000</td> <td>  1.2e+04</td> <td>  1.6e+04</td>\n",
              "</tr>\n",
              "<tr>\n",
              "  <th>C(x)[T.7.97]</th>  <td> 1.288e+04</td> <td> 1039.663</td> <td>   12.387</td> <td> 0.000</td> <td> 1.08e+04</td> <td> 1.49e+04</td>\n",
              "</tr>\n",
              "<tr>\n",
              "  <th>C(x)[T.7.98]</th>  <td> 1.461e+04</td> <td> 1033.935</td> <td>   14.127</td> <td> 0.000</td> <td> 1.26e+04</td> <td> 1.66e+04</td>\n",
              "</tr>\n",
              "<tr>\n",
              "  <th>C(x)[T.7.99]</th>  <td>  1.35e+04</td> <td> 1032.746</td> <td>   13.073</td> <td> 0.000</td> <td> 1.15e+04</td> <td> 1.55e+04</td>\n",
              "</tr>\n",
              "<tr>\n",
              "  <th>C(x)[T.8.0]</th>   <td> 1.517e+04</td> <td> 1043.292</td> <td>   14.537</td> <td> 0.000</td> <td> 1.31e+04</td> <td> 1.72e+04</td>\n",
              "</tr>\n",
              "<tr>\n",
              "  <th>C(x)[T.8.01]</th>  <td> 1.324e+04</td> <td> 1026.247</td> <td>   12.898</td> <td> 0.000</td> <td> 1.12e+04</td> <td> 1.52e+04</td>\n",
              "</tr>\n",
              "<tr>\n",
              "  <th>C(x)[T.8.02]</th>  <td> 1.408e+04</td> <td> 1030.594</td> <td>   13.660</td> <td> 0.000</td> <td> 1.21e+04</td> <td> 1.61e+04</td>\n",
              "</tr>\n",
              "<tr>\n",
              "  <th>C(x)[T.8.03]</th>  <td> 1.467e+04</td> <td> 1024.168</td> <td>   14.323</td> <td> 0.000</td> <td> 1.27e+04</td> <td> 1.67e+04</td>\n",
              "</tr>\n",
              "<tr>\n",
              "  <th>C(x)[T.8.04]</th>  <td> 1.402e+04</td> <td> 1019.473</td> <td>   13.752</td> <td> 0.000</td> <td>  1.2e+04</td> <td>  1.6e+04</td>\n",
              "</tr>\n",
              "<tr>\n",
              "  <th>C(x)[T.8.05]</th>  <td> 1.292e+04</td> <td> 1022.382</td> <td>   12.637</td> <td> 0.000</td> <td> 1.09e+04</td> <td> 1.49e+04</td>\n",
              "</tr>\n",
              "<tr>\n",
              "  <th>C(x)[T.8.06]</th>  <td> 1.427e+04</td> <td> 1018.657</td> <td>   14.010</td> <td> 0.000</td> <td> 1.23e+04</td> <td> 1.63e+04</td>\n",
              "</tr>\n",
              "<tr>\n",
              "  <th>C(x)[T.8.07]</th>  <td> 1.488e+04</td> <td> 1019.473</td> <td>   14.596</td> <td> 0.000</td> <td> 1.29e+04</td> <td> 1.69e+04</td>\n",
              "</tr>\n",
              "<tr>\n",
              "  <th>C(x)[T.8.08]</th>  <td> 1.471e+04</td> <td> 1020.359</td> <td>   14.418</td> <td> 0.000</td> <td> 1.27e+04</td> <td> 1.67e+04</td>\n",
              "</tr>\n",
              "<tr>\n",
              "  <th>C(x)[T.8.09]</th>  <td> 1.411e+04</td> <td> 1019.057</td> <td>   13.843</td> <td> 0.000</td> <td> 1.21e+04</td> <td> 1.61e+04</td>\n",
              "</tr>\n",
              "<tr>\n",
              "  <th>C(x)[T.8.1]</th>   <td> 1.415e+04</td> <td> 1019.057</td> <td>   13.890</td> <td> 0.000</td> <td> 1.22e+04</td> <td> 1.62e+04</td>\n",
              "</tr>\n",
              "<tr>\n",
              "  <th>C(x)[T.8.11]</th>  <td> 1.434e+04</td> <td> 1019.057</td> <td>   14.074</td> <td> 0.000</td> <td> 1.23e+04</td> <td> 1.63e+04</td>\n",
              "</tr>\n",
              "<tr>\n",
              "  <th>C(x)[T.8.12]</th>  <td> 1.454e+04</td> <td> 1019.473</td> <td>   14.262</td> <td> 0.000</td> <td> 1.25e+04</td> <td> 1.65e+04</td>\n",
              "</tr>\n",
              "<tr>\n",
              "  <th>C(x)[T.8.13]</th>  <td> 1.413e+04</td> <td> 1019.057</td> <td>   13.867</td> <td> 0.000</td> <td> 1.21e+04</td> <td> 1.61e+04</td>\n",
              "</tr>\n",
              "<tr>\n",
              "  <th>C(x)[T.8.14]</th>  <td> 1.478e+04</td> <td> 1018.657</td> <td>   14.505</td> <td> 0.000</td> <td> 1.28e+04</td> <td> 1.68e+04</td>\n",
              "</tr>\n",
              "<tr>\n",
              "  <th>C(x)[T.8.15]</th>  <td> 1.465e+04</td> <td> 1019.057</td> <td>   14.379</td> <td> 0.000</td> <td> 1.27e+04</td> <td> 1.67e+04</td>\n",
              "</tr>\n",
              "<tr>\n",
              "  <th>C(x)[T.8.16]</th>  <td> 1.506e+04</td> <td> 1022.949</td> <td>   14.723</td> <td> 0.000</td> <td> 1.31e+04</td> <td> 1.71e+04</td>\n",
              "</tr>\n",
              "<tr>\n",
              "  <th>C(x)[T.8.17]</th>  <td> 1.544e+04</td> <td> 1022.949</td> <td>   15.094</td> <td> 0.000</td> <td> 1.34e+04</td> <td> 1.74e+04</td>\n",
              "</tr>\n",
              "<tr>\n",
              "  <th>C(x)[T.8.18]</th>  <td> 1.456e+04</td> <td> 1026.247</td> <td>   14.188</td> <td> 0.000</td> <td> 1.25e+04</td> <td> 1.66e+04</td>\n",
              "</tr>\n",
              "<tr>\n",
              "  <th>C(x)[T.8.19]</th>  <td> 1.458e+04</td> <td> 1025.517</td> <td>   14.214</td> <td> 0.000</td> <td> 1.26e+04</td> <td> 1.66e+04</td>\n",
              "</tr>\n",
              "<tr>\n",
              "  <th>C(x)[T.8.2]</th>   <td> 1.506e+04</td> <td> 1022.382</td> <td>   14.733</td> <td> 0.000</td> <td> 1.31e+04</td> <td> 1.71e+04</td>\n",
              "</tr>\n",
              "<tr>\n",
              "  <th>C(x)[T.8.21]</th>  <td>  1.46e+04</td> <td> 1021.325</td> <td>   14.298</td> <td> 0.000</td> <td> 1.26e+04</td> <td> 1.66e+04</td>\n",
              "</tr>\n",
              "<tr>\n",
              "  <th>C(x)[T.8.22]</th>  <td> 1.502e+04</td> <td> 1028.700</td> <td>   14.601</td> <td> 0.000</td> <td>  1.3e+04</td> <td>  1.7e+04</td>\n",
              "</tr>\n",
              "<tr>\n",
              "  <th>C(x)[T.8.23]</th>  <td> 1.462e+04</td> <td> 1022.949</td> <td>   14.294</td> <td> 0.000</td> <td> 1.26e+04</td> <td> 1.66e+04</td>\n",
              "</tr>\n",
              "<tr>\n",
              "  <th>C(x)[T.8.24]</th>  <td> 1.516e+04</td> <td> 1024.825</td> <td>   14.797</td> <td> 0.000</td> <td> 1.32e+04</td> <td> 1.72e+04</td>\n",
              "</tr>\n",
              "<tr>\n",
              "  <th>C(x)[T.8.25]</th>  <td> 1.362e+04</td> <td> 1027.835</td> <td>   13.247</td> <td> 0.000</td> <td> 1.16e+04</td> <td> 1.56e+04</td>\n",
              "</tr>\n",
              "<tr>\n",
              "  <th>C(x)[T.8.26]</th>  <td> 1.374e+04</td> <td> 1031.634</td> <td>   13.317</td> <td> 0.000</td> <td> 1.17e+04</td> <td> 1.58e+04</td>\n",
              "</tr>\n",
              "<tr>\n",
              "  <th>C(x)[T.8.27]</th>  <td> 1.527e+04</td> <td> 1030.594</td> <td>   14.819</td> <td> 0.000</td> <td> 1.33e+04</td> <td> 1.73e+04</td>\n",
              "</tr>\n",
              "<tr>\n",
              "  <th>C(x)[T.8.28]</th>  <td> 1.501e+04</td> <td> 1023.543</td> <td>   14.662</td> <td> 0.000</td> <td>  1.3e+04</td> <td>  1.7e+04</td>\n",
              "</tr>\n",
              "<tr>\n",
              "  <th>C(x)[T.8.29]</th>  <td>   1.5e+04</td> <td> 1031.634</td> <td>   14.539</td> <td> 0.000</td> <td>  1.3e+04</td> <td>  1.7e+04</td>\n",
              "</tr>\n",
              "<tr>\n",
              "  <th>C(x)[T.8.3]</th>   <td> 1.388e+04</td> <td> 1036.582</td> <td>   13.393</td> <td> 0.000</td> <td> 1.19e+04</td> <td> 1.59e+04</td>\n",
              "</tr>\n",
              "<tr>\n",
              "  <th>C(x)[T.8.31]</th>  <td> 1.386e+04</td> <td> 1032.746</td> <td>   13.416</td> <td> 0.000</td> <td> 1.18e+04</td> <td> 1.59e+04</td>\n",
              "</tr>\n",
              "<tr>\n",
              "  <th>C(x)[T.8.32]</th>  <td> 1.478e+04</td> <td> 1043.292</td> <td>   14.164</td> <td> 0.000</td> <td> 1.27e+04</td> <td> 1.68e+04</td>\n",
              "</tr>\n",
              "<tr>\n",
              "  <th>C(x)[T.8.33]</th>  <td> 1.402e+04</td> <td> 1063.384</td> <td>   13.187</td> <td> 0.000</td> <td> 1.19e+04</td> <td> 1.61e+04</td>\n",
              "</tr>\n",
              "<tr>\n",
              "  <th>C(x)[T.8.34]</th>  <td> 1.492e+04</td> <td> 1043.292</td> <td>   14.305</td> <td> 0.000</td> <td> 1.29e+04</td> <td>  1.7e+04</td>\n",
              "</tr>\n",
              "<tr>\n",
              "  <th>C(x)[T.8.35]</th>  <td>   1.5e+04</td> <td> 1063.384</td> <td>   14.102</td> <td> 0.000</td> <td> 1.29e+04</td> <td> 1.71e+04</td>\n",
              "</tr>\n",
              "<tr>\n",
              "  <th>C(x)[T.8.36]</th>  <td> 1.547e+04</td> <td> 1038.062</td> <td>   14.908</td> <td> 0.000</td> <td> 1.34e+04</td> <td> 1.75e+04</td>\n",
              "</tr>\n",
              "<tr>\n",
              "  <th>C(x)[T.8.37]</th>  <td>  1.41e+04</td> <td> 1043.292</td> <td>   13.517</td> <td> 0.000</td> <td> 1.21e+04</td> <td> 1.61e+04</td>\n",
              "</tr>\n",
              "<tr>\n",
              "  <th>C(x)[T.8.38]</th>  <td> 1.576e+04</td> <td> 1047.630</td> <td>   15.046</td> <td> 0.000</td> <td> 1.37e+04</td> <td> 1.78e+04</td>\n",
              "</tr>\n",
              "<tr>\n",
              "  <th>C(x)[T.8.39]</th>  <td>  1.44e+04</td> <td> 1052.908</td> <td>   13.679</td> <td> 0.000</td> <td> 1.23e+04</td> <td> 1.65e+04</td>\n",
              "</tr>\n",
              "<tr>\n",
              "  <th>C(x)[T.8.4]</th>   <td> 1.382e+04</td> <td> 1043.292</td> <td>   13.250</td> <td> 0.000</td> <td> 1.18e+04</td> <td> 1.59e+04</td>\n",
              "</tr>\n",
              "<tr>\n",
              "  <th>C(x)[T.8.41]</th>  <td>  1.51e+04</td> <td> 1039.663</td> <td>   14.528</td> <td> 0.000</td> <td> 1.31e+04</td> <td> 1.71e+04</td>\n",
              "</tr>\n",
              "<tr>\n",
              "  <th>C(x)[T.8.42]</th>  <td> 1.459e+04</td> <td> 1056.000</td> <td>   13.819</td> <td> 0.000</td> <td> 1.25e+04</td> <td> 1.67e+04</td>\n",
              "</tr>\n",
              "<tr>\n",
              "  <th>C(x)[T.8.43]</th>  <td> 1.542e+04</td> <td> 1050.133</td> <td>   14.684</td> <td> 0.000</td> <td> 1.34e+04</td> <td> 1.75e+04</td>\n",
              "</tr>\n",
              "<tr>\n",
              "  <th>C(x)[T.8.44]</th>  <td> 1.492e+04</td> <td> 1072.965</td> <td>   13.904</td> <td> 0.000</td> <td> 1.28e+04</td> <td>  1.7e+04</td>\n",
              "</tr>\n",
              "<tr>\n",
              "  <th>C(x)[T.8.45]</th>  <td> 1.509e+04</td> <td> 1056.000</td> <td>   14.289</td> <td> 0.000</td> <td>  1.3e+04</td> <td> 1.72e+04</td>\n",
              "</tr>\n",
              "<tr>\n",
              "  <th>C(x)[T.8.46]</th>  <td> 1.387e+04</td> <td> 1067.843</td> <td>   12.993</td> <td> 0.000</td> <td> 1.18e+04</td> <td>  1.6e+04</td>\n",
              "</tr>\n",
              "<tr>\n",
              "  <th>C(x)[T.8.47]</th>  <td> 1.553e+04</td> <td> 1052.908</td> <td>   14.747</td> <td> 0.000</td> <td> 1.35e+04</td> <td> 1.76e+04</td>\n",
              "</tr>\n",
              "<tr>\n",
              "  <th>C(x)[T.8.48]</th>  <td> 1.424e+04</td> <td> 1094.214</td> <td>   13.014</td> <td> 0.000</td> <td> 1.21e+04</td> <td> 1.64e+04</td>\n",
              "</tr>\n",
              "<tr>\n",
              "  <th>C(x)[T.8.49]</th>  <td> 1.585e+04</td> <td> 1063.384</td> <td>   14.909</td> <td> 0.000</td> <td> 1.38e+04</td> <td> 1.79e+04</td>\n",
              "</tr>\n",
              "<tr>\n",
              "  <th>C(x)[T.8.5]</th>   <td> 1.614e+04</td> <td> 1153.402</td> <td>   13.996</td> <td> 0.000</td> <td> 1.39e+04</td> <td> 1.84e+04</td>\n",
              "</tr>\n",
              "<tr>\n",
              "  <th>C(x)[T.8.51]</th>  <td> 1.467e+04</td> <td> 1067.843</td> <td>   13.736</td> <td> 0.000</td> <td> 1.26e+04</td> <td> 1.68e+04</td>\n",
              "</tr>\n",
              "<tr>\n",
              "  <th>C(x)[T.8.52]</th>  <td> 1.396e+04</td> <td> 1078.909</td> <td>   12.942</td> <td> 0.000</td> <td> 1.18e+04</td> <td> 1.61e+04</td>\n",
              "</tr>\n",
              "<tr>\n",
              "  <th>C(x)[T.8.53]</th>  <td> 1.502e+04</td> <td> 1132.619</td> <td>   13.257</td> <td> 0.000</td> <td> 1.28e+04</td> <td> 1.72e+04</td>\n",
              "</tr>\n",
              "<tr>\n",
              "  <th>C(x)[T.8.54]</th>  <td> 1.503e+04</td> <td> 1085.892</td> <td>   13.841</td> <td> 0.000</td> <td> 1.29e+04</td> <td> 1.72e+04</td>\n",
              "</tr>\n",
              "<tr>\n",
              "  <th>C(x)[T.8.55]</th>  <td>  1.52e+04</td> <td> 1132.619</td> <td>   13.421</td> <td> 0.000</td> <td>  1.3e+04</td> <td> 1.74e+04</td>\n",
              "</tr>\n",
              "<tr>\n",
              "  <th>C(x)[T.8.56]</th>  <td> 1.584e+04</td> <td> 1132.619</td> <td>   13.982</td> <td> 0.000</td> <td> 1.36e+04</td> <td> 1.81e+04</td>\n",
              "</tr>\n",
              "<tr>\n",
              "  <th>C(x)[T.8.57]</th>  <td> 1.534e+04</td> <td> 1116.777</td> <td>   13.733</td> <td> 0.000</td> <td> 1.31e+04</td> <td> 1.75e+04</td>\n",
              "</tr>\n",
              "<tr>\n",
              "  <th>C(x)[T.8.58]</th>  <td> 1.598e+04</td> <td> 1078.909</td> <td>   14.816</td> <td> 0.000</td> <td> 1.39e+04</td> <td> 1.81e+04</td>\n",
              "</tr>\n",
              "<tr>\n",
              "  <th>C(x)[T.8.59]</th>  <td> 1.542e+04</td> <td> 1223.368</td> <td>   12.605</td> <td> 0.000</td> <td>  1.3e+04</td> <td> 1.78e+04</td>\n",
              "</tr>\n",
              "<tr>\n",
              "  <th>C(x)[T.8.6]</th>   <td> 1.502e+04</td> <td> 1078.909</td> <td>   13.920</td> <td> 0.000</td> <td> 1.29e+04</td> <td> 1.71e+04</td>\n",
              "</tr>\n",
              "<tr>\n",
              "  <th>C(x)[T.8.61]</th>  <td> 1.607e+04</td> <td> 1153.402</td> <td>   13.929</td> <td> 0.000</td> <td> 1.38e+04</td> <td> 1.83e+04</td>\n",
              "</tr>\n",
              "<tr>\n",
              "  <th>C(x)[T.8.62]</th>  <td> 1.653e+04</td> <td> 1181.886</td> <td>   13.982</td> <td> 0.000</td> <td> 1.42e+04</td> <td> 1.88e+04</td>\n",
              "</tr>\n",
              "<tr>\n",
              "  <th>C(x)[T.8.63]</th>  <td> 1.588e+04</td> <td> 1104.299</td> <td>   14.384</td> <td> 0.000</td> <td> 1.37e+04</td> <td>  1.8e+04</td>\n",
              "</tr>\n",
              "<tr>\n",
              "  <th>C(x)[T.8.64]</th>  <td> 1.416e+04</td> <td> 1153.402</td> <td>   12.276</td> <td> 0.000</td> <td> 1.19e+04</td> <td> 1.64e+04</td>\n",
              "</tr>\n",
              "<tr>\n",
              "  <th>C(x)[T.8.65]</th>  <td> 1.496e+04</td> <td> 1132.619</td> <td>   13.208</td> <td> 0.000</td> <td> 1.27e+04</td> <td> 1.72e+04</td>\n",
              "</tr>\n",
              "<tr>\n",
              "  <th>C(x)[T.8.66]</th>  <td> 1.392e+04</td> <td> 1153.402</td> <td>   12.068</td> <td> 0.000</td> <td> 1.17e+04</td> <td> 1.62e+04</td>\n",
              "</tr>\n",
              "<tr>\n",
              "  <th>C(x)[T.8.67]</th>  <td> 1.562e+04</td> <td> 1412.624</td> <td>   11.061</td> <td> 0.000</td> <td> 1.29e+04</td> <td> 1.84e+04</td>\n",
              "</tr>\n",
              "<tr>\n",
              "  <th>C(x)[T.8.68]</th>  <td> 1.488e+04</td> <td> 1132.619</td> <td>   13.141</td> <td> 0.000</td> <td> 1.27e+04</td> <td> 1.71e+04</td>\n",
              "</tr>\n",
              "<tr>\n",
              "  <th>C(x)[T.8.69]</th>  <td> 1.718e+04</td> <td> 1223.368</td> <td>   14.043</td> <td> 0.000</td> <td> 1.48e+04</td> <td> 1.96e+04</td>\n",
              "</tr>\n",
              "<tr>\n",
              "  <th>C(x)[T.8.7]</th>   <td> 1.488e+04</td> <td> 1116.777</td> <td>   13.328</td> <td> 0.000</td> <td> 1.27e+04</td> <td> 1.71e+04</td>\n",
              "</tr>\n",
              "<tr>\n",
              "  <th>C(x)[T.8.71]</th>  <td> 1.429e+04</td> <td> 1153.402</td> <td>   12.392</td> <td> 0.000</td> <td>  1.2e+04</td> <td> 1.66e+04</td>\n",
              "</tr>\n",
              "<tr>\n",
              "  <th>C(x)[T.8.72]</th>  <td> 1.661e+04</td> <td> 1223.368</td> <td>   13.580</td> <td> 0.000</td> <td> 1.42e+04</td> <td>  1.9e+04</td>\n",
              "</tr>\n",
              "<tr>\n",
              "  <th>C(x)[T.8.73]</th>  <td> 1.697e+04</td> <td> 1289.543</td> <td>   13.160</td> <td> 0.000</td> <td> 1.44e+04</td> <td> 1.95e+04</td>\n",
              "</tr>\n",
              "<tr>\n",
              "  <th>C(x)[T.8.74]</th>  <td> 1.266e+04</td> <td> 1730.104</td> <td>    7.317</td> <td> 0.000</td> <td> 9268.982</td> <td> 1.61e+04</td>\n",
              "</tr>\n",
              "<tr>\n",
              "  <th>C(x)[T.8.75]</th>  <td> 1.314e+04</td> <td> 1116.777</td> <td>   11.769</td> <td> 0.000</td> <td>  1.1e+04</td> <td> 1.53e+04</td>\n",
              "</tr>\n",
              "<tr>\n",
              "  <th>C(x)[T.8.76]</th>  <td> 1.516e+04</td> <td> 1132.619</td> <td>   13.385</td> <td> 0.000</td> <td> 1.29e+04</td> <td> 1.74e+04</td>\n",
              "</tr>\n",
              "<tr>\n",
              "  <th>C(x)[T.8.77]</th>  <td> 1.684e+04</td> <td> 1289.543</td> <td>   13.057</td> <td> 0.000</td> <td> 1.43e+04</td> <td> 1.94e+04</td>\n",
              "</tr>\n",
              "<tr>\n",
              "  <th>C(x)[T.8.78]</th>  <td> 1.672e+04</td> <td> 1412.624</td> <td>   11.835</td> <td> 0.000</td> <td>  1.4e+04</td> <td> 1.95e+04</td>\n",
              "</tr>\n",
              "<tr>\n",
              "  <th>C(x)[T.8.79]</th>  <td> 1.244e+04</td> <td> 1730.104</td> <td>    7.193</td> <td> 0.000</td> <td> 9052.982</td> <td> 1.58e+04</td>\n",
              "</tr>\n",
              "<tr>\n",
              "  <th>C(x)[T.8.8]</th>   <td> 1.511e+04</td> <td> 1181.886</td> <td>   12.781</td> <td> 0.000</td> <td> 1.28e+04</td> <td> 1.74e+04</td>\n",
              "</tr>\n",
              "<tr>\n",
              "  <th>C(x)[T.8.81]</th>  <td>  1.36e+04</td> <td> 1181.886</td> <td>   11.509</td> <td> 0.000</td> <td> 1.13e+04</td> <td> 1.59e+04</td>\n",
              "</tr>\n",
              "<tr>\n",
              "  <th>C(x)[T.8.82]</th>  <td>  1.44e+04</td> <td> 1223.368</td> <td>   11.767</td> <td> 0.000</td> <td>  1.2e+04</td> <td> 1.68e+04</td>\n",
              "</tr>\n",
              "<tr>\n",
              "  <th>C(x)[T.8.83]</th>  <td> 1.587e+04</td> <td> 1153.402</td> <td>   13.759</td> <td> 0.000</td> <td> 1.36e+04</td> <td> 1.81e+04</td>\n",
              "</tr>\n",
              "<tr>\n",
              "  <th>C(x)[T.8.84]</th>  <td> 1.553e+04</td> <td> 1412.624</td> <td>   10.993</td> <td> 0.000</td> <td> 1.28e+04</td> <td> 1.83e+04</td>\n",
              "</tr>\n",
              "<tr>\n",
              "  <th>C(x)[T.8.85]</th>  <td> 1.632e+04</td> <td> 1223.368</td> <td>   13.337</td> <td> 0.000</td> <td> 1.39e+04</td> <td> 1.87e+04</td>\n",
              "</tr>\n",
              "<tr>\n",
              "  <th>C(x)[T.8.87]</th>  <td> 1.669e+04</td> <td> 1153.402</td> <td>   14.470</td> <td> 0.000</td> <td> 1.44e+04</td> <td>  1.9e+04</td>\n",
              "</tr>\n",
              "<tr>\n",
              "  <th>C(x)[T.8.88]</th>  <td> 1.567e+04</td> <td> 1223.368</td> <td>   12.812</td> <td> 0.000</td> <td> 1.33e+04</td> <td> 1.81e+04</td>\n",
              "</tr>\n",
              "<tr>\n",
              "  <th>C(x)[T.8.89]</th>  <td> 1.806e+04</td> <td> 1730.104</td> <td>   10.440</td> <td> 0.000</td> <td> 1.47e+04</td> <td> 2.15e+04</td>\n",
              "</tr>\n",
              "<tr>\n",
              "  <th>C(x)[T.8.9]</th>   <td> 1.755e+04</td> <td> 1412.624</td> <td>   12.427</td> <td> 0.000</td> <td> 1.48e+04</td> <td> 2.03e+04</td>\n",
              "</tr>\n",
              "<tr>\n",
              "  <th>C(x)[T.8.93]</th>  <td> 1.145e+04</td> <td> 1289.543</td> <td>    8.876</td> <td> 0.000</td> <td> 8918.151</td> <td>  1.4e+04</td>\n",
              "</tr>\n",
              "<tr>\n",
              "  <th>C(x)[T.8.97]</th>  <td> 1.743e+04</td> <td> 1730.104</td> <td>   10.077</td> <td> 0.000</td> <td>  1.4e+04</td> <td> 2.08e+04</td>\n",
              "</tr>\n",
              "<tr>\n",
              "  <th>C(x)[T.8.99]</th>  <td> 1.691e+04</td> <td> 1181.886</td> <td>   14.304</td> <td> 0.000</td> <td> 1.46e+04</td> <td> 1.92e+04</td>\n",
              "</tr>\n",
              "<tr>\n",
              "  <th>C(x)[T.9.03]</th>  <td> 1.466e+04</td> <td> 1730.104</td> <td>    8.475</td> <td> 0.000</td> <td> 1.13e+04</td> <td> 1.81e+04</td>\n",
              "</tr>\n",
              "<tr>\n",
              "  <th>C(x)[T.9.04]</th>  <td> 1.279e+04</td> <td> 1730.104</td> <td>    7.392</td> <td> 0.000</td> <td> 9397.982</td> <td> 1.62e+04</td>\n",
              "</tr>\n",
              "<tr>\n",
              "  <th>C(x)[T.9.05]</th>  <td> 1.684e+04</td> <td> 1730.104</td> <td>    9.735</td> <td> 0.000</td> <td> 1.35e+04</td> <td> 2.02e+04</td>\n",
              "</tr>\n",
              "<tr>\n",
              "  <th>C(x)[T.9.06]</th>  <td> 1.788e+04</td> <td> 1412.624</td> <td>   12.654</td> <td> 0.000</td> <td> 1.51e+04</td> <td> 2.06e+04</td>\n",
              "</tr>\n",
              "<tr>\n",
              "  <th>C(x)[T.9.08]</th>  <td> 1.278e+04</td> <td> 1412.624</td> <td>    9.048</td> <td> 0.000</td> <td>    1e+04</td> <td> 1.56e+04</td>\n",
              "</tr>\n",
              "<tr>\n",
              "  <th>C(x)[T.9.1]</th>   <td> 7673.0000</td> <td> 1730.104</td> <td>    4.435</td> <td> 0.000</td> <td> 4281.982</td> <td> 1.11e+04</td>\n",
              "</tr>\n",
              "<tr>\n",
              "  <th>C(x)[T.9.11]</th>  <td> 9131.0000</td> <td> 1412.624</td> <td>    6.464</td> <td> 0.000</td> <td> 6362.246</td> <td> 1.19e+04</td>\n",
              "</tr>\n",
              "<tr>\n",
              "  <th>C(x)[T.9.13]</th>  <td> 1.678e+04</td> <td> 1730.104</td> <td>    9.698</td> <td> 0.000</td> <td> 1.34e+04</td> <td> 2.02e+04</td>\n",
              "</tr>\n",
              "<tr>\n",
              "  <th>C(x)[T.9.14]</th>  <td> 1.499e+04</td> <td> 1730.104</td> <td>    8.662</td> <td> 0.000</td> <td> 1.16e+04</td> <td> 1.84e+04</td>\n",
              "</tr>\n",
              "<tr>\n",
              "  <th>C(x)[T.9.15]</th>  <td> 9456.0000</td> <td> 1730.104</td> <td>    5.466</td> <td> 0.000</td> <td> 6064.982</td> <td> 1.28e+04</td>\n",
              "</tr>\n",
              "<tr>\n",
              "  <th>C(x)[T.9.17]</th>  <td> 1.123e+04</td> <td> 1730.104</td> <td>    6.489</td> <td> 0.000</td> <td> 7835.982</td> <td> 1.46e+04</td>\n",
              "</tr>\n",
              "<tr>\n",
              "  <th>C(x)[T.9.23]</th>  <td> 6145.0000</td> <td> 1730.104</td> <td>    3.552</td> <td> 0.000</td> <td> 2753.982</td> <td> 9536.018</td>\n",
              "</tr>\n",
              "<tr>\n",
              "  <th>C(x)[T.9.24]</th>  <td> 9558.0000</td> <td> 1730.104</td> <td>    5.525</td> <td> 0.000</td> <td> 6166.982</td> <td> 1.29e+04</td>\n",
              "</tr>\n",
              "<tr>\n",
              "  <th>C(x)[T.9.25]</th>  <td> 1.567e+04</td> <td> 1730.104</td> <td>    9.057</td> <td> 0.000</td> <td> 1.23e+04</td> <td> 1.91e+04</td>\n",
              "</tr>\n",
              "<tr>\n",
              "  <th>C(x)[T.9.26]</th>  <td> 1.009e+04</td> <td> 1730.104</td> <td>    5.830</td> <td> 0.000</td> <td> 6694.982</td> <td> 1.35e+04</td>\n",
              "</tr>\n",
              "<tr>\n",
              "  <th>C(x)[T.9.3]</th>   <td>  1.66e+04</td> <td> 1730.104</td> <td>    9.597</td> <td> 0.000</td> <td> 1.32e+04</td> <td>    2e+04</td>\n",
              "</tr>\n",
              "<tr>\n",
              "  <th>C(x)[T.9.32]</th>  <td> 1.455e+04</td> <td> 1730.104</td> <td>    8.410</td> <td> 0.000</td> <td> 1.12e+04</td> <td> 1.79e+04</td>\n",
              "</tr>\n",
              "<tr>\n",
              "  <th>C(x)[T.9.35]</th>  <td> 1.834e+04</td> <td> 1730.104</td> <td>   10.602</td> <td> 0.000</td> <td>  1.5e+04</td> <td> 2.17e+04</td>\n",
              "</tr>\n",
              "<tr>\n",
              "  <th>C(x)[T.9.36]</th>  <td> 1.788e+04</td> <td> 1730.104</td> <td>   10.332</td> <td> 0.000</td> <td> 1.45e+04</td> <td> 2.13e+04</td>\n",
              "</tr>\n",
              "<tr>\n",
              "  <th>C(x)[T.9.38]</th>  <td>  1.05e+04</td> <td> 1730.104</td> <td>    6.067</td> <td> 0.000</td> <td> 7104.982</td> <td> 1.39e+04</td>\n",
              "</tr>\n",
              "<tr>\n",
              "  <th>C(x)[T.9.41]</th>  <td> 1.834e+04</td> <td> 1730.104</td> <td>   10.602</td> <td> 0.000</td> <td>  1.5e+04</td> <td> 2.17e+04</td>\n",
              "</tr>\n",
              "<tr>\n",
              "  <th>C(x)[T.9.42]</th>  <td> 1.422e+04</td> <td> 1412.624</td> <td>   10.064</td> <td> 0.000</td> <td> 1.14e+04</td> <td>  1.7e+04</td>\n",
              "</tr>\n",
              "<tr>\n",
              "  <th>C(x)[T.9.44]</th>  <td> 1.467e+04</td> <td> 1289.543</td> <td>   11.377</td> <td> 0.000</td> <td> 1.21e+04</td> <td> 1.72e+04</td>\n",
              "</tr>\n",
              "<tr>\n",
              "  <th>C(x)[T.9.49]</th>  <td> 1.218e+04</td> <td> 1730.104</td> <td>    7.039</td> <td> 0.000</td> <td> 8786.982</td> <td> 1.56e+04</td>\n",
              "</tr>\n",
              "<tr>\n",
              "  <th>C(x)[T.9.51]</th>  <td> 1.819e+04</td> <td> 1730.104</td> <td>   10.515</td> <td> 0.000</td> <td> 1.48e+04</td> <td> 2.16e+04</td>\n",
              "</tr>\n",
              "<tr>\n",
              "  <th>C(x)[T.9.53]</th>  <td>  1.13e+04</td> <td> 1730.104</td> <td>    6.532</td> <td> 0.000</td> <td> 7909.982</td> <td> 1.47e+04</td>\n",
              "</tr>\n",
              "<tr>\n",
              "  <th>C(x)[T.9.54]</th>  <td> 1.039e+04</td> <td> 1730.104</td> <td>    6.008</td> <td> 0.000</td> <td> 7002.982</td> <td> 1.38e+04</td>\n",
              "</tr>\n",
              "<tr>\n",
              "  <th>C(x)[T.9.65]</th>  <td> 1.222e+04</td> <td> 1730.104</td> <td>    7.063</td> <td> 0.000</td> <td> 8828.982</td> <td> 1.56e+04</td>\n",
              "</tr>\n",
              "<tr>\n",
              "  <th>C(x)[T.9.66]</th>  <td> 1.833e+04</td> <td> 1730.104</td> <td>   10.597</td> <td> 0.000</td> <td> 1.49e+04</td> <td> 2.17e+04</td>\n",
              "</tr>\n",
              "<tr>\n",
              "  <th>C(x)[T.9.86]</th>  <td> 1.583e+04</td> <td> 1730.104</td> <td>    9.147</td> <td> 0.000</td> <td> 1.24e+04</td> <td> 1.92e+04</td>\n",
              "</tr>\n",
              "<tr>\n",
              "  <th>C(x)[T.10.0]</th>  <td> 1.696e+04</td> <td> 1730.104</td> <td>    9.804</td> <td> 0.000</td> <td> 1.36e+04</td> <td> 2.04e+04</td>\n",
              "</tr>\n",
              "<tr>\n",
              "  <th>C(x)[T.10.01]</th> <td> 1.562e+04</td> <td> 1730.104</td> <td>    9.027</td> <td> 0.000</td> <td> 1.22e+04</td> <td>  1.9e+04</td>\n",
              "</tr>\n",
              "<tr>\n",
              "  <th>C(x)[T.10.02]</th> <td> 1.486e+04</td> <td> 1730.104</td> <td>    8.587</td> <td> 0.000</td> <td> 1.15e+04</td> <td> 1.82e+04</td>\n",
              "</tr>\n",
              "<tr>\n",
              "  <th>C(x)[T.10.14]</th> <td> 1.486e+04</td> <td> 1730.104</td> <td>    8.587</td> <td> 0.000</td> <td> 1.15e+04</td> <td> 1.82e+04</td>\n",
              "</tr>\n",
              "<tr>\n",
              "  <th>C(x)[T.10.23]</th> <td> 1.816e+04</td> <td> 1730.104</td> <td>   10.499</td> <td> 0.000</td> <td> 1.48e+04</td> <td> 2.16e+04</td>\n",
              "</tr>\n",
              "<tr>\n",
              "  <th>C(x)[T.10.74]</th> <td> 1.765e+04</td> <td> 1730.104</td> <td>   10.202</td> <td> 0.000</td> <td> 1.43e+04</td> <td>  2.1e+04</td>\n",
              "</tr>\n",
              "</table>\n",
              "<table class=\"simpletable\">\n",
              "<tr>\n",
              "  <th>Omnibus:</th>       <td>15205.241</td> <th>  Durbin-Watson:     </th>  <td>   1.339</td> \n",
              "</tr>\n",
              "<tr>\n",
              "  <th>Prob(Omnibus):</th>  <td> 0.000</td>   <th>  Jarque-Bera (JB):  </th> <td>164969.641</td>\n",
              "</tr>\n",
              "<tr>\n",
              "  <th>Skew:</th>           <td> 1.045</td>   <th>  Prob(JB):          </th>  <td>    0.00</td> \n",
              "</tr>\n",
              "<tr>\n",
              "  <th>Kurtosis:</th>       <td>11.310</td>   <th>  Cond. No.          </th>  <td>3.87e+03</td> \n",
              "</tr>\n",
              "</table><br/><br/>Notes:<br/>[1] Standard Errors assume that the covariance matrix of the errors is correctly specified.<br/>[2] The condition number is large, 3.87e+03. This might indicate that there are<br/>strong multicollinearity or other numerical problems."
            ]
          },
          "metadata": {},
          "execution_count": 36
        }
      ]
    },
    {
      "cell_type": "markdown",
      "source": [
        "## Multiple Comparison Test: Post Hoc Tests\n",
        "\n",
        "If the p-value from the ANOVA is less than the significance level, we can reject the null hypothesis and conclude that we have sufficient evidence to say that at least one of the means of the groups is different from the others.\n",
        "\n",
        "However, this doesn’t tell us which groups are different from each other. It simply tells us that not all of the group means are equal."
      ],
      "metadata": {
        "id": "bGC6MbdxUHnE"
      }
    },
    {
      "cell_type": "code",
      "source": [
        "!pip install scikit-posthocs"
      ],
      "metadata": {
        "colab": {
          "base_uri": "https://localhost:8080/"
        },
        "id": "9-O7HsVlVAzV",
        "outputId": "35591a9b-5cc2-452f-9a75-1f24ee52ceda"
      },
      "execution_count": 37,
      "outputs": [
        {
          "output_type": "stream",
          "name": "stdout",
          "text": [
            "Looking in indexes: https://pypi.org/simple, https://us-python.pkg.dev/colab-wheels/public/simple/\n",
            "Collecting scikit-posthocs\n",
            "  Downloading scikit_posthocs-0.7.0-py3-none-any.whl (38 kB)\n",
            "Requirement already satisfied: pandas>=0.20.0 in /usr/local/lib/python3.7/dist-packages (from scikit-posthocs) (1.3.5)\n",
            "Requirement already satisfied: seaborn in /usr/local/lib/python3.7/dist-packages (from scikit-posthocs) (0.11.2)\n",
            "Requirement already satisfied: numpy in /usr/local/lib/python3.7/dist-packages (from scikit-posthocs) (1.21.6)\n",
            "Requirement already satisfied: matplotlib in /usr/local/lib/python3.7/dist-packages (from scikit-posthocs) (3.2.2)\n",
            "Requirement already satisfied: statsmodels in /usr/local/lib/python3.7/dist-packages (from scikit-posthocs) (0.12.2)\n",
            "Requirement already satisfied: scipy in /usr/local/lib/python3.7/dist-packages (from scikit-posthocs) (1.7.3)\n",
            "Requirement already satisfied: python-dateutil>=2.7.3 in /usr/local/lib/python3.7/dist-packages (from pandas>=0.20.0->scikit-posthocs) (2.8.2)\n",
            "Requirement already satisfied: pytz>=2017.3 in /usr/local/lib/python3.7/dist-packages (from pandas>=0.20.0->scikit-posthocs) (2022.2.1)\n",
            "Requirement already satisfied: six>=1.5 in /usr/local/lib/python3.7/dist-packages (from python-dateutil>=2.7.3->pandas>=0.20.0->scikit-posthocs) (1.15.0)\n",
            "Requirement already satisfied: kiwisolver>=1.0.1 in /usr/local/lib/python3.7/dist-packages (from matplotlib->scikit-posthocs) (1.4.4)\n",
            "Requirement already satisfied: pyparsing!=2.0.4,!=2.1.2,!=2.1.6,>=2.0.1 in /usr/local/lib/python3.7/dist-packages (from matplotlib->scikit-posthocs) (3.0.9)\n",
            "Requirement already satisfied: cycler>=0.10 in /usr/local/lib/python3.7/dist-packages (from matplotlib->scikit-posthocs) (0.11.0)\n",
            "Requirement already satisfied: typing-extensions in /usr/local/lib/python3.7/dist-packages (from kiwisolver>=1.0.1->matplotlib->scikit-posthocs) (4.1.1)\n",
            "Requirement already satisfied: patsy>=0.5 in /usr/local/lib/python3.7/dist-packages (from statsmodels->scikit-posthocs) (0.5.2)\n",
            "Installing collected packages: scikit-posthocs\n",
            "Successfully installed scikit-posthocs-0.7.0\n"
          ]
        }
      ]
    },
    {
      "cell_type": "code",
      "source": [
        "import scikit_posthocs as sp"
      ],
      "metadata": {
        "id": "EjpNEbAGUKKd"
      },
      "execution_count": 38,
      "outputs": []
    },
    {
      "cell_type": "code",
      "source": [
        "formula='price ~ C(cut)'\n",
        "model=ols(formula, df).fit()\n",
        "print(np.round(anova_lm(model, typ=2),3))\n",
        "\n",
        "if np.round(model.f_pvalue,2) < 0.05:\n",
        "    print(\"Reject Null Hypothesis\")\n",
        "else:\n",
        "    print(\"Accept Null Hypothesis\")"
      ],
      "metadata": {
        "colab": {
          "base_uri": "https://localhost:8080/"
        },
        "id": "csQvW9k0U8BM",
        "outputId": "67a96859-525f-40f5-cb57-29ab8fc7e103"
      },
      "execution_count": 39,
      "outputs": [
        {
          "output_type": "stream",
          "name": "stdout",
          "text": [
            "                sum_sq       df        F  PR(>F)\n",
            "C(cut)    1.096482e+10      4.0  174.641     0.0\n",
            "Residual  8.462613e+11  53915.0      NaN     NaN\n",
            "Reject Null Hypothesis\n"
          ]
        }
      ]
    },
    {
      "cell_type": "markdown",
      "source": [
        "The results tell us that there is a significant difference between groups means (p = 0.0), but does not tell us the exact group pairs which are different in means. To obtain pairwise group differences, we will carry out a posteriori (post hoc) analysis using scikits-posthocs package."
      ],
      "metadata": {
        "id": "y86DcdVTU66w"
      }
    },
    {
      "cell_type": "code",
      "source": [
        "sp.posthoc_ttest(df, val_col='price', group_col='cut', p_adjust='holm')"
      ],
      "metadata": {
        "colab": {
          "base_uri": "https://localhost:8080/",
          "height": 206
        },
        "id": "fC0WdvSbVP9W",
        "outputId": "601ee91c-bc22-4ee4-d5e9-8459c5b24671"
      },
      "execution_count": 40,
      "outputs": [
        {
          "output_type": "execute_result",
          "data": {
            "text/plain": [
              "                   Ideal        Premium          Good     Very Good  \\\n",
              "Ideal       1.000000e+00  6.695013e-142  2.337527e-14  4.913990e-32   \n",
              "Premium    6.695013e-142   1.000000e+00  4.266471e-20  8.028550e-30   \n",
              "Good        2.337527e-14   4.266471e-20  1.000000e+00  3.982665e-01   \n",
              "Very Good   4.913990e-32   8.028550e-30  3.982665e-01  1.000000e+00   \n",
              "Fair        2.534687e-19   9.643377e-02  1.585486e-04  8.303929e-04   \n",
              "\n",
              "                   Fair  \n",
              "Ideal      2.534687e-19  \n",
              "Premium    9.643377e-02  \n",
              "Good       1.585486e-04  \n",
              "Very Good  8.303929e-04  \n",
              "Fair       1.000000e+00  "
            ],
            "text/html": [
              "\n",
              "  <div id=\"df-a489d95d-b2fb-46bc-b350-1adab206aa8b\">\n",
              "    <div class=\"colab-df-container\">\n",
              "      <div>\n",
              "<style scoped>\n",
              "    .dataframe tbody tr th:only-of-type {\n",
              "        vertical-align: middle;\n",
              "    }\n",
              "\n",
              "    .dataframe tbody tr th {\n",
              "        vertical-align: top;\n",
              "    }\n",
              "\n",
              "    .dataframe thead th {\n",
              "        text-align: right;\n",
              "    }\n",
              "</style>\n",
              "<table border=\"1\" class=\"dataframe\">\n",
              "  <thead>\n",
              "    <tr style=\"text-align: right;\">\n",
              "      <th></th>\n",
              "      <th>Ideal</th>\n",
              "      <th>Premium</th>\n",
              "      <th>Good</th>\n",
              "      <th>Very Good</th>\n",
              "      <th>Fair</th>\n",
              "    </tr>\n",
              "  </thead>\n",
              "  <tbody>\n",
              "    <tr>\n",
              "      <th>Ideal</th>\n",
              "      <td>1.000000e+00</td>\n",
              "      <td>6.695013e-142</td>\n",
              "      <td>2.337527e-14</td>\n",
              "      <td>4.913990e-32</td>\n",
              "      <td>2.534687e-19</td>\n",
              "    </tr>\n",
              "    <tr>\n",
              "      <th>Premium</th>\n",
              "      <td>6.695013e-142</td>\n",
              "      <td>1.000000e+00</td>\n",
              "      <td>4.266471e-20</td>\n",
              "      <td>8.028550e-30</td>\n",
              "      <td>9.643377e-02</td>\n",
              "    </tr>\n",
              "    <tr>\n",
              "      <th>Good</th>\n",
              "      <td>2.337527e-14</td>\n",
              "      <td>4.266471e-20</td>\n",
              "      <td>1.000000e+00</td>\n",
              "      <td>3.982665e-01</td>\n",
              "      <td>1.585486e-04</td>\n",
              "    </tr>\n",
              "    <tr>\n",
              "      <th>Very Good</th>\n",
              "      <td>4.913990e-32</td>\n",
              "      <td>8.028550e-30</td>\n",
              "      <td>3.982665e-01</td>\n",
              "      <td>1.000000e+00</td>\n",
              "      <td>8.303929e-04</td>\n",
              "    </tr>\n",
              "    <tr>\n",
              "      <th>Fair</th>\n",
              "      <td>2.534687e-19</td>\n",
              "      <td>9.643377e-02</td>\n",
              "      <td>1.585486e-04</td>\n",
              "      <td>8.303929e-04</td>\n",
              "      <td>1.000000e+00</td>\n",
              "    </tr>\n",
              "  </tbody>\n",
              "</table>\n",
              "</div>\n",
              "      <button class=\"colab-df-convert\" onclick=\"convertToInteractive('df-a489d95d-b2fb-46bc-b350-1adab206aa8b')\"\n",
              "              title=\"Convert this dataframe to an interactive table.\"\n",
              "              style=\"display:none;\">\n",
              "        \n",
              "  <svg xmlns=\"http://www.w3.org/2000/svg\" height=\"24px\"viewBox=\"0 0 24 24\"\n",
              "       width=\"24px\">\n",
              "    <path d=\"M0 0h24v24H0V0z\" fill=\"none\"/>\n",
              "    <path d=\"M18.56 5.44l.94 2.06.94-2.06 2.06-.94-2.06-.94-.94-2.06-.94 2.06-2.06.94zm-11 1L8.5 8.5l.94-2.06 2.06-.94-2.06-.94L8.5 2.5l-.94 2.06-2.06.94zm10 10l.94 2.06.94-2.06 2.06-.94-2.06-.94-.94-2.06-.94 2.06-2.06.94z\"/><path d=\"M17.41 7.96l-1.37-1.37c-.4-.4-.92-.59-1.43-.59-.52 0-1.04.2-1.43.59L10.3 9.45l-7.72 7.72c-.78.78-.78 2.05 0 2.83L4 21.41c.39.39.9.59 1.41.59.51 0 1.02-.2 1.41-.59l7.78-7.78 2.81-2.81c.8-.78.8-2.07 0-2.86zM5.41 20L4 18.59l7.72-7.72 1.47 1.35L5.41 20z\"/>\n",
              "  </svg>\n",
              "      </button>\n",
              "      \n",
              "  <style>\n",
              "    .colab-df-container {\n",
              "      display:flex;\n",
              "      flex-wrap:wrap;\n",
              "      gap: 12px;\n",
              "    }\n",
              "\n",
              "    .colab-df-convert {\n",
              "      background-color: #E8F0FE;\n",
              "      border: none;\n",
              "      border-radius: 50%;\n",
              "      cursor: pointer;\n",
              "      display: none;\n",
              "      fill: #1967D2;\n",
              "      height: 32px;\n",
              "      padding: 0 0 0 0;\n",
              "      width: 32px;\n",
              "    }\n",
              "\n",
              "    .colab-df-convert:hover {\n",
              "      background-color: #E2EBFA;\n",
              "      box-shadow: 0px 1px 2px rgba(60, 64, 67, 0.3), 0px 1px 3px 1px rgba(60, 64, 67, 0.15);\n",
              "      fill: #174EA6;\n",
              "    }\n",
              "\n",
              "    [theme=dark] .colab-df-convert {\n",
              "      background-color: #3B4455;\n",
              "      fill: #D2E3FC;\n",
              "    }\n",
              "\n",
              "    [theme=dark] .colab-df-convert:hover {\n",
              "      background-color: #434B5C;\n",
              "      box-shadow: 0px 1px 3px 1px rgba(0, 0, 0, 0.15);\n",
              "      filter: drop-shadow(0px 1px 2px rgba(0, 0, 0, 0.3));\n",
              "      fill: #FFFFFF;\n",
              "    }\n",
              "  </style>\n",
              "\n",
              "      <script>\n",
              "        const buttonEl =\n",
              "          document.querySelector('#df-a489d95d-b2fb-46bc-b350-1adab206aa8b button.colab-df-convert');\n",
              "        buttonEl.style.display =\n",
              "          google.colab.kernel.accessAllowed ? 'block' : 'none';\n",
              "\n",
              "        async function convertToInteractive(key) {\n",
              "          const element = document.querySelector('#df-a489d95d-b2fb-46bc-b350-1adab206aa8b');\n",
              "          const dataTable =\n",
              "            await google.colab.kernel.invokeFunction('convertToInteractive',\n",
              "                                                     [key], {});\n",
              "          if (!dataTable) return;\n",
              "\n",
              "          const docLinkHtml = 'Like what you see? Visit the ' +\n",
              "            '<a target=\"_blank\" href=https://colab.research.google.com/notebooks/data_table.ipynb>data table notebook</a>'\n",
              "            + ' to learn more about interactive tables.';\n",
              "          element.innerHTML = '';\n",
              "          dataTable['output_type'] = 'display_data';\n",
              "          await google.colab.output.renderOutput(dataTable, element);\n",
              "          const docLink = document.createElement('div');\n",
              "          docLink.innerHTML = docLinkHtml;\n",
              "          element.appendChild(docLink);\n",
              "        }\n",
              "      </script>\n",
              "    </div>\n",
              "  </div>\n",
              "  "
            ]
          },
          "metadata": {},
          "execution_count": 40
        }
      ]
    },
    {
      "cell_type": "markdown",
      "source": [
        "Remember to use a FWER controlling procedure, such as Holm procedure, when making multiple comparisons. As seen from this table, significant differences in group means are obtained for all group pairs."
      ],
      "metadata": {
        "id": "J3teN7fjVdus"
      }
    },
    {
      "cell_type": "markdown",
      "source": [
        "### Post Hoc Tests for non-parametric ANOVA when assumptions are violated\n",
        "\n",
        "If normality and other assumptions are violated, one can use a non-parametric Kruskal-Wallis H test (one-way non-parametric ANOVA) to test if samples came from the same distribution."
      ],
      "metadata": {
        "id": "gZx2ofNhVjAc"
      }
    },
    {
      "cell_type": "code",
      "source": [
        "import scipy.stats as stats\n",
        "from scipy.stats.mstats import kruskal\n",
        "\n",
        "data = [df.loc[ids, 'price'].values for ids in df.groupby('cut').groups.values()]\n",
        "stat, p = stats.kruskal(*data)\n",
        "print('Statistics = %.3f, p = %.3f' % (stat, p))\n",
        "alpha = 0.05\n",
        "if p > alpha:\n",
        "  print('Accept Null Hypothesis')\n",
        "else:\n",
        "  print('Reject Null Hypothesis.')"
      ],
      "metadata": {
        "colab": {
          "base_uri": "https://localhost:8080/"
        },
        "id": "DdzCeXCYVlQ_",
        "outputId": "9884f836-7c51-4ff2-d1a8-7c56ff6cdbda"
      },
      "execution_count": 41,
      "outputs": [
        {
          "output_type": "stream",
          "name": "stdout",
          "text": [
            "Statistics = 975.525, p = 0.000\n",
            "Reject Null Hypothesis.\n"
          ]
        }
      ]
    },
    {
      "cell_type": "code",
      "source": [
        "sp.posthoc_conover(df, val_col='price', group_col='cut', p_adjust='holm')"
      ],
      "metadata": {
        "id": "Dzh3BxzpV59F",
        "colab": {
          "base_uri": "https://localhost:8080/",
          "height": 206
        },
        "outputId": "195d8a55-3b77-4ffd-e70f-229f24511a43"
      },
      "execution_count": 42,
      "outputs": [
        {
          "output_type": "execute_result",
          "data": {
            "text/plain": [
              "                   Fair          Good          Ideal        Premium  \\\n",
              "Fair       1.000000e+00  1.087281e-18   1.496950e-69   1.687625e-08   \n",
              "Good       1.087281e-18  1.000000e+00   3.405470e-36   4.883892e-10   \n",
              "Ideal      1.496950e-69  3.405470e-36   1.000000e+00  8.298604e-173   \n",
              "Premium    1.687625e-08  4.883892e-10  8.298604e-173   1.000000e+00   \n",
              "Very Good  5.957244e-30  5.018372e-03   9.020411e-41   3.505306e-34   \n",
              "\n",
              "              Very Good  \n",
              "Fair       5.957244e-30  \n",
              "Good       5.018372e-03  \n",
              "Ideal      9.020411e-41  \n",
              "Premium    3.505306e-34  \n",
              "Very Good  1.000000e+00  "
            ],
            "text/html": [
              "\n",
              "  <div id=\"df-99669097-a32c-459a-be45-d451c67f7c79\">\n",
              "    <div class=\"colab-df-container\">\n",
              "      <div>\n",
              "<style scoped>\n",
              "    .dataframe tbody tr th:only-of-type {\n",
              "        vertical-align: middle;\n",
              "    }\n",
              "\n",
              "    .dataframe tbody tr th {\n",
              "        vertical-align: top;\n",
              "    }\n",
              "\n",
              "    .dataframe thead th {\n",
              "        text-align: right;\n",
              "    }\n",
              "</style>\n",
              "<table border=\"1\" class=\"dataframe\">\n",
              "  <thead>\n",
              "    <tr style=\"text-align: right;\">\n",
              "      <th></th>\n",
              "      <th>Fair</th>\n",
              "      <th>Good</th>\n",
              "      <th>Ideal</th>\n",
              "      <th>Premium</th>\n",
              "      <th>Very Good</th>\n",
              "    </tr>\n",
              "  </thead>\n",
              "  <tbody>\n",
              "    <tr>\n",
              "      <th>Fair</th>\n",
              "      <td>1.000000e+00</td>\n",
              "      <td>1.087281e-18</td>\n",
              "      <td>1.496950e-69</td>\n",
              "      <td>1.687625e-08</td>\n",
              "      <td>5.957244e-30</td>\n",
              "    </tr>\n",
              "    <tr>\n",
              "      <th>Good</th>\n",
              "      <td>1.087281e-18</td>\n",
              "      <td>1.000000e+00</td>\n",
              "      <td>3.405470e-36</td>\n",
              "      <td>4.883892e-10</td>\n",
              "      <td>5.018372e-03</td>\n",
              "    </tr>\n",
              "    <tr>\n",
              "      <th>Ideal</th>\n",
              "      <td>1.496950e-69</td>\n",
              "      <td>3.405470e-36</td>\n",
              "      <td>1.000000e+00</td>\n",
              "      <td>8.298604e-173</td>\n",
              "      <td>9.020411e-41</td>\n",
              "    </tr>\n",
              "    <tr>\n",
              "      <th>Premium</th>\n",
              "      <td>1.687625e-08</td>\n",
              "      <td>4.883892e-10</td>\n",
              "      <td>8.298604e-173</td>\n",
              "      <td>1.000000e+00</td>\n",
              "      <td>3.505306e-34</td>\n",
              "    </tr>\n",
              "    <tr>\n",
              "      <th>Very Good</th>\n",
              "      <td>5.957244e-30</td>\n",
              "      <td>5.018372e-03</td>\n",
              "      <td>9.020411e-41</td>\n",
              "      <td>3.505306e-34</td>\n",
              "      <td>1.000000e+00</td>\n",
              "    </tr>\n",
              "  </tbody>\n",
              "</table>\n",
              "</div>\n",
              "      <button class=\"colab-df-convert\" onclick=\"convertToInteractive('df-99669097-a32c-459a-be45-d451c67f7c79')\"\n",
              "              title=\"Convert this dataframe to an interactive table.\"\n",
              "              style=\"display:none;\">\n",
              "        \n",
              "  <svg xmlns=\"http://www.w3.org/2000/svg\" height=\"24px\"viewBox=\"0 0 24 24\"\n",
              "       width=\"24px\">\n",
              "    <path d=\"M0 0h24v24H0V0z\" fill=\"none\"/>\n",
              "    <path d=\"M18.56 5.44l.94 2.06.94-2.06 2.06-.94-2.06-.94-.94-2.06-.94 2.06-2.06.94zm-11 1L8.5 8.5l.94-2.06 2.06-.94-2.06-.94L8.5 2.5l-.94 2.06-2.06.94zm10 10l.94 2.06.94-2.06 2.06-.94-2.06-.94-.94-2.06-.94 2.06-2.06.94z\"/><path d=\"M17.41 7.96l-1.37-1.37c-.4-.4-.92-.59-1.43-.59-.52 0-1.04.2-1.43.59L10.3 9.45l-7.72 7.72c-.78.78-.78 2.05 0 2.83L4 21.41c.39.39.9.59 1.41.59.51 0 1.02-.2 1.41-.59l7.78-7.78 2.81-2.81c.8-.78.8-2.07 0-2.86zM5.41 20L4 18.59l7.72-7.72 1.47 1.35L5.41 20z\"/>\n",
              "  </svg>\n",
              "      </button>\n",
              "      \n",
              "  <style>\n",
              "    .colab-df-container {\n",
              "      display:flex;\n",
              "      flex-wrap:wrap;\n",
              "      gap: 12px;\n",
              "    }\n",
              "\n",
              "    .colab-df-convert {\n",
              "      background-color: #E8F0FE;\n",
              "      border: none;\n",
              "      border-radius: 50%;\n",
              "      cursor: pointer;\n",
              "      display: none;\n",
              "      fill: #1967D2;\n",
              "      height: 32px;\n",
              "      padding: 0 0 0 0;\n",
              "      width: 32px;\n",
              "    }\n",
              "\n",
              "    .colab-df-convert:hover {\n",
              "      background-color: #E2EBFA;\n",
              "      box-shadow: 0px 1px 2px rgba(60, 64, 67, 0.3), 0px 1px 3px 1px rgba(60, 64, 67, 0.15);\n",
              "      fill: #174EA6;\n",
              "    }\n",
              "\n",
              "    [theme=dark] .colab-df-convert {\n",
              "      background-color: #3B4455;\n",
              "      fill: #D2E3FC;\n",
              "    }\n",
              "\n",
              "    [theme=dark] .colab-df-convert:hover {\n",
              "      background-color: #434B5C;\n",
              "      box-shadow: 0px 1px 3px 1px rgba(0, 0, 0, 0.15);\n",
              "      filter: drop-shadow(0px 1px 2px rgba(0, 0, 0, 0.3));\n",
              "      fill: #FFFFFF;\n",
              "    }\n",
              "  </style>\n",
              "\n",
              "      <script>\n",
              "        const buttonEl =\n",
              "          document.querySelector('#df-99669097-a32c-459a-be45-d451c67f7c79 button.colab-df-convert');\n",
              "        buttonEl.style.display =\n",
              "          google.colab.kernel.accessAllowed ? 'block' : 'none';\n",
              "\n",
              "        async function convertToInteractive(key) {\n",
              "          const element = document.querySelector('#df-99669097-a32c-459a-be45-d451c67f7c79');\n",
              "          const dataTable =\n",
              "            await google.colab.kernel.invokeFunction('convertToInteractive',\n",
              "                                                     [key], {});\n",
              "          if (!dataTable) return;\n",
              "\n",
              "          const docLinkHtml = 'Like what you see? Visit the ' +\n",
              "            '<a target=\"_blank\" href=https://colab.research.google.com/notebooks/data_table.ipynb>data table notebook</a>'\n",
              "            + ' to learn more about interactive tables.';\n",
              "          element.innerHTML = '';\n",
              "          dataTable['output_type'] = 'display_data';\n",
              "          await google.colab.output.renderOutput(dataTable, element);\n",
              "          const docLink = document.createElement('div');\n",
              "          docLink.innerHTML = docLinkHtml;\n",
              "          element.appendChild(docLink);\n",
              "        }\n",
              "      </script>\n",
              "    </div>\n",
              "  </div>\n",
              "  "
            ]
          },
          "metadata": {},
          "execution_count": 42
        }
      ]
    },
    {
      "cell_type": "markdown",
      "source": [
        "Pairwise comparisons show that we may reject the null hypothesis (p < 0.01) for each pair of cut and conclude that all groups (cut) differ in their price."
      ],
      "metadata": {
        "id": "nwl8mcj8WmT_"
      }
    },
    {
      "cell_type": "markdown",
      "source": [
        "## Statistical test between two Continous Variables: Pearson Correlation & Spearman Rank Correlation"
      ],
      "metadata": {
        "id": "1fXu2xRT4Ocy"
      }
    },
    {
      "cell_type": "markdown",
      "source": [
        "### Spearman Rank Correlation\n",
        "We use the Spearman rank correlation test to determine if our two variables are correlated. This statistical method quantifies the degree to which ranked variables are associated by a monotonic function, meaning an increasing or decreasing relationship. As a statistical hypothesis test, the method assumes that the samples are uncorrelated (Accept null hypothesis).\n",
        "\n",
        "* Works well with monotonic relationship\n",
        "* Works with rank-ordered variables\n",
        "What is a monotonic relationship?\n",
        "\n",
        " \n",
        "**A monotonic relationship is a relationship that does one of the following:**\n",
        "\n",
        "(1) as the value of one variable increases, so does the value of the other variable, OR,\n",
        "\n",
        "(2) as the value of one variable increases, the other variable value decreases.\n",
        "\n",
        "BUT, not exactly at a constant rate whereas in a linear relationship the rate of increase/decrease is constant.\n",
        "\n",
        "![image.png](data:image/png;base64,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)"
      ],
      "metadata": {
        "id": "0a39fJLBtLu7"
      }
    },
    {
      "cell_type": "markdown",
      "source": [
        "Example use case: Does the order in which students complete a test exercise is related to the number of extra classes they have attended?\n",
        "\n",
        "Spearman would be more desirable when we can’t identify whether our data is linear or monotonic. \n",
        "\n"
      ],
      "metadata": {
        "id": "8f3Xda-m4oAq"
      }
    },
    {
      "cell_type": "code",
      "source": [
        "# H0 : There is no monotonic association between price and cut\n",
        "# H1 : There is a monotonic association between price and cut\n",
        "\n",
        "data = df[['cut','price']]\n",
        "\n",
        "cor, pval = stats.spearmanr(data[['cut']], data[['price']])\n",
        "print(\"Spearman correlation test : correlation coefficient : %.4f, pval: %.4f\" % (cor, pval))"
      ],
      "metadata": {
        "id": "rsvjEyuWtSzs",
        "colab": {
          "base_uri": "https://localhost:8080/"
        },
        "outputId": "a0258873-43be-4a25-df3a-257e46314e08"
      },
      "execution_count": 43,
      "outputs": [
        {
          "output_type": "stream",
          "name": "stdout",
          "text": [
            "Spearman correlation test : correlation coefficient : 0.0382, pval: 0.0000\n"
          ]
        }
      ]
    },
    {
      "cell_type": "markdown",
      "source": [
        "The closer Rs (correlation coefficient) is to +1 or -1, the stronger the likely correlation. A perfect positive correlation is +1 and a perfect negative correlation is -1. The Rs value of 0.8466 suggests a fairly strong positive relationship.\n",
        "\n",
        "The high correlation coefficient induces a strong positive relationship between the two variables, confirming our alternative hypothesis."
      ],
      "metadata": {
        "id": "-2PHBi2bt2fK"
      }
    },
    {
      "cell_type": "code",
      "source": [
        "columns = ['carat', 'cut', 'color', 'clarity', 'depth', 'table',\n",
        "           'x', 'y', 'z']\n",
        "for x in columns:\n",
        "  data = df[[x,'price']]\n",
        "  cor, pval = stats.spearmanr(data[[x]], data[['price']])\n",
        "  print (x + '' + ': ' + 'Spearman correlation test : correlation coefficient : %.4f, pval: %.4f' % (cor, pval))"
      ],
      "metadata": {
        "id": "AxHcuk5Mux3r",
        "colab": {
          "base_uri": "https://localhost:8080/"
        },
        "outputId": "de8386b6-2e00-4ada-a269-c78b766517d3"
      },
      "execution_count": 44,
      "outputs": [
        {
          "output_type": "stream",
          "name": "stdout",
          "text": [
            "carat: Spearman correlation test : correlation coefficient : 0.9629, pval: 0.0000\n",
            "cut: Spearman correlation test : correlation coefficient : 0.0382, pval: 0.0000\n",
            "color: Spearman correlation test : correlation coefficient : 0.1500, pval: 0.0000\n",
            "clarity: Spearman correlation test : correlation coefficient : -0.1162, pval: 0.0000\n",
            "depth: Spearman correlation test : correlation coefficient : 0.0100, pval: 0.0201\n",
            "table: Spearman correlation test : correlation coefficient : 0.1718, pval: 0.0000\n",
            "x: Spearman correlation test : correlation coefficient : 0.9638, pval: 0.0000\n",
            "y: Spearman correlation test : correlation coefficient : 0.9632, pval: 0.0000\n",
            "z: Spearman correlation test : correlation coefficient : 0.9586, pval: 0.0000\n"
          ]
        }
      ]
    },
    {
      "cell_type": "markdown",
      "source": [
        "We could see that carat, x, y, and z yield a fairly high correlation value of over 0.9. The high correlation coefficient induces a strong positive relationship between the two variables, confirming our alternative hypothesis.\n",
        "\n",
        "On the other hand, there is a negative value of -0.1162 for the clarity. Spearman automatically assign an order for the ordinal values of clarity and from the negative correlation value we can infer that the clarity is ordered in a reducing clarity method. \n",
        "\n",
        "To confirm that Spearman does automatically assign an order, we run another experiment using LabelEncoder() to encode the categorical features and we yield the exact same correlation values using the new dataframe. "
      ],
      "metadata": {
        "id": "ICyhaQaB5CvX"
      }
    },
    {
      "cell_type": "code",
      "source": [
        "from sklearn.preprocessing import OneHotEncoder, LabelEncoder\n",
        "\n",
        "X = df.select_dtypes('object').columns.to_list()\n",
        "\n",
        "label_df = df.copy()\n",
        "label_encoder = LabelEncoder()\n",
        "for col in X:\n",
        "    label_df[col] = label_encoder.fit_transform(label_df[col])\n",
        "label_df.head()"
      ],
      "metadata": {
        "colab": {
          "base_uri": "https://localhost:8080/",
          "height": 206
        },
        "id": "ExxYlpcNlcpT",
        "outputId": "3ffb9c01-7083-4dc4-9104-f3e7862ca43e"
      },
      "execution_count": 45,
      "outputs": [
        {
          "output_type": "execute_result",
          "data": {
            "text/plain": [
              "   carat  cut  color  clarity  depth  table  price     x     y     z\n",
              "0   0.23    2      1        3   61.5   55.0    326  3.95  3.98  2.43\n",
              "1   0.21    3      1        2   59.8   61.0    326  3.89  3.84  2.31\n",
              "2   0.23    1      1        4   56.9   65.0    327  4.05  4.07  2.31\n",
              "3   0.29    3      5        5   62.4   58.0    334  4.20  4.23  2.63\n",
              "4   0.31    1      6        3   63.3   58.0    335  4.34  4.35  2.75"
            ],
            "text/html": [
              "\n",
              "  <div id=\"df-7db652e4-7a2d-4841-8990-e9180cae1d26\">\n",
              "    <div class=\"colab-df-container\">\n",
              "      <div>\n",
              "<style scoped>\n",
              "    .dataframe tbody tr th:only-of-type {\n",
              "        vertical-align: middle;\n",
              "    }\n",
              "\n",
              "    .dataframe tbody tr th {\n",
              "        vertical-align: top;\n",
              "    }\n",
              "\n",
              "    .dataframe thead th {\n",
              "        text-align: right;\n",
              "    }\n",
              "</style>\n",
              "<table border=\"1\" class=\"dataframe\">\n",
              "  <thead>\n",
              "    <tr style=\"text-align: right;\">\n",
              "      <th></th>\n",
              "      <th>carat</th>\n",
              "      <th>cut</th>\n",
              "      <th>color</th>\n",
              "      <th>clarity</th>\n",
              "      <th>depth</th>\n",
              "      <th>table</th>\n",
              "      <th>price</th>\n",
              "      <th>x</th>\n",
              "      <th>y</th>\n",
              "      <th>z</th>\n",
              "    </tr>\n",
              "  </thead>\n",
              "  <tbody>\n",
              "    <tr>\n",
              "      <th>0</th>\n",
              "      <td>0.23</td>\n",
              "      <td>2</td>\n",
              "      <td>1</td>\n",
              "      <td>3</td>\n",
              "      <td>61.5</td>\n",
              "      <td>55.0</td>\n",
              "      <td>326</td>\n",
              "      <td>3.95</td>\n",
              "      <td>3.98</td>\n",
              "      <td>2.43</td>\n",
              "    </tr>\n",
              "    <tr>\n",
              "      <th>1</th>\n",
              "      <td>0.21</td>\n",
              "      <td>3</td>\n",
              "      <td>1</td>\n",
              "      <td>2</td>\n",
              "      <td>59.8</td>\n",
              "      <td>61.0</td>\n",
              "      <td>326</td>\n",
              "      <td>3.89</td>\n",
              "      <td>3.84</td>\n",
              "      <td>2.31</td>\n",
              "    </tr>\n",
              "    <tr>\n",
              "      <th>2</th>\n",
              "      <td>0.23</td>\n",
              "      <td>1</td>\n",
              "      <td>1</td>\n",
              "      <td>4</td>\n",
              "      <td>56.9</td>\n",
              "      <td>65.0</td>\n",
              "      <td>327</td>\n",
              "      <td>4.05</td>\n",
              "      <td>4.07</td>\n",
              "      <td>2.31</td>\n",
              "    </tr>\n",
              "    <tr>\n",
              "      <th>3</th>\n",
              "      <td>0.29</td>\n",
              "      <td>3</td>\n",
              "      <td>5</td>\n",
              "      <td>5</td>\n",
              "      <td>62.4</td>\n",
              "      <td>58.0</td>\n",
              "      <td>334</td>\n",
              "      <td>4.20</td>\n",
              "      <td>4.23</td>\n",
              "      <td>2.63</td>\n",
              "    </tr>\n",
              "    <tr>\n",
              "      <th>4</th>\n",
              "      <td>0.31</td>\n",
              "      <td>1</td>\n",
              "      <td>6</td>\n",
              "      <td>3</td>\n",
              "      <td>63.3</td>\n",
              "      <td>58.0</td>\n",
              "      <td>335</td>\n",
              "      <td>4.34</td>\n",
              "      <td>4.35</td>\n",
              "      <td>2.75</td>\n",
              "    </tr>\n",
              "  </tbody>\n",
              "</table>\n",
              "</div>\n",
              "      <button class=\"colab-df-convert\" onclick=\"convertToInteractive('df-7db652e4-7a2d-4841-8990-e9180cae1d26')\"\n",
              "              title=\"Convert this dataframe to an interactive table.\"\n",
              "              style=\"display:none;\">\n",
              "        \n",
              "  <svg xmlns=\"http://www.w3.org/2000/svg\" height=\"24px\"viewBox=\"0 0 24 24\"\n",
              "       width=\"24px\">\n",
              "    <path d=\"M0 0h24v24H0V0z\" fill=\"none\"/>\n",
              "    <path d=\"M18.56 5.44l.94 2.06.94-2.06 2.06-.94-2.06-.94-.94-2.06-.94 2.06-2.06.94zm-11 1L8.5 8.5l.94-2.06 2.06-.94-2.06-.94L8.5 2.5l-.94 2.06-2.06.94zm10 10l.94 2.06.94-2.06 2.06-.94-2.06-.94-.94-2.06-.94 2.06-2.06.94z\"/><path d=\"M17.41 7.96l-1.37-1.37c-.4-.4-.92-.59-1.43-.59-.52 0-1.04.2-1.43.59L10.3 9.45l-7.72 7.72c-.78.78-.78 2.05 0 2.83L4 21.41c.39.39.9.59 1.41.59.51 0 1.02-.2 1.41-.59l7.78-7.78 2.81-2.81c.8-.78.8-2.07 0-2.86zM5.41 20L4 18.59l7.72-7.72 1.47 1.35L5.41 20z\"/>\n",
              "  </svg>\n",
              "      </button>\n",
              "      \n",
              "  <style>\n",
              "    .colab-df-container {\n",
              "      display:flex;\n",
              "      flex-wrap:wrap;\n",
              "      gap: 12px;\n",
              "    }\n",
              "\n",
              "    .colab-df-convert {\n",
              "      background-color: #E8F0FE;\n",
              "      border: none;\n",
              "      border-radius: 50%;\n",
              "      cursor: pointer;\n",
              "      display: none;\n",
              "      fill: #1967D2;\n",
              "      height: 32px;\n",
              "      padding: 0 0 0 0;\n",
              "      width: 32px;\n",
              "    }\n",
              "\n",
              "    .colab-df-convert:hover {\n",
              "      background-color: #E2EBFA;\n",
              "      box-shadow: 0px 1px 2px rgba(60, 64, 67, 0.3), 0px 1px 3px 1px rgba(60, 64, 67, 0.15);\n",
              "      fill: #174EA6;\n",
              "    }\n",
              "\n",
              "    [theme=dark] .colab-df-convert {\n",
              "      background-color: #3B4455;\n",
              "      fill: #D2E3FC;\n",
              "    }\n",
              "\n",
              "    [theme=dark] .colab-df-convert:hover {\n",
              "      background-color: #434B5C;\n",
              "      box-shadow: 0px 1px 3px 1px rgba(0, 0, 0, 0.15);\n",
              "      filter: drop-shadow(0px 1px 2px rgba(0, 0, 0, 0.3));\n",
              "      fill: #FFFFFF;\n",
              "    }\n",
              "  </style>\n",
              "\n",
              "      <script>\n",
              "        const buttonEl =\n",
              "          document.querySelector('#df-7db652e4-7a2d-4841-8990-e9180cae1d26 button.colab-df-convert');\n",
              "        buttonEl.style.display =\n",
              "          google.colab.kernel.accessAllowed ? 'block' : 'none';\n",
              "\n",
              "        async function convertToInteractive(key) {\n",
              "          const element = document.querySelector('#df-7db652e4-7a2d-4841-8990-e9180cae1d26');\n",
              "          const dataTable =\n",
              "            await google.colab.kernel.invokeFunction('convertToInteractive',\n",
              "                                                     [key], {});\n",
              "          if (!dataTable) return;\n",
              "\n",
              "          const docLinkHtml = 'Like what you see? Visit the ' +\n",
              "            '<a target=\"_blank\" href=https://colab.research.google.com/notebooks/data_table.ipynb>data table notebook</a>'\n",
              "            + ' to learn more about interactive tables.';\n",
              "          element.innerHTML = '';\n",
              "          dataTable['output_type'] = 'display_data';\n",
              "          await google.colab.output.renderOutput(dataTable, element);\n",
              "          const docLink = document.createElement('div');\n",
              "          docLink.innerHTML = docLinkHtml;\n",
              "          element.appendChild(docLink);\n",
              "        }\n",
              "      </script>\n",
              "    </div>\n",
              "  </div>\n",
              "  "
            ]
          },
          "metadata": {},
          "execution_count": 45
        }
      ]
    },
    {
      "cell_type": "markdown",
      "source": [
        "### Pearson Correlation\n",
        "\n",
        "* Works well with linear relationship\n",
        "Can evaluate ONLY a linear relationship between two continuous variables (A relationship is linear only when a change in one variable is associated with a proportional change in the other variable)\n",
        "* Works with raw value data\n",
        "\n",
        "![image.png](data:image/png;base64,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)"
      ],
      "metadata": {
        "id": "gR7wsRuwXA33"
      }
    },
    {
      "cell_type": "markdown",
      "source": [
        "Let’s now compare the result of Spearman and Pearson correlation on the features x, y and z. "
      ],
      "metadata": {
        "id": "vWaaiqGO5J8L"
      }
    },
    {
      "cell_type": "code",
      "source": [
        "cor, pval = pearsonr(df.price, df.x)\n",
        "print(\"Pearson correlation test : correlation coefficient : %.4f, pval: %.4f\" % (cor, pval))"
      ],
      "metadata": {
        "id": "Z_crkFmZXcKn",
        "colab": {
          "base_uri": "https://localhost:8080/"
        },
        "outputId": "1b1db877-f35d-4319-ab21-a406f263dfb1"
      },
      "execution_count": 46,
      "outputs": [
        {
          "output_type": "stream",
          "name": "stdout",
          "text": [
            "Pearson correlation test : correlation coefficient : 0.8872, pval: 0.0000\n"
          ]
        }
      ]
    },
    {
      "cell_type": "code",
      "source": [
        "cor, pval = pearsonr(df.price, df.y)\n",
        "print(\"Pearson correlation test : correlation coefficient : %.4f, pval: %.4f\" % (cor, pval))"
      ],
      "metadata": {
        "colab": {
          "base_uri": "https://localhost:8080/"
        },
        "id": "y0NeRp7cnaub",
        "outputId": "e2d6c02e-cc44-425d-feff-0652ce7b94da"
      },
      "execution_count": 47,
      "outputs": [
        {
          "output_type": "stream",
          "name": "stdout",
          "text": [
            "Pearson correlation test : correlation coefficient : 0.8679, pval: 0.0000\n"
          ]
        }
      ]
    },
    {
      "cell_type": "code",
      "source": [
        "cor, pval = pearsonr(df.price, df.z)\n",
        "print(\"Pearson correlation test : correlation coefficient : %.4f, pval: %.4f\" % (cor, pval))"
      ],
      "metadata": {
        "colab": {
          "base_uri": "https://localhost:8080/"
        },
        "id": "Ttphv3QencOy",
        "outputId": "e2b0ad52-82f8-44ff-c031-2b1ebb521729"
      },
      "execution_count": 48,
      "outputs": [
        {
          "output_type": "stream",
          "name": "stdout",
          "text": [
            "Pearson correlation test : correlation coefficient : 0.8682, pval: 0.0000\n"
          ]
        }
      ]
    },
    {
      "cell_type": "markdown",
      "source": [
        "The higher correlation computed using Spearman indicates that if it’s not exactly linear and we use Pearson’s coefficient then we’ll miss out on the information that Spearman could capture. "
      ],
      "metadata": {
        "id": "_TVsqWmh5MkE"
      }
    },
    {
      "cell_type": "markdown",
      "source": [
        "## Statistical Test between Two Categorical variables: Chi-squared Test\n",
        "\n",
        "The test is applied when you have two categorical variables from a single population. It is used to determine whether there is a significant association between the two variables.\n",
        "\n",
        "**Assumption to fulfill:**\n",
        "\n",
        "* The two samples are independent.\n",
        "* The variables were collected independently of each other, i.e. the answer from one variable was not dependent on the answer of the other\n",
        "* No expected cell count is = 0\n",
        "* No more than 20% of the cells have and expected cell count < 5\n",
        "\n",
        "The last two assumptions can be checked by looking at the expected frequency table (demonstrated below)."
      ],
      "metadata": {
        "id": "sQnN2Oppv8YA"
      }
    },
    {
      "cell_type": "code",
      "source": [
        "# H0 : Clarity and cut are independent\n",
        "# H1 : Clarity and cut are not independent\n",
        "\n",
        "data = df[['clarity','cut']]\n",
        "crosstab = pd.crosstab(data['clarity'], data['cut'])\n",
        "crosstab"
      ],
      "metadata": {
        "id": "plV80hi1v87j",
        "colab": {
          "base_uri": "https://localhost:8080/",
          "height": 332
        },
        "outputId": "95569570-d429-4f2c-d3a1-fa28509b6357"
      },
      "execution_count": 49,
      "outputs": [
        {
          "output_type": "execute_result",
          "data": {
            "text/plain": [
              "cut      Fair  Good  Ideal  Premium  Very Good\n",
              "clarity                                       \n",
              "I1        210    95    146      203         84\n",
              "IF          9    71   1212      230        268\n",
              "SI1       408  1560   4282     3573       3240\n",
              "SI2       466  1078   2597     2944       2100\n",
              "VS1       169   648   3589     1989       1775\n",
              "VS2       261   978   5069     3356       2590\n",
              "VVS1       17   186   2047      615        789\n",
              "VVS2       69   286   2606      870       1235"
            ],
            "text/html": [
              "\n",
              "  <div id=\"df-8deef8b8-22f5-4e40-9c25-647f252f0006\">\n",
              "    <div class=\"colab-df-container\">\n",
              "      <div>\n",
              "<style scoped>\n",
              "    .dataframe tbody tr th:only-of-type {\n",
              "        vertical-align: middle;\n",
              "    }\n",
              "\n",
              "    .dataframe tbody tr th {\n",
              "        vertical-align: top;\n",
              "    }\n",
              "\n",
              "    .dataframe thead th {\n",
              "        text-align: right;\n",
              "    }\n",
              "</style>\n",
              "<table border=\"1\" class=\"dataframe\">\n",
              "  <thead>\n",
              "    <tr style=\"text-align: right;\">\n",
              "      <th>cut</th>\n",
              "      <th>Fair</th>\n",
              "      <th>Good</th>\n",
              "      <th>Ideal</th>\n",
              "      <th>Premium</th>\n",
              "      <th>Very Good</th>\n",
              "    </tr>\n",
              "    <tr>\n",
              "      <th>clarity</th>\n",
              "      <th></th>\n",
              "      <th></th>\n",
              "      <th></th>\n",
              "      <th></th>\n",
              "      <th></th>\n",
              "    </tr>\n",
              "  </thead>\n",
              "  <tbody>\n",
              "    <tr>\n",
              "      <th>I1</th>\n",
              "      <td>210</td>\n",
              "      <td>95</td>\n",
              "      <td>146</td>\n",
              "      <td>203</td>\n",
              "      <td>84</td>\n",
              "    </tr>\n",
              "    <tr>\n",
              "      <th>IF</th>\n",
              "      <td>9</td>\n",
              "      <td>71</td>\n",
              "      <td>1212</td>\n",
              "      <td>230</td>\n",
              "      <td>268</td>\n",
              "    </tr>\n",
              "    <tr>\n",
              "      <th>SI1</th>\n",
              "      <td>408</td>\n",
              "      <td>1560</td>\n",
              "      <td>4282</td>\n",
              "      <td>3573</td>\n",
              "      <td>3240</td>\n",
              "    </tr>\n",
              "    <tr>\n",
              "      <th>SI2</th>\n",
              "      <td>466</td>\n",
              "      <td>1078</td>\n",
              "      <td>2597</td>\n",
              "      <td>2944</td>\n",
              "      <td>2100</td>\n",
              "    </tr>\n",
              "    <tr>\n",
              "      <th>VS1</th>\n",
              "      <td>169</td>\n",
              "      <td>648</td>\n",
              "      <td>3589</td>\n",
              "      <td>1989</td>\n",
              "      <td>1775</td>\n",
              "    </tr>\n",
              "    <tr>\n",
              "      <th>VS2</th>\n",
              "      <td>261</td>\n",
              "      <td>978</td>\n",
              "      <td>5069</td>\n",
              "      <td>3356</td>\n",
              "      <td>2590</td>\n",
              "    </tr>\n",
              "    <tr>\n",
              "      <th>VVS1</th>\n",
              "      <td>17</td>\n",
              "      <td>186</td>\n",
              "      <td>2047</td>\n",
              "      <td>615</td>\n",
              "      <td>789</td>\n",
              "    </tr>\n",
              "    <tr>\n",
              "      <th>VVS2</th>\n",
              "      <td>69</td>\n",
              "      <td>286</td>\n",
              "      <td>2606</td>\n",
              "      <td>870</td>\n",
              "      <td>1235</td>\n",
              "    </tr>\n",
              "  </tbody>\n",
              "</table>\n",
              "</div>\n",
              "      <button class=\"colab-df-convert\" onclick=\"convertToInteractive('df-8deef8b8-22f5-4e40-9c25-647f252f0006')\"\n",
              "              title=\"Convert this dataframe to an interactive table.\"\n",
              "              style=\"display:none;\">\n",
              "        \n",
              "  <svg xmlns=\"http://www.w3.org/2000/svg\" height=\"24px\"viewBox=\"0 0 24 24\"\n",
              "       width=\"24px\">\n",
              "    <path d=\"M0 0h24v24H0V0z\" fill=\"none\"/>\n",
              "    <path d=\"M18.56 5.44l.94 2.06.94-2.06 2.06-.94-2.06-.94-.94-2.06-.94 2.06-2.06.94zm-11 1L8.5 8.5l.94-2.06 2.06-.94-2.06-.94L8.5 2.5l-.94 2.06-2.06.94zm10 10l.94 2.06.94-2.06 2.06-.94-2.06-.94-.94-2.06-.94 2.06-2.06.94z\"/><path d=\"M17.41 7.96l-1.37-1.37c-.4-.4-.92-.59-1.43-.59-.52 0-1.04.2-1.43.59L10.3 9.45l-7.72 7.72c-.78.78-.78 2.05 0 2.83L4 21.41c.39.39.9.59 1.41.59.51 0 1.02-.2 1.41-.59l7.78-7.78 2.81-2.81c.8-.78.8-2.07 0-2.86zM5.41 20L4 18.59l7.72-7.72 1.47 1.35L5.41 20z\"/>\n",
              "  </svg>\n",
              "      </button>\n",
              "      \n",
              "  <style>\n",
              "    .colab-df-container {\n",
              "      display:flex;\n",
              "      flex-wrap:wrap;\n",
              "      gap: 12px;\n",
              "    }\n",
              "\n",
              "    .colab-df-convert {\n",
              "      background-color: #E8F0FE;\n",
              "      border: none;\n",
              "      border-radius: 50%;\n",
              "      cursor: pointer;\n",
              "      display: none;\n",
              "      fill: #1967D2;\n",
              "      height: 32px;\n",
              "      padding: 0 0 0 0;\n",
              "      width: 32px;\n",
              "    }\n",
              "\n",
              "    .colab-df-convert:hover {\n",
              "      background-color: #E2EBFA;\n",
              "      box-shadow: 0px 1px 2px rgba(60, 64, 67, 0.3), 0px 1px 3px 1px rgba(60, 64, 67, 0.15);\n",
              "      fill: #174EA6;\n",
              "    }\n",
              "\n",
              "    [theme=dark] .colab-df-convert {\n",
              "      background-color: #3B4455;\n",
              "      fill: #D2E3FC;\n",
              "    }\n",
              "\n",
              "    [theme=dark] .colab-df-convert:hover {\n",
              "      background-color: #434B5C;\n",
              "      box-shadow: 0px 1px 3px 1px rgba(0, 0, 0, 0.15);\n",
              "      filter: drop-shadow(0px 1px 2px rgba(0, 0, 0, 0.3));\n",
              "      fill: #FFFFFF;\n",
              "    }\n",
              "  </style>\n",
              "\n",
              "      <script>\n",
              "        const buttonEl =\n",
              "          document.querySelector('#df-8deef8b8-22f5-4e40-9c25-647f252f0006 button.colab-df-convert');\n",
              "        buttonEl.style.display =\n",
              "          google.colab.kernel.accessAllowed ? 'block' : 'none';\n",
              "\n",
              "        async function convertToInteractive(key) {\n",
              "          const element = document.querySelector('#df-8deef8b8-22f5-4e40-9c25-647f252f0006');\n",
              "          const dataTable =\n",
              "            await google.colab.kernel.invokeFunction('convertToInteractive',\n",
              "                                                     [key], {});\n",
              "          if (!dataTable) return;\n",
              "\n",
              "          const docLinkHtml = 'Like what you see? Visit the ' +\n",
              "            '<a target=\"_blank\" href=https://colab.research.google.com/notebooks/data_table.ipynb>data table notebook</a>'\n",
              "            + ' to learn more about interactive tables.';\n",
              "          element.innerHTML = '';\n",
              "          dataTable['output_type'] = 'display_data';\n",
              "          await google.colab.output.renderOutput(dataTable, element);\n",
              "          const docLink = document.createElement('div');\n",
              "          docLink.innerHTML = docLinkHtml;\n",
              "          element.appendChild(docLink);\n",
              "        }\n",
              "      </script>\n",
              "    </div>\n",
              "  </div>\n",
              "  "
            ]
          },
          "metadata": {},
          "execution_count": 49
        }
      ]
    },
    {
      "cell_type": "markdown",
      "source": [
        "The mean of a chi-square distribution is its degrees of freedom. Chi-square distributions are positively skewed, with the degree of skew decreasing with increasing degrees of freedom. As the degrees of freedom increase, thechi-square distribution approaches a normal distribution.\n",
        "\n",
        "Using the ‘expected’, we can obtain a expected frequency table. It can be seen that all the assumptions are met which indicates the statistical test results are reliable."
      ],
      "metadata": {
        "id": "lLf69iV95h9K"
      }
    },
    {
      "cell_type": "code",
      "source": [
        "# Degrees of freedom\n",
        "\n",
        "stat, p, dof, expected = chi2_contingency(crosstab)\n",
        "print('Degress of freedom = %d' % dof)"
      ],
      "metadata": {
        "id": "Az2dg36swl_k",
        "colab": {
          "base_uri": "https://localhost:8080/"
        },
        "outputId": "eb2c2c75-9e5c-4664-d9de-ea2c2ab8919c"
      },
      "execution_count": 50,
      "outputs": [
        {
          "output_type": "stream",
          "name": "stdout",
          "text": [
            "Degress of freedom = 28\n"
          ]
        }
      ]
    },
    {
      "cell_type": "code",
      "source": [
        "print(expected)"
      ],
      "metadata": {
        "id": "Y-tWQKk6wrzE",
        "colab": {
          "base_uri": "https://localhost:8080/"
        },
        "outputId": "11a82342-0c2f-499f-c42e-def4dfe9be39"
      },
      "execution_count": 51,
      "outputs": [
        {
          "output_type": "stream",
          "name": "stdout",
          "text": [
            "[[  22.02229228   67.09339763  294.92626113  188.60608309  165.35196588]\n",
            " [  53.41450297  162.73330861  715.33605341  457.45919881  401.0569362 ]\n",
            " [ 389.80650964 1187.58950297 5220.35467359 3338.42989614 2926.81941766]\n",
            " [ 274.08503338  835.03097181 3670.59310089 2347.35348665 2057.93740727]\n",
            " [ 243.79692136  742.75482196 3264.96958457 2087.95623145 1830.52244065]\n",
            " [ 365.66554154 1114.04132047 4897.05474777 3131.67878338 2745.55960682]\n",
            " [ 109.03720326  332.19413947 1460.24465875  933.83011869  818.69387982]\n",
            " [ 151.17199555  460.56253709 2024.52091988 1294.68620178 1135.0583457 ]]\n"
          ]
        }
      ]
    },
    {
      "cell_type": "markdown",
      "source": [
        "If our calculated value of chi-square is less or equal to the tabular(also called critical) value of chi-square, then H0 holds true."
      ],
      "metadata": {
        "id": "RfM2r7bG5kVx"
      }
    },
    {
      "cell_type": "code",
      "source": [
        "prob = 0.95\n",
        "critical = chi2.ppf(prob, dof)\n",
        "print('probability=%.3f, critical=%.3f, stat=%.3f' % (prob, critical, stat))"
      ],
      "metadata": {
        "id": "6WmlOuRvwuJc",
        "colab": {
          "base_uri": "https://localhost:8080/"
        },
        "outputId": "5930f62e-292c-4050-ca23-2cd22f78b3ca"
      },
      "execution_count": 52,
      "outputs": [
        {
          "output_type": "stream",
          "name": "stdout",
          "text": [
            "probability=0.950, critical=41.337, stat=4395.819\n"
          ]
        }
      ]
    },
    {
      "cell_type": "code",
      "source": [
        "if abs(stat) >= critical:\n",
        "\tprint('Reject null hypothesis')\n",
        "else:\n",
        "\tprint('Independent. Accept null hypothesis')\n",
        " \n",
        "alpha = 1.0 - prob\n",
        "print('significance=%.3f, p=%.3f' % (alpha, p))\n",
        "if p <= alpha:\n",
        "\tprint('Dependent. Reject null hypothesis')\n",
        "else:\n",
        "\tprint('Independent. Accept null hypothesis')"
      ],
      "metadata": {
        "id": "VhnJpjKNw1as",
        "colab": {
          "base_uri": "https://localhost:8080/"
        },
        "outputId": "0ec8023d-e929-4cd8-9e0c-47889daeddd1"
      },
      "execution_count": 53,
      "outputs": [
        {
          "output_type": "stream",
          "name": "stdout",
          "text": [
            "Reject null hypothesis\n",
            "significance=0.050, p=0.000\n",
            "Dependent. Reject null hypothesis\n"
          ]
        }
      ]
    },
    {
      "cell_type": "markdown",
      "source": [
        "We can interpret the results by two ways :\n",
        "\n",
        "* The P-value is less than the significance level of 5%, we reject the null hypothesis.\n",
        "* The Test-statistic is more than the critical value, we reject the null hypothesis.\n",
        "\n",
        "We can conclude that the clarity is dependent from the cut owned at a 95% confidence level."
      ],
      "metadata": {
        "id": "N0qo_5lPxGfd"
      }
    },
    {
      "cell_type": "markdown",
      "source": [
        "## Statistical Test to determine Normal Distribution – Shapiro Test\n",
        "\n",
        "Shapiro test isa statistical test used to check whether the considered data is normally distributed data or not. In shapiro test, The null hypothesis is states that the population is normally distributed i.e if the p-value is greater than 0.05, then the null hypothesis is accepted.\n",
        "\n",
        "**H0 (null hypothesis):** Population is normally distributed. \n",
        "\n",
        "**H1 (null hypothesis):** Population is not normally distributed. "
      ],
      "metadata": {
        "id": "R7CHguiglYgT"
      }
    },
    {
      "cell_type": "code",
      "source": [
        "# H0 : Population is normally distributed. \n",
        "# H1 : Population is not normally distributed. \n",
        "\n",
        "X = df.loc[:, ~df.columns.isin(['price'])].select_dtypes(exclude='object')\n",
        "\n",
        "column_dict= {elem : pd.DataFrame() for elem in X}\n",
        "\n",
        "def shapiro_test(data):\n",
        "    stat, p = shapiro(data)\n",
        "    print('%s : Statistics=%.3f, p=%.3f' % (column,stat, p))\n",
        "    alpha = 0.05\n",
        "    if p > alpha:\n",
        "        print('Sample looks Gaussian. Accept Null Hypothesis')\n",
        "    else:\n",
        "        print('Sample does not look Gaussian. Reject Null Hypothesis.')\n",
        "\n",
        "for column in X:\n",
        "    column_dict[column] = df[column]\n",
        "    shapiro_test(column_dict[column])"
      ],
      "metadata": {
        "id": "oLyMXQzxmS5b",
        "colab": {
          "base_uri": "https://localhost:8080/"
        },
        "outputId": "25395639-d1c5-4cf6-c85b-b6e2bf3f95c3"
      },
      "execution_count": 54,
      "outputs": [
        {
          "output_type": "stream",
          "name": "stdout",
          "text": [
            "carat : Statistics=0.894, p=0.000\n",
            "Sample does not look Gaussian. Reject Null Hypothesis.\n",
            "depth : Statistics=0.953, p=0.000\n",
            "Sample does not look Gaussian. Reject Null Hypothesis.\n",
            "table : Statistics=0.954, p=0.000\n",
            "Sample does not look Gaussian. Reject Null Hypothesis.\n",
            "x : Statistics=0.956, p=0.000\n",
            "Sample does not look Gaussian. Reject Null Hypothesis.\n",
            "y : Statistics=0.918, p=0.000\n",
            "Sample does not look Gaussian. Reject Null Hypothesis.\n",
            "z : Statistics=0.933, p=0.000\n",
            "Sample does not look Gaussian. Reject Null Hypothesis.\n"
          ]
        },
        {
          "output_type": "stream",
          "name": "stderr",
          "text": [
            "/usr/local/lib/python3.7/dist-packages/scipy/stats/morestats.py:1760: UserWarning: p-value may not be accurate for N > 5000.\n",
            "  warnings.warn(\"p-value may not be accurate for N > 5000.\")\n"
          ]
        }
      ]
    },
    {
      "cell_type": "markdown",
      "source": [
        "From the test result, we can conclude that none of these features is normally distributed. "
      ],
      "metadata": {
        "id": "E8P36Ucn5wkB"
      }
    }
  ]
}