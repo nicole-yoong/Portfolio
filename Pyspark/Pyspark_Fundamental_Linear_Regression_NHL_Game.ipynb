{
  "nbformat": 4,
  "nbformat_minor": 0,
  "metadata": {
    "colab": {
      "provenance": [],
      "toc_visible": true,
      "mount_file_id": "1lv-g6uCUT2L21PA2DalHPog8OFH9vyCI",
      "authorship_tag": "ABX9TyPLMcSv8P1h2IA6GacZv1ZC",
      "include_colab_link": true
    },
    "kernelspec": {
      "name": "python3",
      "display_name": "Python 3"
    },
    "language_info": {
      "name": "python"
    }
  },
  "cells": [
    {
      "cell_type": "markdown",
      "metadata": {
        "id": "view-in-github",
        "colab_type": "text"
      },
      "source": [
        "<a href=\"https://colab.research.google.com/github/nicole-yoong/Portfolio/blob/main/Pyspark/Pyspark_Fundamental_Linear_Regression_NHL_Game.ipynb\" target=\"_parent\"><img src=\"https://colab.research.google.com/assets/colab-badge.svg\" alt=\"Open In Colab\"/></a>"
      ]
    },
    {
      "cell_type": "code",
      "execution_count": null,
      "metadata": {
        "colab": {
          "base_uri": "https://localhost:8080/"
        },
        "id": "lMM8j3u4bZH8",
        "outputId": "d814d6a2-c07b-4287-ad0a-7588d210ed75"
      },
      "outputs": [
        {
          "output_type": "stream",
          "name": "stdout",
          "text": [
            "Collecting pyspark\n",
            "  Downloading pyspark-3.2.1.tar.gz (281.4 MB)\n",
            "\u001b[K     |████████████████████████████████| 281.4 MB 33 kB/s \n",
            "\u001b[?25hCollecting py4j==0.10.9.3\n",
            "  Downloading py4j-0.10.9.3-py2.py3-none-any.whl (198 kB)\n",
            "\u001b[K     |████████████████████████████████| 198 kB 56.1 MB/s \n",
            "\u001b[?25hBuilding wheels for collected packages: pyspark\n",
            "  Building wheel for pyspark (setup.py) ... \u001b[?25l\u001b[?25hdone\n",
            "  Created wheel for pyspark: filename=pyspark-3.2.1-py2.py3-none-any.whl size=281853642 sha256=b0426ca803b4503c2378a153c446c82c703a4c5c1447f86b70fc4f52e7468e01\n",
            "  Stored in directory: /root/.cache/pip/wheels/9f/f5/07/7cd8017084dce4e93e84e92efd1e1d5334db05f2e83bcef74f\n",
            "Successfully built pyspark\n",
            "Installing collected packages: py4j, pyspark\n",
            "Successfully installed py4j-0.10.9.3 pyspark-3.2.1\n"
          ]
        }
      ],
      "source": [
        "!pip install pyspark"
      ]
    },
    {
      "cell_type": "markdown",
      "source": [
        "# Import packages"
      ],
      "metadata": {
        "id": "7hAE43o2mI73"
      }
    },
    {
      "cell_type": "code",
      "source": [
        "import pandas as pd\n",
        "import numpy as np\n",
        "\n",
        "from pyspark import SparkConf, SparkContext\n",
        "from pyspark.sql import SparkSession, SQLContext\n",
        "\n",
        "from pyspark.sql.types import *\n",
        "import pyspark.sql.functions as F\n",
        "from pyspark.sql.functions import udf, col\n",
        "from pyspark.sql.functions import col,isnan, when, count\n"
      ],
      "metadata": {
        "id": "j46WSHc2fwSi"
      },
      "execution_count": null,
      "outputs": []
    },
    {
      "cell_type": "code",
      "source": [
        "spark = SparkSession.builder.master(\"local[2]\").appName(\"California-Housing\").getOrCreate()"
      ],
      "metadata": {
        "id": "37To7ALTf0Yg"
      },
      "execution_count": null,
      "outputs": []
    },
    {
      "cell_type": "markdown",
      "source": [
        "# Reading dataset"
      ],
      "metadata": {
        "id": "vitOdbC7mKXn"
      }
    },
    {
      "cell_type": "code",
      "source": [
        "#Read the CSV file into a Spark dataframe, similar to df.head() in Pandas\n",
        "file_location = \"/content/drive/MyDrive/Python/Case Studies/Datasets/california_housing.csv\"\n",
        "df = spark.read.format(\"csv\").option(\"inferSchema\",True).option(\"header\", True).load(file_location)\n",
        "display(df)"
      ],
      "metadata": {
        "colab": {
          "base_uri": "https://localhost:8080/",
          "height": 54
        },
        "id": "Y9g7d9zofRl6",
        "outputId": "e1513d02-274f-4a35-c216-6a74eb9a481c"
      },
      "execution_count": null,
      "outputs": [
        {
          "output_type": "display_data",
          "data": {
            "text/plain": [
              "DataFrame[longitude: double, latitude: double, housing_median_age: double, total_rooms: double, total_bedrooms: double, population: double, households: double, median_income: double, median_house_value: double, ocean_proximity: string]"
            ]
          },
          "metadata": {}
        }
      ]
    },
    {
      "cell_type": "code",
      "source": [
        "#Save the file to parquet format as it is a file format that includes metadata about the column data types, offers file compression\n",
        "df.write.save(\"/content/drive/MyDrive/Python/Case Studies/Datasets/california_housing.parquet\", format='parquet')\n",
        "df = spark.read.load(\"/content/drive/MyDrive/Python/Case Studies/Datasets/california_housing.parquet\")\n",
        "display(df)"
      ],
      "metadata": {
        "id": "xT5uNjKcgWCJ"
      },
      "execution_count": null,
      "outputs": []
    },
    {
      "cell_type": "markdown",
      "source": [
        "## Spark to Pandas dataframe"
      ],
      "metadata": {
        "id": "O_ytOr49_zOe"
      }
    },
    {
      "cell_type": "code",
      "source": [
        "df.limit(10).toPandas()"
      ],
      "metadata": {
        "colab": {
          "base_uri": "https://localhost:8080/",
          "height": 363
        },
        "id": "AKnp9ZGQ_kHu",
        "outputId": "ea6d76a0-1075-4f91-8959-f4e3192f80da"
      },
      "execution_count": null,
      "outputs": [
        {
          "output_type": "execute_result",
          "data": {
            "text/plain": [
              "   longitude  latitude  housing_median_age  total_rooms  total_bedrooms  \\\n",
              "0    -122.23     37.88                41.0        880.0           129.0   \n",
              "1    -122.22     37.86                21.0       7099.0          1106.0   \n",
              "2    -122.24     37.85                52.0       1467.0           190.0   \n",
              "3    -122.25     37.85                52.0       1274.0           235.0   \n",
              "4    -122.25     37.85                52.0       1627.0           280.0   \n",
              "5    -122.25     37.85                52.0        919.0           213.0   \n",
              "6    -122.25     37.84                52.0       2535.0           489.0   \n",
              "7    -122.25     37.84                52.0       3104.0           687.0   \n",
              "8    -122.26     37.84                42.0       2555.0           665.0   \n",
              "9    -122.25     37.84                52.0       3549.0           707.0   \n",
              "\n",
              "   population  households  median_income  median_house_value ocean_proximity  \n",
              "0       322.0       126.0         8.3252            452600.0        NEAR BAY  \n",
              "1      2401.0      1138.0         8.3014            358500.0        NEAR BAY  \n",
              "2       496.0       177.0         7.2574            352100.0        NEAR BAY  \n",
              "3       558.0       219.0         5.6431            341300.0        NEAR BAY  \n",
              "4       565.0       259.0         3.8462            342200.0        NEAR BAY  \n",
              "5       413.0       193.0         4.0368            269700.0        NEAR BAY  \n",
              "6      1094.0       514.0         3.6591            299200.0        NEAR BAY  \n",
              "7      1157.0       647.0         3.1200            241400.0        NEAR BAY  \n",
              "8      1206.0       595.0         2.0804            226700.0        NEAR BAY  \n",
              "9      1551.0       714.0         3.6912            261100.0        NEAR BAY  "
            ],
            "text/html": [
              "\n",
              "  <div id=\"df-9131bab8-154d-4e1e-8f31-0807609139ba\">\n",
              "    <div class=\"colab-df-container\">\n",
              "      <div>\n",
              "<style scoped>\n",
              "    .dataframe tbody tr th:only-of-type {\n",
              "        vertical-align: middle;\n",
              "    }\n",
              "\n",
              "    .dataframe tbody tr th {\n",
              "        vertical-align: top;\n",
              "    }\n",
              "\n",
              "    .dataframe thead th {\n",
              "        text-align: right;\n",
              "    }\n",
              "</style>\n",
              "<table border=\"1\" class=\"dataframe\">\n",
              "  <thead>\n",
              "    <tr style=\"text-align: right;\">\n",
              "      <th></th>\n",
              "      <th>longitude</th>\n",
              "      <th>latitude</th>\n",
              "      <th>housing_median_age</th>\n",
              "      <th>total_rooms</th>\n",
              "      <th>total_bedrooms</th>\n",
              "      <th>population</th>\n",
              "      <th>households</th>\n",
              "      <th>median_income</th>\n",
              "      <th>median_house_value</th>\n",
              "      <th>ocean_proximity</th>\n",
              "    </tr>\n",
              "  </thead>\n",
              "  <tbody>\n",
              "    <tr>\n",
              "      <th>0</th>\n",
              "      <td>-122.23</td>\n",
              "      <td>37.88</td>\n",
              "      <td>41.0</td>\n",
              "      <td>880.0</td>\n",
              "      <td>129.0</td>\n",
              "      <td>322.0</td>\n",
              "      <td>126.0</td>\n",
              "      <td>8.3252</td>\n",
              "      <td>452600.0</td>\n",
              "      <td>NEAR BAY</td>\n",
              "    </tr>\n",
              "    <tr>\n",
              "      <th>1</th>\n",
              "      <td>-122.22</td>\n",
              "      <td>37.86</td>\n",
              "      <td>21.0</td>\n",
              "      <td>7099.0</td>\n",
              "      <td>1106.0</td>\n",
              "      <td>2401.0</td>\n",
              "      <td>1138.0</td>\n",
              "      <td>8.3014</td>\n",
              "      <td>358500.0</td>\n",
              "      <td>NEAR BAY</td>\n",
              "    </tr>\n",
              "    <tr>\n",
              "      <th>2</th>\n",
              "      <td>-122.24</td>\n",
              "      <td>37.85</td>\n",
              "      <td>52.0</td>\n",
              "      <td>1467.0</td>\n",
              "      <td>190.0</td>\n",
              "      <td>496.0</td>\n",
              "      <td>177.0</td>\n",
              "      <td>7.2574</td>\n",
              "      <td>352100.0</td>\n",
              "      <td>NEAR BAY</td>\n",
              "    </tr>\n",
              "    <tr>\n",
              "      <th>3</th>\n",
              "      <td>-122.25</td>\n",
              "      <td>37.85</td>\n",
              "      <td>52.0</td>\n",
              "      <td>1274.0</td>\n",
              "      <td>235.0</td>\n",
              "      <td>558.0</td>\n",
              "      <td>219.0</td>\n",
              "      <td>5.6431</td>\n",
              "      <td>341300.0</td>\n",
              "      <td>NEAR BAY</td>\n",
              "    </tr>\n",
              "    <tr>\n",
              "      <th>4</th>\n",
              "      <td>-122.25</td>\n",
              "      <td>37.85</td>\n",
              "      <td>52.0</td>\n",
              "      <td>1627.0</td>\n",
              "      <td>280.0</td>\n",
              "      <td>565.0</td>\n",
              "      <td>259.0</td>\n",
              "      <td>3.8462</td>\n",
              "      <td>342200.0</td>\n",
              "      <td>NEAR BAY</td>\n",
              "    </tr>\n",
              "    <tr>\n",
              "      <th>5</th>\n",
              "      <td>-122.25</td>\n",
              "      <td>37.85</td>\n",
              "      <td>52.0</td>\n",
              "      <td>919.0</td>\n",
              "      <td>213.0</td>\n",
              "      <td>413.0</td>\n",
              "      <td>193.0</td>\n",
              "      <td>4.0368</td>\n",
              "      <td>269700.0</td>\n",
              "      <td>NEAR BAY</td>\n",
              "    </tr>\n",
              "    <tr>\n",
              "      <th>6</th>\n",
              "      <td>-122.25</td>\n",
              "      <td>37.84</td>\n",
              "      <td>52.0</td>\n",
              "      <td>2535.0</td>\n",
              "      <td>489.0</td>\n",
              "      <td>1094.0</td>\n",
              "      <td>514.0</td>\n",
              "      <td>3.6591</td>\n",
              "      <td>299200.0</td>\n",
              "      <td>NEAR BAY</td>\n",
              "    </tr>\n",
              "    <tr>\n",
              "      <th>7</th>\n",
              "      <td>-122.25</td>\n",
              "      <td>37.84</td>\n",
              "      <td>52.0</td>\n",
              "      <td>3104.0</td>\n",
              "      <td>687.0</td>\n",
              "      <td>1157.0</td>\n",
              "      <td>647.0</td>\n",
              "      <td>3.1200</td>\n",
              "      <td>241400.0</td>\n",
              "      <td>NEAR BAY</td>\n",
              "    </tr>\n",
              "    <tr>\n",
              "      <th>8</th>\n",
              "      <td>-122.26</td>\n",
              "      <td>37.84</td>\n",
              "      <td>42.0</td>\n",
              "      <td>2555.0</td>\n",
              "      <td>665.0</td>\n",
              "      <td>1206.0</td>\n",
              "      <td>595.0</td>\n",
              "      <td>2.0804</td>\n",
              "      <td>226700.0</td>\n",
              "      <td>NEAR BAY</td>\n",
              "    </tr>\n",
              "    <tr>\n",
              "      <th>9</th>\n",
              "      <td>-122.25</td>\n",
              "      <td>37.84</td>\n",
              "      <td>52.0</td>\n",
              "      <td>3549.0</td>\n",
              "      <td>707.0</td>\n",
              "      <td>1551.0</td>\n",
              "      <td>714.0</td>\n",
              "      <td>3.6912</td>\n",
              "      <td>261100.0</td>\n",
              "      <td>NEAR BAY</td>\n",
              "    </tr>\n",
              "  </tbody>\n",
              "</table>\n",
              "</div>\n",
              "      <button class=\"colab-df-convert\" onclick=\"convertToInteractive('df-9131bab8-154d-4e1e-8f31-0807609139ba')\"\n",
              "              title=\"Convert this dataframe to an interactive table.\"\n",
              "              style=\"display:none;\">\n",
              "        \n",
              "  <svg xmlns=\"http://www.w3.org/2000/svg\" height=\"24px\"viewBox=\"0 0 24 24\"\n",
              "       width=\"24px\">\n",
              "    <path d=\"M0 0h24v24H0V0z\" fill=\"none\"/>\n",
              "    <path d=\"M18.56 5.44l.94 2.06.94-2.06 2.06-.94-2.06-.94-.94-2.06-.94 2.06-2.06.94zm-11 1L8.5 8.5l.94-2.06 2.06-.94-2.06-.94L8.5 2.5l-.94 2.06-2.06.94zm10 10l.94 2.06.94-2.06 2.06-.94-2.06-.94-.94-2.06-.94 2.06-2.06.94z\"/><path d=\"M17.41 7.96l-1.37-1.37c-.4-.4-.92-.59-1.43-.59-.52 0-1.04.2-1.43.59L10.3 9.45l-7.72 7.72c-.78.78-.78 2.05 0 2.83L4 21.41c.39.39.9.59 1.41.59.51 0 1.02-.2 1.41-.59l7.78-7.78 2.81-2.81c.8-.78.8-2.07 0-2.86zM5.41 20L4 18.59l7.72-7.72 1.47 1.35L5.41 20z\"/>\n",
              "  </svg>\n",
              "      </button>\n",
              "      \n",
              "  <style>\n",
              "    .colab-df-container {\n",
              "      display:flex;\n",
              "      flex-wrap:wrap;\n",
              "      gap: 12px;\n",
              "    }\n",
              "\n",
              "    .colab-df-convert {\n",
              "      background-color: #E8F0FE;\n",
              "      border: none;\n",
              "      border-radius: 50%;\n",
              "      cursor: pointer;\n",
              "      display: none;\n",
              "      fill: #1967D2;\n",
              "      height: 32px;\n",
              "      padding: 0 0 0 0;\n",
              "      width: 32px;\n",
              "    }\n",
              "\n",
              "    .colab-df-convert:hover {\n",
              "      background-color: #E2EBFA;\n",
              "      box-shadow: 0px 1px 2px rgba(60, 64, 67, 0.3), 0px 1px 3px 1px rgba(60, 64, 67, 0.15);\n",
              "      fill: #174EA6;\n",
              "    }\n",
              "\n",
              "    [theme=dark] .colab-df-convert {\n",
              "      background-color: #3B4455;\n",
              "      fill: #D2E3FC;\n",
              "    }\n",
              "\n",
              "    [theme=dark] .colab-df-convert:hover {\n",
              "      background-color: #434B5C;\n",
              "      box-shadow: 0px 1px 3px 1px rgba(0, 0, 0, 0.15);\n",
              "      filter: drop-shadow(0px 1px 2px rgba(0, 0, 0, 0.3));\n",
              "      fill: #FFFFFF;\n",
              "    }\n",
              "  </style>\n",
              "\n",
              "      <script>\n",
              "        const buttonEl =\n",
              "          document.querySelector('#df-9131bab8-154d-4e1e-8f31-0807609139ba button.colab-df-convert');\n",
              "        buttonEl.style.display =\n",
              "          google.colab.kernel.accessAllowed ? 'block' : 'none';\n",
              "\n",
              "        async function convertToInteractive(key) {\n",
              "          const element = document.querySelector('#df-9131bab8-154d-4e1e-8f31-0807609139ba');\n",
              "          const dataTable =\n",
              "            await google.colab.kernel.invokeFunction('convertToInteractive',\n",
              "                                                     [key], {});\n",
              "          if (!dataTable) return;\n",
              "\n",
              "          const docLinkHtml = 'Like what you see? Visit the ' +\n",
              "            '<a target=\"_blank\" href=https://colab.research.google.com/notebooks/data_table.ipynb>data table notebook</a>'\n",
              "            + ' to learn more about interactive tables.';\n",
              "          element.innerHTML = '';\n",
              "          dataTable['output_type'] = 'display_data';\n",
              "          await google.colab.output.renderOutput(dataTable, element);\n",
              "          const docLink = document.createElement('div');\n",
              "          docLink.innerHTML = docLinkHtml;\n",
              "          element.appendChild(docLink);\n",
              "        }\n",
              "      </script>\n",
              "    </div>\n",
              "  </div>\n",
              "  "
            ]
          },
          "metadata": {},
          "execution_count": 6
        }
      ]
    },
    {
      "cell_type": "markdown",
      "source": [
        "## Spark to SparkSQL dataframe"
      ],
      "metadata": {
        "id": "iE9e7nmZADe2"
      }
    },
    {
      "cell_type": "code",
      "source": [
        "df.createOrReplaceTempView(\"df\")\n",
        "spark.sql(\"select * from df\").show()"
      ],
      "metadata": {
        "colab": {
          "base_uri": "https://localhost:8080/"
        },
        "id": "9OaBI7NPAFgO",
        "outputId": "c36eee18-e2ac-4ebd-cf31-650e408c730a"
      },
      "execution_count": null,
      "outputs": [
        {
          "output_type": "stream",
          "name": "stdout",
          "text": [
            "+---------+--------+------------------+-----------+--------------+----------+----------+-------------+------------------+---------------+\n",
            "|longitude|latitude|housing_median_age|total_rooms|total_bedrooms|population|households|median_income|median_house_value|ocean_proximity|\n",
            "+---------+--------+------------------+-----------+--------------+----------+----------+-------------+------------------+---------------+\n",
            "|  -122.23|   37.88|              41.0|      880.0|         129.0|     322.0|     126.0|       8.3252|          452600.0|       NEAR BAY|\n",
            "|  -122.22|   37.86|              21.0|     7099.0|        1106.0|    2401.0|    1138.0|       8.3014|          358500.0|       NEAR BAY|\n",
            "|  -122.24|   37.85|              52.0|     1467.0|         190.0|     496.0|     177.0|       7.2574|          352100.0|       NEAR BAY|\n",
            "|  -122.25|   37.85|              52.0|     1274.0|         235.0|     558.0|     219.0|       5.6431|          341300.0|       NEAR BAY|\n",
            "|  -122.25|   37.85|              52.0|     1627.0|         280.0|     565.0|     259.0|       3.8462|          342200.0|       NEAR BAY|\n",
            "|  -122.25|   37.85|              52.0|      919.0|         213.0|     413.0|     193.0|       4.0368|          269700.0|       NEAR BAY|\n",
            "|  -122.25|   37.84|              52.0|     2535.0|         489.0|    1094.0|     514.0|       3.6591|          299200.0|       NEAR BAY|\n",
            "|  -122.25|   37.84|              52.0|     3104.0|         687.0|    1157.0|     647.0|         3.12|          241400.0|       NEAR BAY|\n",
            "|  -122.26|   37.84|              42.0|     2555.0|         665.0|    1206.0|     595.0|       2.0804|          226700.0|       NEAR BAY|\n",
            "|  -122.25|   37.84|              52.0|     3549.0|         707.0|    1551.0|     714.0|       3.6912|          261100.0|       NEAR BAY|\n",
            "|  -122.26|   37.85|              52.0|     2202.0|         434.0|     910.0|     402.0|       3.2031|          281500.0|       NEAR BAY|\n",
            "|  -122.26|   37.85|              52.0|     3503.0|         752.0|    1504.0|     734.0|       3.2705|          241800.0|       NEAR BAY|\n",
            "|  -122.26|   37.85|              52.0|     2491.0|         474.0|    1098.0|     468.0|        3.075|          213500.0|       NEAR BAY|\n",
            "|  -122.26|   37.84|              52.0|      696.0|         191.0|     345.0|     174.0|       2.6736|          191300.0|       NEAR BAY|\n",
            "|  -122.26|   37.85|              52.0|     2643.0|         626.0|    1212.0|     620.0|       1.9167|          159200.0|       NEAR BAY|\n",
            "|  -122.26|   37.85|              50.0|     1120.0|         283.0|     697.0|     264.0|        2.125|          140000.0|       NEAR BAY|\n",
            "|  -122.27|   37.85|              52.0|     1966.0|         347.0|     793.0|     331.0|        2.775|          152500.0|       NEAR BAY|\n",
            "|  -122.27|   37.85|              52.0|     1228.0|         293.0|     648.0|     303.0|       2.1202|          155500.0|       NEAR BAY|\n",
            "|  -122.26|   37.84|              50.0|     2239.0|         455.0|     990.0|     419.0|       1.9911|          158700.0|       NEAR BAY|\n",
            "|  -122.27|   37.84|              52.0|     1503.0|         298.0|     690.0|     275.0|       2.6033|          162900.0|       NEAR BAY|\n",
            "+---------+--------+------------------+-----------+--------------+----------+----------+-------------+------------------+---------------+\n",
            "only showing top 20 rows\n",
            "\n"
          ]
        }
      ]
    },
    {
      "cell_type": "markdown",
      "source": [
        "# Missing values "
      ],
      "metadata": {
        "id": "XhbwAbbSEZ9q"
      }
    },
    {
      "cell_type": "code",
      "source": [
        "# Find Count of Null, None, NaN of All DataFrame Columns\n",
        "df.select([count(when(isnan(c) | col(c).isNull(), c)).alias(c) for c in df.columns]).show()"
      ],
      "metadata": {
        "colab": {
          "base_uri": "https://localhost:8080/"
        },
        "id": "NAdA9QdKpXqC",
        "outputId": "21a100e1-266d-4c5f-b1de-a60dda5df735"
      },
      "execution_count": null,
      "outputs": [
        {
          "output_type": "stream",
          "name": "stdout",
          "text": [
            "+---------+--------+------------------+-----------+--------------+----------+----------+-------------+------------------+---------------+\n",
            "|longitude|latitude|housing_median_age|total_rooms|total_bedrooms|population|households|median_income|median_house_value|ocean_proximity|\n",
            "+---------+--------+------------------+-----------+--------------+----------+----------+-------------+------------------+---------------+\n",
            "|        0|       0|                 0|          0|           207|         0|         0|            0|                 0|              0|\n",
            "+---------+--------+------------------+-----------+--------------+----------+----------+-------------+------------------+---------------+\n",
            "\n"
          ]
        }
      ]
    },
    {
      "cell_type": "code",
      "source": [
        "df = df.dropna()\n",
        "df.show(10)"
      ],
      "metadata": {
        "colab": {
          "base_uri": "https://localhost:8080/"
        },
        "id": "XhKFfFP7p7rZ",
        "outputId": "0d54d131-c3f5-470e-e9d3-148c95f6e0cc"
      },
      "execution_count": null,
      "outputs": [
        {
          "output_type": "stream",
          "name": "stdout",
          "text": [
            "+---------+--------+------------------+-----------+--------------+----------+----------+-------------+------------------+---------------+\n",
            "|longitude|latitude|housing_median_age|total_rooms|total_bedrooms|population|households|median_income|median_house_value|ocean_proximity|\n",
            "+---------+--------+------------------+-----------+--------------+----------+----------+-------------+------------------+---------------+\n",
            "|  -122.23|   37.88|              41.0|      880.0|         129.0|     322.0|     126.0|       8.3252|          452600.0|       NEAR BAY|\n",
            "|  -122.22|   37.86|              21.0|     7099.0|        1106.0|    2401.0|    1138.0|       8.3014|          358500.0|       NEAR BAY|\n",
            "|  -122.24|   37.85|              52.0|     1467.0|         190.0|     496.0|     177.0|       7.2574|          352100.0|       NEAR BAY|\n",
            "|  -122.25|   37.85|              52.0|     1274.0|         235.0|     558.0|     219.0|       5.6431|          341300.0|       NEAR BAY|\n",
            "|  -122.25|   37.85|              52.0|     1627.0|         280.0|     565.0|     259.0|       3.8462|          342200.0|       NEAR BAY|\n",
            "|  -122.25|   37.85|              52.0|      919.0|         213.0|     413.0|     193.0|       4.0368|          269700.0|       NEAR BAY|\n",
            "|  -122.25|   37.84|              52.0|     2535.0|         489.0|    1094.0|     514.0|       3.6591|          299200.0|       NEAR BAY|\n",
            "|  -122.25|   37.84|              52.0|     3104.0|         687.0|    1157.0|     647.0|         3.12|          241400.0|       NEAR BAY|\n",
            "|  -122.26|   37.84|              42.0|     2555.0|         665.0|    1206.0|     595.0|       2.0804|          226700.0|       NEAR BAY|\n",
            "|  -122.25|   37.84|              52.0|     3549.0|         707.0|    1551.0|     714.0|       3.6912|          261100.0|       NEAR BAY|\n",
            "+---------+--------+------------------+-----------+--------------+----------+----------+-------------+------------------+---------------+\n",
            "only showing top 10 rows\n",
            "\n"
          ]
        }
      ]
    },
    {
      "cell_type": "markdown",
      "source": [
        "# Data exploration"
      ],
      "metadata": {
        "id": "6pnx5ZrkEbvA"
      }
    },
    {
      "cell_type": "code",
      "source": [
        "df.take(5)"
      ],
      "metadata": {
        "colab": {
          "base_uri": "https://localhost:8080/"
        },
        "id": "VB2NOYVZhreJ",
        "outputId": "0fda7ba4-45bf-4d3d-831e-3dac7617d5ff"
      },
      "execution_count": null,
      "outputs": [
        {
          "output_type": "execute_result",
          "data": {
            "text/plain": [
              "[Row(longitude=-122.23, latitude=37.88, housing_median_age=41.0, total_rooms=880.0, total_bedrooms=129.0, population=322.0, households=126.0, median_income=8.3252, median_house_value=452600.0, ocean_proximity='NEAR BAY'),\n",
              " Row(longitude=-122.22, latitude=37.86, housing_median_age=21.0, total_rooms=7099.0, total_bedrooms=1106.0, population=2401.0, households=1138.0, median_income=8.3014, median_house_value=358500.0, ocean_proximity='NEAR BAY'),\n",
              " Row(longitude=-122.24, latitude=37.85, housing_median_age=52.0, total_rooms=1467.0, total_bedrooms=190.0, population=496.0, households=177.0, median_income=7.2574, median_house_value=352100.0, ocean_proximity='NEAR BAY'),\n",
              " Row(longitude=-122.25, latitude=37.85, housing_median_age=52.0, total_rooms=1274.0, total_bedrooms=235.0, population=558.0, households=219.0, median_income=5.6431, median_house_value=341300.0, ocean_proximity='NEAR BAY'),\n",
              " Row(longitude=-122.25, latitude=37.85, housing_median_age=52.0, total_rooms=1627.0, total_bedrooms=280.0, population=565.0, households=259.0, median_income=3.8462, median_house_value=342200.0, ocean_proximity='NEAR BAY')]"
            ]
          },
          "metadata": {},
          "execution_count": 17
        }
      ]
    },
    {
      "cell_type": "code",
      "source": [
        "df.show(5)"
      ],
      "metadata": {
        "colab": {
          "base_uri": "https://localhost:8080/"
        },
        "id": "Ifqmq5ZohuoJ",
        "outputId": "aad9f70d-f221-4334-fcaf-90d8076a3fcf"
      },
      "execution_count": null,
      "outputs": [
        {
          "output_type": "stream",
          "name": "stdout",
          "text": [
            "+---------+--------+------------------+-----------+--------------+----------+----------+-------------+------------------+---------------+\n",
            "|longitude|latitude|housing_median_age|total_rooms|total_bedrooms|population|households|median_income|median_house_value|ocean_proximity|\n",
            "+---------+--------+------------------+-----------+--------------+----------+----------+-------------+------------------+---------------+\n",
            "|  -122.23|   37.88|              41.0|      880.0|         129.0|     322.0|     126.0|       8.3252|          452600.0|       NEAR BAY|\n",
            "|  -122.22|   37.86|              21.0|     7099.0|        1106.0|    2401.0|    1138.0|       8.3014|          358500.0|       NEAR BAY|\n",
            "|  -122.24|   37.85|              52.0|     1467.0|         190.0|     496.0|     177.0|       7.2574|          352100.0|       NEAR BAY|\n",
            "|  -122.25|   37.85|              52.0|     1274.0|         235.0|     558.0|     219.0|       5.6431|          341300.0|       NEAR BAY|\n",
            "|  -122.25|   37.85|              52.0|     1627.0|         280.0|     565.0|     259.0|       3.8462|          342200.0|       NEAR BAY|\n",
            "+---------+--------+------------------+-----------+--------------+----------+----------+-------------+------------------+---------------+\n",
            "only showing top 5 rows\n",
            "\n"
          ]
        }
      ]
    },
    {
      "cell_type": "code",
      "source": [
        "df.printSchema()"
      ],
      "metadata": {
        "colab": {
          "base_uri": "https://localhost:8080/"
        },
        "id": "DAnhSZ3Vh00f",
        "outputId": "6dabfbc8-6307-4090-9afc-018cebf6f525"
      },
      "execution_count": null,
      "outputs": [
        {
          "output_type": "stream",
          "name": "stdout",
          "text": [
            "root\n",
            " |-- longitude: double (nullable = true)\n",
            " |-- latitude: double (nullable = true)\n",
            " |-- housing_median_age: double (nullable = true)\n",
            " |-- total_rooms: double (nullable = true)\n",
            " |-- total_bedrooms: double (nullable = true)\n",
            " |-- population: double (nullable = true)\n",
            " |-- households: double (nullable = true)\n",
            " |-- median_income: double (nullable = true)\n",
            " |-- median_house_value: double (nullable = true)\n",
            " |-- ocean_proximity: string (nullable = true)\n",
            "\n"
          ]
        }
      ]
    },
    {
      "cell_type": "markdown",
      "source": [
        "## Columns"
      ],
      "metadata": {
        "id": "u0XliqzlE2b4"
      }
    },
    {
      "cell_type": "code",
      "source": [
        "df.columns"
      ],
      "metadata": {
        "colab": {
          "base_uri": "https://localhost:8080/"
        },
        "id": "G3aRcVkNhyto",
        "outputId": "11d81834-93dc-4fc9-9e90-26685fb11d24"
      },
      "execution_count": null,
      "outputs": [
        {
          "output_type": "execute_result",
          "data": {
            "text/plain": [
              "['longitude',\n",
              " 'latitude',\n",
              " 'housing_median_age',\n",
              " 'total_rooms',\n",
              " 'total_bedrooms',\n",
              " 'population',\n",
              " 'households',\n",
              " 'median_income',\n",
              " 'median_house_value',\n",
              " 'ocean_proximity']"
            ]
          },
          "metadata": {},
          "execution_count": 19
        }
      ]
    },
    {
      "cell_type": "code",
      "source": [
        "df.select('longitude','latitude').show(10)"
      ],
      "metadata": {
        "colab": {
          "base_uri": "https://localhost:8080/"
        },
        "id": "6l6THTzSEenR",
        "outputId": "82b86e2b-34fc-4b63-d4f1-1de5bfacfac9"
      },
      "execution_count": null,
      "outputs": [
        {
          "output_type": "stream",
          "name": "stdout",
          "text": [
            "+---------+--------+\n",
            "|longitude|latitude|\n",
            "+---------+--------+\n",
            "|  -122.23|   37.88|\n",
            "|  -122.22|   37.86|\n",
            "|  -122.24|   37.85|\n",
            "|  -122.25|   37.85|\n",
            "|  -122.25|   37.85|\n",
            "|  -122.25|   37.85|\n",
            "|  -122.25|   37.84|\n",
            "|  -122.25|   37.84|\n",
            "|  -122.26|   37.84|\n",
            "|  -122.25|   37.84|\n",
            "+---------+--------+\n",
            "only showing top 10 rows\n",
            "\n"
          ]
        }
      ]
    },
    {
      "cell_type": "code",
      "source": [
        "df.withColumnRenamed(\"longitude\",\"long\").show(10)"
      ],
      "metadata": {
        "colab": {
          "base_uri": "https://localhost:8080/"
        },
        "id": "fTssHN0aE1JQ",
        "outputId": "cd893c28-b25d-4a34-c7d3-81fe7b6a8db6"
      },
      "execution_count": null,
      "outputs": [
        {
          "output_type": "stream",
          "name": "stdout",
          "text": [
            "+-------+--------+------------------+-----------+--------------+----------+----------+-------------+------------------+---------------+\n",
            "|   long|latitude|housing_median_age|total_rooms|total_bedrooms|population|households|median_income|median_house_value|ocean_proximity|\n",
            "+-------+--------+------------------+-----------+--------------+----------+----------+-------------+------------------+---------------+\n",
            "|-122.23|   37.88|              41.0|      880.0|         129.0|     322.0|     126.0|       8.3252|          452600.0|       NEAR BAY|\n",
            "|-122.22|   37.86|              21.0|     7099.0|        1106.0|    2401.0|    1138.0|       8.3014|          358500.0|       NEAR BAY|\n",
            "|-122.24|   37.85|              52.0|     1467.0|         190.0|     496.0|     177.0|       7.2574|          352100.0|       NEAR BAY|\n",
            "|-122.25|   37.85|              52.0|     1274.0|         235.0|     558.0|     219.0|       5.6431|          341300.0|       NEAR BAY|\n",
            "|-122.25|   37.85|              52.0|     1627.0|         280.0|     565.0|     259.0|       3.8462|          342200.0|       NEAR BAY|\n",
            "|-122.25|   37.85|              52.0|      919.0|         213.0|     413.0|     193.0|       4.0368|          269700.0|       NEAR BAY|\n",
            "|-122.25|   37.84|              52.0|     2535.0|         489.0|    1094.0|     514.0|       3.6591|          299200.0|       NEAR BAY|\n",
            "|-122.25|   37.84|              52.0|     3104.0|         687.0|    1157.0|     647.0|         3.12|          241400.0|       NEAR BAY|\n",
            "|-122.26|   37.84|              42.0|     2555.0|         665.0|    1206.0|     595.0|       2.0804|          226700.0|       NEAR BAY|\n",
            "|-122.25|   37.84|              52.0|     3549.0|         707.0|    1551.0|     714.0|       3.6912|          261100.0|       NEAR BAY|\n",
            "+-------+--------+------------------+-----------+--------------+----------+----------+-------------+------------------+---------------+\n",
            "only showing top 10 rows\n",
            "\n"
          ]
        }
      ]
    },
    {
      "cell_type": "code",
      "source": [
        "df.withColumnRenamed(\"longitude\",\"long\").withColumnRenamed(\"latitude\",\"lat\").show(10)"
      ],
      "metadata": {
        "colab": {
          "base_uri": "https://localhost:8080/"
        },
        "id": "y_yPnTaUFUh6",
        "outputId": "46a9ce52-4392-40ab-8da0-05f04c99df0a"
      },
      "execution_count": null,
      "outputs": [
        {
          "output_type": "stream",
          "name": "stdout",
          "text": [
            "+-------+-----+------------------+-----------+--------------+----------+----------+-------------+------------------+---------------+\n",
            "|   long|  lat|housing_median_age|total_rooms|total_bedrooms|population|households|median_income|median_house_value|ocean_proximity|\n",
            "+-------+-----+------------------+-----------+--------------+----------+----------+-------------+------------------+---------------+\n",
            "|-122.23|37.88|              41.0|      880.0|         129.0|     322.0|     126.0|       8.3252|          452600.0|       NEAR BAY|\n",
            "|-122.22|37.86|              21.0|     7099.0|        1106.0|    2401.0|    1138.0|       8.3014|          358500.0|       NEAR BAY|\n",
            "|-122.24|37.85|              52.0|     1467.0|         190.0|     496.0|     177.0|       7.2574|          352100.0|       NEAR BAY|\n",
            "|-122.25|37.85|              52.0|     1274.0|         235.0|     558.0|     219.0|       5.6431|          341300.0|       NEAR BAY|\n",
            "|-122.25|37.85|              52.0|     1627.0|         280.0|     565.0|     259.0|       3.8462|          342200.0|       NEAR BAY|\n",
            "|-122.25|37.85|              52.0|      919.0|         213.0|     413.0|     193.0|       4.0368|          269700.0|       NEAR BAY|\n",
            "|-122.25|37.84|              52.0|     2535.0|         489.0|    1094.0|     514.0|       3.6591|          299200.0|       NEAR BAY|\n",
            "|-122.25|37.84|              52.0|     3104.0|         687.0|    1157.0|     647.0|         3.12|          241400.0|       NEAR BAY|\n",
            "|-122.26|37.84|              42.0|     2555.0|         665.0|    1206.0|     595.0|       2.0804|          226700.0|       NEAR BAY|\n",
            "|-122.25|37.84|              52.0|     3549.0|         707.0|    1551.0|     714.0|       3.6912|          261100.0|       NEAR BAY|\n",
            "+-------+-----+------------------+-----------+--------------+----------+----------+-------------+------------------+---------------+\n",
            "only showing top 10 rows\n",
            "\n"
          ]
        }
      ]
    },
    {
      "cell_type": "markdown",
      "source": [
        "## Sort"
      ],
      "metadata": {
        "id": "AlpiYkDkGz9a"
      }
    },
    {
      "cell_type": "code",
      "source": [
        "df.sort(\"median_house_value\").show(10)"
      ],
      "metadata": {
        "colab": {
          "base_uri": "https://localhost:8080/"
        },
        "id": "7XHMjDOvG2Wh",
        "outputId": "ac7ee68d-886c-418d-f68f-f4ab78990dd8"
      },
      "execution_count": null,
      "outputs": [
        {
          "output_type": "stream",
          "name": "stdout",
          "text": [
            "+---------+--------+------------------+-----------+--------------+----------+----------+-------------+------------------+---------------+\n",
            "|longitude|latitude|housing_median_age|total_rooms|total_bedrooms|population|households|median_income|median_house_value|ocean_proximity|\n",
            "+---------+--------+------------------+-----------+--------------+----------+----------+-------------+------------------+---------------+\n",
            "|  -117.86|   34.24|              52.0|      803.0|         267.0|     628.0|     225.0|       4.1932|           14999.0|         INLAND|\n",
            "|  -123.17|   40.31|              36.0|       98.0|          28.0|      18.0|       8.0|        0.536|           14999.0|         INLAND|\n",
            "|  -117.02|    36.4|              19.0|      619.0|         239.0|     490.0|     164.0|          2.1|           14999.0|         INLAND|\n",
            "|  -122.74|   39.71|              16.0|      255.0|          73.0|      85.0|      38.0|       1.6607|           14999.0|         INLAND|\n",
            "|  -118.33|   34.15|              39.0|      493.0|         168.0|     259.0|     138.0|       2.3667|           17500.0|      <1H OCEAN|\n",
            "|  -116.57|   35.43|               8.0|     9975.0|        1743.0|    6835.0|    1439.0|       2.7138|           22500.0|         INLAND|\n",
            "|  -121.29|   37.95|              52.0|      107.0|          79.0|     167.0|      53.0|       0.7917|           22500.0|         INLAND|\n",
            "|  -122.32|   37.93|              33.0|      296.0|          73.0|     216.0|      63.0|        2.675|           22500.0|       NEAR BAY|\n",
            "|  -117.16|   32.71|              52.0|      845.0|         451.0|    1230.0|     375.0|       1.0918|           22500.0|     NEAR OCEAN|\n",
            "|  -114.65|   32.79|              21.0|       44.0|          33.0|      64.0|      27.0|       0.8571|           25000.0|         INLAND|\n",
            "+---------+--------+------------------+-----------+--------------+----------+----------+-------------+------------------+---------------+\n",
            "only showing top 10 rows\n",
            "\n"
          ]
        }
      ]
    },
    {
      "cell_type": "code",
      "source": [
        "from pyspark.sql import functions as F\n",
        "df.sort(F.desc(\"median_house_value\")).show(10)"
      ],
      "metadata": {
        "colab": {
          "base_uri": "https://localhost:8080/"
        },
        "id": "C8nahd1eG_lp",
        "outputId": "b93f5075-11f5-4b6c-87a9-65ac10f4ff87"
      },
      "execution_count": null,
      "outputs": [
        {
          "output_type": "stream",
          "name": "stdout",
          "text": [
            "+---------+--------+------------------+-----------+--------------+----------+----------+-------------+------------------+---------------+\n",
            "|longitude|latitude|housing_median_age|total_rooms|total_bedrooms|population|households|median_income|median_house_value|ocean_proximity|\n",
            "+---------+--------+------------------+-----------+--------------+----------+----------+-------------+------------------+---------------+\n",
            "|  -122.23|   37.82|              52.0|     3494.0|         396.0|    1192.0|     383.0|      12.3804|          500001.0|       NEAR BAY|\n",
            "|  -121.97|   37.87|               4.0|     1029.0|         126.0|     416.0|     122.0|      13.4883|          500001.0|         INLAND|\n",
            "|  -122.25|   37.87|              52.0|      609.0|         236.0|    1349.0|     250.0|       1.1696|          500001.0|       NEAR BAY|\n",
            "|  -122.27|    37.8|              52.0|      249.0|          78.0|     396.0|      85.0|       1.2434|          500001.0|       NEAR BAY|\n",
            "|   -122.0|   37.86|              18.0|     8953.0|        1074.0|    3011.0|     993.0|      10.7372|          500001.0|      <1H OCEAN|\n",
            "|  -122.03|   37.83|              24.0|     5948.0|         738.0|    1997.0|     710.0|       9.8708|          500001.0|       NEAR BAY|\n",
            "|  -121.93|   37.66|              24.0|     3166.0|         424.0|    1081.0|     400.0|       8.3337|          500001.0|      <1H OCEAN|\n",
            "|  -122.24|   37.86|              52.0|     1668.0|         225.0|     517.0|     214.0|       7.8521|          500001.0|       NEAR BAY|\n",
            "|  -122.23|   37.83|              52.0|     2990.0|         379.0|     947.0|     361.0|       7.8772|          500001.0|       NEAR BAY|\n",
            "|  -122.23|   37.82|              52.0|     1611.0|         203.0|     556.0|     179.0|       8.7477|          500001.0|       NEAR BAY|\n",
            "+---------+--------+------------------+-----------+--------------+----------+----------+-------------+------------------+---------------+\n",
            "only showing top 10 rows\n",
            "\n"
          ]
        }
      ]
    },
    {
      "cell_type": "markdown",
      "source": [
        "## Filter"
      ],
      "metadata": {
        "id": "YQg7dFLDI1OK"
      }
    },
    {
      "cell_type": "code",
      "source": [
        "df.filter((df.median_house_value > 500000) & (df.total_rooms >3000) & (df.ocean_proximity == 'INLAND')).show(10)"
      ],
      "metadata": {
        "colab": {
          "base_uri": "https://localhost:8080/"
        },
        "id": "JSdASEEMI15i",
        "outputId": "4f0544a3-809b-444c-f752-438ed1a7b4e4"
      },
      "execution_count": null,
      "outputs": [
        {
          "output_type": "stream",
          "name": "stdout",
          "text": [
            "+---------+--------+------------------+-----------+--------------+----------+----------+-------------+------------------+---------------+\n",
            "|longitude|latitude|housing_median_age|total_rooms|total_bedrooms|population|households|median_income|median_house_value|ocean_proximity|\n",
            "+---------+--------+------------------+-----------+--------------+----------+----------+-------------+------------------+---------------+\n",
            "|  -121.96|   37.85|              10.0|     3209.0|         379.0|    1199.0|     392.0|      12.2478|          500001.0|         INLAND|\n",
            "|  -121.89|   37.82|               4.0|    11444.0|        1355.0|    3898.0|    1257.0|      13.2949|          500001.0|         INLAND|\n",
            "|  -121.91|   37.81|               7.0|     3477.0|         416.0|    1216.0|     395.0|      13.1499|          500001.0|         INLAND|\n",
            "|  -118.02|   34.17|              32.0|     3868.0|         548.0|    1558.0|     528.0|       9.4667|          500001.0|         INLAND|\n",
            "|  -118.05|   34.15|              32.0|     5131.0|         665.0|    1877.0|     622.0|       8.2004|          500001.0|         INLAND|\n",
            "|  -118.09|   34.18|              34.0|     3113.0|         409.0|    1139.0|     418.0|      10.2289|          500001.0|         INLAND|\n",
            "+---------+--------+------------------+-----------+--------------+----------+----------+-------------+------------------+---------------+\n",
            "\n"
          ]
        }
      ]
    },
    {
      "cell_type": "markdown",
      "source": [
        "## Groupby"
      ],
      "metadata": {
        "id": "7d8-nuWnJikU"
      }
    },
    {
      "cell_type": "code",
      "source": [
        "from pyspark.sql import functions as F\n",
        "df.groupBy([\"ocean_proximity\"]).agg(F.sum(\"median_house_value\").alias(\"sum_mhvalue\"),\\\n",
        "    F.max(\"median_house_value\")).alias(\"max_mhvalue\").show()"
      ],
      "metadata": {
        "colab": {
          "base_uri": "https://localhost:8080/"
        },
        "id": "ld2fKVtvJjTS",
        "outputId": "5806d4ad-6855-492c-e810-ef19a114338f"
      },
      "execution_count": null,
      "outputs": [
        {
          "output_type": "stream",
          "name": "stdout",
          "text": [
            "+---------------+-------------+-----------------------+\n",
            "|ocean_proximity|  sum_mhvalue|max(median_house_value)|\n",
            "+---------------+-------------+-----------------------+\n",
            "|         ISLAND|    1902200.0|               450000.0|\n",
            "|     NEAR OCEAN| 6.62995512E8|               500001.0|\n",
            "|       NEAR BAY| 5.93596194E8|               500001.0|\n",
            "|      <1H OCEAN|2.193410032E9|               500001.0|\n",
            "|         INLAND| 8.17600123E8|               500001.0|\n",
            "+---------------+-------------+-----------------------+\n",
            "\n"
          ]
        }
      ]
    },
    {
      "cell_type": "code",
      "source": [
        "_from pyspark.sql import functions as F\n",
        "df.groupBy([\"ocean_proximity\"]).agg(F.sum(\"median_house_value\") ,F.max(\"median_house_value\")).show()"
      ],
      "metadata": {
        "id": "_CgQ5YLdJ7yD"
      },
      "execution_count": null,
      "outputs": []
    },
    {
      "cell_type": "code",
      "source": [
        "#Group by median_income and see the distribution\n",
        "result = df.groupBy(\"median_income\").count().sort(\"median_income\", ascending=False)\n",
        "result.show(10)"
      ],
      "metadata": {
        "colab": {
          "base_uri": "https://localhost:8080/"
        },
        "id": "pQE-wYSfklmo",
        "outputId": "4c9f89a2-0c5b-40c3-a9de-486b2f8a3387"
      },
      "execution_count": null,
      "outputs": [
        {
          "output_type": "stream",
          "name": "stdout",
          "text": [
            "+-------------+-----+\n",
            "|median_income|count|\n",
            "+-------------+-----+\n",
            "|      15.0001|   48|\n",
            "|         15.0|    2|\n",
            "|      14.9009|    1|\n",
            "|      14.5833|    1|\n",
            "|      14.4219|    1|\n",
            "|      14.4113|    1|\n",
            "|      14.2959|    1|\n",
            "|      14.2867|    1|\n",
            "|       13.947|    1|\n",
            "|      13.8556|    1|\n",
            "+-------------+-----+\n",
            "only showing top 10 rows\n",
            "\n"
          ]
        }
      ]
    },
    {
      "cell_type": "code",
      "source": [
        "df.describe().show()"
      ],
      "metadata": {
        "colab": {
          "base_uri": "https://localhost:8080/"
        },
        "id": "LU7uJs2slGYP",
        "outputId": "9fa45745-d6b6-4ed0-c8e3-3e5103791083"
      },
      "execution_count": null,
      "outputs": [
        {
          "output_type": "stream",
          "name": "stdout",
          "text": [
            "+-------+-------------------+------------------+------------------+------------------+------------------+------------------+------------------+------------------+------------------+---------------+\n",
            "|summary|          longitude|          latitude|housing_median_age|       total_rooms|    total_bedrooms|        population|        households|     median_income|median_house_value|ocean_proximity|\n",
            "+-------+-------------------+------------------+------------------+------------------+------------------+------------------+------------------+------------------+------------------+---------------+\n",
            "|  count|              20433|             20433|             20433|             20433|             20433|             20433|             20433|             20433|             20433|          20433|\n",
            "|   mean|-119.57068859198068| 35.63322125972706|28.633093525179856|2636.5042333480155| 537.8705525375618|1424.9469485635982|499.43346547251997|3.8711616013312273|206864.41315519012|           null|\n",
            "| stddev|  2.003577890751096|2.1363476663779872|12.591805202182835| 2185.269566977601|421.38507007403115|1133.2084897449597| 382.2992258828481| 1.899291249306247|115435.66709858322|           null|\n",
            "|    min|            -124.35|             32.54|               1.0|               2.0|               1.0|               3.0|               1.0|            0.4999|           14999.0|      <1H OCEAN|\n",
            "|    max|            -114.31|             41.95|              52.0|           39320.0|            6445.0|           35682.0|            6082.0|           15.0001|          500001.0|     NEAR OCEAN|\n",
            "+-------+-------------------+------------------+------------------+------------------+------------------+------------------+------------------+------------------+------------------+---------------+\n",
            "\n"
          ]
        }
      ]
    },
    {
      "cell_type": "code",
      "source": [
        "(df.describe().select(\n",
        "                    \"summary\",\n",
        "                    F.round(\"longitude\", 4).alias(\"longitude\"),\n",
        "                    F.round(\"latitude\", 4).alias(\"latitude\"),\n",
        "                    F.round(\"housing_median_age\", 4).alias(\"housing_median_age\"),\n",
        "                    F.round(\"total_rooms\", 4).alias(\"total_rooms\"),\n",
        "                    F.round(\"total_bedrooms\", 4).alias(\"total_bedrooms\"),\n",
        "                    F.round(\"population\", 4).alias(\"population\"),\n",
        "                    F.round(\"households\", 4).alias(\"households\"),\n",
        "                    F.round(\"median_income\", 4).alias(\"median_income\"),\n",
        "                    F.round(\"median_house_value\", 4).alias(\"median_house_value\"),\n",
        "                    F.round(\"ocean_proximity\", 4).alias(\"ocean_proximity\"))\n",
        "                    .show())"
      ],
      "metadata": {
        "colab": {
          "base_uri": "https://localhost:8080/"
        },
        "id": "ngVDrZ1AlVaA",
        "outputId": "63d0b9f1-d882-48b2-9e88-05889ee9ead8"
      },
      "execution_count": null,
      "outputs": [
        {
          "output_type": "stream",
          "name": "stdout",
          "text": [
            "+-------+---------+--------+------------------+-----------+--------------+----------+----------+-------------+------------------+---------------+\n",
            "|summary|longitude|latitude|housing_median_age|total_rooms|total_bedrooms|population|households|median_income|median_house_value|ocean_proximity|\n",
            "+-------+---------+--------+------------------+-----------+--------------+----------+----------+-------------+------------------+---------------+\n",
            "|  count|  20433.0| 20433.0|           20433.0|    20433.0|       20433.0|   20433.0|   20433.0|      20433.0|           20433.0|        20433.0|\n",
            "|   mean|-119.5707| 35.6332|           28.6331|  2636.5042|      537.8706| 1424.9469|  499.4335|       3.8712|       206864.4132|           null|\n",
            "| stddev|   2.0036|  2.1363|           12.5918|  2185.2696|      421.3851| 1133.2085|  382.2992|       1.8993|       115435.6671|           null|\n",
            "|    min|  -124.35|   32.54|               1.0|        2.0|           1.0|       3.0|       1.0|       0.4999|           14999.0|           null|\n",
            "|    max|  -114.31|   41.95|              52.0|    39320.0|        6445.0|   35682.0|    6082.0|      15.0001|          500001.0|           null|\n",
            "+-------+---------+--------+------------------+-----------+--------------+----------+----------+-------------+------------------+---------------+\n",
            "\n"
          ]
        }
      ]
    },
    {
      "cell_type": "markdown",
      "source": [
        "Look at the minimum and maximum values of all the (numerical) attributes. We see that multiple attributes have a wide range of values: we will need to normalize your dataset."
      ],
      "metadata": {
        "id": "yJ8rwTugl82w"
      }
    },
    {
      "cell_type": "markdown",
      "source": [
        "# Data Pre-processing"
      ],
      "metadata": {
        "id": "IjXQ0NvGl-Sv"
      }
    },
    {
      "cell_type": "code",
      "source": [
        "#Express the house values in units of 100,000\n",
        "df = df.withColumn(\"median_house_value\", col(\"median_house_value\")/100000)\n",
        "df.show(10)"
      ],
      "metadata": {
        "colab": {
          "base_uri": "https://localhost:8080/"
        },
        "id": "CJ7i5tvPl9T4",
        "outputId": "f805b1b0-86c6-452a-db13-044759d490bb"
      },
      "execution_count": null,
      "outputs": [
        {
          "output_type": "stream",
          "name": "stdout",
          "text": [
            "+---------+--------+------------------+-----------+--------------+----------+----------+-------------+------------------+---------------+\n",
            "|longitude|latitude|housing_median_age|total_rooms|total_bedrooms|population|households|median_income|median_house_value|ocean_proximity|\n",
            "+---------+--------+------------------+-----------+--------------+----------+----------+-------------+------------------+---------------+\n",
            "|  -122.23|   37.88|              41.0|      880.0|         129.0|     322.0|     126.0|       8.3252|             4.526|       NEAR BAY|\n",
            "|  -122.22|   37.86|              21.0|     7099.0|        1106.0|    2401.0|    1138.0|       8.3014|             3.585|       NEAR BAY|\n",
            "|  -122.24|   37.85|              52.0|     1467.0|         190.0|     496.0|     177.0|       7.2574|             3.521|       NEAR BAY|\n",
            "|  -122.25|   37.85|              52.0|     1274.0|         235.0|     558.0|     219.0|       5.6431|             3.413|       NEAR BAY|\n",
            "|  -122.25|   37.85|              52.0|     1627.0|         280.0|     565.0|     259.0|       3.8462|             3.422|       NEAR BAY|\n",
            "|  -122.25|   37.85|              52.0|      919.0|         213.0|     413.0|     193.0|       4.0368|             2.697|       NEAR BAY|\n",
            "|  -122.25|   37.84|              52.0|     2535.0|         489.0|    1094.0|     514.0|       3.6591|             2.992|       NEAR BAY|\n",
            "|  -122.25|   37.84|              52.0|     3104.0|         687.0|    1157.0|     647.0|         3.12|             2.414|       NEAR BAY|\n",
            "|  -122.26|   37.84|              42.0|     2555.0|         665.0|    1206.0|     595.0|       2.0804|             2.267|       NEAR BAY|\n",
            "|  -122.25|   37.84|              52.0|     3549.0|         707.0|    1551.0|     714.0|       3.6912|             2.611|       NEAR BAY|\n",
            "+---------+--------+------------------+-----------+--------------+----------+----------+-------------+------------------+---------------+\n",
            "only showing top 10 rows\n",
            "\n"
          ]
        }
      ]
    },
    {
      "cell_type": "markdown",
      "source": [
        "# Feature Engineering"
      ],
      "metadata": {
        "id": "U_MUvOTXnNE4"
      }
    },
    {
      "cell_type": "markdown",
      "source": [
        "Rooms per household which refers to the number of rooms in households per block group;\n",
        "Population per household, which basically gives us an indication of how many people live in households per block group; And\n",
        "Bedrooms per room which will give us an idea about how many rooms are bedrooms per block group;"
      ],
      "metadata": {
        "id": "ClugwcMdnQv_"
      }
    },
    {
      "cell_type": "code",
      "source": [
        "df = (df.withColumn(\"rooms_per_household\", F.round(col(\"total_rooms\")/col(\"households\"), 2))\n",
        "                       .withColumn(\"population_per_household\", F.round(col(\"population\")/col(\"households\"), 2))\n",
        "                       .withColumn(\"bedrooms_per_room\", F.round(col(\"total_bedrooms\")/col(\"total_rooms\"), 2)))\n",
        "df.show(10)"
      ],
      "metadata": {
        "colab": {
          "base_uri": "https://localhost:8080/"
        },
        "id": "4_S6qxr1nOsH",
        "outputId": "060b9833-96e0-47ca-c40a-412feb64c164"
      },
      "execution_count": null,
      "outputs": [
        {
          "output_type": "stream",
          "name": "stdout",
          "text": [
            "+---------+--------+------------------+-----------+--------------+----------+----------+-------------+------------------+---------------+-------------------+------------------------+-----------------+\n",
            "|longitude|latitude|housing_median_age|total_rooms|total_bedrooms|population|households|median_income|median_house_value|ocean_proximity|rooms_per_household|population_per_household|bedrooms_per_room|\n",
            "+---------+--------+------------------+-----------+--------------+----------+----------+-------------+------------------+---------------+-------------------+------------------------+-----------------+\n",
            "|  -122.23|   37.88|              41.0|      880.0|         129.0|     322.0|     126.0|       8.3252|             4.526|       NEAR BAY|               6.98|                    2.56|             0.15|\n",
            "|  -122.22|   37.86|              21.0|     7099.0|        1106.0|    2401.0|    1138.0|       8.3014|             3.585|       NEAR BAY|               6.24|                    2.11|             0.16|\n",
            "|  -122.24|   37.85|              52.0|     1467.0|         190.0|     496.0|     177.0|       7.2574|             3.521|       NEAR BAY|               8.29|                     2.8|             0.13|\n",
            "|  -122.25|   37.85|              52.0|     1274.0|         235.0|     558.0|     219.0|       5.6431|             3.413|       NEAR BAY|               5.82|                    2.55|             0.18|\n",
            "|  -122.25|   37.85|              52.0|     1627.0|         280.0|     565.0|     259.0|       3.8462|             3.422|       NEAR BAY|               6.28|                    2.18|             0.17|\n",
            "|  -122.25|   37.85|              52.0|      919.0|         213.0|     413.0|     193.0|       4.0368|             2.697|       NEAR BAY|               4.76|                    2.14|             0.23|\n",
            "|  -122.25|   37.84|              52.0|     2535.0|         489.0|    1094.0|     514.0|       3.6591|             2.992|       NEAR BAY|               4.93|                    2.13|             0.19|\n",
            "|  -122.25|   37.84|              52.0|     3104.0|         687.0|    1157.0|     647.0|         3.12|             2.414|       NEAR BAY|                4.8|                    1.79|             0.22|\n",
            "|  -122.26|   37.84|              42.0|     2555.0|         665.0|    1206.0|     595.0|       2.0804|             2.267|       NEAR BAY|               4.29|                    2.03|             0.26|\n",
            "|  -122.25|   37.84|              52.0|     3549.0|         707.0|    1551.0|     714.0|       3.6912|             2.611|       NEAR BAY|               4.97|                    2.17|              0.2|\n",
            "+---------+--------+------------------+-----------+--------------+----------+----------+-------------+------------------+---------------+-------------------+------------------------+-----------------+\n",
            "only showing top 10 rows\n",
            "\n"
          ]
        }
      ]
    },
    {
      "cell_type": "markdown",
      "source": [
        "# Linear Regression"
      ],
      "metadata": {
        "id": "SdJSpJhdvrPk"
      }
    },
    {
      "cell_type": "markdown",
      "source": [
        "## Define X and y"
      ],
      "metadata": {
        "id": "2F4mW2KOn1hI"
      }
    },
    {
      "cell_type": "code",
      "source": [
        "from pyspark.ml.tuning import ParamGridBuilder, CrossValidator, CrossValidatorModel\n",
        "from pyspark.ml.feature import VectorAssembler, StandardScaler\n",
        "from pyspark.ml.evaluation import RegressionEvaluator"
      ],
      "metadata": {
        "id": "0V-qQWjNoWmn"
      },
      "execution_count": null,
      "outputs": []
    },
    {
      "cell_type": "code",
      "source": [
        "X = [\"total_bedrooms\", \"population\", \"households\", \"median_income\", \n",
        "     \"rooms_per_household\", \"population_per_household\", \"bedrooms_per_room\"]\n",
        "\n",
        "assembler = VectorAssembler(inputCols=X, outputCol=\"X\") "
      ],
      "metadata": {
        "id": "gx3eq4bLn3bv"
      },
      "execution_count": null,
      "outputs": []
    },
    {
      "cell_type": "code",
      "source": [
        "#Transform all features into Dense Vector\n",
        "df2 = assembler.transform(df)\n",
        "df2.show(10, truncate=False)"
      ],
      "metadata": {
        "colab": {
          "base_uri": "https://localhost:8080/"
        },
        "id": "dYVTIMVHoZ5n",
        "outputId": "b8add425-4ddb-412a-a4d1-176099ab2834"
      },
      "execution_count": null,
      "outputs": [
        {
          "output_type": "stream",
          "name": "stdout",
          "text": [
            "+---------+--------+------------------+-----------+--------------+----------+----------+-------------+------------------+---------------+-------------------+------------------------+-----------------+--------------------------------------------+\n",
            "|longitude|latitude|housing_median_age|total_rooms|total_bedrooms|population|households|median_income|median_house_value|ocean_proximity|rooms_per_household|population_per_household|bedrooms_per_room|X                                           |\n",
            "+---------+--------+------------------+-----------+--------------+----------+----------+-------------+------------------+---------------+-------------------+------------------------+-----------------+--------------------------------------------+\n",
            "|-122.23  |37.88   |41.0              |880.0      |129.0         |322.0     |126.0     |8.3252       |4.526             |NEAR BAY       |6.98               |2.56                    |0.15             |[129.0,322.0,126.0,8.3252,6.98,2.56,0.15]   |\n",
            "|-122.22  |37.86   |21.0              |7099.0     |1106.0        |2401.0    |1138.0    |8.3014       |3.585             |NEAR BAY       |6.24               |2.11                    |0.16             |[1106.0,2401.0,1138.0,8.3014,6.24,2.11,0.16]|\n",
            "|-122.24  |37.85   |52.0              |1467.0     |190.0         |496.0     |177.0     |7.2574       |3.521             |NEAR BAY       |8.29               |2.8                     |0.13             |[190.0,496.0,177.0,7.2574,8.29,2.8,0.13]    |\n",
            "|-122.25  |37.85   |52.0              |1274.0     |235.0         |558.0     |219.0     |5.6431       |3.413             |NEAR BAY       |5.82               |2.55                    |0.18             |[235.0,558.0,219.0,5.6431,5.82,2.55,0.18]   |\n",
            "|-122.25  |37.85   |52.0              |1627.0     |280.0         |565.0     |259.0     |3.8462       |3.422             |NEAR BAY       |6.28               |2.18                    |0.17             |[280.0,565.0,259.0,3.8462,6.28,2.18,0.17]   |\n",
            "|-122.25  |37.85   |52.0              |919.0      |213.0         |413.0     |193.0     |4.0368       |2.697             |NEAR BAY       |4.76               |2.14                    |0.23             |[213.0,413.0,193.0,4.0368,4.76,2.14,0.23]   |\n",
            "|-122.25  |37.84   |52.0              |2535.0     |489.0         |1094.0    |514.0     |3.6591       |2.992             |NEAR BAY       |4.93               |2.13                    |0.19             |[489.0,1094.0,514.0,3.6591,4.93,2.13,0.19]  |\n",
            "|-122.25  |37.84   |52.0              |3104.0     |687.0         |1157.0    |647.0     |3.12         |2.414             |NEAR BAY       |4.8                |1.79                    |0.22             |[687.0,1157.0,647.0,3.12,4.8,1.79,0.22]     |\n",
            "|-122.26  |37.84   |42.0              |2555.0     |665.0         |1206.0    |595.0     |2.0804       |2.267             |NEAR BAY       |4.29               |2.03                    |0.26             |[665.0,1206.0,595.0,2.0804,4.29,2.03,0.26]  |\n",
            "|-122.25  |37.84   |52.0              |3549.0     |707.0         |1551.0    |714.0     |3.6912       |2.611             |NEAR BAY       |4.97               |2.17                    |0.2              |[707.0,1551.0,714.0,3.6912,4.97,2.17,0.2]   |\n",
            "+---------+--------+------------------+-----------+--------------+----------+----------+-------------+------------------+---------------+-------------------+------------------------+-----------------+--------------------------------------------+\n",
            "only showing top 10 rows\n",
            "\n"
          ]
        }
      ]
    },
    {
      "cell_type": "markdown",
      "source": [
        "## Standardization"
      ],
      "metadata": {
        "id": "OtOooSx1o3ce"
      }
    },
    {
      "cell_type": "code",
      "source": [
        "standardScaler = StandardScaler(inputCol=\"X\", outputCol=\"X_scaled\")\n",
        "scaled_df = standardScaler.fit(df2).transform(df2)\n",
        "scaled_df.select(\"X\", \"X_scaled\").show(10, truncate=False)"
      ],
      "metadata": {
        "colab": {
          "base_uri": "https://localhost:8080/"
        },
        "id": "9AaU7_W2o4vv",
        "outputId": "b427c3c8-2113-49ef-b028-c6d002543858"
      },
      "execution_count": null,
      "outputs": [
        {
          "output_type": "stream",
          "name": "stdout",
          "text": [
            "+--------------------------------------------+---------------------------------------------------------------------------------------------------------------------------------------+\n",
            "|X                                           |X_scaled                                                                                                                               |\n",
            "+--------------------------------------------+---------------------------------------------------------------------------------------------------------------------------------------+\n",
            "|[129.0,322.0,126.0,8.3252,6.98,2.56,0.15]   |[0.306133295081709,0.2841489478008318,0.329584763633844,4.383319305578301,2.8111579992311904,0.245252327599291,2.584777863821999]      |\n",
            "|[1106.0,2401.0,1138.0,8.3014,6.24,2.11,0.16]|[2.6246777082199237,2.1187628064279416,2.976725881073924,4.370788315395149,2.5131269219488006,0.20214156688847812,2.7570963880767994]  |\n",
            "|[190.0,496.0,177.0,7.2574,8.29,2.8,0.13]    |[0.4508940005079435,0.43769527363109495,0.4629881203427808,3.8211095863527547,3.3387535549608263,0.2682447333117245,2.2401408153123996]|\n",
            "|[235.0,558.0,219.0,5.6431,5.82,2.55,0.18]   |[0.5576846848387722,0.4924071828349818,0.5728497082207288,2.971160953888063,2.343974148356093,0.24429431069460625,3.1017334365863993]  |\n",
            "|[280.0,565.0,259.0,3.8462,6.28,2.18,0.17]   |[0.6644753691696009,0.4985843338741303,0.6774797919140126,2.02507119506021,2.529236709910011,0.20884768522127126,2.9294149123315996]   |\n",
            "|[213.0,413.0,193.0,4.0368,4.76,2.14,0.23]   |[0.5054759058325893,0.3644519113097625,0.5048401538200943,2.125424418963927,1.9170647673840209,0.20501561760253234,3.9633260578603995] |\n",
            "|[489.0,1094.0,514.0,3.6591,4.93,2.13,0.19]  |[1.1604587697283388,0.9654004624040683,1.3444965754586968,1.9265607638304854,1.9855313662191645,0.2040576006978476,3.274051960841199]  |\n",
            "|[687.0,1157.0,647.0,3.12,4.8,1.79,0.22]     |[1.6303377807839852,1.0209948217564049,1.6923916037388653,1.6427180408163524,1.933174555345231,0.17148502593856677,3.7910075336055993] |\n",
            "|[665.0,1206.0,595.0,2.0804,4.29,2.03,0.26]  |[1.5781290017778022,1.0642348790304446,1.5563724949375966,1.0953559654212626,1.7277747588398005,0.19447743165100026,4.480281630624799] |\n",
            "|[707.0,1551.0,714.0,3.6912,4.97,2.17,0.2]   |[1.6778003071532424,1.3686801802456214,1.8676469939251157,1.9434618052119612,2.001641154180375,0.2078896683165865,3.4463704850959993]  |\n",
            "+--------------------------------------------+---------------------------------------------------------------------------------------------------------------------------------------+\n",
            "only showing top 10 rows\n",
            "\n"
          ]
        }
      ]
    },
    {
      "cell_type": "markdown",
      "source": [
        "## Train test split"
      ],
      "metadata": {
        "id": "NCexxs3HtQYl"
      }
    },
    {
      "cell_type": "code",
      "source": [
        "rnd_seed=1024\n",
        "np.random.seed=rnd_seed\n",
        "np.random.set_state=rnd_seed\n",
        "\n",
        "train, test = scaled_df.randomSplit([.8,.2], seed=rnd_seed)"
      ],
      "metadata": {
        "id": "-NJDhd3XtOy1"
      },
      "execution_count": null,
      "outputs": []
    },
    {
      "cell_type": "code",
      "source": [
        "train.columns"
      ],
      "metadata": {
        "colab": {
          "base_uri": "https://localhost:8080/"
        },
        "id": "AUPxASWFteZN",
        "outputId": "6df13e21-12b3-430e-95fc-e487892d8548"
      },
      "execution_count": null,
      "outputs": [
        {
          "output_type": "execute_result",
          "data": {
            "text/plain": [
              "['longitude',\n",
              " 'latitude',\n",
              " 'housing_median_age',\n",
              " 'total_rooms',\n",
              " 'total_bedrooms',\n",
              " 'population',\n",
              " 'households',\n",
              " 'median_income',\n",
              " 'median_house_value',\n",
              " 'ocean_proximity',\n",
              " 'rooms_per_household',\n",
              " 'population_per_household',\n",
              " 'bedrooms_per_room',\n",
              " 'X',\n",
              " 'X_scaled']"
            ]
          },
          "metadata": {},
          "execution_count": 90
        }
      ]
    },
    {
      "cell_type": "code",
      "source": [
        "from pyspark.ml.regression import LinearRegression\n",
        "from pyspark.mllib.evaluation import RegressionMetrics\n",
        "\n",
        "lr = (LinearRegression(featuresCol='X_scaled', labelCol=\"median_house_value\", predictionCol='pred_median_house_value', \n",
        "                               maxIter=10, regParam=0.3, elasticNetParam=0.8, standardization=False))\n",
        "\n",
        "model = lr.fit(train)\n",
        "model.coefficients"
      ],
      "metadata": {
        "colab": {
          "base_uri": "https://localhost:8080/"
        },
        "id": "CD5gKqt_tkVF",
        "outputId": "02cd43ce-6cc8-48a4-8b23-1142fdb470da"
      },
      "execution_count": null,
      "outputs": [
        {
          "output_type": "execute_result",
          "data": {
            "text/plain": [
              "DenseVector([0.0, 0.0, 0.0, 0.5297, 0.0, 0.0, 0.0])"
            ]
          },
          "metadata": {},
          "execution_count": 91
        }
      ]
    },
    {
      "cell_type": "code",
      "source": [
        "model.intercept"
      ],
      "metadata": {
        "colab": {
          "base_uri": "https://localhost:8080/"
        },
        "id": "9jeo6xQfuDtp",
        "outputId": "f6d328f2-52b5-488b-f3eb-3d8b1052d2ea"
      },
      "execution_count": null,
      "outputs": [
        {
          "output_type": "execute_result",
          "data": {
            "text/plain": [
              "0.9902407246097965"
            ]
          },
          "metadata": {},
          "execution_count": 92
        }
      ]
    },
    {
      "cell_type": "code",
      "source": [
        "coeff_df = pd.DataFrame({\"Feature\": [\"Intercept\"] + X, \"Co-efficients\": np.insert(model.coefficients.toArray(), 0, model.intercept)})\n",
        "coeff_df = coeff_df[[\"Feature\", \"Co-efficients\"]]\n",
        "coeff_df"
      ],
      "metadata": {
        "colab": {
          "base_uri": "https://localhost:8080/",
          "height": 300
        },
        "id": "--07XcrHuIA9",
        "outputId": "f9fce184-b3a4-42ae-f635-3f907e5af8da"
      },
      "execution_count": null,
      "outputs": [
        {
          "output_type": "execute_result",
          "data": {
            "text/plain": [
              "                    Feature  Co-efficients\n",
              "0                 Intercept       0.990241\n",
              "1            total_bedrooms       0.000000\n",
              "2                population       0.000000\n",
              "3                households       0.000000\n",
              "4             median_income       0.529749\n",
              "5       rooms_per_household       0.000000\n",
              "6  population_per_household       0.000000\n",
              "7         bedrooms_per_room       0.000000"
            ],
            "text/html": [
              "\n",
              "  <div id=\"df-f90c3a8c-5775-45e1-bdc5-2af8ceee1829\">\n",
              "    <div class=\"colab-df-container\">\n",
              "      <div>\n",
              "<style scoped>\n",
              "    .dataframe tbody tr th:only-of-type {\n",
              "        vertical-align: middle;\n",
              "    }\n",
              "\n",
              "    .dataframe tbody tr th {\n",
              "        vertical-align: top;\n",
              "    }\n",
              "\n",
              "    .dataframe thead th {\n",
              "        text-align: right;\n",
              "    }\n",
              "</style>\n",
              "<table border=\"1\" class=\"dataframe\">\n",
              "  <thead>\n",
              "    <tr style=\"text-align: right;\">\n",
              "      <th></th>\n",
              "      <th>Feature</th>\n",
              "      <th>Co-efficients</th>\n",
              "    </tr>\n",
              "  </thead>\n",
              "  <tbody>\n",
              "    <tr>\n",
              "      <th>0</th>\n",
              "      <td>Intercept</td>\n",
              "      <td>0.990241</td>\n",
              "    </tr>\n",
              "    <tr>\n",
              "      <th>1</th>\n",
              "      <td>total_bedrooms</td>\n",
              "      <td>0.000000</td>\n",
              "    </tr>\n",
              "    <tr>\n",
              "      <th>2</th>\n",
              "      <td>population</td>\n",
              "      <td>0.000000</td>\n",
              "    </tr>\n",
              "    <tr>\n",
              "      <th>3</th>\n",
              "      <td>households</td>\n",
              "      <td>0.000000</td>\n",
              "    </tr>\n",
              "    <tr>\n",
              "      <th>4</th>\n",
              "      <td>median_income</td>\n",
              "      <td>0.529749</td>\n",
              "    </tr>\n",
              "    <tr>\n",
              "      <th>5</th>\n",
              "      <td>rooms_per_household</td>\n",
              "      <td>0.000000</td>\n",
              "    </tr>\n",
              "    <tr>\n",
              "      <th>6</th>\n",
              "      <td>population_per_household</td>\n",
              "      <td>0.000000</td>\n",
              "    </tr>\n",
              "    <tr>\n",
              "      <th>7</th>\n",
              "      <td>bedrooms_per_room</td>\n",
              "      <td>0.000000</td>\n",
              "    </tr>\n",
              "  </tbody>\n",
              "</table>\n",
              "</div>\n",
              "      <button class=\"colab-df-convert\" onclick=\"convertToInteractive('df-f90c3a8c-5775-45e1-bdc5-2af8ceee1829')\"\n",
              "              title=\"Convert this dataframe to an interactive table.\"\n",
              "              style=\"display:none;\">\n",
              "        \n",
              "  <svg xmlns=\"http://www.w3.org/2000/svg\" height=\"24px\"viewBox=\"0 0 24 24\"\n",
              "       width=\"24px\">\n",
              "    <path d=\"M0 0h24v24H0V0z\" fill=\"none\"/>\n",
              "    <path d=\"M18.56 5.44l.94 2.06.94-2.06 2.06-.94-2.06-.94-.94-2.06-.94 2.06-2.06.94zm-11 1L8.5 8.5l.94-2.06 2.06-.94-2.06-.94L8.5 2.5l-.94 2.06-2.06.94zm10 10l.94 2.06.94-2.06 2.06-.94-2.06-.94-.94-2.06-.94 2.06-2.06.94z\"/><path d=\"M17.41 7.96l-1.37-1.37c-.4-.4-.92-.59-1.43-.59-.52 0-1.04.2-1.43.59L10.3 9.45l-7.72 7.72c-.78.78-.78 2.05 0 2.83L4 21.41c.39.39.9.59 1.41.59.51 0 1.02-.2 1.41-.59l7.78-7.78 2.81-2.81c.8-.78.8-2.07 0-2.86zM5.41 20L4 18.59l7.72-7.72 1.47 1.35L5.41 20z\"/>\n",
              "  </svg>\n",
              "      </button>\n",
              "      \n",
              "  <style>\n",
              "    .colab-df-container {\n",
              "      display:flex;\n",
              "      flex-wrap:wrap;\n",
              "      gap: 12px;\n",
              "    }\n",
              "\n",
              "    .colab-df-convert {\n",
              "      background-color: #E8F0FE;\n",
              "      border: none;\n",
              "      border-radius: 50%;\n",
              "      cursor: pointer;\n",
              "      display: none;\n",
              "      fill: #1967D2;\n",
              "      height: 32px;\n",
              "      padding: 0 0 0 0;\n",
              "      width: 32px;\n",
              "    }\n",
              "\n",
              "    .colab-df-convert:hover {\n",
              "      background-color: #E2EBFA;\n",
              "      box-shadow: 0px 1px 2px rgba(60, 64, 67, 0.3), 0px 1px 3px 1px rgba(60, 64, 67, 0.15);\n",
              "      fill: #174EA6;\n",
              "    }\n",
              "\n",
              "    [theme=dark] .colab-df-convert {\n",
              "      background-color: #3B4455;\n",
              "      fill: #D2E3FC;\n",
              "    }\n",
              "\n",
              "    [theme=dark] .colab-df-convert:hover {\n",
              "      background-color: #434B5C;\n",
              "      box-shadow: 0px 1px 3px 1px rgba(0, 0, 0, 0.15);\n",
              "      filter: drop-shadow(0px 1px 2px rgba(0, 0, 0, 0.3));\n",
              "      fill: #FFFFFF;\n",
              "    }\n",
              "  </style>\n",
              "\n",
              "      <script>\n",
              "        const buttonEl =\n",
              "          document.querySelector('#df-f90c3a8c-5775-45e1-bdc5-2af8ceee1829 button.colab-df-convert');\n",
              "        buttonEl.style.display =\n",
              "          google.colab.kernel.accessAllowed ? 'block' : 'none';\n",
              "\n",
              "        async function convertToInteractive(key) {\n",
              "          const element = document.querySelector('#df-f90c3a8c-5775-45e1-bdc5-2af8ceee1829');\n",
              "          const dataTable =\n",
              "            await google.colab.kernel.invokeFunction('convertToInteractive',\n",
              "                                                     [key], {});\n",
              "          if (!dataTable) return;\n",
              "\n",
              "          const docLinkHtml = 'Like what you see? Visit the ' +\n",
              "            '<a target=\"_blank\" href=https://colab.research.google.com/notebooks/data_table.ipynb>data table notebook</a>'\n",
              "            + ' to learn more about interactive tables.';\n",
              "          element.innerHTML = '';\n",
              "          dataTable['output_type'] = 'display_data';\n",
              "          await google.colab.output.renderOutput(dataTable, element);\n",
              "          const docLink = document.createElement('div');\n",
              "          docLink.innerHTML = docLinkHtml;\n",
              "          element.appendChild(docLink);\n",
              "        }\n",
              "      </script>\n",
              "    </div>\n",
              "  </div>\n",
              "  "
            ]
          },
          "metadata": {},
          "execution_count": 93
        }
      ]
    },
    {
      "cell_type": "code",
      "source": [
        "predictions = model.transform(test)\n",
        "predandlabels = predictions.select(\"pred_median_house_value\", \"median_house_value\")\n",
        "predandlabels.show(10)"
      ],
      "metadata": {
        "colab": {
          "base_uri": "https://localhost:8080/"
        },
        "id": "8Zu_VkWAucGe",
        "outputId": "e3da6688-ea64-40e6-ab7a-531dba984d50"
      },
      "execution_count": null,
      "outputs": [
        {
          "output_type": "stream",
          "name": "stdout",
          "text": [
            "+-----------------------+------------------+\n",
            "|pred_median_house_value|median_house_value|\n",
            "+-----------------------+------------------+\n",
            "|     1.8310980505664771|             0.946|\n",
            "|     1.5424168111843946|             0.858|\n",
            "|     1.6925310556630775|              0.79|\n",
            "|      1.682099482375261|             0.732|\n",
            "|     1.4654630392563592|             0.783|\n",
            "|     1.4512381665911551|             0.581|\n",
            "|      1.709712470490069|             0.684|\n",
            "|     1.9765822384521723|             0.901|\n",
            "|     1.3993592192239404|             0.646|\n",
            "|      1.797934572921521|             0.864|\n",
            "+-----------------------+------------------+\n",
            "only showing top 10 rows\n",
            "\n"
          ]
        }
      ]
    },
    {
      "cell_type": "code",
      "source": [
        "# The smaller an RMSE value, the closer predicted and observed values are.\n",
        "print(\"RMSE: {0}\".format(model.summary.rootMeanSquaredError))"
      ],
      "metadata": {
        "colab": {
          "base_uri": "https://localhost:8080/"
        },
        "id": "D7vlvQH8uq7u",
        "outputId": "53e9cb91-59e3-4ec5-8dab-56d9e750e454"
      },
      "execution_count": null,
      "outputs": [
        {
          "output_type": "stream",
          "name": "stdout",
          "text": [
            "RMSE: 0.878548267063143\n"
          ]
        }
      ]
    },
    {
      "cell_type": "code",
      "source": [
        "print(\"MAE: {0}\".format(model.summary.meanAbsoluteError))"
      ],
      "metadata": {
        "colab": {
          "base_uri": "https://localhost:8080/"
        },
        "id": "5HKbPdpnutp1",
        "outputId": "87b829d5-7d8d-4382-8f18-8835474f1efa"
      },
      "execution_count": null,
      "outputs": [
        {
          "output_type": "stream",
          "name": "stdout",
          "text": [
            "MAE: 0.6755136983514918\n"
          ]
        }
      ]
    },
    {
      "cell_type": "code",
      "source": [
        "print(\"R2: {0}\".format(model.summary.r2))"
      ],
      "metadata": {
        "colab": {
          "base_uri": "https://localhost:8080/"
        },
        "id": "mLtKfPxAuwSV",
        "outputId": "6fa3b283-cc48-4536-ddf5-05a9f27f8974"
      },
      "execution_count": null,
      "outputs": [
        {
          "output_type": "stream",
          "name": "stdout",
          "text": [
            "R2: 0.4214673669409482\n"
          ]
        }
      ]
    },
    {
      "cell_type": "markdown",
      "source": [
        "# SPARK SQL!!!!!"
      ],
      "metadata": {
        "id": "bmM1UvHFwi61"
      }
    },
    {
      "cell_type": "code",
      "source": [
        "spark.sql(\"select * from df\").show()"
      ],
      "metadata": {
        "colab": {
          "base_uri": "https://localhost:8080/"
        },
        "id": "SFHj70HGwkr8",
        "outputId": "970cb405-2782-4793-ee45-51c6273ac6ab"
      },
      "execution_count": null,
      "outputs": [
        {
          "output_type": "stream",
          "name": "stdout",
          "text": [
            "+---------+--------+------------------+-----------+--------------+----------+----------+-------------+------------------+---------------+-------------------+------------------------+-----------------+\n",
            "|longitude|latitude|housing_median_age|total_rooms|total_bedrooms|population|households|median_income|median_house_value|ocean_proximity|rooms_per_household|population_per_household|bedrooms_per_room|\n",
            "+---------+--------+------------------+-----------+--------------+----------+----------+-------------+------------------+---------------+-------------------+------------------------+-----------------+\n",
            "|  -122.23|   37.88|              41.0|      880.0|         129.0|     322.0|     126.0|       8.3252|             4.526|       NEAR BAY|               6.98|                    2.56|             0.15|\n",
            "|  -122.22|   37.86|              21.0|     7099.0|        1106.0|    2401.0|    1138.0|       8.3014|             3.585|       NEAR BAY|               6.24|                    2.11|             0.16|\n",
            "|  -122.24|   37.85|              52.0|     1467.0|         190.0|     496.0|     177.0|       7.2574|             3.521|       NEAR BAY|               8.29|                     2.8|             0.13|\n",
            "|  -122.25|   37.85|              52.0|     1274.0|         235.0|     558.0|     219.0|       5.6431|             3.413|       NEAR BAY|               5.82|                    2.55|             0.18|\n",
            "|  -122.25|   37.85|              52.0|     1627.0|         280.0|     565.0|     259.0|       3.8462|             3.422|       NEAR BAY|               6.28|                    2.18|             0.17|\n",
            "|  -122.25|   37.85|              52.0|      919.0|         213.0|     413.0|     193.0|       4.0368|             2.697|       NEAR BAY|               4.76|                    2.14|             0.23|\n",
            "|  -122.25|   37.84|              52.0|     2535.0|         489.0|    1094.0|     514.0|       3.6591|             2.992|       NEAR BAY|               4.93|                    2.13|             0.19|\n",
            "|  -122.25|   37.84|              52.0|     3104.0|         687.0|    1157.0|     647.0|         3.12|             2.414|       NEAR BAY|                4.8|                    1.79|             0.22|\n",
            "|  -122.26|   37.84|              42.0|     2555.0|         665.0|    1206.0|     595.0|       2.0804|             2.267|       NEAR BAY|               4.29|                    2.03|             0.26|\n",
            "|  -122.25|   37.84|              52.0|     3549.0|         707.0|    1551.0|     714.0|       3.6912|             2.611|       NEAR BAY|               4.97|                    2.17|              0.2|\n",
            "|  -122.26|   37.85|              52.0|     2202.0|         434.0|     910.0|     402.0|       3.2031|             2.815|       NEAR BAY|               5.48|                    2.26|              0.2|\n",
            "|  -122.26|   37.85|              52.0|     3503.0|         752.0|    1504.0|     734.0|       3.2705|             2.418|       NEAR BAY|               4.77|                    2.05|             0.21|\n",
            "|  -122.26|   37.85|              52.0|     2491.0|         474.0|    1098.0|     468.0|        3.075|             2.135|       NEAR BAY|               5.32|                    2.35|             0.19|\n",
            "|  -122.26|   37.84|              52.0|      696.0|         191.0|     345.0|     174.0|       2.6736|             1.913|       NEAR BAY|                4.0|                    1.98|             0.27|\n",
            "|  -122.26|   37.85|              52.0|     2643.0|         626.0|    1212.0|     620.0|       1.9167|             1.592|       NEAR BAY|               4.26|                    1.95|             0.24|\n",
            "|  -122.26|   37.85|              50.0|     1120.0|         283.0|     697.0|     264.0|        2.125|               1.4|       NEAR BAY|               4.24|                    2.64|             0.25|\n",
            "|  -122.27|   37.85|              52.0|     1966.0|         347.0|     793.0|     331.0|        2.775|             1.525|       NEAR BAY|               5.94|                     2.4|             0.18|\n",
            "|  -122.27|   37.85|              52.0|     1228.0|         293.0|     648.0|     303.0|       2.1202|             1.555|       NEAR BAY|               4.05|                    2.14|             0.24|\n",
            "|  -122.26|   37.84|              50.0|     2239.0|         455.0|     990.0|     419.0|       1.9911|             1.587|       NEAR BAY|               5.34|                    2.36|              0.2|\n",
            "|  -122.27|   37.84|              52.0|     1503.0|         298.0|     690.0|     275.0|       2.6033|             1.629|       NEAR BAY|               5.47|                    2.51|              0.2|\n",
            "+---------+--------+------------------+-----------+--------------+----------+----------+-------------+------------------+---------------+-------------------+------------------------+-----------------+\n",
            "only showing top 20 rows\n",
            "\n"
          ]
        }
      ]
    },
    {
      "cell_type": "code",
      "source": [
        "spark.sql(\"select rooms_per_household, population_per_household, bedrooms_per_room from df order by median_house_value asc\").show()"
      ],
      "metadata": {
        "colab": {
          "base_uri": "https://localhost:8080/"
        },
        "id": "m1JpjnnYwlo8",
        "outputId": "2558c31f-73fd-40a2-c461-742bbc79a869"
      },
      "execution_count": null,
      "outputs": [
        {
          "output_type": "stream",
          "name": "stdout",
          "text": [
            "+-------------------+------------------------+-----------------+\n",
            "|rooms_per_household|population_per_household|bedrooms_per_room|\n",
            "+-------------------+------------------------+-----------------+\n",
            "|               3.57|                    2.79|             0.33|\n",
            "|              12.25|                    2.25|             0.29|\n",
            "|               6.71|                    2.24|             0.29|\n",
            "|               3.77|                    2.99|             0.39|\n",
            "|               3.57|                    1.88|             0.34|\n",
            "|               2.25|                    3.28|             0.53|\n",
            "|               6.93|                    4.75|             0.17|\n",
            "|               2.02|                    3.15|             0.74|\n",
            "|                4.7|                    3.43|             0.25|\n",
            "|               1.63|                    2.37|             0.75|\n",
            "|                4.9|                    2.75|             0.21|\n",
            "|                5.7|                    2.95|              0.2|\n",
            "|               6.47|                    1.93|             0.25|\n",
            "|               6.28|                     4.4|             0.18|\n",
            "|               8.71|                    1.86|             0.28|\n",
            "|                5.5|                    2.82|             0.19|\n",
            "|               10.4|                    2.55|             0.24|\n",
            "|               2.65|                    2.76|             0.42|\n",
            "|               4.28|                    2.32|             0.27|\n",
            "|               3.71|                    2.01|             0.29|\n",
            "+-------------------+------------------------+-----------------+\n",
            "only showing top 20 rows\n",
            "\n"
          ]
        }
      ]
    },
    {
      "cell_type": "code",
      "source": [
        "spark.sql(\"select total_rooms, median_house_value from df where median_house_value > 5 order by total_rooms\").show()"
      ],
      "metadata": {
        "colab": {
          "base_uri": "https://localhost:8080/"
        },
        "id": "alMPvZQex4as",
        "outputId": "7ab16859-c1a9-4ba8-eada-2c2984868181"
      },
      "execution_count": null,
      "outputs": [
        {
          "output_type": "stream",
          "name": "stdout",
          "text": [
            "+-----------+------------------+\n",
            "|total_rooms|median_house_value|\n",
            "+-----------+------------------+\n",
            "|        8.0|           5.00001|\n",
            "|       30.0|           5.00001|\n",
            "|       42.0|           5.00001|\n",
            "|       45.0|           5.00001|\n",
            "|       56.0|           5.00001|\n",
            "|       58.0|           5.00001|\n",
            "|       70.0|           5.00001|\n",
            "|       91.0|           5.00001|\n",
            "|      102.0|           5.00001|\n",
            "|      187.0|           5.00001|\n",
            "|      189.0|           5.00001|\n",
            "|      204.0|           5.00001|\n",
            "|      204.0|           5.00001|\n",
            "|      211.0|           5.00001|\n",
            "|      238.0|           5.00001|\n",
            "|      240.0|           5.00001|\n",
            "|      243.0|           5.00001|\n",
            "|      249.0|           5.00001|\n",
            "|      249.0|           5.00001|\n",
            "|      250.0|           5.00001|\n",
            "+-----------+------------------+\n",
            "only showing top 20 rows\n",
            "\n"
          ]
        }
      ]
    }
  ]
}