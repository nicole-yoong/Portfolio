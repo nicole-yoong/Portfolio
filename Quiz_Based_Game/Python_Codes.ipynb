{
  "nbformat": 4,
  "nbformat_minor": 0,
  "metadata": {
    "interpreter": {
      "hash": "767d51c1340bd893661ea55ea3124f6de3c7a262a8b4abca0554b478b1e2ff90"
    },
    "kernelspec": {
      "display_name": "Python 2.7.16 64-bit",
      "language": "python",
      "name": "python3"
    },
    "language_info": {
      "codemirror_mode": {
        "name": "ipython",
        "version": 3
      },
      "file_extension": ".py",
      "mimetype": "text/x-python",
      "name": "python",
      "nbconvert_exporter": "python",
      "pygments_lexer": "ipython3",
      "version": "3.8.8"
    },
    "orig_nbformat": 4,
    "colab": {
      "provenance": [],
      "toc_visible": true,
      "include_colab_link": true
    }
  },
  "cells": [
    {
      "cell_type": "markdown",
      "metadata": {
        "id": "view-in-github",
        "colab_type": "text"
      },
      "source": [
        "<a href=\"https://colab.research.google.com/github/nicole-yoong/Portfolio/blob/main/Quiz_Based_Game/Python_Codes.ipynb\" target=\"_parent\"><img src=\"https://colab.research.google.com/assets/colab-badge.svg\" alt=\"Open In Colab\"/></a>"
      ]
    },
    {
      "cell_type": "markdown",
      "metadata": {
        "id": "r8bBOusT5mn_"
      },
      "source": [
        "Import modules"
      ]
    },
    {
      "cell_type": "code",
      "metadata": {
        "id": "29cFXWQa5moA"
      },
      "source": [
        "import time \n",
        "import random"
      ],
      "execution_count": null,
      "outputs": []
    },
    {
      "cell_type": "markdown",
      "metadata": {
        "id": "ZhMLYU4F5moB"
      },
      "source": [
        "#Signup and Login"
      ]
    },
    {
      "cell_type": "code",
      "metadata": {
        "id": "R53nyEE25moB"
      },
      "source": [
        "# define action to be taken when users enter the game, either login or signup \n",
        "def action():\n",
        "        user_info = {}\n",
        "        while True:\n",
        "            login_or_signup = input('Do you want to Login or Signup?')\n",
        "            login_or_signup = login_or_signup.lower()\n",
        "            if login_or_signup == \"login\":\n",
        "                login(user_info)\n",
        "            if login_or_signup == \"signup\":\n",
        "                signup(user_info)\n",
        "            else:\n",
        "                print ('Please enter only login or signup')\n",
        "                return action()\n",
        "\n",
        "# user login\n",
        "def login(user_info): \n",
        "      attempts = 0\n",
        "      while attempts < 3:\n",
        "\n",
        "        user1 = input('username')\n",
        "        user1 = user1.lower()\n",
        "        password1 = input('password')\n",
        "        password1 = password1.lower()\n",
        "        Result = False\n",
        "\n",
        "        with open('/content/Empty Database Template.txt', 'r') as f: \n",
        "            for line in f:\n",
        "                    if user1 in line:\n",
        "                          global variables \n",
        "                          variables = line\n",
        "\n",
        "                          if(user1 + \",\" + password1) == variables.split(\"//Character_creation\")[0]:\n",
        "                            Result = True    \n",
        "                          \n",
        "                          if(Result == True):\n",
        "                            print(\"Successful login attempt.\")\n",
        "                            return intro()\n",
        "\n",
        "                          elif(Result == False):\n",
        "                            attempts += 1\n",
        "                            print(\"Unsuccessful login attempt. Either the username or password is incorrect. Please try again.\")\n",
        "\n",
        "                            if attempts == 3:\n",
        "                                print('Max attempts reached. Please try again later.')\n",
        "                                \n",
        "                            \n",
        "\n",
        "# user signup\n",
        "def signup(user_info):\n",
        "          with open('/content/Empty Database Template.txt', 'r') as f:\n",
        "            \n",
        "                  user2 = input(\"Username:\")\n",
        "                  user2 = user2.lower()\n",
        "                  password2 = input(\"Password:\")\n",
        "                  password2 = password2.lower()\n",
        "                  lines = f.read()\n",
        "\n",
        "                  if user2 in lines:\n",
        "                      print ('Username exists. Choose another username.')\n",
        "                      signup(user_info)\n",
        "                  else:\n",
        "                    print(\"Successful signup. \")\n",
        "                    print(\"Hey kiddo! Welcome to the Eistein Land\\n. Let's now proceed to our first task - creating your own little Eistein character!\\n\")\n",
        "                    \n",
        "                    #character creation\n",
        "                    character_name = input(\"What name do you want your character to have?\")\n",
        "                    birthday = input(\"When is the birthday of your character? Enter dd/mm/yyyy\")\n",
        "                    gender = input(\"Select the gender. Type F for female and M for male.\")\n",
        "                    print(\"Good job! Tell me more about your personality now!\\n\")\n",
        "                    personality = input(\"Choose either A, B, C or D that describes you the most.\\n(A) I am a bibliogrpher who loves reading tonnes of books everyday and share knowlegdes with all my cutie friends! \\n(B) I am an active atheletes who enjoys all the outdoor activities and I can't wait for my mum to bring me to the playground and meet my little pals! \\n(C) I am a little chef who does not only love eating, but also bake the most delicious cheesecake with strawberry toppings! \\n(D) I am a computer geek who spends most of my time surfing internet and looking for the new cool stuff online. I can't tell you how much I am intrigued with digital and online stuff!\\n\")\n",
        "                    \n",
        "                    # define game level, all their game level will be empty since they have not started any game\n",
        "                    science_level = {}\n",
        "                    history_level = {}\n",
        "                    music_level = {}\n",
        "\n",
        "                    # store inside the text file\n",
        "                    f = open(\"/content/Empty Database Template.txt\",\"a+\")\n",
        "                    f.write(f\"{user2},{password2}//Character_creation {character_name},{birthday},{gender},{personality}//Game_level,{science_level},{history_level},{music_level}\\n\")\n",
        "                    f.close()\n",
        "                    print(\"Successful character creation. Please login to start game.\")\n",
        "\n",
        "\n",
        "                    # login to start the game\n",
        "                    return login(user_info)\n",
        "\n",
        "\n",
        "\n",
        "\n",
        "action()"
      ],
      "execution_count": null,
      "outputs": []
    },
    {
      "cell_type": "markdown",
      "metadata": {
        "id": "0W5-ApVB5moD"
      },
      "source": [
        "TESTING TESTING "
      ]
    },
    {
      "cell_type": "code",
      "metadata": {
        "id": "5DQIMLXS5moD",
        "colab": {
          "base_uri": "https://localhost:8080/"
        },
        "outputId": "0137541c-16a5-4484-95fc-efbc963ab56c"
      },
      "source": [
        "print(variables)"
      ],
      "execution_count": null,
      "outputs": [
        {
          "output_type": "stream",
          "name": "stdout",
          "text": [
            "ryan,ryan123//Character_creation littlejackson,12/12/2020,m,b//Game_level,{},{},{}\n",
            "\n"
          ]
        }
      ]
    },
    {
      "cell_type": "markdown",
      "metadata": {
        "id": "RTrG-lyi5moD"
      },
      "source": [
        "#Level Updates"
      ]
    },
    {
      "cell_type": "code",
      "metadata": {
        "id": "Mc-npYUQ5moD"
      },
      "source": [
        "# save and load progress \n",
        "def science_level_to_start():\n",
        "          \n",
        "          level = variables.split(\"//Game_level,\")[-1].split(',')[0]\n",
        "          print (level) \n",
        "\n",
        "          if level == 'level_1':\n",
        "            return Science_Question1()\n",
        "\n",
        "          elif level == 'level_2':\n",
        "            return Science_Question2()\n",
        "          \n",
        "          elif level == '{}':\n",
        "            return Science_Question1()\n",
        "\n",
        "science_level_to_start()"
      ],
      "execution_count": null,
      "outputs": []
    },
    {
      "cell_type": "markdown",
      "metadata": {
        "id": "SJaPSIf35moE"
      },
      "source": [
        "#Save and Load Progress"
      ]
    },
    {
      "cell_type": "code",
      "metadata": {
        "id": "D1u-vgkp5moE"
      },
      "source": [
        "def score_check():\n",
        "  \n",
        "    # update score in the txt file \n",
        "    def score_update():\n",
        "            \n",
        "            with open('/content/Empty Database Template.txt', 'a+') as f:\n",
        "                  lastlevel = variables.split(\"//Game_level,\")[-1].split(',')[0]\n",
        "                  global replacement\n",
        "                  replacement = variables.replace(lastlevel,'level_2',1)\n",
        "                  f.write(replacement)\n",
        "                  f.close()\n",
        "                  print(replacement)\n",
        "\n",
        "    score_update()            \n",
        "\n",
        "    # check if the score is updated in the txt file successfully \n",
        "    def score_update_check():\n",
        "          \n",
        "          with open('/content/Empty Database Template.txt', 'r') as f:\n",
        "                lines = f.readlines()\n",
        "                if replacement in lines:\n",
        "                  print ('Successful score update')\n",
        "                else:\n",
        "                  print ('Unsuccessful score update')\n",
        "\n",
        "    score_update_check()         \n",
        "\n",
        "score_check()"
      ],
      "execution_count": null,
      "outputs": []
    },
    {
      "cell_type": "markdown",
      "metadata": {
        "id": "ormNasTe5moE"
      },
      "source": [
        "#Game Introduction"
      ]
    },
    {
      "cell_type": "code",
      "metadata": {
        "id": "_b-oR54Q5moE"
      },
      "source": [
        "def intro():\n",
        "\n",
        "\twelcome_graphic()\n",
        "\n",
        "\t# game introduction\n",
        "\tdef introsub():\n",
        "\t\t\tprint(\"Hey kiddo!\")\n",
        "\t\t\tprint(\"Now, you walk in to an unfamiliar environment.\\n\")\n",
        "\t\t\tprint(\"As you're walking, you see a giant Earth display suspended high up inside the centre and you’re walking towards it.\\n\")\n",
        "\t\t\tprint(\"Let's see what's in there for you!\\n\")\n",
        "\t\t\tprint(\"There is a mysterious white table under the hanging Earth and an envelope on it.\\n\")\n",
        "\t\t\tprint(\"As you're walking, you see a giant Earth display suspended high up inside the centre and you’re walking towards it.\\n\")\n",
        "\t\t\tprint(\"Here is a mysterious white table under the hanging Earth and an envelope on it.\")\n",
        "\t\t\tprint(\"1 - Open the envelope\")\n",
        "\t\t\tprint(\"2 - Walk away\")\n",
        " \n",
        "\n",
        "\t\t\twhile True:\n",
        "\t\t\t\tenvelope = input()\n",
        "\t\t\t\tif int(envelope) == 1:\n",
        "\t\t\t\t\t\tprint(\"You slowly open the envelope and white magical light glowing out from the envelope.\\n\")\n",
        "\t\t\t\t\t\tprint(\"“We’re looking for a smart little Einstein to join us in our magic booah-booah drink invention.“\\n\")\n",
        "\t\t\t\t\t\tprint(\"“Show us if you’re the one if you can solve the 10 tricky questions! Let the journey begin!“\\n\")\n",
        "\t\t\t\t\t\treturn start_game()\n",
        "\t\t\t\telif int(envelope) == 2:\n",
        "\t\t\t\t\t\tprint(\"That's such a shame! See you later kiddo!\\n\")\n",
        "\t\t\t\t\t\tprint(\"Type '1' if you have changed your mind!\\n\")\n",
        "\t\t\t\telse:\n",
        "\t\t\t\t\t\tprint(\"Enter either 1 or 2:\")\n",
        "\t\t\t\t\n",
        "\t\t\t\n",
        "\t# start game by selecting game area \n",
        "\tdef start_game():\n",
        "\t\tstart_game = input('\\n\\033[1m' + \"Type 'Start' to start game now!\\n\")\n",
        "\t\tstart_game = start_game.lower()\n",
        "\t\tif start_game == 'start':\n",
        "\t\t\treturn question_areas()\n",
        "\n",
        "\tintrosub()\n",
        " \n",
        "intro()"
      ],
      "execution_count": null,
      "outputs": []
    },
    {
      "cell_type": "markdown",
      "metadata": {
        "id": "DhQD8lqy5moF"
      },
      "source": [
        "#Game Areas/Locations Selection"
      ]
    },
    {
      "cell_type": "code",
      "metadata": {
        "id": "SMeMA-iG5moF"
      },
      "source": [
        "def question_areas():\n",
        "      print('Select area of your interest.\\n')\n",
        "      print ('\\n(A) Science \\n(B) History \\n(C) Music')\n",
        "\n",
        "      while True:\n",
        "        area = input()\n",
        "        area = area.upper()\n",
        "        if area == 'A':\n",
        "          print(\"\\nLET THE BALL START ROLLING!!!\")\n",
        "          science_level_to_start()\n",
        "          time.sleep(1)\n",
        "        elif area == 'B':\n",
        "          history_graphic()\n",
        "          print(\"\\nLET THE BALL START ROLLING!!!\")\n",
        "          time.sleep(1)\n",
        "          History_Question()\n",
        "        elif area == 'C':\n",
        "          music_graphic()\n",
        "          print(\"\\nLET THE BALL START ROLLING!!!\")\n",
        "          time.sleep(1)\n",
        "          Music_Question()\n",
        "        else:\n",
        "          print(\"Enter either A, B, C or D\")\n",
        "\n",
        "question_areas()"
      ],
      "execution_count": null,
      "outputs": []
    },
    {
      "cell_type": "markdown",
      "metadata": {
        "id": "Tw401Skf5moF"
      },
      "source": [
        "#Graphics"
      ]
    },
    {
      "cell_type": "code",
      "metadata": {
        "id": "fz9hUZbC5moF"
      },
      "source": [
        "def science_graphic():\n",
        "\n",
        "    alphabets = {'S': [' ****', '*    ', '**** ', '    *', '**** '],\n",
        "                 'C': [' ****', '*    ', '*    ', '*    ', ' ****'],\n",
        "                 'I': ['*****', '  *  ', '  *  ', '  *  ', '*****'],\n",
        "                 'E': ['*****', '*    ', '*****', '*    ', '*****'],\n",
        "                 'N': ['*   *', '**  *', '* * *', '*  **', '*   *']}\n",
        "\n",
        "    string = \"SCIENCE\"\n",
        "\n",
        "    for x in range(5):\n",
        "        for word in range(len(string)):\n",
        "            selection = string[word].upper()\n",
        "            if word == len(string)-1 :\n",
        "                print(alphabets[selection][x])\n",
        "            else :\n",
        "                print(alphabets[selection][x],end='  ')            \n",
        "\n",
        "science_graphic()\n",
        "\n",
        "\n",
        "\n",
        "def music_graphic():\n",
        "\n",
        "    alphabets = {'M': ['*   *', '** **', '* * *', '*   *', '*   *'],\n",
        "                 'U': ['*   *', '*   *', '*   *', '*   *', ' *** '],\n",
        "                 'S': [' ****', '*    ', '**** ', '    *', '**** '],\n",
        "                 'I': ['*****', '  *  ', '  *  ', '  *  ', '*****'],\n",
        "                 'C': [' ****', '*    ', '*    ', '*    ', ' ****']}\n",
        "\n",
        "    string = \"MUSIC\"\n",
        "\n",
        "    for x in range(5):\n",
        "        for word in range(len(string)):\n",
        "            selection = string[word].upper()\n",
        "            if word == len(string)-1 :\n",
        "                print(alphabets[selection][x])\n",
        "            else :\n",
        "                print(alphabets[selection][x],end='  ')            \n",
        "\n",
        "music_graphic()\n",
        "\n",
        "\n",
        "def history_graphic():\n",
        "\n",
        "    alphabets = {'H': ['*   *', '*   *', '*****', '*   *', '*   *'],\n",
        "                 'I': ['*****', '  *  ', '  *  ', '  *  ', '*****'],\n",
        "                 'S': [' ****', '*    ', '**** ', '    *', '**** '],\n",
        "                 'T': ['*****', '  *  ', '  *  ', '  *  ', '  *  '],\n",
        "                 'O': [' *** ', '*   *', '*   *', '*   *', ' *** '],\n",
        "                 'R': ['**** ', '*   *', '**** ', '*  * ', '*   *'],\n",
        "                 'Y': ['*   *', ' * * ', '  *  ', '  *  ', '  *  ']}\n",
        "\n",
        "    string = \"HISTORY\"\n",
        "\n",
        "    for x in range(5):\n",
        "        for word in range(len(string)):\n",
        "            selection = string[word].upper()\n",
        "            if word == len(string)-1 :\n",
        "                print(alphabets[selection][x])\n",
        "            else :\n",
        "                print(alphabets[selection][x],end='  ')            \n",
        "\n",
        "history_graphic()\n",
        "\n",
        "\n",
        "\n",
        "def welcome_graphic():\n",
        "\n",
        "    alphabets = {'W': ['*   *', '*   *', '* * *', '** **', '*   *'],\n",
        "                 'E': ['*****', '*    ', '*****', '*    ', '*****'],\n",
        "                 'L': ['*    ', '*    ', '*    ', '*    ', '*****'],\n",
        "                 'C': [' ****', '*    ', '*    ', '*    ', ' ****'],\n",
        "                 'O': [' *** ', '*   *', '*   *', '*   *', ' *** '],\n",
        "                 'M': ['*   *', '** **', '* * *', '*   *', '*   *'],\n",
        "                 'E': ['*****', '*    ', '*****', '*    ', '*****']}\n",
        "\n",
        "    string = \"WELCOME\"\n",
        "\n",
        "    for x in range(5):\n",
        "        for word in range(len(string)):\n",
        "            selection = string[word].upper()\n",
        "            if word == len(string)-1 :\n",
        "                print(alphabets[selection][x])\n",
        "            else :\n",
        "                print(alphabets[selection][x],end='  ')            \n",
        "\n",
        "welcome_graphic()\n",
        "\n",
        "def winner():\n",
        "  for i in range(8//2-1):\n",
        "      for j in range(9):\n",
        "        \n",
        "          if i == 8//2-2 and (j == 0 or j == 8):\n",
        "              print(\"*\", end=\" \")\n",
        "\n",
        "          elif j <= 9//2 and ((i+j == 8//2-3 and j <= 9//4) \\\n",
        "                              or (j-i == 9//2-8//2+3 and j > 9//4)):\n",
        "              print(\"*\", end=\" \")\n",
        "\n",
        "          elif j > 9//2 and ((i+j == 8//2-3+9//2 and j < 27//4) \\\n",
        "                            or (j-i == 9//2-8//2+3+9//2 and j >= 27//4)):\n",
        "              print(\"*\", end=\" \")\n",
        "\n",
        "          else:\n",
        "              print(\" \", end=\" \")\n",
        "      print()\n",
        "    \n",
        "\n",
        "  for i in range(8//2-1, 8):\n",
        "      for j in range(9):\n",
        "            \n",
        "\n",
        "          if (i-j == 8//2-1) or (i+j == 8-1+9//2):\n",
        "              print('*', end=\" \")\n",
        "              \n",
        "          elif i == 8//2-1:\n",
        "                \n",
        "              if j == 9//2-1:\n",
        "                  print('W', end=\" \")\n",
        "              elif j == 9//2+1:\n",
        "                  print('N', end=\" \")\n",
        "              elif j == 9//2:\n",
        "                  print('I', end=\" \")\n",
        "              else:\n",
        "                  print(' ', end=\" \")\n",
        "          else:\n",
        "              print(' ', end=\" \")\n",
        "                \n",
        "      print()\n",
        "winner()"
      ],
      "execution_count": null,
      "outputs": []
    },
    {
      "cell_type": "markdown",
      "metadata": {
        "id": "afi7sv4q5moG"
      },
      "source": [
        "#Science Questions Level 1"
      ]
    },
    {
      "cell_type": "code",
      "metadata": {
        "id": "euaCWTSr5moG"
      },
      "source": [
        "def Science_Question1():\n",
        "\n",
        "\n",
        "    class Question:\n",
        "        def __init__(self, prompt, answer, explaination):\n",
        "              self.prompt = prompt\n",
        "              self.answer = answer\n",
        "              self.explaination = explaination\n",
        "\n",
        "\n",
        "    question_prompts = [\n",
        "        \"\\nWhat is the nearest planet to the Sun? \\n(A) Jupiter \\n(B) Mercury \\n(C) Earth \\n(D) Venus\",\n",
        "        \"\\nWhat mineral is essential for our bones? \\n(A) Calcium \\n(B) Iron \\n(C) Potassium \\n(D) Sodium\",\n",
        "\n",
        "\n",
        "    ]\n",
        "\n",
        "    explainations = [\n",
        "        \"\\nMercury is the smallest planet in the \\nSolar System and the closest to the Sun. \\nIts orbit around the Sun takes 87.97 Earth days, \\nthe shortest of all the Sun's planets.\",\n",
        "        \"\\nYou need sufficient calcium to keep your bones healthy \\nand vitamin D to help your body absorb calcium. \\nPoor bone health can cause conditions such as \\nrickets and osteoporosis and increase the risk of breaking a bone from a fall later in life.\",\n",
        "    ]\n",
        "\n",
        "    questions = [\n",
        "        Question(question_prompts[0], 'B', explainations[0]),\n",
        "        Question(question_prompts[1], 'A', explainations[1]),\n",
        "\n",
        "    ]\n",
        "\n",
        "    # to shuffle the questions so everytime when player restart they will see different questions\n",
        "    random.shuffle(questions)\n",
        "\n",
        "\n",
        "    def run_quiz(questions):\n",
        "        score = 0\n",
        "        level = 0\n",
        "        for question in questions:\n",
        "            answer = input(question.prompt)\n",
        "            answer = answer.upper()\n",
        "            Result = True\n",
        "            \n",
        "            if answer == question.answer:\n",
        "              score += 1\n",
        "              print('\\n\\033[1m' + 'You are right! That is amazing!', question.explaination + '\\033[0m')\n",
        "            else:\n",
        "              print ('\\n\\033[1m' + '\\nThe answer should be',  question.answer, '.' , question.explaination + '\\033[0m') \n",
        "              print ('\\nKeep it up! Try the game again!\\n')\n",
        "\n",
        "              time.sleep(1)\n",
        "              Question_Areas()\n",
        "\n",
        "        # update score to the text file when user completes all the questions successfully\n",
        "        if score == 2:\n",
        "            winner()\n",
        "            score_check()\n",
        "            choice = input('Awesome!! You have completed all the questions succesfully! Choose if you want to proceed to the next level go back to the location selection. Select P to proceed and L to select new location.')\n",
        "            choice = choice.upper()\n",
        "            # choose to either go back to the area selection or proceed to the next level\n",
        "            if choice == 'P':\n",
        "                return Science_Question2()\n",
        "            elif choice == 'L':\n",
        "                return Question_Areas()\n",
        "\n",
        "\n",
        "    \n",
        "    run_quiz(questions)\n",
        "\n",
        "Science_Question1()"
      ],
      "execution_count": null,
      "outputs": []
    },
    {
      "cell_type": "markdown",
      "metadata": {
        "id": "lfJlRgly5moG"
      },
      "source": [
        "#Science Questions Level 2"
      ]
    },
    {
      "cell_type": "code",
      "metadata": {
        "id": "P2liV6j65moG"
      },
      "source": [
        "def Science_Question2():\n",
        "\n",
        "\n",
        "    class Question:\n",
        "        def __init__(self, prompt, answer, explaination):\n",
        "              self.prompt = prompt\n",
        "              self.answer = answer\n",
        "              self.explaination = explaination\n",
        "\n",
        "\n",
        "    question_prompts = [\n",
        "        \"\\nWhich of the following is the first calculating device? \\n(A) Abacus \\n(B) Calculator \\n(C) Turing Machine \\n(D) Pascaline\",\n",
        "        \"\\nWho invented mechanical calculator called Pascaline? \\n(A) Charles Babbage \\n(B) Blaise Pascal \\n(C) Alan Turing \\n(D) Lee De Forest\",\n",
        "\n",
        "\n",
        "    ]\n",
        "\n",
        "    explainations = [\n",
        "        \"\\nThe type of Abacus most commonly used today was invented in China around the 2nd century B.C. However, Abacus-like devices are first attested from ancient Mesopotamia around 2700 B.C.\",\n",
        "        \"\\nPascal's calculator is a mechanical calculator invented by Blaise Pascal in the mid 17th century.\",\n",
        "        \n",
        "    ]\n",
        "\n",
        "    questions = [\n",
        "        Question(question_prompts[0], 'A', explainations[0]),\n",
        "        Question(question_prompts[1], 'B', explainations[1]),\n",
        "\n",
        "    ]\n",
        "\n",
        "    # to shuffle the questions so everytime when player restart they will see different questions\n",
        "    random.shuffle(questions)\n",
        "\n",
        "\n",
        "    def run_quiz(questions):\n",
        "        score = 0\n",
        "        level = 0\n",
        "        for question in questions:\n",
        "            answer = input(question.prompt)\n",
        "            answer = answer.upper()\n",
        "            if answer == question.answer:\n",
        "              score += 1\n",
        "              print('\\n\\033[1m' + 'You are right! That is amazing!', question.explaination + '\\033[0m')\n",
        "            else:\n",
        "              print ('\\n\\033[1m' + '\\nThe answer should be',  question.answer, '.' , question.explaination + '\\033[0m') \n",
        "              print ('\\nKeep it up! Try the game again!\\n')\n",
        "\n",
        "              time.sleep(1)\n",
        "              Question_Areas()\n",
        "\n",
        "        \n",
        "        if score == 2:\n",
        "            winner()\n",
        "            score_update2()\n",
        "            choice = input('Awesome!! You have completed all the questions succesfully! ')\n",
        "            return Question_Areas()\n",
        "\n",
        "\n",
        "    run_quiz(questions)\n",
        "\n",
        "Science_Question2()"
      ],
      "execution_count": null,
      "outputs": []
    },
    {
      "cell_type": "markdown",
      "metadata": {
        "id": "W1sejCIc5moH"
      },
      "source": [
        "History Questions Level 1"
      ]
    },
    {
      "cell_type": "code",
      "metadata": {
        "id": "WVgIR9tI5moH"
      },
      "source": [
        "def History_Question1():\n",
        "\n",
        "    class Question:\n",
        "        def __init__(self, prompt, answer, explaination):\n",
        "              self.prompt = prompt\n",
        "              self.answer = answer\n",
        "              self.explaination = explaination\n",
        "\n",
        "    question_prompts = [\n",
        "        \"\\nWhose death sparked World War I? \\n(A) Kaiser Wilhelm \\n(B) Archbishop Ussher \\n(C) Queen Victoria \\n(D) Archduke Franz Ferdinand\",\n",
        "        \"\\nWhich of these ships was sunk by a German submarine? \\n(A) Arizona \\n(B) Lusitania \\n(C) Titanic \\n(D) Andrea Doria\",\n",
        "\n",
        "    ]\n",
        "\n",
        "    explainations = [\n",
        "        \"\\nOn June 28, 1914, Archduke Franz (Francis) Ferdinand of Austria-Hungary was assassinated. \\nHis murder led to World War I.\",\n",
        "        \"\\nThe British passenger ship Lusitania was sunk by a German submarine off the coast of Ireland in 1915, \\ncausing great loss of life.\",\n",
        "\n",
        "    ]\n",
        "\n",
        "    questions = [\n",
        "        Question(question_prompts[0], 'D', explainations[0]),\n",
        "        Question(question_prompts[1], 'B', explainations[1]),\n",
        "\n",
        "    ]\n",
        "\n",
        "    # to shuffle the questions so everytime when player restart they will see different questions\n",
        "    random.shuffle(questions)\n",
        "\n",
        "\n",
        "    def run_quiz(questions):\n",
        "        score = 0\n",
        "        for question in questions:\n",
        "            answer = input(question.prompt)\n",
        "            answer = answer.upper()\n",
        "            if answer == question.answer:\n",
        "              score += 1\n",
        "              print('\\n\\033[1m' + 'You are right! That is amazing!', question.explaination + '\\033[0m')\n",
        "            else:\n",
        "              print ('\\n\\033[1m' + '\\nThe answer should be',  question.answer, '.' , question.explaination + '\\033[0m') \n",
        "              print ('\\nKeep it up! Try the game again!\\n')\n",
        "\n",
        "              time.sleep(1)\n",
        "\n",
        "          \n",
        "              return Question_Areas()\n",
        "\n",
        "        if score == 2:\n",
        "            winner()\n",
        "            score_update_history()\n",
        "            choice = input('Awesome!! You have completed all the questions succesfully! Choose if you want to proceed to the next level go back to the location selection. Select P to proceed and L to select new location.')\n",
        "            choice = choice.upper()\n",
        "            if choice == 'P':\n",
        "                return History_Question2()\n",
        "            elif choice == 'L':\n",
        "                return Question_Areas()\n",
        "\n",
        "    run_quiz(questions)\n",
        "\n",
        "History_Question1()"
      ],
      "execution_count": null,
      "outputs": []
    },
    {
      "cell_type": "markdown",
      "metadata": {
        "id": "jbYI4kv95moH"
      },
      "source": [
        "Music Questions Level 1"
      ]
    },
    {
      "cell_type": "code",
      "metadata": {
        "id": "n29Imaua5moH"
      },
      "source": [
        "def Music_Question1():\n",
        "\n",
        "    class Question:\n",
        "        def __init__(self, prompt, answer, explaination):\n",
        "              self.prompt = prompt\n",
        "              self.answer = answer\n",
        "              self.explaination = explaination\n",
        "\n",
        "    question_prompts = [\n",
        "        \"\\nOn which instrument was Franz Liszt an inspired performer? \\n(A) Piano \\n(B) Guitar \\n(C) Violin \\n(D) Viola\",\n",
        "        \"\\nWho wrote a piece called the 'Skittle Alley Trio'? \\n(A) Mozart \\n(B) Hadyn \\n(C) Chopin \\n(D) Beethoven\",\n",
        "\n",
        "    ]\n",
        "\n",
        "    explainations = [\n",
        "        \"\\nFranz Liszt was a virtuoso pianist and composer who was one of the most famous musicians of the 19th century. \\nHe composed many piano compositions and was an influential teacher of other composers and musicians. \\nHis music is characterized by rich harmonies and melodies. \\nAs a pianist he revolutionized the way pianos were played.\",\n",
        "        \"\\nThe German word Kegelstatt means 'a place where skittles are played', \\nakin to a duckpin bowling alley. \\nMozart wrote the piano trio on 10 sheets (19 pages) in Vienna and dated the manuscript on 5 August 1786. \",\n",
        "\n",
        "    ]\n",
        "\n",
        "    questions = [\n",
        "        Question(question_prompts[0], 'A', explainations[0]),\n",
        "        Question(question_prompts[1], 'A', explainations[1]),\n",
        "\n",
        "    ]\n",
        "\n",
        "    # to shuffle the questions so everytime when player restart they will see different questions\n",
        "    random.shuffle(questions)\n",
        "\n",
        "\n",
        "    def run_quiz(questions):\n",
        "        score = 0\n",
        "        for question in questions:\n",
        "            answer = input(question.prompt)\n",
        "            answer = answer.upper()\n",
        "            if answer == question.answer:\n",
        "              score += 1\n",
        "              print('\\n\\033[1m' + 'You are right! That is amazing!', question.explaination + '\\033[0m')\n",
        "            else:\n",
        "              print ('\\n\\033[1m' + '\\nThe answer should be',  question.answer, '.' , question.explaination + '\\033[0m') \n",
        "              print ('\\nKeep it up! Try the game again!\\n')\n",
        "\n",
        "              time.sleep(1)\n",
        "\n",
        "          \n",
        "              return Question_Areas()\n",
        "\n",
        "        if score == 2:\n",
        "            winner()\n",
        "            score_update_music()\n",
        "            choice = input('Awesome!! You have completed all the questions succesfully! Choose if you want to proceed to the next level go back to the location selection. Select P to proceed and L to select new location.')\n",
        "            choice = choice.upper()\n",
        "            if choice == 'P':\n",
        "                return Music_Question2()\n",
        "            elif choice == 'L':\n",
        "                return Question_Areas()\n",
        "\n",
        "\n",
        "    run_quiz(questions)\n",
        "\n",
        "Music_Question1()"
      ],
      "execution_count": null,
      "outputs": []
    }
  ]
}