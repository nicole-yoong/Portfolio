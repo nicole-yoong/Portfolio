{
  "nbformat": 4,
  "nbformat_minor": 0,
  "metadata": {
    "colab": {
      "provenance": [],
      "include_colab_link": true
    },
    "kernelspec": {
      "name": "python3",
      "display_name": "Python 3"
    },
    "language_info": {
      "name": "python"
    }
  },
  "cells": [
    {
      "cell_type": "markdown",
      "metadata": {
        "id": "view-in-github",
        "colab_type": "text"
      },
      "source": [
        "<a href=\"https://colab.research.google.com/github/nicole-yoong/Portfolio/blob/main/Quiz_Based_Game/Unit_Testing_Login_and_Signup.ipynb\" target=\"_parent\"><img src=\"https://colab.research.google.com/assets/colab-badge.svg\" alt=\"Open In Colab\"/></a>"
      ]
    },
    {
      "cell_type": "markdown",
      "metadata": {
        "id": "2PqXSqDIN3KX"
      },
      "source": [
        "# Action - Value Error"
      ]
    },
    {
      "cell_type": "code",
      "metadata": {
        "id": "9HzGS7mKJblY",
        "colab": {
          "base_uri": "https://localhost:8080/"
        },
        "outputId": "21e723d6-d9fc-44dd-8697-f628ceb385f9"
      },
      "source": [
        "import unittest \n",
        "\n",
        "def action(login_or_signup):\n",
        "        while True:\n",
        "            if login_or_signup == \"login\":\n",
        "                return True\n",
        "            if login_or_signup == \"signup\":\n",
        "                return True\n",
        "            else:\n",
        "                raise ValueError ('Please enter only login or signup')\n",
        "\n",
        "\n",
        "# test if value error is raised when the input is invalid \n",
        "class TestAction(unittest.TestCase):\n",
        "\n",
        "    def test_action_ok(self):\n",
        "        self.assertRaises (ValueError, action, 'nothing')\n",
        "\n",
        "      \n",
        "unittest.main(argv=[''], verbosity=2, exit=False)"
      ],
      "execution_count": null,
      "outputs": [
        {
          "output_type": "stream",
          "name": "stderr",
          "text": [
            "test_action_ok (__main__.TestAction) ... ok\n",
            "\n",
            "----------------------------------------------------------------------\n",
            "Ran 1 test in 0.005s\n",
            "\n",
            "OK\n"
          ]
        },
        {
          "output_type": "execute_result",
          "data": {
            "text/plain": [
              "<unittest.main.TestProgram at 0x7f7bf1807d50>"
            ]
          },
          "metadata": {},
          "execution_count": 1
        }
      ]
    },
    {
      "cell_type": "markdown",
      "metadata": {
        "id": "hjA4R6S7Oxy3"
      },
      "source": [
        "# Question Areas"
      ]
    },
    {
      "cell_type": "code",
      "metadata": {
        "id": "tUtKbsYYOB5i",
        "colab": {
          "base_uri": "https://localhost:8080/"
        },
        "outputId": "2c1d8269-804b-4386-8419-e818ee7b3641"
      },
      "source": [
        "import unittest \n",
        "\n",
        "def question_areas(area):\n",
        "\n",
        "      while True:\n",
        "        if area == 'A':\n",
        "          return True\n",
        "        elif area == 'B':\n",
        "          return True\n",
        "        elif area == 'C':\n",
        "          return True\n",
        "        else:\n",
        "          raise ValueError ('Please enter A, B or C')\n",
        "\n",
        "# test if the input is an invalid value \n",
        "class Testquestion_areas(unittest.TestCase):\n",
        "\n",
        "    def test_question_areas(self):\n",
        "        self.assertRaises (ValueError, question_areas, 'E')\n",
        "\n",
        "        \n",
        "unittest.main(argv=[''], verbosity=2, exit=False)\n"
      ],
      "execution_count": null,
      "outputs": [
        {
          "output_type": "stream",
          "name": "stderr",
          "text": [
            "test_question_areas (__main__.Testquestion_areas) ... ok\n",
            "\n",
            "----------------------------------------------------------------------\n",
            "Ran 1 test in 0.004s\n",
            "\n",
            "OK\n"
          ]
        },
        {
          "output_type": "execute_result",
          "data": {
            "text/plain": [
              "<unittest.main.TestProgram at 0x7f494a9da910>"
            ]
          },
          "metadata": {},
          "execution_count": 1
        }
      ]
    },
    {
      "cell_type": "markdown",
      "metadata": {
        "id": "Zis4r4jgN7S6"
      },
      "source": [
        "# Signup and Login"
      ]
    },
    {
      "cell_type": "code",
      "metadata": {
        "id": "WeWOAoHx2ai-",
        "colab": {
          "base_uri": "https://localhost:8080/"
        },
        "outputId": "5e6bf78b-d268-41a6-88de-4a54d9bf7677"
      },
      "source": [
        "import unittest \n",
        "\n",
        "def login(user1, password1):\n",
        "    Result = False\n",
        "\n",
        "    with open(\"/content/Empty Database Template.txt\", \"r\") as f:\n",
        "        for line in f:\n",
        "            if user1 in line:\n",
        "                global variables\n",
        "                variables = line\n",
        "\n",
        "                if (user1 + \",\" + password1) == variables.split(\"//Character_creation\")[0]:\n",
        "                    Result = True\n",
        "\n",
        "                if Result == True:\n",
        "                    return True\n",
        "\n",
        "                elif Result == False:\n",
        "                    return False\n",
        "  \n",
        "\n",
        "# usual case \n",
        "\n",
        "class TestLogin(unittest.TestCase):\n",
        "\n",
        "    # username and password do not exist in the txt file \n",
        "    def test_login_1(self):\n",
        "        user1 =  'jacky'\n",
        "        password1 = 'jacky123'\n",
        "        self.assertTrue(login(user1,password1))\n",
        "\n",
        "\n",
        "    # username and password exist in the txt file \n",
        "    def test_login_2(self):        \n",
        "        user1 =  'nicole'\n",
        "        password1 = 'nicole123'\n",
        "        self.assertTrue(login(user1,password1))\n",
        "\n",
        "\n",
        "unittest.main(argv=[''], verbosity=2, exit=False)\n"
      ],
      "execution_count": null,
      "outputs": [
        {
          "output_type": "stream",
          "name": "stderr",
          "text": [
            "test_login_1 (__main__.TestLogin) ... FAIL\n",
            "test_login_2 (__main__.TestLogin) ... ok\n",
            "\n",
            "======================================================================\n",
            "FAIL: test_login_1 (__main__.TestLogin)\n",
            "----------------------------------------------------------------------\n",
            "Traceback (most recent call last):\n",
            "  File \"<ipython-input-1-53fda55362d7>\", line 30, in test_login_1\n",
            "    self.assertTrue(login(user1,password1))\n",
            "AssertionError: None is not true\n",
            "\n",
            "----------------------------------------------------------------------\n",
            "Ran 2 tests in 0.008s\n",
            "\n",
            "FAILED (failures=1)\n"
          ]
        },
        {
          "output_type": "execute_result",
          "data": {
            "text/plain": [
              "<unittest.main.TestProgram at 0x7f31ccd5ec10>"
            ]
          },
          "metadata": {},
          "execution_count": 1
        }
      ]
    },
    {
      "cell_type": "code",
      "metadata": {
        "id": "lTwVv3qRE3vb",
        "colab": {
          "base_uri": "https://localhost:8080/"
        },
        "outputId": "cbb12a93-5441-47ff-bcf4-3ef91fbd9bce"
      },
      "source": [
        "import unittest\n",
        "\n",
        "def signup(user2, password2):\n",
        "\n",
        "          with open('/content/Empty Database Template.txt', 'r') as f:\n",
        "            \n",
        "                  lines = f.read()\n",
        "\n",
        "                  if user2 in lines:\n",
        "                      print ('Username exists. Choose another username.')\n",
        "                      return False\n",
        "                  else:\n",
        "                    print(\"Successful signup. \")\n",
        "                    return True\n",
        "\n",
        "\n",
        "class TestSignup(unittest.TestCase):\n",
        "\n",
        "    # username and password already exist in the txt file for signup\n",
        "    def test_signup_1(self):\n",
        "        user2 =  'nicole'\n",
        "        password2 = 'nicole123'\n",
        "        self.assertTrue(signup(user2,password2))\n",
        "\n",
        "    # username and password do not exist in the txt file for signup\n",
        "    def test_signup_2(self):\n",
        "        user2 =  'monica'\n",
        "        password2 = 'monica123'\n",
        "        self.assertTrue(signup(user2,password2))\n",
        "\n",
        "\n",
        "unittest.main(argv=[''], verbosity=2, exit=False)"
      ],
      "execution_count": null,
      "outputs": [
        {
          "output_type": "stream",
          "name": "stderr",
          "text": [
            "test_login_1 (__main__.TestLogin) ... FAIL\n",
            "test_login_2 (__main__.TestLogin) ... ok\n",
            "test_signup_1 (__main__.TestSignup) ... FAIL\n",
            "test_signup_2 (__main__.TestSignup) ... ok\n",
            "test_question_areas (__main__.Testquestion_areas) ... "
          ]
        },
        {
          "output_type": "stream",
          "name": "stdout",
          "text": [
            "Username exists. Choose another username.\n",
            "Successful signup. \n"
          ]
        },
        {
          "output_type": "stream",
          "name": "stderr",
          "text": [
            "ok\n",
            "\n",
            "======================================================================\n",
            "FAIL: test_login_1 (__main__.TestLogin)\n",
            "----------------------------------------------------------------------\n",
            "Traceback (most recent call last):\n",
            "  File \"<ipython-input-2-53fda55362d7>\", line 30, in test_login_1\n",
            "    self.assertTrue(login(user1,password1))\n",
            "AssertionError: None is not true\n",
            "\n",
            "======================================================================\n",
            "FAIL: test_signup_1 (__main__.TestSignup)\n",
            "----------------------------------------------------------------------\n",
            "Traceback (most recent call last):\n",
            "  File \"<ipython-input-3-3d751176c90d>\", line 23, in test_signup_1\n",
            "    self.assertTrue(signup(user2,password2))\n",
            "AssertionError: False is not true\n",
            "\n",
            "----------------------------------------------------------------------\n",
            "Ran 5 tests in 0.014s\n",
            "\n",
            "FAILED (failures=2)\n"
          ]
        },
        {
          "output_type": "execute_result",
          "data": {
            "text/plain": [
              "<unittest.main.TestProgram at 0x7f494d930610>"
            ]
          },
          "metadata": {},
          "execution_count": 3
        }
      ]
    },
    {
      "cell_type": "markdown",
      "source": [
        "# Save and load progress "
      ],
      "metadata": {
        "id": "FRf2Ua1LDbw-"
      }
    },
    {
      "cell_type": "code",
      "source": [
        "import unittest\n",
        "\n",
        "def score_check():\n",
        "  \n",
        "    # update score in the txt file \n",
        "    def score_update():\n",
        "            \n",
        "            with open('/content/Empty Database Template.txt', 'a+') as f:\n",
        "                  lastlevel = variables.split(\"//Game_level,\")[-1].split(',')[0]\n",
        "                  global replacement\n",
        "                  replacement = variables.replace(lastlevel,'level_2',1)\n",
        "                  f.write(replacement)\n",
        "                  f.close()\n",
        "\n",
        "    score_update()            \n",
        "\n",
        "    # check if the score is updated in the txt file successfully \n",
        "    def score_update_check():\n",
        "          \n",
        "          with open('/content/Empty Database Template.txt', 'r') as f:\n",
        "                lines = f.readlines()\n",
        "                if replacement in lines:\n",
        "                  return True\n",
        "                else:\n",
        "                  return False\n",
        "\n",
        "    score_update_check()         \n",
        "\n",
        "score_check() \n",
        "\n"
      ],
      "metadata": {
        "id": "ZortySnZPehG"
      },
      "execution_count": null,
      "outputs": []
    },
    {
      "cell_type": "code",
      "source": [
        "# test if the VARIABLES has been successfully replaced by the REPLACEMENT to avoid duplication of the information\n",
        "\n",
        "class TestScore_Update(unittest.TestCase):\n",
        "\n",
        "    def test_score_update(self):\n",
        "        expected_line = replacement\n",
        "        f = open('/content/Empty Database Template.txt', 'r')\n",
        "        content = f.readlines()\n",
        "        self.assertIn(expected_line, content)\n",
        "\n",
        "    def test_user_info_duplication(self):\n",
        "        original_line = variables\n",
        "        f = open('/content/Empty Database Template.txt', 'r')\n",
        "        content = f.readlines()\n",
        "        self.assertNotIn(original_line, content)\n",
        "\n",
        "\n",
        "unittest.main(argv=[''], verbosity=2, exit=False)"
      ],
      "metadata": {
        "colab": {
          "base_uri": "https://localhost:8080/"
        },
        "id": "kAmDXLaYabpC",
        "outputId": "3873af6f-a31c-4fd7-cd62-3eefe9cb65aa"
      },
      "execution_count": null,
      "outputs": [
        {
          "output_type": "stream",
          "name": "stderr",
          "text": [
            "test_login_1 (__main__.TestLogin) ... FAIL\n",
            "test_login_2 (__main__.TestLogin) ... ok\n",
            "test_score_update (__main__.TestScore_Update) ... ok\n",
            "test_user_info_duplication (__main__.TestScore_Update) ... FAIL\n",
            "\n",
            "======================================================================\n",
            "FAIL: test_login_1 (__main__.TestLogin)\n",
            "----------------------------------------------------------------------\n",
            "Traceback (most recent call last):\n",
            "  File \"<ipython-input-1-53fda55362d7>\", line 30, in test_login_1\n",
            "    self.assertTrue(login(user1,password1))\n",
            "AssertionError: None is not true\n",
            "\n",
            "======================================================================\n",
            "FAIL: test_user_info_duplication (__main__.TestScore_Update)\n",
            "----------------------------------------------------------------------\n",
            "Traceback (most recent call last):\n",
            "  File \"<ipython-input-5-726f75e358db>\", line 15, in test_user_info_duplication\n",
            "    self.assertNotIn(original_line, content)\n",
            "AssertionError: 'nicole,nicole123//Character_creation nicolelittle,12/12/2020,f,a//Game_level,{},{},{}\\n' unexpectedly found in ['nicole,nicole123//Character_creation nicolelittle,12/12/2020,f,a//Game_level,{},{},{}\\n', '\\n', 'ryan,ryan123//Character_creation littleryan,12/12/2001,m,a//Game_level,{},{},{}\\n', '\\n', 'nicole,nicole123//Character_creation nicolelittle,12/12/2020,f,a//Game_level,level_2,{},{}\\n']\n",
            "\n",
            "----------------------------------------------------------------------\n",
            "Ran 4 tests in 0.021s\n",
            "\n",
            "FAILED (failures=2)\n"
          ]
        },
        {
          "output_type": "execute_result",
          "data": {
            "text/plain": [
              "<unittest.main.TestProgram at 0x7f31c9271fd0>"
            ]
          },
          "metadata": {},
          "execution_count": 5
        }
      ]
    }
  ]
}